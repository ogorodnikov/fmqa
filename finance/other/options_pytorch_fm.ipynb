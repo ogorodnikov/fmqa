{
 "cells": [
  {
   "cell_type": "code",
   "execution_count": 1,
   "id": "09c0fdf2-9f6f-43fa-9236-70bc30cedc17",
   "metadata": {},
   "outputs": [],
   "source": [
    "import numpy as np\n",
    "import pandas as pd\n",
    "\n",
    "from matplotlib import pyplot as plt\n",
    "\n",
    "from sklearn.metrics import mean_squared_error\n",
    "\n",
    "import time\n",
    "import tqdm\n",
    "import torch\n",
    "\n",
    "from torch.utils.data import DataLoader\n",
    "\n",
    "%run models/models.ipynb\n",
    "\n",
    "plt.style.use('dark_background')"
   ]
  },
  {
   "cell_type": "markdown",
   "id": "25c6c243-6531-4b5f-aa45-de6f607bc686",
   "metadata": {
    "tags": []
   },
   "source": [
    "### Datasets"
   ]
  },
  {
   "cell_type": "code",
   "execution_count": 2,
   "id": "9d981ab9-fc8a-43f9-a061-c7aa3f9d467e",
   "metadata": {},
   "outputs": [],
   "source": [
    "OPTIONS_DATASET_PATH = 'simulated_prices/option_prices_medium.xlsx'\n",
    "\n",
    "# OPTION_PROBABILITIES_PATH = 'simulated_prices/option_probabilities_100k.xlsx'\n",
    "OPTION_PROBABILITIES_PATH = 'simulated_prices/complete_option_probabilities_10k.csv'"
   ]
  },
  {
   "cell_type": "code",
   "execution_count": 3,
   "id": "4f523748-578b-4e8c-a819-269c577c4b99",
   "metadata": {
    "tags": []
   },
   "outputs": [],
   "source": [
    "class OptionsDataset(torch.utils.data.Dataset):\n",
    "\n",
    "    def __init__(self, dataset_path):\n",
    "        \n",
    "        x_column_names = [\n",
    "            'initial_stock_price', \n",
    "            # 'strike_price', \n",
    "            # 'time_to_maturity',\n",
    "            # 'risk_free_interest_rate',\n",
    "            # 'dividend_rate',\n",
    "            'volatility',\n",
    "            # 'time_steps_count',\n",
    "            # 'paths_count'\n",
    "        ]\n",
    "\n",
    "        data = pd.read_excel(dataset_path)\n",
    "        \n",
    "        self.data = data\n",
    "\n",
    "        data.volatility = data.volatility * 100\n",
    "        \n",
    "        self.fields = data[x_column_names].to_numpy()\n",
    "        self.target = data['option_price'].to_numpy()\n",
    "        \n",
    "        self.embedding_dimensions = np.max(self.fields, axis=0).astype(int) + 1\n",
    "        \n",
    "        \n",
    "    def __len__(self):\n",
    "        \n",
    "        return self.fields.shape[0]\n",
    "    \n",
    "\n",
    "    def __getitem__(self, index):\n",
    "        \n",
    "        fields = self.fields[index]\n",
    "        target = self.target[index]\n",
    "        \n",
    "        return fields, target\n",
    "    \n",
    "    \n",
    "    def plot(self):\n",
    "\n",
    "        initial_stock_prices = self.data['initial_stock_price'].to_numpy().reshape(-1, 1)\n",
    "        option_prices = self.data['option_price'].to_numpy()\n",
    "\n",
    "        plt.scatter(initial_stock_prices, option_prices, s=0.01)\n",
    "        plt.xlabel(\"Initial stock price\")\n",
    "        plt.ylabel(\"Option price\");"
   ]
  },
  {
   "cell_type": "code",
   "execution_count": 4,
   "id": "0c04d7f4-8825-451a-8ea1-6080f53e9890",
   "metadata": {},
   "outputs": [],
   "source": [
    "class BinaryOptionsDataset(torch.utils.data.Dataset):\n",
    "\n",
    "    def __init__(self, dataset_path):\n",
    "        \n",
    "        data = pd.read_excel(dataset_path)\n",
    "        \n",
    "        data.volatility = data.volatility * 100\n",
    "        \n",
    "        # Binary\n",
    "        \n",
    "        initial_prices = data['initial_stock_price'].to_numpy()\n",
    "        volatilities = data['volatility'].to_numpy()\n",
    "        \n",
    "        binary_initial_prices = np.array([self.encode_to_bits(initial_price) \n",
    "                                          for initial_price in initial_prices])\n",
    "        \n",
    "        binary_volatilities = np.array([self.encode_to_bits(volatility, dtype='>i1') \n",
    "                                        for volatility in volatilities])\n",
    "        \n",
    "        binary_fields = np.hstack((binary_initial_prices, binary_volatilities))\n",
    "        \n",
    "        self.data = data        \n",
    "        \n",
    "        self.fields = binary_fields\n",
    "        self.target = data['option_price'].to_numpy()\n",
    "        \n",
    "        self.embedding_dimensions = np.max(self.fields, axis=0).astype(int) + 1       \n",
    "        \n",
    "        \n",
    "    def __len__(self):\n",
    "        \n",
    "        return self.fields.shape[0]\n",
    "    \n",
    "\n",
    "    def __getitem__(self, index):\n",
    "        \n",
    "        fields = self.fields[index]\n",
    "        target = self.target[index]\n",
    "        \n",
    "        return fields, target\n",
    "    \n",
    "\n",
    "    def encode_to_bits(self, number, dtype='>f'):\n",
    "    \n",
    "        number_bytes = np.array([number], dtype=dtype)\n",
    "\n",
    "        integer_view = number_bytes.view('uint8')\n",
    "\n",
    "        bits = np.unpackbits(integer_view)\n",
    "\n",
    "        return bits  \n",
    "    \n",
    "    \n",
    "    def plot(self):\n",
    "\n",
    "        initial_stock_prices = self.data['initial_stock_price'].to_numpy().reshape(-1, 1)\n",
    "        option_prices = self.data['option_price'].to_numpy()\n",
    "\n",
    "        plt.scatter(initial_stock_prices, option_prices, s=0.01)\n",
    "        plt.xlabel(\"Initial stock price\")\n",
    "        plt.ylabel(\"Option price\");"
   ]
  },
  {
   "cell_type": "code",
   "execution_count": 5,
   "id": "dd49be19-585a-4c24-88cf-9800e8f181ad",
   "metadata": {},
   "outputs": [],
   "source": [
    "class OptionProbabilitiesDataset(torch.utils.data.Dataset):\n",
    "\n",
    "    def __init__(self, dataset_path, binary=True):\n",
    "        \n",
    "        pd.read_excel(dataset_path)\n",
    "\n",
    "        data.volatility = data.volatility * 100\n",
    "\n",
    "        y_column = 'probability'\n",
    "        x_columns = np.setdiff1d(data.columns, y_column)\n",
    "        \n",
    "        encoding_formats = {'default': '>f', 'volatility': '>i1'}\n",
    "        \n",
    "        default_format = encoding_formats['default']\n",
    "        \n",
    "        # Fields\n",
    "        \n",
    "        fields_list = []\n",
    "        \n",
    "        for column_name in x_columns:\n",
    "            \n",
    "            print(\"column_name:\", column_name) \n",
    "            \n",
    "            column = data[column_name]\n",
    "            \n",
    "            if binary:               \n",
    "                \n",
    "                encoding_format = encoding_formats.get(column_name, default_format)\n",
    "                \n",
    "                encoded_values = []\n",
    "                \n",
    "                for value in column:\n",
    "                    \n",
    "                    encoded_value = self.encode_to_bits(value, dtype=encoding_format) \n",
    "                    \n",
    "                    encoded_values.append(encoded_value)\n",
    "                    \n",
    "                column = np.array(encoded_values)\n",
    "            \n",
    "            fields_list.append(column)\n",
    "        \n",
    "        fields = np.hstack(fields_list)\n",
    "              \n",
    "        self.data = data        \n",
    "        \n",
    "        self.fields = fields\n",
    "        self.target = data[y_column].to_numpy()\n",
    "        \n",
    "        self.embedding_dimensions = np.max(self.fields, axis=0).astype(int) + 1       \n",
    "        \n",
    "        \n",
    "    def __len__(self):\n",
    "        \n",
    "        return self.fields.shape[0]\n",
    "    \n",
    "\n",
    "    def __getitem__(self, index):\n",
    "        \n",
    "        fields = self.fields[index]\n",
    "        target = self.target[index]\n",
    "        \n",
    "        return fields, target\n",
    "    \n",
    "\n",
    "    def encode_to_bits(self, number, dtype='>f'):\n",
    "    \n",
    "        number_bytes = np.array([number], dtype=dtype)\n",
    "\n",
    "        integer_view = number_bytes.view('uint8')\n",
    "\n",
    "        bits = np.unpackbits(integer_view)\n",
    "\n",
    "        return bits  \n",
    "    \n",
    "    \n",
    "    def plot(self):\n",
    "\n",
    "        initial_stock_prices = self.data['initial_stock_price'].to_numpy().reshape(-1, 1)\n",
    "        option_prices = self.data['option_price'].to_numpy()\n",
    "\n",
    "        plt.scatter(initial_stock_prices, option_prices, s=0.01)\n",
    "        plt.xlabel(\"Initial stock price\")\n",
    "        plt.ylabel(\"Option price\");"
   ]
  },
  {
   "cell_type": "code",
   "execution_count": 6,
   "id": "9e7d85b5-3c91-4367-9caa-2a6bebbd7b65",
   "metadata": {},
   "outputs": [],
   "source": [
    "class ChunkDataset(torch.utils.data.Dataset):\n",
    "\n",
    "    def __init__(self, dataset_path, binary=True, scheme=None, \n",
    "                 chunk_size = 10000, dataset_size = 101 * 101 * 10000):\n",
    "        \n",
    "        # Scheme\n",
    "        \n",
    "        default_scheme = {'target_column': 'probability',\n",
    "                          'field_columns':\n",
    "                              {'initial_stock_price': ('>f', 32),\n",
    "                               'volatility': ('>i1', 8),\n",
    "                               'option_price': ('>f', 32)}}                          \n",
    "        \n",
    "        scheme = default_scheme if scheme is None else scheme\n",
    "\n",
    "        target_column = scheme['target_column']\n",
    "        fields_scheme = scheme['field_columns']\n",
    "        \n",
    "        \n",
    "        # Data\n",
    "        \n",
    "        print(\"Reading data\")        \n",
    "\n",
    "        chunks_count = dataset_size // chunk_size        \n",
    "              \n",
    "        dataset_iterator = pd.read_csv(dataset_path, iterator=True, chunksize=chunk_size)\n",
    "        \n",
    "        chunk_tracker = tqdm.tqdm(dataset_iterator,\n",
    "                                  desc=f\"Loading\",\n",
    "                                  ncols=110,\n",
    "                                  unit='chunk',\n",
    "                                  total=chunks_count)                          \n",
    "        # Loading\n",
    "        \n",
    "        if binary:            \n",
    "            fields_count = sum(bit_count for encoding_format, bit_count in fields_scheme.values())\n",
    "            fields_dtype = 'int8'\n",
    "        else:            \n",
    "            fields_count = len(scheme)\n",
    "            fields_dtype = float\n",
    "        \n",
    "        self.fields = np.zeros(shape=(dataset_size, fields_count), dtype=fields_dtype)\n",
    "        self.targets = np.zeros(shape=dataset_size)\n",
    "        \n",
    "        row_offset = 0\n",
    "\n",
    "        for chunk in chunk_tracker:\n",
    "\n",
    "            column_offset = 0\n",
    "\n",
    "            for column_name, (encoding_format, column_size) in fields_scheme.items():\n",
    "                \n",
    "                # if column_name == 'initial_stock_price':                    \n",
    "                #     print(chunk[column_name])\n",
    "\n",
    "                if binary:\n",
    "                    column = self.encode_to_bits(chunk[column_name], \n",
    "                                                 dtype=encoding_format, \n",
    "                                                 bits_count=column_size)                        \n",
    "                else:                        \n",
    "                    column = chunk[column_name].to_numpy().reshape(-1, 1)                        \n",
    "                    column_size = 1                        \n",
    "\n",
    "                self.fields[row_offset : row_offset + chunk_size, \n",
    "                            column_offset : column_offset + column_size] = column\n",
    "\n",
    "                column_offset += column_size\n",
    "                \n",
    "            self.targets[row_offset : row_offset + chunk_size] = chunk[target_column]\n",
    "\n",
    "            row_offset += chunk_size\n",
    "       \n",
    "        self.embedding_dimensions = np.max(self.fields, axis=0).astype(int) + 1\n",
    "        \n",
    "        print(\"fields.shape:\", self.fields.shape)\n",
    "        print(\"targets.shape:\", self.targets.shape) \n",
    "        print(\"embedding_dimensions:\", self.embedding_dimensions)     \n",
    "        \n",
    "        \n",
    "    def __len__(self):\n",
    "        \n",
    "        return self.fields.shape[0]\n",
    "    \n",
    "\n",
    "    def __getitem__(self, index):\n",
    "        \n",
    "        fields = self.fields[index]\n",
    "        target = self.target[index]\n",
    "        \n",
    "        return fields, target\n",
    "    \n",
    "\n",
    "    def encode_to_bits(self, inputs, dtype='>f', bits_count=32):\n",
    "    \n",
    "        number_bytes = np.array([inputs], dtype=dtype)\n",
    "\n",
    "        integer_view = number_bytes.view('uint8')\n",
    "\n",
    "        bits_vector = np.unpackbits(integer_view)\n",
    "        \n",
    "        bits = bits_vector.reshape(-1, bits_count)\n",
    "\n",
    "        return bits"
   ]
  },
  {
   "cell_type": "code",
   "execution_count": 7,
   "id": "bf3f4f01-d4fa-42bd-80af-b263da4a0784",
   "metadata": {},
   "outputs": [
    {
     "name": "stdout",
     "output_type": "stream",
     "text": [
      "Reading data\n"
     ]
    },
    {
     "name": "stderr",
     "output_type": "stream",
     "text": [
      "Loading: 100%|██████████████████████████████████████████████████████| 10201/10201 [00:57<00:00, 178.25chunk/s]\n"
     ]
    },
    {
     "name": "stdout",
     "output_type": "stream",
     "text": [
      "fields.shape: (102010000, 72)\n",
      "targets.shape: (102010000,)\n",
      "embedding_dimensions: [1 2 1 1 1 2 2 2 2 2 2 2 2 2 2 2 2 2 2 2 1 1 1 1 1 1 1 1 1 1 1 1 1 1 1 1 1\n",
      " 1 1 2 2 2 2 2 2 2 2 2 2 2 2 2 2 2 2 2 2 2 2 2 2 2 2 2 2 2 2 2 2 2 2 2]\n"
     ]
    }
   ],
   "source": [
    "# OPTION_PROBABILITIES_PATH = 'simulated_prices/option_probabilities_100k.xlsx'\n",
    "OPTION_PROBABILITIES_PATH = 'simulated_prices/complete_option_probabilities_10k.csv'\n",
    "\n",
    "\n",
    "d = ChunkDataset(OPTION_PROBABILITIES_PATH, binary=True)"
   ]
  },
  {
   "cell_type": "code",
   "execution_count": 8,
   "id": "80543802-d7bd-41cf-a1eb-fcb98f39ef11",
   "metadata": {},
   "outputs": [
    {
     "data": {
      "text/plain": [
       "array([[0, 1, 0, ..., 0, 1, 0],\n",
       "       [0, 1, 0, ..., 0, 0, 0],\n",
       "       [0, 1, 0, ..., 0, 0, 1],\n",
       "       ...,\n",
       "       [0, 1, 0, ..., 1, 0, 0],\n",
       "       [0, 1, 0, ..., 0, 1, 0],\n",
       "       [0, 1, 0, ..., 0, 0, 1]], dtype=int8)"
      ]
     },
     "execution_count": 8,
     "metadata": {},
     "output_type": "execute_result"
    }
   ],
   "source": [
    "d.fields[10000000:10000100]"
   ]
  },
  {
   "cell_type": "markdown",
   "id": "a57ddb36-3e1c-454f-8210-241e5c0cabc3",
   "metadata": {
    "tags": []
   },
   "source": [
    "### Option Prices - 3D Plot"
   ]
  },
  {
   "cell_type": "code",
   "execution_count": 57,
   "id": "4acd16b4-c64b-41f7-b6f8-2bbbd36e0745",
   "metadata": {
    "tags": []
   },
   "outputs": [],
   "source": [
    "from matplotlib import animation\n",
    "from matplotlib.animation import PillowWriter\n",
    "\n",
    "from IPython.display import HTML   \n",
    "\n",
    "\n",
    "class OptionPricesPlot:\n",
    "\n",
    "    def __init__(self,\n",
    "                 elevation=10,\n",
    "                 initial_azimuth=230):\n",
    "        \n",
    "        self.elevation = elevation\n",
    "        self.initial_azimuth = initial_azimuth\n",
    "        \n",
    "\n",
    "    def plot(self, \n",
    "             plot_predictions=True, \n",
    "             plot_target=True):\n",
    "                    \n",
    "        self.calculate_grids() \n",
    "\n",
    "        figure = plt.figure(figsize=(5, 5))\n",
    "\n",
    "        ax = figure.add_subplot(1, 1, 1, \n",
    "                                projection='3d', \n",
    "                                computed_zorder=False)\n",
    "\n",
    "        if plot_predictions and 'predictions' in globals():\n",
    "\n",
    "            predicted_surface = ax.plot_surface(self.initial_stock_prices_grid,\n",
    "                                                self.volatilities_grid,\n",
    "                                                self.predicted_option_prices_grid,\n",
    "                                                # cmap='copper',\n",
    "                                                color='indigo',\n",
    "                                                linewidth=30,\n",
    "                                                label='Predicted option prices',\n",
    "                                                # alpha=1.0,\n",
    "                                                zorder=500,\n",
    "                                                antialiased=False)\n",
    "\n",
    "        if plot_target:\n",
    "\n",
    "            target_surface = ax.plot_surface(self.initial_stock_prices_grid,\n",
    "                                             self.volatilities_grid,\n",
    "                                             self.target_option_prices_grid,\n",
    "                                             cmap='plasma',\n",
    "                                             linewidth=30, \n",
    "                                             label='Target option prices',\n",
    "                                             alpha=0.5,\n",
    "                                             zorder=1000,\n",
    "                                             antialiased=False)\n",
    "\n",
    "        ax.view_init(elev=self.elevation, azim=self.initial_azimuth)\n",
    "        \n",
    "        ax.zaxis.set_rotate_label(False)\n",
    "\n",
    "        ax.set_xlabel('Initial Stock Price')\n",
    "        ax.set_ylabel('Volatility')\n",
    "        ax.set_zlabel('Option Price', rotation=90)\n",
    "        \n",
    "        # figure.patch.set_facecolor('black')\n",
    "        figure.patch.set_facecolor(ax.patch.get_facecolor())\n",
    "        \n",
    "        self.figure = figure\n",
    "        self.ax = ax\n",
    "        \n",
    " \n",
    "    def animation_step(self, frame_index):\n",
    "\n",
    "        azimuth = self.initial_azimuth + self.azimuth_step * frame_index\n",
    "\n",
    "        self.ax.view_init(elev=self.elevation, azim=azimuth)\n",
    "\n",
    "        \n",
    "    def render_animation(self,\n",
    "                         frames_count=12,\n",
    "                         rotation_period=10):\n",
    "        \n",
    "        self.frames_count = frames_count\n",
    "        self.rotation_period = rotation_period\n",
    "        \n",
    "        self.azimuth_step = 360 // frames_count\n",
    "        self.frames_per_second = frames_count // rotation_period\n",
    "\n",
    "        self.animation_model = animation.FuncAnimation(self.figure, \n",
    "                                                       self.animation_step, \n",
    "                                                       frames=self.frames_count, \n",
    "                                                       interval=50)\n",
    "\n",
    "        rendered_animation = HTML(self.animation_model.to_jshtml(fps=self.frames_per_second))\n",
    "\n",
    "        return rendered_animation\n",
    "\n",
    "\n",
    "    def save_to_gif(self, path):\n",
    "\n",
    "        self.animation_model.save(path, writer='pillow', fps=self.frames_per_second, dpi=100)\n",
    "        \n",
    "\n",
    "    def calculate_grids(self):\n",
    "    \n",
    "        # Data\n",
    "        \n",
    "        data = dataset.data\n",
    "\n",
    "        initial_stock_prices = data.initial_stock_price.to_numpy()\n",
    "        volatilities = data.volatility.to_numpy()\n",
    "        option_prices= data.option_price.to_numpy()\n",
    "\n",
    "        # Grids\n",
    "\n",
    "        grid_side_size = np.sqrt(initial_stock_prices.shape[0]).astype(int)\n",
    "\n",
    "        self.initial_stock_prices_grid = initial_stock_prices.reshape((grid_side_size, grid_side_size))\n",
    "        self.volatilities_grid = volatilities.reshape((grid_side_size, grid_side_size))\n",
    "\n",
    "        self.target_option_prices_grid = option_prices.reshape(-1, grid_side_size)\n",
    "        \n",
    "        if 'predictions' in globals():\n",
    "        \n",
    "            self.predicted_option_prices_grid = predictions.detach().reshape(-1, grid_side_size)\n",
    "\n",
    "        # print(self.initial_stock_prices_grid, \n",
    "        #       self.volatilities_grid, \n",
    "        #       self.target_option_prices_grid, \n",
    "        #       self.predicted_option_prices_grid)"
   ]
  },
  {
   "cell_type": "markdown",
   "id": "136df21b-b9cb-4173-a814-cffdb1468ce1",
   "metadata": {
    "tags": []
   },
   "source": [
    "### Option Prices - Trainers"
   ]
  },
  {
   "cell_type": "code",
   "execution_count": 58,
   "id": "a5439125-5c94-473f-a0dc-d02f6a46f65a",
   "metadata": {
    "tags": []
   },
   "outputs": [],
   "source": [
    "class Trainer:\n",
    "\n",
    "    def __init__(self, dataset, model, criterion, metric, optimizer):\n",
    "        \n",
    "        self.dataset = dataset\n",
    "        self.model = model\n",
    "        self.criterion = criterion\n",
    "        self.metric = metric\n",
    "        self.optimizer = optimizer        \n",
    "        \n",
    "        self.fields = torch.tensor(dataset.fields, dtype=int)\n",
    "        self.target = torch.tensor(dataset.target, dtype=int)\n",
    "        \n",
    "        self.plot = OptionPricesPlot()\n",
    "        \n",
    "        \n",
    "    def one_step(self):\n",
    "\n",
    "        predictions = self.model(self.fields)\n",
    "\n",
    "        loss = self.criterion(predictions, self.target.float())\n",
    "\n",
    "        self.model.zero_grad()\n",
    "        \n",
    "        loss.backward()\n",
    "        \n",
    "        self.optimizer.step()\n",
    "\n",
    "        return predictions, loss\n",
    "    \n",
    "    \n",
    "    def train(self, epochs=10):\n",
    "    \n",
    "        self.model.train()\n",
    "\n",
    "        for epoch in range(epochs):\n",
    "            \n",
    "            predictions, loss = self.one_step()\n",
    "            \n",
    "        print('loss:', loss)\n",
    "        \n",
    "        return predictions"
   ]
  },
  {
   "cell_type": "code",
   "execution_count": 59,
   "id": "22b7f1fd-d1ec-4a22-bdb2-1f7d99a74325",
   "metadata": {
    "tags": []
   },
   "outputs": [],
   "source": [
    "class Splitter:\n",
    "    \n",
    "    def __init__(self, dataset, shuffle=None, \n",
    "                 train_rate=0.8, valid_rate=0.1, \n",
    "                 batch_size=2048, dataloader_workers_count=8,\n",
    "                 epochs_logging_interval=1):\n",
    "             \n",
    "        self.epochs_logging_interval = epochs_logging_interval\n",
    "        \n",
    "        dataset_length = len(dataset)\n",
    "\n",
    "        train_length = int(dataset_length * train_rate)\n",
    "        valid_length = int(dataset_length * valid_rate)\n",
    "\n",
    "        test_length = dataset_length - train_length - valid_length\n",
    "\n",
    "        train_dataset, valid_dataset, test_dataset = torch.utils.data.random_split(\n",
    "            dataset, \n",
    "            (train_length, valid_length, test_length)\n",
    "        )\n",
    "\n",
    "        self.train_data_loader = DataLoader(train_dataset,\n",
    "                                            shuffle=shuffle,\n",
    "                                            batch_size=batch_size, \n",
    "                                            num_workers=dataloader_workers_count)\n",
    "        \n",
    "        self.valid_data_loader = DataLoader(valid_dataset,\n",
    "                                            shuffle=shuffle,                                        \n",
    "                                            batch_size=batch_size, \n",
    "                                            num_workers=dataloader_workers_count)\n",
    "        \n",
    "        self.test_data_loader = DataLoader(test_dataset,\n",
    "                                           shuffle=shuffle,\n",
    "                                           batch_size=batch_size,\n",
    "                                           num_workers=dataloader_workers_count)\n",
    "        \n",
    "        print(\"dataset_length:\", dataset_length)\n",
    "        print(\"train_length:\", train_length)\n",
    "        print(\"valid_length:\", valid_length)\n",
    "        print(\"test_length:\", test_length)\n",
    "        \n",
    "    \n",
    "class SplitTrainer:\n",
    "\n",
    "    def __init__(self, \n",
    "                 # dataset, \n",
    "                 model, criterion, metric, optimizer, splitter, device='cpu'):\n",
    "        \n",
    "        self.device = torch.device(device)\n",
    "        \n",
    "        self.model = model.to(device)\n",
    "        self.criterion = criterion\n",
    "        self.metric = metric\n",
    "        self.optimizer = optimizer\n",
    "        self.splitter = splitter\n",
    "        \n",
    "        self.train_data_loader = self.splitter.train_data_loader\n",
    "        self.valid_data_loader = self.splitter.valid_data_loader\n",
    "        self.test_data_loader = self.splitter.test_data_loader\n",
    "        \n",
    "        self.scores = []\n",
    "        \n",
    "        self.epochs_logging_interval = self.splitter.epochs_logging_interval\n",
    "        \n",
    "        self.plot = OptionPricesPlot()\n",
    "        \n",
    "        # TODO: EarlyStopper\n",
    "    \n",
    "    \n",
    "    def fit(self, epochs=10):\n",
    "    \n",
    "        for epoch in range(epochs):\n",
    "            \n",
    "            epoch_start_time = time.time()\n",
    "            \n",
    "            train_batch_tracker = tqdm.tqdm(\n",
    "                self.train_data_loader,\n",
    "                desc=f\"Epoch: {epoch + 1}/{epochs}\",\n",
    "                ncols=110,\n",
    "                unit=' batches',\n",
    "                # smoothing=0,\n",
    "                # mininterval=1.0\n",
    "            )            \n",
    "            \n",
    "            self.train(train_batch_tracker)\n",
    "            \n",
    "            score, _ = self.test(self.valid_data_loader)\n",
    "            \n",
    "            self.scores.append(score)\n",
    "            \n",
    "            epoch_duration = time.time() - epoch_start_time\n",
    "            \n",
    "            print(f\"Validation {self.metric.__name__}: {score:.02f}, \"\n",
    "                  f\"Duration: {epoch_duration:.02f} seconds\") \n",
    "            \n",
    "        total_score, total_predictions = self.test(self.test_data_loader)\n",
    "        \n",
    "        self.predictions = total_predictions\n",
    "        \n",
    "        print(f\"\\nTotal - Test {metric.__name__}: {total_score:.02f}\")\n",
    "    \n",
    "    \n",
    "    def train(self, train_batch_tracker):\n",
    "\n",
    "        self.model.train()\n",
    "\n",
    "        total_loss = 0\n",
    "\n",
    "        for batch, (fields, target) in enumerate(train_batch_tracker):\n",
    "\n",
    "            fields = fields.to(self.device).int()\n",
    "            target = target.to(self.device)      \n",
    "            \n",
    "            predictions = self.model(fields)\n",
    "\n",
    "            loss = self.criterion(predictions, target.float())\n",
    "\n",
    "            self.model.zero_grad()\n",
    "\n",
    "            loss.backward()\n",
    "\n",
    "            self.optimizer.step()\n",
    "\n",
    "            total_loss += loss.item()\n",
    "\n",
    "            if not (batch + 1) % self.epochs_logging_interval:\n",
    "\n",
    "                loss = total_loss / self.epochs_logging_interval\n",
    "\n",
    "                train_batch_tracker.set_postfix(loss=loss)\n",
    "\n",
    "                total_loss = 0\n",
    "                \n",
    "                \n",
    "    def test(self, data_loader):\n",
    "        \n",
    "        self.model.eval()\n",
    "    \n",
    "        targets = []\n",
    "        predictions = []\n",
    "\n",
    "        with torch.no_grad():\n",
    "\n",
    "            for fields, target in data_loader:\n",
    "\n",
    "                fields = fields.to(self.device).int()\n",
    "                target = target.to(self.device)\n",
    "\n",
    "                prediction = self.model(fields)\n",
    "\n",
    "                targets.extend(target.tolist())\n",
    "                predictions.extend(prediction.tolist())\n",
    "\n",
    "        score = self.metric(targets, predictions)\n",
    "        \n",
    "        return score, predictions"
   ]
  },
  {
   "cell_type": "markdown",
   "id": "fef34a28-3404-4b1b-9432-7d8824af052d",
   "metadata": {
    "tags": []
   },
   "source": [
    "### Options - Get Weights"
   ]
  },
  {
   "cell_type": "code",
   "execution_count": 60,
   "id": "d17c0136-9ee2-432a-85bb-23443f991ed2",
   "metadata": {},
   "outputs": [],
   "source": [
    "LEARNING_RATE = 0.001\n",
    "WEIGHT_DECAY = 1e-6\n",
    "\n",
    "\n",
    "# Data\n",
    "\n",
    "dataset = OptionProbabilitiesDataset(OPTION_PROBABILITIES_PATH)\n",
    "\n",
    "embedding_dimensions = dataset.embedding_dimensions\n",
    "\n",
    "# Model\n",
    "\n",
    "%run models/models.ipynb\n",
    "\n",
    "model = CustomFactorizationMachine(embedding_dimensions, embed_dim=16)\n",
    "\n",
    "criterion = torch.nn.MSELoss()\n",
    "\n",
    "metric = mean_squared_error\n",
    "\n",
    "optimizer = torch.optim.Adam(params=model.parameters(), \n",
    "                             lr=LEARNING_RATE, \n",
    "                             weight_decay=WEIGHT_DECAY)"
   ]
  },
  {
   "cell_type": "code",
   "execution_count": 61,
   "id": "150f874d-ca2c-4333-ad7d-cd41c475f3e3",
   "metadata": {},
   "outputs": [],
   "source": [
    "embedding_weights = model.state_dict()['embedding.embedding.weight']\n",
    "linear_weights = model.state_dict()['linear.fc.weight']\n",
    "linear_bias = model.state_dict()['linear.bias']\n",
    "\n",
    "# model.state_dict()"
   ]
  },
  {
   "cell_type": "code",
   "execution_count": 62,
   "id": "0f5cb856-79af-431e-ad8b-aba361c7a532",
   "metadata": {},
   "outputs": [
    {
     "name": "stdout",
     "output_type": "stream",
     "text": [
      "dataset_length: 100000\n",
      "train_length: 80000\n",
      "valid_length: 10000\n",
      "test_length: 10000\n"
     ]
    }
   ],
   "source": [
    "splitter = Splitter(dataset, batch_size=100)\n",
    "# splitter = Splitter(dataset, shuffle=True, batch_size=100)"
   ]
  },
  {
   "cell_type": "code",
   "execution_count": 63,
   "id": "90abea18-a619-48a6-a50e-f6bf5e06ddd7",
   "metadata": {},
   "outputs": [],
   "source": [
    "trainer = SplitTrainer(model=model,\n",
    "                       criterion=criterion,\n",
    "                       metric=metric,\n",
    "                       optimizer=optimizer,\n",
    "                       splitter=splitter)"
   ]
  },
  {
   "cell_type": "code",
   "execution_count": 65,
   "id": "2cee7b03-f309-4018-a05a-e01970383c7b",
   "metadata": {},
   "outputs": [
    {
     "name": "stderr",
     "output_type": "stream",
     "text": [
      "Epoch: 1/10: 100%|██████████████████████████████████████| 800/800 [00:04<00:00, 183.32 batches/s, loss=0.0351]\n"
     ]
    },
    {
     "name": "stdout",
     "output_type": "stream",
     "text": [
      "Validation mean_squared_error: 0.01, Duration: 4.69 seconds\n"
     ]
    },
    {
     "name": "stderr",
     "output_type": "stream",
     "text": [
      "Epoch: 2/10: 100%|██████████████████████████████████████| 800/800 [00:04<00:00, 180.00 batches/s, loss=0.0334]\n"
     ]
    },
    {
     "name": "stdout",
     "output_type": "stream",
     "text": [
      "Validation mean_squared_error: 0.01, Duration: 4.77 seconds\n"
     ]
    },
    {
     "name": "stderr",
     "output_type": "stream",
     "text": [
      "Epoch: 3/10: 100%|██████████████████████████████████████| 800/800 [00:04<00:00, 184.32 batches/s, loss=0.0289]\n"
     ]
    },
    {
     "name": "stdout",
     "output_type": "stream",
     "text": [
      "Validation mean_squared_error: 0.01, Duration: 4.69 seconds\n"
     ]
    },
    {
     "name": "stderr",
     "output_type": "stream",
     "text": [
      "Epoch: 4/10: 100%|███████████████████████████████████████| 800/800 [00:04<00:00, 186.67 batches/s, loss=0.025]\n"
     ]
    },
    {
     "name": "stdout",
     "output_type": "stream",
     "text": [
      "Validation mean_squared_error: 0.01, Duration: 4.62 seconds\n"
     ]
    },
    {
     "name": "stderr",
     "output_type": "stream",
     "text": [
      "Epoch: 5/10: 100%|██████████████████████████████████████| 800/800 [00:04<00:00, 180.88 batches/s, loss=0.0237]\n"
     ]
    },
    {
     "name": "stdout",
     "output_type": "stream",
     "text": [
      "Validation mean_squared_error: 0.02, Duration: 4.77 seconds\n"
     ]
    },
    {
     "name": "stderr",
     "output_type": "stream",
     "text": [
      "Epoch: 6/10: 100%|██████████████████████████████████████| 800/800 [00:04<00:00, 181.34 batches/s, loss=0.0242]\n"
     ]
    },
    {
     "name": "stdout",
     "output_type": "stream",
     "text": [
      "Validation mean_squared_error: 0.02, Duration: 4.78 seconds\n"
     ]
    },
    {
     "name": "stderr",
     "output_type": "stream",
     "text": [
      "Epoch: 7/10: 100%|██████████████████████████████████████| 800/800 [00:04<00:00, 183.97 batches/s, loss=0.0245]\n"
     ]
    },
    {
     "name": "stdout",
     "output_type": "stream",
     "text": [
      "Validation mean_squared_error: 0.02, Duration: 4.69 seconds\n"
     ]
    },
    {
     "name": "stderr",
     "output_type": "stream",
     "text": [
      "Epoch: 8/10: 100%|██████████████████████████████████████| 800/800 [00:04<00:00, 186.31 batches/s, loss=0.0234]\n"
     ]
    },
    {
     "name": "stdout",
     "output_type": "stream",
     "text": [
      "Validation mean_squared_error: 0.02, Duration: 4.67 seconds\n"
     ]
    },
    {
     "name": "stderr",
     "output_type": "stream",
     "text": [
      "Epoch: 9/10: 100%|███████████████████████████████████████| 800/800 [00:04<00:00, 187.07 batches/s, loss=0.021]\n"
     ]
    },
    {
     "name": "stdout",
     "output_type": "stream",
     "text": [
      "Validation mean_squared_error: 0.02, Duration: 4.63 seconds\n"
     ]
    },
    {
     "name": "stderr",
     "output_type": "stream",
     "text": [
      "Epoch: 10/10: 100%|█████████████████████████████████████| 800/800 [00:04<00:00, 184.89 batches/s, loss=0.0185]\n"
     ]
    },
    {
     "name": "stdout",
     "output_type": "stream",
     "text": [
      "Validation mean_squared_error: 0.02, Duration: 4.70 seconds\n",
      "\n",
      "Total - Test mean_squared_error: 0.02\n"
     ]
    }
   ],
   "source": [
    "trainer.fit(epochs=10)"
   ]
  },
  {
   "cell_type": "code",
   "execution_count": 51,
   "id": "14e1b8d8-c49b-4442-a684-dbcb64042564",
   "metadata": {},
   "outputs": [],
   "source": [
    "scores_dict['Shuffle'] = trainer.scores"
   ]
  },
  {
   "cell_type": "code",
   "execution_count": 52,
   "id": "34c36535-bba1-4c80-925b-a60248196ae7",
   "metadata": {},
   "outputs": [
    {
     "data": {
      "text/plain": [
       "[39160531.12934897,\n",
       " 32860177.059274632,\n",
       " 28873320.0972045,\n",
       " 26174887.75458354,\n",
       " 24264593.535161413,\n",
       " 22903222.94922511,\n",
       " 21840685.142780546,\n",
       " 21028628.231348082,\n",
       " 20368037.04562128,\n",
       " 19799398.858446542]"
      ]
     },
     "execution_count": 52,
     "metadata": {},
     "output_type": "execute_result"
    }
   ],
   "source": [
    "trainer.scores"
   ]
  },
  {
   "cell_type": "code",
   "execution_count": 53,
   "id": "4de1c62e-7c34-4301-94d6-c1bdab071015",
   "metadata": {},
   "outputs": [
    {
     "data": {
      "image/png": "[encoded data removed]",
      "text/plain": [
       "<Figure size 432x288 with 1 Axes>"
      ]
     },
     "metadata": {
      "needs_background": "dark"
     },
     "output_type": "display_data"
    }
   ],
   "source": [
    "for mode, scores in scores_dict.items():\n",
    "    \n",
    "    plt.plot(scores, label=mode)\n",
    "    \n",
    "plt.xlabel(\"Epoch\")\n",
    "plt.ylabel(\"Mean Square Error\")\n",
    "plt.legend();"
   ]
  },
  {
   "cell_type": "code",
   "execution_count": 66,
   "id": "c46ee7a0-27a1-4cc2-9cf2-3eb6b5d86b22",
   "metadata": {},
   "outputs": [
    {
     "data": {
      "image/png": "[encoded data removed]",
      "text/plain": [
       "<Figure size 432x288 with 1 Axes>"
      ]
     },
     "metadata": {
      "needs_background": "dark"
     },
     "output_type": "display_data"
    }
   ],
   "source": [
    "plt.plot(trainer.scores, label=\"MSE\")\n",
    "plt.xlabel(\"Epoch\")\n",
    "plt.ylabel(\"Mean Square Error\")\n",
    "plt.legend();"
   ]
  },
  {
   "cell_type": "markdown",
   "id": "96e796eb-c555-4bd5-876f-defc4c165f50",
   "metadata": {
    "tags": []
   },
   "source": [
    "### Options - Binary Features"
   ]
  },
  {
   "cell_type": "code",
   "execution_count": 84,
   "id": "31b6cd41-0e4a-47be-8ecb-da4fb9e23c99",
   "metadata": {},
   "outputs": [],
   "source": [
    "# Data\n",
    "\n",
    "binary_dataset = BinaryOptionsDataset(OPTIONS_DATASET_PATH)\n",
    "\n",
    "binary_embedding_dimensions = binary_dataset.embedding_dimensions\n",
    "\n",
    "# Model\n",
    "\n",
    "LEARNING_RATE = 0.001\n",
    "WEIGHT_DECAY = 1e-6\n",
    "\n",
    "%run models/models.ipynb\n",
    "\n",
    "# model = CustomLogisticRegression(binary_embedding_dimensions)\n",
    "\n",
    "# model = CustomFactorizationMachine(binary_embedding_dimensions, embed_dim=16)\n",
    "\n",
    "model = CustomDeepFactorizationMachineModel(binary_embedding_dimensions, \n",
    "                                            embed_dim=16, mlp_dims=(16, 16), dropout=0.2)\n",
    "\n",
    "# model = CustomLinearRegression(input_dimensions=len(binary_embedding_dimensions),\n",
    "#                                output_dimensions=1)\n",
    "\n",
    "criterion = torch.nn.MSELoss()\n",
    "\n",
    "metric = mean_squared_error\n",
    "\n",
    "optimizer = torch.optim.Adam(params=model.parameters(), \n",
    "                             lr=LEARNING_RATE, \n",
    "                             weight_decay=WEIGHT_DECAY)\n",
    "\n",
    "# criterion = torch.nn.BCELoss()\n",
    "\n",
    "# optimizer = torch.optim.SGD(params=model.parameters(), lr=LEARNING_RATE)"
   ]
  },
  {
   "cell_type": "code",
   "execution_count": 24,
   "id": "74bc9708-36f6-453d-99a2-f92235ae6b36",
   "metadata": {},
   "outputs": [
    {
     "name": "stdout",
     "output_type": "stream",
     "text": [
      "dataset_length: 10201\n",
      "train_length: 8160\n",
      "valid_length: 1020\n",
      "test_length: 1021\n"
     ]
    }
   ],
   "source": [
    "binary_splitter = Splitter(binary_dataset, batch_size=10)"
   ]
  },
  {
   "cell_type": "code",
   "execution_count": 25,
   "id": "b7375142-391a-4de5-8957-00f5bd3aff8c",
   "metadata": {},
   "outputs": [],
   "source": [
    "binary_split_trainer = SplitTrainer(model=model,\n",
    "                                    criterion=criterion,\n",
    "                                    metric=metric,\n",
    "                                    optimizer=optimizer,\n",
    "                                    splitter=binary_splitter)"
   ]
  },
  {
   "cell_type": "code",
   "execution_count": null,
   "id": "c144f48c-1171-4ad8-857d-9550a062572e",
   "metadata": {},
   "outputs": [
    {
     "name": "stderr",
     "output_type": "stream",
     "text": [
      "Epoch: 1/10: 100%|██████████████████████████████████████| 816/816 [00:02<00:00, 301.74 batches/s, loss=1.9e+7]\n"
     ]
    },
    {
     "name": "stdout",
     "output_type": "stream",
     "text": [
      "Validation mean_squared_error: 25208291.90, Duration: 2.95 seconds\n"
     ]
    },
    {
     "name": "stderr",
     "output_type": "stream",
     "text": [
      "Epoch: 2/10: 100%|██████████████████████████████████████| 816/816 [00:02<00:00, 304.33 batches/s, loss=1.9e+7]\n"
     ]
    },
    {
     "name": "stdout",
     "output_type": "stream",
     "text": [
      "Validation mean_squared_error: 25133815.61, Duration: 2.94 seconds\n"
     ]
    },
    {
     "name": "stderr",
     "output_type": "stream",
     "text": [
      "Epoch: 3/10: 100%|█████████████████████████████████████| 816/816 [00:02<00:00, 299.38 batches/s, loss=1.89e+7]\n"
     ]
    },
    {
     "name": "stdout",
     "output_type": "stream",
     "text": [
      "Validation mean_squared_error: 25059571.20, Duration: 3.00 seconds\n"
     ]
    },
    {
     "name": "stderr",
     "output_type": "stream",
     "text": [
      "Epoch: 4/10: 100%|█████████████████████████████████████| 816/816 [00:02<00:00, 292.78 batches/s, loss=1.88e+7]\n"
     ]
    },
    {
     "name": "stdout",
     "output_type": "stream",
     "text": [
      "Validation mean_squared_error: 24985535.21, Duration: 3.04 seconds\n"
     ]
    },
    {
     "name": "stderr",
     "output_type": "stream",
     "text": [
      "Epoch: 5/10: 100%|█████████████████████████████████████| 816/816 [00:02<00:00, 300.26 batches/s, loss=1.88e+7]\n"
     ]
    },
    {
     "name": "stdout",
     "output_type": "stream",
     "text": [
      "Validation mean_squared_error: 24911694.58, Duration: 2.98 seconds\n"
     ]
    },
    {
     "name": "stderr",
     "output_type": "stream",
     "text": [
      "Epoch: 6/10:   0%|                                                | 0/816 [00:00<?, ? batches/s, loss=2.45e+7]"
     ]
    }
   ],
   "source": [
    "binary_split_trainer.fit(epochs=10)"
   ]
  },
  {
   "cell_type": "code",
   "execution_count": 22,
   "id": "ee9f7710-c7c2-48d0-9303-ad30c7bb2219",
   "metadata": {},
   "outputs": [
    {
     "data": {
      "image/png": "[encoded data removed]",
      "text/plain": [
       "<Figure size 432x288 with 1 Axes>"
      ]
     },
     "metadata": {
      "needs_background": "dark"
     },
     "output_type": "display_data"
    }
   ],
   "source": [
    "plt.plot(binary_split_trainer.scores, label=\"MSE\")\n",
    "plt.xlabel(\"Epoch\")\n",
    "plt.ylabel(\"Mean Square Error\")\n",
    "plt.legend();"
   ]
  },
  {
   "cell_type": "markdown",
   "id": "80831e66-08e0-48da-9cb1-cbb3152c0caf",
   "metadata": {
    "tags": []
   },
   "source": [
    "### Options Prices - Whole Trainer"
   ]
  },
  {
   "cell_type": "code",
   "execution_count": 154,
   "id": "327e52a5-77cb-415d-859a-16701f114562",
   "metadata": {},
   "outputs": [],
   "source": [
    "# Data\n",
    "\n",
    "dataset = OptionsDataset(OPTIONS_DATASET_PATH)\n",
    "\n",
    "embedding_dimensions = dataset.embedding_dimensions\n",
    "\n",
    "\n",
    "# Model\n",
    "\n",
    "LEARNING_RATE = 0.001\n",
    "WEIGHT_DECAY = 1e-6\n",
    "\n",
    "%run models/models.ipynb\n",
    "\n",
    "# model = CustomDeepFactorizationMachineModel(embedding_dimensions, \n",
    "#                                             embed_dim=16, mlp_dims=(16, 16), dropout=0.2)\n",
    "\n",
    "# model = CustomLinearRegression(input_dimensions=len(embedding_dimensions),\n",
    "#                                output_dimensions=1)\n",
    "\n",
    "criterion = torch.nn.MSELoss()\n",
    "\n",
    "metric = mean_squared_error\n",
    "\n",
    "optimizer = torch.optim.Adam(params=model.parameters(), \n",
    "                             lr=LEARNING_RATE, \n",
    "                             weight_decay=WEIGHT_DECAY)\n",
    "\n",
    "# # Others\n",
    "\n",
    "# model = CustomLogisticRegression(embedding_dimensions)\n",
    "\n",
    "# model = CustomFactorizationMachine(embedding_dimensions, embed_dim=16)\n",
    "\n",
    "# criterion = torch.nn.BCELoss()\n",
    "\n",
    "# optimizer = torch.optim.SGD(params=model.parameters(), lr=LEARNING_RATE)\n",
    "\n",
    "\n",
    "trainer = Trainer(dataset=dataset,\n",
    "                  model=model,\n",
    "                  criterion=criterion,\n",
    "                  metric=metric,\n",
    "                  optimizer=optimizer)"
   ]
  },
  {
   "cell_type": "code",
   "execution_count": 156,
   "id": "e762e8fb-47d9-4f9b-baaa-feeb0fbe5146",
   "metadata": {},
   "outputs": [
    {
     "name": "stdout",
     "output_type": "stream",
     "text": [
      "loss: tensor(24750014., grad_fn=<MseLossBackward0>)\n"
     ]
    }
   ],
   "source": [
    "predictions = trainer.train(epochs=1000)"
   ]
  },
  {
   "cell_type": "code",
   "execution_count": 8,
   "id": "a3f289f8-2044-4506-8d64-95473298b565",
   "metadata": {},
   "outputs": [
    {
     "data": {
      "image/png": "[encoded data removed]",
      "text/plain": [
       "<Figure size 360x360 with 1 Axes>"
      ]
     },
     "metadata": {},
     "output_type": "display_data"
    }
   ],
   "source": [
    "trainer.plot.plot(plot_target=False)"
   ]
  },
  {
   "cell_type": "code",
   "execution_count": 31,
   "id": "047133d9-b954-412b-8654-f54e046e279e",
   "metadata": {},
   "outputs": [],
   "source": [
    "# trainer.plot.render_animation()"
   ]
  },
  {
   "cell_type": "code",
   "execution_count": 202,
   "id": "10263fdf-f9eb-474d-a503-6e23a379a82a",
   "metadata": {},
   "outputs": [],
   "source": [
    "# trainer.plot.save_to_gif('images/test.gif')"
   ]
  },
  {
   "cell_type": "code",
   "execution_count": 203,
   "id": "6da9be83-ebe2-485f-99b7-c1ce16eac31a",
   "metadata": {},
   "outputs": [],
   "source": [
    "# # 2D Plot\n",
    "\n",
    "# initial_stock_prices = trainer.option_prices_dataset.data.initial_stock_price\n",
    "# target_option_prices = trainer.option_prices_dataset.target\n",
    "# predicted_option_prices = predictions.detach()\n",
    "\n",
    "# plt.scatter(initial_stock_prices, target_option_prices, s=0.05)\n",
    "# plt.scatter(initial_stock_prices, predicted_option_prices, s=0.05);"
   ]
  },
  {
   "cell_type": "code",
   "execution_count": null,
   "id": "0e08449d-f5be-4335-a5a3-a8e5a822b6f0",
   "metadata": {},
   "outputs": [],
   "source": []
  },
  {
   "cell_type": "markdown",
   "id": "14ef6bcf-0ff4-4df6-9e48-595f34592748",
   "metadata": {
    "tags": []
   },
   "source": [
    "### Options - Split Trainer"
   ]
  },
  {
   "cell_type": "code",
   "execution_count": 146,
   "id": "6faadde6-a6c3-4ba5-a62a-160ab36945db",
   "metadata": {},
   "outputs": [],
   "source": [
    "# Data\n",
    "\n",
    "dataset = OptionsDataset(OPTIONS_DATASET_PATH)\n",
    "\n",
    "embedding_dimensions = dataset.embedding_dimensions\n",
    "\n",
    "\n",
    "# Model\n",
    "\n",
    "LEARNING_RATE = 0.001\n",
    "WEIGHT_DECAY = 1e-6\n",
    "\n",
    "%run models/models.ipynb\n",
    "\n",
    "# model = CustomDeepFactorizationMachineModel(embedding_dimensions, \n",
    "#                                             embed_dim=16, mlp_dims=(16, 16), dropout=0.2)\n",
    "\n",
    "# model = CustomLinearRegression(input_dimensions=len(embedding_dimensions),\n",
    "#                                output_dimensions=1)\n",
    "\n",
    "criterion = torch.nn.MSELoss()\n",
    "\n",
    "metric = mean_squared_error\n",
    "\n",
    "optimizer = torch.optim.Adam(params=model.parameters(), \n",
    "                             lr=LEARNING_RATE, \n",
    "                             weight_decay=WEIGHT_DECAY)\n",
    "\n",
    "# # Others\n",
    "\n",
    "# model = CustomLogisticRegression(embedding_dimensions)\n",
    "\n",
    "model = CustomFactorizationMachine(embedding_dimensions, embed_dim=16)\n",
    "\n",
    "# criterion = torch.nn.BCELoss()\n",
    "\n",
    "# optimizer = torch.optim.SGD(params=model.parameters(), lr=LEARNING_RATE)"
   ]
  },
  {
   "cell_type": "code",
   "execution_count": 147,
   "id": "3fddf723-2f1e-45ad-8124-f1be221541fd",
   "metadata": {},
   "outputs": [
    {
     "name": "stdout",
     "output_type": "stream",
     "text": [
      "dataset_length: 10201\n",
      "train_length: 8160\n",
      "valid_length: 1020\n",
      "test_length: 1021\n"
     ]
    }
   ],
   "source": [
    "splitter = Splitter(dataset, batch_size=10)"
   ]
  },
  {
   "cell_type": "code",
   "execution_count": 148,
   "id": "28c8e110-a8da-458f-a9e0-67bd9df74653",
   "metadata": {},
   "outputs": [],
   "source": [
    "split_trainer = SplitTrainer(model=model,\n",
    "                             criterion=criterion,\n",
    "                             metric=metric,\n",
    "                             optimizer=optimizer,\n",
    "                             splitter=splitter)"
   ]
  },
  {
   "cell_type": "code",
   "execution_count": 151,
   "id": "53c208f2-59f7-45b5-8c36-f06dc07f168f",
   "metadata": {},
   "outputs": [
    {
     "name": "stderr",
     "output_type": "stream",
     "text": [
      "Epoch: 1/1: 100%|██████████████████████████████████████| 816/816 [00:05<00:00, 147.16 batches/s, loss=3.34e+7]\n"
     ]
    },
    {
     "name": "stdout",
     "output_type": "stream",
     "text": [
      "Validation mean_squared_error: 25098753.25, Duration: 5.82 seconds\n",
      "\n",
      "Total - Test mean_squared_error: 26315817.98\n"
     ]
    }
   ],
   "source": [
    "split_trainer.fit(epochs=1)"
   ]
  },
  {
   "cell_type": "code",
   "execution_count": 152,
   "id": "a8e60317-beb6-4238-91f1-d3e7e7a94cf3",
   "metadata": {},
   "outputs": [
    {
     "data": {
      "image/png": "[encoded data removed]",
      "text/plain": [
       "<Figure size 432x288 with 1 Axes>"
      ]
     },
     "metadata": {},
     "output_type": "display_data"
    }
   ],
   "source": [
    "plt.plot(split_trainer.scores, label=\"MSE\")\n",
    "plt.xlabel(\"Epoch\")\n",
    "plt.ylabel(\"Mean Square Error\")\n",
    "plt.legend();"
   ]
  },
  {
   "cell_type": "code",
   "execution_count": 153,
   "id": "aa707176-f259-4472-ad28-645d44d43e4c",
   "metadata": {},
   "outputs": [
    {
     "data": {
      "image/png": "[encoded data removed]",
      "text/plain": [
       "<Figure size 432x288 with 1 Axes>"
      ]
     },
     "metadata": {},
     "output_type": "display_data"
    }
   ],
   "source": [
    "plt.plot(binary_split_trainer.scores, label=\"Binary Features\")\n",
    "plt.plot(split_trainer.scores, label=\"Integer Features\")\n",
    "plt.xlabel(\"Epoch\")\n",
    "plt.ylabel(\"Mean Square Error\")\n",
    "plt.legend();"
   ]
  },
  {
   "cell_type": "code",
   "execution_count": 14,
   "id": "3b94e56d-f41b-4690-acf3-c505ede2d312",
   "metadata": {},
   "outputs": [],
   "source": [
    "with torch.no_grad():\n",
    "\n",
    "    predictions = split_trainer.model(torch.tensor(split_trainer.dataset.fields).int())"
   ]
  },
  {
   "cell_type": "code",
   "execution_count": 15,
   "id": "3628c4e8-49ac-4369-9269-ef2bbba18b7d",
   "metadata": {},
   "outputs": [
    {
     "data": {
      "image/png": "[encoded data removed]",
      "text/plain": [
       "<Figure size 360x360 with 1 Axes>"
      ]
     },
     "metadata": {},
     "output_type": "display_data"
    }
   ],
   "source": [
    "split_trainer.plot.plot(plot_target=True)"
   ]
  },
  {
   "cell_type": "code",
   "execution_count": 16,
   "id": "9ea7f8cf-2b10-47df-ac3a-1db5fa942de3",
   "metadata": {},
   "outputs": [],
   "source": [
    "# split_trainer.plot.render_animation()"
   ]
  },
  {
   "cell_type": "code",
   "execution_count": null,
   "id": "c382b125-d5fd-4d9a-8b9c-44b6be675901",
   "metadata": {},
   "outputs": [],
   "source": []
  },
  {
   "cell_type": "markdown",
   "id": "5ae41323-a52f-4a9d-a5b2-1b82c1764a9d",
   "metadata": {
    "jp-MarkdownHeadingCollapsed": true,
    "tags": []
   },
   "source": [
    "### Options - Model Comparison"
   ]
  },
  {
   "cell_type": "code",
   "execution_count": 8,
   "id": "2645e560-2533-4b5a-a911-917c434a2617",
   "metadata": {},
   "outputs": [
    {
     "name": "stdout",
     "output_type": "stream",
     "text": [
      "dataset_length: 10201\n",
      "train_length: 8160\n",
      "valid_length: 1020\n",
      "test_length: 1021\n"
     ]
    }
   ],
   "source": [
    "LEARNING_RATE = 0.001\n",
    "WEIGHT_DECAY = 1e-6\n",
    "EPOCHS_COUNT = 1\n",
    "\n",
    "# Binary\n",
    "\n",
    "binary_dataset = BinaryOptionsDataset(OPTIONS_DATASET_PATH)\n",
    "\n",
    "binary_splitter = Splitter(binary_dataset, batch_size=10)\n",
    "\n",
    "binary_embedding_dimensions = binary_dataset.embedding_dimensions\n",
    "\n",
    "\n",
    "# Models\n",
    "\n",
    "binary_fm_model = CustomFactorizationMachine(binary_embedding_dimensions, embed_dim=16)\n",
    "\n",
    "binary_deep_fm_model = CustomDeepFactorizationMachineModel(binary_embedding_dimensions,\n",
    "                                                           embed_dim=16, mlp_dims=(16, 16), dropout=0.2)\n",
    "\n",
    "binary_linear_model = CustomLinearRegression(input_dimensions=len(binary_embedding_dimensions),\n",
    "                                             output_dimensions=1)\n",
    "\n",
    "\n",
    "criterion = torch.nn.MSELoss()\n",
    "\n",
    "metric = mean_squared_error\n",
    "\n",
    "\n",
    "binary_fm_optimizer = torch.optim.Adam(params=binary_fm_model.parameters(),\n",
    "                                       lr=LEARNING_RATE,\n",
    "                                       weight_decay=WEIGHT_DECAY)\n",
    "\n",
    "binary_deep_fm_optimizer = torch.optim.Adam(params=binary_deep_fm_model.parameters(),\n",
    "                                            lr=LEARNING_RATE,\n",
    "                                            weight_decay=WEIGHT_DECAY)\n",
    "\n",
    "binary_linear_optimizer = torch.optim.Adam(params=binary_linear_model.parameters(),\n",
    "                                           lr=LEARNING_RATE,\n",
    "                                           weight_decay=WEIGHT_DECAY)\n",
    "\n",
    "binary_fm_trainer = SplitTrainer(model=binary_fm_model,\n",
    "                                 criterion=criterion,\n",
    "                                 metric=metric,\n",
    "                                 optimizer=binary_fm_optimizer,\n",
    "                                 splitter=binary_splitter)\n",
    "\n",
    "binary_deep_fm_trainer = SplitTrainer(model=binary_deep_fm_model,\n",
    "                                      criterion=criterion,\n",
    "                                      metric=metric,\n",
    "                                      optimizer=binary_deep_fm_optimizer,\n",
    "                                      splitter=binary_splitter)\n",
    "\n",
    "binary_linear_trainer = SplitTrainer(model=binary_linear_model,\n",
    "                                     criterion=criterion,\n",
    "                                     metric=metric,\n",
    "                                     optimizer=binary_linear_optimizer,\n",
    "                                     splitter=binary_splitter)"
   ]
  },
  {
   "cell_type": "code",
   "execution_count": 19,
   "id": "5eb8ca65-9cd6-423a-949d-3af1f154d8c8",
   "metadata": {},
   "outputs": [
    {
     "name": "stderr",
     "output_type": "stream",
     "text": [
      "Epoch: 1/1: 100%|██████████████████████████████████████| 816/816 [00:03<00:00, 257.00 batches/s, loss=2.89e+6]\n"
     ]
    },
    {
     "name": "stdout",
     "output_type": "stream",
     "text": [
      "Validation mean_squared_error: 3353391.11, Duration: 3.45 seconds\n",
      "\n",
      "Total - Test mean_squared_error: 3710378.33\n"
     ]
    }
   ],
   "source": [
    "binary_fm_trainer.fit(epochs=EPOCHS_COUNT)"
   ]
  },
  {
   "cell_type": "code",
   "execution_count": 20,
   "id": "384e5645-6160-49a9-864e-6963e8682c76",
   "metadata": {
    "tags": []
   },
   "outputs": [
    {
     "name": "stderr",
     "output_type": "stream",
     "text": [
      "Epoch: 1/1: 100%|██████████████████████████████████████| 816/816 [00:04<00:00, 182.80 batches/s, loss=8.89e+5]\n"
     ]
    },
    {
     "name": "stdout",
     "output_type": "stream",
     "text": [
      "Validation mean_squared_error: 1806434.89, Duration: 4.76 seconds\n",
      "\n",
      "Total - Test mean_squared_error: 1973852.98\n"
     ]
    }
   ],
   "source": [
    "binary_deep_fm_trainer.fit(epochs=EPOCHS_COUNT)"
   ]
  },
  {
   "cell_type": "code",
   "execution_count": 21,
   "id": "542a15da-da01-465f-b4df-f45eb11df5ae",
   "metadata": {},
   "outputs": [
    {
     "name": "stderr",
     "output_type": "stream",
     "text": [
      "Epoch: 1/1: 100%|██████████████████████████████████████| 816/816 [00:02<00:00, 283.63 batches/s, loss=2.31e+7]\n"
     ]
    },
    {
     "name": "stdout",
     "output_type": "stream",
     "text": [
      "Validation mean_squared_error: 22918524.62, Duration: 3.12 seconds\n",
      "\n",
      "Total - Test mean_squared_error: 25722996.68\n"
     ]
    }
   ],
   "source": [
    "binary_linear_trainer.fit(epochs=EPOCHS_COUNT)"
   ]
  },
  {
   "cell_type": "code",
   "execution_count": 22,
   "id": "62ccf454-d451-4560-adfd-3f9ae20fe14c",
   "metadata": {},
   "outputs": [
    {
     "data": {
      "image/png": "[encoded data removed]",
      "text/plain": [
       "<Figure size 432x288 with 1 Axes>"
      ]
     },
     "metadata": {
      "needs_background": "dark"
     },
     "output_type": "display_data"
    }
   ],
   "source": [
    "plt.plot(binary_fm_trainer.scores, label=\"binary_fm_trainer\")\n",
    "plt.plot(binary_deep_fm_trainer.scores, label=\"binary_deep_fm_trainer\")\n",
    "plt.plot(binary_linear_trainer.scores, label=\"binary_linear_trainer\")\n",
    "plt.xlabel(\"Epoch\")\n",
    "plt.ylabel(\"Mean Square Error\")\n",
    "plt.legend();"
   ]
  },
  {
   "cell_type": "code",
   "execution_count": 13,
   "id": "9bfbee16-76cc-4db7-8034-8573af67982f",
   "metadata": {},
   "outputs": [
    {
     "name": "stdout",
     "output_type": "stream",
     "text": [
      "dataset_length: 10201\n",
      "train_length: 8160\n",
      "valid_length: 1020\n",
      "test_length: 1021\n"
     ]
    }
   ],
   "source": [
    "LEARNING_RATE = 0.001\n",
    "WEIGHT_DECAY = 1e-6\n",
    "EPOCHS_COUNTHS_COUNT = 1\n",
    "\n",
    "# Binary\n",
    "\n",
    "dataset = BinaryOptionsDataset(OPTIONS_DATASET_PATH)\n",
    "\n",
    "splitter = Splitter(binary_dataset, batch_size=10)\n",
    "\n",
    "embedding_dimensions = dataset.embedding_dimensions\n",
    "\n",
    "# Models\n",
    "\n",
    "fm_model = CustomFactorizationMachine(embedding_dimensions, embed_dim=16)\n",
    "\n",
    "deep_fm_model = CustomDeepFactorizationMachineModel(embedding_dimensions,\n",
    "                                                    embed_dim=16, mlp_dims=(16, 16), dropout=0.2)\n",
    "\n",
    "linear_model = CustomLinearRegression(input_dimensions=len(embedding_dimensions),\n",
    "                                      output_dimensions=1)\n",
    "\n",
    "\n",
    "criterion = torch.nn.MSELoss()\n",
    "\n",
    "metric = mean_squared_error\n",
    "\n",
    "\n",
    "fm_optimizer = torch.optim.Adam(params=fm_model.parameters(),\n",
    "                                lr=LEARNING_RATE,\n",
    "                                weight_decay=WEIGHT_DECAY)\n",
    "\n",
    "deep_fm_optimizer = torch.optim.Adam(params=deep_fm_model.parameters(),\n",
    "                                     lr=LEARNING_RATE,\n",
    "                                     weight_decay=WEIGHT_DECAY)\n",
    "\n",
    "linear_optimizer = torch.optim.Adam(params=linear_model.parameters(),\n",
    "                                    lr=LEARNING_RATE,\n",
    "                                    weight_decay=WEIGHT_DECAY)\n",
    "\n",
    "fm_trainer = SplitTrainer(model=fm_model,\n",
    "                          criterion=criterion,\n",
    "                          metric=metric,\n",
    "                          optimizer=fm_optimizer,\n",
    "                          splitter=splitter)\n",
    "\n",
    "deep_fm_trainer = SplitTrainer(model=deep_fm_model,\n",
    "                               criterion=criterion,\n",
    "                               metric=metric,\n",
    "                               optimizer=deep_fm_optimizer,\n",
    "                               splitter=splitter)\n",
    "\n",
    "linear_trainer = SplitTrainer(model=linear_model,\n",
    "                              criterion=criterion,\n",
    "                              metric=metric,\n",
    "                              optimizer=linear_optimizer,\n",
    "                              splitter=splitter)"
   ]
  },
  {
   "cell_type": "code",
   "execution_count": 23,
   "id": "c6ff814a-b9ad-4718-b31c-13ac1efc3331",
   "metadata": {},
   "outputs": [
    {
     "name": "stderr",
     "output_type": "stream",
     "text": [
      "Epoch: 1/1: 100%|██████████████████████████████████████| 816/816 [00:03<00:00, 255.62 batches/s, loss=3.38e+6]\n"
     ]
    },
    {
     "name": "stdout",
     "output_type": "stream",
     "text": [
      "Validation mean_squared_error: 3176578.63, Duration: 3.49 seconds\n",
      "\n",
      "Total - Test mean_squared_error: 3414384.87\n"
     ]
    }
   ],
   "source": [
    "fm_trainer.fit(epochs=EPOCHS_COUNT)"
   ]
  },
  {
   "cell_type": "code",
   "execution_count": 24,
   "id": "573296dc-5d14-423c-835e-151ca926c0e6",
   "metadata": {},
   "outputs": [
    {
     "name": "stderr",
     "output_type": "stream",
     "text": [
      "Epoch: 1/1: 100%|██████████████████████████████████████| 816/816 [00:04<00:00, 178.25 batches/s, loss=2.85e+6]\n"
     ]
    },
    {
     "name": "stdout",
     "output_type": "stream",
     "text": [
      "Validation mean_squared_error: 1608093.32, Duration: 4.85 seconds\n",
      "\n",
      "Total - Test mean_squared_error: 1675401.38\n"
     ]
    }
   ],
   "source": [
    "deep_fm_trainer.fit(epochs=EPOCHS_COUNT)"
   ]
  },
  {
   "cell_type": "code",
   "execution_count": 25,
   "id": "4ca677a2-d593-44be-b95c-2e74992363d6",
   "metadata": {},
   "outputs": [
    {
     "name": "stderr",
     "output_type": "stream",
     "text": [
      "Epoch: 1/1: 100%|██████████████████████████████████████| 816/816 [00:02<00:00, 288.57 batches/s, loss=3.44e+7]\n"
     ]
    },
    {
     "name": "stdout",
     "output_type": "stream",
     "text": [
      "Validation mean_squared_error: 23364332.11, Duration: 3.06 seconds\n",
      "\n",
      "Total - Test mean_squared_error: 24982800.57\n"
     ]
    }
   ],
   "source": [
    "linear_trainer.fit(epochs=EPOCHS_COUNT)"
   ]
  },
  {
   "cell_type": "code",
   "execution_count": 35,
   "id": "862f05cd-9832-4873-84e1-8fd4c31373b2",
   "metadata": {},
   "outputs": [
    {
     "data": {
      "image/png": "[encoded data removed]",
      "text/plain": [
       "<Figure size 432x288 with 1 Axes>"
      ]
     },
     "metadata": {
      "needs_background": "dark"
     },
     "output_type": "display_data"
    }
   ],
   "source": [
    "plt.plot(binary_linear_trainer.scores, label=\"Linear - Binary\")\n",
    "plt.plot(linear_trainer.scores, label=\"Linear - Decimal\")\n",
    "\n",
    "plt.plot(binary_fm_trainer.scores, label=\"FM - Binary\")\n",
    "plt.plot(fm_trainer.scores, label=\"FM - Decimal\")\n",
    "\n",
    "plt.plot(binary_deep_fm_trainer.scores, label=\"Deep FM - Binary\")\n",
    "plt.plot(deep_fm_trainer.scores, label=\"Deep FM - Decimal\")\n",
    "\n",
    "plt.xlabel(\"Epoch\")\n",
    "plt.ylabel(\"Mean Square Error\")\n",
    "plt.legend();"
   ]
  },
  {
   "cell_type": "markdown",
   "id": "0040ecbd-b4eb-497a-bf8e-891ef6a5b7b1",
   "metadata": {
    "jp-MarkdownHeadingCollapsed": true,
    "tags": []
   },
   "source": [
    "### TODO"
   ]
  },
  {
   "cell_type": "code",
   "execution_count": null,
   "id": "cc082986-635b-4077-9d79-17412974e7eb",
   "metadata": {},
   "outputs": [],
   "source": [
    "# TODO:\n",
    "\n",
    "# 1) Classical\n",
    "#\n",
    "# Add binary encoded input for FM 1\n",
    "#\n",
    "# Compare DeepFM and FM 4\n",
    "#\n",
    "# Multiple run (100) for same MC -> check results 5\n",
    "#\n",
    "# Save model data 5\n",
    "#\n",
    "# Normalize MSE 5\n",
    "#\n",
    "# FM not working 5\n",
    "#\n",
    "# Pytorch: Evaluate which part of DeepFM gives most part of value - is possible? 4\n",
    "#\n",
    "#\n",
    "# 2) Quantum\n",
    "#\n",
    "# Quantum FM - mapping for Ising model 1\n",
    "#\n",
    "# Without Variational Auto-encoder 4\n",
    "#\n",
    "# Possibly: add binary encoder 4\n",
    "#\n",
    "# D-Wave simulator - via AWS Braket - (Jonas) 5"
   ]
  }
 ],
 "metadata": {
  "kernelspec": {
   "display_name": "Python 3 (ipykernel)",
   "language": "python",
   "name": "python3"
  },
  "language_info": {
   "codemirror_mode": {
    "name": "ipython",
    "version": 3
   },
   "file_extension": ".py",
   "mimetype": "text/x-python",
   "name": "python",
   "nbconvert_exporter": "python",
   "pygments_lexer": "ipython3",
   "version": "3.8.10"
  }
 },
 "nbformat": 4,
 "nbformat_minor": 5
}
