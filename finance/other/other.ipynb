{
 "cells": [
  {
   "cell_type": "code",
   "execution_count": 2,
   "id": "57474ab4-515c-4f04-8e94-348f0bf4bfaa",
   "metadata": {},
   "outputs": [],
   "source": [
    "import numpy as np"
   ]
  },
  {
   "cell_type": "code",
   "execution_count": 3,
   "id": "eaf9e09c-619a-4d93-9e9b-fdd08b811aff",
   "metadata": {},
   "outputs": [],
   "source": [
    "# fields.shape, target.shape\n",
    "\n",
    "# fields[4000:4005], target[4000:4050]\n",
    "\n",
    "# option_prices_dataset.data\n",
    "# option_prices_dataset.plot()"
   ]
  },
  {
   "cell_type": "code",
   "execution_count": 4,
   "id": "18e0fd6c-0d92-4c20-9e75-6c37eb0f5d86",
   "metadata": {},
   "outputs": [
    {
     "name": "stdout",
     "output_type": "stream",
     "text": [
      "[0 1 2 3 4 5]\n",
      "[3 2 3 2 0 3]\n"
     ]
    },
    {
     "data": {
      "text/plain": [
       "array([[ 4, 40],\n",
       "       [ 3, 30],\n",
       "       [ 4, 40],\n",
       "       [ 3, 30],\n",
       "       [ 1, 10],\n",
       "       [ 4, 40]])"
      ]
     },
     "execution_count": 4,
     "metadata": {},
     "output_type": "execute_result"
    }
   ],
   "source": [
    "K_and_L = np.array([(1, 10), (2, 20), \n",
    "                    (3, 30), (4, 40), \n",
    "                    (5, 50), (6, 60)])\n",
    "  \n",
    "K_and_L_indices = np.arange(K_and_L.shape[0])\n",
    "\n",
    "print(K_and_L_indices)\n",
    "\n",
    "sampled_indices = np.random.choice(K_and_L_indices, 6, p=[0.1, 0, 0.3, 0.6, 0, 0])\n",
    "\n",
    "print(sampled_indices)\n",
    "\n",
    "sampled_K_and_L = K_and_L[sampled_indices]\n",
    "\n",
    "sampled_K_and_L"
   ]
  },
  {
   "cell_type": "code",
   "execution_count": 5,
   "id": "2462342c-0be7-45ce-b62f-eef32b18ed5e",
   "metadata": {},
   "outputs": [
    {
     "data": {
      "text/plain": [
       "array([[10, 20, 30],\n",
       "       [20, 40, 60],\n",
       "       [30, 60, 90]])"
      ]
     },
     "execution_count": 5,
     "metadata": {},
     "output_type": "execute_result"
    }
   ],
   "source": [
    "a = np.array([1, 2, 3])\n",
    "b = np.array([10, 20, 30]).reshape(1, -1)\n",
    "\n",
    "a * b.T"
   ]
  },
  {
   "cell_type": "code",
   "execution_count": null,
   "id": "c318076f-5160-44f7-b2a2-fb65bbe736bc",
   "metadata": {},
   "outputs": [],
   "source": []
  },
  {
   "cell_type": "markdown",
   "id": "4f5a34d1-6d84-4167-bfc6-16ebddcc230a",
   "metadata": {},
   "source": [
    "### Encoder"
   ]
  },
  {
   "cell_type": "code",
   "execution_count": 33,
   "id": "e665b3ef-50e9-4d29-a383-c880ad16d48a",
   "metadata": {},
   "outputs": [],
   "source": [
    "import struct"
   ]
  },
  {
   "cell_type": "code",
   "execution_count": 254,
   "id": "10a5269d-87a9-4185-a9ae-f113860f1be4",
   "metadata": {},
   "outputs": [],
   "source": [
    "def encode_to_binary_str(number):\n",
    "  \n",
    "    number_bytes = struct.pack('!f', float(number))\n",
    "    \n",
    "    binary_strings = [f\"{byte:0>8b}\" for byte in number_bytes]\n",
    "    \n",
    "    integer_strings = [f\"{byte}\" for byte in number_bytes]   \n",
    "    \n",
    "    binary_string = ''.join(binary_strings)\n",
    "    \n",
    "    print(\"number_bytes:\", number_bytes)\n",
    "    print(\"binary_strings:\", binary_strings)\n",
    "    print(\"integer_strings:\", integer_strings)\n",
    "    \n",
    "    return binary_string"
   ]
  },
  {
   "cell_type": "code",
   "execution_count": 345,
   "id": "e99e28aa-993f-4806-9f48-3a3fa2d06b19",
   "metadata": {
    "tags": []
   },
   "outputs": [
    {
     "name": "stdout",
     "output_type": "stream",
     "text": [
      "number_bytes: b'\\xc0\\xb4\\xcc\\xcd'\n",
      "binary_strings: ['11000000', '10110100', '11001100', '11001101']\n",
      "integer_strings: ['192', '180', '204', '205']\n"
     ]
    },
    {
     "data": {
      "text/plain": [
       "'11000000101101001100110011001101'"
      ]
     },
     "execution_count": 345,
     "metadata": {},
     "output_type": "execute_result"
    }
   ],
   "source": [
    "encode_to_binary_str(-5.65)"
   ]
  },
  {
   "cell_type": "code",
   "execution_count": 223,
   "id": "bafc49a2-3120-4239-8aa6-bdcbc6becafe",
   "metadata": {},
   "outputs": [],
   "source": [
    "### Numpy"
   ]
  },
  {
   "cell_type": "code",
   "execution_count": 257,
   "id": "754ff96f-d4dd-4409-ac06-0418cd4976bb",
   "metadata": {},
   "outputs": [],
   "source": [
    "# x = np.arange(4., dtype='<f') \n",
    "\n",
    "# x = np.array([1], dtype=np.float32)\n",
    "\n",
    "x = np.array([-1.3], dtype='>f')"
   ]
  },
  {
   "cell_type": "code",
   "execution_count": 258,
   "id": "6e78313b-e52d-4d74-ad0b-cbb467cc18cf",
   "metadata": {},
   "outputs": [
    {
     "data": {
      "text/plain": [
       "array([-1.3], dtype=float32)"
      ]
     },
     "execution_count": 258,
     "metadata": {},
     "output_type": "execute_result"
    }
   ],
   "source": [
    "x"
   ]
  },
  {
   "cell_type": "code",
   "execution_count": 259,
   "id": "9f8a0db2-f525-417e-969a-5b1d24f53fce",
   "metadata": {},
   "outputs": [
    {
     "data": {
      "text/plain": [
       "array([191, 166, 102, 102], dtype=uint8)"
      ]
     },
     "execution_count": 259,
     "metadata": {},
     "output_type": "execute_result"
    }
   ],
   "source": [
    "x.view('uint8')"
   ]
  },
  {
   "cell_type": "code",
   "execution_count": 232,
   "id": "14f88b1f-91b7-4097-833d-301ec41ffaea",
   "metadata": {},
   "outputs": [
    {
     "data": {
      "text/plain": [
       "array([1.], dtype=float32)"
      ]
     },
     "execution_count": 232,
     "metadata": {},
     "output_type": "execute_result"
    }
   ],
   "source": [
    "x"
   ]
  },
  {
   "cell_type": "code",
   "execution_count": 260,
   "id": "7f28a38c-918f-4835-b4fe-d21b2722791e",
   "metadata": {},
   "outputs": [
    {
     "data": {
      "text/plain": [
       "array([1, 0, 1, 1, 1, 1, 1, 1, 1, 0, 1, 0, 0, 1, 1, 0, 0, 1, 1, 0, 0, 1,\n",
       "       1, 0, 0, 1, 1, 0, 0, 1, 1, 0], dtype=uint8)"
      ]
     },
     "execution_count": 260,
     "metadata": {},
     "output_type": "execute_result"
    }
   ],
   "source": [
    "y = np.unpackbits(x.view('uint8'))\n",
    "\n",
    "y"
   ]
  },
  {
   "cell_type": "code",
   "execution_count": null,
   "id": "8448cb59-bdb0-4a40-bf81-12b6cee1f9bd",
   "metadata": {},
   "outputs": [],
   "source": []
  },
  {
   "cell_type": "code",
   "execution_count": 311,
   "id": "1badf50e-d3be-4de9-a726-cd95a97901a8",
   "metadata": {},
   "outputs": [
    {
     "data": {
      "text/plain": [
       "array([2], dtype=int8)"
      ]
     },
     "execution_count": 311,
     "metadata": {},
     "output_type": "execute_result"
    }
   ],
   "source": [
    "input_byte = np.array([2], dtype='>i1')\n",
    "\n",
    "input_byte"
   ]
  },
  {
   "cell_type": "code",
   "execution_count": 312,
   "id": "c02a6ca6-cf3f-477e-b7d0-00015dcec530",
   "metadata": {},
   "outputs": [
    {
     "data": {
      "text/plain": [
       "array([2], dtype=uint8)"
      ]
     },
     "execution_count": 312,
     "metadata": {},
     "output_type": "execute_result"
    }
   ],
   "source": [
    "byte = input_byte.view('uint8')\n",
    "\n",
    "byte"
   ]
  },
  {
   "cell_type": "code",
   "execution_count": 313,
   "id": "dc1744bd-9ad1-4715-96cf-53d18b74f6be",
   "metadata": {},
   "outputs": [
    {
     "data": {
      "text/plain": [
       "array([0, 0, 0, 0, 0, 0, 1, 0], dtype=uint8)"
      ]
     },
     "execution_count": 313,
     "metadata": {},
     "output_type": "execute_result"
    }
   ],
   "source": [
    "bits = np.unpackbits(byte)\n",
    "\n",
    "bits"
   ]
  },
  {
   "cell_type": "code",
   "execution_count": null,
   "id": "2ebe1e40-0af6-40cf-b4de-0ac1c1de2dc4",
   "metadata": {},
   "outputs": [],
   "source": []
  },
  {
   "cell_type": "code",
   "execution_count": 314,
   "id": "62665937-6ed9-4a51-8295-bafd1a6db5be",
   "metadata": {},
   "outputs": [],
   "source": [
    "def encode_to_bits(number, dtype='>f'):\n",
    "    \n",
    "    number_bytes = np.array([number], dtype=dtype)\n",
    "    \n",
    "    integer_view = number_bytes.view('uint8')\n",
    "    \n",
    "    bits = np.unpackbits(integer_view)\n",
    "    \n",
    "    print(\"number:\", number)\n",
    "    print(\"number_bytes:\", number_bytes)\n",
    "    print(\"integer_view:\", integer_view)\n",
    "    print(\"bits:\", bits)\n",
    "    \n",
    "    return bits  "
   ]
  },
  {
   "cell_type": "code",
   "execution_count": 333,
   "id": "5a641eed-f3a4-41c1-8892-50177d9e04e9",
   "metadata": {},
   "outputs": [
    {
     "name": "stdout",
     "output_type": "stream",
     "text": [
      "number: -1.4546\n",
      "number_bytes: [-1.4546]\n",
      "integer_view: [131  47  76 166  10  70 247 191]\n",
      "bits: [1 0 0 0 0 0 1 1 0 0 1 0 1 1 1 1 0 1 0 0 1 1 0 0 1 0 1 0 0 1 1 0 0 0 0 0 1\n",
      " 0 1 0 0 1 0 0 0 1 1 0 1 1 1 1 0 1 1 1 1 0 1 1 1 1 1 1]\n"
     ]
    },
    {
     "data": {
      "text/plain": [
       "array([1, 0, 0, 0, 0, 0, 1, 1, 0, 0, 1, 0, 1, 1, 1, 1, 0, 1, 0, 0, 1, 1,\n",
       "       0, 0, 1, 0, 1, 0, 0, 1, 1, 0, 0, 0, 0, 0, 1, 0, 1, 0, 0, 1, 0, 0,\n",
       "       0, 1, 1, 0, 1, 1, 1, 1, 0, 1, 1, 1, 1, 0, 1, 1, 1, 1, 1, 1],\n",
       "      dtype=uint8)"
      ]
     },
     "execution_count": 333,
     "metadata": {},
     "output_type": "execute_result"
    }
   ],
   "source": [
    "encode_to_bits(-1.4546, dtype='<f8')"
   ]
  },
  {
   "cell_type": "code",
   "execution_count": 344,
   "id": "dfa7c40b-1304-4030-ade2-82e4f815c204",
   "metadata": {},
   "outputs": [
    {
     "name": "stdout",
     "output_type": "stream",
     "text": [
      "number: -5.65\n",
      "number_bytes: [-5.65]\n",
      "integer_view: [192 180 204 205]\n",
      "bits: [1 1 0 0 0 0 0 0 1 0 1 1 0 1 0 0 1 1 0 0 1 1 0 0 1 1 0 0 1 1 0 1]\n"
     ]
    },
    {
     "data": {
      "text/plain": [
       "array([1, 1, 0, 0, 0, 0, 0, 0, 1, 0, 1, 1, 0, 1, 0, 0, 1, 1, 0, 0, 1, 1,\n",
       "       0, 0, 1, 1, 0, 0, 1, 1, 0, 1], dtype=uint8)"
      ]
     },
     "execution_count": 344,
     "metadata": {},
     "output_type": "execute_result"
    }
   ],
   "source": [
    "encode_to_bits(-5.65)"
   ]
  },
  {
   "cell_type": "code",
   "execution_count": null,
   "id": "f2042b1e-1de1-466e-ba96-099e6703498b",
   "metadata": {
    "jupyter": {
     "source_hidden": true
    },
    "tags": []
   },
   "outputs": [],
   "source": []
  },
  {
   "cell_type": "markdown",
   "id": "e038f0b8-b718-4da8-9b9d-97c060db2801",
   "metadata": {},
   "source": [
    "### Combinations"
   ]
  },
  {
   "cell_type": "code",
   "execution_count": null,
   "id": "455af866-0931-4c28-a3ce-624d2b771b24",
   "metadata": {},
   "outputs": [],
   "source": [
    "volatilities = np.linspace(0, 1.0, 101)\n",
    "initial_stock_prices = np.linspace(0, 10000, 101)\n",
    "\n",
    "combinations = np.array(np.meshgrid(initial_stock_prices, volatilities)).T.reshape(-1, 2)"
   ]
  },
  {
   "cell_type": "markdown",
   "id": "8058832e-7328-4d27-8cee-d657f208cb1f",
   "metadata": {},
   "source": [
    "### Reverse Dataset"
   ]
  },
  {
   "cell_type": "code",
   "execution_count": null,
   "id": "2e958cb4-d079-4eb6-a890-18004ed17f4a",
   "metadata": {},
   "outputs": [],
   "source": [
    "import tqdm\n",
    "import pandas as pd\n",
    "\n",
    "OPTION_PROBABILITIES_PATH = 'simulated_prices/complete_option_probabilities_100M.csv'\n",
    "REVERSED_OPTION_PROBABILITIES_PATH = 'simulated_prices/reversed_option_probabilities_100M.csv'\n",
    "\n",
    "dataset_size = 101 * 101 * 10000\n",
    "chunk_size = 10000\n",
    "\n",
    "chunks_count = dataset_size // chunk_size\n",
    "\n",
    "dataset_iterator = pd.read_csv(OPTION_PROBABILITIES_PATH, iterator=True, chunksize=chunk_size)\n",
    "\n",
    "chunk_tracker = tqdm.tqdm(range(chunks_count),\n",
    "                          desc=f\"Loading\",\n",
    "                          ncols=110,\n",
    "                          unit='chunk',\n",
    "                          total=chunks_count)\n",
    "\n",
    "chunks = []\n",
    "\n",
    "for chunk_index in chunk_tracker:\n",
    "    \n",
    "    chunk = next(dataset_iterator)\n",
    "    \n",
    "    chunks.append(chunk)\n",
    "    \n",
    "\n",
    "dataframe = pd.concat(chunks)"
   ]
  },
  {
   "cell_type": "code",
   "execution_count": null,
   "id": "3edbc4f2-0244-4f28-b25a-be4bfa8c7918",
   "metadata": {},
   "outputs": [],
   "source": [
    "reversed_datafame = dataframe[::-1]"
   ]
  },
  {
   "cell_type": "code",
   "execution_count": null,
   "id": "99d74b80-ff7f-40fa-b4a5-c7c154f59e00",
   "metadata": {},
   "outputs": [],
   "source": [
    "reversed_datafame.to_csv(REVERSED_OPTION_PROBABILITIES_PATH, index=False)"
   ]
  },
  {
   "cell_type": "code",
   "execution_count": null,
   "id": "99410620-8e6e-429b-a89e-1945cb41b710",
   "metadata": {},
   "outputs": [],
   "source": [
    "reversed_dataset_iterator = pd.read_csv(REVERSED_OPTION_PROBABILITIES_PATH, iterator=True, chunksize=10)\n",
    "\n",
    "next(reversed_dataset_iterator)"
   ]
  },
  {
   "cell_type": "code",
   "execution_count": null,
   "id": "c60561f1-a28a-465d-bf72-f8ccdebfc5b3",
   "metadata": {},
   "outputs": [],
   "source": [
    "# CSV\n",
    "\n",
    "import csv\n",
    "\n",
    "with open(OPTION_PROBABILITIES_PATH) as fr, open(REVERSED_OPTION_PROBABILITIES_PATH, 'w+') as fw:\n",
    "\n",
    "    cr = csv.reader(fr, delimiter=\",\")\n",
    "    cw = csv.writer(fw, delimiter=\",\")\n",
    "    \n",
    "    cw.writerow(next(cr))  # write title as-is\n",
    "    cw.writerows(reversed(list(cr)))"
   ]
  },
  {
   "cell_type": "markdown",
   "id": "31af7f11-837e-4bbb-b216-22eab5853119",
   "metadata": {
    "tags": []
   },
   "source": [
    "### Plot"
   ]
  },
  {
   "cell_type": "code",
   "execution_count": 5,
   "id": "2e5cf98d-86f0-48a0-8145-edb418fe51c4",
   "metadata": {},
   "outputs": [],
   "source": [
    "import numpy as np\n",
    "import matplotlib.pyplot as plt\n",
    "\n",
    "random_generator = np.random.default_rng()\n",
    "\n",
    "factorization_matrix = random_generator.integers(0, 10, size=(6, 2))"
   ]
  },
  {
   "cell_type": "code",
   "execution_count": 7,
   "id": "f01356a1-819f-403a-82d0-54e3f2fdeb61",
   "metadata": {},
   "outputs": [],
   "source": [
    "plt.matshow(factorization_matrix, cmap=\"hot\")\n",
    "plt.axis('off');"
   ]
  },
  {
   "cell_type": "code",
   "execution_count": null,
   "id": "abce8eba-c0e6-4dc3-91ab-f987b4f1fa30",
   "metadata": {},
   "outputs": [],
   "source": []
  },
  {
   "cell_type": "markdown",
   "id": "7152e047-04c9-40b2-8e8a-a1df360f787c",
   "metadata": {},
   "source": [
    "### Tutorial Sampling"
   ]
  },
  {
   "cell_type": "code",
   "execution_count": 1,
   "id": "54bb5e38-b1b4-4269-b139-84504966f0aa",
   "metadata": {},
   "outputs": [
    {
     "data": {
      "image/png": "[encoded data removed]",
      "text/plain": [
       "<Figure size 432x288 with 1 Axes>"
      ]
     },
     "metadata": {
      "needs_background": "light"
     },
     "output_type": "display_data"
    }
   ],
   "source": [
    "### Tutorial Sampling\n",
    "\n",
    "import numpy as np\n",
    "\n",
    "import matplotlib.pyplot as plt\n",
    "\n",
    "\n",
    "# Parameters\n",
    "\n",
    "samples_count = 1000\n",
    "bins_count = 100\n",
    "\n",
    "mu = mean = 0\n",
    "sigma = std = 0.1\n",
    "\n",
    "\n",
    "# Calculate\n",
    "\n",
    "samples = np.random.normal(mu, sigma, samples_count)\n",
    "\n",
    "mean_innacuracy = abs(mu - np.mean(samples))\n",
    "variance_innacuracy = abs(sigma - np.std(samples, ddof=1))\n",
    "\n",
    "\n",
    "# Plot\n",
    "\n",
    "count, bins, ignored = plt.hist(samples, bins_count, density=True)\n",
    "\n",
    "theoretical_ys = 1 / (sigma * np.sqrt(2 * np.pi)) * np.exp( -(bins - mu)**2 / (2 * sigma**2) )\n",
    "\n",
    "plt.plot(bins, theoretical_ys, linewidth=2, color='r')\n",
    "plt.show()"
   ]
  },
  {
   "cell_type": "code",
   "execution_count": null,
   "id": "6f4df2c2-65c9-43ba-9c48-3177b953dd7f",
   "metadata": {},
   "outputs": [],
   "source": []
  }
 ],
 "metadata": {
  "kernelspec": {
   "display_name": "Python 3 (ipykernel)",
   "language": "python",
   "name": "python3"
  },
  "language_info": {
   "codemirror_mode": {
    "name": "ipython",
    "version": 3
   },
   "file_extension": ".py",
   "mimetype": "text/x-python",
   "name": "python",
   "nbconvert_exporter": "python",
   "pygments_lexer": "ipython3",
   "version": "3.8.10"
  }
 },
 "nbformat": 4,
 "nbformat_minor": 5
}
