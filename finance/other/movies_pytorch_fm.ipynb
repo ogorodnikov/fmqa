{
 "cells": [
  {
   "cell_type": "markdown",
   "id": "9c7c340e-192a-40d4-b8e5-0430eaecfdab",
   "metadata": {
    "tags": []
   },
   "source": [
    "### Imports"
   ]
  },
  {
   "cell_type": "code",
   "execution_count": 1,
   "id": "09c0fdf2-9f6f-43fa-9236-70bc30cedc17",
   "metadata": {},
   "outputs": [],
   "source": [
    "import numpy as np\n",
    "import pandas as pd\n",
    "\n",
    "from matplotlib import pyplot as plt\n",
    "\n",
    "from sklearn.metrics import roc_auc_score\n",
    "from sklearn.metrics import mean_squared_error\n",
    "\n",
    "import tqdm\n",
    "import torch\n",
    "\n",
    "from torch.utils.data import DataLoader\n",
    "\n",
    "%run models/models.ipynb\n",
    "\n",
    "plt.style.use('dark_background')"
   ]
  },
  {
   "cell_type": "markdown",
   "id": "25c6c243-6531-4b5f-aa45-de6f607bc686",
   "metadata": {
    "tags": []
   },
   "source": [
    "### Datasets"
   ]
  },
  {
   "cell_type": "code",
   "execution_count": 2,
   "id": "9d981ab9-fc8a-43f9-a061-c7aa3f9d467e",
   "metadata": {},
   "outputs": [],
   "source": [
    "MOVIE_DATASET_PATH = 'ml-1m/ratings.dat'"
   ]
  },
  {
   "cell_type": "code",
   "execution_count": 3,
   "id": "824d66c2-7b83-4acb-b4ee-b9b66d8d1509",
   "metadata": {
    "tags": []
   },
   "outputs": [],
   "source": [
    "class MovieDataset(torch.utils.data.Dataset):\n",
    "\n",
    "    def __init__(self, dataset_path, sep='::', engine='python', header=None, categorize=True):\n",
    "        \n",
    "        column_names = [\n",
    "            'user_id', \n",
    "            'movie_id', \n",
    "            'rating', \n",
    "            'timestamp'\n",
    "        ]        \n",
    "        \n",
    "        data = pd.read_csv(dataset_path, sep=sep, engine=engine, header=header, \n",
    "                           names=column_names)\n",
    "        \n",
    "        self.data = data\n",
    "        \n",
    "        ratings = data['rating']\n",
    "        \n",
    "        if categorize:\n",
    "            \n",
    "            is_good_movie = ratings > 3\n",
    "            \n",
    "            ratings = ratings.mask(is_good_movie, 1)\n",
    "            ratings = ratings.mask(- is_good_movie, 0)\n",
    "        \n",
    "        self.fields = data[['user_id', 'movie_id']] - 1        \n",
    "        self.target = ratings\n",
    "        \n",
    "        self.fields = self.fields.to_numpy()[:1000]\n",
    "        self.target = self.target.to_numpy()[:1000]\n",
    "        \n",
    "        self.embedding_dimensions = np.max(self.fields, axis=0) + 1\n",
    "\n",
    "\n",
    "    def __len__(self):\n",
    "        \n",
    "        return self.fields.shape[0]\n",
    "    \n",
    "\n",
    "    def __getitem__(self, index):\n",
    "        \n",
    "        fields = self.fields[index]\n",
    "        target = self.target[index]\n",
    "        \n",
    "        return fields, target"
   ]
  },
  {
   "cell_type": "markdown",
   "id": "6325ef92-7049-47bb-bb25-1fbfb066dff3",
   "metadata": {},
   "source": [
    "### Trainer"
   ]
  },
  {
   "cell_type": "code",
   "execution_count": 4,
   "id": "3aa11014-2b74-4ffe-9fba-57eb53814116",
   "metadata": {},
   "outputs": [],
   "source": [
    "class Trainer:\n",
    "\n",
    "    def __init__(self, dataset, model, criterion, metric, optimizer):\n",
    "        \n",
    "        self.dataset = dataset\n",
    "        self.model = model\n",
    "        self.criterion = criterion\n",
    "        self.metric = metric\n",
    "        self.optimizer = optimizer        \n",
    "        \n",
    "        self.fields = torch.tensor(dataset.fields, dtype=int)\n",
    "        self.target = torch.tensor(dataset.target, dtype=int)\n",
    "        \n",
    "        # self.plot = OptionPricesPlot()\n",
    "        \n",
    "        \n",
    "    def one_step(self):\n",
    "\n",
    "        predictions = self.model(self.fields)\n",
    "\n",
    "        loss = self.criterion(predictions, self.target.float())\n",
    "\n",
    "        self.model.zero_grad()\n",
    "        \n",
    "        loss.backward()\n",
    "        \n",
    "        self.optimizer.step()\n",
    "\n",
    "        return predictions, loss\n",
    "    \n",
    "    \n",
    "    def train(self, epochs=10):\n",
    "    \n",
    "        model.train()\n",
    "\n",
    "        for epoch in range(epochs):\n",
    "            \n",
    "            predictions, loss = self.one_step()\n",
    "            \n",
    "        print('loss:', loss)\n",
    "        \n",
    "        return predictions"
   ]
  },
  {
   "cell_type": "markdown",
   "id": "791cf96a-3c36-42d6-af71-79399d973c16",
   "metadata": {
    "tags": []
   },
   "source": [
    "### Movies - Prediction"
   ]
  },
  {
   "cell_type": "code",
   "execution_count": 5,
   "id": "80b36177-d330-4c9d-994d-66f9912bc4e6",
   "metadata": {},
   "outputs": [],
   "source": [
    "# Data\n",
    "\n",
    "dataset = MovieDataset(MOVIE_DATASET_PATH, categorize=False)\n",
    "\n",
    "embedding_dimensions = dataset.embedding_dimensions\n",
    "\n",
    "\n",
    "# Model\n",
    "\n",
    "LEARNING_RATE = 0.001\n",
    "WEIGHT_DECAY = 1e-6\n",
    "\n",
    "%run models/models.ipynb\n",
    "\n",
    "model = CustomDeepFactorizationMachineModel(embedding_dimensions, \n",
    "                                            embed_dim=16, mlp_dims=(16, 16), dropout=0.2)\n",
    "\n",
    "# model = CustomLinearRegression(input_dimensions=len(embedding_dimensions),\n",
    "#                                output_dimensions=1)\n",
    "\n",
    "criterion = torch.nn.MSELoss()\n",
    "\n",
    "metric = mean_squared_error\n",
    "\n",
    "optimizer = torch.optim.Adam(params=model.parameters(), \n",
    "                             lr=LEARNING_RATE, \n",
    "                             weight_decay=WEIGHT_DECAY)\n",
    "\n",
    "# # Others\n",
    "\n",
    "# model = CustomLogisticRegression(embedding_dimensions)\n",
    "\n",
    "# model = CustomFactorizationMachine(embedding_dimensions, embed_dim=16)\n",
    "\n",
    "# criterion = torch.nn.BCELoss()\n",
    "\n",
    "# optimizer = torch.optim.SGD(params=model.parameters(), lr=LEARNING_RATE)\n",
    "\n",
    "\n",
    "trainer = Trainer(dataset=dataset,\n",
    "                  model=model,\n",
    "                  criterion=criterion,\n",
    "                  metric=metric,\n",
    "                  optimizer=optimizer)"
   ]
  },
  {
   "cell_type": "code",
   "execution_count": 6,
   "id": "7826469c-7bb8-42b3-9c30-93e3f75c9ee7",
   "metadata": {},
   "outputs": [
    {
     "name": "stdout",
     "output_type": "stream",
     "text": [
      "loss: tensor(0.3993, grad_fn=<MseLossBackward0>)\n"
     ]
    }
   ],
   "source": [
    "predictions = trainer.train(epochs=1000)"
   ]
  },
  {
   "cell_type": "code",
   "execution_count": 7,
   "id": "33723743-0678-4ffa-9a6a-571662c9f4ba",
   "metadata": {},
   "outputs": [
    {
     "data": {
      "image/png": "[encoded data removed]",
      "text/plain": [
       "<Figure size 432x288 with 1 Axes>"
      ]
     },
     "metadata": {
      "needs_background": "dark"
     },
     "output_type": "display_data"
    }
   ],
   "source": [
    "# Movies - 2D Plot\n",
    "\n",
    "movie_id = trainer.fields[:, 1]\n",
    "target_ratings = trainer.dataset.target\n",
    "predicted_ratings = predictions.detach()\n",
    "\n",
    "plt.scatter(movie_id, target_ratings, s=0.05)\n",
    "plt.scatter(movie_id, predicted_ratings, s=0.05);"
   ]
  },
  {
   "cell_type": "code",
   "execution_count": null,
   "id": "0d4b3fc6-0f1b-4052-8480-e287c081969d",
   "metadata": {},
   "outputs": [],
   "source": []
  },
  {
   "cell_type": "code",
   "execution_count": null,
   "id": "887f5401-cff5-45d9-94d9-45ceb67e1b5b",
   "metadata": {},
   "outputs": [],
   "source": []
  }
 ],
 "metadata": {
  "kernelspec": {
   "display_name": "Python 3 (ipykernel)",
   "language": "python",
   "name": "python3"
  },
  "language_info": {
   "codemirror_mode": {
    "name": "ipython",
    "version": 3
   },
   "file_extension": ".py",
   "mimetype": "text/x-python",
   "name": "python",
   "nbconvert_exporter": "python",
   "pygments_lexer": "ipython3",
   "version": "3.8.10"
  }
 },
 "nbformat": 4,
 "nbformat_minor": 5
}
