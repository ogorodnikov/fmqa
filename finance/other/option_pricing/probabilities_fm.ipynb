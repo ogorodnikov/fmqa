{
 "cells": [
  {
   "cell_type": "code",
   "execution_count": 1,
   "id": "09c0fdf2-9f6f-43fa-9236-70bc30cedc17",
   "metadata": {},
   "outputs": [],
   "source": [
    "import numpy as np\n",
    "import pandas as pd\n",
    "\n",
    "from matplotlib import pyplot as plt\n",
    "\n",
    "from sklearn.metrics import mean_squared_error\n",
    "\n",
    "import time\n",
    "import tqdm\n",
    "import torch\n",
    "\n",
    "from torch.utils.data import DataLoader\n",
    "\n",
    "%run models/models.ipynb\n",
    "\n",
    "plt.style.use('dark_background')"
   ]
  },
  {
   "cell_type": "markdown",
   "id": "25c6c243-6531-4b5f-aa45-de6f607bc686",
   "metadata": {
    "tags": []
   },
   "source": [
    "### Datasets"
   ]
  },
  {
   "cell_type": "code",
   "execution_count": 2,
   "id": "291a0c44-1531-4fe3-a174-962ae3ce7b9b",
   "metadata": {},
   "outputs": [],
   "source": [
    "OPTION_PROBABILITIES_PATH = 'simulated_prices/complete_option_probabilities_100M.csv'\n",
    "REVERSED_OPTION_PROBABILITIES_PATH = 'simulated_prices/reversed_option_probabilities_100M.csv'\n",
    "\n",
    "class ChunkDataset(torch.utils.data.Dataset):\n",
    "\n",
    "    def __init__(self, dataset_path, binary=True, scheme=None, \n",
    "                 chunk_size=10000, dataset_size=101 * 101 * 10000):\n",
    "        \n",
    "        # Scheme\n",
    "        \n",
    "        default_scheme = {'target_column': 'probability',\n",
    "                          'field_columns':\n",
    "                              {'initial_stock_price': ('>f', 32),\n",
    "                               'volatility': ('>i1', 8),\n",
    "                               'option_price': ('>f', 32)}}                          \n",
    "        \n",
    "        scheme = default_scheme if scheme is None else scheme\n",
    "\n",
    "        target_column = scheme['target_column']\n",
    "        fields_scheme = scheme['field_columns']\n",
    "        \n",
    "        \n",
    "        # Data\n",
    "\n",
    "        chunks_count = dataset_size // chunk_size        \n",
    "              \n",
    "        dataset_iterator = pd.read_csv(dataset_path, iterator=True, chunksize=chunk_size)\n",
    "        \n",
    "        chunk_tracker = tqdm.tqdm(range(chunks_count),\n",
    "                                  desc=f\"Loading\",\n",
    "                                  ncols=110,\n",
    "                                  unit='chunk',\n",
    "                                  total=chunks_count)                          \n",
    "        # Loading\n",
    "        \n",
    "        if binary:            \n",
    "            fields_count = sum(bit_count for encoding_format, bit_count in fields_scheme.values())\n",
    "            fields_dtype = 'int8'\n",
    "        else:            \n",
    "            fields_count = len(scheme)\n",
    "            fields_dtype = float\n",
    "        \n",
    "        self.fields = np.zeros(shape=(dataset_size, fields_count), dtype=fields_dtype)\n",
    "        self.targets = np.zeros(shape=dataset_size)\n",
    "        \n",
    "        row_offset = 0\n",
    "\n",
    "        for chunk_index in chunk_tracker:\n",
    "            \n",
    "            chunk = next(dataset_iterator)\n",
    "\n",
    "            column_offset = 0\n",
    "\n",
    "            for column_name, (encoding_format, column_size) in fields_scheme.items():\n",
    "                \n",
    "                if column_name == 'volatility':                    \n",
    "                    chunk[column_name] = 100 * chunk[column_name]\n",
    "\n",
    "                if binary:\n",
    "                    column = self.encode_to_bits(chunk[column_name], \n",
    "                                                 dtype=encoding_format, \n",
    "                                                 bits_count=column_size)                        \n",
    "                else:                        \n",
    "                    column = chunk[column_name].to_numpy().reshape(-1, 1)                        \n",
    "                    column_size = 1                        \n",
    "\n",
    "                self.fields[row_offset : row_offset + chunk_size, \n",
    "                            column_offset : column_offset + column_size] = column\n",
    "\n",
    "                column_offset += column_size\n",
    "                \n",
    "            self.targets[row_offset : row_offset + chunk_size] = chunk[target_column]\n",
    "\n",
    "            row_offset += chunk_size\n",
    "       \n",
    "        # self.field_dimensions = np.max(self.fields, axis=0).astype(int) + 1\n",
    "        \n",
    "        self.field_dimensions = 2 * np.ones(self.fields.shape[1], dtype=int)\n",
    "        \n",
    "        # print(\"fields.shape:\", self.fields.shape)\n",
    "        # print(\"targets.shape:\", self.targets.shape) \n",
    "        # print(\"field_dimensions:\", self.field_dimensions)     \n",
    "        \n",
    "        \n",
    "    def __len__(self):\n",
    "        \n",
    "        return self.fields.shape[0]\n",
    "    \n",
    "\n",
    "    def __getitem__(self, index):\n",
    "        \n",
    "        fields = self.fields[index]\n",
    "        target = self.targets[index]\n",
    "        \n",
    "        # print(\"index:\", index)\n",
    "        # print(\"fields:\", fields)       \n",
    "        # print(\"target:\", target)\n",
    "        \n",
    "        return fields, target\n",
    "    \n",
    "\n",
    "    def encode_to_bits(self, inputs, dtype='>f', bits_count=32):\n",
    "    \n",
    "        number_bytes = np.array([inputs], dtype=dtype)\n",
    "\n",
    "        integer_view = number_bytes.view('uint8')\n",
    "\n",
    "        bits_vector = np.unpackbits(integer_view)\n",
    "        \n",
    "        bits = bits_vector.reshape(-1, bits_count)\n",
    "\n",
    "        return bits"
   ]
  },
  {
   "cell_type": "markdown",
   "id": "136df21b-b9cb-4173-a814-cffdb1468ce1",
   "metadata": {
    "tags": []
   },
   "source": [
    "### Splitter"
   ]
  },
  {
   "cell_type": "code",
   "execution_count": 3,
   "id": "e587fe07-a179-40eb-ae96-444b753c8007",
   "metadata": {
    "tags": []
   },
   "outputs": [],
   "source": [
    "class SequentialValueSampler(torch.utils.data.Sampler):\n",
    "\n",
    "    def __init__(self, values):\n",
    "        self.values = values\n",
    "\n",
    "    def __iter__(self):\n",
    "        return iter(self.values)\n",
    "\n",
    "    def __len__(self):\n",
    "        return len(self.values)\n",
    "\n",
    "\n",
    "class Splitter:\n",
    "    \n",
    "    def __init__(self, dataset, shuffle=True, \n",
    "                 train_rate=0.8, valid_rate=0.1, \n",
    "                 batch_size=2048, dataloader_workers_count=8):\n",
    "                    \n",
    "        dataset_length = len(dataset)\n",
    "\n",
    "        train_length = int(dataset_length * train_rate)\n",
    "        valid_length = int(dataset_length * valid_rate)\n",
    "\n",
    "        test_length = dataset_length - train_length - valid_length\n",
    "        \n",
    "        ###\n",
    "\n",
    "        dataset_indices = np.arange(dataset_length, dtype=int)\n",
    "        \n",
    "        print(\"dataset_indices.shape:\", dataset_indices.shape)  \n",
    "        \n",
    "        print(\"dataset_indices:\", dataset_indices, dataset_indices.dtype) \n",
    "        \n",
    "        if shuffle:        \n",
    "            np.random.shuffle(dataset_indices)\n",
    "        \n",
    "        print(\"dataset_indices:\", dataset_indices, dataset_indices.dtype)  \n",
    "        \n",
    "        index_ranges = np.split(dataset_indices, (train_length,\n",
    "                                                  train_length + valid_length))\n",
    "        \n",
    "        train_indices, valid_indices, test_indices = index_ranges\n",
    "        \n",
    "        print(train_indices, valid_indices, test_indices)\n",
    "        print(train_indices.shape[0], valid_indices.shape[0], test_indices.shape[0],\n",
    "              train_indices.shape[0] + valid_indices.shape[0] + test_indices.shape[0])\n",
    "        \n",
    "            \n",
    "        train_sampler, valid_sampler, test_sampler = map(SequentialValueSampler, index_ranges)\n",
    "\n",
    "        self.train_data_loader = DataLoader(dataset,\n",
    "                                            batch_size=batch_size,\n",
    "                                            sampler=train_sampler,\n",
    "                                            num_workers=dataloader_workers_count)\n",
    "        \n",
    "        self.valid_data_loader = DataLoader(dataset,                                  \n",
    "                                            batch_size=batch_size,\n",
    "                                            sampler=valid_sampler,\n",
    "                                            num_workers=dataloader_workers_count)\n",
    "        \n",
    "        self.test_data_loader = DataLoader(dataset,\n",
    "                                           batch_size=batch_size,\n",
    "                                           sampler=test_sampler,\n",
    "                                           num_workers=dataloader_workers_count)   "
   ]
  },
  {
   "cell_type": "markdown",
   "id": "b666daf8-b6b0-423c-b8c4-34407c3dc20d",
   "metadata": {
    "tags": []
   },
   "source": [
    "### Trainer"
   ]
  },
  {
   "cell_type": "code",
   "execution_count": 4,
   "id": "f3cd6711-11a2-4493-b0b1-b729266e6bcf",
   "metadata": {
    "tags": []
   },
   "outputs": [],
   "source": [
    "class Trainer:\n",
    "\n",
    "    def __init__(self, model, criterion, metric, optimizer, splitter, device='cpu',\n",
    "                 epochs_logging_interval=1):\n",
    "        \n",
    "        self.device = torch.device(device)\n",
    "        \n",
    "        self.model = model.to(device)\n",
    "        self.criterion = criterion\n",
    "        self.metric = metric\n",
    "        self.optimizer = optimizer\n",
    "        self.splitter = splitter\n",
    "        \n",
    "        self.epochs_logging_interval = epochs_logging_interval\n",
    "        \n",
    "        self.train_data_loader = self.splitter.train_data_loader\n",
    "        self.valid_data_loader = self.splitter.valid_data_loader\n",
    "        self.test_data_loader = self.splitter.test_data_loader\n",
    "        \n",
    "        self.scores = []\n",
    "        self.losses_per_epoch = []\n",
    "        \n",
    "        # TODO: EarlyStopper\n",
    "    \n",
    "    \n",
    "    def fit(self, epochs=10):\n",
    "    \n",
    "        for epoch in range(epochs):\n",
    "            \n",
    "            epoch_start_time = time.time()\n",
    "            \n",
    "            train_batch_tracker = tqdm.tqdm(\n",
    "                self.train_data_loader,\n",
    "                desc=f\"Epoch: {epoch + 1}/{epochs}\",\n",
    "                unit=' batches',\n",
    "                ncols=110,\n",
    "                mininterval=1,\n",
    "            )            \n",
    "            \n",
    "            self.train(train_batch_tracker)\n",
    "            \n",
    "            score, _ = self.test(self.valid_data_loader)\n",
    "            \n",
    "            self.scores.append(score)\n",
    "            \n",
    "            epoch_duration = time.time() - epoch_start_time\n",
    "            \n",
    "            print(f\"Validation {self.metric.__name__}: {score:.05f}, \"\n",
    "                  f\"Duration: {epoch_duration:.02f} seconds\") \n",
    "            \n",
    "        total_score, total_predictions = self.test(self.test_data_loader)\n",
    "        \n",
    "        self.predictions = total_predictions\n",
    "        \n",
    "        print(f\"\\nTotal - Test {metric.__name__}: {total_score:.010f}\")\n",
    "    \n",
    "    \n",
    "    def train(self, train_batch_tracker):\n",
    "\n",
    "        self.model.train()\n",
    "\n",
    "        total_loss = 0\n",
    "        \n",
    "        losses = []\n",
    "\n",
    "        for batch, (fields, target) in enumerate(train_batch_tracker):\n",
    "            \n",
    "            predictions = self.model(fields.int())\n",
    "            \n",
    "            loss = self.criterion(predictions, target.float())\n",
    "\n",
    "            self.model.zero_grad()\n",
    "\n",
    "            loss.backward()\n",
    "\n",
    "            self.optimizer.step()\n",
    "\n",
    "            total_loss += loss.item()\n",
    "\n",
    "            if not (batch + 1) % self.epochs_logging_interval:\n",
    "\n",
    "                loss = total_loss / self.epochs_logging_interval\n",
    "\n",
    "                train_batch_tracker.set_postfix(loss=loss)\n",
    "                \n",
    "                losses.append(loss)\n",
    "\n",
    "                total_loss = 0\n",
    "                \n",
    "        self.losses_per_epoch.append(losses)\n",
    "                \n",
    "                \n",
    "    def test(self, data_loader):\n",
    "        \n",
    "        self.model.eval()\n",
    "    \n",
    "        targets = []\n",
    "        predictions = []\n",
    "\n",
    "        with torch.no_grad():\n",
    "\n",
    "            for fields, target in data_loader:\n",
    "\n",
    "                prediction = self.model(fields.int())\n",
    "\n",
    "                targets.extend(target.tolist())\n",
    "                predictions.extend(prediction.tolist())\n",
    "\n",
    "        score = self.metric(targets, predictions)\n",
    "        \n",
    "        return score, predictions"
   ]
  },
  {
   "cell_type": "markdown",
   "id": "c0e6987f-887f-423b-8eaf-4073150cbd0b",
   "metadata": {},
   "source": [
    "### 5) Probabilities - 100K Dataset"
   ]
  },
  {
   "cell_type": "code",
   "execution_count": 10,
   "id": "4f09914f-197b-4629-bf2c-08062101a79c",
   "metadata": {},
   "outputs": [
    {
     "name": "stderr",
     "output_type": "stream",
     "text": [
      "Loading: 100%|██████████████████████████████████████████████████████████| 121/121 [00:00<00:00, 592.90chunk/s]"
     ]
    },
    {
     "name": "stdout",
     "output_type": "stream",
     "text": [
      "dataset.fields.shape: (121000, 72)\n",
      "dataset.targets.shape: (121000,)\n",
      "dataset.field_dimensions: [2 2 2 2 2 2 2 2 2 2 2 2 2 2 2 2 2 2 2 2 2 2 2 2 2 2 2 2 2 2 2 2 2 2 2 2 2\n",
      " 2 2 2 2 2 2 2 2 2 2 2 2 2 2 2 2 2 2 2 2 2 2 2 2 2 2 2 2 2 2 2 2 2 2 2] 144\n"
     ]
    },
    {
     "name": "stderr",
     "output_type": "stream",
     "text": [
      "\n"
     ]
    }
   ],
   "source": [
    "# Load Data\n",
    "\n",
    "OPTION_PROBABILITIES_PATH = 'simulated_prices/option_probabilities_100K.csv'\n",
    "\n",
    "dataset = ChunkDataset(\n",
    "    OPTION_PROBABILITIES_PATH, \n",
    "    chunk_size=1000, \n",
    "    dataset_size=11 * 11 * 1000\n",
    "    # dataset_size=10000,\n",
    ")\n",
    "\n",
    "field_dimensions = dataset.field_dimensions\n",
    "\n",
    "print(\"dataset.fields.shape:\", dataset.fields.shape)\n",
    "print(\"dataset.targets.shape:\", dataset.targets.shape) \n",
    "print(\"dataset.field_dimensions:\", dataset.field_dimensions, dataset.field_dimensions.sum())    "
   ]
  },
  {
   "cell_type": "code",
   "execution_count": 11,
   "id": "2da27d57-36e8-40c6-b15a-2354e22aefcb",
   "metadata": {},
   "outputs": [
    {
     "name": "stdout",
     "output_type": "stream",
     "text": [
      "dataset_indices.shape: (121000,)\n",
      "dataset_indices: [     0      1      2 ... 120997 120998 120999] int64\n",
      "dataset_indices: [ 10808  48703  72016 ...  62103  98769 104469] int64\n",
      "[10808 48703 72016 ... 79808 45920 79543] [48887 49979 22991 ... 32766 99910 16131] [ 26151  75856  98570 ...  62103  98769 104469]\n",
      "96800 12100 12100 121000\n"
     ]
    }
   ],
   "source": [
    "splitter = Splitter(dataset, batch_size=100, dataloader_workers_count=8)"
   ]
  },
  {
   "cell_type": "code",
   "execution_count": 12,
   "id": "9f659e17-9dc4-4c68-8255-b564a4ab96bf",
   "metadata": {},
   "outputs": [],
   "source": [
    "# Model\n",
    "\n",
    "LEARNING_RATE = 0.001\n",
    "WEIGHT_DECAY = 1e-6\n",
    "\n",
    "embedding_dimension = 16\n",
    "\n",
    "%run models/models.ipynb\n",
    "\n",
    "model = CustomFactorizationMachine(field_dimensions, embedding_dimension=embedding_dimension)\n",
    "\n",
    "criterion = torch.nn.MSELoss()\n",
    "\n",
    "metric = mean_squared_error\n",
    "\n",
    "optimizer = torch.optim.Adam(params=model.parameters(), \n",
    "                             lr=LEARNING_RATE, \n",
    "                             weight_decay=WEIGHT_DECAY)"
   ]
  },
  {
   "cell_type": "code",
   "execution_count": 13,
   "id": "0959bd78-9338-4e82-84b9-f78fc73a3676",
   "metadata": {},
   "outputs": [],
   "source": [
    "trainer = Trainer(model=model,\n",
    "                  criterion=criterion,\n",
    "                  metric=metric,\n",
    "                  optimizer=optimizer,\n",
    "                  splitter=splitter)"
   ]
  },
  {
   "cell_type": "code",
   "execution_count": 14,
   "id": "c7f1e4d7-42b6-4fd7-8645-acd05167171f",
   "metadata": {},
   "outputs": [
    {
     "name": "stderr",
     "output_type": "stream",
     "text": [
      "Epoch: 1/10: 100%|███████████████████████████████████████| 968/968 [00:05<00:00, 181.63 batches/s, loss=0.265]\n"
     ]
    },
    {
     "name": "stdout",
     "output_type": "stream",
     "text": [
      "Validation mean_squared_error: 0.22092, Duration: 5.71 seconds\n"
     ]
    },
    {
     "name": "stderr",
     "output_type": "stream",
     "text": [
      "Epoch: 2/10: 100%|███████████████████████████████████████| 968/968 [00:05<00:00, 181.88 batches/s, loss=0.126]\n"
     ]
    },
    {
     "name": "stdout",
     "output_type": "stream",
     "text": [
      "Validation mean_squared_error: 0.11486, Duration: 5.68 seconds\n"
     ]
    },
    {
     "name": "stderr",
     "output_type": "stream",
     "text": [
      "Epoch: 3/10: 100%|██████████████████████████████████████| 968/968 [00:05<00:00, 181.20 batches/s, loss=0.0543]\n"
     ]
    },
    {
     "name": "stdout",
     "output_type": "stream",
     "text": [
      "Validation mean_squared_error: 0.03890, Duration: 5.72 seconds\n"
     ]
    },
    {
     "name": "stderr",
     "output_type": "stream",
     "text": [
      "Epoch: 4/10: 100%|██████████████████████████████████████| 968/968 [00:05<00:00, 182.81 batches/s, loss=0.0255]\n"
     ]
    },
    {
     "name": "stdout",
     "output_type": "stream",
     "text": [
      "Validation mean_squared_error: 0.01657, Duration: 5.66 seconds\n"
     ]
    },
    {
     "name": "stderr",
     "output_type": "stream",
     "text": [
      "Epoch: 5/10: 100%|██████████████████████████████████████| 968/968 [00:05<00:00, 182.03 batches/s, loss=0.0149]\n"
     ]
    },
    {
     "name": "stdout",
     "output_type": "stream",
     "text": [
      "Validation mean_squared_error: 0.02594, Duration: 5.67 seconds\n"
     ]
    },
    {
     "name": "stderr",
     "output_type": "stream",
     "text": [
      "Epoch: 6/10: 100%|█████████████████████████████████████| 968/968 [00:05<00:00, 185.73 batches/s, loss=0.00955]\n"
     ]
    },
    {
     "name": "stdout",
     "output_type": "stream",
     "text": [
      "Validation mean_squared_error: 0.00724, Duration: 5.58 seconds\n"
     ]
    },
    {
     "name": "stderr",
     "output_type": "stream",
     "text": [
      "Epoch: 7/10: 100%|█████████████████████████████████████| 968/968 [00:05<00:00, 189.41 batches/s, loss=0.00528]\n"
     ]
    },
    {
     "name": "stdout",
     "output_type": "stream",
     "text": [
      "Validation mean_squared_error: 0.00362, Duration: 5.47 seconds\n"
     ]
    },
    {
     "name": "stderr",
     "output_type": "stream",
     "text": [
      "Epoch: 8/10: 100%|█████████████████████████████████████| 968/968 [00:05<00:00, 181.72 batches/s, loss=0.00394]\n"
     ]
    },
    {
     "name": "stdout",
     "output_type": "stream",
     "text": [
      "Validation mean_squared_error: 0.00286, Duration: 5.69 seconds\n"
     ]
    },
    {
     "name": "stderr",
     "output_type": "stream",
     "text": [
      "Epoch: 9/10: 100%|█████████████████████████████████████| 968/968 [00:05<00:00, 179.38 batches/s, loss=0.00287]\n"
     ]
    },
    {
     "name": "stdout",
     "output_type": "stream",
     "text": [
      "Validation mean_squared_error: 0.00218, Duration: 5.80 seconds\n"
     ]
    },
    {
     "name": "stderr",
     "output_type": "stream",
     "text": [
      "Epoch: 10/10: 100%|████████████████████████████████████| 968/968 [00:05<00:00, 181.12 batches/s, loss=0.00751]\n"
     ]
    },
    {
     "name": "stdout",
     "output_type": "stream",
     "text": [
      "Validation mean_squared_error: 0.01089, Duration: 5.71 seconds\n",
      "\n",
      "Total - Test mean_squared_error: 0.0105799104\n"
     ]
    }
   ],
   "source": [
    "trainer.fit(epochs=10)"
   ]
  },
  {
   "cell_type": "code",
   "execution_count": null,
   "id": "2a7b4bbf-e9a5-400e-82d8-640de782a7bf",
   "metadata": {},
   "outputs": [],
   "source": [
    "# trainer.scores[:]"
   ]
  },
  {
   "cell_type": "code",
   "execution_count": null,
   "id": "9cf6c4cd-f778-4184-a1c9-e4ad399f04d7",
   "metadata": {},
   "outputs": [],
   "source": [
    "plt.plot(trainer.scores[:], label=\"MSE\")\n",
    "    \n",
    "plt.xlabel(\"Epoch\")\n",
    "plt.ylabel(\"Mean Square Error\")\n",
    "plt.legend();"
   ]
  },
  {
   "cell_type": "code",
   "execution_count": null,
   "id": "72d18cc4-63e4-4fb7-a7ee-2a2d2c078e15",
   "metadata": {},
   "outputs": [],
   "source": [
    "MODEL_PATH = 'saved_models/factorization_machine_100K_16_embeddings.pt'\n",
    "\n",
    "torch.save(model.state_dict(), MODEL_PATH)"
   ]
  },
  {
   "cell_type": "markdown",
   "id": "272dcd50-c2cb-4413-b13d-d98c97860d2c",
   "metadata": {},
   "source": [
    "### Predict - 100K Dataset"
   ]
  },
  {
   "cell_type": "code",
   "execution_count": 56,
   "id": "098c093c-644f-452c-8216-219ccff6d3b4",
   "metadata": {},
   "outputs": [],
   "source": [
    "def encode_to_bits(inputs, dtype='>f', bits_count=32):\n",
    "\n",
    "    number_bytes = np.array([inputs], dtype=dtype)\n",
    "\n",
    "    integer_view = number_bytes.view('uint8')\n",
    "\n",
    "    bits_vector = np.unpackbits(integer_view)\n",
    "\n",
    "    bits = bits_vector.reshape(-1, bits_count)\n",
    "\n",
    "    return bits\n",
    "\n",
    "\n",
    "def decode_from_bits(bits, dtype='>f', bitorder='big'):\n",
    "    \n",
    "    bits_vector = bits.reshape(-1)\n",
    "    \n",
    "    integer_view = np.packbits(bits_vector, bitorder=bitorder)\n",
    "\n",
    "    output = integer_view.view(dtype)\n",
    "    \n",
    "    return output"
   ]
  },
  {
   "cell_type": "code",
   "execution_count": 57,
   "id": "68b40d34-1570-4829-9792-3ad1e19afd02",
   "metadata": {},
   "outputs": [
    {
     "name": "stdout",
     "output_type": "stream",
     "text": [
      "[0 1 0 0 0 0 1 1 1 0 0 1 0 1 1 0 0 0 0 0 0 0 0 0 0 0 0 0 0 0 0 0] [0 0 1 0 1 0 0 0] [300.] [40]\n",
      "[0 1 0 0 0 0 1 1 1 1 1 1 1 0 1 0 0 0 0 0 0 0 0 0 0 0 0 0 0 0 0 0] [0 0 0 1 0 1 0 0] [500.] [20]\n",
      "[0 1 0 0 0 0 1 1 1 0 0 1 0 1 1 0 0 0 0 0 0 0 0 0 0 0 0 0 0 0 0 0] [0 0 0 1 1 1 1 0] [300.] [30]\n",
      "[0 1 0 0 0 1 0 0 0 0 0 1 0 1 1 0 0 0 0 0 0 0 0 0 0 0 0 0 0 0 0 0] [0 0 0 1 0 1 0 0] [600.] [20]\n",
      "[0 1 0 0 0 0 1 1 1 1 0 0 1 0 0 0 0 0 0 0 0 0 0 0 0 0 0 0 0 0 0 0] [0 0 0 1 1 1 1 0] [400.] [30]\n",
      "[0 1 0 0 0 0 1 1 1 1 0 0 1 0 0 0 0 0 0 0 0 0 0 0 0 0 0 0 0 0 0 0] [0 0 0 0 1 0 1 0] [400.] [10]\n",
      "[0 1 0 0 0 0 1 0 1 1 0 0 1 0 0 0 0 0 0 0 0 0 0 0 0 0 0 0 0 0 0 0] [0 0 0 1 0 1 0 0] [100.] [20]\n",
      "[0 1 0 0 0 1 0 0 0 0 1 0 1 1 1 1 0 0 0 0 0 0 0 0 0 0 0 0 0 0 0 0] [0 1 0 1 0 0 0 0] [700.] [80]\n",
      "[0 1 0 0 0 1 0 0 0 0 1 0 1 1 1 1 0 0 0 0 0 0 0 0 0 0 0 0 0 0 0 0] [0 1 0 0 0 1 1 0] [700.] [70]\n",
      "[0 1 0 0 0 1 0 0 0 0 0 1 0 1 1 0 0 0 0 0 0 0 0 0 0 0 0 0 0 0 0 0] [0 1 0 0 0 1 1 0] [600.] [70]\n"
     ]
    }
   ],
   "source": [
    "for fields_batch, target_batch in splitter.test_data_loader:\n",
    "   \n",
    "    for fields, target in zip(fields_batch[:10], target_batch[:10]):\n",
    "        \n",
    "        intial_option_price_bits = fields[:32].numpy()\n",
    "        volatility_bits = fields[32:32 + 8].numpy()\n",
    "\n",
    "        intial_option_price = decode_from_bits(intial_option_price_bits)\n",
    "        volatility = decode_from_bits(volatility_bits, dtype='i1')\n",
    "\n",
    "        print(intial_option_price_bits, volatility_bits, intial_option_price, volatility)\n",
    "        \n",
    "    break"
   ]
  },
  {
   "cell_type": "code",
   "execution_count": 60,
   "id": "cf701c7f-9181-4b8a-98ea-238bf542fc28",
   "metadata": {},
   "outputs": [
    {
     "name": "stdout",
     "output_type": "stream",
     "text": [
      "[300.] [40] [129.86308] 9e-05 4.39123981621492e-09 8.999560876018379e-05\n",
      "[500.] [20] [439.8291] 9e-05 5.0809403546736576e-06 8.491905964532635e-05\n",
      "[300.] [30] [172.93678] 9e-05 4.221961660277884e-07 8.957780383397222e-05\n",
      "[600.] [20] [415.19144] 8e-05 1.0161644325989982e-07 7.98983835567401e-05\n",
      "[400.] [30] [166.07182] 8e-05 4.852965945767451e-11 7.999995147034055e-05\n",
      "[400.] [10] [252.02824] 7e-05 3.70824260187419e-08 6.996291757398125e-05\n",
      "[100.] [20] [-11.100469] 7e-05 3.004558823960224e-10 6.99996995441176e-05\n",
      "[700.] [80] [321.24167] 0.00023 1.0214783463524668e-09 0.00022999897852165365\n",
      "[700.] [70] [271.08585] 0.00019 3.765796563470758e-09 0.00018999623420343654\n",
      "[600.] [70] [182.81741] 0.00017 8.574980725484238e-09 0.00016999142501927453\n"
     ]
    }
   ],
   "source": [
    "model.eval()\n",
    "    \n",
    "targets = []\n",
    "predictions = []\n",
    "fields_list = []\n",
    "\n",
    "with torch.no_grad():\n",
    "\n",
    "    for fields, target in trainer.splitter.test_data_loader:\n",
    "        \n",
    "        prediction = model(fields.int())\n",
    "\n",
    "        targets.extend(target.tolist())\n",
    "        predictions.extend(prediction.tolist())\n",
    "        fields_list.extend(fields)\n",
    "        \n",
    "        break\n",
    "        \n",
    "for fields, target, prediction in list(zip(fields_list, targets, predictions))[:10]:\n",
    "\n",
    "    intial_stock_price_bits = fields[:32]\n",
    "    volatility_bits = fields[32 : 32 + 8]\n",
    "    option_price_bits = fields[32 + 8 : 32 + 8 + 32]\n",
    "    \n",
    "    intial_stock_price = decode_from_bits(intial_stock_price_bits)\n",
    "    volatility = decode_from_bits(volatility_bits, dtype='i1')\n",
    "    option_price = decode_from_bits(option_price_bits)\n",
    "    \n",
    "    print(intial_stock_price, volatility, option_price, target, prediction, target - prediction)"
   ]
  },
  {
   "cell_type": "code",
   "execution_count": null,
   "id": "45d41bc0-e06c-4b0f-a9cf-3c57a4379c47",
   "metadata": {},
   "outputs": [],
   "source": []
  },
  {
   "cell_type": "markdown",
   "id": "fef34a28-3404-4b1b-9432-7d8824af052d",
   "metadata": {
    "jp-MarkdownHeadingCollapsed": true,
    "tags": []
   },
   "source": [
    "### 4) Probabilities - 100M Dataset"
   ]
  },
  {
   "cell_type": "code",
   "execution_count": 5,
   "id": "092e2aae-39b5-48a0-9b84-81aca1b7f37b",
   "metadata": {},
   "outputs": [
    {
     "name": "stderr",
     "output_type": "stream",
     "text": [
      "Loading: 100%|██████████████████████████████████████████████████████| 10201/10201 [01:02<00:00, 163.38chunk/s]"
     ]
    },
    {
     "name": "stdout",
     "output_type": "stream",
     "text": [
      "dataset.fields.shape: (102010000, 72)\n",
      "dataset.targets.shape: (102010000,)\n",
      "dataset.field_dimensions: [2 2 2 2 2 2 2 2 2 2 2 2 2 2 2 2 2 2 2 2 2 2 2 2 2 2 2 2 2 2 2 2 2 2 2 2 2\n",
      " 2 2 2 2 2 2 2 2 2 2 2 2 2 2 2 2 2 2 2 2 2 2 2 2 2 2 2 2 2 2 2 2 2 2 2] 144\n"
     ]
    },
    {
     "name": "stderr",
     "output_type": "stream",
     "text": [
      "\n"
     ]
    }
   ],
   "source": [
    "# Load Data\n",
    "\n",
    "dataset = ChunkDataset(\n",
    "    # REVERSED_OPTION_PROBABILITIES_PATH,\n",
    "    OPTION_PROBABILITIES_PATH, \n",
    "    # dataset_size=1000000,\n",
    ")\n",
    "\n",
    "field_dimensions = dataset.field_dimensions\n",
    "\n",
    "print(\"dataset.fields.shape:\", dataset.fields.shape)\n",
    "print(\"dataset.targets.shape:\", dataset.targets.shape) \n",
    "print(\"dataset.field_dimensions:\", dataset.field_dimensions, dataset.field_dimensions.sum())    "
   ]
  },
  {
   "cell_type": "code",
   "execution_count": 6,
   "id": "af10ba22-7b5b-430c-8f7a-cc7595a1af98",
   "metadata": {},
   "outputs": [
    {
     "name": "stdout",
     "output_type": "stream",
     "text": [
      "dataset_indices.shape: (102010000,)\n",
      "dataset_indices: [        0         1         2 ... 102009997 102009998 102009999] int64\n",
      "dataset_indices: [81260510 72987896 91541084 ... 98454314 48837090 71213999] int64\n",
      "[81260510 72987896 91541084 ... 80462463 17308774 69807394] [76727132  7648110 25702263 ... 90223167 89350706 41100475] [ 46547273  94003251 101634449 ...  98454314  48837090  71213999]\n",
      "81608000 10201000 10201000 102010000\n"
     ]
    }
   ],
   "source": [
    "splitter = Splitter(dataset, batch_size=1000, dataloader_workers_count=8)"
   ]
  },
  {
   "cell_type": "code",
   "execution_count": 7,
   "id": "5e3e5a33-e6d4-4514-9fc1-813ec71fd9b5",
   "metadata": {},
   "outputs": [],
   "source": [
    "# Model\n",
    "\n",
    "LEARNING_RATE = 0.001\n",
    "WEIGHT_DECAY = 1e-6\n",
    "\n",
    "embedding_dimension = 144\n",
    "\n",
    "%run models/models.ipynb\n",
    "\n",
    "model = CustomFactorizationMachine(field_dimensions, embedding_dimension=embedding_dimension)\n",
    "\n",
    "criterion = torch.nn.MSELoss()\n",
    "\n",
    "metric = mean_squared_error\n",
    "\n",
    "optimizer = torch.optim.Adam(params=model.parameters(), \n",
    "                             lr=LEARNING_RATE, \n",
    "                             weight_decay=WEIGHT_DECAY)"
   ]
  },
  {
   "cell_type": "code",
   "execution_count": 8,
   "id": "90abea18-a619-48a6-a50e-f6bf5e06ddd7",
   "metadata": {},
   "outputs": [],
   "source": [
    "trainer = Trainer(model=model,\n",
    "                  criterion=criterion,\n",
    "                  metric=metric,\n",
    "                  optimizer=optimizer,\n",
    "                  splitter=splitter)"
   ]
  },
  {
   "cell_type": "code",
   "execution_count": 9,
   "id": "2cee7b03-f309-4018-a05a-e01970383c7b",
   "metadata": {
    "tags": []
   },
   "outputs": [
    {
     "name": "stderr",
     "output_type": "stream",
     "text": [
      "Epoch: 1/1: 100%|███████████████████████████████| 81608/81608 [14:53:06<00:00,  1.52 batches/s, loss=0.000154]\n"
     ]
    },
    {
     "name": "stdout",
     "output_type": "stream",
     "text": [
      "Validation mean_squared_error: 0.00020, Duration: 53754.09 seconds\n",
      "\n",
      "Total - Test mean_squared_error: 0.00020\n"
     ]
    }
   ],
   "source": [
    "trainer.fit(epochs=1)"
   ]
  },
  {
   "cell_type": "code",
   "execution_count": 38,
   "id": "34c36535-bba1-4c80-925b-a60248196ae7",
   "metadata": {},
   "outputs": [
    {
     "data": {
      "image/png": "[encoded data removed]",
      "text/plain": [
       "<Figure size 432x288 with 1 Axes>"
      ]
     },
     "metadata": {
      "needs_background": "dark"
     },
     "output_type": "display_data"
    }
   ],
   "source": [
    "plt.plot(trainer.losses_per_epoch[0][100:10000], label=\"MSE\")\n",
    "    \n",
    "plt.xlabel(\"Batch\")\n",
    "plt.ylabel(\"Mean Square Error\")\n",
    "plt.legend();"
   ]
  },
  {
   "cell_type": "code",
   "execution_count": null,
   "id": "f5c068d1-271a-479f-a5e3-b4638146d037",
   "metadata": {},
   "outputs": [],
   "source": [
    "# 10 initial stock prices, 10 volatilities, 1000 most probable bins -> 1M dataset\n",
    "\n",
    "# number of samples -> 1M"
   ]
  },
  {
   "cell_type": "code",
   "execution_count": 30,
   "id": "c485c449-f35e-4de9-a94d-da6c1af32645",
   "metadata": {},
   "outputs": [
    {
     "data": {
      "image/png": "[encoded data removed]",
      "text/plain": [
       "<Figure size 432x288 with 1 Axes>"
      ]
     },
     "metadata": {
      "needs_background": "dark"
     },
     "output_type": "display_data"
    }
   ],
   "source": [
    "plt.plot(trainer.losses_per_epoch[0][-500:], label=\"MSE\")\n",
    "    \n",
    "plt.xlabel(\"Batch\")\n",
    "plt.ylabel(\"Mean Square Error\")\n",
    "plt.legend();"
   ]
  },
  {
   "cell_type": "code",
   "execution_count": 12,
   "id": "3bc375c4-a80c-4c41-b5c2-d48ba1a840d8",
   "metadata": {
    "tags": []
   },
   "outputs": [],
   "source": [
    "# model.state_dict()"
   ]
  },
  {
   "cell_type": "code",
   "execution_count": null,
   "id": "d39c6495-aea2-45c6-a7ff-eda32ee73e6d",
   "metadata": {},
   "outputs": [],
   "source": []
  },
  {
   "cell_type": "code",
   "execution_count": 13,
   "id": "d528b84e-680c-4622-a174-9ca9602cad8e",
   "metadata": {},
   "outputs": [],
   "source": [
    "MODEL_PATH = 'saved_models/factorization_machine_100M_144_embeddings.pt'\n",
    "\n",
    "torch.save(model.state_dict(), MODEL_PATH)"
   ]
  },
  {
   "cell_type": "markdown",
   "id": "e18faab7-ba52-4893-b3bb-0d07103e9582",
   "metadata": {
    "tags": []
   },
   "source": [
    "### Predict - 100M Dataset"
   ]
  },
  {
   "cell_type": "code",
   "execution_count": null,
   "id": "6df91c9a-18c2-4490-a24b-32186f3add6c",
   "metadata": {},
   "outputs": [
    {
     "name": "stderr",
     "output_type": "stream",
     "text": [
      "Loading: 100%|██████████████████████████████████████████████████████| 10201/10201 [00:55<00:00, 185.36chunk/s]"
     ]
    },
    {
     "name": "stdout",
     "output_type": "stream",
     "text": [
      "dataset.fields.shape: (102010000, 72)\n",
      "dataset.targets.shape: (102010000,)\n",
      "dataset.field_dimensions: [2 2 2 2 2 2 2 2 2 2 2 2 2 2 2 2 2 2 2 2 2 2 2 2 2 2 2 2 2 2 2 2 2 2 2 2 2\n",
      " 2 2 2 2 2 2 2 2 2 2 2 2 2 2 2 2 2 2 2 2 2 2 2 2 2 2 2 2 2 2 2 2 2 2 2] 144\n"
     ]
    },
    {
     "name": "stderr",
     "output_type": "stream",
     "text": [
      "\n"
     ]
    }
   ],
   "source": [
    "# Load Data\n",
    "\n",
    "dataset = ChunkDataset(\n",
    "    REVERSED_OPTION_PROBABILITIES_PATH,\n",
    "    # OPTION_PROBABILITIES_PATH, \n",
    "    dataset_size=1000000,\n",
    ")\n",
    "\n",
    "field_dimensions = dataset.field_dimensions\n",
    "\n",
    "print(\"dataset.fields.shape:\", dataset.fields.shape)\n",
    "print(\"dataset.targets.shape:\", dataset.targets.shape) \n",
    "print(\"dataset.field_dimensions:\", dataset.field_dimensions, dataset.field_dimensions.sum())    "
   ]
  },
  {
   "cell_type": "code",
   "execution_count": null,
   "id": "0bf1416f-6e63-4014-96c6-6f8a028fdbec",
   "metadata": {},
   "outputs": [
    {
     "name": "stdout",
     "output_type": "stream",
     "text": [
      "dataset_indices.shape: (102010000,)\n",
      "dataset_indices: [        0         1         2 ... 102009997 102009998 102009999] int64\n",
      "dataset_indices: [39404751 33074587 28512073 ... 29626845 39104549 12665155] int64\n",
      "[39404751 33074587 28512073 ... 65287990 51979360 23205434] [ 4091019 26345064 58833450 ... 89453440 14510084 59233113] [22741452 16869266 38587347 ... 29626845 39104549 12665155]\n",
      "81608000 10201000 10201000 102010000\n"
     ]
    }
   ],
   "source": [
    "splitter = Splitter(dataset, batch_size=1000, dataloader_workers_count=8)"
   ]
  },
  {
   "cell_type": "code",
   "execution_count": null,
   "id": "bff7b5e2-1d23-420e-9849-ece40fa4f200",
   "metadata": {},
   "outputs": [],
   "source": [
    "# MODEL_PATH = 'saved_models/factorization_machine_100M.pt'\n",
    "\n",
    "# loaded_model = CustomFactorizationMachine(field_dimensions, embedding_dimension=embedding_dimension)\n",
    "\n",
    "# state_dict = torch.load(MODEL_PATH)\n",
    "# loaded_model.load_state_dict(state_dict)\n",
    "# loaded_model.eval()"
   ]
  },
  {
   "cell_type": "code",
   "execution_count": 14,
   "id": "1722f92b-2014-4b50-a39c-6cfdbdb5f86a",
   "metadata": {},
   "outputs": [],
   "source": [
    "def encode_to_bits(inputs, dtype='>f', bits_count=32):\n",
    "\n",
    "    number_bytes = np.array([inputs], dtype=dtype)\n",
    "\n",
    "    integer_view = number_bytes.view('uint8')\n",
    "\n",
    "    bits_vector = np.unpackbits(integer_view)\n",
    "\n",
    "    bits = bits_vector.reshape(-1, bits_count)\n",
    "\n",
    "    return bits\n",
    "\n",
    "\n",
    "def decode_from_bits(bits, dtype='>f', bitorder='big'):\n",
    "    \n",
    "    bits_vector = bits.reshape(-1)\n",
    "    \n",
    "    integer_view = np.packbits(bits_vector, bitorder=bitorder)\n",
    "\n",
    "    output = integer_view.view(dtype)\n",
    "    \n",
    "    return output"
   ]
  },
  {
   "cell_type": "code",
   "execution_count": 15,
   "id": "31887ebb-5d2c-4790-93c5-bc23b3dbf22d",
   "metadata": {},
   "outputs": [
    {
     "name": "stdout",
     "output_type": "stream",
     "text": [
      "[0 1 0 0 0 1 0 1 1 0 0 0 1 1 1 1 1 1 0 0 0 0 0 0 0 0 0 0 0 0 0 0] [0 0 0 0 1 0 0 0] [4600.] [8]\n",
      "[0 1 0 0 0 1 1 0 0 0 0 1 0 0 0 1 0 1 0 1 0 0 0 0 0 0 0 0 0 0 0 0] [0 0 0 0 0 1 1 1] [9300.] [7]\n",
      "[0 1 0 0 0 1 1 0 0 0 0 1 1 1 0 0 0 1 0 0 0 0 0 0 0 0 0 0 0 0 0 0] [0 0 1 1 1 1 1 1] [10000.] [63]\n",
      "[0 1 0 0 0 1 0 1 0 0 1 0 1 0 0 0 1 1 0 0 0 0 0 0 0 0 0 0 0 0 0 0] [0 1 0 0 0 0 1 0] [2700.] [66]\n",
      "[0 1 0 0 0 1 0 1 1 0 0 0 0 0 1 1 0 1 0 0 0 0 0 0 0 0 0 0 0 0 0 0] [0 1 0 0 1 1 0 0] [4200.] [76]\n",
      "[0 1 0 0 0 1 0 1 0 0 0 0 0 0 1 1 0 1 0 0 0 0 0 0 0 0 0 0 0 0 0 0] [0 1 0 0 1 0 0 0] [2100.] [72]\n",
      "[0 1 0 0 0 1 0 0 1 0 1 0 1 1 1 1 0 0 0 0 0 0 0 0 0 0 0 0 0 0 0 0] [0 1 0 1 0 1 0 1] [1400.] [85]\n",
      "[0 1 0 0 0 1 0 0 1 0 1 1 1 0 1 1 1 0 0 0 0 0 0 0 0 0 0 0 0 0 0 0] [0 0 1 0 1 0 1 0] [1500.] [42]\n",
      "[0 1 0 0 0 1 0 1 1 0 1 1 0 0 1 0 0 0 1 0 0 0 0 0 0 0 0 0 0 0 0 0] [0 0 1 0 1 0 1 1] [5700.] [43]\n",
      "[0 1 0 0 0 1 0 1 1 1 0 0 0 0 0 1 1 1 0 0 0 0 0 0 0 0 0 0 0 0 0 0] [0 0 0 0 0 0 0 0] [6200.] [0]\n"
     ]
    }
   ],
   "source": [
    "for fields_batch, target_batch in splitter.test_data_loader:\n",
    "   \n",
    "    for fields, target in zip(fields_batch[:10], target_batch[:10]):\n",
    "        \n",
    "        intial_option_price_bits = fields[:32].numpy()\n",
    "        volatility_bits = fields[32:32 + 8].numpy()\n",
    "\n",
    "        intial_option_price = decode_from_bits(intial_option_price_bits)\n",
    "        volatility = decode_from_bits(volatility_bits, dtype='i1')\n",
    "\n",
    "        print(intial_option_price_bits, volatility_bits, intial_option_price, volatility)\n",
    "        \n",
    "    break"
   ]
  },
  {
   "cell_type": "code",
   "execution_count": 17,
   "id": "62c22880-1457-4d30-baf2-b0aa9d06ddef",
   "metadata": {},
   "outputs": [
    {
     "name": "stdout",
     "output_type": "stream",
     "text": [
      "[4600.] [8] [4124.875] 0.0002 -0.009663581848144531\n",
      "[9300.] [7] [7468.6055] 0.0004 -0.01102834939956665\n",
      "[10000.] [63] [31947.064] 0.0 -0.026633262634277344\n",
      "[2700.] [66] [145.7075] 0.001 0.01563405990600586\n",
      "[4200.] [76] [13736.384] 0.0001 -0.019412517547607422\n",
      "[2100.] [72] [10532.518] 0.0 -0.00978231430053711\n",
      "[1400.] [85] [22192.334] 0.0 -0.01628589630126953\n",
      "[1500.] [42] [1476.3826] 0.0001 -0.012578964233398438\n",
      "[5700.] [43] [14892.671] 0.0 -0.026964664459228516\n",
      "[6200.] [0] [4917.28] 0.0 -0.015668869018554688\n"
     ]
    }
   ],
   "source": [
    "model.eval()\n",
    "    \n",
    "targets = []\n",
    "predictions = []\n",
    "fields_list = []\n",
    "\n",
    "with torch.no_grad():\n",
    "\n",
    "    for fields, target in trainer.splitter.test_data_loader:\n",
    "        \n",
    "        prediction = model(fields.int())\n",
    "\n",
    "        targets.extend(target.tolist())\n",
    "        predictions.extend(prediction.tolist())\n",
    "        fields_list.extend(fields)\n",
    "        \n",
    "        break\n",
    "        \n",
    "for fields, target, prediction in list(zip(fields_list, targets, predictions))[:10]:\n",
    "\n",
    "    intial_stock_price_bits = fields[:32]\n",
    "    volatility_bits = fields[32 : 32 + 8]\n",
    "    option_price_bits = fields[32 + 8 : 32 + 8 + 32]\n",
    "    \n",
    "    intial_stock_price = decode_from_bits(intial_stock_price_bits)\n",
    "    volatility = decode_from_bits(volatility_bits, dtype='i1')\n",
    "    option_price = decode_from_bits(option_price_bits)\n",
    "    \n",
    "    print(intial_stock_price, volatility, option_price, target, prediction)"
   ]
  },
  {
   "cell_type": "code",
   "execution_count": null,
   "id": "51b51eec-011a-4103-b8d1-7e8749a36333",
   "metadata": {},
   "outputs": [],
   "source": []
  },
  {
   "cell_type": "markdown",
   "id": "2a4b3005-5450-44d7-b0da-caaed1fab582",
   "metadata": {
    "tags": []
   },
   "source": [
    "### Tiny Dataset"
   ]
  },
  {
   "cell_type": "code",
   "execution_count": 5,
   "id": "acc9d01a-cb28-40ef-8747-8769ab97fdf2",
   "metadata": {
    "tags": []
   },
   "outputs": [],
   "source": [
    "# Factorization Machine (FM):\n",
    "\n",
    "# initial_stock_price, volatility, option_price -> probability\n",
    "\n",
    "# QUBO:\n",
    "    \n",
    "# initial_stock_price, volatility -> maximize probability -> probability\n",
    "\n",
    "\n",
    "TINY_DATASET = np.array([\n",
    "    \n",
    "    [0, 0, 0.0],\n",
    "    [0, 1, 1.0],\n",
    "    \n",
    "    [1, 0, 0.0],\n",
    "    [1, 1, 1.0],\n",
    "    \n",
    "    [2, 0, 0.1],\n",
    "    [2, 1, 0.9],\n",
    "    \n",
    "    [3, 0, 0.1],\n",
    "    [3, 1, 0.9],\n",
    "    [4, 0, 0.2],\n",
    "    [4, 1, 0.8],    \n",
    "    [5, 0, 0.2],\n",
    "    [5, 1, 0.8],    \n",
    "    [6, 0, 0.3],\n",
    "    [6, 1, 0.7],\n",
    "    [7, 0, 0.3],\n",
    "    [7, 1, 0.7],\n",
    "    \n",
    "    [8, 0, 0.4],\n",
    "    [8, 1, 0.6],\n",
    "    [9, 0, 0.4],\n",
    "    [9, 1, 0.6],\n",
    "    [10, 0, 0.5],\n",
    "    [10, 1, 0.5],\n",
    "    [11, 0, 0.5],\n",
    "    [11, 1, 0.5],\n",
    "    [12, 0, 0.6],\n",
    "    [12, 1, 0.4],    \n",
    "    [13, 0, 0.6],\n",
    "    [13, 1, 0.4],    \n",
    "    [14, 0, 0.7],\n",
    "    [14, 1, 0.3],\n",
    "    [15, 0, 0.7],\n",
    "    [15, 1, 0.3],\n",
    "])"
   ]
  },
  {
   "cell_type": "code",
   "execution_count": 46,
   "id": "c7b55f69-13ad-45d2-bab3-9100a5bdd518",
   "metadata": {},
   "outputs": [],
   "source": [
    "REVERSED_TINY_DATASET = TINY_DATASET.copy()\n",
    "\n",
    "REVERSED_TINY_DATASET[:, 0] = REVERSED_TINY_DATASET[:, 0][::-1]"
   ]
  },
  {
   "cell_type": "code",
   "execution_count": 47,
   "id": "581b9ff8-1d79-436b-820e-ec36e96f6cbc",
   "metadata": {},
   "outputs": [],
   "source": [
    "class TinyDataset(torch.utils.data.Dataset):\n",
    "\n",
    "    def __init__(self, dataset):\n",
    "\n",
    "        prices = dataset[:, 0]\n",
    "        labels = dataset[:, 1]\n",
    "        \n",
    "        self.targets = dataset[:, 2]\n",
    "        \n",
    "        encoded_price_bytes = self.encode_to_bits(prices, dtype='>i1', bits_count=8)\n",
    "        encoded_label_bytes = self.encode_to_bits(labels, dtype='>i1', bits_count=8)\n",
    "        \n",
    "        encoded_prices = encoded_price_bytes[:, -4:]\n",
    "        encoded_labels = encoded_label_bytes[:, -1:]\n",
    "\n",
    "        self.fields = np.hstack((encoded_prices, encoded_labels))\n",
    "        \n",
    "        self.field_dimensions = 2 * np.ones(self.fields.shape[1], dtype=int)\n",
    "\n",
    "        # print(\"encoded_prices:\", encoded_prices)\n",
    "        # print(\"labels:\", labels)\n",
    "        # print(\"encoded_labels:\", encoded_labels)\n",
    "        # print(\"self.fields:\", self.fields)        \n",
    "        # print(\"self.targets:\", self.targets)\n",
    "        # print(\"self.field_dimensions:\", self.field_dimensions)    \n",
    "        \n",
    "        \n",
    "    def __len__(self):\n",
    "        \n",
    "        return self.fields.shape[0]\n",
    "    \n",
    "\n",
    "    def __getitem__(self, index):\n",
    "        \n",
    "        fields = self.fields[index]\n",
    "        target = self.targets[index]\n",
    "        \n",
    "        # print(\"index:\", index)\n",
    "        # print(\"fields:\", fields)       \n",
    "        # print(\"target:\", target)\n",
    "        \n",
    "        return fields, target\n",
    "    \n",
    "\n",
    "    def encode_to_bits(self, inputs, dtype='>f', bits_count=32):\n",
    "    \n",
    "        number_bytes = np.array([inputs], dtype=dtype)\n",
    "\n",
    "        integer_view = number_bytes.view('uint8')\n",
    "\n",
    "        bits_vector = np.unpackbits(integer_view)\n",
    "        \n",
    "        bits = bits_vector.reshape(-1, bits_count)\n",
    "\n",
    "        return bits"
   ]
  },
  {
   "cell_type": "code",
   "execution_count": 48,
   "id": "18fa8d89-e7e7-4130-a667-b4f38f705ac3",
   "metadata": {},
   "outputs": [],
   "source": [
    "tiny_dataset = TinyDataset(REVERSED_TINY_DATASET)"
   ]
  },
  {
   "cell_type": "code",
   "execution_count": 49,
   "id": "607d419b-2324-41b9-8cc8-a0c271feb73a",
   "metadata": {},
   "outputs": [
    {
     "name": "stdout",
     "output_type": "stream",
     "text": [
      "dataset_indices.shape: (32,)\n",
      "dataset_indices: [ 0  1  2  3  4  5  6  7  8  9 10 11 12 13 14 15 16 17 18 19 20 21 22 23\n",
      " 24 25 26 27 28 29 30 31] int64\n",
      "dataset_indices: [16 24 12 22 19 21  0 18 26  8 15  4  5 28 20 17  1  7 11  2 29 31 13 27\n",
      " 14  3 25 30  6 10  9 23] int64\n",
      "[16 24 12 22 19 21  0 18 26  8 15  4  5 28 20 17  1  7 11  2 29 31 13 27\n",
      " 14] [ 3 25 30] [ 6 10  9 23]\n",
      "25 3 4 32\n"
     ]
    }
   ],
   "source": [
    "splitter = Splitter(tiny_dataset, batch_size=1, dataloader_workers_count=1)"
   ]
  },
  {
   "cell_type": "code",
   "execution_count": 50,
   "id": "672ed5b1-64eb-41cf-8f5f-c700f9e55981",
   "metadata": {},
   "outputs": [],
   "source": [
    "# Model\n",
    "\n",
    "LEARNING_RATE = 0.001\n",
    "WEIGHT_DECAY = 1e-6\n",
    "\n",
    "field_dimensions = tiny_dataset.field_dimensions\n",
    "embedding_dimension = 16\n",
    "\n",
    "%run models/models.ipynb\n",
    "\n",
    "model = CustomFactorizationMachine(field_dimensions, embedding_dimension=embedding_dimension)\n",
    "\n",
    "criterion = torch.nn.MSELoss()\n",
    "\n",
    "metric = mean_squared_error\n",
    "\n",
    "optimizer = torch.optim.Adam(params=model.parameters(), \n",
    "                             lr=LEARNING_RATE, \n",
    "                             weight_decay=WEIGHT_DECAY)\n",
    "\n",
    "\n",
    "trainer = Trainer(model=model,\n",
    "                  criterion=criterion,\n",
    "                  metric=metric,\n",
    "                  optimizer=optimizer,\n",
    "                  splitter=splitter)"
   ]
  },
  {
   "cell_type": "code",
   "execution_count": 52,
   "id": "1c3e7b7f-2770-428c-88fe-c84de518f82b",
   "metadata": {},
   "outputs": [
    {
     "name": "stdout",
     "output_type": "stream",
     "text": [
      "\n",
      "Total - Test mean_squared_error: 0.00000\n"
     ]
    }
   ],
   "source": [
    "trainer.fit(epochs=0)"
   ]
  },
  {
   "cell_type": "code",
   "execution_count": 53,
   "id": "b56bdec7-59ac-46ca-a2bd-02bdd1b11366",
   "metadata": {},
   "outputs": [
    {
     "data": {
      "image/png": "[encoded data removed]",
      "text/plain": [
       "<Figure size 432x288 with 1 Axes>"
      ]
     },
     "metadata": {
      "needs_background": "dark"
     },
     "output_type": "display_data"
    }
   ],
   "source": [
    "plt.plot(trainer.scores, label=\"MSE\")\n",
    "    \n",
    "plt.xlabel(\"Epoch\")\n",
    "plt.ylabel(\"Mean Square Error\")\n",
    "plt.legend();"
   ]
  },
  {
   "cell_type": "code",
   "execution_count": 55,
   "id": "1e30a0cb-7277-4189-8b68-88401a7ce6ed",
   "metadata": {},
   "outputs": [],
   "source": [
    "TINY_MODEL_PATH = 'saved_models/reversed_tiny_model.pt'\n",
    "\n",
    "# torch.save(model.state_dict(), TINY_MODEL_PATH)"
   ]
  },
  {
   "cell_type": "code",
   "execution_count": 56,
   "id": "dd1cf68c-5ce2-4ccb-b398-e0b0174c5d19",
   "metadata": {},
   "outputs": [
    {
     "data": {
      "text/plain": [
       "OrderedDict([('embedding.embedding.weight',\n",
       "              tensor([[-0.1173,  0.5044,  0.4150,  0.4381, -0.2761,  0.4023, -0.1966, -0.1348,\n",
       "                       -0.1766,  0.1199, -0.0733, -0.4171,  0.0078, -0.5455, -0.3019,  0.2608],\n",
       "                      [ 0.0291,  0.1297, -0.1751, -0.4522,  0.0246,  0.4171,  0.0983, -0.0873,\n",
       "                        0.0572,  0.5268, -0.2676,  0.1127,  0.3582, -0.1682, -0.3331,  0.4018],\n",
       "                      [ 0.0342,  0.3555, -0.3076, -0.0418,  0.2928, -0.2844,  0.1130, -0.2431,\n",
       "                       -0.4235,  0.0065, -0.4403, -0.3986,  0.5391,  0.2109, -0.2999,  0.4740],\n",
       "                      [ 0.4131, -0.5290, -0.3378,  0.3230,  0.5614, -0.1519, -0.1016,  0.0042,\n",
       "                        0.4265, -0.0466, -0.2532, -0.2034, -0.0625,  0.1636,  0.0695, -0.3454],\n",
       "                      [-0.4462, -0.2096,  0.3797, -0.2139,  0.3417, -0.3523,  0.3332,  0.4481,\n",
       "                       -0.2015,  0.3234,  0.1796,  0.4035,  0.0541,  0.3837, -0.1302, -0.4358],\n",
       "                      [ 0.1629, -0.1586, -0.2330,  0.0526,  0.2081,  0.2752, -0.3143, -0.0258,\n",
       "                       -0.2911, -0.1625, -0.3613,  0.4263,  0.3767,  0.4436,  0.2322, -0.2405],\n",
       "                      [ 0.4903, -0.0082, -0.4896, -0.1194, -0.4729,  0.2899,  0.2040,  0.2504,\n",
       "                       -0.3516,  0.1917,  0.4977, -0.0488, -0.1490,  0.1768, -0.3223, -0.0338],\n",
       "                      [ 0.2309,  0.0131,  0.2503, -0.5065, -0.0805, -0.3800, -0.1243,  0.0762,\n",
       "                        0.3727, -0.2223, -0.4301, -0.3101,  0.2095,  0.0749,  0.0268,  0.0811],\n",
       "                      [ 0.0344,  0.3666,  0.2715, -0.3307,  0.1369, -0.5633,  0.2930, -0.4640,\n",
       "                       -0.4204, -0.5689, -0.1251, -0.1913, -0.2607, -0.3180,  0.0967,  0.2858],\n",
       "                      [-0.4646,  0.3103, -0.2263, -0.2306, -0.3589, -0.3976, -0.2683, -0.4863,\n",
       "                        0.4670,  0.2983, -0.4373,  0.1544, -0.1583, -0.0448, -0.1977,  0.3462]])),\n",
       "             ('linear.bias', tensor([-0.1156])),\n",
       "             ('linear.fc.weight',\n",
       "              tensor([[ 1.6201],\n",
       "                      [ 0.5192],\n",
       "                      [-0.7150],\n",
       "                      [ 1.0140],\n",
       "                      [ 0.4796],\n",
       "                      [-0.1683],\n",
       "                      [ 0.6598],\n",
       "                      [-0.4709],\n",
       "                      [-0.2247],\n",
       "                      [-0.1768]]))])"
      ]
     },
     "execution_count": 56,
     "metadata": {},
     "output_type": "execute_result"
    }
   ],
   "source": [
    "model.state_dict()"
   ]
  },
  {
   "cell_type": "markdown",
   "id": "296f944b-5082-424e-8e7e-1b71d917461c",
   "metadata": {
    "jp-MarkdownHeadingCollapsed": true,
    "tags": []
   },
   "source": [
    "### Other"
   ]
  },
  {
   "cell_type": "code",
   "execution_count": 28,
   "id": "bde5b7f8-878e-4895-a695-087e41da072d",
   "metadata": {},
   "outputs": [
    {
     "data": {
      "text/plain": [
       "117"
      ]
     },
     "execution_count": 28,
     "metadata": {},
     "output_type": "execute_result"
    }
   ],
   "source": [
    "embedding_weights = model.state_dict()['embedding.embedding.weight']\n",
    "linear_weights = model.state_dict()['linear.fc.weight']\n",
    "linear_bias = model.state_dict()['linear.bias']\n",
    "\n",
    "model.state_dict()\n",
    "\n",
    "linear_weights.shape\n",
    "\n",
    "dataset.embedding_dimensions.sum()"
   ]
  },
  {
   "cell_type": "code",
   "execution_count": 84,
   "id": "31b6cd41-0e4a-47be-8ecb-da4fb9e23c99",
   "metadata": {},
   "outputs": [],
   "source": [
    "# model = CustomLogisticRegression(binary_embedding_dimensions)\n",
    "\n",
    "# model = CustomFactorizationMachine(binary_embedding_dimensions, embed_dim=16)\n",
    "\n",
    "model = CustomDeepFactorizationMachineModel(binary_embedding_dimensions, \n",
    "                                            embed_dim=16, mlp_dims=(16, 16), dropout=0.2)\n",
    "\n",
    "# model = CustomLinearRegression(input_dimensions=len(binary_embedding_dimensions),\n",
    "#                                output_dimensions=1)\n",
    "\n",
    "optimizer = torch.optim.Adam(params=model.parameters(), \n",
    "                             lr=LEARNING_RATE, \n",
    "                             weight_decay=WEIGHT_DECAY)\n",
    "\n",
    "# optimizer = torch.optim.SGD(params=model.parameters(), lr=LEARNING_RATE)"
   ]
  },
  {
   "cell_type": "code",
   "execution_count": null,
   "id": "f5e4c70d-4824-4cf7-b357-238a71b1a85f",
   "metadata": {},
   "outputs": [],
   "source": []
  },
  {
   "cell_type": "code",
   "execution_count": 1,
   "id": "a3f289f8-2044-4506-8d64-95473298b565",
   "metadata": {},
   "outputs": [],
   "source": [
    "# trainer.plot.plot(plot_target=False)"
   ]
  },
  {
   "cell_type": "code",
   "execution_count": 31,
   "id": "047133d9-b954-412b-8654-f54e046e279e",
   "metadata": {},
   "outputs": [],
   "source": [
    "# trainer.plot.render_animation()"
   ]
  },
  {
   "cell_type": "code",
   "execution_count": 202,
   "id": "10263fdf-f9eb-474d-a503-6e23a379a82a",
   "metadata": {},
   "outputs": [],
   "source": [
    "# trainer.plot.save_to_gif('images/test.gif')"
   ]
  },
  {
   "cell_type": "code",
   "execution_count": null,
   "id": "0e08449d-f5be-4335-a5a3-a8e5a822b6f0",
   "metadata": {},
   "outputs": [],
   "source": [
    "# with torch.no_grad():\n",
    "\n",
    "#     predictions = split_trainer.model(torch.tensor(split_trainer.dataset.fields).int())"
   ]
  },
  {
   "cell_type": "code",
   "execution_count": null,
   "id": "c382b125-d5fd-4d9a-8b9c-44b6be675901",
   "metadata": {},
   "outputs": [],
   "source": []
  },
  {
   "cell_type": "code",
   "execution_count": 8,
   "id": "2645e560-2533-4b5a-a911-917c434a2617",
   "metadata": {},
   "outputs": [
    {
     "name": "stdout",
     "output_type": "stream",
     "text": [
      "dataset_length: 10201\n",
      "train_length: 8160\n",
      "valid_length: 1020\n",
      "test_length: 1021\n"
     ]
    }
   ],
   "source": [
    "LEARNING_RATE = 0.001\n",
    "WEIGHT_DECAY = 1e-6\n",
    "EPOCHS_COUNT = 1\n",
    "\n",
    "# Binary\n",
    "\n",
    "binary_dataset = BinaryOptionsDataset(OPTIONS_DATASET_PATH)\n",
    "\n",
    "binary_splitter = Splitter(binary_dataset, batch_size=10)\n",
    "\n",
    "binary_embedding_dimensions = binary_dataset.embedding_dimensions\n",
    "\n",
    "\n",
    "# Models\n",
    "\n",
    "binary_fm_model = CustomFactorizationMachine(binary_embedding_dimensions, embed_dim=16)\n",
    "\n",
    "binary_deep_fm_model = CustomDeepFactorizationMachineModel(binary_embedding_dimensions,\n",
    "                                                           embed_dim=16, mlp_dims=(16, 16), dropout=0.2)\n",
    "\n",
    "binary_linear_model = CustomLinearRegression(input_dimensions=len(binary_embedding_dimensions),\n",
    "                                             output_dimensions=1)\n",
    "\n",
    "\n",
    "criterion = torch.nn.MSELoss()\n",
    "\n",
    "metric = mean_squared_error\n",
    "\n",
    "\n",
    "binary_fm_optimizer = torch.optim.Adam(params=binary_fm_model.parameters(),\n",
    "                                       lr=LEARNING_RATE,\n",
    "                                       weight_decay=WEIGHT_DECAY)\n",
    "\n",
    "binary_deep_fm_optimizer = torch.optim.Adam(params=binary_deep_fm_model.parameters(),\n",
    "                                            lr=LEARNING_RATE,\n",
    "                                            weight_decay=WEIGHT_DECAY)\n",
    "\n",
    "binary_linear_optimizer = torch.optim.Adam(params=binary_linear_model.parameters(),\n",
    "                                           lr=LEARNING_RATE,\n",
    "                                           weight_decay=WEIGHT_DECAY)\n",
    "\n",
    "binary_fm_trainer = SplitTrainer(model=binary_fm_model,\n",
    "                                 criterion=criterion,\n",
    "                                 metric=metric,\n",
    "                                 optimizer=binary_fm_optimizer,\n",
    "                                 splitter=binary_splitter)\n",
    "\n",
    "binary_deep_fm_trainer = SplitTrainer(model=binary_deep_fm_model,\n",
    "                                      criterion=criterion,\n",
    "                                      metric=metric,\n",
    "                                      optimizer=binary_deep_fm_optimizer,\n",
    "                                      splitter=binary_splitter)\n",
    "\n",
    "binary_linear_trainer = SplitTrainer(model=binary_linear_model,\n",
    "                                     criterion=criterion,\n",
    "                                     metric=metric,\n",
    "                                     optimizer=binary_linear_optimizer,\n",
    "                                     splitter=binary_splitter)"
   ]
  },
  {
   "cell_type": "code",
   "execution_count": 19,
   "id": "5eb8ca65-9cd6-423a-949d-3af1f154d8c8",
   "metadata": {},
   "outputs": [
    {
     "name": "stderr",
     "output_type": "stream",
     "text": [
      "Epoch: 1/1: 100%|██████████████████████████████████████| 816/816 [00:03<00:00, 257.00 batches/s, loss=2.89e+6]\n"
     ]
    },
    {
     "name": "stdout",
     "output_type": "stream",
     "text": [
      "Validation mean_squared_error: 3353391.11, Duration: 3.45 seconds\n",
      "\n",
      "Total - Test mean_squared_error: 3710378.33\n"
     ]
    }
   ],
   "source": [
    "binary_fm_trainer.fit(epochs=EPOCHS_COUNT)"
   ]
  },
  {
   "cell_type": "code",
   "execution_count": 20,
   "id": "384e5645-6160-49a9-864e-6963e8682c76",
   "metadata": {
    "tags": []
   },
   "outputs": [
    {
     "name": "stderr",
     "output_type": "stream",
     "text": [
      "Epoch: 1/1: 100%|██████████████████████████████████████| 816/816 [00:04<00:00, 182.80 batches/s, loss=8.89e+5]\n"
     ]
    },
    {
     "name": "stdout",
     "output_type": "stream",
     "text": [
      "Validation mean_squared_error: 1806434.89, Duration: 4.76 seconds\n",
      "\n",
      "Total - Test mean_squared_error: 1973852.98\n"
     ]
    }
   ],
   "source": [
    "binary_deep_fm_trainer.fit(epochs=EPOCHS_COUNT)"
   ]
  },
  {
   "cell_type": "code",
   "execution_count": 21,
   "id": "542a15da-da01-465f-b4df-f45eb11df5ae",
   "metadata": {},
   "outputs": [
    {
     "name": "stderr",
     "output_type": "stream",
     "text": [
      "Epoch: 1/1: 100%|██████████████████████████████████████| 816/816 [00:02<00:00, 283.63 batches/s, loss=2.31e+7]\n"
     ]
    },
    {
     "name": "stdout",
     "output_type": "stream",
     "text": [
      "Validation mean_squared_error: 22918524.62, Duration: 3.12 seconds\n",
      "\n",
      "Total - Test mean_squared_error: 25722996.68\n"
     ]
    }
   ],
   "source": [
    "binary_linear_trainer.fit(epochs=EPOCHS_COUNT)"
   ]
  },
  {
   "cell_type": "code",
   "execution_count": 22,
   "id": "62ccf454-d451-4560-adfd-3f9ae20fe14c",
   "metadata": {},
   "outputs": [
    {
     "data": {
      "image/png": "[encoded data removed]",
      "text/plain": [
       "<Figure size 432x288 with 1 Axes>"
      ]
     },
     "metadata": {
      "needs_background": "dark"
     },
     "output_type": "display_data"
    }
   ],
   "source": [
    "plt.plot(binary_fm_trainer.scores, label=\"binary_fm_trainer\")\n",
    "plt.plot(binary_deep_fm_trainer.scores, label=\"binary_deep_fm_trainer\")\n",
    "plt.plot(binary_linear_trainer.scores, label=\"binary_linear_trainer\")\n",
    "plt.xlabel(\"Epoch\")\n",
    "plt.ylabel(\"Mean Square Error\")\n",
    "plt.legend();"
   ]
  },
  {
   "cell_type": "code",
   "execution_count": 13,
   "id": "9bfbee16-76cc-4db7-8034-8573af67982f",
   "metadata": {},
   "outputs": [
    {
     "name": "stdout",
     "output_type": "stream",
     "text": [
      "dataset_length: 10201\n",
      "train_length: 8160\n",
      "valid_length: 1020\n",
      "test_length: 1021\n"
     ]
    }
   ],
   "source": [
    "LEARNING_RATE = 0.001\n",
    "WEIGHT_DECAY = 1e-6\n",
    "EPOCHS_COUNTHS_COUNT = 1\n",
    "\n",
    "# Binary\n",
    "\n",
    "dataset = BinaryOptionsDataset(OPTIONS_DATASET_PATH)\n",
    "\n",
    "splitter = Splitter(binary_dataset, batch_size=10)\n",
    "\n",
    "embedding_dimensions = dataset.embedding_dimensions\n",
    "\n",
    "# Models\n",
    "\n",
    "fm_model = CustomFactorizationMachine(embedding_dimensions, embed_dim=16)\n",
    "\n",
    "deep_fm_model = CustomDeepFactorizationMachineModel(embedding_dimensions,\n",
    "                                                    embed_dim=16, mlp_dims=(16, 16), dropout=0.2)\n",
    "\n",
    "linear_model = CustomLinearRegression(input_dimensions=len(embedding_dimensions),\n",
    "                                      output_dimensions=1)\n",
    "\n",
    "\n",
    "criterion = torch.nn.MSELoss()\n",
    "\n",
    "metric = mean_squared_error\n",
    "\n",
    "\n",
    "fm_optimizer = torch.optim.Adam(params=fm_model.parameters(),\n",
    "                                lr=LEARNING_RATE,\n",
    "                                weight_decay=WEIGHT_DECAY)\n",
    "\n",
    "deep_fm_optimizer = torch.optim.Adam(params=deep_fm_model.parameters(),\n",
    "                                     lr=LEARNING_RATE,\n",
    "                                     weight_decay=WEIGHT_DECAY)\n",
    "\n",
    "linear_optimizer = torch.optim.Adam(params=linear_model.parameters(),\n",
    "                                    lr=LEARNING_RATE,\n",
    "                                    weight_decay=WEIGHT_DECAY)\n",
    "\n",
    "fm_trainer = SplitTrainer(model=fm_model,\n",
    "                          criterion=criterion,\n",
    "                          metric=metric,\n",
    "                          optimizer=fm_optimizer,\n",
    "                          splitter=splitter)\n",
    "\n",
    "deep_fm_trainer = SplitTrainer(model=deep_fm_model,\n",
    "                               criterion=criterion,\n",
    "                               metric=metric,\n",
    "                               optimizer=deep_fm_optimizer,\n",
    "                               splitter=splitter)\n",
    "\n",
    "linear_trainer = SplitTrainer(model=linear_model,\n",
    "                              criterion=criterion,\n",
    "                              metric=metric,\n",
    "                              optimizer=linear_optimizer,\n",
    "                              splitter=splitter)"
   ]
  },
  {
   "cell_type": "code",
   "execution_count": 23,
   "id": "c6ff814a-b9ad-4718-b31c-13ac1efc3331",
   "metadata": {},
   "outputs": [
    {
     "name": "stderr",
     "output_type": "stream",
     "text": [
      "Epoch: 1/1: 100%|██████████████████████████████████████| 816/816 [00:03<00:00, 255.62 batches/s, loss=3.38e+6]\n"
     ]
    },
    {
     "name": "stdout",
     "output_type": "stream",
     "text": [
      "Validation mean_squared_error: 3176578.63, Duration: 3.49 seconds\n",
      "\n",
      "Total - Test mean_squared_error: 3414384.87\n"
     ]
    }
   ],
   "source": [
    "fm_trainer.fit(epochs=EPOCHS_COUNT)"
   ]
  },
  {
   "cell_type": "code",
   "execution_count": 24,
   "id": "573296dc-5d14-423c-835e-151ca926c0e6",
   "metadata": {},
   "outputs": [
    {
     "name": "stderr",
     "output_type": "stream",
     "text": [
      "Epoch: 1/1: 100%|██████████████████████████████████████| 816/816 [00:04<00:00, 178.25 batches/s, loss=2.85e+6]\n"
     ]
    },
    {
     "name": "stdout",
     "output_type": "stream",
     "text": [
      "Validation mean_squared_error: 1608093.32, Duration: 4.85 seconds\n",
      "\n",
      "Total - Test mean_squared_error: 1675401.38\n"
     ]
    }
   ],
   "source": [
    "deep_fm_trainer.fit(epochs=EPOCHS_COUNT)"
   ]
  },
  {
   "cell_type": "code",
   "execution_count": 25,
   "id": "4ca677a2-d593-44be-b95c-2e74992363d6",
   "metadata": {},
   "outputs": [
    {
     "name": "stderr",
     "output_type": "stream",
     "text": [
      "Epoch: 1/1: 100%|██████████████████████████████████████| 816/816 [00:02<00:00, 288.57 batches/s, loss=3.44e+7]\n"
     ]
    },
    {
     "name": "stdout",
     "output_type": "stream",
     "text": [
      "Validation mean_squared_error: 23364332.11, Duration: 3.06 seconds\n",
      "\n",
      "Total - Test mean_squared_error: 24982800.57\n"
     ]
    }
   ],
   "source": [
    "linear_trainer.fit(epochs=EPOCHS_COUNT)"
   ]
  },
  {
   "cell_type": "markdown",
   "id": "a57ddb36-3e1c-454f-8210-241e5c0cabc3",
   "metadata": {
    "jp-MarkdownHeadingCollapsed": true,
    "tags": []
   },
   "source": [
    "### Option Prices - 3D Plot"
   ]
  },
  {
   "cell_type": "code",
   "execution_count": 7,
   "id": "4acd16b4-c64b-41f7-b6f8-2bbbd36e0745",
   "metadata": {
    "tags": []
   },
   "outputs": [],
   "source": [
    "from matplotlib import animation\n",
    "from matplotlib.animation import PillowWriter\n",
    "\n",
    "from IPython.display import HTML   \n",
    "\n",
    "\n",
    "class OptionPricesPlot:\n",
    "\n",
    "    def __init__(self,\n",
    "                 elevation=10,\n",
    "                 initial_azimuth=230):\n",
    "        \n",
    "        self.elevation = elevation\n",
    "        self.initial_azimuth = initial_azimuth\n",
    "        \n",
    "\n",
    "    def plot(self, \n",
    "             plot_predictions=True, \n",
    "             plot_target=True):\n",
    "                    \n",
    "        self.calculate_grids() \n",
    "\n",
    "        figure = plt.figure(figsize=(5, 5))\n",
    "\n",
    "        ax = figure.add_subplot(1, 1, 1, \n",
    "                                projection='3d', \n",
    "                                computed_zorder=False)\n",
    "\n",
    "        if plot_predictions and 'predictions' in globals():\n",
    "\n",
    "            predicted_surface = ax.plot_surface(self.initial_stock_prices_grid,\n",
    "                                                self.volatilities_grid,\n",
    "                                                self.predicted_option_prices_grid,\n",
    "                                                # cmap='copper',\n",
    "                                                color='indigo',\n",
    "                                                linewidth=30,\n",
    "                                                label='Predicted option prices',\n",
    "                                                # alpha=1.0,\n",
    "                                                zorder=500,\n",
    "                                                antialiased=False)\n",
    "\n",
    "        if plot_target:\n",
    "\n",
    "            target_surface = ax.plot_surface(self.initial_stock_prices_grid,\n",
    "                                             self.volatilities_grid,\n",
    "                                             self.target_option_prices_grid,\n",
    "                                             cmap='plasma',\n",
    "                                             linewidth=30, \n",
    "                                             label='Target option prices',\n",
    "                                             alpha=0.5,\n",
    "                                             zorder=1000,\n",
    "                                             antialiased=False)\n",
    "\n",
    "        ax.view_init(elev=self.elevation, azim=self.initial_azimuth)\n",
    "        \n",
    "        ax.zaxis.set_rotate_label(False)\n",
    "\n",
    "        ax.set_xlabel('Initial Stock Price')\n",
    "        ax.set_ylabel('Volatility')\n",
    "        ax.set_zlabel('Option Price', rotation=90)\n",
    "        \n",
    "        # figure.patch.set_facecolor('black')\n",
    "        figure.patch.set_facecolor(ax.patch.get_facecolor())\n",
    "        \n",
    "        self.figure = figure\n",
    "        self.ax = ax\n",
    "        \n",
    " \n",
    "    def animation_step(self, frame_index):\n",
    "\n",
    "        azimuth = self.initial_azimuth + self.azimuth_step * frame_index\n",
    "\n",
    "        self.ax.view_init(elev=self.elevation, azim=azimuth)\n",
    "\n",
    "        \n",
    "    def render_animation(self,\n",
    "                         frames_count=12,\n",
    "                         rotation_period=10):\n",
    "        \n",
    "        self.frames_count = frames_count\n",
    "        self.rotation_period = rotation_period\n",
    "        \n",
    "        self.azimuth_step = 360 // frames_count\n",
    "        self.frames_per_second = frames_count // rotation_period\n",
    "\n",
    "        self.animation_model = animation.FuncAnimation(self.figure, \n",
    "                                                       self.animation_step, \n",
    "                                                       frames=self.frames_count, \n",
    "                                                       interval=50)\n",
    "\n",
    "        rendered_animation = HTML(self.animation_model.to_jshtml(fps=self.frames_per_second))\n",
    "\n",
    "        return rendered_animation\n",
    "\n",
    "\n",
    "    def save_to_gif(self, path):\n",
    "\n",
    "        self.animation_model.save(path, writer='pillow', fps=self.frames_per_second, dpi=100)\n",
    "        \n",
    "\n",
    "    def calculate_grids(self):\n",
    "    \n",
    "        # Data\n",
    "        \n",
    "        data = dataset.data\n",
    "\n",
    "        initial_stock_prices = data.initial_stock_price.to_numpy()\n",
    "        volatilities = data.volatility.to_numpy()\n",
    "        option_prices= data.option_price.to_numpy()\n",
    "\n",
    "        # Grids\n",
    "\n",
    "        grid_side_size = np.sqrt(initial_stock_prices.shape[0]).astype(int)\n",
    "\n",
    "        self.initial_stock_prices_grid = initial_stock_prices.reshape((grid_side_size, grid_side_size))\n",
    "        self.volatilities_grid = volatilities.reshape((grid_side_size, grid_side_size))\n",
    "\n",
    "        self.target_option_prices_grid = option_prices.reshape(-1, grid_side_size)\n",
    "        \n",
    "        if 'predictions' in globals():\n",
    "        \n",
    "            self.predicted_option_prices_grid = predictions.detach().reshape(-1, grid_side_size)"
   ]
  },
  {
   "cell_type": "code",
   "execution_count": null,
   "id": "78aefc63-ab46-47be-b7f3-498fabf9b58a",
   "metadata": {},
   "outputs": [],
   "source": []
  }
 ],
 "metadata": {
  "kernelspec": {
   "display_name": "Python 3 (ipykernel)",
   "language": "python",
   "name": "python3"
  },
  "language_info": {
   "codemirror_mode": {
    "name": "ipython",
    "version": 3
   },
   "file_extension": ".py",
   "mimetype": "text/x-python",
   "name": "python",
   "nbconvert_exporter": "python",
   "pygments_lexer": "ipython3",
   "version": "3.8.10"
  }
 },
 "nbformat": 4,
 "nbformat_minor": 5
}
