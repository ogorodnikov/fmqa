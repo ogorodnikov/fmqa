{
 "cells": [
  {
   "cell_type": "code",
   "execution_count": 1,
   "id": "09c0fdf2-9f6f-43fa-9236-70bc30cedc17",
   "metadata": {},
   "outputs": [],
   "source": [
    "import numpy as np\n",
    "import pandas as pd\n",
    "\n",
    "from matplotlib import pyplot as plt\n",
    "\n",
    "import sklearn.metrics\n",
    "\n",
    "import time\n",
    "import tqdm\n",
    "import torch\n",
    "\n",
    "from torch.utils.data import DataLoader\n",
    "\n",
    "%run models/models.ipynb\n",
    "\n",
    "plt.style.use('dark_background')"
   ]
  },
  {
   "cell_type": "markdown",
   "id": "25c6c243-6531-4b5f-aa45-de6f607bc686",
   "metadata": {
    "tags": []
   },
   "source": [
    "### Datasets"
   ]
  },
  {
   "cell_type": "code",
   "execution_count": 2,
   "id": "291a0c44-1531-4fe3-a174-962ae3ce7b9b",
   "metadata": {
    "tags": []
   },
   "outputs": [],
   "source": [
    "class AssetDataset(torch.utils.data.Dataset):\n",
    "\n",
    "    def __init__(self, dataset_path, chunk_size, dataset_size, scheme=None, normalize=False, shuffle=False):\n",
    "        \n",
    "        # Scheme\n",
    "        \n",
    "        default_scheme = {'initial_asset_price': \n",
    "                              {'binary': True,\n",
    "                               'encoding_format': '>f', \n",
    "                               'bits_count': 32,\n",
    "                               'factor': 1,\n",
    "                               'target_column': False},\n",
    "                          'volatility': \n",
    "                              {'binary': True,\n",
    "                               'encoding_format': 'i1', \n",
    "                               'bits_count': 8,\n",
    "                               'factor': 100,\n",
    "                               'target_column': False},\n",
    "                          'asset_price':\n",
    "                              {'binary': True,\n",
    "                               'encoding_format': '>f', \n",
    "                               'bits_count': 32,\n",
    "                               'factor': 1,\n",
    "                               'target_column': False},\n",
    "                          'probability':\n",
    "                              {'binary': False,\n",
    "                               'factor': 1,\n",
    "                               'target_column': True}}                       \n",
    "        \n",
    "        self.scheme = scheme or default_scheme\n",
    "                   \n",
    "        target_column, target_parameters = next((column, parameters)\n",
    "                                                for column, parameters in self.scheme.items()\n",
    "                                                if parameters['target_column'])        \n",
    "           \n",
    "        # Parameters\n",
    "        \n",
    "        fields_count = 0\n",
    "        data_dtype = 'i1'\n",
    "\n",
    "        target_flags = []\n",
    "        \n",
    "        for column, parameters in self.scheme.items():\n",
    "            \n",
    "            if parameters['binary']:                 \n",
    "                column_size = parameters['bits_count']\n",
    "                \n",
    "            else:\n",
    "                data_dtype = float\n",
    "                column_size = 1\n",
    "            \n",
    "            fields_count += column_size\n",
    "            \n",
    "            target_flags_for_column = [parameters['target_column']] * column_size\n",
    "            \n",
    "            target_flags.extend(target_flags_for_column)\n",
    "            \n",
    "        self.target_flags_vector = np.array(target_flags)\n",
    "        \n",
    "        \n",
    "        # Shuffle maps\n",
    "        \n",
    "        self.shuffle = shuffle\n",
    "        \n",
    "        if shuffle:\n",
    "\n",
    "            self.shuffle_maps = dict()\n",
    "            self.unshuffle_maps = dict()\n",
    "            \n",
    "            for column, parameters in self.scheme.items():\n",
    "\n",
    "                encoding_format = parameters.get('encoding_format')\n",
    "                bits_count = parameters.get('bits_count')\n",
    "\n",
    "                if encoding_format:\n",
    "\n",
    "                    to_positions = np.arange(bits_count, dtype='i1')\n",
    "\n",
    "                    np.random.shuffle(to_positions)\n",
    "\n",
    "                    shuffle_map = np.empty(bits_count, dtype='i1')\n",
    "                    unshuffle_map = np.empty(bits_count, dtype='i1')\n",
    "\n",
    "                    for from_position, to_position in enumerate(to_positions):\n",
    "\n",
    "                        shuffle_map[from_position] = to_position\n",
    "                        unshuffle_map[to_position] = from_position\n",
    "\n",
    "                    self.shuffle_maps[encoding_format] = shuffle_map\n",
    "                    self.unshuffle_maps[encoding_format] = unshuffle_map            \n",
    "\n",
    "            # print(\"self.shuffle_maps:\", self.shuffle_maps)\n",
    "            # print(\"self.unshuffle_maps:\", self.unshuffle_maps)\n",
    "        \n",
    "        # Data\n",
    "\n",
    "        chunks_count = dataset_size // chunk_size\n",
    "        \n",
    "        self.data = np.zeros(shape=(dataset_size, fields_count), dtype=data_dtype)\n",
    "        self.not_encoded_data = np.zeros(shape=(dataset_size, len(self.scheme)), dtype=data_dtype)\n",
    "        \n",
    "        dataset_iterator = pd.read_csv(dataset_path, iterator=True, chunksize=chunk_size)\n",
    "        \n",
    "        chunk_tracker = tqdm.tqdm(range(chunks_count),\n",
    "                                  desc=f\"Loading\",\n",
    "                                  ncols=110,\n",
    "                                  unit='chunk',\n",
    "                                  total=chunks_count)                          \n",
    "        # Loading\n",
    "        \n",
    "        row_offset = 0\n",
    "\n",
    "        for chunk_index in chunk_tracker:\n",
    "            \n",
    "            chunk = next(dataset_iterator)\n",
    "\n",
    "            column_offset = 0\n",
    "            not_encoded_column_offset = 0\n",
    "\n",
    "            for column_name, parameters in self.scheme.items():\n",
    "                \n",
    "                factor = parameters.get('factor', 1)\n",
    "                \n",
    "                conversion_function = parameters.get('conversion', lambda x: x)\n",
    "                \n",
    "                column_chunk = chunk[column_name]             \n",
    "                \n",
    "                if normalize:\n",
    "                \n",
    "                    column_chunk = column_chunk - column_chunk.mean()\n",
    "                    \n",
    "                    column_chunk = column_chunk / np.abs(column_chunk).max()\n",
    "                    \n",
    "                column_chunk = conversion_function(column_chunk * factor) \n",
    "                \n",
    "                # print(\"column_name:\", column_name)\n",
    "                # print(\"column_chunk.mean():\", column_chunk.mean())\n",
    "                # print(\"normalized_column_chunk.mean():\", normalized_column_chunk.mean())\n",
    "                \n",
    "#                 if column_name == 'probability':\n",
    "                \n",
    "#                     print(\"chunk[column_name]:\", chunk[column_name])\n",
    "#                     print(\"factor:\", factor)\n",
    "#                     print(\"conversion_function:\", conversion_function)\n",
    "#                     print(\"normalized_column_chunk:\", normalized_column_chunk)\n",
    "                \n",
    "                if parameters['binary']:\n",
    "                    column = self.encode_to_bits(column_chunk,\n",
    "                                                 dtype=parameters['encoding_format'], \n",
    "                                                 bits_count=parameters['bits_count']) \n",
    "                    \n",
    "                    column_size = parameters['bits_count']\n",
    "                    \n",
    "                else:                        \n",
    "                    column = column_chunk.to_numpy().reshape(-1, 1)                        \n",
    "                    column_size = 1             \n",
    "\n",
    "                self.data[row_offset : row_offset + chunk_size, \n",
    "                          column_offset : column_offset + column_size] = column\n",
    "                \n",
    "                self.not_encoded_data[row_offset : \n",
    "                                      row_offset + chunk_size, \n",
    "                                      not_encoded_column_offset : \n",
    "                                      not_encoded_column_offset + 1] = column_chunk.to_numpy().reshape(-1, 1)                \n",
    "\n",
    "                column_offset += column_size\n",
    "                \n",
    "                not_encoded_column_offset += 1\n",
    "\n",
    "            row_offset += chunk_size\n",
    "                \n",
    "        self.fields = self.data[:, ~self.target_flags_vector].astype(int)\n",
    "        self.targets = self.data[:, self.target_flags_vector]\n",
    "        \n",
    "        self.field_dimensions = np.max(self.fields, axis=0).astype(int) + 1\n",
    "        \n",
    "        self.field_dimensions[self.field_dimensions < 2] = 2\n",
    "        \n",
    "        \n",
    "    def __len__(self):\n",
    "        \n",
    "        return self.fields.shape[0]\n",
    "    \n",
    "\n",
    "    def __getitem__(self, index):\n",
    "        \n",
    "        fields = self.fields[index]\n",
    "        target = self.targets[index].squeeze()\n",
    "        \n",
    "        return fields, target\n",
    "    \n",
    "\n",
    "    def encode_to_bits(self, inputs, dtype='>f', bits_count=32):\n",
    "    \n",
    "        input_bytes = np.array([inputs], dtype=dtype)\n",
    "\n",
    "        integer_view = input_bytes.view('uint8')\n",
    "\n",
    "        bits_vector = np.unpackbits(integer_view)\n",
    "        \n",
    "        bits = bits_vector.reshape(-1, bits_count)\n",
    "        \n",
    "        if self.shuffle:\n",
    "            \n",
    "            # print(\"encode - bits before:\", bits)\n",
    "\n",
    "            shuffle_map = self.shuffle_maps[dtype]\n",
    "\n",
    "            bits = bits[:, shuffle_map]\n",
    "\n",
    "            # print(\"encode - bits after:\", bits)\n",
    "            \n",
    "        # print(\"input_bytes:\", input_bytes)\n",
    "        # print(\"integer_view:\", integer_view)\n",
    "        # print(\"bits_vector:\", bits_vector)        \n",
    "        # print(\"bits:\", bits)\n",
    "        \n",
    "        return bits\n",
    "    \n",
    "\n",
    "    def decode_from_bits(self, bits, dtype='>f', bitorder='big'):\n",
    "        \n",
    "        if self.shuffle:\n",
    "\n",
    "            # print(\"decode - bits before:\", bits)\n",
    "\n",
    "            unshuffle_map = self.unshuffle_maps[dtype]\n",
    "\n",
    "            bits = bits[unshuffle_map]\n",
    "\n",
    "            # print(\"decode - bits after:\", bits)\n",
    "        \n",
    "\n",
    "        bits_vector = bits.reshape(-1)\n",
    "\n",
    "        integer_view = np.packbits(bits_vector, bitorder=bitorder)\n",
    "\n",
    "        output = integer_view.view(dtype)\n",
    "\n",
    "        return output"
   ]
  },
  {
   "cell_type": "markdown",
   "id": "136df21b-b9cb-4173-a814-cffdb1468ce1",
   "metadata": {
    "tags": []
   },
   "source": [
    "### Splitter"
   ]
  },
  {
   "cell_type": "code",
   "execution_count": 3,
   "id": "e587fe07-a179-40eb-ae96-444b753c8007",
   "metadata": {
    "tags": []
   },
   "outputs": [],
   "source": [
    "class SequentialValueSampler(torch.utils.data.Sampler):\n",
    "\n",
    "    def __init__(self, values):\n",
    "        self.values = values\n",
    "\n",
    "    def __iter__(self):\n",
    "        return iter(self.values)\n",
    "\n",
    "    def __len__(self):\n",
    "        return len(self.values)\n",
    "\n",
    "\n",
    "class Splitter:\n",
    "    \n",
    "    def __init__(self, dataset, shuffle=True, \n",
    "                 train_rate=0.8, valid_rate=0.1, \n",
    "                 batch_size=2048, dataloader_workers_count=8):\n",
    "        \n",
    "        self.dataset = dataset\n",
    "                    \n",
    "        dataset_length = len(dataset)\n",
    "\n",
    "        train_length = int(dataset_length * train_rate)\n",
    "        valid_length = int(dataset_length * valid_rate)\n",
    "\n",
    "        test_length = dataset_length - train_length - valid_length\n",
    "        \n",
    "        self.lengths = (train_length, valid_length, test_length)\n",
    "\n",
    "        dataset_indices = np.arange(dataset_length, dtype=int)\n",
    "        \n",
    "        if shuffle:        \n",
    "            np.random.shuffle(dataset_indices)\n",
    "        \n",
    "        index_ranges = np.split(dataset_indices, (train_length,\n",
    "                                                  train_length + valid_length))     \n",
    "            \n",
    "        train_sampler, valid_sampler, test_sampler = map(SequentialValueSampler, index_ranges)\n",
    "\n",
    "        self.train_data_loader = DataLoader(dataset,\n",
    "                                            batch_size=batch_size,\n",
    "                                            sampler=train_sampler,\n",
    "                                            num_workers=dataloader_workers_count)\n",
    "        \n",
    "        self.valid_data_loader = DataLoader(dataset,                                  \n",
    "                                            batch_size=batch_size,\n",
    "                                            sampler=valid_sampler,\n",
    "                                            num_workers=dataloader_workers_count)\n",
    "        \n",
    "        self.test_data_loader = DataLoader(dataset,\n",
    "                                           batch_size=batch_size,\n",
    "                                           sampler=test_sampler,\n",
    "                                           num_workers=dataloader_workers_count)   "
   ]
  },
  {
   "cell_type": "markdown",
   "id": "b666daf8-b6b0-423c-b8c4-34407c3dc20d",
   "metadata": {
    "tags": []
   },
   "source": [
    "### Trainer"
   ]
  },
  {
   "cell_type": "code",
   "execution_count": 4,
   "id": "f3cd6711-11a2-4493-b0b1-b729266e6bcf",
   "metadata": {
    "tags": []
   },
   "outputs": [],
   "source": [
    "class Trainer:\n",
    "\n",
    "    def __init__(self, splitter,\n",
    "                 learning_rate=0.001, weight_decay=1e-6,\n",
    "                 embedding_dimensions=16,\n",
    "                 model=None, criterion=None, metric=None, optimizer=None,\n",
    "                 device='cpu', batch_logging_interval=100):\n",
    "\n",
    "        %run models/models.ipynb \n",
    "        \n",
    "        field_dimensions = splitter.dataset.field_dimensions\n",
    "        \n",
    "        if model is None:\n",
    "\n",
    "            model = CustomFactorizationMachine(field_dimensions, \n",
    "                                               embedding_dimensions=embedding_dimensions)\n",
    "        \n",
    "        if criterion is None:\n",
    "\n",
    "            criterion = torch.nn.MSELoss()\n",
    "            \n",
    "        if metric is None:\n",
    "\n",
    "            metric = sklearn.metrics.r2_score\n",
    "\n",
    "        optimizer = torch.optim.Adam(params=model.parameters(), \n",
    "                                     lr=learning_rate, \n",
    "                                     weight_decay=weight_decay)\n",
    "        \n",
    "        self.device = torch.device(device)\n",
    "        \n",
    "        self.model = model.to(device)\n",
    "        self.criterion = criterion\n",
    "        self.metric = metric\n",
    "        self.optimizer = optimizer\n",
    "        self.splitter = splitter\n",
    "        \n",
    "        self.batch_logging_interval = batch_logging_interval\n",
    "        \n",
    "        self.train_data_loader = self.splitter.train_data_loader\n",
    "        self.valid_data_loader = self.splitter.valid_data_loader\n",
    "        self.test_data_loader = self.splitter.test_data_loader\n",
    "        \n",
    "        self.epoch_losses = []\n",
    "        self.losses_per_epoch = []\n",
    "        \n",
    "        # TODO: EarlyStopper\n",
    "    \n",
    "    \n",
    "    def fit(self, epochs=10):\n",
    "        \n",
    "        epoch_offset = len(self.epoch_losses)\n",
    "        \n",
    "        for epoch in range(epochs):\n",
    "            \n",
    "            epoch_start_time = time.time()\n",
    "            \n",
    "            train_batch_tracker = tqdm.tqdm(\n",
    "                self.train_data_loader,\n",
    "                desc=f\"Epoch: {epoch_offset + epoch + 1}/{epoch_offset + epochs}\",\n",
    "                unit=' batches',\n",
    "                ncols=110,\n",
    "                mininterval=1,\n",
    "            )            \n",
    "            \n",
    "            self.train(train_batch_tracker)\n",
    "            \n",
    "            epoch_loss, _ = self.test(self.valid_data_loader)\n",
    "            \n",
    "            self.epoch_losses.append(epoch_loss)\n",
    "            \n",
    "            epoch_duration = time.time() - epoch_start_time\n",
    "            \n",
    "            print(f\"Validation {self.metric.__name__}: {epoch_loss:.05f}, \"\n",
    "                  f\"Duration: {epoch_duration:.02f} seconds\") \n",
    "            \n",
    "        total_score, total_predictions = self.test(self.test_data_loader)\n",
    "        \n",
    "        # self.predictions = total_predictions\n",
    "        \n",
    "        print(f\"\\nTotal - Test {self.metric.__name__}: {total_score:.010f}\")\n",
    "    \n",
    "    \n",
    "    def train(self, train_batch_tracker):\n",
    "\n",
    "        self.model.train()\n",
    "\n",
    "        total_loss = 0\n",
    "        \n",
    "        losses = []\n",
    "\n",
    "        for batch, (fields, target) in enumerate(train_batch_tracker):\n",
    "            \n",
    "            predictions = self.model(fields)\n",
    "            \n",
    "            loss = self.criterion(predictions, target.float())\n",
    "            \n",
    "            self.model.zero_grad()\n",
    "\n",
    "            loss.backward()\n",
    "\n",
    "            self.optimizer.step()\n",
    "\n",
    "            total_loss += loss.item()\n",
    "\n",
    "            if not (batch + 1) % self.batch_logging_interval:\n",
    "\n",
    "                loss = total_loss / self.batch_logging_interval\n",
    "\n",
    "                train_batch_tracker.set_postfix(loss=f\"{loss:1.05f}\")\n",
    "                \n",
    "                losses.append(loss)\n",
    "\n",
    "                total_loss = 0\n",
    "                \n",
    "        self.losses_per_epoch.append(losses)\n",
    "                \n",
    "                \n",
    "    def test(self, data_loader):\n",
    "        \n",
    "        self.model.eval()\n",
    "    \n",
    "        targets = []\n",
    "        predictions = []\n",
    "\n",
    "        with torch.no_grad():\n",
    "\n",
    "            for fields, target in data_loader:\n",
    "\n",
    "                prediction = self.model(fields)\n",
    "\n",
    "                targets.extend(target.tolist())\n",
    "                predictions.extend(prediction.tolist())\n",
    "\n",
    "        score = self.metric(targets, predictions)\n",
    "        \n",
    "        return score, predictions\n",
    "    \n",
    "\n",
    "\n",
    "    def predict(self, indices):   \n",
    "        \n",
    "        encoded_fields = self.splitter.dataset.fields[indices]\n",
    "        targets = self.splitter.dataset.targets[indices]\n",
    "\n",
    "        self.model.eval()\n",
    "\n",
    "        with torch.no_grad():\n",
    "\n",
    "            predictions = self.model(torch.tensor(encoded_fields))\n",
    "            \n",
    "        # print(\"encoded_fields:\", encoded_fields)\n",
    "        # print(\"not_encoded_data:\", self.splitter.dataset.not_encoded_data[indices])\n",
    "        \n",
    "        return targets, predictions"
   ]
  },
  {
   "cell_type": "markdown",
   "id": "f160fef8-7054-4e52-8209-fa6fcaf33199",
   "metadata": {
    "jp-MarkdownHeadingCollapsed": true,
    "tags": []
   },
   "source": [
    "### 10) 15 Dataset"
   ]
  },
  {
   "cell_type": "code",
   "execution_count": 387,
   "id": "67f5681c-739b-453d-a4f9-308ec72f4de4",
   "metadata": {
    "tags": []
   },
   "outputs": [
    {
     "name": "stderr",
     "output_type": "stream",
     "text": [
      "Loading: 100%|███████████████████████████████████████████████████████████████| 1/1 [00:00<00:00, 22.43chunk/s]"
     ]
    },
    {
     "name": "stdout",
     "output_type": "stream",
     "text": [
      "Dataset field: (100000, 24)\n",
      "Dataset targets: (100000, 1)\n",
      "dataset.field_dimensions: [2 2 2 2 2 2 2 2 2 2 2 2 2 2 2 2 2 2 2 2 2 2 2 2]\n",
      "Splitter lengths: (80000, 10000, 10000)\n"
     ]
    },
    {
     "name": "stderr",
     "output_type": "stream",
     "text": [
      "\n"
     ]
    }
   ],
   "source": [
    "# Load Data\n",
    "\n",
    "DATASET_PATH = 'simulated_prices/15_dataset.csv'\n",
    "\n",
    "# DATASET_PATH = 'simulated_prices/alex_dataset.csv'\n",
    "\n",
    "# DATASET_PATH = 'simulated_prices/multi_modal_dataset.csv'\n",
    "\n",
    "\n",
    "DATASET_SIZE = 50000 * 2\n",
    "# DATASET_SIZE = 4\n",
    "\n",
    "ENCODE = True\n",
    "# ENCODE = False\n",
    "\n",
    "SHUFFLE = True\n",
    "\n",
    "NORMALIZE = False\n",
    "\n",
    "\n",
    "scheme = {'initial_asset_price': \n",
    "              {'binary': ENCODE,\n",
    "               'encoding_format': 'i1', \n",
    "               'bits_count': 8,\n",
    "               'factor': 1,\n",
    "               'target_column': False},\n",
    "          'volatility': \n",
    "              {'binary': ENCODE,\n",
    "               'encoding_format': 'i1', \n",
    "               'bits_count': 8,\n",
    "               'factor': 10,\n",
    "               'target_column': False},\n",
    "          'asset_price':\n",
    "              {'binary': ENCODE,\n",
    "               'encoding_format': 'i1', \n",
    "               'bits_count': 8,\n",
    "               # 'factor': 10,\n",
    "               'conversion': lambda x: x * 10 + 3,\n",
    "               'target_column': False},\n",
    "          'probability':\n",
    "              {'binary': False,\n",
    "               'factor': 100000,\n",
    "               \n",
    "               # 'conversion': lambda x: x ** 2,               \n",
    "               # 'conversion': lambda x: 1 / (x + 0.00001),               \n",
    "               # 'conversion': lambda x: x ** (1 / 2),\n",
    "               \n",
    "               'target_column': True}\n",
    "         }  \n",
    "\n",
    "dataset = AssetDataset(\n",
    "    DATASET_PATH, \n",
    "    chunk_size=DATASET_SIZE, \n",
    "    dataset_size=DATASET_SIZE,\n",
    "    scheme=scheme,\n",
    "    normalize=NORMALIZE,\n",
    "    shuffle=SHUFFLE\n",
    ")\n",
    "\n",
    "splitter = Splitter(dataset, batch_size=100, dataloader_workers_count=8)\n",
    "\n",
    "trainer = Trainer(splitter=splitter, embedding_dimensions=16)\n",
    "\n",
    "\n",
    "print(\"Dataset field:\", dataset.fields.shape)\n",
    "print(\"Dataset targets:\", dataset.targets.shape) \n",
    "print(\"dataset.field_dimensions:\", dataset.field_dimensions)\n",
    "\n",
    "print(\"Splitter lengths:\", splitter.lengths) "
   ]
  },
  {
   "cell_type": "code",
   "execution_count": 390,
   "id": "407ad163-2c06-4e8e-94a5-afd4ff12803d",
   "metadata": {},
   "outputs": [
    {
     "name": "stderr",
     "output_type": "stream",
     "text": [
      "Epoch: 2/10: 100%|█████████████████████████████████████| 800/800 [00:02<00:00, 347.82 batches/s, loss=0.04754]\n"
     ]
    },
    {
     "name": "stdout",
     "output_type": "stream",
     "text": [
      "Validation r2_score: 0.97526, Duration: 2.65 seconds\n"
     ]
    },
    {
     "name": "stderr",
     "output_type": "stream",
     "text": [
      "Epoch: 3/10: 100%|█████████████████████████████████████| 800/800 [00:02<00:00, 372.06 batches/s, loss=0.04528]\n"
     ]
    },
    {
     "name": "stdout",
     "output_type": "stream",
     "text": [
      "Validation r2_score: 0.97547, Duration: 2.48 seconds\n"
     ]
    },
    {
     "name": "stderr",
     "output_type": "stream",
     "text": [
      "Epoch: 4/10: 100%|█████████████████████████████████████| 800/800 [00:02<00:00, 361.81 batches/s, loss=0.04543]\n"
     ]
    },
    {
     "name": "stdout",
     "output_type": "stream",
     "text": [
      "Validation r2_score: 0.97523, Duration: 2.54 seconds\n"
     ]
    },
    {
     "name": "stderr",
     "output_type": "stream",
     "text": [
      "Epoch: 5/10: 100%|█████████████████████████████████████| 800/800 [00:02<00:00, 369.70 batches/s, loss=0.04552]\n"
     ]
    },
    {
     "name": "stdout",
     "output_type": "stream",
     "text": [
      "Validation r2_score: 0.97540, Duration: 2.49 seconds\n"
     ]
    },
    {
     "name": "stderr",
     "output_type": "stream",
     "text": [
      "Epoch: 6/10: 100%|█████████████████████████████████████| 800/800 [00:02<00:00, 358.06 batches/s, loss=0.04555]\n"
     ]
    },
    {
     "name": "stdout",
     "output_type": "stream",
     "text": [
      "Validation r2_score: 0.97539, Duration: 2.56 seconds\n"
     ]
    },
    {
     "name": "stderr",
     "output_type": "stream",
     "text": [
      "Epoch: 7/10: 100%|█████████████████████████████████████| 800/800 [00:02<00:00, 350.41 batches/s, loss=0.04555]\n"
     ]
    },
    {
     "name": "stdout",
     "output_type": "stream",
     "text": [
      "Validation r2_score: 0.97534, Duration: 2.61 seconds\n"
     ]
    },
    {
     "name": "stderr",
     "output_type": "stream",
     "text": [
      "Epoch: 8/10: 100%|█████████████████████████████████████| 800/800 [00:02<00:00, 354.58 batches/s, loss=0.04554]\n"
     ]
    },
    {
     "name": "stdout",
     "output_type": "stream",
     "text": [
      "Validation r2_score: 0.97529, Duration: 2.60 seconds\n"
     ]
    },
    {
     "name": "stderr",
     "output_type": "stream",
     "text": [
      "Epoch: 9/10: 100%|█████████████████████████████████████| 800/800 [00:02<00:00, 349.58 batches/s, loss=0.04553]\n"
     ]
    },
    {
     "name": "stdout",
     "output_type": "stream",
     "text": [
      "Validation r2_score: 0.97525, Duration: 2.63 seconds\n"
     ]
    },
    {
     "name": "stderr",
     "output_type": "stream",
     "text": [
      "Epoch: 10/10: 100%|████████████████████████████████████| 800/800 [00:02<00:00, 362.06 batches/s, loss=0.04551]\n"
     ]
    },
    {
     "name": "stdout",
     "output_type": "stream",
     "text": [
      "Validation r2_score: 0.97521, Duration: 2.55 seconds\n",
      "\n",
      "Total - Test r2_score: 0.9756872439\n"
     ]
    }
   ],
   "source": [
    "trainer.fit(epochs=9)"
   ]
  },
  {
   "cell_type": "code",
   "execution_count": 391,
   "id": "f62932ef-c096-487a-b50f-6199827946b2",
   "metadata": {
    "tags": []
   },
   "outputs": [
    {
     "data": {
      "image/png": "[encoded data removed]",
      "text/plain": [
       "<Figure size 1080x360 with 1 Axes>"
      ]
     },
     "metadata": {
      "needs_background": "dark"
     },
     "output_type": "display_data"
    }
   ],
   "source": [
    "# Predict\n",
    "\n",
    "indices = np.arange(0, len(dataset), 1)\n",
    "\n",
    "targets, predictions = trainer.predict(indices)\n",
    "\n",
    "probability_factor = scheme['probability']['factor']\n",
    "\n",
    "defactored_targets = np.array(targets) / probability_factor\n",
    "defactored_predictions = np.array(predictions) / probability_factor\n",
    "\n",
    "# Plot\n",
    "\n",
    "A = 0\n",
    "B = A + 1000\n",
    "\n",
    "figure = plt.gcf()\n",
    "figure.set_size_inches(15, 5)\n",
    "\n",
    "asset_prices = dataset.not_encoded_data[indices, 2]\n",
    "\n",
    "plt.plot(asset_prices, defactored_targets, label=f\"Targets\")\n",
    "plt.plot(asset_prices, defactored_predictions, label=f\"Predictions\")\n",
    "\n",
    "# plt.plot(defactored_targets[A:B], label=f\"Targets\")\n",
    "# plt.plot(defactored_predictions[A:B], label=f\"Predictions\")\n",
    "\n",
    "plt.locator_params(axis='x', nbins=20)\n",
    "\n",
    "plt.xlabel(\"Asset Price\")\n",
    "plt.ylabel(\"Probability\")\n",
    "plt.legend()\n",
    "\n",
    "plt.show()"
   ]
  },
  {
   "cell_type": "markdown",
   "id": "11e174eb-fb6a-4bab-9aec-f5a9e299e8dd",
   "metadata": {
    "jp-MarkdownHeadingCollapsed": true,
    "tags": []
   },
   "source": [
    "### 11) Critical Points"
   ]
  },
  {
   "cell_type": "code",
   "execution_count": 370,
   "id": "68cef9d1-bd92-4aff-86de-f319dfdb749f",
   "metadata": {},
   "outputs": [
    {
     "name": "stdout",
     "output_type": "stream",
     "text": [
      "asset_prices: [1152.4899  1152.51864]\n",
      "predictions: [2.3406088 2.3406088]\n",
      "encoded:\n",
      "[[0 1 0 1 0 1 1 0 0 1 0 1 0 0 1 0 0 0 0 0 0 0 0 1 3]\n",
      " [0 1 0 1 0 1 1 0 0 1 0 1 0 0 1 0 0 0 0 0 0 0 0 1 2]]\n"
     ]
    }
   ],
   "source": [
    "step_slice = slice(39189, 39191)\n",
    "\n",
    "print(\"asset_prices:\", asset_prices[step_slice])\n",
    "\n",
    "# print(\"targets:\", targets[step_slice].ravel())\n",
    "print(\"predictions:\", predictions[step_slice].numpy())\n",
    "\n",
    "print(\"encoded:\")\n",
    "print(dataset.data[step_slice].astype(int))"
   ]
  },
  {
   "cell_type": "code",
   "execution_count": 121,
   "id": "49a4b1dd-0f82-4a7a-902f-ec5def162181",
   "metadata": {},
   "outputs": [
    {
     "name": "stdout",
     "output_type": "stream",
     "text": [
      "asset_prices: [1535991.5 1536003. ]\n",
      "predictions: [3.9777868 3.8709311]\n",
      "encoded:\n",
      "[[0 0 1 0 0 0 0 0 1 0 0 0 0 1 0 0 0 0 0 0 1 0 0 0 0 0 0 0 0 1 0 0 0 0 0 0\n",
      "  0 1 0 0 0 0 1 0 0 0 1 0 0 0 0 0 1 0 0 0 1 1 0 0 0 0 0 0 1 1 0 0 0 0 0 0\n",
      "  1 0 1 0 0 1 1 0 1 0 0 0 0 0 0 0 0 0 1 0 1 1 0 0 0 0 1 0 1 0 0 0 4]\n",
      " [0 0 1 0 0 0 0 0 1 0 0 0 0 1 0 0 0 0 0 0 1 0 0 0 0 0 0 0 0 1 0 0 0 0 0 0\n",
      "  0 1 0 0 0 0 1 0 1 0 1 0 0 0 0 0 1 0 0 0 1 1 0 0 0 0 0 0 0 0 0 0 0 0 0 0\n",
      "  0 0 0 0 0 0 0 0 1 0 0 0 0 0 0 0 0 0 0 0 1 0 0 0 0 0 0 0 1 0 0 0 3]]\n"
     ]
    }
   ],
   "source": [
    "step_slice = slice(42343, 42345)\n",
    "\n",
    "print(\"asset_prices:\", asset_prices[step_slice])\n",
    "\n",
    "# print(\"targets:\", targets[step_slice].ravel())\n",
    "print(\"predictions:\", predictions[step_slice].numpy())\n",
    "\n",
    "print(\"encoded:\")\n",
    "print(dataset.data[step_slice].astype(int))"
   ]
  },
  {
   "cell_type": "code",
   "execution_count": 122,
   "id": "c449729f-5dff-4d4a-ad97-f1be57d372ac",
   "metadata": {},
   "outputs": [
    {
     "name": "stdout",
     "output_type": "stream",
     "text": [
      "asset_prices: [1638390.  1638401.4]\n",
      "targets: [3.3 3.8]\n",
      "predictions: [3.2222075 3.1254928]\n",
      "encoded:\n",
      "[[0 0 1 0 0 0 0 0 1 0 0 0 0 1 0 0 0 0 0 0 1 0 0 0 0 0 0 0 0 1 0 0 0 0 0 0\n",
      "  0 1 0 0 0 0 1 0 1 0 0 0 0 0 0 0 1 0 0 0 0 0 0 1 0 0 0 0 1 1 0 0 0 0 0 0\n",
      "  1 0 1 0 0 1 1 0 0 0 0 0 0 0 0 0 0 0 1 1 1 1 0 0 0 0 1 0 1 0 0 0 3]\n",
      " [0 0 1 0 0 0 0 0 1 0 0 0 0 1 0 0 0 0 0 0 1 0 0 0 0 0 0 0 0 1 0 0 0 0 0 0\n",
      "  0 1 0 0 0 0 1 0 0 0 1 0 0 0 0 0 0 0 0 0 0 0 0 1 0 0 0 0 0 0 0 0 0 0 0 0\n",
      "  0 0 0 0 0 0 0 0 1 0 0 0 0 0 0 0 0 0 0 0 0 0 0 0 0 0 0 0 0 0 0 0 3]]\n"
     ]
    }
   ],
   "source": [
    "step_slice = slice(51316, 51318)\n",
    "\n",
    "print(\"asset_prices:\", asset_prices[step_slice])\n",
    "\n",
    "print(\"targets:\", targets[step_slice].ravel())\n",
    "print(\"predictions:\", predictions[step_slice].numpy())\n",
    "\n",
    "print(\"encoded:\")\n",
    "print(dataset.data[step_slice].astype(int))"
   ]
  },
  {
   "cell_type": "code",
   "execution_count": 109,
   "id": "97505d45-bfc4-4cf5-897e-4c62d40493c9",
   "metadata": {},
   "outputs": [
    {
     "name": "stdout",
     "output_type": "stream",
     "text": [
      "asset_prices: [15.999891 16.000005]\n",
      "targets: [4.  4.4]\n",
      "predictions: [4.7931576 3.3072062]\n",
      "encoded:\n",
      "[[0 0 0 0 1 1 1 1 0 0 0 0 0 0 0 0 0 1 0 0 0 0 0 1 0 1 1 1 1 1 1 1 1 1 1 1\n",
      "  1 1 1 1 1 0 0 0 1 1 1 0 4]\n",
      " [0 0 0 0 1 1 1 1 0 0 0 0 0 0 0 0 0 1 0 0 0 0 0 1 1 0 0 0 0 0 0 0 0 0 0 0\n",
      "  0 0 0 0 0 0 0 0 0 0 1 1 4]]\n"
     ]
    }
   ],
   "source": [
    "step_slice = slice(47951, 47953)\n",
    "\n",
    "print(\"asset_prices:\", asset_prices[step_slice])\n",
    "\n",
    "print(\"targets:\", targets[step_slice].ravel())\n",
    "print(\"predictions:\", predictions[step_slice].numpy())\n",
    "\n",
    "print(\"encoded:\")\n",
    "print(dataset.data[step_slice].astype(int))"
   ]
  },
  {
   "cell_type": "code",
   "execution_count": 163,
   "id": "9ed8c1a5-0ed7-4d68-8165-da9e1f559a87",
   "metadata": {},
   "outputs": [
    {
     "data": {
      "text/plain": [
       "torch.Size([48, 16])"
      ]
     },
     "execution_count": 163,
     "metadata": {},
     "output_type": "execute_result"
    }
   ],
   "source": [
    "trainer.model.state_dict()['embedding.embedding.weight'].shape"
   ]
  },
  {
   "cell_type": "code",
   "execution_count": 24,
   "id": "11a8ee2d-344a-415c-a110-5b7a13ab28c0",
   "metadata": {},
   "outputs": [],
   "source": [
    "# dataset.data"
   ]
  },
  {
   "cell_type": "code",
   "execution_count": 169,
   "id": "1aebb54c-447c-44ab-b40d-e3579e34557b",
   "metadata": {},
   "outputs": [],
   "source": [
    "# dataset.not_encoded_data"
   ]
  },
  {
   "cell_type": "code",
   "execution_count": null,
   "id": "87fd1f5a-5546-419e-ac55-984401af7034",
   "metadata": {},
   "outputs": [],
   "source": [
    "# # Save encoded dataset\n",
    "\n",
    "# ENCODED_DATASET_PATH = 'simulated_prices/15_dataset_encoded.csv'\n",
    "\n",
    "# columns = [f'initial_asset_price_bit_{i}' for i in range(32)]\n",
    "\n",
    "# columns += [f'volatility_bit_{i}' for i in range(8)]\n",
    "\n",
    "# columns += [f'asset_price_bit_{i}' for i in range(32)]\n",
    "\n",
    "# columns += ['probability']\n",
    "\n",
    "# encoded_dataset = pd.DataFrame(dataset.data, columns=columns)\n",
    "\n",
    "# encoded_dataset.to_csv(ENCODED_DATASET_PATH, index=False)"
   ]
  },
  {
   "cell_type": "code",
   "execution_count": null,
   "id": "5d35bcd3-8719-4afc-b789-3a67201f0f6b",
   "metadata": {},
   "outputs": [],
   "source": [
    "# plt.plot(trainer.epoch_losses[:], label=metric.__name__)\n",
    "\n",
    "# plt.xlabel(\"Epoch\")\n",
    "# plt.ylabel(metric.__name__)\n",
    "# plt.legend();"
   ]
  },
  {
   "cell_type": "code",
   "execution_count": 16,
   "id": "f4745f35-ad21-4bbe-98a0-7933f6e57f32",
   "metadata": {},
   "outputs": [],
   "source": [
    "# a = np.array([14335.931, 14337.073])\n",
    "\n",
    "# # a = np.array([1])\n",
    "\n",
    "# b = dataset.encode_to_bits(a, dtype='>i4', bits_count=32)\n",
    "\n",
    "# b\n",
    "\n",
    "# c = dataset.decode_from_bits(b[1], dtype='>i4')\n",
    "\n",
    "# c"
   ]
  },
  {
   "cell_type": "code",
   "execution_count": null,
   "id": "26e997e1-1cc9-4ebd-bcae-4d0c49eefb50",
   "metadata": {},
   "outputs": [],
   "source": [
    "# a = np.array([10.527916 * 1000])\n",
    "\n",
    "# b = dataset.encode_to_bits(a, dtype='>i4', bits_count=32)\n",
    "\n",
    "# b\n",
    "\n",
    "# a = np.array([10527.4353453455])\n",
    "\n",
    "# b = dataset.encode_to_bits(a, dtype='>i4', bits_count=32)\n",
    "\n",
    "# c = dataset.decode_from_bits(b, dtype='>i4')\n",
    "\n",
    "# c"
   ]
  },
  {
   "cell_type": "code",
   "execution_count": null,
   "id": "0dba9698-90c7-4de6-94ef-9052757d2fdb",
   "metadata": {},
   "outputs": [],
   "source": [
    "# a = np.arange(32, dtype='int8')\n",
    "\n",
    "# np.random.shuffle(a)\n",
    "\n",
    "\n",
    "# to_positions = np.arange(32, dtype='int8')\n",
    "\n",
    "# np.random.shuffle(to_positions)\n",
    "\n",
    "\n",
    "# shuffle_map = np.empty(32, dtype='i1')\n",
    "# unshuffle_map = np.empty(32, dtype='i1')\n",
    "\n",
    "# for from_position, to_position in enumerate(to_positions):\n",
    "    \n",
    "#     shuffle_map[from_position] = to_position\n",
    "#     unshuffle_map[to_position] = from_position\n",
    "\n",
    "# shuffle_map, unshuffle_map\n",
    "\n",
    "# b = a[shuffle_map]\n",
    "\n",
    "# c = b[unshuffle_map]\n",
    "\n",
    "# a, c"
   ]
  },
  {
   "cell_type": "code",
   "execution_count": null,
   "id": "3ff30914-02c9-4c9d-8f9e-0d1aaaa8757b",
   "metadata": {},
   "outputs": [],
   "source": [
    "# def decode_row(self, encoded_row):\n",
    "\n",
    "#     decoded_fields = []\n",
    "#     decoded_targets = []\n",
    "\n",
    "#     field_offset = 0\n",
    "\n",
    "#     for column_name, parameters in self.scheme.items():\n",
    "\n",
    "#         if parameters['binary']:\n",
    "#             column_size = parameters['bits_count']                \n",
    "#         else:\n",
    "#             column_size = 1\n",
    "\n",
    "#         column = encoded_row[field_offset : field_offset + column_size]\n",
    "\n",
    "#         if parameters['binary']:\n",
    "\n",
    "#             decoded_column = self.decode_from_bits(column.astype(int),\n",
    "#                                                    dtype=parameters['encoding_format']).item()\n",
    "\n",
    "#         else:                \n",
    "#             decoded_column = column.item()\n",
    "\n",
    "#         if parameters['target_column']:\n",
    "\n",
    "#             decoded_targets.append(decoded_column)\n",
    "\n",
    "#         else:                \n",
    "#             decoded_fields.append(decoded_column)\n",
    "\n",
    "#         field_offset += column_size\n",
    "\n",
    "#     return decoded_fields, decoded_targets"
   ]
  },
  {
   "cell_type": "markdown",
   "id": "ea27ab88-d092-41b9-b8b6-927d958eaa51",
   "metadata": {
    "tags": []
   },
   "source": [
    "### 9) Alex Dataset"
   ]
  },
  {
   "cell_type": "code",
   "execution_count": 6,
   "id": "af1b3290-33fd-4000-be71-9f18f39990fe",
   "metadata": {},
   "outputs": [
    {
     "name": "stderr",
     "output_type": "stream",
     "text": [
      "Loading: 100%|██████████████████████████████████████████████████████████████| 1/1 [00:00<00:00, 338.69chunk/s]"
     ]
    },
    {
     "name": "stdout",
     "output_type": "stream",
     "text": [
      "dataset.fields.shape: (1000, 72)\n",
      "dataset.targets.shape: (1000, 1)\n",
      "dataset.field_dimensions: 144\n"
     ]
    },
    {
     "name": "stderr",
     "output_type": "stream",
     "text": [
      "\n"
     ]
    }
   ],
   "source": [
    "# Load Data\n",
    "\n",
    "ASSET_DATASET_PATH = 'simulated_prices/alex_dataset.csv'\n",
    "\n",
    "scheme = {'initial_asset_price': \n",
    "              {'binary': True,\n",
    "               'encoding_format': '>f', \n",
    "               'bits_count': 32,\n",
    "               'factor': 1,\n",
    "               'target_column': False},\n",
    "          'volatility': \n",
    "              {'binary': True,\n",
    "               'encoding_format': 'i1', \n",
    "               'bits_count': 8,\n",
    "               'factor': 100,\n",
    "               'target_column': False},\n",
    "          'asset_price':\n",
    "              {'binary': True,\n",
    "               'encoding_format': '>f', \n",
    "               'bits_count': 32,\n",
    "               'factor': 1,\n",
    "               'target_column': False},\n",
    "          'probability':\n",
    "              {'binary': False,\n",
    "               'factor': 1000,\n",
    "               \n",
    "               # 'conversion': lambda x: x ** 2,               \n",
    "               # 'conversion': lambda x: 1 / (x + 0.00001),               \n",
    "               # 'conversion': lambda x: x ** (1 / 2),\n",
    "               \n",
    "               'target_column': True}\n",
    "         }  \n",
    "\n",
    "dataset = AssetDataset(\n",
    "    ASSET_DATASET_PATH, \n",
    "    chunk_size=1000, \n",
    "    dataset_size=1000,\n",
    "    scheme=scheme,\n",
    "    # normalize=True\n",
    ")\n",
    "\n",
    "field_dimensions = dataset.field_dimensions\n",
    "\n",
    "print(\"dataset.fields.shape:\", dataset.fields.shape)\n",
    "print(\"dataset.targets.shape:\", dataset.targets.shape) \n",
    "print(\"dataset.field_dimensions:\", dataset.field_dimensions.sum())    "
   ]
  },
  {
   "cell_type": "code",
   "execution_count": 7,
   "id": "6982ea77-55f2-4263-86ba-6a3161acba87",
   "metadata": {},
   "outputs": [],
   "source": [
    "splitter = Splitter(dataset, batch_size=100, dataloader_workers_count=8)\n",
    "\n",
    "metric = sklearn.metrics.r2_score\n",
    "\n",
    "trainer = Trainer(splitter=splitter, embedding_dimensions=144, metric=metric)"
   ]
  },
  {
   "cell_type": "code",
   "execution_count": 26,
   "id": "22fed429-328d-4627-a1ff-163a877b69b9",
   "metadata": {},
   "outputs": [
    {
     "name": "stderr",
     "output_type": "stream",
     "text": [
      "Epoch: 23/23: 100%|███████████████████████████████████████████████████████| 8/8 [00:00<00:00, 56.88 batches/s]\n"
     ]
    },
    {
     "name": "stdout",
     "output_type": "stream",
     "text": [
      "Validation r2_score: 0.71919, Duration: 0.22 seconds\n",
      "\n",
      "Total - Test r2_score: 0.6149587782\n"
     ]
    }
   ],
   "source": [
    "trainer.fit(epochs=1)"
   ]
  },
  {
   "cell_type": "code",
   "execution_count": 27,
   "id": "2e471dd6-5d70-44f9-b4a0-803341383be5",
   "metadata": {},
   "outputs": [
    {
     "data": {
      "image/png": "[encoded data removed]",
      "text/plain": [
       "<Figure size 432x288 with 1 Axes>"
      ]
     },
     "metadata": {
      "needs_background": "dark"
     },
     "output_type": "display_data"
    }
   ],
   "source": [
    "plt.plot(trainer.epoch_losses[:], label=metric.__name__)\n",
    "\n",
    "plt.xlabel(\"Epoch\")\n",
    "plt.ylabel(metric.__name__)\n",
    "plt.legend();"
   ]
  },
  {
   "cell_type": "code",
   "execution_count": 31,
   "id": "ec0f4489-68a6-47d1-a922-11a729f070c1",
   "metadata": {},
   "outputs": [
    {
     "data": {
      "image/png": "[encoded data removed]",
      "text/plain": [
       "<Figure size 1080x360 with 1 Axes>"
      ]
     },
     "metadata": {
      "needs_background": "dark"
     },
     "output_type": "display_data"
    }
   ],
   "source": [
    "# Predict\n",
    "\n",
    "indices = np.arange(0, len(dataset), 1)\n",
    "\n",
    "targets, predictions = trainer.predict(indices)\n",
    "\n",
    "probability_factor = scheme['probability']['factor']\n",
    "\n",
    "defactored_targets = np.array(targets) / probability_factor\n",
    "defactored_predictions = np.array(predictions) / probability_factor\n",
    "\n",
    "# Plot\n",
    "\n",
    "figure = plt.gcf()\n",
    "figure.set_size_inches(15, 5)\n",
    "\n",
    "asset_prices = dataset.not_encoded_data[indices, 2]\n",
    "\n",
    "plt.plot(asset_prices, defactored_targets, label=f\"Targets\")\n",
    "plt.plot(asset_prices, defactored_predictions, label=f\"Predictions\")\n",
    "\n",
    "plt.locator_params(axis='x', nbins=20)\n",
    "\n",
    "plt.xlabel(\"Asset Price\")\n",
    "plt.ylabel(\"Probability\")\n",
    "plt.legend()\n",
    "\n",
    "plt.show()"
   ]
  },
  {
   "cell_type": "code",
   "execution_count": 268,
   "id": "7c529497-ad5c-475d-8e11-e1a837be9e5d",
   "metadata": {},
   "outputs": [],
   "source": [
    "# # Save\n",
    "\n",
    "# MODEL_PATH = 'saved_models/alex_no_linear_model.pt'\n",
    "# PREDICTIONS_PATH = 'predictions/alex_no_linear_predictions.xlsx'\n",
    "\n",
    "MODEL_PATH = 'saved_models/alex_model.pt'\n",
    "PREDICTIONS_PATH = 'predictions/alex_predictions.xlsx'\n",
    "\n",
    "# torch.save(trainer.model.state_dict(), MODEL_PATH)\n",
    "\n",
    "predictions_dataframe = pd.DataFrame({'Targets': defactored_targets, 'Predictions': defactored_predictions})\n",
    "\n",
    "# predictions_dataframe.to_excel(PREDICTIONS_PATH, index=False)\n",
    "\n",
    "# trainer.model.state_dict()\n",
    "\n",
    "# predictions_dataframe"
   ]
  },
  {
   "cell_type": "markdown",
   "id": "759e7f56-33c4-4320-b368-c1869068ec41",
   "metadata": {
    "tags": []
   },
   "source": [
    "### 8) Assets - 10K Dataset"
   ]
  },
  {
   "cell_type": "code",
   "execution_count": 22,
   "id": "b7a8b0ec-d64e-4ac6-8db5-ddd9fbd92b01",
   "metadata": {},
   "outputs": [
    {
     "name": "stderr",
     "output_type": "stream",
     "text": [
      "Loading: 100%|██████████████████████████████████████████████████████████████| 1/1 [00:00<00:00, 139.30chunk/s]"
     ]
    },
    {
     "name": "stdout",
     "output_type": "stream",
     "text": [
      "dataset.fields.shape: (10000, 72)\n",
      "dataset.targets.shape: (10000, 1)\n",
      "dataset.field_dimensions: [2 2 2 2 2 2 2 2 2 2 2 2 2 2 2 2 2 2 2 2 2 2 2 2 2 2 2 2 2 2 2 2 2 2 2 2 2\n",
      " 2 2 2 2 2 2 2 2 2 2 2 2 2 2 2 2 2 2 2 2 2 2 2 2 2 2 2 2 2 2 2 2 2 2 2] 144\n"
     ]
    },
    {
     "name": "stderr",
     "output_type": "stream",
     "text": [
      "\n"
     ]
    }
   ],
   "source": [
    "# Load Data\n",
    "\n",
    "ASSET_DATASET_PATH = 'simulated_prices/asset_prices_10K.csv'\n",
    "\n",
    "# ASSET_DATASET_PATH = 'simulated_prices/assets_no_probabilities_1M_samples.csv'\n",
    "\n",
    "\n",
    "scheme = {'initial_asset_price': \n",
    "              {'binary': True,\n",
    "               'encoding_format': '>f', \n",
    "               'bits_count': 32,\n",
    "               'factor': 1,\n",
    "               'target_column': False},\n",
    "          'volatility': \n",
    "              {'binary': True,\n",
    "               'encoding_format': 'i1', \n",
    "               'bits_count': 8,\n",
    "               'factor': 100,\n",
    "               'target_column': False},\n",
    "          'asset_price':\n",
    "              {'binary': True,\n",
    "               'encoding_format': '>f', \n",
    "               'bits_count': 32,\n",
    "               'factor': 1,\n",
    "               'target_column': False},\n",
    "          'probability':\n",
    "              {'binary': False,\n",
    "               'factor': 1000,\n",
    "               \n",
    "               # 'conversion': lambda x: x ** 2,               \n",
    "               # 'conversion': lambda x: 1 / (x + 0.00001),               \n",
    "               # 'conversion': lambda x: x ** (1 / 2),\n",
    "               \n",
    "               'target_column': True}\n",
    "         }  \n",
    "\n",
    "dataset = AssetDataset(\n",
    "    ASSET_DATASET_PATH, \n",
    "    chunk_size=10000, \n",
    "    dataset_size=10000,\n",
    "    scheme=scheme,\n",
    "    normalize=True\n",
    ")\n",
    "\n",
    "field_dimensions = dataset.field_dimensions\n",
    "\n",
    "print(\"dataset.fields.shape:\", dataset.fields.shape)\n",
    "print(\"dataset.targets.shape:\", dataset.target.shape) \n",
    "print(\"dataset.field_dimensions:\", dataset.field_dimensions.sum())    "
   ]
  },
  {
   "cell_type": "code",
   "execution_count": 23,
   "id": "e2be7a6d-2ed9-4fa9-a43a-f9e72244fa39",
   "metadata": {},
   "outputs": [
    {
     "data": {
      "text/plain": [
       "-5.229594535194337e-15"
      ]
     },
     "execution_count": 23,
     "metadata": {},
     "output_type": "execute_result"
    }
   ],
   "source": [
    "dataset.target.mean()"
   ]
  },
  {
   "cell_type": "code",
   "execution_count": 24,
   "id": "a0c08d3a-b3d1-4097-90bb-7a02e6fe6dd4",
   "metadata": {},
   "outputs": [
    {
     "name": "stdout",
     "output_type": "stream",
     "text": [
      "Split 10000: (8000, 1000, 1000)\n"
     ]
    }
   ],
   "source": [
    "splitter = Splitter(dataset, batch_size=100, dataloader_workers_count=8)\n",
    "\n",
    "# metric = sklearn.metrics.mean_squared_error\n",
    "metric = sklearn.metrics.r2_score\n",
    "\n",
    "trainer = Trainer(splitter=splitter, embedding_dimensions=144, metric=metric)"
   ]
  },
  {
   "cell_type": "code",
   "execution_count": 32,
   "id": "5da7409f-71a4-455a-bfbb-ccd650561d7d",
   "metadata": {},
   "outputs": [
    {
     "name": "stderr",
     "output_type": "stream",
     "text": [
      "Epoch: 31/40: 100%|██████████████████████████████████| 80/80 [00:00<00:00, 106.24 batches/s, loss=14968.64746]\n"
     ]
    },
    {
     "name": "stdout",
     "output_type": "stream",
     "text": [
      "Validation r2_score: 0.50167, Duration: 0.87 seconds\n"
     ]
    },
    {
     "name": "stderr",
     "output_type": "stream",
     "text": [
      "Epoch: 32/40: 100%|██████████████████████████████████| 80/80 [00:00<00:00, 108.02 batches/s, loss=14870.01465]\n"
     ]
    },
    {
     "name": "stdout",
     "output_type": "stream",
     "text": [
      "Validation r2_score: 0.50321, Duration: 0.86 seconds\n"
     ]
    },
    {
     "name": "stderr",
     "output_type": "stream",
     "text": [
      "Epoch: 33/40: 100%|██████████████████████████████████| 80/80 [00:00<00:00, 111.58 batches/s, loss=14775.20605]\n"
     ]
    },
    {
     "name": "stdout",
     "output_type": "stream",
     "text": [
      "Validation r2_score: 0.50464, Duration: 0.84 seconds\n"
     ]
    },
    {
     "name": "stderr",
     "output_type": "stream",
     "text": [
      "Epoch: 34/40: 100%|██████████████████████████████████| 80/80 [00:00<00:00, 107.91 batches/s, loss=14684.06348]\n"
     ]
    },
    {
     "name": "stdout",
     "output_type": "stream",
     "text": [
      "Validation r2_score: 0.50599, Duration: 0.85 seconds\n"
     ]
    },
    {
     "name": "stderr",
     "output_type": "stream",
     "text": [
      "Epoch: 35/40: 100%|██████████████████████████████████| 80/80 [00:00<00:00, 109.12 batches/s, loss=14596.44922]\n"
     ]
    },
    {
     "name": "stdout",
     "output_type": "stream",
     "text": [
      "Validation r2_score: 0.50725, Duration: 0.85 seconds\n"
     ]
    },
    {
     "name": "stderr",
     "output_type": "stream",
     "text": [
      "Epoch: 36/40: 100%|██████████████████████████████████| 80/80 [00:00<00:00, 106.37 batches/s, loss=14512.21973]\n"
     ]
    },
    {
     "name": "stdout",
     "output_type": "stream",
     "text": [
      "Validation r2_score: 0.50843, Duration: 0.87 seconds\n"
     ]
    },
    {
     "name": "stderr",
     "output_type": "stream",
     "text": [
      "Epoch: 37/40: 100%|██████████████████████████████████| 80/80 [00:00<00:00, 106.25 batches/s, loss=14431.25391]\n"
     ]
    },
    {
     "name": "stdout",
     "output_type": "stream",
     "text": [
      "Validation r2_score: 0.50955, Duration: 0.87 seconds\n"
     ]
    },
    {
     "name": "stderr",
     "output_type": "stream",
     "text": [
      "Epoch: 38/40: 100%|██████████████████████████████████| 80/80 [00:00<00:00, 108.63 batches/s, loss=14353.41992]\n"
     ]
    },
    {
     "name": "stdout",
     "output_type": "stream",
     "text": [
      "Validation r2_score: 0.51061, Duration: 0.85 seconds\n"
     ]
    },
    {
     "name": "stderr",
     "output_type": "stream",
     "text": [
      "Epoch: 39/40: 100%|██████████████████████████████████| 80/80 [00:00<00:00, 107.04 batches/s, loss=14278.59277]\n"
     ]
    },
    {
     "name": "stdout",
     "output_type": "stream",
     "text": [
      "Validation r2_score: 0.51162, Duration: 0.87 seconds\n"
     ]
    },
    {
     "name": "stderr",
     "output_type": "stream",
     "text": [
      "Epoch: 40/40: 100%|██████████████████████████████████| 80/80 [00:00<00:00, 107.78 batches/s, loss=14206.64746]\n"
     ]
    },
    {
     "name": "stdout",
     "output_type": "stream",
     "text": [
      "Validation r2_score: 0.51258, Duration: 0.86 seconds\n",
      "\n",
      "Total - Test r2_score: 0.4941015303\n"
     ]
    }
   ],
   "source": [
    "trainer.fit(epochs=10)"
   ]
  },
  {
   "cell_type": "code",
   "execution_count": 39,
   "id": "28135633-ad8c-43ac-8d70-f2ac3cec95b0",
   "metadata": {},
   "outputs": [
    {
     "data": {
      "image/png": "[encoded data removed]",
      "text/plain": [
       "<Figure size 432x288 with 1 Axes>"
      ]
     },
     "metadata": {
      "needs_background": "dark"
     },
     "output_type": "display_data"
    }
   ],
   "source": [
    "plt.plot(trainer.epoch_losses[:], label=metric.__name__)\n",
    "\n",
    "plt.xlabel(\"Epoch\")\n",
    "plt.ylabel(metric.__name__)\n",
    "plt.legend();"
   ]
  },
  {
   "cell_type": "code",
   "execution_count": 40,
   "id": "3c4c1eff-17fb-422a-aacc-9d145661632e",
   "metadata": {},
   "outputs": [
    {
     "data": {
      "image/png": "[encoded data removed]",
      "text/plain": [
       "<Figure size 432x288 with 1 Axes>"
      ]
     },
     "metadata": {
      "needs_background": "dark"
     },
     "output_type": "display_data"
    }
   ],
   "source": [
    "plt.plot(trainer.epoch_losses[-10:], label=metric.__name__)\n",
    "    \n",
    "plt.xlabel(\"Epoch\")\n",
    "plt.ylabel(metric.__name__)\n",
    "plt.legend();"
   ]
  },
  {
   "cell_type": "code",
   "execution_count": 45,
   "id": "221b7a79-f5c1-4d5e-962b-bb422d246f91",
   "metadata": {},
   "outputs": [
    {
     "data": {
      "image/png": "[encoded data removed]",
      "text/plain": [
       "<Figure size 1080x360 with 1 Axes>"
      ]
     },
     "metadata": {
      "needs_background": "dark"
     },
     "output_type": "display_data"
    }
   ],
   "source": [
    "# Predict\n",
    "\n",
    "indices = list(range(1000))\n",
    "   \n",
    "targets, predictions = zip(*map(trainer.predict_by_index, indices))\n",
    "\n",
    "probability_factor = scheme['probability']['factor']\n",
    "\n",
    "defactored_targets = np.array(targets) / probability_factor\n",
    "defactored_predictions = np.array(predictions) / probability_factor\n",
    "\n",
    "# Plot\n",
    "\n",
    "figure = plt.gcf()\n",
    "figure.set_size_inches(15, 5)\n",
    "\n",
    "plt.plot(defactored_targets, label=f\"Targets\")\n",
    "plt.plot(defactored_predictions, label=f\"Predictions\");\n",
    "\n",
    "plt.xlabel(\"Sample Number\")\n",
    "plt.ylabel(\"Probability\")\n",
    "plt.legend()\n",
    "\n",
    "plt.show()"
   ]
  },
  {
   "cell_type": "code",
   "execution_count": null,
   "id": "01c1a640-8e21-4de1-a391-cfa31139f440",
   "metadata": {},
   "outputs": [],
   "source": [
    "# Save\n",
    "\n",
    "MODEL_PATH = 'saved_models/fm_assets_10K_144_embeddings_normalized.pt'\n",
    "PREDICTIONS_PATH = 'predictions/10k_predictions_normalized.xlsx'\n",
    "\n",
    "# torch.save(trainer.model.state_dict(), MODEL_PATH)\n",
    "\n",
    "# trainer.model.state_dict()\n",
    "\n",
    "predictions_dataframe = pd.DataFrame({'Targets': defactored_targets, 'Predictions': defactored_predictions})\n",
    "\n",
    "# predictions_dataframe.to_excel(PREDICTIONS_PATH, index=False)"
   ]
  },
  {
   "cell_type": "code",
   "execution_count": null,
   "id": "c6115aca-1f86-4822-a051-eb7ddbc76595",
   "metadata": {},
   "outputs": [],
   "source": []
  },
  {
   "cell_type": "markdown",
   "id": "e8f3afdd-ed27-466c-8e17-5ebe6ef6c84d",
   "metadata": {
    "tags": []
   },
   "source": [
    "### 6) Assets - 10K Dataset - Quad Root Probability"
   ]
  },
  {
   "cell_type": "code",
   "execution_count": 5,
   "id": "df3af12c-2413-4d23-80c2-dd10593a9d37",
   "metadata": {},
   "outputs": [
    {
     "name": "stderr",
     "output_type": "stream",
     "text": [
      "Loading: 100%|████████████████████████████████████████████████████████████| 10/10 [00:00<00:00, 385.53chunk/s]"
     ]
    },
    {
     "name": "stdout",
     "output_type": "stream",
     "text": [
      "dataset.fields.shape: (10000, 72)\n",
      "dataset.targets.shape: (10000, 1)\n",
      "dataset.field_dimensions: [2 2 2 2 2 2 2 2 2 2 2 2 2 2 2 2 2 2 2 2 2 2 2 2 2 2 2 2 2 2 2 2 2 2 2 2 2\n",
      " 2 2 2 2 2 2 2 2 2 2 2 2 2 2 2 2 2 2 2 2 2 2 2 2 2 2 2 2 2 2 2 2 2 2 2] 144\n"
     ]
    },
    {
     "name": "stderr",
     "output_type": "stream",
     "text": [
      "\n"
     ]
    }
   ],
   "source": [
    "# Load Data\n",
    "\n",
    "ASSET_DATASET_PATH = 'simulated_prices/asset_prices_10K.csv'\n",
    "\n",
    "# ASSET_DATASET_PATH = 'simulated_prices/assets_no_probabilities_1M_samples.csv'\n",
    "\n",
    "\n",
    "scheme = {'initial_asset_price': \n",
    "              {'binary': True,\n",
    "               'encoding_format': '>f', \n",
    "               'bits_count': 32,\n",
    "               'factor': 1,\n",
    "               'target_column': False},\n",
    "          'volatility': \n",
    "              {'binary': True,\n",
    "               'encoding_format': 'i1', \n",
    "               'bits_count': 8,\n",
    "               'factor': 100,\n",
    "               'target_column': False},\n",
    "          'asset_price':\n",
    "              {'binary': True,\n",
    "               'encoding_format': '>f', \n",
    "               'bits_count': 32,\n",
    "               'factor': 1,\n",
    "               'target_column': False},\n",
    "          'probability':\n",
    "              {'binary': False,\n",
    "               'factor': 1000,\n",
    "               \n",
    "               # 'conversion': lambda x: x ** 2,\n",
    "               \n",
    "               # 'conversion': lambda x: 1 / (x + 0.00001),\n",
    "               \n",
    "               'conversion': lambda x: x ** (1 / 4),\n",
    "               \n",
    "               'target_column': True}\n",
    "         }  \n",
    "\n",
    "dataset = AssetDataset(\n",
    "    ASSET_DATASET_PATH, \n",
    "    chunk_size=10000, \n",
    "    dataset_size=10000,\n",
    "    scheme=scheme\n",
    ")\n",
    "\n",
    "field_dimensions = dataset.field_dimensions\n",
    "\n",
    "print(\"dataset.fields.shape:\", dataset.fields.shape)\n",
    "print(\"dataset.targets.shape:\", dataset.target.shape) \n",
    "print(\"dataset.field_dimensions:\", dataset.field_dimensions, dataset.field_dimensions.sum())    "
   ]
  },
  {
   "cell_type": "code",
   "execution_count": 6,
   "id": "60b3a792-52e9-4d97-810c-a13ebfe701b2",
   "metadata": {},
   "outputs": [
    {
     "name": "stdout",
     "output_type": "stream",
     "text": [
      "Split 10000: (8000, 1000, 1000)\n"
     ]
    }
   ],
   "source": [
    "splitter = Splitter(dataset, batch_size=100, dataloader_workers_count=8)\n",
    "\n",
    "metric = sklearn.metrics.r2_score\n",
    "\n",
    "trainer = Trainer(splitter=splitter, embedding_dimensions=144, metric=metric)"
   ]
  },
  {
   "cell_type": "code",
   "execution_count": 7,
   "id": "330baae2-1fee-41c0-b62f-344a5305f466",
   "metadata": {},
   "outputs": [
    {
     "data": {
      "text/plain": [
       "array([[0.37606031],\n",
       "       [0.31622777],\n",
       "       [0.4728708 ],\n",
       "       ...,\n",
       "       [0.        ],\n",
       "       [0.        ],\n",
       "       [0.31622777]])"
      ]
     },
     "execution_count": 7,
     "metadata": {},
     "output_type": "execute_result"
    }
   ],
   "source": [
    "dataset.target"
   ]
  },
  {
   "cell_type": "code",
   "execution_count": 61,
   "id": "46dc6a3e-b07a-443d-948f-fc0104f79608",
   "metadata": {},
   "outputs": [
    {
     "name": "stderr",
     "output_type": "stream",
     "text": [
      "Epoch: 1012/1012: 100%|██████████████████████████████████| 80/80 [00:00<00:00, 100.04 batches/s, loss=0.18454]\n"
     ]
    },
    {
     "name": "stdout",
     "output_type": "stream",
     "text": [
      "Validation r2_score: 0.77155, Duration: 0.94 seconds\n",
      "\n",
      "Total - Test r2_score: 0.7495529155\n"
     ]
    }
   ],
   "source": [
    "trainer.fit(epochs=1)"
   ]
  },
  {
   "cell_type": "code",
   "execution_count": 66,
   "id": "86a121a8-639a-4790-92b4-a65cbbcab1cc",
   "metadata": {},
   "outputs": [
    {
     "data": {
      "image/png": "[encoded data removed]",
      "text/plain": [
       "<Figure size 432x288 with 1 Axes>"
      ]
     },
     "metadata": {
      "needs_background": "dark"
     },
     "output_type": "display_data"
    }
   ],
   "source": [
    "plt.plot(trainer.epoch_losses[-100:], label=metric.__name__)\n",
    "    \n",
    "plt.xlabel(\"Epoch\")\n",
    "plt.ylabel(metric.__name__)\n",
    "plt.legend();"
   ]
  },
  {
   "cell_type": "code",
   "execution_count": 49,
   "id": "24e4821d-5b94-4915-b713-deeb4b6bfbd7",
   "metadata": {},
   "outputs": [],
   "source": [
    "# plt.plot(trainer.epoch_losses[-500:], label=f\"MSE\")\n",
    "    \n",
    "# plt.xlabel(\"Epoch\")\n",
    "# plt.ylabel(\"Mean Square Error\")\n",
    "# plt.legend();"
   ]
  },
  {
   "cell_type": "code",
   "execution_count": 73,
   "id": "40cd83b9-6f79-4ac4-97c0-51aad112a096",
   "metadata": {},
   "outputs": [],
   "source": [
    "# Save model\n",
    "\n",
    "MODEL_PATH = 'saved_models/fm_assets_10K_144_embeddings_quad_root.pt'\n",
    "\n",
    "# torch.save(trainer.model.state_dict(), MODEL_PATH)\n",
    "\n",
    "# trainer.model.state_dict()"
   ]
  },
  {
   "cell_type": "code",
   "execution_count": 15,
   "id": "58ac4287-1f5b-4a25-a545-b6dabbd9a219",
   "metadata": {},
   "outputs": [
    {
     "data": {
      "text/plain": [
       "0.01"
      ]
     },
     "execution_count": 15,
     "metadata": {},
     "output_type": "execute_result"
    }
   ],
   "source": [
    "dataset.target.mean()"
   ]
  },
  {
   "cell_type": "code",
   "execution_count": 69,
   "id": "f258b2d0-8901-47e2-94f5-6e1878932364",
   "metadata": {},
   "outputs": [
    {
     "data": {
      "image/png": "[encoded data removed]",
      "text/plain": [
       "<Figure size 1080x360 with 1 Axes>"
      ]
     },
     "metadata": {
      "needs_background": "dark"
     },
     "output_type": "display_data"
    }
   ],
   "source": [
    "# Predict\n",
    "\n",
    "indices = list(range(1000))\n",
    "   \n",
    "targets, predictions = zip(*map(trainer.predict_by_index, indices))\n",
    "\n",
    "\n",
    "# Plot\n",
    "\n",
    "figure = plt.gcf()\n",
    "figure.set_size_inches(15, 5)\n",
    "\n",
    "plt.plot(targets, label=f\"Targets\")\n",
    "plt.plot(predictions, label=f\"Predictions\");\n",
    "\n",
    "plt.xlabel(\"Sample Number\")\n",
    "plt.ylabel(\"Probability\")\n",
    "plt.legend()\n",
    "\n",
    "plt.show()"
   ]
  },
  {
   "cell_type": "code",
   "execution_count": 71,
   "id": "8ff3f0db-8d6c-4de5-a6d6-2288818427a6",
   "metadata": {},
   "outputs": [],
   "source": [
    "df = pd.DataFrame({'Targets': targets, 'Predictions': predictions})\n",
    "\n",
    "# df.to_excel('predictions/10k_predictions_quad_root.xlsx', index=False)"
   ]
  },
  {
   "cell_type": "markdown",
   "id": "023ee83c-57f0-4279-a0d2-20e9fb706438",
   "metadata": {
    "tags": []
   },
   "source": [
    "### 7) Assets - 100 Dataset - No Probabilities"
   ]
  },
  {
   "cell_type": "code",
   "execution_count": 5,
   "id": "8735648e-3ab5-4b88-829d-c187bdbbbeac",
   "metadata": {},
   "outputs": [
    {
     "name": "stderr",
     "output_type": "stream",
     "text": [
      "Loading: 100%|██████████████████████████████████████████████████████████████| 1/1 [00:00<00:00, 364.85chunk/s]"
     ]
    },
    {
     "name": "stdout",
     "output_type": "stream",
     "text": [
      "dataset.fields.shape: (100, 40)\n",
      "dataset.targets.shape: (100, 1)\n",
      "dataset.field_dimensions: [2 2 2 2 2 2 2 2 2 2 2 2 2 2 2 2 2 2 2 2 2 2 2 2 2 2 2 2 2 2 2 2 2 2 2 2 2\n",
      " 2 2 2] 80\n"
     ]
    },
    {
     "name": "stderr",
     "output_type": "stream",
     "text": [
      "\n"
     ]
    }
   ],
   "source": [
    "# Load Data\n",
    "\n",
    "# ASSET_DATASET_PATH = 'simulated_prices/asset_prices_10K.csv'\n",
    "\n",
    "ASSET_DATASET_PATH = 'simulated_prices/assets_no_probabilities_1M_samples.csv'\n",
    "\n",
    "\n",
    "scheme = {'initial_asset_price': \n",
    "              {'binary': True,\n",
    "               'encoding_format': '>f', \n",
    "               'bits_count': 32,\n",
    "               'factor': .1,\n",
    "               'target_column': False},\n",
    "          'volatility': \n",
    "              {'binary': True,\n",
    "               'encoding_format': 'i1', \n",
    "               'bits_count': 8,\n",
    "               'factor': 100,\n",
    "               'target_column': False},\n",
    "          'asset_price':\n",
    "              {'binary': False,\n",
    "               'factor': .1,\n",
    "               'target_column': True}}  \n",
    "\n",
    "dataset = AssetDataset(\n",
    "    ASSET_DATASET_PATH, \n",
    "    chunk_size=100, \n",
    "    dataset_size=100,\n",
    "    scheme=scheme\n",
    ")\n",
    "\n",
    "field_dimensions = dataset.field_dimensions\n",
    "\n",
    "print(\"dataset.fields.shape:\", dataset.fields.shape)\n",
    "print(\"dataset.targets.shape:\", dataset.target.shape) \n",
    "print(\"dataset.field_dimensions:\", dataset.field_dimensions, dataset.field_dimensions.sum())    "
   ]
  },
  {
   "cell_type": "code",
   "execution_count": 6,
   "id": "7a4921ef-71f6-4910-bfa2-e027a79fa441",
   "metadata": {},
   "outputs": [
    {
     "name": "stdout",
     "output_type": "stream",
     "text": [
      "Split 100: (80, 10, 10)\n"
     ]
    }
   ],
   "source": [
    "splitter = Splitter(dataset, batch_size=100, dataloader_workers_count=8)\n",
    "\n",
    "trainer = Trainer(splitter=splitter, embedding_dimensions=144)"
   ]
  },
  {
   "cell_type": "code",
   "execution_count": 497,
   "id": "3d4900aa-c803-4d89-bc01-2a79847e29ef",
   "metadata": {},
   "outputs": [
    {
     "name": "stdout",
     "output_type": "stream",
     "text": [
      "\n",
      "Total - Test mean_squared_error: 0.2475957235\n"
     ]
    }
   ],
   "source": [
    "trainer.fit(epochs=0)"
   ]
  },
  {
   "cell_type": "code",
   "execution_count": 9,
   "id": "51d44aca-84b5-47a9-a12c-041796a36cab",
   "metadata": {},
   "outputs": [
    {
     "data": {
      "image/png": "[encoded data removed]",
      "text/plain": [
       "<Figure size 432x288 with 1 Axes>"
      ]
     },
     "metadata": {
      "needs_background": "dark"
     },
     "output_type": "display_data"
    }
   ],
   "source": [
    "plt.plot(trainer.epoch_losses[:], label=f\"MSE\")\n",
    "    \n",
    "plt.xlabel(\"Epoch\")\n",
    "plt.ylabel(\"Mean Square Error\")\n",
    "plt.legend();"
   ]
  },
  {
   "cell_type": "code",
   "execution_count": 10,
   "id": "7091d9ae-58fe-4c6c-86ab-8a76e1e40b83",
   "metadata": {},
   "outputs": [
    {
     "data": {
      "image/png": "[encoded data removed]",
      "text/plain": [
       "<Figure size 432x288 with 1 Axes>"
      ]
     },
     "metadata": {
      "needs_background": "dark"
     },
     "output_type": "display_data"
    }
   ],
   "source": [
    "plt.plot(trainer.epoch_losses[-10:], label=f\"MSE\")\n",
    "    \n",
    "plt.xlabel(\"Epoch\")\n",
    "plt.ylabel(\"Mean Square Error\")\n",
    "plt.legend();"
   ]
  },
  {
   "cell_type": "code",
   "execution_count": 11,
   "id": "cc4dd784-686d-4eac-9f0b-aa0408d13537",
   "metadata": {},
   "outputs": [],
   "source": [
    "# Save model\n",
    "\n",
    "MODEL_PATH = 'saved_models/fm_assets_1K_16_embeddings.pt'\n",
    "\n",
    "# torch.save(trainer.model.state_dict(), MODEL_PATH)\n",
    "\n",
    "# trainer.model.state_dict()"
   ]
  },
  {
   "cell_type": "code",
   "execution_count": 12,
   "id": "68b40d34-1570-4829-9792-3ad1e19afd02",
   "metadata": {},
   "outputs": [
    {
     "name": "stdout",
     "output_type": "stream",
     "text": [
      "fields: [17.299999237060547, 33], target: 14.950467, prediction: 14.980821\n",
      "fields: [4.599999904632568, 66], target: 4.022787, prediction: 4.419135\n",
      "fields: [26.799999237060547, 88], target: 23.148886, prediction: 23.902132\n",
      "fields: [1.5, 0], target: 1.293718, prediction: 1.021680\n",
      "fields: [11.0, 100], target: 9.478597, prediction: 9.595205\n",
      "fields: [20.5, 22], target: 17.680703, prediction: 17.626347\n",
      "fields: [7.800000190734863, 55], target: 6.758910, prediction: 6.822581\n",
      "fields: [7.800000190734863, 44], target: 6.758179, prediction: 6.942515\n",
      "fields: [26.799999237060547, 66], target: 23.156054, prediction: 22.940495\n",
      "fields: [20.5, 11], target: 17.680231, prediction: 17.863243\n"
     ]
    }
   ],
   "source": [
    "# Predict\n",
    "\n",
    "PREDICTIONS_COUNT = 10\n",
    "\n",
    "trainer.model.eval()\n",
    "\n",
    "indices = np.random.randint(0, 100, PREDICTIONS_COUNT)\n",
    "\n",
    "targets = []\n",
    "predictions = []\n",
    "\n",
    "for index in indices:    \n",
    "    \n",
    "    row = dataset.data[index]\n",
    "    fields, target = dataset[index]\n",
    "    \n",
    "    decoded_fields = []\n",
    "    decoded_targets = []\n",
    "\n",
    "    field_offset = 0\n",
    "\n",
    "    for column_name, parameters in dataset.scheme.items():\n",
    "\n",
    "        if parameters['binary']:\n",
    "            column_size = parameters['bits_count']                \n",
    "        else:\n",
    "            column_size = 1\n",
    "\n",
    "        column = row[field_offset : field_offset + column_size]\n",
    "\n",
    "        if parameters['binary']:\n",
    "\n",
    "            decoded_column = dataset.decode_from_bits(column.astype(int),\n",
    "                                                      dtype=parameters['encoding_format']).item()\n",
    "\n",
    "        else:                \n",
    "            decoded_column = column.item()\n",
    "\n",
    "        if parameters['target_column']:\n",
    "\n",
    "            decoded_targets.append(decoded_column)\n",
    "\n",
    "        else:                \n",
    "            decoded_fields.append(decoded_column)\n",
    "\n",
    "        field_offset += column_size\n",
    "    \n",
    "\n",
    "    # predict\n",
    "\n",
    "    with torch.no_grad():\n",
    "\n",
    "        prediction = trainer.model(torch.tensor(fields).int()).item()\n",
    "\n",
    "    target = decoded_targets[0]\n",
    "    \n",
    "    print(f\"fields: {decoded_fields}, target: {target:f}, prediction: {prediction:f}\")\n",
    "    \n",
    "    targets.append(target)\n",
    "    predictions.append(prediction)"
   ]
  },
  {
   "cell_type": "code",
   "execution_count": 13,
   "id": "3726ba62-0a1a-449c-befd-15ce524649a6",
   "metadata": {},
   "outputs": [
    {
     "data": {
      "image/png": "[encoded data removed]",
      "text/plain": [
       "<Figure size 432x288 with 1 Axes>"
      ]
     },
     "metadata": {
      "needs_background": "dark"
     },
     "output_type": "display_data"
    }
   ],
   "source": [
    "plt.plot(targets)\n",
    "plt.plot(predictions);"
   ]
  },
  {
   "cell_type": "code",
   "execution_count": null,
   "id": "d39c6495-aea2-45c6-a7ff-eda32ee73e6d",
   "metadata": {},
   "outputs": [],
   "source": []
  },
  {
   "cell_type": "code",
   "execution_count": 605,
   "id": "d528b84e-680c-4622-a174-9ca9602cad8e",
   "metadata": {},
   "outputs": [
    {
     "ename": "NameError",
     "evalue": "name 'model' is not defined",
     "output_type": "error",
     "traceback": [
      "\u001b[0;31m---------------------------------------------------------------------------\u001b[0m",
      "\u001b[0;31mNameError\u001b[0m                                 Traceback (most recent call last)",
      "Input \u001b[0;32mIn [605]\u001b[0m, in \u001b[0;36m<cell line: 3>\u001b[0;34m()\u001b[0m\n\u001b[1;32m      1\u001b[0m MODEL_PATH \u001b[38;5;241m=\u001b[39m \u001b[38;5;124m'\u001b[39m\u001b[38;5;124msaved_models/factorization_machine_100M_144_embeddings.pt\u001b[39m\u001b[38;5;124m'\u001b[39m\n\u001b[0;32m----> 3\u001b[0m torch\u001b[38;5;241m.\u001b[39msave(\u001b[43mmodel\u001b[49m\u001b[38;5;241m.\u001b[39mstate_dict(), MODEL_PATH)\n",
      "\u001b[0;31mNameError\u001b[0m: name 'model' is not defined"
     ]
    }
   ],
   "source": [
    "MODEL_PATH = 'saved_models/factorization_machine_100M_144_embeddings.pt'\n",
    "\n",
    "torch.save(model.state_dict(), MODEL_PATH)"
   ]
  },
  {
   "cell_type": "code",
   "execution_count": null,
   "id": "6df91c9a-18c2-4490-a24b-32186f3add6c",
   "metadata": {},
   "outputs": [
    {
     "name": "stderr",
     "output_type": "stream",
     "text": [
      "Loading: 100%|██████████████████████████████████████████████████████| 10201/10201 [00:55<00:00, 185.36chunk/s]"
     ]
    },
    {
     "name": "stdout",
     "output_type": "stream",
     "text": [
      "dataset.fields.shape: (102010000, 72)\n",
      "dataset.targets.shape: (102010000,)\n",
      "dataset.field_dimensions: [2 2 2 2 2 2 2 2 2 2 2 2 2 2 2 2 2 2 2 2 2 2 2 2 2 2 2 2 2 2 2 2 2 2 2 2 2\n",
      " 2 2 2 2 2 2 2 2 2 2 2 2 2 2 2 2 2 2 2 2 2 2 2 2 2 2 2 2 2 2 2 2 2 2 2] 144\n"
     ]
    },
    {
     "name": "stderr",
     "output_type": "stream",
     "text": [
      "\n"
     ]
    }
   ],
   "source": [
    "# Load Data\n",
    "\n",
    "dataset = ChunkDataset(\n",
    "    REVERSED_OPTION_PROBABILITIES_PATH,\n",
    "    # OPTION_PROBABILITIES_PATH, \n",
    "    dataset_size=1000000,\n",
    ")\n",
    "\n",
    "field_dimensions = dataset.field_dimensions\n",
    "\n",
    "print(\"dataset.fields.shape:\", dataset.fields.shape)\n",
    "print(\"dataset.targets.shape:\", dataset.targets.shape) \n",
    "print(\"dataset.field_dimensions:\", dataset.field_dimensions, dataset.field_dimensions.sum())    "
   ]
  },
  {
   "cell_type": "code",
   "execution_count": null,
   "id": "0bf1416f-6e63-4014-96c6-6f8a028fdbec",
   "metadata": {},
   "outputs": [
    {
     "name": "stdout",
     "output_type": "stream",
     "text": [
      "dataset_indices.shape: (102010000,)\n",
      "dataset_indices: [        0         1         2 ... 102009997 102009998 102009999] int64\n",
      "dataset_indices: [39404751 33074587 28512073 ... 29626845 39104549 12665155] int64\n",
      "[39404751 33074587 28512073 ... 65287990 51979360 23205434] [ 4091019 26345064 58833450 ... 89453440 14510084 59233113] [22741452 16869266 38587347 ... 29626845 39104549 12665155]\n",
      "81608000 10201000 10201000 102010000\n"
     ]
    }
   ],
   "source": [
    "splitter = Splitter(dataset, batch_size=1000, dataloader_workers_count=8)"
   ]
  },
  {
   "cell_type": "code",
   "execution_count": null,
   "id": "bff7b5e2-1d23-420e-9849-ece40fa4f200",
   "metadata": {},
   "outputs": [],
   "source": [
    "# MODEL_PATH = 'saved_models/factorization_machine_100M.pt'\n",
    "\n",
    "# loaded_model = CustomFactorizationMachine(field_dimensions, embedding_dimension=embedding_dimension)\n",
    "\n",
    "# state_dict = torch.load(MODEL_PATH)\n",
    "# loaded_model.load_state_dict(state_dict)\n",
    "# loaded_model.eval()"
   ]
  },
  {
   "cell_type": "code",
   "execution_count": 14,
   "id": "1722f92b-2014-4b50-a39c-6cfdbdb5f86a",
   "metadata": {},
   "outputs": [],
   "source": [
    "def encode_to_bits(inputs, dtype='>f', bits_count=32):\n",
    "\n",
    "    number_bytes = np.array([inputs], dtype=dtype)\n",
    "\n",
    "    integer_view = number_bytes.view('uint8')\n",
    "\n",
    "    bits_vector = np.unpackbits(integer_view)\n",
    "\n",
    "    bits = bits_vector.reshape(-1, bits_count)\n",
    "\n",
    "    return bits\n",
    "\n",
    "\n",
    "def decode_from_bits(bits, dtype='>f', bitorder='big'):\n",
    "    \n",
    "    bits_vector = bits.reshape(-1)\n",
    "    \n",
    "    integer_view = np.packbits(bits_vector, bitorder=bitorder)\n",
    "\n",
    "    output = integer_view.view(dtype)\n",
    "    \n",
    "    return output"
   ]
  },
  {
   "cell_type": "code",
   "execution_count": 15,
   "id": "31887ebb-5d2c-4790-93c5-bc23b3dbf22d",
   "metadata": {},
   "outputs": [
    {
     "name": "stdout",
     "output_type": "stream",
     "text": [
      "[0 1 0 0 0 1 0 1 1 0 0 0 1 1 1 1 1 1 0 0 0 0 0 0 0 0 0 0 0 0 0 0] [0 0 0 0 1 0 0 0] [4600.] [8]\n",
      "[0 1 0 0 0 1 1 0 0 0 0 1 0 0 0 1 0 1 0 1 0 0 0 0 0 0 0 0 0 0 0 0] [0 0 0 0 0 1 1 1] [9300.] [7]\n",
      "[0 1 0 0 0 1 1 0 0 0 0 1 1 1 0 0 0 1 0 0 0 0 0 0 0 0 0 0 0 0 0 0] [0 0 1 1 1 1 1 1] [10000.] [63]\n",
      "[0 1 0 0 0 1 0 1 0 0 1 0 1 0 0 0 1 1 0 0 0 0 0 0 0 0 0 0 0 0 0 0] [0 1 0 0 0 0 1 0] [2700.] [66]\n",
      "[0 1 0 0 0 1 0 1 1 0 0 0 0 0 1 1 0 1 0 0 0 0 0 0 0 0 0 0 0 0 0 0] [0 1 0 0 1 1 0 0] [4200.] [76]\n",
      "[0 1 0 0 0 1 0 1 0 0 0 0 0 0 1 1 0 1 0 0 0 0 0 0 0 0 0 0 0 0 0 0] [0 1 0 0 1 0 0 0] [2100.] [72]\n",
      "[0 1 0 0 0 1 0 0 1 0 1 0 1 1 1 1 0 0 0 0 0 0 0 0 0 0 0 0 0 0 0 0] [0 1 0 1 0 1 0 1] [1400.] [85]\n",
      "[0 1 0 0 0 1 0 0 1 0 1 1 1 0 1 1 1 0 0 0 0 0 0 0 0 0 0 0 0 0 0 0] [0 0 1 0 1 0 1 0] [1500.] [42]\n",
      "[0 1 0 0 0 1 0 1 1 0 1 1 0 0 1 0 0 0 1 0 0 0 0 0 0 0 0 0 0 0 0 0] [0 0 1 0 1 0 1 1] [5700.] [43]\n",
      "[0 1 0 0 0 1 0 1 1 1 0 0 0 0 0 1 1 1 0 0 0 0 0 0 0 0 0 0 0 0 0 0] [0 0 0 0 0 0 0 0] [6200.] [0]\n"
     ]
    }
   ],
   "source": [
    "for fields_batch, target_batch in splitter.test_data_loader:\n",
    "   \n",
    "    for fields, target in zip(fields_batch[:10], target_batch[:10]):\n",
    "        \n",
    "        intial_option_price_bits = fields[:32].numpy()\n",
    "        volatility_bits = fields[32:32 + 8].numpy()\n",
    "\n",
    "        intial_option_price = decode_from_bits(intial_option_price_bits)\n",
    "        volatility = decode_from_bits(volatility_bits, dtype='i1')\n",
    "\n",
    "        print(intial_option_price_bits, volatility_bits, intial_option_price, volatility)\n",
    "        \n",
    "    break"
   ]
  },
  {
   "cell_type": "code",
   "execution_count": 17,
   "id": "62c22880-1457-4d30-baf2-b0aa9d06ddef",
   "metadata": {},
   "outputs": [
    {
     "name": "stdout",
     "output_type": "stream",
     "text": [
      "[4600.] [8] [4124.875] 0.0002 -0.009663581848144531\n",
      "[9300.] [7] [7468.6055] 0.0004 -0.01102834939956665\n",
      "[10000.] [63] [31947.064] 0.0 -0.026633262634277344\n",
      "[2700.] [66] [145.7075] 0.001 0.01563405990600586\n",
      "[4200.] [76] [13736.384] 0.0001 -0.019412517547607422\n",
      "[2100.] [72] [10532.518] 0.0 -0.00978231430053711\n",
      "[1400.] [85] [22192.334] 0.0 -0.01628589630126953\n",
      "[1500.] [42] [1476.3826] 0.0001 -0.012578964233398438\n",
      "[5700.] [43] [14892.671] 0.0 -0.026964664459228516\n",
      "[6200.] [0] [4917.28] 0.0 -0.015668869018554688\n"
     ]
    }
   ],
   "source": [
    "model.eval()\n",
    "    \n",
    "targets = []\n",
    "predictions = []\n",
    "fields_list = []\n",
    "\n",
    "with torch.no_grad():\n",
    "\n",
    "    for fields, target in trainer.splitter.test_data_loader:\n",
    "        \n",
    "        prediction = model(fields.int())\n",
    "\n",
    "        targets.extend(target.tolist())\n",
    "        predictions.extend(prediction.tolist())\n",
    "        fields_list.extend(fields)\n",
    "        \n",
    "        break\n",
    "        \n",
    "for fields, target, prediction in list(zip(fields_list, targets, predictions))[:10]:\n",
    "\n",
    "    intial_stock_price_bits = fields[:32]\n",
    "    volatility_bits = fields[32 : 32 + 8]\n",
    "    option_price_bits = fields[32 + 8 : 32 + 8 + 32]\n",
    "    \n",
    "    intial_stock_price = decode_from_bits(intial_stock_price_bits)\n",
    "    volatility = decode_from_bits(volatility_bits, dtype='i1')\n",
    "    option_price = decode_from_bits(option_price_bits)\n",
    "    \n",
    "    print(intial_stock_price, volatility, option_price, target, prediction)"
   ]
  },
  {
   "cell_type": "code",
   "execution_count": null,
   "id": "51b51eec-011a-4103-b8d1-7e8749a36333",
   "metadata": {},
   "outputs": [],
   "source": []
  },
  {
   "cell_type": "markdown",
   "id": "2a4b3005-5450-44d7-b0da-caaed1fab582",
   "metadata": {
    "jp-MarkdownHeadingCollapsed": true,
    "tags": []
   },
   "source": [
    "### Tiny Dataset"
   ]
  },
  {
   "cell_type": "code",
   "execution_count": 15,
   "id": "acc9d01a-cb28-40ef-8747-8769ab97fdf2",
   "metadata": {
    "tags": []
   },
   "outputs": [],
   "source": [
    "# Factorization Machine (FM):\n",
    "\n",
    "# initial_stock_price, volatility, option_price -> probability\n",
    "\n",
    "# QUBO:\n",
    "    \n",
    "# initial_stock_price, volatility -> maximize probability -> probability\n",
    "\n",
    "\n",
    "TINY_DATASET = np.array([\n",
    "    \n",
    "    [0, 0, 0.0],\n",
    "    [0, 1, 1.0],\n",
    "    \n",
    "    [1, 0, 0.0],\n",
    "    [1, 1, 1.0],\n",
    "    \n",
    "    [2, 0, 0.1],\n",
    "    [2, 1, 0.9],\n",
    "    \n",
    "    [3, 0, 0.1],\n",
    "    [3, 1, 0.9],\n",
    "    [4, 0, 0.2],\n",
    "    [4, 1, 0.8],    \n",
    "    [5, 0, 0.2],\n",
    "    [5, 1, 0.8],    \n",
    "    [6, 0, 0.3],\n",
    "    [6, 1, 0.7],\n",
    "    [7, 0, 0.3],\n",
    "    [7, 1, 0.7],\n",
    "    \n",
    "    [8, 0, 0.4],\n",
    "    [8, 1, 0.6],\n",
    "    [9, 0, 0.4],\n",
    "    [9, 1, 0.6],\n",
    "    [10, 0, 0.5],\n",
    "    [10, 1, 0.5],\n",
    "    [11, 0, 0.5],\n",
    "    [11, 1, 0.5],\n",
    "    [12, 0, 0.6],\n",
    "    [12, 1, 0.4],    \n",
    "    [13, 0, 0.6],\n",
    "    [13, 1, 0.4],    \n",
    "    [14, 0, 0.7],\n",
    "    [14, 1, 0.3],\n",
    "    [15, 0, 0.7],\n",
    "    [15, 1, 0.3],\n",
    "])"
   ]
  },
  {
   "cell_type": "code",
   "execution_count": 16,
   "id": "c7b55f69-13ad-45d2-bab3-9100a5bdd518",
   "metadata": {},
   "outputs": [],
   "source": [
    "REVERSED_TINY_DATASET = TINY_DATASET.copy()\n",
    "\n",
    "REVERSED_TINY_DATASET[:, 0] = REVERSED_TINY_DATASET[:, 0][::-1]"
   ]
  },
  {
   "cell_type": "code",
   "execution_count": 17,
   "id": "581b9ff8-1d79-436b-820e-ec36e96f6cbc",
   "metadata": {},
   "outputs": [],
   "source": [
    "class TinyDataset(torch.utils.data.Dataset):\n",
    "\n",
    "    def __init__(self, dataset):\n",
    "\n",
    "        prices = dataset[:, 0]\n",
    "        labels = dataset[:, 1]\n",
    "        \n",
    "        self.targets = dataset[:, 2]\n",
    "        \n",
    "        encoded_price_bytes = self.encode_to_bits(prices, dtype='>i1', bits_count=8)\n",
    "        encoded_label_bytes = self.encode_to_bits(labels, dtype='>i1', bits_count=8)\n",
    "        \n",
    "        encoded_prices = encoded_price_bytes[:, -4:]\n",
    "        encoded_labels = encoded_label_bytes[:, -1:]\n",
    "\n",
    "        self.fields = np.hstack((encoded_prices, encoded_labels))\n",
    "        \n",
    "        self.field_dimensions = 2 * np.ones(self.fields.shape[1], dtype=int)\n",
    "\n",
    "        # print(\"encoded_prices:\", encoded_prices)\n",
    "        # print(\"labels:\", labels)\n",
    "        # print(\"encoded_labels:\", encoded_labels)\n",
    "        # print(\"self.fields:\", self.fields)        \n",
    "        # print(\"self.targets:\", self.targets)\n",
    "        # print(\"self.field_dimensions:\", self.field_dimensions)    \n",
    "        \n",
    "        \n",
    "    def __len__(self):\n",
    "        \n",
    "        return self.fields.shape[0]\n",
    "    \n",
    "\n",
    "    def __getitem__(self, index):\n",
    "        \n",
    "        fields = self.fields[index]\n",
    "        target = self.targets[index]\n",
    "        \n",
    "        # print(\"index:\", index)\n",
    "        # print(\"fields:\", fields)       \n",
    "        # print(\"target:\", target)\n",
    "        \n",
    "        return fields, target\n",
    "    \n",
    "\n",
    "    def encode_to_bits(self, inputs, dtype='>f', bits_count=32):\n",
    "    \n",
    "        number_bytes = np.array([inputs], dtype=dtype)\n",
    "\n",
    "        integer_view = number_bytes.view('uint8')\n",
    "\n",
    "        bits_vector = np.unpackbits(integer_view)\n",
    "        \n",
    "        bits = bits_vector.reshape(-1, bits_count)\n",
    "\n",
    "        return bits"
   ]
  },
  {
   "cell_type": "code",
   "execution_count": 19,
   "id": "18fa8d89-e7e7-4130-a667-b4f38f705ac3",
   "metadata": {},
   "outputs": [],
   "source": [
    "tiny_dataset = TinyDataset(TINY_DATASET)"
   ]
  },
  {
   "cell_type": "code",
   "execution_count": 20,
   "id": "607d419b-2324-41b9-8cc8-a0c271feb73a",
   "metadata": {},
   "outputs": [
    {
     "name": "stdout",
     "output_type": "stream",
     "text": [
      "Split 32: (25, 3, 4)\n"
     ]
    }
   ],
   "source": [
    "splitter = Splitter(tiny_dataset, batch_size=1, dataloader_workers_count=1)"
   ]
  },
  {
   "cell_type": "code",
   "execution_count": 25,
   "id": "672ed5b1-64eb-41cf-8f5f-c700f9e55981",
   "metadata": {},
   "outputs": [],
   "source": [
    "trainer = Trainer(splitter=splitter)"
   ]
  },
  {
   "cell_type": "code",
   "execution_count": 29,
   "id": "1c3e7b7f-2770-428c-88fe-c84de518f82b",
   "metadata": {},
   "outputs": [
    {
     "name": "stderr",
     "output_type": "stream",
     "text": [
      "Epoch: 1/1: 100%|███████████████████████████████████████████| 25/25 [00:00<00:00, 202.75 batches/s, loss=3.22]\n"
     ]
    },
    {
     "name": "stdout",
     "output_type": "stream",
     "text": [
      "Validation mean_squared_error: 10.39744, Duration: 0.15 seconds\n",
      "\n",
      "Total - Test mean_squared_error: 7.8695274532\n"
     ]
    }
   ],
   "source": [
    "trainer.fit(epochs=1)"
   ]
  },
  {
   "cell_type": "code",
   "execution_count": 30,
   "id": "b56bdec7-59ac-46ca-a2bd-02bdd1b11366",
   "metadata": {},
   "outputs": [
    {
     "data": {
      "image/png": "[encoded data removed]",
      "text/plain": [
       "<Figure size 432x288 with 1 Axes>"
      ]
     },
     "metadata": {
      "needs_background": "dark"
     },
     "output_type": "display_data"
    }
   ],
   "source": [
    "plt.plot(trainer.scores, label=\"MSE\")\n",
    "    \n",
    "plt.xlabel(\"Epoch\")\n",
    "plt.ylabel(\"Mean Square Error\")\n",
    "plt.legend();"
   ]
  },
  {
   "cell_type": "code",
   "execution_count": 31,
   "id": "1e30a0cb-7277-4189-8b68-88401a7ce6ed",
   "metadata": {},
   "outputs": [],
   "source": [
    "TINY_MODEL_PATH = 'saved_models/reversed_tiny_model.pt'\n",
    "\n",
    "# torch.save(model.state_dict(), TINY_MODEL_PATH)"
   ]
  },
  {
   "cell_type": "code",
   "execution_count": 33,
   "id": "dd1cf68c-5ce2-4ccb-b398-e0b0174c5d19",
   "metadata": {},
   "outputs": [
    {
     "data": {
      "text/plain": [
       "OrderedDict([('embedding.embedding.weight',\n",
       "              tensor([[-0.2780,  0.1157, -0.1631,  0.1593,  0.2607,  0.1061, -0.0157, -0.2719,\n",
       "                       -0.0752,  0.4584,  0.3653, -0.0233,  0.0166, -0.1524,  0.1108,  0.4640],\n",
       "                      [ 0.4547,  0.1793, -0.1813,  0.2707,  0.1178,  0.2580,  0.4135,  0.4491,\n",
       "                       -0.1459,  0.3724, -0.3251, -0.3532,  0.4135,  0.1947, -0.1313, -0.1612],\n",
       "                      [ 0.4905, -0.2635, -0.1443, -0.1841, -0.2641, -0.1034, -0.1186, -0.4277,\n",
       "                       -0.4560, -0.1797, -0.3060, -0.0227, -0.4088,  0.0531, -0.3327, -0.0497],\n",
       "                      [ 0.2959,  0.1894, -0.3506,  0.2687,  0.3811,  0.0623, -0.3156,  0.3348,\n",
       "                       -0.4323, -0.3980, -0.4259,  0.1165, -0.3869, -0.0956,  0.2425,  0.1070],\n",
       "                      [ 0.4915, -0.3454, -0.2853,  0.1523, -0.2245, -0.0654, -0.4646, -0.1426,\n",
       "                       -0.1933,  0.2994, -0.0954,  0.4102, -0.4979, -0.0879,  0.1931,  0.2750],\n",
       "                      [ 0.0533,  0.3719,  0.1556, -0.3952, -0.4411,  0.1932,  0.2459, -0.2857,\n",
       "                        0.0054,  0.0466,  0.1360,  0.1465,  0.0029,  0.0141, -0.1696,  0.4724],\n",
       "                      [ 0.4277, -0.2266,  0.3471, -0.2417, -0.3729, -0.3783,  0.3712, -0.2251,\n",
       "                       -0.0873, -0.1402,  0.1706,  0.1280, -0.3666,  0.4486, -0.0317, -0.2939],\n",
       "                      [ 0.2445,  0.3908, -0.2518, -0.2261, -0.4012, -0.3861, -0.0622, -0.3564,\n",
       "                       -0.4064,  0.0866,  0.0631,  0.2773, -0.3978, -0.4786,  0.1898,  0.4819],\n",
       "                      [ 0.1347,  0.2425, -0.4135,  0.3291,  0.3253, -0.1522, -0.4038, -0.3026,\n",
       "                       -0.0609,  0.0895,  0.0440,  0.2353,  0.1833, -0.2564, -0.1795, -0.3083],\n",
       "                      [-0.0456,  0.3353,  0.0077,  0.0821, -0.4495,  0.0753, -0.2940,  0.2398,\n",
       "                       -0.3466,  0.2628, -0.2487,  0.4814, -0.2805, -0.0979,  0.2037,  0.4296]])),\n",
       "             ('linear.bias', tensor([0.0370])),\n",
       "             ('linear.fc.weight',\n",
       "              tensor([[-1.8352],\n",
       "                      [-0.7908],\n",
       "                      [-0.6734],\n",
       "                      [ 0.1401],\n",
       "                      [-1.3998],\n",
       "                      [ 0.0889],\n",
       "                      [-1.2813],\n",
       "                      [ 0.9173],\n",
       "                      [-1.6578],\n",
       "                      [-0.0952]]))])"
      ]
     },
     "execution_count": 33,
     "metadata": {},
     "output_type": "execute_result"
    }
   ],
   "source": [
    "model.state_dict()"
   ]
  },
  {
   "cell_type": "code",
   "execution_count": null,
   "id": "5aa4c1fd-2cf2-4647-8b5b-b50bdab12f7a",
   "metadata": {},
   "outputs": [],
   "source": []
  },
  {
   "cell_type": "code",
   "execution_count": null,
   "id": "c08bc66c-63ad-4a6a-a8e9-f22271cbefcd",
   "metadata": {},
   "outputs": [],
   "source": []
  },
  {
   "cell_type": "code",
   "execution_count": null,
   "id": "198e6ba6-f03c-42a9-b1dc-27555ff88f39",
   "metadata": {},
   "outputs": [],
   "source": []
  },
  {
   "cell_type": "code",
   "execution_count": null,
   "id": "aef88436-dfb1-491a-b672-efe509bb3ec1",
   "metadata": {},
   "outputs": [],
   "source": [
    "class OldAssetDataset(torch.utils.data.Dataset):\n",
    "\n",
    "    def __init__(self, dataset_path, chunk_size, dataset_size, probability_factor=1,\n",
    "                 binary=True, scheme=None):\n",
    "        \n",
    "        # Scheme\n",
    "        \n",
    "        default_scheme = {'target_column': 'probability',\n",
    "                          'field_columns':\n",
    "                              {'initial_asset_price': ('>f', 32),\n",
    "                               'volatility': ('>i1', 8),\n",
    "                               'asset_price': ('>f', 32)}}                          \n",
    "        \n",
    "        scheme = default_scheme if scheme is None else scheme\n",
    "\n",
    "        target_column = scheme['target_column']\n",
    "        fields_scheme = scheme['field_columns']\n",
    "        \n",
    "        \n",
    "        # Data\n",
    "\n",
    "        chunks_count = dataset_size // chunk_size        \n",
    "              \n",
    "        dataset_iterator = pd.read_csv(dataset_path, iterator=True, chunksize=chunk_size)\n",
    "        \n",
    "        chunk_tracker = tqdm.tqdm(range(chunks_count),\n",
    "                                  desc=f\"Loading\",\n",
    "                                  ncols=110,\n",
    "                                  unit='chunk',\n",
    "                                  total=chunks_count)                          \n",
    "        # Loading\n",
    "        \n",
    "        if binary:            \n",
    "            fields_count = sum(bit_count for encoding_format, bit_count in fields_scheme.values())\n",
    "            fields_dtype = 'int64'\n",
    "        else:            \n",
    "            fields_count = len(scheme)\n",
    "            fields_dtype = float\n",
    "        \n",
    "        self.fields = np.zeros(shape=(dataset_size, fields_count), dtype=fields_dtype)\n",
    "        self.targets = np.zeros(shape=dataset_size)\n",
    "        \n",
    "        row_offset = 0\n",
    "\n",
    "        for chunk_index in chunk_tracker:\n",
    "            \n",
    "            chunk = next(dataset_iterator)\n",
    "\n",
    "            column_offset = 0\n",
    "\n",
    "            for column_name, (encoding_format, column_size) in fields_scheme.items():\n",
    "                \n",
    "                if column_name == 'volatility':                    \n",
    "                    chunk[column_name] = 100 * chunk[column_name]\n",
    "\n",
    "                if binary:\n",
    "                    column = self.encode_to_bits(chunk[column_name], \n",
    "                                                 dtype=encoding_format, \n",
    "                                                 bits_count=column_size)                        \n",
    "                else:                        \n",
    "                    column = chunk[column_name].to_numpy().reshape(-1, 1)                        \n",
    "                    column_size = 1                        \n",
    "\n",
    "                self.fields[row_offset : row_offset + chunk_size, \n",
    "                            column_offset : column_offset + column_size] = column\n",
    "\n",
    "                column_offset += column_size\n",
    "                \n",
    "            self.targets[row_offset : row_offset + chunk_size] = probability_factor * chunk[target_column]\n",
    "\n",
    "            row_offset += chunk_size\n",
    "        \n",
    "        self.field_dimensions = 2 * np.ones(self.fields.shape[1], dtype=int)\n",
    "        \n",
    "        print(self.fields[100])\n",
    "        \n",
    "        \n",
    "    def __len__(self):\n",
    "        \n",
    "        return self.fields.shape[0]\n",
    "    \n",
    "\n",
    "    def __getitem__(self, index):\n",
    "        \n",
    "        fields = self.fields[index]\n",
    "        target = self.targets[index]\n",
    "\n",
    "        return fields, target\n",
    "    \n",
    "\n",
    "    def encode_to_bits(self, inputs, dtype='>f', bits_count=32):\n",
    "    \n",
    "        number_bytes = np.array([inputs], dtype=dtype)\n",
    "\n",
    "        integer_view = number_bytes.view('uint8')\n",
    "\n",
    "        bits_vector = np.unpackbits(integer_view)\n",
    "        \n",
    "        bits = bits_vector.reshape(-1, bits_count)\n",
    "\n",
    "        return bits\n",
    "    \n",
    "\n",
    "    def decode_from_bits(self, bits, dtype='>f', bitorder='big'):\n",
    "\n",
    "        bits_vector = bits.reshape(-1)\n",
    "\n",
    "        integer_view = np.packbits(bits_vector, bitorder=bitorder)\n",
    "\n",
    "        output = integer_view.view(dtype)\n",
    "\n",
    "        return output"
   ]
  }
 ],
 "metadata": {
  "kernelspec": {
   "display_name": "Python 3 (ipykernel)",
   "language": "python",
   "name": "python3"
  },
  "language_info": {
   "codemirror_mode": {
    "name": "ipython",
    "version": 3
   },
   "file_extension": ".py",
   "mimetype": "text/x-python",
   "name": "python",
   "nbconvert_exporter": "python",
   "pygments_lexer": "ipython3",
   "version": "3.8.10"
  }
 },
 "nbformat": 4,
 "nbformat_minor": 5
}
