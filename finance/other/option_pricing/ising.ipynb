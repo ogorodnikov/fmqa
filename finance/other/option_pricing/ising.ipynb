{
 "cells": [
  {
   "cell_type": "markdown",
   "id": "e42de28f-6fb1-4a5e-bcc0-6be9040dd728",
   "metadata": {
    "tags": []
   },
   "source": [
    "### 5) 10K Ising"
   ]
  },
  {
   "cell_type": "code",
   "execution_count": 1,
   "id": "6a1707f0-ca98-4f32-86ca-db0a5329e6a7",
   "metadata": {},
   "outputs": [],
   "source": [
    "import numpy as np\n",
    "import pandas as pd\n",
    "import networkx as nx\n",
    "import matplotlib.pyplot as plt\n",
    "\n",
    "import torch\n",
    "\n",
    "import dimod\n",
    "from neal.sampler import SimulatedAnnealingSampler\n",
    "\n",
    "plt.style.use('dark_background')\n",
    "\n",
    "dimod.serialization.format.set_printoptions(width=110, depth=20)"
   ]
  },
  {
   "cell_type": "code",
   "execution_count": 2,
   "id": "ec372862-1664-4e0a-8f4f-b14ea18ff87c",
   "metadata": {
    "tags": []
   },
   "outputs": [],
   "source": [
    "# Spin encoding\n",
    "\n",
    "def binary_to_spin(binary):    \n",
    "    return binary * 2 - 1\n",
    "\n",
    "def spin_to_binary(spin):    \n",
    "    return (spin + 1) // 2\n",
    "\n",
    "\n",
    "# Bit encoding\n",
    "\n",
    "def encode_to_bits(inputs, dtype='>f', bits_count=32):\n",
    "\n",
    "    number_bytes = np.array([inputs], dtype=dtype)\n",
    "\n",
    "    integer_view = number_bytes.view('uint8')\n",
    "\n",
    "    bits_vector = np.unpackbits(integer_view)\n",
    "\n",
    "    bits = bits_vector.reshape(-1, bits_count)\n",
    "    \n",
    "    # print(\"number_bytes:\", number_bytes)\n",
    "    # print(\"integer_view:\", integer_view)\n",
    "    # print(\"bits_vector:\", bits_vector)\n",
    "    # print(\"bits:\", bits)    \n",
    "    \n",
    "    return bits\n",
    "\n",
    "def decode_from_bits(bits, dtype='>f', bitorder='big'):\n",
    "    \n",
    "    bits_vector = bits.reshape(-1)\n",
    "    \n",
    "    integer_view = np.packbits(bits_vector, bitorder=bitorder)\n",
    "\n",
    "    output = integer_view.view(dtype)\n",
    "\n",
    "    # print(\"bits:\", bits)  \n",
    "    # print(\"bits_vector:\", bits_vector)\n",
    "    # print(\"integer_view:\", integer_view)\n",
    "    # print(\"output:\", output)\n",
    "    \n",
    "    return output\n",
    "\n",
    "\n",
    "# One Hot encoding\n",
    "\n",
    "def integer_to_one_hot(integer, dtype='>i1', one_hot_scheme=None): \n",
    "    \n",
    "    if one_hot_scheme is None:\n",
    "        \n",
    "        one_hot_scheme = {0: (0, 1), 1: (1, 0)}\n",
    "    \n",
    "    number_bytes = np.array([integer], dtype=dtype)\n",
    "\n",
    "    integer_view = number_bytes.view('uint8')\n",
    "    \n",
    "    bits = np.unpackbits(integer_view)\n",
    "    \n",
    "    one_hot_bits = []\n",
    "    \n",
    "    for bit in bits:\n",
    "        \n",
    "        one_hot_pair = one_hot_scheme[bit]\n",
    "        \n",
    "        one_hot_bits.extend(one_hot_pair)\n",
    "        \n",
    "    one_hot_array = np.array(one_hot_bits, dtype=dtype)\n",
    "    \n",
    "    return one_hot_array\n",
    "\n",
    "\n",
    "def one_hot_to_integer(one_hot_bits, dtype='>i1', one_hot_scheme=None):    \n",
    "    \n",
    "    if one_hot_scheme is None:\n",
    "        \n",
    "        one_hot_scheme = {0: (0, 1), 1: (1, 0)}\n",
    "        \n",
    "    decoding_scheme = {value: key for key, value in one_hot_scheme.items()}\n",
    "    \n",
    "    bits = []\n",
    "        \n",
    "    for one_hot_pair in one_hot_bits.reshape(-1, 2):\n",
    "        \n",
    "        bit = decoding_scheme[tuple(one_hot_pair)]\n",
    "        \n",
    "        bits.append(bit)\n",
    "        \n",
    "    bits_array = np.array(bits, dtype=dtype)    \n",
    "   \n",
    "    return bits_array\n",
    "\n",
    "\n",
    "def bits_to_one_hot(bits, dtype='>i1', one_hot_scheme=None): \n",
    "    \n",
    "    if one_hot_scheme is None:\n",
    "        \n",
    "        one_hot_scheme = {0: (0, 1), 1: (1, 0)}\n",
    "    \n",
    "    one_hot_bits = []\n",
    "    \n",
    "    for bit in bits:\n",
    "        \n",
    "        one_hot_pair = one_hot_scheme[bit]\n",
    "        \n",
    "        one_hot_bits.extend(one_hot_pair)\n",
    "        \n",
    "    one_hot_array = np.array(one_hot_bits, dtype=dtype)\n",
    "    \n",
    "    return one_hot_array\n",
    "\n",
    "\n",
    "# Coupling coefficients\n",
    "\n",
    "def get_coupling_coefficients(coupling_matrix):\n",
    "    \n",
    "    '''Convert matrix of Coupling coefficients to dictionary of weights'''\n",
    "    \n",
    "    coupling_coefficients = dict()\n",
    "    \n",
    "    for row_index, row in enumerate(coupling_matrix):\n",
    "        \n",
    "        # print(row[row_index:])\n",
    "        \n",
    "        for column_index, cell in enumerate(row[row_index:], row_index):\n",
    "            \n",
    "            coupling_coefficients[row_index, column_index] = cell\n",
    "            \n",
    "    return coupling_coefficients\n",
    "\n",
    "\n",
    "# Correct One Hot\n",
    "\n",
    "def is_correct_one_hot(record, one_hot_scheme=None):\n",
    "    \n",
    "    sample = record.sample\n",
    "    \n",
    "    fields_spins = np.array(list(sample.values()))\n",
    "    \n",
    "    fields_one_hot = spin_to_binary(fields_spins)\n",
    "    \n",
    "    if one_hot_scheme is None:\n",
    "        \n",
    "        one_hot_scheme = {0: (0, 1), 1: (1, 0)}\n",
    "        \n",
    "    for one_hot_pair in fields_one_hot.reshape(-1, 2):\n",
    "        \n",
    "        one_hot_tuple = tuple(one_hot_pair)\n",
    "        \n",
    "        if one_hot_tuple not in one_hot_scheme.values():            \n",
    "            \n",
    "            return False\n",
    "    \n",
    "    return True\n",
    "\n",
    "\n",
    "# Sample to Value\n",
    "\n",
    "def sample_to_value(sample):    \n",
    "\n",
    "    fields_spins = np.array(list(sample.values()))\n",
    "\n",
    "    fields_one_hot = spin_to_binary(fields_spins)\n",
    "\n",
    "    fields_bits = one_hot_to_integer(fields_one_hot)\n",
    "\n",
    "    fixed_part = fields_bits[FIXED_BITS_COUNT:]\n",
    "\n",
    "    value = decode_from_bits(fixed_part)\n",
    "    \n",
    "    # print(\"fields_spins:\", fields_spins)\n",
    "    # print(\"fields_one_hot:\", fields_one_hot, fields_one_hot.shape)\n",
    "    # print(\"fields_bits:\", fields_bits, fields_bits.shape)\n",
    "    # print(\"fixed_part:\", fixed_part, fixed_part.shape)\n",
    "\n",
    "    return value"
   ]
  },
  {
   "cell_type": "code",
   "execution_count": 3,
   "id": "db8202b2-e27c-4ee2-97fb-2defda2b380c",
   "metadata": {
    "tags": []
   },
   "outputs": [],
   "source": [
    "# 1) One-hot penalization\n",
    "\n",
    "EXAMPLE_INITIAL_STOCK_PRICE = 15\n",
    "EXAMPLE_VOLATILITY = 0.5\n",
    "\n",
    "FIXED_BITS_COUNT = 32 + 8\n",
    "VARIABLE_BITS_COUNT = 32\n",
    "\n",
    "PENALTY_VALUE = 50\n",
    "\n",
    "MAXIMIZE = True\n",
    "\n",
    "\n",
    "fixed_one_hot_bits_count = FIXED_BITS_COUNT * 2\n",
    "variable_one_hot_bits_count = VARIABLE_BITS_COUNT * 2\n",
    "\n",
    "total_one_hot_bits_count = fixed_one_hot_bits_count + variable_one_hot_bits_count\n",
    "\n",
    "example_volatility_percent = EXAMPLE_VOLATILITY * 100"
   ]
  },
  {
   "cell_type": "code",
   "execution_count": 4,
   "id": "07b15f2f-cd22-46ba-bf6b-50515aaaaeea",
   "metadata": {
    "tags": []
   },
   "outputs": [
    {
     "data": {
      "text/plain": [
       "((144, 144), (144,), ())"
      ]
     },
     "execution_count": 4,
     "metadata": {},
     "output_type": "execute_result"
    }
   ],
   "source": [
    "# 2) Load weights\n",
    "\n",
    "# FM_100K_PATH = 'saved_models/factorization_machine_100K_144_embeddings.pt'\n",
    "# FM_100K_PATH = 'saved_models/factorization_machine_100K_16_embeddings.pt'\n",
    "\n",
    "# FM_100K_PATH = 'saved_models/fm_assets_10K_144_embeddings_quad_root.pt'\n",
    "FM_100K_PATH = 'saved_models/fm_assets_10K_144_embeddings_normalized.pt'\n",
    "# FM_100K_PATH = 'saved_models/fm_assets_10K_144_embeddings.pt'\n",
    "\n",
    "state_dict = torch.load(FM_100K_PATH)\n",
    "\n",
    "loaded_factorization_matrix = state_dict['embedding.embedding.weight'].numpy().squeeze()\n",
    "loaded_component_weights = state_dict['linear.fc.weight'].numpy().squeeze()\n",
    "loaded_global_bias = state_dict['linear.bias'].numpy().squeeze()\n",
    "\n",
    "loaded_factorization_matrix.shape, loaded_component_weights.shape, loaded_global_bias.shape"
   ]
  },
  {
   "cell_type": "code",
   "execution_count": 5,
   "id": "fac9adfc-026a-4193-8003-9900e253d406",
   "metadata": {
    "tags": []
   },
   "outputs": [
    {
     "name": "stdout",
     "output_type": "stream",
     "text": [
      "penalization_matrix part:\n",
      " [[-50 100   0   0]\n",
      " [100 -50   0   0]\n",
      " [  0   0 -50 100]\n",
      " [  0   0 100 -50]]\n"
     ]
    }
   ],
   "source": [
    "# 3) Variable fields penalty\n",
    "\n",
    "one_hot_pair_penalty = [[-PENALTY_VALUE, 2 * PENALTY_VALUE],\n",
    "                        [2 * PENALTY_VALUE, -PENALTY_VALUE]]\n",
    "\n",
    "penalization_matrix = np.zeros((total_one_hot_bits_count, total_one_hot_bits_count), dtype=int)\n",
    "\n",
    "one_hot_pairs_count = VARIABLE_BITS_COUNT // 2\n",
    "\n",
    "for offset in range(fixed_one_hot_bits_count, total_one_hot_bits_count, 2):  \n",
    "    \n",
    "    penalization_matrix[offset : offset + 2,\n",
    "                        offset : offset + 2] = one_hot_pair_penalty\n",
    "    \n",
    "print(\"penalization_matrix part:\\n\", penalization_matrix[-4:, -4:])"
   ]
  },
  {
   "cell_type": "code",
   "execution_count": 6,
   "id": "19aa8677-a2a9-4a82-9e5b-a91500810342",
   "metadata": {
    "tags": []
   },
   "outputs": [
    {
     "name": "stdout",
     "output_type": "stream",
     "text": [
      "example_input:\n",
      " [0 1 0 0 0 0 0 1 0 1 1 1 0 0 0 0 0 0 0 0 0 0 0 0 0 0 0 0 0 0 0 0 0 0 1 1 0\n",
      " 0 1 0]\n",
      "one_hot_fields:\n",
      " [0 1 1 0 0 1 0 1 0 1 0 1 0 1 1 0 0 1 1 0 1 0 1 0 0 1 0 1 0 1 0 1 0 1 0 1 0\n",
      " 1 0 1 0 1 0 1 0 1 0 1 0 1 0 1 0 1 0 1 0 1 0 1 0 1 0 1 0 1 0 1 1 0 1 0 0 1\n",
      " 0 1 1 0 0 1]\n",
      "penalization_vector:\n",
      " [ 50 -50 -50  50  50 -50  50 -50  50 -50  50 -50  50 -50 -50  50  50 -50\n",
      " -50  50 -50  50 -50  50  50 -50  50 -50  50 -50  50 -50  50 -50  50 -50\n",
      "  50 -50  50 -50  50 -50  50 -50  50 -50  50 -50  50 -50  50 -50  50 -50\n",
      "  50 -50  50 -50  50 -50  50 -50  50 -50  50 -50  50 -50 -50  50 -50  50\n",
      "  50 -50  50 -50 -50  50  50 -50   0   0   0   0   0   0   0   0   0   0\n",
      "   0   0   0   0   0   0   0   0   0   0   0   0   0   0   0   0   0   0\n",
      "   0   0   0   0   0   0   0   0   0   0   0   0   0   0   0   0   0   0\n",
      "   0   0   0   0   0   0   0   0   0   0   0   0   0   0   0   0   0   0]\n"
     ]
    }
   ],
   "source": [
    "# 4) Fixed fields penalty\n",
    "\n",
    "encoded_initial_stock_price = encode_to_bits(EXAMPLE_INITIAL_STOCK_PRICE, \n",
    "                                             dtype='>f', bits_count=32)\n",
    "\n",
    "encoded_volatility = encode_to_bits(example_volatility_percent, \n",
    "                                    dtype='>i1', bits_count=8)\n",
    "\n",
    "example_input = np.hstack((encoded_initial_stock_price, encoded_volatility)).squeeze()\n",
    "\n",
    "one_hot_fields = bits_to_one_hot(example_input)\n",
    "\n",
    "fixed_part_vector = -1 * binary_to_spin(one_hot_fields) * PENALTY_VALUE\n",
    "\n",
    "variable_part_vector = np.zeros(variable_one_hot_bits_count, dtype=int)\n",
    "\n",
    "penalization_vector = np.concatenate((fixed_part_vector, variable_part_vector))\n",
    "\n",
    "print(\"example_input:\\n\", example_input)\n",
    "print(\"one_hot_fields:\\n\", one_hot_fields)\n",
    "print(\"penalization_vector:\\n\", penalization_vector)"
   ]
  },
  {
   "cell_type": "code",
   "execution_count": 7,
   "id": "21bcd09d-1720-441f-82eb-b585e1b240c7",
   "metadata": {
    "tags": []
   },
   "outputs": [
    {
     "name": "stdout",
     "output_type": "stream",
     "text": [
      "factorization_matrix:\n",
      " (144, 144)\n",
      "coupling_matrix:\n",
      " (144, 144)\n",
      "penalized_coupling_matrix part:\n",
      " [[-52.17901611  -0.36352256   0.26941952]\n",
      " [ -0.36352256 -54.07810068 100.48624119]\n",
      " [  0.26941952 100.48624119 -52.51575422]]\n",
      "coupling_coefficients part:\n",
      " 42, 143): 100.4862411916256, (143, 143): -52.51575422286987}\n"
     ]
    }
   ],
   "source": [
    "# 5) Quadratic\n",
    "\n",
    "factorization_matrix = loaded_factorization_matrix\n",
    "\n",
    "coupling_matrix = factorization_matrix @ factorization_matrix.T\n",
    "\n",
    "if MAXIMIZE:\n",
    "    \n",
    "    coupling_matrix = -coupling_matrix\n",
    "\n",
    "penalized_coupling_matrix = coupling_matrix + penalization_matrix\n",
    "\n",
    "coupling_coefficients = get_coupling_coefficients(penalized_coupling_matrix) \n",
    "\n",
    "\n",
    "# Printouts\n",
    "\n",
    "print(\"factorization_matrix:\\n\", factorization_matrix.shape)\n",
    "print(\"coupling_matrix:\\n\", coupling_matrix.shape)\n",
    "print(\"penalized_coupling_matrix part:\\n\", penalized_coupling_matrix[-3:, -3:])\n",
    "print(\"coupling_coefficients part:\\n\", coupling_coefficients.__repr__()[-60:])"
   ]
  },
  {
   "cell_type": "code",
   "execution_count": 8,
   "id": "ad875583-ac05-4e4e-aa2c-8ad97b77f08f",
   "metadata": {
    "tags": []
   },
   "outputs": [
    {
     "name": "stdout",
     "output_type": "stream",
     "text": [
      "component_weights.shape:\n",
      " (144,)\n",
      "penalization_vector:\n",
      " [ 50 -50 -50  50  50 -50  50 -50  50 -50  50 -50  50 -50 -50  50  50 -50\n",
      " -50  50 -50  50 -50  50  50 -50  50 -50  50 -50  50 -50  50 -50  50 -50\n",
      "  50 -50  50 -50  50 -50  50 -50  50 -50  50 -50  50 -50  50 -50  50 -50\n",
      "  50 -50  50 -50  50 -50  50 -50  50 -50  50 -50  50 -50 -50  50 -50  50\n",
      "  50 -50  50 -50 -50  50  50 -50   0   0   0   0   0   0   0   0   0   0\n",
      "   0   0   0   0   0   0   0   0   0   0   0   0   0   0   0   0   0   0\n",
      "   0   0   0   0   0   0   0   0   0   0   0   0   0   0   0   0   0   0\n",
      "   0   0   0   0   0   0   0   0   0   0   0   0   0   0   0   0   0   0]\n",
      "penalized_component_weights.shape:\n",
      " (144,)\n"
     ]
    }
   ],
   "source": [
    "# 6) Linear\n",
    "\n",
    "component_weights = loaded_component_weights\n",
    "\n",
    "if MAXIMIZE:\n",
    "    \n",
    "    component_weights = -component_weights\n",
    "\n",
    "penalized_component_weights = component_weights + penalization_vector\n",
    "\n",
    "component_coefficients = dict(enumerate(penalized_component_weights))\n",
    "\n",
    "print(\"component_weights.shape:\\n\", component_weights.shape)\n",
    "print(\"penalization_vector:\\n\", penalization_vector)\n",
    "print(\"penalized_component_weights.shape:\\n\", penalized_component_weights.shape)"
   ]
  },
  {
   "cell_type": "code",
   "execution_count": 9,
   "id": "3c8fe65d-4627-4e29-8e13-ab7acc8fc825",
   "metadata": {
    "tags": []
   },
   "outputs": [
    {
     "name": "stdout",
     "output_type": "stream",
     "text": [
      "global_bias:\n",
      " 0.6949992\n"
     ]
    }
   ],
   "source": [
    "# 7) Bias\n",
    "\n",
    "global_bias = loaded_global_bias\n",
    "\n",
    "if MAXIMIZE:\n",
    "    \n",
    "    global_bias = -global_bias\n",
    "    \n",
    "print(\"global_bias:\\n\", global_bias)"
   ]
  },
  {
   "cell_type": "code",
   "execution_count": 10,
   "id": "441d281f-f1c9-4ff3-94d2-bef6d799b074",
   "metadata": {
    "tags": []
   },
   "outputs": [],
   "source": [
    "# 8) BQM  \n",
    "\n",
    "quadratic = coupling_coefficients\n",
    "\n",
    "linear = component_coefficients\n",
    "\n",
    "offset = global_bias\n",
    "\n",
    "variable_type = dimod.SPIN\n",
    "\n",
    "model = dimod.BinaryQuadraticModel(linear, quadratic, offset, variable_type)\n",
    "\n",
    "sampler = SimulatedAnnealingSampler()\n",
    "\n",
    "# sampler = dimod.ExactSolver()\n",
    "\n",
    "# qubo = dimod.utilities.ising_to_qubo(linear, quadratic, offset)"
   ]
  },
  {
   "cell_type": "code",
   "execution_count": 11,
   "id": "e290ae38-b310-4ec4-97ac-a775aaa52d01",
   "metadata": {
    "tags": []
   },
   "outputs": [
    {
     "name": "stdout",
     "output_type": "stream",
     "text": [
      "results: 1000\n",
      "aggregated_results: 1000\n",
      "filtered_results: 5\n"
     ]
    }
   ],
   "source": [
    "# 9) Run\n",
    "\n",
    "shots_count = 1000\n",
    "\n",
    "results = sampler.sample(model, num_reads=shots_count)\n",
    "\n",
    "aggregated_results = results.aggregate()\n",
    "\n",
    "\n",
    "# 10) Results\n",
    "\n",
    "filtered_results = aggregated_results.filter(pred=is_correct_one_hot)\n",
    "\n",
    "print(\"results:\", len(results))\n",
    "print(\"aggregated_results:\", len(aggregated_results))\n",
    "print(\"filtered_results:\", len(filtered_results))"
   ]
  },
  {
   "cell_type": "code",
   "execution_count": 12,
   "id": "eb198117-cabe-4d62-b23f-f0b0fce9e60b",
   "metadata": {
    "tags": []
   },
   "outputs": [
    {
     "name": "stdout",
     "output_type": "stream",
     "text": [
      "Example initial stock price: 15\n",
      "Example volatility: 0.5\n",
      "example_volatility_percent: 50.0\n",
      "Task: Maximize\n",
      "Top asset price: [1.3847554e-19]\n",
      "Top asset prices: [ 1.38475540e-19  2.63584280e+00  3.19127508e-39  2.50382781e+00\n",
      " -1.19080079e+10]\n"
     ]
    }
   ],
   "source": [
    "# 11) Top Option Prices\n",
    "\n",
    "top_record = filtered_results.first\n",
    "\n",
    "top_sample = top_record.sample\n",
    "\n",
    "top_asset_price = sample_to_value(top_sample)\n",
    "\n",
    "\n",
    "top_samples = filtered_results.samples(n=10)\n",
    "\n",
    "top_asset_prices = []\n",
    "\n",
    "for top_sample in top_samples:\n",
    "    \n",
    "    top_value = sample_to_value(top_sample)\n",
    "    \n",
    "    top_asset_prices.append(top_value.item())\n",
    "    \n",
    "top_asset_prices = np.array(top_asset_prices)\n",
    "\n",
    "\n",
    "print(\"Example initial stock price:\", EXAMPLE_INITIAL_STOCK_PRICE)\n",
    "print(\"Example volatility:\", EXAMPLE_VOLATILITY)\n",
    "print(\"example_volatility_percent:\", example_volatility_percent)\n",
    "print(\"Task:\", ['Minimize', 'Maximize'][MAXIMIZE])\n",
    "print(\"Top asset price:\", top_asset_price)\n",
    "print(\"Top asset prices:\", top_asset_prices)"
   ]
  },
  {
   "cell_type": "code",
   "execution_count": null,
   "id": "6ba05c35-8e45-4b08-972a-3a21298c643b",
   "metadata": {},
   "outputs": [],
   "source": []
  },
  {
   "cell_type": "markdown",
   "id": "4ed2e089-a345-407e-b4fa-5a1939a433d7",
   "metadata": {
    "tags": []
   },
   "source": [
    "### 6) Ising Energies"
   ]
  },
  {
   "cell_type": "code",
   "execution_count": 13,
   "id": "3cdae45a-d91d-44d6-89ec-e9ce266c487c",
   "metadata": {},
   "outputs": [],
   "source": [
    "# Encode dataset\n",
    "\n",
    "ASSET_DATASET_PATH = 'simulated_prices/asset_prices_10K.csv'\n",
    "\n",
    "PENALIZED = False\n",
    "\n",
    "\n",
    "data = pd.read_csv(ASSET_DATASET_PATH)\n",
    "\n",
    "encoded_initial_asset_prices = encode_to_bits(data.initial_asset_price, \n",
    "                                              dtype='>f', bits_count=32)\n",
    "\n",
    "volatility_percents = data.volatility * 100\n",
    "\n",
    "encoded_volatility_percents = encode_to_bits(volatility_percents,\n",
    "                                             dtype='i1', bits_count=8)\n",
    "\n",
    "encoded_asset_prices = encode_to_bits(data.asset_price, \n",
    "                                      dtype='>f', bits_count=32)\n",
    "\n",
    "encoded_dataset_array = np.hstack((encoded_initial_asset_prices,\n",
    "                                   encoded_volatility_percents,\n",
    "                                   encoded_asset_prices))\n",
    "\n",
    "encoded_dataset_array.shape\n",
    "\n",
    "\n",
    "energies = []\n",
    "\n",
    "for row_bits in encoded_dataset_array:  \n",
    "    \n",
    "    one_hot_row = bits_to_one_hot(row_bits)\n",
    "\n",
    "    sample = dict(enumerate(one_hot_row))\n",
    "    \n",
    "    if PENALIZED:\n",
    "        \n",
    "        energy = dimod.utilities.ising_energy(sample, h=linear, J=quadratic, offset=offset)        \n",
    "    \n",
    "    else:\n",
    "        \n",
    "        component_coefficients = dict(enumerate(component_weights))\n",
    "\n",
    "        not_penalized_coupling_coefficients = get_coupling_coefficients(coupling_matrix) \n",
    "\n",
    "        energy = dimod.utilities.ising_energy(sample, \n",
    "                                              h=component_coefficients, \n",
    "                                              J=not_penalized_coupling_coefficients, \n",
    "                                              offset=offset)\n",
    "    \n",
    "    energies.append(energy)"
   ]
  },
  {
   "cell_type": "code",
   "execution_count": 14,
   "id": "35624967-dcbf-444e-9529-12e0012a39b2",
   "metadata": {},
   "outputs": [
    {
     "data": {
      "text/plain": [
       "0     -0.112896\n",
       "1     -0.113009\n",
       "2     -0.112557\n",
       "3     -0.112670\n",
       "4     -0.111878\n",
       "         ...   \n",
       "995   -0.113122\n",
       "996   -0.113122\n",
       "997   -0.113122\n",
       "998   -0.113009\n",
       "999   -0.113009\n",
       "Name: Targets, Length: 1000, dtype: float64"
      ]
     },
     "execution_count": 14,
     "metadata": {},
     "output_type": "execute_result"
    }
   ],
   "source": [
    "# Import predictions\n",
    "\n",
    "# ASSET_PREDICTIONS_PATH = 'predictions/10k_predictions.xlsx'\n",
    "\n",
    "ASSET_PREDICTIONS_PATH = 'predictions/10k_predictions_normalized.xlsx'\n",
    "\n",
    "\n",
    "predictions_dataframe = pd.read_excel(ASSET_PREDICTIONS_PATH)\n",
    "\n",
    "targets = predictions_dataframe['Targets']\n",
    "predictions = predictions_dataframe['Predictions']\n",
    "\n",
    "targets"
   ]
  },
  {
   "cell_type": "code",
   "execution_count": null,
   "id": "62d7cd20-eb20-4182-adda-d8a92f38ebd8",
   "metadata": {},
   "outputs": [],
   "source": []
  },
  {
   "cell_type": "code",
   "execution_count": 15,
   "id": "f9ae966f-000e-48ba-891e-987f92020247",
   "metadata": {},
   "outputs": [
    {
     "data": {
      "image/png": "[encoded data removed]",
      "text/plain": [
       "<Figure size 432x288 with 1 Axes>"
      ]
     },
     "metadata": {
      "needs_background": "dark"
     },
     "output_type": "display_data"
    },
    {
     "data": {
      "image/png": "[encoded data removed]",
      "text/plain": [
       "<Figure size 432x288 with 1 Axes>"
      ]
     },
     "metadata": {
      "needs_background": "dark"
     },
     "output_type": "display_data"
    },
    {
     "data": {
      "image/png": "[encoded data removed]",
      "text/plain": [
       "<Figure size 432x288 with 1 Axes>"
      ]
     },
     "metadata": {
      "needs_background": "dark"
     },
     "output_type": "display_data"
    },
    {
     "data": {
      "image/png": "[encoded data removed]",
      "text/plain": [
       "<Figure size 432x288 with 1 Axes>"
      ]
     },
     "metadata": {
      "needs_background": "dark"
     },
     "output_type": "display_data"
    },
    {
     "data": {
      "image/png": "[encoded data removed]",
      "text/plain": [
       "<Figure size 432x288 with 1 Axes>"
      ]
     },
     "metadata": {
      "needs_background": "dark"
     },
     "output_type": "display_data"
    },
    {
     "data": {
      "image/png": "[encoded data removed]",
      "text/plain": [
       "<Figure size 432x288 with 1 Axes>"
      ]
     },
     "metadata": {
      "needs_background": "dark"
     },
     "output_type": "display_data"
    },
    {
     "data": {
      "image/png": "[encoded data removed]",
      "text/plain": [
       "<Figure size 432x288 with 1 Axes>"
      ]
     },
     "metadata": {
      "needs_background": "dark"
     },
     "output_type": "display_data"
    },
    {
     "data": {
      "image/png": "[encoded data removed]",
      "text/plain": [
       "<Figure size 432x288 with 1 Axes>"
      ]
     },
     "metadata": {
      "needs_background": "dark"
     },
     "output_type": "display_data"
    },
    {
     "data": {
      "image/png": "[encoded data removed]",
      "text/plain": [
       "<Figure size 432x288 with 1 Axes>"
      ]
     },
     "metadata": {
      "needs_background": "dark"
     },
     "output_type": "display_data"
    }
   ],
   "source": [
    "slice_size = 100\n",
    "slices_count = len(data) // slice_size\n",
    "\n",
    "slice_indices = range(0, 3)\n",
    "\n",
    "\n",
    "for slice_index in slice_indices:\n",
    "\n",
    "    data_slice = slice(slice_index * slice_size, \n",
    "                       slice_index * slice_size + slice_size)\n",
    "\n",
    "    label = f\"Initial asset price: {data.initial_asset_price[data_slice].mean():.00f}\\n\" \\\n",
    "            f\"Volatility: {data.volatility[data_slice].mean():.02f}\"\n",
    "\n",
    "    plt.plot(data.asset_price[data_slice], data.probability[data_slice], label=label)\n",
    "\n",
    "    plt.xlabel(\"Asset price\")\n",
    "    plt.ylabel(\"Monte-Carlo Probability\")\n",
    "    plt.legend()\n",
    "    plt.show()\n",
    "    \n",
    "    plt.plot(data.asset_price[data_slice], predictions[data_slice], label=label, color='#fdb462')\n",
    "\n",
    "    plt.xlabel(\"Asset price\")\n",
    "    plt.ylabel(\"Predicited Probability\")\n",
    "    plt.legend()\n",
    "    plt.show()\n",
    "    \n",
    "    plt.plot(data.asset_price[data_slice], -np.array(energies[data_slice]), label=label, color='#fa8174')\n",
    "\n",
    "    plt.xlabel(\"Asset price\")\n",
    "    plt.ylabel(\"Minus Energy\")\n",
    "    plt.legend()\n",
    "    plt.show()"
   ]
  },
  {
   "cell_type": "code",
   "execution_count": 16,
   "id": "8904f880-7be5-4a29-92cd-65a5cf4aff2f",
   "metadata": {},
   "outputs": [
    {
     "data": {
      "image/png": "[encoded data removed]",
      "text/plain": [
       "<Figure size 432x288 with 1 Axes>"
      ]
     },
     "metadata": {
      "needs_background": "dark"
     },
     "output_type": "display_data"
    }
   ],
   "source": [
    "plt.plot(energies[-1000:], label=\"Energy\")\n",
    "\n",
    "plt.xlabel(\"Sample\")\n",
    "plt.ylabel(\"Energy\")\n",
    "plt.legend()\n",
    "plt.show()"
   ]
  },
  {
   "cell_type": "markdown",
   "id": "0b58dca2-5394-40cb-ba8a-0d8ed7930678",
   "metadata": {
    "tags": []
   },
   "source": [
    "### 4) 100M Ising"
   ]
  },
  {
   "cell_type": "code",
   "execution_count": 146,
   "id": "c9497a17-4fbb-4868-98ab-352f5f012c36",
   "metadata": {
    "tags": []
   },
   "outputs": [],
   "source": [
    "import numpy as np\n",
    "import networkx as nx\n",
    "import matplotlib.pyplot as plt\n",
    "\n",
    "import torch\n",
    "\n",
    "import dimod\n",
    "from neal.sampler import SimulatedAnnealingSampler\n",
    "\n",
    "plt.style.use('dark_background')\n",
    "\n",
    "dimod.serialization.format.set_printoptions(width=110, depth=10)"
   ]
  },
  {
   "cell_type": "code",
   "execution_count": 20,
   "id": "1f12caf1-a5c2-4ef3-a8a5-0bf80943f7ba",
   "metadata": {
    "tags": []
   },
   "outputs": [],
   "source": [
    "# Spin encoding\n",
    "\n",
    "def binary_to_spin(binary):    \n",
    "    return binary * 2 - 1\n",
    "\n",
    "def spin_to_binary(spin):    \n",
    "    return (spin + 1) // 2\n",
    "\n",
    "\n",
    "# Bit encoding\n",
    "\n",
    "def encode_to_bits(inputs, dtype='>f', bits_count=32):\n",
    "\n",
    "    number_bytes = np.array([inputs], dtype=dtype)\n",
    "\n",
    "    integer_view = number_bytes.view('uint8')\n",
    "\n",
    "    bits_vector = np.unpackbits(integer_view)\n",
    "\n",
    "    bits = bits_vector.reshape(-1, bits_count)\n",
    "    \n",
    "    # print(\"number_bytes:\", number_bytes)\n",
    "    # print(\"integer_view:\", integer_view)\n",
    "    # print(\"bits_vector:\", bits_vector)\n",
    "    # print(\"bits:\", bits)    \n",
    "    \n",
    "    return bits\n",
    "\n",
    "def decode_from_bits(bits, dtype='>f', bitorder='big'):\n",
    "    \n",
    "    bits_vector = bits.reshape(-1)\n",
    "    \n",
    "    integer_view = np.packbits(bits_vector, bitorder=bitorder)\n",
    "\n",
    "    output = integer_view.view(dtype)\n",
    "\n",
    "    # print(\"bits:\", bits)  \n",
    "    # print(\"bits_vector:\", bits_vector)\n",
    "    # print(\"integer_view:\", integer_view)\n",
    "    # print(\"output:\", output)\n",
    "    \n",
    "    return output\n",
    "\n",
    "\n",
    "# One Hot encoding\n",
    "\n",
    "def integer_to_one_hot(integer, dtype='>i1', one_hot_scheme=None): \n",
    "    \n",
    "    if one_hot_scheme is None:\n",
    "        \n",
    "        one_hot_scheme = {0: (0, 1), 1: (1, 0)}\n",
    "    \n",
    "    number_bytes = np.array([integer], dtype=dtype)\n",
    "\n",
    "    integer_view = number_bytes.view('uint8')\n",
    "    \n",
    "    bits = np.unpackbits(integer_view)\n",
    "    \n",
    "    one_hot_bits = []\n",
    "    \n",
    "    for bit in bits:\n",
    "        \n",
    "        one_hot_pair = one_hot_scheme[bit]\n",
    "        \n",
    "        one_hot_bits.extend(one_hot_pair)\n",
    "        \n",
    "    one_hot_array = np.array(one_hot_bits, dtype=dtype)\n",
    "    \n",
    "    return one_hot_array\n",
    "\n",
    "\n",
    "def one_hot_to_integer(one_hot_bits, dtype='>i1', one_hot_scheme=None):    \n",
    "    \n",
    "    if one_hot_scheme is None:\n",
    "        \n",
    "        one_hot_scheme = {0: (0, 1), 1: (1, 0)}\n",
    "        \n",
    "    decoding_scheme = {value: key for key, value in one_hot_scheme.items()}\n",
    "    \n",
    "    bits = []\n",
    "        \n",
    "    for one_hot_pair in one_hot_bits.reshape(-1, 2):\n",
    "        \n",
    "        bit = decoding_scheme[tuple(one_hot_pair)]\n",
    "        \n",
    "        bits.append(bit)\n",
    "        \n",
    "    bits_array = np.array(bits, dtype=dtype)    \n",
    "   \n",
    "    return bits_array\n",
    "\n",
    "\n",
    "def bits_to_one_hot(bits, dtype='>i1', one_hot_scheme=None): \n",
    "    \n",
    "    if one_hot_scheme is None:\n",
    "        \n",
    "        one_hot_scheme = {0: (0, 1), 1: (1, 0)}\n",
    "    \n",
    "    one_hot_bits = []\n",
    "    \n",
    "    for bit in bits:\n",
    "        \n",
    "        one_hot_pair = one_hot_scheme[bit]\n",
    "        \n",
    "        one_hot_bits.extend(one_hot_pair)\n",
    "        \n",
    "    one_hot_array = np.array(one_hot_bits, dtype=dtype)\n",
    "    \n",
    "    return one_hot_array\n",
    "\n",
    "\n",
    "# Coupling coefficients\n",
    "\n",
    "def get_coupling_coefficients(coupling_matrix):\n",
    "    \n",
    "    '''Convert matrix of Coupling coefficients to dictionary of weights'''\n",
    "    \n",
    "    coupling_coefficients = dict()\n",
    "    \n",
    "    for row_index, row in enumerate(coupling_matrix):\n",
    "        \n",
    "        # print(row[row_index:])\n",
    "        \n",
    "        for column_index, cell in enumerate(row[row_index:], row_index):\n",
    "            \n",
    "            coupling_coefficients[row_index, column_index] = cell\n",
    "            \n",
    "    return coupling_coefficients\n",
    "\n",
    "\n",
    "# Correct One Hot\n",
    "\n",
    "def is_correct_one_hot(record, one_hot_scheme=None):\n",
    "    \n",
    "    sample = record.sample\n",
    "    \n",
    "    fields_spins = np.array(list(sample.values()))\n",
    "    \n",
    "    fields_one_hot = spin_to_binary(fields_spins)\n",
    "    \n",
    "    if one_hot_scheme is None:\n",
    "        \n",
    "        one_hot_scheme = {0: (0, 1), 1: (1, 0)}\n",
    "        \n",
    "    for one_hot_pair in fields_one_hot.reshape(-1, 2):\n",
    "        \n",
    "        one_hot_tuple = tuple(one_hot_pair)\n",
    "        \n",
    "        if one_hot_tuple not in one_hot_scheme.values():            \n",
    "            \n",
    "            return False\n",
    "    \n",
    "    return True\n",
    "\n",
    "\n",
    "# Sample to Value\n",
    "\n",
    "def sample_to_value(sample):    \n",
    "\n",
    "    fields_spins = np.array(list(sample.values()))\n",
    "\n",
    "    fields_one_hot = spin_to_binary(fields_spins)\n",
    "\n",
    "    fields_bits = one_hot_to_integer(fields_one_hot)\n",
    "\n",
    "    fixed_part = fields_bits[FIXED_BITS_COUNT:]\n",
    "\n",
    "    value = decode_from_bits(fixed_part)\n",
    "    \n",
    "    # print(\"fields_spins:\", fields_spins)\n",
    "    # print(\"fields_one_hot:\", fields_one_hot, fields_one_hot.shape)\n",
    "    # print(\"fields_bits:\", fields_bits, fields_bits.shape)\n",
    "    # print(\"fixed_part:\", fixed_part, fixed_part.shape)\n",
    "\n",
    "    return value"
   ]
  },
  {
   "cell_type": "code",
   "execution_count": 21,
   "id": "7b9b54c2-76bd-41ac-8abc-f9bc30ef48fc",
   "metadata": {
    "tags": []
   },
   "outputs": [],
   "source": [
    "# 1) One-hot penalization\n",
    "\n",
    "EXAMPLE_INITIAL_STOCK_PRICE = 5000\n",
    "EXAMPLE_VOLATILITY = 0.9\n",
    "\n",
    "FIXED_BITS_COUNT = 32 + 8\n",
    "VARIABLE_BITS_COUNT = 32\n",
    "\n",
    "# LATENT_FACTORS_COUNT = 144\n",
    "# EXAMPLE_WEIGHT_RANGE = (0, 10)\n",
    "\n",
    "PENALTY_VALUE = 1.7\n",
    "\n",
    "MAXIMIZE = True\n",
    "\n",
    "\n",
    "random_generator = np.random.default_rng()\n",
    "\n",
    "fixed_one_hot_bits_count = FIXED_BITS_COUNT * 2\n",
    "variable_one_hot_bits_count = VARIABLE_BITS_COUNT * 2\n",
    "\n",
    "total_one_hot_bits_count = fixed_one_hot_bits_count + variable_one_hot_bits_count\n",
    "\n",
    "example_volatility_percent = EXAMPLE_VOLATILITY * 100"
   ]
  },
  {
   "cell_type": "code",
   "execution_count": 22,
   "id": "818e10a4-90e5-4929-930b-5601b4f03f2b",
   "metadata": {
    "collapsed": true,
    "jupyter": {
     "outputs_hidden": true
    },
    "tags": []
   },
   "outputs": [
    {
     "data": {
      "text/plain": [
       "((144, 144), (144,), ())"
      ]
     },
     "execution_count": 22,
     "metadata": {},
     "output_type": "execute_result"
    }
   ],
   "source": [
    "# 2) Load weights\n",
    "\n",
    "# FM_100M_PATH = 'saved_models/factorization_machine_100M.pt'\n",
    "FM_100M_PATH = 'saved_models/factorization_machine_100M_144_embeddings.pt'\n",
    "\n",
    "state_dict = torch.load(FM_100M_PATH)\n",
    "\n",
    "loaded_factorization_matrix = state_dict['embedding.embedding.weight'].numpy().squeeze()\n",
    "loaded_component_weights = state_dict['linear.fc.weight'].numpy().squeeze()\n",
    "loaded_global_bias = state_dict['linear.bias'].numpy().squeeze()\n",
    "\n",
    "loaded_factorization_matrix.shape, loaded_component_weights.shape, loaded_global_bias.shape"
   ]
  },
  {
   "cell_type": "code",
   "execution_count": 23,
   "id": "0139256c-769d-41f3-9b6a-8fadee52aefb",
   "metadata": {
    "collapsed": true,
    "jupyter": {
     "outputs_hidden": true
    },
    "tags": []
   },
   "outputs": [
    {
     "name": "stdout",
     "output_type": "stream",
     "text": [
      "penalization_matrix part:\n",
      " [[-1  3  0  0]\n",
      " [ 3 -1  0  0]\n",
      " [ 0  0 -1  3]\n",
      " [ 0  0  3 -1]]\n"
     ]
    }
   ],
   "source": [
    "# 3) Variable fields penalty\n",
    "\n",
    "one_hot_pair_penalty = [[-PENALTY_VALUE, 2 * PENALTY_VALUE],\n",
    "                        [2 * PENALTY_VALUE, -PENALTY_VALUE]]\n",
    "\n",
    "penalization_matrix = np.zeros((total_one_hot_bits_count, total_one_hot_bits_count), dtype=int)\n",
    "\n",
    "one_hot_pairs_count = VARIABLE_BITS_COUNT // 2\n",
    "\n",
    "for offset in range(fixed_one_hot_bits_count, total_one_hot_bits_count, 2):  \n",
    "    \n",
    "    penalization_matrix[offset : offset + 2,\n",
    "                        offset : offset + 2] = one_hot_pair_penalty\n",
    "    \n",
    "print(\"penalization_matrix part:\\n\", penalization_matrix[-4:, -4:])"
   ]
  },
  {
   "cell_type": "code",
   "execution_count": 24,
   "id": "b21f80a0-59fa-4819-8da6-506a99800233",
   "metadata": {
    "collapsed": true,
    "jupyter": {
     "outputs_hidden": true
    },
    "tags": []
   },
   "outputs": [
    {
     "name": "stdout",
     "output_type": "stream",
     "text": [
      "example_input:\n",
      " [0 1 0 0 0 1 0 1 1 0 0 1 1 1 0 0 0 1 0 0 0 0 0 0 0 0 0 0 0 0 0 0 0 1 0 1 1\n",
      " 0 1 0]\n",
      "one_hot_fields:\n",
      " [0 1 1 0 0 1 0 1 0 1 1 0 0 1 1 0 1 0 0 1 0 1 1 0 1 0 1 0 0 1 0 1 0 1 1 0 0\n",
      " 1 0 1 0 1 0 1 0 1 0 1 0 1 0 1 0 1 0 1 0 1 0 1 0 1 0 1 0 1 1 0 0 1 1 0 1 0\n",
      " 0 1 1 0 0 1]\n",
      "penalization_vector:\n",
      " [ 1.7 -1.7 -1.7  1.7  1.7 -1.7  1.7 -1.7  1.7 -1.7 -1.7  1.7  1.7 -1.7\n",
      " -1.7  1.7 -1.7  1.7  1.7 -1.7  1.7 -1.7 -1.7  1.7 -1.7  1.7 -1.7  1.7\n",
      "  1.7 -1.7  1.7 -1.7  1.7 -1.7 -1.7  1.7  1.7 -1.7  1.7 -1.7  1.7 -1.7\n",
      "  1.7 -1.7  1.7 -1.7  1.7 -1.7  1.7 -1.7  1.7 -1.7  1.7 -1.7  1.7 -1.7\n",
      "  1.7 -1.7  1.7 -1.7  1.7 -1.7  1.7 -1.7  1.7 -1.7 -1.7  1.7  1.7 -1.7\n",
      " -1.7  1.7 -1.7  1.7  1.7 -1.7 -1.7  1.7  1.7 -1.7  0.   0.   0.   0.\n",
      "  0.   0.   0.   0.   0.   0.   0.   0.   0.   0.   0.   0.   0.   0.\n",
      "  0.   0.   0.   0.   0.   0.   0.   0.   0.   0.   0.   0.   0.   0.\n",
      "  0.   0.   0.   0.   0.   0.   0.   0.   0.   0.   0.   0.   0.   0.\n",
      "  0.   0.   0.   0.   0.   0.   0.   0.   0.   0.   0.   0.   0.   0.\n",
      "  0.   0.   0.   0. ]\n"
     ]
    }
   ],
   "source": [
    "# 4) Fixed fields penalty\n",
    "\n",
    "# example_fields = random_generator.integers(0, 2, size=fixed_one_hot_bits_count)\n",
    "\n",
    "encoded_initial_stock_price = encode_to_bits(EXAMPLE_INITIAL_STOCK_PRICE, \n",
    "                                             dtype='>f', bits_count=32)\n",
    "\n",
    "encoded_volatility = encode_to_bits(example_volatility_percent, \n",
    "                                    dtype='>i1', bits_count=8)\n",
    "\n",
    "example_input = np.hstack((encoded_initial_stock_price, encoded_volatility)).squeeze()\n",
    "\n",
    "one_hot_fields = bits_to_one_hot(example_input)\n",
    "\n",
    "fixed_part_vector = -1 * binary_to_spin(one_hot_fields) * PENALTY_VALUE\n",
    "\n",
    "variable_part_vector = np.zeros(variable_one_hot_bits_count, dtype=int)\n",
    "\n",
    "penalization_vector = np.concatenate((fixed_part_vector, variable_part_vector))\n",
    "\n",
    "print(\"example_input:\\n\", example_input)\n",
    "print(\"one_hot_fields:\\n\", one_hot_fields)\n",
    "print(\"penalization_vector:\\n\", penalization_vector)"
   ]
  },
  {
   "cell_type": "code",
   "execution_count": 25,
   "id": "02757fa6-02d8-4c36-b651-dbce315fc489",
   "metadata": {
    "collapsed": true,
    "jupyter": {
     "outputs_hidden": true
    },
    "tags": []
   },
   "outputs": [
    {
     "name": "stdout",
     "output_type": "stream",
     "text": [
      "factorization_matrix:\n",
      " (144, 144)\n",
      "coupling_matrix:\n",
      " (144, 144)\n",
      "penalized_coupling_matrix part:\n",
      " [[-1.14458306  0.0376703   0.0132046 ]\n",
      " [ 0.0376703  -1.16158374  3.03174204]\n",
      " [ 0.0132046   3.03174204 -1.38944489]]\n",
      "coupling_coefficients part:\n",
      " 2, 143): 3.0317420437932014, (143, 143): -1.389444887638092}\n"
     ]
    }
   ],
   "source": [
    "# 5) Quadratic\n",
    "\n",
    "# random_factorization_matrix = random_generator.integers(*EXAMPLE_WEIGHT_RANGE, \n",
    "#                                                  size=(total_one_hot_bits_count,\n",
    "#                                                        LATENT_FACTORS_COUNT))\n",
    "\n",
    "# factorization_matrix = random_factorization_matrix\n",
    "\n",
    "factorization_matrix = loaded_factorization_matrix\n",
    "\n",
    "coupling_matrix = factorization_matrix @ factorization_matrix.T\n",
    "\n",
    "if MAXIMIZE:\n",
    "    \n",
    "    coupling_matrix = -coupling_matrix\n",
    "\n",
    "penalized_coupling_matrix = coupling_matrix + penalization_matrix\n",
    "\n",
    "coupling_coefficients = get_coupling_coefficients(penalized_coupling_matrix) \n",
    "\n",
    "\n",
    "# Printouts\n",
    "\n",
    "print(\"factorization_matrix:\\n\", factorization_matrix.shape)\n",
    "print(\"coupling_matrix:\\n\", coupling_matrix.shape)\n",
    "print(\"penalized_coupling_matrix part:\\n\", penalized_coupling_matrix[-3:, -3:])\n",
    "print(\"coupling_coefficients part:\\n\", coupling_coefficients.__repr__()[-60:])"
   ]
  },
  {
   "cell_type": "code",
   "execution_count": 26,
   "id": "1c8aebb6-3a89-4339-8321-76e3b5cde69b",
   "metadata": {
    "collapsed": true,
    "jupyter": {
     "outputs_hidden": true
    },
    "tags": []
   },
   "outputs": [
    {
     "name": "stdout",
     "output_type": "stream",
     "text": [
      "component_weights.shape:\n",
      " (144,)\n",
      "penalization_vector:\n",
      " [ 1.7 -1.7 -1.7  1.7  1.7 -1.7  1.7 -1.7  1.7 -1.7 -1.7  1.7  1.7 -1.7\n",
      " -1.7  1.7 -1.7  1.7  1.7 -1.7  1.7 -1.7 -1.7  1.7 -1.7  1.7 -1.7  1.7\n",
      "  1.7 -1.7  1.7 -1.7  1.7 -1.7 -1.7  1.7  1.7 -1.7  1.7 -1.7  1.7 -1.7\n",
      "  1.7 -1.7  1.7 -1.7  1.7 -1.7  1.7 -1.7  1.7 -1.7  1.7 -1.7  1.7 -1.7\n",
      "  1.7 -1.7  1.7 -1.7  1.7 -1.7  1.7 -1.7  1.7 -1.7 -1.7  1.7  1.7 -1.7\n",
      " -1.7  1.7 -1.7  1.7  1.7 -1.7 -1.7  1.7  1.7 -1.7  0.   0.   0.   0.\n",
      "  0.   0.   0.   0.   0.   0.   0.   0.   0.   0.   0.   0.   0.   0.\n",
      "  0.   0.   0.   0.   0.   0.   0.   0.   0.   0.   0.   0.   0.   0.\n",
      "  0.   0.   0.   0.   0.   0.   0.   0.   0.   0.   0.   0.   0.   0.\n",
      "  0.   0.   0.   0.   0.   0.   0.   0.   0.   0.   0.   0.   0.   0.\n",
      "  0.   0.   0.   0. ]\n",
      "penalized_component_weights.shape:\n",
      " (144,)\n"
     ]
    }
   ],
   "source": [
    "# 6) Linear   \n",
    "\n",
    "# random_component_weights = random_generator.integers(*EXAMPLE_WEIGHT_RANGE, size=total_one_hot_bits_count)\n",
    "\n",
    "# component_weights = random_component_weights\n",
    "\n",
    "component_weights = loaded_component_weights\n",
    "\n",
    "if MAXIMIZE:\n",
    "    \n",
    "    component_weights = -component_weights\n",
    "\n",
    "penalized_component_weights = component_weights + penalization_vector\n",
    "\n",
    "component_coefficients = dict(enumerate(penalized_component_weights))\n",
    "\n",
    "print(\"component_weights.shape:\\n\", component_weights.shape)\n",
    "print(\"penalization_vector:\\n\", penalization_vector)\n",
    "print(\"penalized_component_weights.shape:\\n\", penalized_component_weights.shape)"
   ]
  },
  {
   "cell_type": "code",
   "execution_count": 27,
   "id": "07a445a8-d673-4eaa-a56d-388293a9f268",
   "metadata": {
    "collapsed": true,
    "jupyter": {
     "outputs_hidden": true
    },
    "tags": []
   },
   "outputs": [
    {
     "name": "stdout",
     "output_type": "stream",
     "text": [
      "global_bias:\n",
      " -0.06559295\n"
     ]
    }
   ],
   "source": [
    "# 7) Bias\n",
    "\n",
    "# random_global_bias = random_generator.integers(*EXAMPLE_WEIGHT_RANGE)\n",
    "\n",
    "# global_bias = random_global_bias\n",
    "\n",
    "global_bias = loaded_global_bias\n",
    "\n",
    "if MAXIMIZE:\n",
    "    \n",
    "    global_bias = -global_bias\n",
    "    \n",
    "print(\"global_bias:\\n\", global_bias)"
   ]
  },
  {
   "cell_type": "code",
   "execution_count": 28,
   "id": "a0332984-4956-45e1-bef0-4221baa58a47",
   "metadata": {
    "tags": []
   },
   "outputs": [],
   "source": [
    "# 8) BQM  \n",
    "\n",
    "quadratic = coupling_coefficients\n",
    "\n",
    "linear = component_coefficients\n",
    "\n",
    "offset = global_bias\n",
    "\n",
    "# variable_type = dimod.BINARY\n",
    "variable_type = dimod.SPIN\n",
    "\n",
    "model = dimod.BinaryQuadraticModel(linear, quadratic, offset, variable_type)\n",
    "\n",
    "# sampler = dimod.SimulatedAnnealingSampler()\n",
    "sampler = SimulatedAnnealingSampler()"
   ]
  },
  {
   "cell_type": "code",
   "execution_count": 48,
   "id": "7da890bc-8915-4ad1-95ee-aedf7218c6a9",
   "metadata": {
    "tags": []
   },
   "outputs": [],
   "source": [
    "# 9) Run\n",
    "\n",
    "shots_count = 1000\n",
    "\n",
    "results = sampler.sample(model, num_reads=shots_count)\n",
    "\n",
    "aggregated_results = results.aggregate()\n",
    "\n",
    "# print(results)"
   ]
  },
  {
   "cell_type": "code",
   "execution_count": 53,
   "id": "01cd8d1c-3b2e-4b03-952e-9a5cfdc313c5",
   "metadata": {
    "collapsed": true,
    "jupyter": {
     "outputs_hidden": true
    },
    "tags": []
   },
   "outputs": [
    {
     "name": "stdout",
     "output_type": "stream",
     "text": [
      "aggregated_results:\n",
      "      0  1  2  3  4  5  6  7  8  9 10 11 12 13 14 15 16 17 18 19 20 21 22 23 24 25 ... 143      energy num_oc.\n",
      "603 -1 +1 +1 -1 -1 +1 -1 +1 -1 +1 -1 -1 -1 +1 -1 -1 +1 -1 -1 +1 -1 +1 +1 -1 +1 -1 ...  -1 -384.222608       1\n",
      "497 -1 +1 +1 -1 -1 +1 -1 +1 -1 +1 +1 -1 -1 +1 +1 -1 +1 -1 -1 +1 -1 +1 +1 -1 +1 -1 ...  +1 -383.421483       1\n",
      "246 -1 +1 +1 -1 -1 +1 -1 +1 -1 +1 +1 -1 -1 +1 +1 -1 +1 -1 -1 +1 -1 +1 +1 -1 +1 -1 ...  +1 -383.378961       1\n",
      "896 -1 +1 +1 -1 -1 +1 -1 +1 -1 +1 -1 -1 -1 +1 -1 -1 +1 -1 -1 +1 -1 +1 +1 -1 +1 -1 ...  -1 -383.354998       1\n",
      "741 -1 +1 +1 -1 -1 +1 -1 +1 -1 +1 -1 -1 -1 +1 -1 -1 +1 -1 -1 +1 -1 +1 +1 -1 +1 -1 ...  +1 -383.282787       1\n",
      "219 -1 +1 +1 -1 -1 +1 -1 +1 -1 +1 -1 -1 -1 +1 -1 -1 +1 -1 -1 +1 -1 +1 +1 -1 +1 -1 ...  +1 -383.111011       1\n",
      "791 -1 +1 +1 -1 -1 +1 -1 +1 -1 +1 +1 -1 -1 +1 +1 -1 +1 -1 -1 +1 -1 +1 +1 -1 +1 -1 ...  +1 -383.108791       1\n",
      "633 -1 +1 +1 -1 -1 +1 -1 +1 -1 +1 +1 -1 -1 +1 +1 -1 +1 -1 -1 +1 -1 +1 +1 -1 +1 -1 ...  +1 -382.952989       1\n",
      "...\n",
      "858 -1 +1 +1 -1 -1 +1 -1 +1 -1 +1 +1 -1 -1 +1 +1 -1 +1 -1 -1 +1 -1 +1 +1 -1 +1 -1 ...  -1 -360.968086       1\n",
      "['SPIN', 1000 rows, 1000 samples, 144 variables]\n",
      "\n",
      "filtered_results:\n",
      "    0  1  2  3  4  5  6  7  8  9 10 11 12 13 14 15 16 17 18 19 20 21 22 23 24 25 26 ... 143      energy num_oc.\n",
      "5 -1 +1 +1 -1 -1 +1 -1 +1 -1 +1 +1 -1 -1 +1 +1 -1 +1 -1 -1 +1 -1 +1 +1 -1 +1 -1 +1 ...  -1 -373.254226       1\n",
      "1 -1 +1 +1 -1 -1 +1 -1 +1 -1 +1 +1 -1 -1 +1 +1 -1 +1 -1 -1 +1 -1 +1 +1 -1 +1 -1 +1 ...  +1 -372.374666       1\n",
      "0 -1 +1 +1 -1 -1 +1 -1 +1 -1 +1 +1 -1 -1 +1 +1 -1 +1 -1 -1 +1 -1 +1 +1 -1 +1 -1 +1 ...  +1   -372.1162       1\n",
      "2 -1 +1 +1 -1 -1 +1 -1 +1 -1 +1 +1 -1 -1 +1 +1 -1 +1 -1 -1 +1 -1 +1 +1 -1 +1 -1 +1 ...  -1 -371.757014       1\n",
      "4 -1 +1 +1 -1 -1 +1 -1 +1 -1 +1 +1 -1 -1 +1 +1 -1 +1 -1 -1 +1 -1 +1 +1 -1 +1 -1 +1 ...  -1 -367.957039       1\n",
      "6 -1 +1 +1 -1 -1 +1 -1 +1 -1 +1 +1 -1 -1 +1 +1 -1 +1 -1 -1 +1 -1 +1 +1 -1 +1 -1 +1 ...  -1 -367.242378       1\n",
      "7 -1 +1 +1 -1 -1 +1 -1 +1 -1 +1 +1 -1 -1 +1 +1 -1 +1 -1 -1 +1 -1 +1 +1 -1 +1 -1 +1 ...  +1  -365.65328       1\n",
      "3 -1 +1 +1 -1 -1 +1 -1 +1 -1 +1 +1 -1 -1 +1 +1 -1 +1 -1 -1 +1 -1 +1 +1 -1 +1 -1 +1 ...  +1    -365.102       1\n",
      "['SPIN', 8 rows, 8 samples, 144 variables]\n"
     ]
    }
   ],
   "source": [
    "# 10) Results\n",
    "\n",
    "print(\"aggregated_results:\\n\", aggregated_results)\n",
    "\n",
    "filtered_results = aggregated_results.filter(pred=is_correct_one_hot)\n",
    "\n",
    "print(\"\\nfiltered_results:\\n\", filtered_results)"
   ]
  },
  {
   "cell_type": "code",
   "execution_count": 51,
   "id": "d5102e4f-5219-4043-9498-2eae98904d0d",
   "metadata": {
    "collapsed": true,
    "jupyter": {
     "outputs_hidden": true
    },
    "tags": []
   },
   "outputs": [
    {
     "name": "stdout",
     "output_type": "stream",
     "text": [
      "Example initial stock price: 5000\n",
      "Example volatility: 0.9\n",
      "example_volatility_percent: 90.0\n",
      "Task: Maximize\n",
      "Top option price: [0.0286368]\n",
      "Top option prices: [ 2.86367964e-02 -2.63791502e-01  6.52473993e-20  3.12142885e+19\n",
      "  9.49962105e-22  4.57083797e-06  1.63022289e+27 -2.19134220e-26]\n"
     ]
    }
   ],
   "source": [
    "# 11) Top Option Prices\n",
    "\n",
    "top_record = filtered_results.first\n",
    "\n",
    "top_sample = top_record.sample\n",
    "\n",
    "top_option_price = sample_to_value(top_sample)\n",
    "\n",
    "\n",
    "top_samples = filtered_results.samples(n=10)\n",
    "\n",
    "top_option_prices = []\n",
    "\n",
    "for top_sample in top_samples:\n",
    "    \n",
    "    top_value = sample_to_value(top_sample)\n",
    "    \n",
    "    top_option_prices.append(top_value.item())\n",
    "    \n",
    "top_option_prices = np.array(top_option_prices)\n",
    "\n",
    "\n",
    "print(\"Example initial stock price:\", EXAMPLE_INITIAL_STOCK_PRICE)\n",
    "print(\"Example volatility:\", EXAMPLE_VOLATILITY)\n",
    "print(\"example_volatility_percent:\", example_volatility_percent)\n",
    "print(\"Task:\", ['Minimize', 'Maximize'][MAXIMIZE])\n",
    "print(\"Top option price:\", top_option_price)\n",
    "print(\"Top option prices:\", top_option_prices)"
   ]
  },
  {
   "cell_type": "code",
   "execution_count": null,
   "id": "196bc50c-0c83-421a-83b3-e4b5655eaf2a",
   "metadata": {},
   "outputs": [],
   "source": []
  },
  {
   "cell_type": "markdown",
   "id": "2da8e300-e5f2-4fce-959a-6f1d4502e0c9",
   "metadata": {
    "tags": []
   },
   "source": [
    "### Tiny FM Ising"
   ]
  },
  {
   "cell_type": "code",
   "execution_count": 1,
   "id": "f926a953-9947-4994-baf9-01e367f4f501",
   "metadata": {
    "tags": []
   },
   "outputs": [],
   "source": [
    "import numpy as np\n",
    "import networkx as nx\n",
    "import matplotlib.pyplot as plt\n",
    "\n",
    "import torch\n",
    "\n",
    "import dimod\n",
    "from neal.sampler import SimulatedAnnealingSampler"
   ]
  },
  {
   "cell_type": "code",
   "execution_count": 2,
   "id": "03d604d7-f3d4-4631-ae2e-6ac0d48cf173",
   "metadata": {
    "tags": []
   },
   "outputs": [],
   "source": [
    "# Spin encoding\n",
    "\n",
    "def binary_to_spin(binary):    \n",
    "    return binary * 2 - 1\n",
    "\n",
    "def spin_to_binary(spin):    \n",
    "    return (spin + 1) // 2\n",
    "\n",
    "\n",
    "# Bit encoding\n",
    "\n",
    "def encode_to_bits(inputs, dtype='>f', bits_count=32):\n",
    "\n",
    "    number_bytes = np.array([inputs], dtype=dtype)\n",
    "\n",
    "    integer_view = number_bytes.view('uint8')\n",
    "\n",
    "    bits_vector = np.unpackbits(integer_view)\n",
    "\n",
    "    bits = bits_vector.reshape(-1, bits_count)\n",
    "    \n",
    "    # print(\"number_bytes:\", number_bytes)\n",
    "    # print(\"integer_view:\", integer_view)\n",
    "    # print(\"bits_vector:\", bits_vector)\n",
    "    # print(\"bits:\", bits)    \n",
    "    \n",
    "    return bits\n",
    "\n",
    "def decode_from_bits(bits, dtype='>f', bitorder='big'):\n",
    "    \n",
    "    bits_vector = bits.reshape(-1)\n",
    "    \n",
    "    integer_view = np.packbits(bits_vector, bitorder=bitorder)\n",
    "\n",
    "    output = integer_view.view(dtype)\n",
    "\n",
    "    # print(\"bits:\", bits)  \n",
    "    # print(\"bits_vector:\", bits_vector)\n",
    "    # print(\"integer_view:\", integer_view)\n",
    "    # print(\"output:\", output)\n",
    "    \n",
    "    return output\n",
    "\n",
    "\n",
    "# One Hot encoding\n",
    "\n",
    "def integer_to_one_hot(integer, dtype='>i1', one_hot_scheme=None):    \n",
    "    \n",
    "    if one_hot_scheme is None:\n",
    "        \n",
    "        one_hot_scheme = {0: (0, 1), 1: (1, 0)}\n",
    "    \n",
    "    number_bytes = np.array([integer], dtype=dtype)\n",
    "\n",
    "    integer_view = number_bytes.view('uint8')\n",
    "    \n",
    "    bits = np.unpackbits(integer_view)\n",
    "    \n",
    "    one_hot_bits = []\n",
    "    \n",
    "    for bit in bits:\n",
    "        \n",
    "        one_hot_pair = one_hot_scheme[bit]\n",
    "        \n",
    "        one_hot_bits.extend(one_hot_pair)\n",
    "        \n",
    "    one_hot_array = np.array(one_hot_bits, dtype=dtype)\n",
    "    \n",
    "    one_hot_8_bits = one_hot_array[-8:]\n",
    "        \n",
    "    # print(\"bits:\", bits)    \n",
    "    # print(\"one_hot_bits:\", one_hot_bits)\n",
    "    \n",
    "    return one_hot_8_bits\n",
    "\n",
    "\n",
    "def one_hot_to_integer(one_hot_bits, dtype='>i1', one_hot_scheme=None):    \n",
    "    \n",
    "    if one_hot_scheme is None:\n",
    "        \n",
    "        one_hot_scheme = {0: (0, 1), 1: (1, 0)}\n",
    "        \n",
    "    decoding_scheme = {value: key for key, value in one_hot_scheme.items()}\n",
    "    \n",
    "    bits = []\n",
    "        \n",
    "    for one_hot_pair in one_hot_bits.reshape(-1, 2):\n",
    "        \n",
    "        bit = decoding_scheme[tuple(one_hot_pair)]\n",
    "        \n",
    "        bits.append(bit)\n",
    "        \n",
    "    bits_array = np.array(bits, dtype=dtype)    \n",
    "   \n",
    "    return bits_array\n",
    "\n",
    "\n",
    "# Coupling coefficients\n",
    "\n",
    "def get_coupling_coefficients(coupling_matrix):\n",
    "    \n",
    "    '''Convert matrix of Coupling coefficients to dictionary of weights'''\n",
    "    \n",
    "    coupling_coefficients = dict()\n",
    "    \n",
    "    for row_index, row in enumerate(coupling_matrix):\n",
    "        \n",
    "        # print(row[row_index:])\n",
    "        \n",
    "        for column_index, cell in enumerate(row[row_index:], row_index):\n",
    "            \n",
    "            coupling_coefficients[row_index, column_index] = cell\n",
    "            \n",
    "    return coupling_coefficients"
   ]
  },
  {
   "cell_type": "code",
   "execution_count": 72,
   "id": "a1d64791-a6be-4c45-be45-bb0568c1250a",
   "metadata": {},
   "outputs": [],
   "source": [
    "# One-hot penalization\n",
    "\n",
    "EXAMPLE_INPUT = 1\n",
    "\n",
    "FIXED_BITS_COUNT = 4\n",
    "VARIABLE_BITS_COUNT = 1\n",
    "\n",
    "LATENT_FACTORS_COUNT = 16\n",
    "EXAMPLE_WEIGHT_RANGE = (0, 10)\n",
    "\n",
    "PENALTY_VALUE = 0.001\n",
    "\n",
    "MAXIMIZE = True\n",
    "\n",
    "\n",
    "random_generator = np.random.default_rng()\n",
    "\n",
    "fixed_one_hot_bits_count = FIXED_BITS_COUNT * 2\n",
    "variable_one_hot_bits_count = VARIABLE_BITS_COUNT * 2\n",
    "\n",
    "total_one_hot_bits_count = fixed_one_hot_bits_count + variable_one_hot_bits_count"
   ]
  },
  {
   "cell_type": "code",
   "execution_count": 73,
   "id": "0eacbe19-cbad-4869-a633-e3d30d5029b8",
   "metadata": {},
   "outputs": [],
   "source": [
    "# Load weights\n",
    "\n",
    "TINY_MODEL_PATH = 'saved_models/tiny_model.pt'\n",
    "\n",
    "state_dict = torch.load(TINY_MODEL_PATH)\n",
    "\n",
    "loaded_factorization_matrix = state_dict['embedding.embedding.weight'].numpy().squeeze()\n",
    "loaded_component_weights = state_dict['linear.fc.weight'].numpy().squeeze()\n",
    "loaded_global_bias = state_dict['linear.bias'].numpy().squeeze()\n",
    "\n",
    "# loaded_factorization_matrix, loaded_component_weights, loaded_global_bias"
   ]
  },
  {
   "cell_type": "code",
   "execution_count": 74,
   "id": "56a3322c-e14f-430f-992b-98b814da1bd4",
   "metadata": {},
   "outputs": [
    {
     "name": "stdout",
     "output_type": "stream",
     "text": [
      "[[0 0 0 0 0 0 0 0 0 0]\n",
      " [0 0 0 0 0 0 0 0 0 0]\n",
      " [0 0 0 0 0 0 0 0 0 0]\n",
      " [0 0 0 0 0 0 0 0 0 0]\n",
      " [0 0 0 0 0 0 0 0 0 0]\n",
      " [0 0 0 0 0 0 0 0 0 0]\n",
      " [0 0 0 0 0 0 0 0 0 0]\n",
      " [0 0 0 0 0 0 0 0 0 0]\n",
      " [0 0 0 0 0 0 0 0 0 0]\n",
      " [0 0 0 0 0 0 0 0 0 0]]\n"
     ]
    }
   ],
   "source": [
    "# Variable fields penalty\n",
    "\n",
    "one_hot_pair_penalty = [[-PENALTY_VALUE, 2 * PENALTY_VALUE],\n",
    "                        [2 * PENALTY_VALUE, -PENALTY_VALUE]]\n",
    "\n",
    "penalization_matrix = np.zeros((total_one_hot_bits_count, total_one_hot_bits_count), dtype=int)\n",
    "\n",
    "one_hot_pairs_count = VARIABLE_BITS_COUNT // 2\n",
    "\n",
    "for offset in range(fixed_one_hot_bits_count, total_one_hot_bits_count, 2):  \n",
    "    \n",
    "    penalization_matrix[offset : offset + 2,\n",
    "                        offset : offset + 2] = one_hot_pair_penalty\n",
    "    \n",
    "print(penalization_matrix)"
   ]
  },
  {
   "cell_type": "code",
   "execution_count": 75,
   "id": "9c3f136b-96c0-45d3-b582-b6f7cbe3c6ea",
   "metadata": {},
   "outputs": [
    {
     "name": "stdout",
     "output_type": "stream",
     "text": [
      "EXAMPLE_INPUT:\n",
      " 1\n",
      "one_hot_fields:\n",
      " [0 1 0 1 0 1 1 0]\n",
      "penalization_vector:\n",
      " [ 0.001 -0.001  0.001 -0.001  0.001 -0.001 -0.001  0.001  0.     0.   ]\n"
     ]
    }
   ],
   "source": [
    "# Fixed fields penalty\n",
    "\n",
    "# example_fields = random_generator.integers(0, 2, size=fixed_one_hot_bits_count)\n",
    "\n",
    "one_hot_fields = integer_to_one_hot(EXAMPLE_INPUT)\n",
    "\n",
    "fixed_part_vector = -1 * binary_to_spin(one_hot_fields) * PENALTY_VALUE\n",
    "\n",
    "variable_part_vector = np.zeros(variable_one_hot_bits_count, dtype=int)\n",
    "\n",
    "penalization_vector = np.concatenate((fixed_part_vector, variable_part_vector))\n",
    "\n",
    "print(\"EXAMPLE_INPUT:\\n\", EXAMPLE_INPUT)\n",
    "print(\"one_hot_fields:\\n\", one_hot_fields)\n",
    "print(\"penalization_vector:\\n\", penalization_vector)"
   ]
  },
  {
   "cell_type": "code",
   "execution_count": 76,
   "id": "6fb126d4-7317-4afa-842c-b809541dcb53",
   "metadata": {},
   "outputs": [
    {
     "name": "stdout",
     "output_type": "stream",
     "text": [
      "factorization_matrix:\n",
      " (10, 16)\n",
      "coupling_matrix:\n",
      " (10, 10)\n",
      "penalized_coupling_matrix part:\n",
      " [[-1.26629722  0.46666664  0.43374214]\n",
      " [ 0.46666664 -1.12428081  0.11587713]\n",
      " [ 0.43374214  0.11587713 -1.4392581 ]]\n",
      "coupling_coefficients part:\n",
      " 01, (8, 9): 0.11587712913751602, (9, 9): -1.439258098602295}\n"
     ]
    }
   ],
   "source": [
    "# Quadratic\n",
    "\n",
    "random_factorization_matrix = random_generator.integers(*EXAMPLE_WEIGHT_RANGE, \n",
    "                                                 size=(total_one_hot_bits_count,\n",
    "                                                       LATENT_FACTORS_COUNT))\n",
    "\n",
    "# factorization_matrix = random_factorization_matrix\n",
    "\n",
    "factorization_matrix = loaded_factorization_matrix\n",
    "\n",
    "coupling_matrix = factorization_matrix @ factorization_matrix.T\n",
    "\n",
    "if MAXIMIZE:\n",
    "    \n",
    "    coupling_matrix = -coupling_matrix\n",
    "\n",
    "penalized_coupling_matrix = coupling_matrix + penalization_matrix\n",
    "\n",
    "coupling_coefficients = get_coupling_coefficients(penalized_coupling_matrix) \n",
    "\n",
    "\n",
    "# Printouts\n",
    "\n",
    "print(\"factorization_matrix:\\n\", factorization_matrix.shape)\n",
    "print(\"coupling_matrix:\\n\", coupling_matrix.shape)\n",
    "print(\"penalized_coupling_matrix part:\\n\", penalized_coupling_matrix[-3:, -3:])\n",
    "print(\"coupling_coefficients part:\\n\", coupling_coefficients.__repr__()[-60:])"
   ]
  },
  {
   "cell_type": "code",
   "execution_count": 77,
   "id": "4fbf01a9-108c-4612-9760-7b1590ceb2e6",
   "metadata": {},
   "outputs": [
    {
     "name": "stdout",
     "output_type": "stream",
     "text": [
      "component_weights:\n",
      " [ 0.08311421 -0.80015504  0.48323324 -0.26924106 -0.81753504 -0.23040316\n",
      " -0.7520253   0.33666626 -0.29938015 -0.6152688 ]\n",
      "penalization_vector:\n",
      " [ 0.001 -0.001  0.001 -0.001  0.001 -0.001 -0.001  0.001  0.     0.   ]\n",
      "penalized_component_weights:\n",
      " [ 0.08411421 -0.80115504  0.48423324 -0.27024106 -0.81653504 -0.23140316\n",
      " -0.75302531  0.33766626 -0.29938015 -0.61526883]\n"
     ]
    }
   ],
   "source": [
    "# Linear   \n",
    "\n",
    "random_component_weights = random_generator.integers(*EXAMPLE_WEIGHT_RANGE, size=total_one_hot_bits_count)\n",
    "\n",
    "# component_weights = random_component_weights\n",
    "\n",
    "component_weights = loaded_component_weights\n",
    "\n",
    "if MAXIMIZE:\n",
    "    \n",
    "    component_weights = -component_weights\n",
    "\n",
    "penalized_component_weights = component_weights + penalization_vector\n",
    "\n",
    "component_coefficients = dict(enumerate(penalized_component_weights))\n",
    "\n",
    "print(\"component_weights:\\n\", component_weights)\n",
    "print(\"penalization_vector:\\n\", penalization_vector)\n",
    "print(\"penalized_component_weights:\\n\", penalized_component_weights)"
   ]
  },
  {
   "cell_type": "code",
   "execution_count": 78,
   "id": "7daff691-02f3-47da-9558-86ac6893e637",
   "metadata": {},
   "outputs": [
    {
     "name": "stdout",
     "output_type": "stream",
     "text": [
      "global_bias:\n",
      " 0.13610579\n"
     ]
    }
   ],
   "source": [
    "# Bias\n",
    "\n",
    "random_global_bias = random_generator.integers(*EXAMPLE_WEIGHT_RANGE)\n",
    "\n",
    "# global_bias = random_global_bias\n",
    "\n",
    "global_bias = loaded_global_bias\n",
    "\n",
    "if MAXIMIZE:\n",
    "    \n",
    "    global_bias = -global_bias\n",
    "    \n",
    "print(\"global_bias:\\n\", global_bias)"
   ]
  },
  {
   "cell_type": "code",
   "execution_count": 79,
   "id": "4406a0ec-ef44-4d1b-8b27-a2a09c8618b5",
   "metadata": {},
   "outputs": [],
   "source": [
    "# BQM  \n",
    "\n",
    "quadratic = coupling_coefficients\n",
    "\n",
    "linear = component_coefficients\n",
    "\n",
    "offset = global_bias\n",
    "\n",
    "# variable_type = dimod.BINARY\n",
    "variable_type = dimod.SPIN\n",
    "\n",
    "model = dimod.BinaryQuadraticModel(linear, quadratic, offset, variable_type)\n",
    "\n",
    "# sampler = dimod.SimulatedAnnealingSampler()\n",
    "sampler = SimulatedAnnealingSampler()"
   ]
  },
  {
   "cell_type": "code",
   "execution_count": 80,
   "id": "0da9c3ad-16c2-4e5b-b135-540e168acc46",
   "metadata": {},
   "outputs": [],
   "source": [
    "# Run\n",
    "\n",
    "shots_count = 10000\n",
    "\n",
    "results = sampler.sample(model, num_reads=shots_count)\n",
    "\n",
    "aggregated_results = results.aggregate()\n",
    "\n",
    "# print(results)"
   ]
  },
  {
   "cell_type": "code",
   "execution_count": 81,
   "id": "cad4492b-4d54-421d-b853-99ef000bafda",
   "metadata": {},
   "outputs": [
    {
     "name": "stdout",
     "output_type": "stream",
     "text": [
      "   0  1  2  3  4  5  6  7  8  9     energy num_oc.\n",
      "0 -1 +1 +1 +1 -1 +1 -1 -1 +1 +1 -21.843717    6550\n",
      "1 +1 -1 -1 -1 +1 +1 +1 +1 -1 -1 -21.272844    3450\n",
      "['SPIN', 2 rows, 10000 samples, 10 variables]\n"
     ]
    }
   ],
   "source": [
    "print(aggregated_results)"
   ]
  },
  {
   "cell_type": "code",
   "execution_count": 50,
   "id": "c148e5b6-e94b-494c-a826-64c587eeebb8",
   "metadata": {},
   "outputs": [
    {
     "name": "stdout",
     "output_type": "stream",
     "text": [
      "top_record: Sample(sample={0: -1, 1: 1, 2: -1, 3: 1, 4: -1, 5: 1, 6: 1, 7: -1, 8: 1, 9: -1}, energy=-54.02403366472572, num_occurrences=6671)\n",
      "Example input: 1\n",
      "Task: Maximize\n",
      "Top label: 1\n"
     ]
    }
   ],
   "source": [
    "top_record = aggregated_results.first\n",
    "\n",
    "top_fields_spins = np.array(list(top_record.sample.values()))\n",
    "\n",
    "top_fields_one_hot = spin_to_binary(top_fields_spins)\n",
    "\n",
    "top_fields_bits = one_hot_to_integer(top_fields_one_hot)\n",
    "\n",
    "top_label = top_fields_bits[FIXED_BITS_COUNT:]\n",
    "\n",
    "print(\"top_record:\", top_record)\n",
    "\n",
    "print(\"Example input:\", EXAMPLE_INPUT)\n",
    "print(\"Task:\", ['Minimize', 'Maximize'][MAXIMIZE])\n",
    "print(\"Top label:\", top_label.item())"
   ]
  },
  {
   "cell_type": "code",
   "execution_count": null,
   "id": "feaa5304-a1cf-44ac-aa5b-134d62698266",
   "metadata": {},
   "outputs": [],
   "source": []
  },
  {
   "cell_type": "markdown",
   "id": "4938174b-df46-40ca-b656-56681da86b74",
   "metadata": {
    "tags": []
   },
   "source": [
    "### Full-Scale FM Ising"
   ]
  },
  {
   "cell_type": "code",
   "execution_count": 1,
   "id": "eadbc80c-4621-40cf-9990-35ccb445ff1e",
   "metadata": {
    "tags": []
   },
   "outputs": [],
   "source": [
    "import numpy as np\n",
    "\n",
    "import networkx as nx\n",
    "\n",
    "import matplotlib.pyplot as plt\n",
    "\n",
    "import dimod\n",
    "\n",
    "from neal.sampler import SimulatedAnnealingSampler"
   ]
  },
  {
   "cell_type": "code",
   "execution_count": 2,
   "id": "e782a9c3-845c-4469-a1bd-a097e3e2b21b",
   "metadata": {
    "tags": []
   },
   "outputs": [],
   "source": [
    "def binary_to_spin(binary):\n",
    "    \n",
    "    return binary * 2 - 1\n",
    "\n",
    "\n",
    "def spin_to_binary(spin):\n",
    "    \n",
    "    return (spin + 1) // 2\n",
    "\n",
    "\n",
    "def encode_to_bits(inputs, dtype='>f', bits_count=32):\n",
    "\n",
    "    number_bytes = np.array([inputs], dtype=dtype)\n",
    "\n",
    "    integer_view = number_bytes.view('uint8')\n",
    "\n",
    "    bits_vector = np.unpackbits(integer_view)\n",
    "\n",
    "    bits = bits_vector.reshape(-1, bits_count)\n",
    "    \n",
    "    # print(\"number_bytes:\", number_bytes)\n",
    "    # print(\"integer_view:\", integer_view)\n",
    "    # print(\"bits_vector:\", bits_vector)\n",
    "    # print(\"bits:\", bits)    \n",
    "    \n",
    "    return bits\n",
    "\n",
    "def decode_from_bits(bits, dtype='>f', bitorder='big'):\n",
    "    \n",
    "    bits_vector = bits.reshape(-1)\n",
    "    \n",
    "    integer_view = np.packbits(bits_vector, bitorder=bitorder)\n",
    "\n",
    "    output = integer_view.view(dtype)\n",
    "\n",
    "    # print(\"bits:\", bits)  \n",
    "    # print(\"bits_vector:\", bits_vector)\n",
    "    # print(\"integer_view:\", integer_view)\n",
    "    # print(\"output:\", output)\n",
    "    \n",
    "    return output"
   ]
  },
  {
   "cell_type": "code",
   "execution_count": 3,
   "id": "bb5db68f-9d2f-4063-8d7a-3d20139a0b9c",
   "metadata": {},
   "outputs": [
    {
     "name": "stdout",
     "output_type": "stream",
     "text": [
      "trained_factorization_matrix:\n",
      " tensor([[ 0.0856,  0.0601,  0.0476,  ...,  0.0019, -0.0232, -0.0809],\n",
      "        [-0.0229,  0.0458, -0.1498,  ...,  0.0085,  0.0044, -0.1898],\n",
      "        [-0.0642, -0.0021,  0.0229,  ..., -0.1054, -0.0549,  0.0997],\n",
      "        ...,\n",
      "        [ 0.0641, -0.1281, -0.0342,  ...,  0.1416,  0.0023,  0.1200],\n",
      "        [ 0.1631, -0.0910,  0.0488,  ...,  0.0226,  0.0685,  0.0560],\n",
      "        [ 0.0132, -0.0636, -0.0066,  ..., -0.0152,  0.0353,  0.0193]])\n",
      "trained_component_weights:\n",
      " tensor([[ 0.7494],\n",
      "        [ 0.4402],\n",
      "        [ 0.9856],\n",
      "        [-0.5668],\n",
      "        [ 1.3686]])\n",
      "trained_global_bias:\n",
      " tensor([0.0232])\n"
     ]
    }
   ],
   "source": [
    "# Load Trained Weights\n",
    "\n",
    "import torch\n",
    "\n",
    "MODEL_PATH = 'saved_models/factorization_machine_100M.pt'\n",
    "\n",
    "state_dict = torch.load(MODEL_PATH)\n",
    "\n",
    "trained_factorization_matrix = state_dict['embedding.embedding.weight']\n",
    "trained_component_weights = state_dict['linear.fc.weight']\n",
    "trained_global_bias = state_dict['linear.bias']\n",
    "\n",
    "print(\"trained_factorization_matrix:\\n\", trained_factorization_matrix)\n",
    "print(\"trained_component_weights:\\n\", trained_component_weights[:5])\n",
    "print(\"trained_global_bias:\\n\", trained_global_bias)"
   ]
  },
  {
   "cell_type": "code",
   "execution_count": 4,
   "id": "b68e50c4-c4cc-4f99-ace5-d5d1f71dc31e",
   "metadata": {},
   "outputs": [
    {
     "name": "stdout",
     "output_type": "stream",
     "text": [
      "[[0 0 0 0 0 0 0 0 0 0]\n",
      " [0 0 0 0 0 0 0 0 0 0]\n",
      " [0 0 0 0 0 0 0 0 0 0]\n",
      " [0 0 0 0 0 0 0 0 0 0]\n",
      " [0 0 0 0 0 0 0 0 0 0]\n",
      " [0 0 0 0 0 0 0 0 0 0]\n",
      " [0 0 0 0 0 0 0 0 0 0]\n",
      " [0 0 0 0 0 0 0 0 0 0]\n",
      " [0 0 0 0 0 0 0 0 0 0]\n",
      " [0 0 0 0 0 0 0 0 0 0]]\n",
      "[[ 1000 -2000     0     0     0     0     0     0     0     0]\n",
      " [-2000  1000     0     0     0     0     0     0     0     0]\n",
      " [    0     0  1000 -2000     0     0     0     0     0     0]\n",
      " [    0     0 -2000  1000     0     0     0     0     0     0]\n",
      " [    0     0     0     0  1000 -2000     0     0     0     0]\n",
      " [    0     0     0     0 -2000  1000     0     0     0     0]\n",
      " [    0     0     0     0     0     0  1000 -2000     0     0]\n",
      " [    0     0     0     0     0     0 -2000  1000     0     0]\n",
      " [    0     0     0     0     0     0     0     0  1000 -2000]\n",
      " [    0     0     0     0     0     0     0     0 -2000  1000]]\n"
     ]
    }
   ],
   "source": [
    "# One-hot penalization\n",
    "\n",
    "FIXED_BITS_COUNT = 40\n",
    "VARIABLE_BITS_COUNT = 32\n",
    "\n",
    "LATENT_FACTORS_COUNT = 16\n",
    "EXAMPLE_WEIGHT_RANGE = (0, 10)\n",
    "\n",
    "PENALTY_VALUE = 1000\n",
    "\n",
    "MAXIMIZE = False\n",
    "\n",
    "\n",
    "random_generator = np.random.default_rng()\n",
    "\n",
    "fixed_one_hot_bits_count = FIXED_BITS_COUNT * 2\n",
    "variable_one_hot_bits_count = VARIABLE_BITS_COUNT * 2\n",
    "\n",
    "total_one_hot_bits_count = fixed_one_hot_bits_count + variable_one_hot_bits_count\n",
    "\n",
    "# one_hot_pair_penalty = [[1000, -2000],\n",
    "#                         [-2000, 1000]]\n",
    "\n",
    "one_hot_pair_penalty = [[PENALTY_VALUE, -2 * PENALTY_VALUE],\n",
    "                        [-2 * PENALTY_VALUE, PENALTY_VALUE]]\n",
    "\n",
    "penalization_matrix = np.zeros((total_one_hot_bits_count, total_one_hot_bits_count), dtype=int)\n",
    "\n",
    "one_hot_pairs_count = VARIABLE_BITS_COUNT // 2\n",
    "\n",
    "for offset in range(fixed_one_hot_bits_count, total_one_hot_bits_count, 2):  \n",
    "    \n",
    "    penalization_matrix[offset : offset + 2,\n",
    "                        offset : offset + 2] = one_hot_pair_penalty\n",
    "    \n",
    "print(penalization_matrix[:10, :10])\n",
    "print(penalization_matrix[-10:, -10:])"
   ]
  },
  {
   "cell_type": "code",
   "execution_count": 5,
   "id": "c2b88ab2-a522-45c7-a927-83d0032da8b3",
   "metadata": {},
   "outputs": [
    {
     "data": {
      "text/plain": [
       "array([ 1000, -1000, -1000,  1000,  1000, -1000, -1000, -1000, -1000,\n",
       "       -1000,  1000, -1000,  1000, -1000, -1000, -1000, -1000,  1000,\n",
       "        1000, -1000,  1000,  1000,  1000, -1000, -1000, -1000,  1000,\n",
       "       -1000, -1000, -1000,  1000,  1000,  1000,  1000, -1000,  1000,\n",
       "        1000, -1000,  1000,  1000, -1000,  1000,  1000, -1000, -1000,\n",
       "        1000,  1000,  1000,  1000, -1000,  1000, -1000,  1000, -1000,\n",
       "        1000, -1000, -1000,  1000, -1000,  1000, -1000, -1000,  1000,\n",
       "       -1000, -1000,  1000,  1000, -1000, -1000,  1000,  1000,  1000,\n",
       "        1000, -1000,  1000,  1000,  1000, -1000,  1000,  1000,     0,\n",
       "           0,     0,     0,     0,     0,     0,     0,     0,     0,\n",
       "           0,     0,     0,     0,     0,     0,     0,     0,     0,\n",
       "           0,     0,     0,     0,     0,     0,     0,     0,     0,\n",
       "           0,     0,     0,     0,     0,     0,     0,     0,     0,\n",
       "           0,     0,     0,     0,     0,     0,     0,     0,     0,\n",
       "           0,     0,     0,     0,     0,     0,     0,     0,     0,\n",
       "           0,     0,     0,     0,     0,     0,     0,     0,     0])"
      ]
     },
     "execution_count": 5,
     "metadata": {},
     "output_type": "execute_result"
    }
   ],
   "source": [
    "# Fixed fields penalization\n",
    "\n",
    "example_fields = random_generator.integers(0, 2, size=fixed_one_hot_bits_count)\n",
    "\n",
    "fixed_part_vector = -1 * binary_to_spin(example_fields) * PENALTY_VALUE\n",
    "\n",
    "variable_part_vector = np.zeros(variable_one_hot_bits_count, dtype=int)\n",
    "\n",
    "penalization_vector = np.concatenate((fixed_part_vector, variable_part_vector))\n",
    "\n",
    "penalization_vector"
   ]
  },
  {
   "cell_type": "code",
   "execution_count": 6,
   "id": "4437a61a-e32e-48dc-b0f2-412ca5b90c95",
   "metadata": {},
   "outputs": [
    {
     "ename": "ValueError",
     "evalue": "operands could not be broadcast together with shapes (121,121) (144,144) ",
     "output_type": "error",
     "traceback": [
      "\u001b[0;31m---------------------------------------------------------------------------\u001b[0m",
      "\u001b[0;31mValueError\u001b[0m                                Traceback (most recent call last)",
      "Input \u001b[0;32mIn [6]\u001b[0m, in \u001b[0;36m<cell line: 11>\u001b[0;34m()\u001b[0m\n\u001b[1;32m      7\u001b[0m factorization_matrix \u001b[38;5;241m=\u001b[39m trained_factorization_matrix\n\u001b[1;32m      9\u001b[0m coupling_matrix \u001b[38;5;241m=\u001b[39m factorization_matrix \u001b[38;5;241m@\u001b[39m factorization_matrix\u001b[38;5;241m.\u001b[39mT\n\u001b[0;32m---> 11\u001b[0m penalized_coupling_matrix \u001b[38;5;241m=\u001b[39m \u001b[43mcoupling_matrix\u001b[49m\u001b[43m \u001b[49m\u001b[38;5;241;43m+\u001b[39;49m\u001b[43m \u001b[49m\u001b[43mpenalization_matrix\u001b[49m\n\u001b[1;32m     13\u001b[0m \u001b[38;5;28;01mif\u001b[39;00m MAXIMIZE:\n\u001b[1;32m     15\u001b[0m     penalized_coupling_matrix \u001b[38;5;241m=\u001b[39m \u001b[38;5;241m-\u001b[39mpenalized_coupling_matrix\n",
      "\u001b[0;31mValueError\u001b[0m: operands could not be broadcast together with shapes (121,121) (144,144) "
     ]
    }
   ],
   "source": [
    "# Quadratic\n",
    "\n",
    "# factorization_matrix = random_generator.integers(*EXAMPLE_WEIGHT_RANGE, \n",
    "#                                                  size=(total_one_hot_bits_count,\n",
    "#                                                        LATENT_FACTORS_COUNT))\n",
    "\n",
    "factorization_matrix = trained_factorization_matrix\n",
    "\n",
    "coupling_matrix = factorization_matrix @ factorization_matrix.T\n",
    "\n",
    "penalized_coupling_matrix = coupling_matrix + penalization_matrix\n",
    "\n",
    "if MAXIMIZE:\n",
    "    \n",
    "    penalized_coupling_matrix = -penalized_coupling_matrix\n",
    "\n",
    "graph = nx.from_numpy_matrix(penalized_coupling_matrix)\n",
    "\n",
    "coupling_coefficients = nx.get_edge_attributes(graph,'weight')\n",
    "\n",
    "\n",
    "# Printouts\n",
    "\n",
    "print(\"factorization_matrix:\\n\", factorization_matrix, factorization_matrix.shape)\n",
    "print(\"coupling_matrix:\\n\", coupling_matrix, coupling_matrix.shape)\n",
    "print(\"penalized_coupling_matrix:\\n\", penalized_coupling_matrix, penalized_coupling_matrix.shape)\n",
    "print(\"graph:\\n\", graph)\n",
    "print(\"coupling_coefficients:\\n\", coupling_coefficients.__repr__()[:60])"
   ]
  },
  {
   "cell_type": "code",
   "execution_count": 89,
   "id": "d0299a57-b6b0-4eb6-9b53-6463f531afff",
   "metadata": {},
   "outputs": [
    {
     "name": "stdout",
     "output_type": "stream",
     "text": [
      "global_bias:\n",
      " 5\n",
      "component_weights:\n",
      " [9 9 3 5 0 1 4 8 2 4 5 6 8 4 1 0 0 7 0 4 6 4 5 6 8 1 2 8 1 4 1 3 7 3 4 9 0\n",
      " 7 4 2 8 9 1 4 5 1 3 2 5 2 9 7 1 0 9 6 2 6 3 2 1 2 5 1 4 4 2 8 4 9 2 8 5 6\n",
      " 5 8 1 3 1 4 6 1 4 5 2 6 9 7 5 4 0 5 2 1 7 8 8 2 8 1 7 0 7 3 2 1 7 4 8 1 5\n",
      " 6 4 9 7 1 4 9 2 1 4 6 7 7 1 5 2 8 4 7 5 9 5 5 0 8 8 5 1 7 9 7 5 2]\n",
      "penalized_component_weights:\n",
      " [ 1009  1009  -997  1005 -1000  1001  -996  -992  1002  1004  1005  1006\n",
      "  1008  -996  1001  1000  1000  -993 -1000  1004  -994  -996  1005  1006\n",
      "  1008  1001  -998  1008  1001  -996  1001  -997  1007  -997  -996  -991\n",
      "  1000  1007  -996  -998  1008  1009  -999  -996  -995  1001  1003  1002\n",
      "  -995  1002  1009  -993  1001 -1000  -991  1006  -998  1006  -997  1002\n",
      "  1001  -998  -995  1001  1004  -996  1002  -992  -996  -991  1002  -992\n",
      "  1005  -994  1005  1008  -999  -997  1001  1004     6     1     4     5\n",
      "     2     6     9     7     5     4     0     5     2     1     7     8\n",
      "     8     2     8     1     7     0     7     3     2     1     7     4\n",
      "     8     1     5     6     4     9     7     1     4     9     2     1\n",
      "     4     6     7     7     1     5     2     8     4     7     5     9\n",
      "     5     5     0     8     8     5     1     7     9     7     5     2]\n"
     ]
    }
   ],
   "source": [
    "# Linear\n",
    "\n",
    "# global_bias = random_generator.integers(*EXAMPLE_WEIGHT_RANGE)\n",
    "\n",
    "global_bias = trained_global_bias\n",
    "\n",
    "if MAXIMIZE:\n",
    "    \n",
    "    global_bias = -global_bias\n",
    "    \n",
    "\n",
    "# component_weights = random_generator.integers(*EXAMPLE_WEIGHT_RANGE, size=total_one_hot_bits_count)\n",
    "\n",
    "component_weights = trained_component_weights\n",
    "\n",
    "penalized_component_weights = component_weights + penalization_vector\n",
    "\n",
    "if MAXIMIZE:\n",
    "    \n",
    "    penalized_component_weights = -penalized_component_weights\n",
    "\n",
    "component_coefficients = dict(enumerate(penalized_component_weights))\n",
    "\n",
    "print(\"global_bias:\\n\", global_bias)\n",
    "print(\"component_weights:\\n\", component_weights)\n",
    "print(\"penalized_component_weights:\\n\", penalized_component_weights)"
   ]
  },
  {
   "cell_type": "code",
   "execution_count": 90,
   "id": "083e81b3-7ba1-4be5-9eab-1acca73e4107",
   "metadata": {},
   "outputs": [],
   "source": [
    "# BQM  \n",
    "\n",
    "quadratic = coupling_coefficients\n",
    "\n",
    "linear = component_coefficients\n",
    "\n",
    "offset = global_bias\n",
    "\n",
    "# variable_type = dimod.BINARY\n",
    "variable_type = dimod.SPIN\n",
    "\n",
    "model = dimod.BinaryQuadraticModel(linear, quadratic, offset, variable_type)\n",
    "\n",
    "# sampler = dimod.SimulatedAnnealingSampler()\n",
    "sampler = SimulatedAnnealingSampler()"
   ]
  },
  {
   "cell_type": "code",
   "execution_count": 91,
   "id": "f7d2fa67-95ba-44cc-b2c2-fa0ef728f720",
   "metadata": {},
   "outputs": [],
   "source": [
    "# Run\n",
    "\n",
    "shots_count = 1000\n",
    "\n",
    "results = sampler.sample(model, num_reads=shots_count)\n",
    "\n",
    "# print(results)\n",
    "\n",
    "# TODO: maximize * -1"
   ]
  },
  {
   "cell_type": "code",
   "execution_count": 93,
   "id": "5973c400-f3c0-470c-8cf4-d9bf38d1ce83",
   "metadata": {},
   "outputs": [],
   "source": [
    "aggregated_results = results.aggregate()\n",
    "\n",
    "# print(aggregated_results)"
   ]
  },
  {
   "cell_type": "code",
   "execution_count": 100,
   "id": "03bdec8a-af49-4974-a275-e639aef4d951",
   "metadata": {},
   "outputs": [],
   "source": [
    "def sample_to_string(sample):\n",
    "\n",
    "    fields = sample.values()\n",
    "\n",
    "    string = ''.join(map(str, (map(spin_to_binary, fields))))\n",
    "    \n",
    "    return string\n",
    "\n",
    "def sample_to_array(sample):\n",
    "\n",
    "    fields = sample.values()\n",
    "\n",
    "    array = np.array(list(map(spin_to_binary, fields)))\n",
    "    \n",
    "    return array"
   ]
  },
  {
   "cell_type": "code",
   "execution_count": 118,
   "id": "af700713-cb06-4a43-bc31-9ca1b74d4102",
   "metadata": {},
   "outputs": [
    {
     "name": "stdout",
     "output_type": "stream",
     "text": [
      "001010110000010001101100001001010111001100111000100101101010011001011101010011000011000011111111111111110011001111001100110000110011000000111100\n",
      "001010110000010001101100001001010111001100111000100101101010011001011101010011001100001100111100111111000011001111000000111111110011000011111100\n"
     ]
    }
   ],
   "source": [
    "# Lowes energy samples\n",
    "\n",
    "for sample in aggregated_results.samples(n=2, sorted_by='energy'):\n",
    "    \n",
    "    sample_string = sample_to_string(sample)\n",
    "    \n",
    "    print(sample_string)"
   ]
  },
  {
   "cell_type": "code",
   "execution_count": 121,
   "id": "88c6e8c7-0587-47fd-8492-8652d06cb3a3",
   "metadata": {},
   "outputs": [
    {
     "data": {
      "text/plain": [
       "array([-1.0233494e+08], dtype=float32)"
      ]
     },
     "execution_count": 121,
     "metadata": {},
     "output_type": "execute_result"
    }
   ],
   "source": [
    "lowest_energy_sample, energy, occurences = aggregated_results.first\n",
    "\n",
    "fields = sample_to_array(lowest_energy_sample)\n",
    "\n",
    "option_price_bits = fields[-32:]\n",
    "\n",
    "option_price = decode_from_bits(option_price_bits)\n",
    "\n",
    "option_price"
   ]
  },
  {
   "cell_type": "code",
   "execution_count": 18,
   "id": "388b9cb3-4052-4e7b-a019-e76c3df4a233",
   "metadata": {},
   "outputs": [],
   "source": []
  },
  {
   "cell_type": "code",
   "execution_count": 32,
   "id": "53bb7839-5695-4775-ad77-3dab2b7a4bf4",
   "metadata": {},
   "outputs": [
    {
     "name": "stdout",
     "output_type": "stream",
     "text": [
      "number_bytes: [[10.  -5.5]]\n",
      "integer_view: [[ 65  32   0   0 192 176   0   0]]\n",
      "bits_vector: [0 1 0 0 0 0 0 1 0 0 1 0 0 0 0 0 0 0 0 0 0 0 0 0 0 0 0 0 0 0 0 0 1 1 0 0 0\n",
      " 0 0 0 1 0 1 1 0 0 0 0 0 0 0 0 0 0 0 0 0 0 0 0 0 0 0 0]\n",
      "bits: [[0 1 0 0 0 0 0 1 0 0 1 0 0 0 0 0 0 0 0 0 0 0 0 0 0 0 0 0 0 0 0 0]\n",
      " [1 1 0 0 0 0 0 0 1 0 1 1 0 0 0 0 0 0 0 0 0 0 0 0 0 0 0 0 0 0 0 0]]\n"
     ]
    }
   ],
   "source": [
    "a = [10, -5.5]\n",
    "\n",
    "b = encode_to_bits(a)"
   ]
  },
  {
   "cell_type": "code",
   "execution_count": 33,
   "id": "0da90fbe-9f78-4310-b0d9-7be7b8a05834",
   "metadata": {},
   "outputs": [],
   "source": []
  },
  {
   "cell_type": "code",
   "execution_count": 34,
   "id": "84e9ca72-883b-45f8-873c-5be4f1c4ad39",
   "metadata": {},
   "outputs": [
    {
     "name": "stdout",
     "output_type": "stream",
     "text": [
      "bits: [[0 1 0 0 0 0 0 1 0 0 1 0 0 0 0 0 0 0 0 0 0 0 0 0 0 0 0 0 0 0 0 0]\n",
      " [1 1 0 0 0 0 0 0 1 0 1 1 0 0 0 0 0 0 0 0 0 0 0 0 0 0 0 0 0 0 0 0]]\n",
      "bits_vector: [0 1 0 0 0 0 0 1 0 0 1 0 0 0 0 0 0 0 0 0 0 0 0 0 0 0 0 0 0 0 0 0 1 1 0 0 0\n",
      " 0 0 0 1 0 1 1 0 0 0 0 0 0 0 0 0 0 0 0 0 0 0 0 0 0 0 0]\n",
      "integer_view: [ 65  32   0   0 192 176   0   0]\n",
      "output: [10.  -5.5]\n"
     ]
    }
   ],
   "source": [
    "c = decode_from_bits(b)"
   ]
  },
  {
   "cell_type": "code",
   "execution_count": null,
   "id": "7c4b8a7d-b98f-435f-82a3-2318d95b6f71",
   "metadata": {},
   "outputs": [],
   "source": []
  },
  {
   "cell_type": "code",
   "execution_count": 40,
   "id": "bee1b791-57bf-4618-aa88-73e4d709f694",
   "metadata": {},
   "outputs": [
    {
     "name": "stdout",
     "output_type": "stream",
     "text": [
      "bits: [0 0 0 0 0 1 1 0 0 1 0 1 1 1 0 1 0 0 0 0 1 1 0 0 0 1 1 1 0 0 1 1]\n",
      "bits_vector: [0 0 0 0 0 1 1 0 0 1 0 1 1 1 0 1 0 0 0 0 1 1 0 0 0 1 1 1 0 0 1 1]\n",
      "integer_view: [  6  93  12 115]\n",
      "output: [4.1574626e-35]\n"
     ]
    }
   ],
   "source": [
    "option_price = decode_from_bits(option_price_bits)"
   ]
  },
  {
   "cell_type": "code",
   "execution_count": null,
   "id": "0e072707-4d9b-48fc-8490-81152a6729b7",
   "metadata": {},
   "outputs": [],
   "source": []
  },
  {
   "cell_type": "markdown",
   "id": "2b59d16d-b41f-4f75-82d7-e88d96a0021f",
   "metadata": {
    "jp-MarkdownHeadingCollapsed": true,
    "tags": []
   },
   "source": [
    "### Penalization"
   ]
  },
  {
   "cell_type": "code",
   "execution_count": null,
   "id": "49cf8b20-1801-4779-a73d-948ec8c30df2",
   "metadata": {},
   "outputs": [],
   "source": [
    "0, 1 -> 01, 10\n",
    "\n",
    "Allowed: 01, 10\n",
    "Forbidden: 11, 00\n",
    "\n",
    "1000 -> 1000 -1000\n",
    "\n",
    "# TODO: Penalize 00, 11\n",
    "#\n",
    "# x_i+x_j-2x_ix_j\n",
    "#\n",
    "# 144 * 144 = [[1000, -1000, .... 1000],\n",
    "#              [-1000, 1000, .... 1000]]\n",
    "\n",
    "# Linear:\n",
    "#\n",
    "# {(81, 82): x_81 + x_82 - 2 * x_81 * x_82\n",
    "# \n",
    "#\n",
    "#\n",
    "#\n",
    "\n",
    "\n",
    "#    Fixed      Variable\n",
    "#\n",
    "# [0.1, -0.2, -0.3, -0.3]\n",
    "# [0.5, -0.4, -0.6, -0.3]\n",
    "# [0.1, -0.2,   0.3, -0.3]  +\n",
    "# [0.1, -0.2,  -0.3,  0.3]\n",
    "#\n",
    "#\n",
    "# [1000, -0.2, -0.3, -0.3]\n",
    "# [0, -1000 -0.6, -0.3]\n",
    "# [0, -0.2,   0.3, -0.3]    +\n",
    "# [0.1, -0.2,  -0.3,  0.3]\n",
    "#\n",
    "# [1000, -0.2, -0.3, -0.3]\n",
    "# [0, -1000 -0.6, -0.3]\n",
    "# [0, -0.2,   1000, -2000]    +\n",
    "# [0.1, -0.2, -2000,  1000]\n",
    "#\n",
    "# [1000, -0.2, -0.3, -0.3, -0.3, -0.3]\n",
    "# [0, -1000 -0.6,   -0.3, -0.3, -0.3]\n",
    "# [0, -0.2,   1000, -2000, -0.3, -0.3]\n",
    "# [0.1, -0.2, -2000, 1000, -0.3, -0.3]\n",
    "# [0, -0.2,   -0.2, -0.2,  1000,  -2000]\n",
    "# [0, -0.2,   -0.2, -0.2, -2000,  1000 ]\n",
    "\n",
    "\n",
    "# TODO: maximize * -1\n",
    "\n",
    "# x_i+x_j-2x_ix_j"
   ]
  },
  {
   "cell_type": "code",
   "execution_count": null,
   "id": "4d3326c3-4c09-459e-b7e4-00b99807151b",
   "metadata": {},
   "outputs": [],
   "source": [
    "# Penalize test\n",
    "\n",
    "# binary_one_hot_constraint = np.array([[-2000, -1000], \n",
    "#                                       [-1000, 1000]])\n",
    "\n",
    "binary_one_hot_constraint = np.array([[0, 1000], \n",
    "                                      [1000, -2000]])\n",
    "\n",
    "inputs = np.array([[0, 0],\n",
    "                   [0, 1],\n",
    "                   [1, 0],\n",
    "                   [1, 1]])\n",
    "\n",
    "for a in inputs:\n",
    "    \n",
    "    b = sum(np.dot(a, binary_one_hot_constraint))\n",
    "    \n",
    "    print(a, b)"
   ]
  },
  {
   "cell_type": "markdown",
   "id": "8b5f0fa4-9039-4e60-9209-86a496391e3f",
   "metadata": {
    "tags": []
   },
   "source": [
    "### Sample Ising"
   ]
  },
  {
   "cell_type": "code",
   "execution_count": 307,
   "id": "cdceb2c0-525a-468c-8200-ce28685ee6a0",
   "metadata": {},
   "outputs": [],
   "source": [
    "from braket.aws import AwsDevice\n",
    "from braket.ocean_plugin import BraketSampler, BraketDWaveSampler"
   ]
  },
  {
   "cell_type": "code",
   "execution_count": 308,
   "id": "28f31a05-f916-4dbc-ad2c-604ed9522fb5",
   "metadata": {},
   "outputs": [],
   "source": [
    "import matplotlib.pyplot as plt\n",
    "# magic word for producing visualizations in notebook\n",
    "%matplotlib inline\n",
    "import time\n",
    "from collections import defaultdict\n",
    "from itertools import combinations\n",
    "import math\n",
    "import networkx as nx\n",
    "import dwave_networkx as dnx\n",
    "import minorminer\n",
    "import dimod\n",
    "from dimod.binary_quadratic_model import BinaryQuadraticModel\n",
    "from dwave.system.composites import EmbeddingComposite\n",
    "\n",
    "from neal.sampler import SimulatedAnnealingSampler"
   ]
  },
  {
   "cell_type": "code",
   "execution_count": 309,
   "id": "0b782ee3-07f2-48d5-98db-4d2d28837b78",
   "metadata": {},
   "outputs": [],
   "source": [
    "from braket.tracking import Tracker\n",
    "\n",
    "cost_tracker = Tracker().start()"
   ]
  },
  {
   "cell_type": "code",
   "execution_count": 310,
   "id": "694be0f7-4243-4b01-a473-79724366078c",
   "metadata": {},
   "outputs": [],
   "source": [
    "# define QUBO problem as BinaryQuadraticModel\n",
    "quadratic = {(0, 1): 1.0, (0,4): 2.0, (1, 2): 1.0, (1,4): 1.0, (2, 3): 1.0, (3, 4): 1.0}\n",
    "\n",
    "# linear = {}\n",
    "linear = {0: +1.0}\n",
    "\n",
    "offset = 0.0"
   ]
  },
  {
   "cell_type": "code",
   "execution_count": 311,
   "id": "12ff9054-205e-4248-94f2-e40cf8f2eb96",
   "metadata": {},
   "outputs": [],
   "source": [
    "# set parameters\n",
    "num_shots = 10\n",
    "vartype = dimod.SPIN\n",
    "\n",
    "# run classical simulated annealing\n",
    "model = dimod.BinaryQuadraticModel(linear, quadratic, offset, vartype)\n",
    "\n",
    "# sampler = dimod.SimulatedAnnealingSampler()\n",
    "sampler = SimulatedAnnealingSampler()"
   ]
  },
  {
   "cell_type": "code",
   "execution_count": 312,
   "id": "db2e3270-daaa-44af-95b6-dc8ede909cf8",
   "metadata": {},
   "outputs": [
    {
     "name": "stdout",
     "output_type": "stream",
     "text": [
      "   0  1  2  3  4 energy num_oc.\n",
      "0 -1 -1 +1 -1 +1   -6.0       1\n",
      "1 -1 -1 +1 -1 +1   -6.0       1\n",
      "2 -1 -1 +1 -1 +1   -6.0       1\n",
      "3 -1 -1 +1 -1 +1   -6.0       1\n",
      "4 -1 -1 +1 -1 +1   -6.0       1\n",
      "5 -1 -1 +1 -1 +1   -6.0       1\n",
      "6 -1 -1 +1 -1 +1   -6.0       1\n",
      "7 -1 -1 +1 -1 +1   -6.0       1\n",
      "8 -1 -1 +1 -1 +1   -6.0       1\n",
      "9 -1 -1 +1 -1 +1   -6.0       1\n",
      "['SPIN', 10 rows, 10 samples, 5 variables]\n"
     ]
    }
   ],
   "source": [
    "response = sampler.sample(model, num_reads=num_shots)\n",
    "\n",
    "print(response)"
   ]
  },
  {
   "cell_type": "code",
   "execution_count": 313,
   "id": "59dc93c6-deee-40b0-a2d1-473e26a9198d",
   "metadata": {},
   "outputs": [
    {
     "name": "stdout",
     "output_type": "stream",
     "text": [
      "   0  1  2  3  4 energy num_oc.\n",
      "0 -1 -1 +1 -1 +1   -6.0      10\n",
      "['SPIN', 1 rows, 10 samples, 5 variables]\n"
     ]
    }
   ],
   "source": [
    "# response aggregate\n",
    "response_aggregate = response.aggregate()\n",
    "print(response_aggregate)"
   ]
  },
  {
   "cell_type": "code",
   "execution_count": null,
   "id": "e4445e9d-baf8-42ec-a25c-b5dba34d706f",
   "metadata": {},
   "outputs": [],
   "source": []
  },
  {
   "cell_type": "code",
   "execution_count": 314,
   "id": "96514c28-a43b-47f7-ad9b-8f6d6399a548",
   "metadata": {},
   "outputs": [
    {
     "name": "stdout",
     "output_type": "stream",
     "text": [
      "Minimal energy: -6.0\n"
     ]
    }
   ],
   "source": [
    "# determine the minimum\n",
    "min_energy = min(response.data_vectors['energy'])\n",
    "print('Minimal energy:', min_energy)"
   ]
  },
  {
   "cell_type": "code",
   "execution_count": 315,
   "id": "0f583040-2278-469f-aec1-9780976a1418",
   "metadata": {},
   "outputs": [
    {
     "data": {
      "text/plain": [
       "{'energy': array([-6., -6., -6., -6., -6., -6., -6., -6., -6., -6.]),\n",
       " 'num_occurrences': array([1, 1, 1, 1, 1, 1, 1, 1, 1, 1])}"
      ]
     },
     "execution_count": 315,
     "metadata": {},
     "output_type": "execute_result"
    }
   ],
   "source": [
    "response.data_vectors"
   ]
  },
  {
   "cell_type": "code",
   "execution_count": 316,
   "id": "363814ee-b9d3-47c0-9c6a-506143e7146f",
   "metadata": {},
   "outputs": [],
   "source": [
    "# Exact Solver\n",
    "\n",
    "model = dimod.BinaryQuadraticModel(linear, quadratic, offset, vartype)\n",
    "sampler = dimod.ExactSolver()"
   ]
  },
  {
   "cell_type": "code",
   "execution_count": 317,
   "id": "ba553872-73ed-45f7-b565-19ce7ba30c58",
   "metadata": {},
   "outputs": [
    {
     "name": "stdout",
     "output_type": "stream",
     "text": [
      "    0  1  2  3  4 energy num_oc.\n",
      "8  -1 -1 +1 -1 +1   -6.0       1\n",
      "4  -1 +1 -1 -1 +1   -4.0       1\n",
      "11 -1 +1 +1 -1 +1   -4.0       1\n",
      "27 -1 +1 -1 +1 +1   -4.0       1\n",
      "28 -1 +1 -1 +1 -1   -4.0       1\n",
      "29 +1 +1 -1 +1 -1   -4.0       1\n",
      "7  -1 -1 -1 -1 +1   -2.0       1\n",
      "9  +1 -1 +1 -1 +1   -2.0       1\n",
      "14 +1 -1 +1 -1 -1   -2.0       1\n",
      "17 +1 -1 +1 +1 -1   -2.0       1\n",
      "23 -1 -1 +1 +1 +1   -2.0       1\n",
      "24 -1 -1 -1 +1 +1   -2.0       1\n",
      "30 +1 -1 -1 +1 -1   -2.0       1\n",
      "2  +1 +1 -1 -1 -1    0.0       1\n",
      "3  -1 +1 -1 -1 -1    0.0       1\n",
      "12 -1 +1 +1 -1 -1    0.0       1\n",
      "13 +1 +1 +1 -1 -1    0.0       1\n",
      "18 +1 +1 +1 +1 -1    0.0       1\n",
      "19 -1 +1 +1 +1 -1    0.0       1\n",
      "20 -1 +1 +1 +1 +1    0.0       1\n",
      "1  +1 -1 -1 -1 -1    2.0       1\n",
      "6  +1 -1 -1 -1 +1    2.0       1\n",
      "15 -1 -1 +1 -1 -1    2.0       1\n",
      "16 -1 -1 +1 +1 -1    2.0       1\n",
      "22 +1 -1 +1 +1 +1    2.0       1\n",
      "25 +1 -1 -1 +1 +1    2.0       1\n",
      "31 -1 -1 -1 +1 -1    2.0       1\n",
      "5  +1 +1 -1 -1 +1    4.0       1\n",
      "10 +1 +1 +1 -1 +1    4.0       1\n",
      "26 +1 +1 -1 +1 +1    4.0       1\n",
      "0  -1 -1 -1 -1 -1    6.0       1\n",
      "21 +1 +1 +1 +1 +1    8.0       1\n",
      "['SPIN', 32 rows, 32 samples, 5 variables]\n"
     ]
    }
   ],
   "source": [
    "response = sampler.sample(model)\n",
    "\n",
    "# response aggregate\n",
    "response_aggregate = response.aggregate()\n",
    "print(response_aggregate)"
   ]
  },
  {
   "cell_type": "code",
   "execution_count": 318,
   "id": "f0669e57-79fa-41ef-ad02-bf897ac0e0e7",
   "metadata": {},
   "outputs": [],
   "source": [
    "# print(cost_tracker.quantum_tasks_statistics())\n",
    "# print(cost_tracker.qpu_tasks_cost())\n",
    "# print(cost_tracker.simulator_tasks_cost())"
   ]
  },
  {
   "cell_type": "code",
   "execution_count": null,
   "id": "603f3e3f-f46f-468a-8ad6-7f29521cf5a0",
   "metadata": {},
   "outputs": [],
   "source": [
    "most_popular_index = aggregated_results.data_vectors['num_occurrences'].argmax()\n",
    "\n",
    "most_popular_index"
   ]
  },
  {
   "cell_type": "markdown",
   "id": "dd1491c1-a3db-4e12-8658-a66c370e4aa1",
   "metadata": {
    "jp-MarkdownHeadingCollapsed": true,
    "tags": []
   },
   "source": [
    "### Color Cycle"
   ]
  },
  {
   "cell_type": "code",
   "execution_count": 18,
   "id": "8a6bd976-b992-4d36-b145-38aaa3c7a56e",
   "metadata": {},
   "outputs": [
    {
     "data": {
      "text/html": [
       "<table><th>'color'</th><tr><td>'#8dd3c7'</td></tr><tr><td>'#feffb3'</td></tr><tr><td>'#bfbbd9'</td></tr><tr><td>'#fa8174'</td></tr><tr><td>'#81b1d2'</td></tr><tr><td>'#fdb462'</td></tr><tr><td>'#b3de69'</td></tr><tr><td>'#bc82bd'</td></tr><tr><td>'#ccebc4'</td></tr><tr><td>'#ffed6f'</td></tr></table>"
      ],
      "text/plain": [
       "cycler('color', ['#8dd3c7', '#feffb3', '#bfbbd9', '#fa8174', '#81b1d2', '#fdb462', '#b3de69', '#bc82bd', '#ccebc4', '#ffed6f'])"
      ]
     },
     "execution_count": 18,
     "metadata": {},
     "output_type": "execute_result"
    },
    {
     "data": {
      "image/png": "[encoded data removed]",
      "text/plain": [
       "<Figure size 432x288 with 1 Axes>"
      ]
     },
     "metadata": {
      "needs_background": "dark"
     },
     "output_type": "display_data"
    }
   ],
   "source": [
    "prop_cycle = plt.rcParams['axes.prop_cycle']\n",
    "colors = prop_cycle.by_key()['color']\n",
    "\n",
    "for i, color in enumerate(colors):\n",
    "    \n",
    "    plt.plot(np.arange(0, 10, 1) + i * 2, \n",
    "             label=color, color=color, lw=2)\n",
    "\n",
    "    plt.xlabel(\"Asset price\")\n",
    "    plt.ylabel(\"Monte-Carlo Probability\")\n",
    "    plt.legend()\n",
    "    # plt.show()\n",
    "    \n",
    "prop_cycle"
   ]
  },
  {
   "cell_type": "code",
   "execution_count": null,
   "id": "c6277e91-32cb-4ad4-9aa5-b56f31396804",
   "metadata": {},
   "outputs": [],
   "source": []
  },
  {
   "cell_type": "markdown",
   "id": "0d875a13-c95b-42b0-874f-69aa156af307",
   "metadata": {
    "jp-MarkdownHeadingCollapsed": true,
    "tags": []
   },
   "source": [
    "### FM Graph"
   ]
  },
  {
   "cell_type": "code",
   "execution_count": 281,
   "id": "9c3ba7a5-4029-4131-93b0-957d89c2e511",
   "metadata": {},
   "outputs": [
    {
     "data": {
      "text/plain": [
       "array([[9, 8],\n",
       "       [4, 2],\n",
       "       [4, 6],\n",
       "       [3, 1],\n",
       "       [5, 5],\n",
       "       [3, 4]])"
      ]
     },
     "execution_count": 281,
     "metadata": {},
     "output_type": "execute_result"
    }
   ],
   "source": [
    "import numpy as np\n",
    "\n",
    "random_generator = np.random.default_rng()\n",
    "\n",
    "factorization_matrix = random_generator.integers(0, 10, size=(6, 2))\n",
    "\n",
    "factorization_matrix"
   ]
  },
  {
   "cell_type": "code",
   "execution_count": 282,
   "id": "f9e8ff44-9285-40d0-8750-819077f750c0",
   "metadata": {},
   "outputs": [
    {
     "data": {
      "text/plain": [
       "array([[145,  52,  84,  35,  85,  59],\n",
       "       [ 52,  20,  28,  14,  30,  20],\n",
       "       [ 84,  28,  52,  18,  50,  36],\n",
       "       [ 35,  14,  18,  10,  20,  13],\n",
       "       [ 85,  30,  50,  20,  50,  35],\n",
       "       [ 59,  20,  36,  13,  35,  25]])"
      ]
     },
     "execution_count": 282,
     "metadata": {},
     "output_type": "execute_result"
    }
   ],
   "source": [
    "coupling_matrix = factorization_matrix @ factorization_matrix.T\n",
    "\n",
    "coupling_matrix"
   ]
  },
  {
   "cell_type": "code",
   "execution_count": 306,
   "id": "2205b230-ef78-4f21-9e6b-9a0bd1e1bbef",
   "metadata": {},
   "outputs": [
    {
     "data": {
      "text/plain": [
       "array([[145,  52,  84,  35,  85,  59],\n",
       "       [ 52,  20,  28,  14,  30,  20],\n",
       "       [ 84,  28,  52,  18,  50,  36],\n",
       "       [ 35,  14,  18,  10,  20,  13],\n",
       "       [ 85,  30,  50,  20,  50,  35],\n",
       "       [ 59,  20,  36,  13,  35,  25]])"
      ]
     },
     "execution_count": 306,
     "metadata": {},
     "output_type": "execute_result"
    }
   ],
   "source": [
    "coupling_matrix = factorization_matrix @ factorization_matrix.T\n",
    "\n",
    "coupling_matrix"
   ]
  },
  {
   "cell_type": "code",
   "execution_count": 284,
   "id": "1a98d8d6-710b-480f-a26c-6b6bc178b1d2",
   "metadata": {},
   "outputs": [
    {
     "name": "stdout",
     "output_type": "stream",
     "text": [
      "Graph with 6 nodes and 21 edges\n"
     ]
    }
   ],
   "source": [
    "graph = nx.from_numpy_matrix(coupling_matrix)\n",
    "\n",
    "print(graph)"
   ]
  },
  {
   "cell_type": "code",
   "execution_count": 285,
   "id": "ac9d56d0-6ce4-4ee4-b677-d01da7a7b597",
   "metadata": {},
   "outputs": [],
   "source": [
    "weights = nx.get_edge_attributes(graph,'weight')"
   ]
  },
  {
   "cell_type": "code",
   "execution_count": 286,
   "id": "e7aeb53c-026f-4e5d-9d5b-e55f629407f5",
   "metadata": {},
   "outputs": [
    {
     "data": {
      "image/png": "[encoded data removed]",
      "text/plain": [
       "<Figure size 432x288 with 1 Axes>"
      ]
     },
     "metadata": {},
     "output_type": "display_data"
    }
   ],
   "source": [
    "positions = nx.circular_layout(graph)\n",
    "\n",
    "edge_colors = range(graph.number_of_edges())\n",
    "\n",
    "plt.axis('off')\n",
    "nx.draw_networkx(graph, positions, \n",
    "                 with_labels=False, \n",
    "                 edge_cmap=plt.cm.plasma, \n",
    "                 edge_color=edge_colors,\n",
    "                 # node_size=0,\n",
    "                 node_color='indigo',\n",
    "                 width=4)"
   ]
  }
 ],
 "metadata": {
  "kernelspec": {
   "display_name": "Python 3 (ipykernel)",
   "language": "python",
   "name": "python3"
  },
  "language_info": {
   "codemirror_mode": {
    "name": "ipython",
    "version": 3
   },
   "file_extension": ".py",
   "mimetype": "text/x-python",
   "name": "python",
   "nbconvert_exporter": "python",
   "pygments_lexer": "ipython3",
   "version": "3.8.10"
  }
 },
 "nbformat": 4,
 "nbformat_minor": 5
}
