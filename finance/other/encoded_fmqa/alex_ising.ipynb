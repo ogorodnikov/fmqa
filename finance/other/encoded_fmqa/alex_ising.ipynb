{
 "cells": [
  {
   "cell_type": "markdown",
   "id": "8b22b70d-7b49-456d-a9dc-43f1d0b55900",
   "metadata": {
    "tags": []
   },
   "source": [
    "### 11) Alex - QUBO"
   ]
  },
  {
   "cell_type": "code",
   "execution_count": 1,
   "id": "a78d75ea-1816-41f5-b3c7-af9c626161d5",
   "metadata": {},
   "outputs": [],
   "source": [
    "import numpy as np\n",
    "import pandas as pd\n",
    "import networkx as nx\n",
    "import matplotlib.pyplot as plt\n",
    "\n",
    "import torch\n",
    "\n",
    "import dimod\n",
    "from neal.sampler import SimulatedAnnealingSampler\n",
    "\n",
    "plt.style.use('dark_background')\n",
    "\n",
    "dimod.serialization.format.set_printoptions(width=110, depth=10)"
   ]
  },
  {
   "cell_type": "code",
   "execution_count": 2,
   "id": "9c83317f-fccb-470b-a1c4-70632f7996b2",
   "metadata": {
    "tags": []
   },
   "outputs": [],
   "source": [
    "# Spin encoding\n",
    "\n",
    "def binary_to_spin(binary):    \n",
    "    return binary * 2 - 1\n",
    "\n",
    "def spin_to_binary(spin):    \n",
    "    return (spin + 1) // 2\n",
    "\n",
    "\n",
    "# Bit encoding\n",
    "\n",
    "def encode_to_bits(inputs, dtype='>f', bits_count=32):\n",
    "\n",
    "    number_bytes = np.array([inputs], dtype=dtype)\n",
    "\n",
    "    integer_view = number_bytes.view('uint8')\n",
    "\n",
    "    bits_vector = np.unpackbits(integer_view)\n",
    "\n",
    "    bits = bits_vector.reshape(-1, bits_count)\n",
    "    \n",
    "    # print(\"number_bytes:\", number_bytes)\n",
    "    # print(\"integer_view:\", integer_view)\n",
    "    # print(\"bits_vector:\", bits_vector)\n",
    "    # print(\"bits:\", bits)    \n",
    "    \n",
    "    return bits\n",
    "\n",
    "def decode_from_bits(bits, dtype='>f', bitorder='big'):\n",
    "    \n",
    "    bits_vector = bits.reshape(-1)\n",
    "    \n",
    "    integer_view = np.packbits(bits_vector, bitorder=bitorder)\n",
    "\n",
    "    output = integer_view.view(dtype)\n",
    "\n",
    "    # print(\"bits:\", bits)  \n",
    "    # print(\"bits_vector:\", bits_vector)\n",
    "    # print(\"integer_view:\", integer_view)\n",
    "    # print(\"output:\", output)\n",
    "    \n",
    "    return output\n",
    "\n",
    "\n",
    "# One Hot encoding\n",
    "\n",
    "def integer_to_one_hot(integer, dtype='>i1', one_hot_scheme=None): \n",
    "    \n",
    "    if one_hot_scheme is None:\n",
    "        \n",
    "        one_hot_scheme = {0: (0, 1), 1: (1, 0)}\n",
    "    \n",
    "    number_bytes = np.array([integer], dtype=dtype)\n",
    "\n",
    "    integer_view = number_bytes.view('uint8')\n",
    "    \n",
    "    bits = np.unpackbits(integer_view)\n",
    "    \n",
    "    one_hot_bits = []\n",
    "    \n",
    "    for bit in bits:\n",
    "        \n",
    "        one_hot_pair = one_hot_scheme[bit]\n",
    "        \n",
    "        one_hot_bits.extend(one_hot_pair)\n",
    "        \n",
    "    one_hot_array = np.array(one_hot_bits, dtype=dtype)\n",
    "    \n",
    "    return one_hot_array\n",
    "\n",
    "\n",
    "def one_hot_to_integer(one_hot_bits, dtype='>i1', one_hot_scheme=None):    \n",
    "    \n",
    "    if one_hot_scheme is None:\n",
    "        \n",
    "        one_hot_scheme = {0: (0, 1), 1: (1, 0)}\n",
    "        \n",
    "    decoding_scheme = {value: key for key, value in one_hot_scheme.items()}\n",
    "    \n",
    "    bits = []\n",
    "        \n",
    "    for one_hot_pair in one_hot_bits.reshape(-1, 2):\n",
    "        \n",
    "        bit = decoding_scheme[tuple(one_hot_pair)]\n",
    "        \n",
    "        bits.append(bit)\n",
    "        \n",
    "    bits_array = np.array(bits, dtype=dtype)    \n",
    "   \n",
    "    return bits_array\n",
    "\n",
    "\n",
    "def bits_to_one_hot(bits, dtype='>i1', one_hot_scheme=None): \n",
    "    \n",
    "    if one_hot_scheme is None:\n",
    "        \n",
    "        one_hot_scheme = {0: (0, 1), 1: (1, 0)}\n",
    "    \n",
    "    one_hot_bits = []\n",
    "    \n",
    "    for bit in bits:\n",
    "        \n",
    "        one_hot_pair = one_hot_scheme[bit]\n",
    "        \n",
    "        one_hot_bits.extend(one_hot_pair)\n",
    "        \n",
    "    one_hot_array = np.array(one_hot_bits, dtype=dtype)\n",
    "    \n",
    "    return one_hot_array\n",
    "\n",
    "\n",
    "# Coupling coefficients\n",
    "\n",
    "def get_coupling_coefficients(coupling_matrix):\n",
    "    \n",
    "    '''Convert matrix of Coupling coefficients to dictionary of weights'''\n",
    "    \n",
    "    coupling_coefficients = dict()\n",
    "    \n",
    "    for row_index, row in enumerate(coupling_matrix):\n",
    "        \n",
    "        # print(row[row_index:])\n",
    "        \n",
    "        for column_index, cell in enumerate(row[row_index:], row_index):\n",
    "            \n",
    "            coupling_coefficients[row_index, column_index] = cell\n",
    "            \n",
    "    return coupling_coefficients\n",
    "\n",
    "\n",
    "# Correct One Hot\n",
    "\n",
    "def is_correct_one_hot(record, one_hot_scheme=None):\n",
    "    \n",
    "    sample = record.sample\n",
    "    \n",
    "    fields_spins = np.array(list(sample.values()))\n",
    "    \n",
    "    fields_one_hot = spin_to_binary(fields_spins)\n",
    "    \n",
    "    if one_hot_scheme is None:\n",
    "        \n",
    "        one_hot_scheme = {0: (0, 1), 1: (1, 0)}\n",
    "        \n",
    "    for one_hot_pair in fields_one_hot.reshape(-1, 2):\n",
    "        \n",
    "        one_hot_tuple = tuple(one_hot_pair)\n",
    "        \n",
    "        if one_hot_tuple not in one_hot_scheme.values():            \n",
    "            \n",
    "            return False\n",
    "    \n",
    "    return True\n",
    "\n",
    "\n",
    "# Sample to Value\n",
    "\n",
    "def sample_to_value(sample):    \n",
    "\n",
    "    fields_spins = np.array(list(sample.values()))\n",
    "\n",
    "    fields_one_hot = spin_to_binary(fields_spins)\n",
    "\n",
    "    fields_bits = one_hot_to_integer(fields_one_hot)\n",
    "\n",
    "    fixed_part = fields_bits[FIXED_BITS_COUNT:]\n",
    "\n",
    "    value = decode_from_bits(fixed_part)\n",
    "    \n",
    "    # print(\"fields_spins:\", fields_spins)\n",
    "    # print(\"fields_one_hot:\", fields_one_hot, fields_one_hot.shape)\n",
    "    # print(\"fields_bits:\", fields_bits, fields_bits.shape)\n",
    "    # print(\"fixed_part:\", fixed_part, fixed_part.shape)\n",
    "\n",
    "    return value"
   ]
  },
  {
   "cell_type": "code",
   "execution_count": 3,
   "id": "8c386ddb-8c09-4502-afd4-44f022e62eb4",
   "metadata": {},
   "outputs": [],
   "source": [
    "# 1) Input parameters\n",
    "\n",
    "EXAMPLE_INITIAL_STOCK_PRICE = 105\n",
    "EXAMPLE_VOLATILITY = 0.3\n",
    "\n",
    "FIXED_BITS_COUNT = 32 + 8\n",
    "VARIABLE_BITS_COUNT = 32\n",
    "\n",
    "PENALTY_VALUE = 1.9\n",
    "\n",
    "MAXIMIZE = True\n",
    "\n",
    "\n",
    "fixed_one_hot_bits_count = FIXED_BITS_COUNT * 2\n",
    "variable_one_hot_bits_count = VARIABLE_BITS_COUNT * 2\n",
    "\n",
    "total_one_hot_bits_count = fixed_one_hot_bits_count + variable_one_hot_bits_count\n",
    "\n",
    "example_volatility_percent = EXAMPLE_VOLATILITY * 100"
   ]
  },
  {
   "cell_type": "code",
   "execution_count": 4,
   "id": "cd80a3c1-c1c7-4c2c-9061-117e7741eb91",
   "metadata": {},
   "outputs": [
    {
     "data": {
      "text/plain": [
       "-0.29051444"
      ]
     },
     "execution_count": 4,
     "metadata": {},
     "output_type": "execute_result"
    }
   ],
   "source": [
    "# 2) Load weights\n",
    "\n",
    "MODEL_PATH = 'saved_models/alex_no_linear_model.pt'\n",
    "\n",
    "state_dict = torch.load(MODEL_PATH)\n",
    "\n",
    "loaded_factorization_matrix = state_dict['embedding.embedding.weight'].numpy().squeeze()\n",
    "\n",
    "loaded_factorization_matrix.shape\n",
    "\n",
    "loaded_factorization_matrix.min()"
   ]
  },
  {
   "cell_type": "code",
   "execution_count": 5,
   "id": "76f94930-f315-4005-a90c-97c2bcf225ec",
   "metadata": {
    "tags": []
   },
   "outputs": [
    {
     "name": "stdout",
     "output_type": "stream",
     "text": [
      "example_input:\n",
      " [0 1 0 0 0 0 1 0 1 1 0 1 0 0 1 0 0 0 0 0 0 0 0 0 0 0 0 0 0 0 0 0 0 0 0 1 1\n",
      " 1 1 0]\n",
      "one_hot_fields:\n",
      " [0 1 1 0 0 1 0 1 0 1 0 1 1 0 0 1 1 0 1 0 0 1 1 0 0 1 0 1 1 0 0 1 0 1 0 1 0\n",
      " 1 0 1 0 1 0 1 0 1 0 1 0 1 0 1 0 1 0 1 0 1 0 1 0 1 0 1 0 1 0 1 0 1 1 0 1 0\n",
      " 1 0 1 0 0 1]\n",
      "example_input_penalty_vector:\n",
      " [ 1.9 -1.9 -1.9  1.9  1.9 -1.9  1.9 -1.9  1.9 -1.9  1.9 -1.9 -1.9  1.9\n",
      "  1.9 -1.9 -1.9  1.9 -1.9  1.9  1.9 -1.9 -1.9  1.9  1.9 -1.9  1.9 -1.9\n",
      " -1.9  1.9  1.9 -1.9  1.9 -1.9  1.9 -1.9  1.9 -1.9  1.9 -1.9  1.9 -1.9\n",
      "  1.9 -1.9  1.9 -1.9  1.9 -1.9  1.9 -1.9  1.9 -1.9  1.9 -1.9  1.9 -1.9\n",
      "  1.9 -1.9  1.9 -1.9  1.9 -1.9  1.9 -1.9  1.9 -1.9  1.9 -1.9  1.9 -1.9\n",
      " -1.9  1.9 -1.9  1.9 -1.9  1.9 -1.9  1.9  1.9 -1.9  0.   0.   0.   0.\n",
      "  0.   0.   0.   0.   0.   0.   0.   0.   0.   0.   0.   0.   0.   0.\n",
      "  0.   0.   0.   0.   0.   0.   0.   0.   0.   0.   0.   0.   0.   0.\n",
      "  0.   0.   0.   0.   0.   0.   0.   0.   0.   0.   0.   0.   0.   0.\n",
      "  0.   0.   0.   0.   0.   0.   0.   0.   0.   0.   0.   0.   0.   0.\n",
      "  0.   0.   0.   0. ]\n",
      "penalty_matrix part:\n",
      " [[ 1.9  0.   0.  ...  0.   0.   0. ]\n",
      " [ 0.  -1.9  0.  ...  0.   0.   0. ]\n",
      " [ 0.   0.  -1.9 ...  0.   0.   0. ]\n",
      " ...\n",
      " [ 0.   0.   0.  ... -1.9  0.   0. ]\n",
      " [ 0.   0.   0.  ...  0.  -1.9  3.8]\n",
      " [ 0.   0.   0.  ...  0.   3.8 -1.9]]\n"
     ]
    }
   ],
   "source": [
    "# 3) Penalty matrix\n",
    "\n",
    "    \n",
    "# Example input penalty\n",
    "\n",
    "encoded_initial_stock_price = encode_to_bits(EXAMPLE_INITIAL_STOCK_PRICE, \n",
    "                                             dtype='>f', bits_count=32)\n",
    "\n",
    "encoded_volatility = encode_to_bits(example_volatility_percent, \n",
    "                                    dtype='i1', bits_count=8)\n",
    "\n",
    "example_input = np.hstack((encoded_initial_stock_price, encoded_volatility)).squeeze()\n",
    "\n",
    "one_hot_fields = bits_to_one_hot(example_input)\n",
    "\n",
    "fixed_part_vector = -1 * binary_to_spin(one_hot_fields) * PENALTY_VALUE\n",
    "\n",
    "variable_part_vector = np.zeros(variable_one_hot_bits_count, dtype=int)\n",
    "\n",
    "example_input_penalty_vector = np.concatenate((fixed_part_vector, variable_part_vector))\n",
    "\n",
    "penalty_matrix = np.diag(example_input_penalty_vector)\n",
    "\n",
    "\n",
    "# One hot penalty\n",
    "\n",
    "one_hot_pair_penalty = [[-PENALTY_VALUE, 2 * PENALTY_VALUE],\n",
    "                        [2 * PENALTY_VALUE, -PENALTY_VALUE]]\n",
    "\n",
    "one_hot_pairs_count = VARIABLE_BITS_COUNT // 2\n",
    "\n",
    "for offset in range(fixed_one_hot_bits_count, total_one_hot_bits_count, 2):  \n",
    "    \n",
    "    penalty_matrix[offset : offset + 2,\n",
    "                        offset : offset + 2] += one_hot_pair_penalty\n",
    "\n",
    "# Printouts\n",
    "\n",
    "print(\"example_input:\\n\", example_input)\n",
    "print(\"one_hot_fields:\\n\", one_hot_fields)\n",
    "print(\"example_input_penalty_vector:\\n\", example_input_penalty_vector)\n",
    "print(\"penalty_matrix part:\\n\", penalty_matrix[: , :])"
   ]
  },
  {
   "cell_type": "code",
   "execution_count": 6,
   "id": "b097abb0-20c1-4445-b181-10b41c498185",
   "metadata": {},
   "outputs": [
    {
     "name": "stdout",
     "output_type": "stream",
     "text": [
      "factorization_matrix:\n",
      " (144, 144)\n",
      "coupling_matrix:\n",
      " (144, 144)\n",
      "penalized_coupling_matrix part:\n",
      " [[-2.75750604 -0.06120287 -0.15436158]\n",
      " [-0.06120287 -3.00893607  3.96995297]\n",
      " [-0.15436158  3.96995297 -2.7878147 ]]\n",
      "qubo_coefficients part:\n",
      " 2, 143): 3.9699529737234114, (143, 143): -2.787814700603485}\n"
     ]
    }
   ],
   "source": [
    "# 4) QUBO\n",
    "\n",
    "factorization_matrix = loaded_factorization_matrix\n",
    "\n",
    "coupling_matrix = factorization_matrix @ factorization_matrix.T\n",
    "\n",
    "if MAXIMIZE:\n",
    "    \n",
    "    coupling_matrix = -coupling_matrix\n",
    "\n",
    "penalized_coupling_matrix = coupling_matrix + penalty_matrix\n",
    "\n",
    "qubo_coefficients = get_coupling_coefficients(penalized_coupling_matrix) \n",
    "\n",
    "sampler = SimulatedAnnealingSampler()\n",
    "\n",
    "\n",
    "# Printouts\n",
    "\n",
    "print(\"factorization_matrix:\\n\", factorization_matrix.shape)\n",
    "print(\"coupling_matrix:\\n\", coupling_matrix.shape)\n",
    "print(\"penalized_coupling_matrix part:\\n\", penalized_coupling_matrix[-3:, -3:])\n",
    "print(\"qubo_coefficients part:\\n\", qubo_coefficients.__repr__()[-60:])"
   ]
  },
  {
   "cell_type": "code",
   "execution_count": 7,
   "id": "99403ef2-511d-41ba-90ed-ed16bff78d0b",
   "metadata": {},
   "outputs": [
    {
     "name": "stdout",
     "output_type": "stream",
     "text": [
      "results: 1000\n",
      "aggregated_results: 679\n",
      "filtered_results: 2\n"
     ]
    }
   ],
   "source": [
    "# 5) Run\n",
    "\n",
    "shots_count = 1000\n",
    "\n",
    "results = sampler.sample_qubo(Q=qubo_coefficients, num_reads=shots_count)\n",
    "\n",
    "aggregated_results = results.aggregate()\n",
    "\n",
    "filtered_results = aggregated_results.filter(pred=is_correct_one_hot)\n",
    "\n",
    "print(\"results:\", len(results))\n",
    "print(\"aggregated_results:\", len(aggregated_results))\n",
    "print(\"filtered_results:\", len(filtered_results))"
   ]
  },
  {
   "cell_type": "code",
   "execution_count": 8,
   "id": "78944f2f-b034-40cc-a7df-8a718095000c",
   "metadata": {},
   "outputs": [
    {
     "name": "stdout",
     "output_type": "stream",
     "text": [
      "     0  1  2  3  4  5  6  7  8  9 10 11 12 13 14 15 16 17 18 19 20 21 22 23 24 25 ... 143      energy num_oc.\n",
      "85   0  1  1  0  0  1  0  1  0  1  0  1  1  0  1  1  1  0  1  0  1  1  1  0  0  1 ...   0 -180.972615       1\n",
      "488  0  1  1  0  0  1  0  1  0  1  0  1  1  0  1  1  1  0  1  0  1  1  1  0  0  1 ...   0 -180.972615       1\n",
      "735  0  1  1  0  0  1  0  1  0  1  0  1  1  0  1  1  1  0  1  0  1  1  1  0  0  1 ...   0 -180.972615       1\n",
      "171  0  1  1  0  0  1  0  1  0  1  0  1  1  0  1  1  1  0  1  0  0  1  1  0  0  1 ...   0 -180.945375       1\n",
      "378  0  1  1  0  0  1  0  1  0  1  0  1  1  0  1  1  1  0  1  0  0  1  1  0  0  1 ...   0 -180.945375       1\n",
      "923  0  1  1  0  0  1  0  1  0  1  0  1  1  0  1  1  1  0  1  0  0  1  1  0  0  1 ...   0 -180.945375       1\n",
      "992  0  1  1  0  0  1  0  1  0  1  0  1  1  0  1  1  1  0  1  0  0  1  1  0  0  1 ...   0 -180.945375       1\n",
      "451  0  1  1  0  0  1  0  1  0  1  0  1  1  0  1  1  1  0  1  0  0  1  1  0  0  1 ...   0 -180.892274       1\n",
      "...\n",
      "344  0  1  1  0  0  1  0  1  0  1  0  1  1  0  0  1  1  0  1  0  0  1  1  0  0  1 ...   0 -176.233668       1\n",
      "['BINARY', 1000 rows, 1000 samples, 144 variables]\n"
     ]
    }
   ],
   "source": [
    "print(results)"
   ]
  },
  {
   "cell_type": "code",
   "execution_count": 9,
   "id": "c1bc1806-e37b-496c-bb3f-2ef98a1f91c8",
   "metadata": {},
   "outputs": [
    {
     "name": "stdout",
     "output_type": "stream",
     "text": [
      "Example initial stock price: 105\n",
      "Example volatility: 0.3\n",
      "example_volatility_percent: 30.0\n",
      "Task: Maximize\n",
      "Top asset price: [-0.00282613]\n",
      "Top asset prices: [-2.82613304e-03 -2.46180525e+38]\n"
     ]
    }
   ],
   "source": [
    "# 5) Top Option Prices\n",
    "\n",
    "top_record = filtered_results.first\n",
    "\n",
    "top_sample = top_record.sample\n",
    "\n",
    "top_asset_price = sample_to_value(top_sample)\n",
    "\n",
    "\n",
    "top_samples = filtered_results.samples(n=10)\n",
    "\n",
    "top_asset_prices = []\n",
    "\n",
    "for top_sample in top_samples:\n",
    "    \n",
    "    top_value = sample_to_value(top_sample)\n",
    "    \n",
    "    top_asset_prices.append(top_value.item())\n",
    "    \n",
    "top_asset_prices = np.array(top_asset_prices)\n",
    "\n",
    "\n",
    "print(\"Example initial stock price:\", EXAMPLE_INITIAL_STOCK_PRICE)\n",
    "print(\"Example volatility:\", EXAMPLE_VOLATILITY)\n",
    "print(\"example_volatility_percent:\", example_volatility_percent)\n",
    "print(\"Task:\", ['Minimize', 'Maximize'][MAXIMIZE])\n",
    "print(\"Top asset price:\", top_asset_price)\n",
    "print(\"Top asset prices:\", top_asset_prices)"
   ]
  },
  {
   "cell_type": "markdown",
   "id": "cebbed3b-0636-4ffe-abe9-cfa5dd239cbc",
   "metadata": {
    "tags": []
   },
   "source": [
    "### 12) Alex - QUBO Energies"
   ]
  },
  {
   "cell_type": "code",
   "execution_count": 10,
   "id": "bd98db4c-6c83-4691-86fd-07ef58d2e09a",
   "metadata": {},
   "outputs": [],
   "source": [
    "DATASET_PATH = 'simulated_prices/alex_dataset.csv'\n",
    "\n",
    "PENALIZED = False\n",
    "\n",
    "\n",
    "data = pd.read_csv(DATASET_PATH)\n",
    "\n",
    "encoded_initial_asset_prices = encode_to_bits(data.initial_asset_price, \n",
    "                                              dtype='>f', bits_count=32)\n",
    "\n",
    "volatility_percents = data.volatility * 100\n",
    "\n",
    "encoded_volatility_percents = encode_to_bits(volatility_percents,\n",
    "                                             dtype='i1', bits_count=8)\n",
    "\n",
    "encoded_asset_prices = encode_to_bits(data.asset_price, \n",
    "                                      dtype='>f', bits_count=32)\n",
    "\n",
    "encoded_dataset_array = np.hstack((encoded_initial_asset_prices,\n",
    "                                   encoded_volatility_percents,\n",
    "                                   encoded_asset_prices))\n",
    "\n",
    "encoded_dataset_array.shape\n",
    "\n",
    "\n",
    "energies = []\n",
    "\n",
    "for row_bits in encoded_dataset_array:  \n",
    "    \n",
    "    one_hot_row = bits_to_one_hot(row_bits)\n",
    "\n",
    "    sample = dict(enumerate(one_hot_row))\n",
    "    \n",
    "    if PENALIZED:\n",
    "        \n",
    "        energy = dimod.utilities.qubo_energy(sample=sample, Q=qubo_coefficients)        \n",
    "    \n",
    "    else:\n",
    "\n",
    "        qubo_coefficients = get_coupling_coefficients(coupling_matrix) \n",
    "\n",
    "        energy = dimod.utilities.qubo_energy(sample=sample, Q=qubo_coefficients)\n",
    "    \n",
    "    energies.append(energy)"
   ]
  },
  {
   "cell_type": "code",
   "execution_count": 11,
   "id": "003fbd28-a43c-4fd4-a00d-f1156bac8cd5",
   "metadata": {},
   "outputs": [
    {
     "data": {
      "text/plain": [
       "0      0.000000\n",
       "1      0.000000\n",
       "2      0.000000\n",
       "3      0.000001\n",
       "4      0.000000\n",
       "         ...   \n",
       "995    0.000000\n",
       "996    0.000000\n",
       "997    0.000000\n",
       "998    0.000000\n",
       "999    0.000000\n",
       "Name: Targets, Length: 1000, dtype: float64"
      ]
     },
     "execution_count": 11,
     "metadata": {},
     "output_type": "execute_result"
    }
   ],
   "source": [
    "# Import predictions\n",
    "\n",
    "PREDICTIONS_PATH = 'predictions/alex_no_linear_predictions.xlsx'\n",
    "\n",
    "predictions_dataframe = pd.read_excel(PREDICTIONS_PATH)\n",
    "\n",
    "targets = predictions_dataframe['Targets']\n",
    "predictions = predictions_dataframe['Predictions']\n",
    "\n",
    "targets"
   ]
  },
  {
   "cell_type": "code",
   "execution_count": 12,
   "id": "18e26518-6cab-4d19-a738-f694c309f8f4",
   "metadata": {},
   "outputs": [
    {
     "data": {
      "image/png": "[encoded data removed]",
      "text/plain": [
       "<Figure size 432x288 with 1 Axes>"
      ]
     },
     "metadata": {
      "needs_background": "dark"
     },
     "output_type": "display_data"
    },
    {
     "data": {
      "image/png": "[encoded data removed]",
      "text/plain": [
       "<Figure size 432x288 with 1 Axes>"
      ]
     },
     "metadata": {
      "needs_background": "dark"
     },
     "output_type": "display_data"
    },
    {
     "data": {
      "image/png": "[encoded data removed]",
      "text/plain": [
       "<Figure size 432x288 with 1 Axes>"
      ]
     },
     "metadata": {
      "needs_background": "dark"
     },
     "output_type": "display_data"
    }
   ],
   "source": [
    "slice_size = 1000\n",
    "slices_count = len(data) // slice_size\n",
    "\n",
    "slice_indices = range(0, 1)\n",
    "\n",
    "\n",
    "for slice_index in slice_indices:\n",
    "\n",
    "    data_slice = slice(slice_index * slice_size, \n",
    "                       slice_index * slice_size + slice_size)\n",
    "\n",
    "    label = f\"Initial asset price: {data.initial_asset_price[data_slice].mean():.00f}\\n\" \\\n",
    "            f\"Volatility: {data.volatility[data_slice].mean():.02f}\"\n",
    "\n",
    "    plt.plot(data.asset_price[data_slice], data.probability[data_slice], label=label)\n",
    "\n",
    "    plt.xlabel(\"Asset price\")\n",
    "    plt.ylabel(\"Monte-Carlo Probability\")\n",
    "    plt.legend()\n",
    "    plt.show()\n",
    "    \n",
    "    plt.plot(data.asset_price[data_slice], predictions[data_slice], label=label, color='#fdb462')\n",
    "\n",
    "    plt.xlabel(\"Asset price\")\n",
    "    plt.ylabel(\"Predicited Probability\")\n",
    "    plt.legend()\n",
    "    plt.show()\n",
    "    \n",
    "    plt.plot(data.asset_price[data_slice], energies[data_slice], label=label, color='#fa8174')\n",
    "    \n",
    "    plt.gca().invert_yaxis()\n",
    "\n",
    "    plt.xlabel(\"Asset price\")\n",
    "    plt.ylabel(\"Energy\")\n",
    "    plt.legend()\n",
    "    plt.show()"
   ]
  },
  {
   "cell_type": "code",
   "execution_count": null,
   "id": "90198a1f-7b41-4eaf-ac66-2a7c0437031f",
   "metadata": {},
   "outputs": [],
   "source": []
  },
  {
   "cell_type": "markdown",
   "id": "f9bc0652-720e-40a2-84ac-c365d13bfd36",
   "metadata": {
    "jp-MarkdownHeadingCollapsed": true,
    "tags": []
   },
   "source": [
    "### 9) Alex - Ising"
   ]
  },
  {
   "cell_type": "code",
   "execution_count": 1,
   "id": "d86b5cd3-85e8-4ff1-9464-017432fb7327",
   "metadata": {},
   "outputs": [],
   "source": [
    "import numpy as np\n",
    "import pandas as pd\n",
    "import networkx as nx\n",
    "import matplotlib.pyplot as plt\n",
    "\n",
    "import torch\n",
    "\n",
    "import dimod\n",
    "from neal.sampler import SimulatedAnnealingSampler\n",
    "\n",
    "plt.style.use('dark_background')\n",
    "\n",
    "dimod.serialization.format.set_printoptions(width=110, depth=20)"
   ]
  },
  {
   "cell_type": "code",
   "execution_count": 2,
   "id": "28af722b-f87f-4317-8480-e197519c6f85",
   "metadata": {
    "tags": []
   },
   "outputs": [],
   "source": [
    "# Spin encoding\n",
    "\n",
    "def binary_to_spin(binary):    \n",
    "    return binary * 2 - 1\n",
    "\n",
    "def spin_to_binary(spin):    \n",
    "    return (spin + 1) // 2\n",
    "\n",
    "\n",
    "# Bit encoding\n",
    "\n",
    "def encode_to_bits(inputs, dtype='>f', bits_count=32):\n",
    "\n",
    "    number_bytes = np.array([inputs], dtype=dtype)\n",
    "\n",
    "    integer_view = number_bytes.view('uint8')\n",
    "\n",
    "    bits_vector = np.unpackbits(integer_view)\n",
    "\n",
    "    bits = bits_vector.reshape(-1, bits_count)\n",
    "    \n",
    "    # print(\"number_bytes:\", number_bytes)\n",
    "    # print(\"integer_view:\", integer_view)\n",
    "    # print(\"bits_vector:\", bits_vector)\n",
    "    # print(\"bits:\", bits)    \n",
    "    \n",
    "    return bits\n",
    "\n",
    "def decode_from_bits(bits, dtype='>f', bitorder='big'):\n",
    "    \n",
    "    bits_vector = bits.reshape(-1)\n",
    "    \n",
    "    integer_view = np.packbits(bits_vector, bitorder=bitorder)\n",
    "\n",
    "    output = integer_view.view(dtype)\n",
    "\n",
    "    # print(\"bits:\", bits)  \n",
    "    # print(\"bits_vector:\", bits_vector)\n",
    "    # print(\"integer_view:\", integer_view)\n",
    "    # print(\"output:\", output)\n",
    "    \n",
    "    return output\n",
    "\n",
    "\n",
    "# One Hot encoding\n",
    "\n",
    "def integer_to_one_hot(integer, dtype='>i1', one_hot_scheme=None): \n",
    "    \n",
    "    if one_hot_scheme is None:\n",
    "        \n",
    "        one_hot_scheme = {0: (0, 1), 1: (1, 0)}\n",
    "    \n",
    "    number_bytes = np.array([integer], dtype=dtype)\n",
    "\n",
    "    integer_view = number_bytes.view('uint8')\n",
    "    \n",
    "    bits = np.unpackbits(integer_view)\n",
    "    \n",
    "    one_hot_bits = []\n",
    "    \n",
    "    for bit in bits:\n",
    "        \n",
    "        one_hot_pair = one_hot_scheme[bit]\n",
    "        \n",
    "        one_hot_bits.extend(one_hot_pair)\n",
    "        \n",
    "    one_hot_array = np.array(one_hot_bits, dtype=dtype)\n",
    "    \n",
    "    return one_hot_array\n",
    "\n",
    "\n",
    "def one_hot_to_integer(one_hot_bits, dtype='>i1', one_hot_scheme=None):    \n",
    "    \n",
    "    if one_hot_scheme is None:\n",
    "        \n",
    "        one_hot_scheme = {0: (0, 1), 1: (1, 0)}\n",
    "        \n",
    "    decoding_scheme = {value: key for key, value in one_hot_scheme.items()}\n",
    "    \n",
    "    bits = []\n",
    "        \n",
    "    for one_hot_pair in one_hot_bits.reshape(-1, 2):\n",
    "        \n",
    "        bit = decoding_scheme[tuple(one_hot_pair)]\n",
    "        \n",
    "        bits.append(bit)\n",
    "        \n",
    "    bits_array = np.array(bits, dtype=dtype)    \n",
    "   \n",
    "    return bits_array\n",
    "\n",
    "\n",
    "def bits_to_one_hot(bits, dtype='>i1', one_hot_scheme=None): \n",
    "    \n",
    "    if one_hot_scheme is None:\n",
    "        \n",
    "        one_hot_scheme = {0: (0, 1), 1: (1, 0)}\n",
    "    \n",
    "    one_hot_bits = []\n",
    "    \n",
    "    for bit in bits:\n",
    "        \n",
    "        one_hot_pair = one_hot_scheme[bit]\n",
    "        \n",
    "        one_hot_bits.extend(one_hot_pair)\n",
    "        \n",
    "    one_hot_array = np.array(one_hot_bits, dtype=dtype)\n",
    "    \n",
    "    return one_hot_array\n",
    "\n",
    "\n",
    "# Coupling coefficients\n",
    "\n",
    "def get_coupling_coefficients(coupling_matrix):\n",
    "    \n",
    "    '''Convert matrix of Coupling coefficients to dictionary of weights'''\n",
    "    \n",
    "    coupling_coefficients = dict()\n",
    "    \n",
    "    for row_index, row in enumerate(coupling_matrix):\n",
    "        \n",
    "        # print(row[row_index:])\n",
    "        \n",
    "        for column_index, cell in enumerate(row[row_index:], row_index):\n",
    "            \n",
    "            coupling_coefficients[row_index, column_index] = cell\n",
    "            \n",
    "    return coupling_coefficients\n",
    "\n",
    "\n",
    "# Correct One Hot\n",
    "\n",
    "def is_correct_one_hot(record, one_hot_scheme=None):\n",
    "    \n",
    "    sample = record.sample\n",
    "    \n",
    "    fields_spins = np.array(list(sample.values()))\n",
    "    \n",
    "    fields_one_hot = spin_to_binary(fields_spins)\n",
    "    \n",
    "    if one_hot_scheme is None:\n",
    "        \n",
    "        one_hot_scheme = {0: (0, 1), 1: (1, 0)}\n",
    "        \n",
    "    for one_hot_pair in fields_one_hot.reshape(-1, 2):\n",
    "        \n",
    "        one_hot_tuple = tuple(one_hot_pair)\n",
    "        \n",
    "        if one_hot_tuple not in one_hot_scheme.values():            \n",
    "            \n",
    "            return False\n",
    "    \n",
    "    return True\n",
    "\n",
    "\n",
    "# Sample to Value\n",
    "\n",
    "def sample_to_value(sample):    \n",
    "\n",
    "    fields_spins = np.array(list(sample.values()))\n",
    "\n",
    "    fields_one_hot = spin_to_binary(fields_spins)\n",
    "\n",
    "    fields_bits = one_hot_to_integer(fields_one_hot)\n",
    "\n",
    "    fixed_part = fields_bits[FIXED_BITS_COUNT:]\n",
    "\n",
    "    value = decode_from_bits(fixed_part)\n",
    "    \n",
    "    # print(\"fields_spins:\", fields_spins)\n",
    "    # print(\"fields_one_hot:\", fields_one_hot, fields_one_hot.shape)\n",
    "    # print(\"fields_bits:\", fields_bits, fields_bits.shape)\n",
    "    # print(\"fixed_part:\", fixed_part, fixed_part.shape)\n",
    "\n",
    "    return value"
   ]
  },
  {
   "cell_type": "code",
   "execution_count": 3,
   "id": "a6a7ffd1-0258-47b6-b959-7b4864645d3f",
   "metadata": {},
   "outputs": [],
   "source": [
    "# 1) Input parameters\n",
    "\n",
    "EXAMPLE_INITIAL_STOCK_PRICE = 105\n",
    "EXAMPLE_VOLATILITY = 0.3\n",
    "\n",
    "FIXED_BITS_COUNT = 32 + 8\n",
    "VARIABLE_BITS_COUNT = 32\n",
    "\n",
    "PENALTY_VALUE = 1.2\n",
    "\n",
    "MAXIMIZE = True\n",
    "\n",
    "\n",
    "fixed_one_hot_bits_count = FIXED_BITS_COUNT * 2\n",
    "variable_one_hot_bits_count = VARIABLE_BITS_COUNT * 2\n",
    "\n",
    "total_one_hot_bits_count = fixed_one_hot_bits_count + variable_one_hot_bits_count\n",
    "\n",
    "example_volatility_percent = EXAMPLE_VOLATILITY * 100"
   ]
  },
  {
   "cell_type": "code",
   "execution_count": 4,
   "id": "78b21872-fac9-4850-9ea9-f588be734861",
   "metadata": {},
   "outputs": [
    {
     "data": {
      "text/plain": [
       "((144, 144), (144,), ())"
      ]
     },
     "execution_count": 4,
     "metadata": {},
     "output_type": "execute_result"
    }
   ],
   "source": [
    "# 2) Load weights\n",
    "\n",
    "MODEL_PATH = 'saved_models/alex_model.pt'\n",
    "\n",
    "state_dict = torch.load(MODEL_PATH)\n",
    "\n",
    "loaded_factorization_matrix = state_dict['embedding.embedding.weight'].numpy().squeeze()\n",
    "loaded_component_weights = state_dict['linear.fc.weight'].numpy().squeeze()\n",
    "loaded_global_bias = state_dict['linear.bias'].numpy().squeeze()\n",
    "\n",
    "loaded_factorization_matrix.shape, loaded_component_weights.shape, loaded_global_bias.shape"
   ]
  },
  {
   "cell_type": "code",
   "execution_count": 5,
   "id": "6efe8e59-91a3-4793-9eac-629c885baed3",
   "metadata": {},
   "outputs": [
    {
     "name": "stdout",
     "output_type": "stream",
     "text": [
      "penalization_matrix part:\n",
      " [[-1  2  0  0]\n",
      " [ 2 -1  0  0]\n",
      " [ 0  0 -1  2]\n",
      " [ 0  0  2 -1]]\n"
     ]
    }
   ],
   "source": [
    "# 3) Variable fields penalty\n",
    "\n",
    "one_hot_pair_penalty = [[-PENALTY_VALUE, 2 * PENALTY_VALUE],\n",
    "                        [2 * PENALTY_VALUE, -PENALTY_VALUE]]\n",
    "\n",
    "penalization_matrix = np.zeros((total_one_hot_bits_count, total_one_hot_bits_count), dtype=int)\n",
    "\n",
    "one_hot_pairs_count = VARIABLE_BITS_COUNT // 2\n",
    "\n",
    "for offset in range(fixed_one_hot_bits_count, total_one_hot_bits_count, 2):  \n",
    "    \n",
    "    penalization_matrix[offset : offset + 2,\n",
    "                        offset : offset + 2] = one_hot_pair_penalty\n",
    "    \n",
    "print(\"penalization_matrix part:\\n\", penalization_matrix[-4:, -4:])"
   ]
  },
  {
   "cell_type": "code",
   "execution_count": 6,
   "id": "4a5882e2-ae19-452a-a8f5-9e22c04560b8",
   "metadata": {},
   "outputs": [
    {
     "name": "stdout",
     "output_type": "stream",
     "text": [
      "example_input:\n",
      " [0 1 0 0 0 0 1 0 1 1 0 1 0 0 1 0 0 0 0 0 0 0 0 0 0 0 0 0 0 0 0 0 0 0 0 1 1\n",
      " 1 1 0]\n",
      "one_hot_fields:\n",
      " [0 1 1 0 0 1 0 1 0 1 0 1 1 0 0 1 1 0 1 0 0 1 1 0 0 1 0 1 1 0 0 1 0 1 0 1 0\n",
      " 1 0 1 0 1 0 1 0 1 0 1 0 1 0 1 0 1 0 1 0 1 0 1 0 1 0 1 0 1 0 1 0 1 1 0 1 0\n",
      " 1 0 1 0 0 1]\n",
      "penalization_vector:\n",
      " [ 1.2 -1.2 -1.2  1.2  1.2 -1.2  1.2 -1.2  1.2 -1.2  1.2 -1.2 -1.2  1.2\n",
      "  1.2 -1.2 -1.2  1.2 -1.2  1.2  1.2 -1.2 -1.2  1.2  1.2 -1.2  1.2 -1.2\n",
      " -1.2  1.2  1.2 -1.2  1.2 -1.2  1.2 -1.2  1.2 -1.2  1.2 -1.2  1.2 -1.2\n",
      "  1.2 -1.2  1.2 -1.2  1.2 -1.2  1.2 -1.2  1.2 -1.2  1.2 -1.2  1.2 -1.2\n",
      "  1.2 -1.2  1.2 -1.2  1.2 -1.2  1.2 -1.2  1.2 -1.2  1.2 -1.2  1.2 -1.2\n",
      " -1.2  1.2 -1.2  1.2 -1.2  1.2 -1.2  1.2  1.2 -1.2  0.   0.   0.   0.\n",
      "  0.   0.   0.   0.   0.   0.   0.   0.   0.   0.   0.   0.   0.   0.\n",
      "  0.   0.   0.   0.   0.   0.   0.   0.   0.   0.   0.   0.   0.   0.\n",
      "  0.   0.   0.   0.   0.   0.   0.   0.   0.   0.   0.   0.   0.   0.\n",
      "  0.   0.   0.   0.   0.   0.   0.   0.   0.   0.   0.   0.   0.   0.\n",
      "  0.   0.   0.   0. ]\n"
     ]
    }
   ],
   "source": [
    "# 4) Fixed fields penalty\n",
    "\n",
    "encoded_initial_stock_price = encode_to_bits(EXAMPLE_INITIAL_STOCK_PRICE, \n",
    "                                             dtype='>f', bits_count=32)\n",
    "\n",
    "encoded_volatility = encode_to_bits(example_volatility_percent, \n",
    "                                    dtype='i1', bits_count=8)\n",
    "\n",
    "example_input = np.hstack((encoded_initial_stock_price, encoded_volatility)).squeeze()\n",
    "\n",
    "one_hot_fields = bits_to_one_hot(example_input)\n",
    "\n",
    "fixed_part_vector = -1 * binary_to_spin(one_hot_fields) * PENALTY_VALUE\n",
    "\n",
    "variable_part_vector = np.zeros(variable_one_hot_bits_count, dtype=int)\n",
    "\n",
    "penalization_vector = np.concatenate((fixed_part_vector, variable_part_vector))\n",
    "\n",
    "print(\"example_input:\\n\", example_input)\n",
    "print(\"one_hot_fields:\\n\", one_hot_fields)\n",
    "print(\"penalization_vector:\\n\", penalization_vector)"
   ]
  },
  {
   "cell_type": "code",
   "execution_count": 7,
   "id": "9888d41b-5eb4-466a-885b-5c044e46177e",
   "metadata": {},
   "outputs": [
    {
     "name": "stdout",
     "output_type": "stream",
     "text": [
      "factorization_matrix:\n",
      " (144, 144)\n",
      "coupling_matrix:\n",
      " (144, 144)\n",
      "penalized_coupling_matrix part:\n",
      " [[-2.02679992 -0.0200645   0.07133943]\n",
      " [-0.0200645  -1.93736643  1.98539879]\n",
      " [ 0.07133943  1.98539879 -1.94992298]]\n",
      "coupling_coefficients part:\n",
      " , 143): 1.9853987907990813, (143, 143): -1.9499229788780212}\n"
     ]
    }
   ],
   "source": [
    "# 5) Quadratic\n",
    "\n",
    "factorization_matrix = loaded_factorization_matrix\n",
    "\n",
    "coupling_matrix = factorization_matrix @ factorization_matrix.T\n",
    "\n",
    "if MAXIMIZE:\n",
    "    \n",
    "    coupling_matrix = -coupling_matrix\n",
    "\n",
    "penalized_coupling_matrix = coupling_matrix + penalization_matrix\n",
    "\n",
    "coupling_coefficients = get_coupling_coefficients(penalized_coupling_matrix) \n",
    "\n",
    "\n",
    "# Printouts\n",
    "\n",
    "print(\"factorization_matrix:\\n\", factorization_matrix.shape)\n",
    "print(\"coupling_matrix:\\n\", coupling_matrix.shape)\n",
    "print(\"penalized_coupling_matrix part:\\n\", penalized_coupling_matrix[-3:, -3:])\n",
    "print(\"coupling_coefficients part:\\n\", coupling_coefficients.__repr__()[-60:])"
   ]
  },
  {
   "cell_type": "code",
   "execution_count": 8,
   "id": "09162193-7b18-46fa-bcd9-6f5d7b395888",
   "metadata": {},
   "outputs": [
    {
     "name": "stdout",
     "output_type": "stream",
     "text": [
      "component_weights.shape:\n",
      " (144,)\n",
      "penalization_vector:\n",
      " [ 1.2 -1.2 -1.2  1.2  1.2 -1.2  1.2 -1.2  1.2 -1.2  1.2 -1.2 -1.2  1.2\n",
      "  1.2 -1.2 -1.2  1.2 -1.2  1.2  1.2 -1.2 -1.2  1.2  1.2 -1.2  1.2 -1.2\n",
      " -1.2  1.2  1.2 -1.2  1.2 -1.2  1.2 -1.2  1.2 -1.2  1.2 -1.2  1.2 -1.2\n",
      "  1.2 -1.2  1.2 -1.2  1.2 -1.2  1.2 -1.2  1.2 -1.2  1.2 -1.2  1.2 -1.2\n",
      "  1.2 -1.2  1.2 -1.2  1.2 -1.2  1.2 -1.2  1.2 -1.2  1.2 -1.2  1.2 -1.2\n",
      " -1.2  1.2 -1.2  1.2 -1.2  1.2 -1.2  1.2  1.2 -1.2  0.   0.   0.   0.\n",
      "  0.   0.   0.   0.   0.   0.   0.   0.   0.   0.   0.   0.   0.   0.\n",
      "  0.   0.   0.   0.   0.   0.   0.   0.   0.   0.   0.   0.   0.   0.\n",
      "  0.   0.   0.   0.   0.   0.   0.   0.   0.   0.   0.   0.   0.   0.\n",
      "  0.   0.   0.   0.   0.   0.   0.   0.   0.   0.   0.   0.   0.   0.\n",
      "  0.   0.   0.   0. ]\n",
      "penalized_component_weights.shape:\n",
      " (144,)\n"
     ]
    }
   ],
   "source": [
    "# 6) Linear\n",
    "\n",
    "component_weights = loaded_component_weights\n",
    "\n",
    "if MAXIMIZE:\n",
    "    \n",
    "    component_weights = -component_weights\n",
    "\n",
    "penalized_component_weights = component_weights + penalization_vector\n",
    "\n",
    "component_coefficients = dict(enumerate(penalized_component_weights))\n",
    "\n",
    "print(\"component_weights.shape:\\n\", component_weights.shape)\n",
    "print(\"penalization_vector:\\n\", penalization_vector)\n",
    "print(\"penalized_component_weights.shape:\\n\", penalized_component_weights.shape)"
   ]
  },
  {
   "cell_type": "code",
   "execution_count": 9,
   "id": "70944af5-7852-461a-aa87-c92bcae9c343",
   "metadata": {},
   "outputs": [
    {
     "name": "stdout",
     "output_type": "stream",
     "text": [
      "global_bias:\n",
      " -0.0022002105\n"
     ]
    }
   ],
   "source": [
    "# 7) Bias\n",
    "\n",
    "global_bias = loaded_global_bias\n",
    "\n",
    "if MAXIMIZE:\n",
    "    \n",
    "    global_bias = -global_bias\n",
    "    \n",
    "print(\"global_bias:\\n\", global_bias)"
   ]
  },
  {
   "cell_type": "code",
   "execution_count": 10,
   "id": "f1f14818-3a98-4d42-8af6-4cf6501c7c98",
   "metadata": {},
   "outputs": [],
   "source": [
    "# 8) BQM  \n",
    "\n",
    "quadratic = coupling_coefficients\n",
    "\n",
    "linear = component_coefficients\n",
    "\n",
    "offset = global_bias\n",
    "\n",
    "variable_type = dimod.SPIN\n",
    "\n",
    "model = dimod.BinaryQuadraticModel(linear, quadratic, offset, variable_type)\n",
    "\n",
    "sampler = SimulatedAnnealingSampler()\n",
    "\n",
    "# sampler = dimod.ExactSolver()\n",
    "\n",
    "# qubo = dimod.utilities.ising_to_qubo(linear, quadratic, offset)"
   ]
  },
  {
   "cell_type": "code",
   "execution_count": 11,
   "id": "d7ad47c2-ae16-4a58-83e8-e6843d145fab",
   "metadata": {},
   "outputs": [
    {
     "name": "stdout",
     "output_type": "stream",
     "text": [
      "results: 10000\n",
      "aggregated_results: 3464\n",
      "filtered_results: 26\n"
     ]
    }
   ],
   "source": [
    "# 9) Run\n",
    "\n",
    "shots_count = 10000\n",
    "\n",
    "results = sampler.sample(model, num_reads=shots_count)\n",
    "\n",
    "aggregated_results = results.aggregate()\n",
    "\n",
    "\n",
    "# 10) Results\n",
    "\n",
    "filtered_results = aggregated_results.filter(pred=is_correct_one_hot)\n",
    "\n",
    "print(\"results:\", len(results))\n",
    "print(\"aggregated_results:\", len(aggregated_results))\n",
    "print(\"filtered_results:\", len(filtered_results))"
   ]
  },
  {
   "cell_type": "code",
   "execution_count": 12,
   "id": "b6e28e47-75a1-4a09-aad1-3fb1d585aac8",
   "metadata": {},
   "outputs": [
    {
     "name": "stdout",
     "output_type": "stream",
     "text": [
      "Example initial stock price: 105\n",
      "Example volatility: 0.3\n",
      "example_volatility_percent: 30.0\n",
      "Task: Maximize\n",
      "Top asset price: [2.461694e+09]\n",
      "Top asset prices: [2.46169395e+09 7.23427134e-30 3.10709491e-20 7.24659730e-30\n",
      " 7.23426909e-30 3.12827074e-20 3.11239016e-20 7.22810837e-30\n",
      " 2.46588928e+09 4.52141959e-31]\n"
     ]
    }
   ],
   "source": [
    "# 11) Top Option Prices\n",
    "\n",
    "top_record = filtered_results.first\n",
    "\n",
    "top_sample = top_record.sample\n",
    "\n",
    "top_asset_price = sample_to_value(top_sample)\n",
    "\n",
    "\n",
    "top_samples = filtered_results.samples(n=10)\n",
    "\n",
    "top_asset_prices = []\n",
    "\n",
    "for top_sample in top_samples:\n",
    "    \n",
    "    top_value = sample_to_value(top_sample)\n",
    "    \n",
    "    top_asset_prices.append(top_value.item())\n",
    "    \n",
    "top_asset_prices = np.array(top_asset_prices)\n",
    "\n",
    "\n",
    "print(\"Example initial stock price:\", EXAMPLE_INITIAL_STOCK_PRICE)\n",
    "print(\"Example volatility:\", EXAMPLE_VOLATILITY)\n",
    "print(\"example_volatility_percent:\", example_volatility_percent)\n",
    "print(\"Task:\", ['Minimize', 'Maximize'][MAXIMIZE])\n",
    "print(\"Top asset price:\", top_asset_price)\n",
    "print(\"Top asset prices:\", top_asset_prices)"
   ]
  },
  {
   "cell_type": "code",
   "execution_count": null,
   "id": "6ba05c35-8e45-4b08-972a-3a21298c643b",
   "metadata": {},
   "outputs": [],
   "source": []
  },
  {
   "cell_type": "markdown",
   "id": "4ed2e089-a345-407e-b4fa-5a1939a433d7",
   "metadata": {
    "jp-MarkdownHeadingCollapsed": true,
    "tags": []
   },
   "source": [
    "### 10) Alex - Ising Energies"
   ]
  },
  {
   "cell_type": "code",
   "execution_count": 13,
   "id": "3cdae45a-d91d-44d6-89ec-e9ce266c487c",
   "metadata": {},
   "outputs": [],
   "source": [
    "DATASET_PATH = 'simulated_prices/alex_dataset.csv'\n",
    "\n",
    "PENALIZED = False\n",
    "\n",
    "\n",
    "data = pd.read_csv(DATASET_PATH)\n",
    "\n",
    "encoded_initial_asset_prices = encode_to_bits(data.initial_asset_price, \n",
    "                                              dtype='>f', bits_count=32)\n",
    "\n",
    "volatility_percents = data.volatility * 100\n",
    "\n",
    "encoded_volatility_percents = encode_to_bits(volatility_percents,\n",
    "                                             dtype='i1', bits_count=8)\n",
    "\n",
    "encoded_asset_prices = encode_to_bits(data.asset_price, \n",
    "                                      dtype='>f', bits_count=32)\n",
    "\n",
    "encoded_dataset_array = np.hstack((encoded_initial_asset_prices,\n",
    "                                   encoded_volatility_percents,\n",
    "                                   encoded_asset_prices))\n",
    "\n",
    "encoded_dataset_array.shape\n",
    "\n",
    "\n",
    "energies = []\n",
    "\n",
    "for row_bits in encoded_dataset_array:  \n",
    "    \n",
    "    one_hot_row = bits_to_one_hot(row_bits)\n",
    "\n",
    "    sample = dict(enumerate(one_hot_row))\n",
    "    \n",
    "    if PENALIZED:\n",
    "        \n",
    "        energy = dimod.utilities.ising_energy(sample, h=linear, J=quadratic, offset=offset)        \n",
    "    \n",
    "    else:\n",
    "        \n",
    "        component_coefficients = dict(enumerate(component_weights))\n",
    "\n",
    "        not_penalized_coupling_coefficients = get_coupling_coefficients(coupling_matrix) \n",
    "\n",
    "        energy = dimod.utilities.ising_energy(sample, \n",
    "                                              h=component_coefficients, \n",
    "                                              J=not_penalized_coupling_coefficients, \n",
    "                                              offset=offset)\n",
    "    \n",
    "    energies.append(energy)"
   ]
  },
  {
   "cell_type": "code",
   "execution_count": 15,
   "id": "35624967-dcbf-444e-9529-12e0012a39b2",
   "metadata": {},
   "outputs": [
    {
     "data": {
      "text/plain": [
       "0      0.000000\n",
       "1      0.000000\n",
       "2      0.000000\n",
       "3      0.000001\n",
       "4      0.000000\n",
       "         ...   \n",
       "995    0.000000\n",
       "996    0.000000\n",
       "997    0.000000\n",
       "998    0.000000\n",
       "999    0.000000\n",
       "Name: Targets, Length: 1000, dtype: float64"
      ]
     },
     "execution_count": 15,
     "metadata": {},
     "output_type": "execute_result"
    }
   ],
   "source": [
    "# Import predictions\n",
    "\n",
    "PREDICTIONS_PATH = 'predictions/alex_predictions.xlsx'\n",
    "\n",
    "predictions_dataframe = pd.read_excel(PREDICTIONS_PATH)\n",
    "\n",
    "targets = predictions_dataframe['Targets']\n",
    "predictions = predictions_dataframe['Predictions']\n",
    "\n",
    "targets"
   ]
  },
  {
   "cell_type": "code",
   "execution_count": 16,
   "id": "21235534-e5db-42ad-afa6-35d76b05641f",
   "metadata": {},
   "outputs": [
    {
     "data": {
      "text/plain": [
       "203"
      ]
     },
     "execution_count": 16,
     "metadata": {},
     "output_type": "execute_result"
    }
   ],
   "source": [
    "np.argmax(targets)"
   ]
  },
  {
   "cell_type": "code",
   "execution_count": 19,
   "id": "bd36a008-0cb8-43bd-9e04-464daf9833a0",
   "metadata": {},
   "outputs": [
    {
     "data": {
      "text/plain": [
       "0.005495"
      ]
     },
     "execution_count": 19,
     "metadata": {},
     "output_type": "execute_result"
    }
   ],
   "source": [
    "targets[203]"
   ]
  },
  {
   "cell_type": "code",
   "execution_count": 18,
   "id": "62d7cd20-eb20-4182-adda-d8a92f38ebd8",
   "metadata": {},
   "outputs": [
    {
     "data": {
      "text/plain": [
       "(1000,)"
      ]
     },
     "execution_count": 18,
     "metadata": {},
     "output_type": "execute_result"
    }
   ],
   "source": [
    "targets.shape"
   ]
  },
  {
   "cell_type": "code",
   "execution_count": null,
   "id": "a00a989a-cda5-457d-aa10-b1ae8d30ebf7",
   "metadata": {},
   "outputs": [],
   "source": [
    "# 101.172077"
   ]
  },
  {
   "cell_type": "code",
   "execution_count": 25,
   "id": "e508d9bd-2f5f-4b89-9ca6-1ef2e3cc9b50",
   "metadata": {},
   "outputs": [
    {
     "data": {
      "text/plain": [
       "357"
      ]
     },
     "execution_count": 25,
     "metadata": {},
     "output_type": "execute_result"
    }
   ],
   "source": [
    "np.argmax(-np.array(energies))"
   ]
  },
  {
   "cell_type": "code",
   "execution_count": 26,
   "id": "681c1788-07fb-4c9b-b556-6d83eef98ddf",
   "metadata": {},
   "outputs": [
    {
     "data": {
      "text/plain": [
       "-35.64344"
      ]
     },
     "execution_count": 26,
     "metadata": {},
     "output_type": "execute_result"
    }
   ],
   "source": [
    "energies[357]"
   ]
  },
  {
   "cell_type": "code",
   "execution_count": 27,
   "id": "47c81ad1-e3f6-4112-8b1a-85a1a4f80307",
   "metadata": {},
   "outputs": [
    {
     "data": {
      "text/plain": [
       "147.852484"
      ]
     },
     "execution_count": 27,
     "metadata": {},
     "output_type": "execute_result"
    }
   ],
   "source": [
    "data.asset_price[357]"
   ]
  },
  {
   "cell_type": "code",
   "execution_count": 28,
   "id": "5f1a50d7-6c57-455b-bc8f-5232c566b88e",
   "metadata": {},
   "outputs": [
    {
     "data": {
      "text/plain": [
       "0      0.000000\n",
       "1      0.000000\n",
       "2      0.000000\n",
       "3      0.000001\n",
       "4      0.000000\n",
       "         ...   \n",
       "995    0.000000\n",
       "996    0.000000\n",
       "997    0.000000\n",
       "998    0.000000\n",
       "999    0.000000\n",
       "Name: probability, Length: 1000, dtype: float64"
      ]
     },
     "execution_count": 28,
     "metadata": {},
     "output_type": "execute_result"
    }
   ],
   "source": [
    "data.probability[data_slice]"
   ]
  },
  {
   "cell_type": "code",
   "execution_count": 20,
   "id": "f9ae966f-000e-48ba-891e-987f92020247",
   "metadata": {},
   "outputs": [
    {
     "data": {
      "image/png": "[encoded data removed]",
      "text/plain": [
       "<Figure size 432x288 with 1 Axes>"
      ]
     },
     "metadata": {
      "needs_background": "dark"
     },
     "output_type": "display_data"
    },
    {
     "data": {
      "image/png": "[encoded data removed]",
      "text/plain": [
       "<Figure size 432x288 with 1 Axes>"
      ]
     },
     "metadata": {
      "needs_background": "dark"
     },
     "output_type": "display_data"
    },
    {
     "data": {
      "image/png": "[encoded data removed]",
      "text/plain": [
       "<Figure size 432x288 with 1 Axes>"
      ]
     },
     "metadata": {
      "needs_background": "dark"
     },
     "output_type": "display_data"
    }
   ],
   "source": [
    "slice_size = 1000\n",
    "slices_count = len(data) // slice_size\n",
    "\n",
    "slice_indices = range(0, 1)\n",
    "\n",
    "\n",
    "for slice_index in slice_indices:\n",
    "\n",
    "    data_slice = slice(slice_index * slice_size, \n",
    "                       slice_index * slice_size + slice_size)\n",
    "\n",
    "    label = f\"Initial asset price: {data.initial_asset_price[data_slice].mean():.00f}\\n\" \\\n",
    "            f\"Volatility: {data.volatility[data_slice].mean():.02f}\"\n",
    "\n",
    "    plt.plot(data.asset_price[data_slice], data.probability[data_slice], label=label)\n",
    "\n",
    "    plt.xlabel(\"Asset price\")\n",
    "    plt.ylabel(\"Monte-Carlo Probability\")\n",
    "    plt.legend()\n",
    "    plt.show()\n",
    "    \n",
    "    plt.plot(data.asset_price[data_slice], predictions[data_slice], label=label, color='#fdb462')\n",
    "\n",
    "    plt.xlabel(\"Asset price\")\n",
    "    plt.ylabel(\"Predicited Probability\")\n",
    "    plt.legend()\n",
    "    plt.show()\n",
    "    \n",
    "    plt.plot(data.asset_price[data_slice], energies[data_slice], label=label, color='#fa8174')\n",
    "    \n",
    "    plt.gca().invert_yaxis()\n",
    "\n",
    "    plt.xlabel(\"Asset price\")\n",
    "    plt.ylabel(\"Energy\")\n",
    "    plt.legend()\n",
    "    plt.show()"
   ]
  },
  {
   "cell_type": "code",
   "execution_count": null,
   "id": "b9a7fe92-2d4b-45e1-96ce-3d8874f136ac",
   "metadata": {},
   "outputs": [],
   "source": [
    "# TODO: Latent factor\n",
    "# Energy ising -> FM: mapping: literature"
   ]
  },
  {
   "cell_type": "code",
   "execution_count": 27,
   "id": "8904f880-7be5-4a29-92cd-65a5cf4aff2f",
   "metadata": {},
   "outputs": [
    {
     "data": {
      "image/png": "[encoded data removed]",
      "text/plain": [
       "<Figure size 432x288 with 1 Axes>"
      ]
     },
     "metadata": {},
     "output_type": "display_data"
    }
   ],
   "source": [
    "plt.plot(energies[-1000:], label=\"Energy\")\n",
    "\n",
    "plt.xlabel(\"Sample\")\n",
    "plt.ylabel(\"Energy\")\n",
    "plt.legend()\n",
    "plt.show()"
   ]
  },
  {
   "cell_type": "code",
   "execution_count": null,
   "id": "420348d1-6893-4cab-adcf-8029524402c8",
   "metadata": {},
   "outputs": [],
   "source": []
  }
 ],
 "metadata": {
  "kernelspec": {
   "display_name": "Python 3 (ipykernel)",
   "language": "python",
   "name": "python3"
  },
  "language_info": {
   "codemirror_mode": {
    "name": "ipython",
    "version": 3
   },
   "file_extension": ".py",
   "mimetype": "text/x-python",
   "name": "python",
   "nbconvert_exporter": "python",
   "pygments_lexer": "ipython3",
   "version": "3.8.10"
  }
 },
 "nbformat": 4,
 "nbformat_minor": 5
}
