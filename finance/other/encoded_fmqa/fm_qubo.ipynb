{
 "cells": [
  {
   "cell_type": "code",
   "execution_count": 67,
   "id": "09c0fdf2-9f6f-43fa-9236-70bc30cedc17",
   "metadata": {},
   "outputs": [],
   "source": [
    "import numpy as np\n",
    "import pandas as pd\n",
    "\n",
    "from matplotlib import pyplot as plt\n",
    "\n",
    "import sklearn.metrics\n",
    "\n",
    "import time\n",
    "import tqdm\n",
    "import torch\n",
    "\n",
    "from torch.utils.data import DataLoader\n",
    "\n",
    "%run models/models.ipynb\n",
    "\n",
    "plt.style.use('dark_background')"
   ]
  },
  {
   "cell_type": "markdown",
   "id": "25c6c243-6531-4b5f-aa45-de6f607bc686",
   "metadata": {
    "tags": []
   },
   "source": [
    "### Datasets"
   ]
  },
  {
   "cell_type": "code",
   "execution_count": 68,
   "id": "291a0c44-1531-4fe3-a174-962ae3ce7b9b",
   "metadata": {
    "jupyter": {
     "source_hidden": true
    },
    "tags": []
   },
   "outputs": [],
   "source": [
    "class AssetDataset(torch.utils.data.Dataset):\n",
    "\n",
    "    def __init__(self, dataset_path, chunk_size, dataset_size, scheme=None, normalize=False):\n",
    "        \n",
    "        # Scheme\n",
    "        \n",
    "        default_scheme = {'initial_asset_price': \n",
    "                              {'binary': True,\n",
    "                               'encoding_format': '>f', \n",
    "                               'bits_count': 32,\n",
    "                               'factor': 1,\n",
    "                               'target_column': False},\n",
    "                          'volatility': \n",
    "                              {'binary': True,\n",
    "                               'encoding_format': 'i1', \n",
    "                               'bits_count': 8,\n",
    "                               'factor': 100,\n",
    "                               'target_column': False},\n",
    "                          'asset_price':\n",
    "                              {'binary': True,\n",
    "                               'encoding_format': '>f', \n",
    "                               'bits_count': 32,\n",
    "                               'factor': 1,\n",
    "                               'target_column': False},\n",
    "                          'probability':\n",
    "                              {'binary': False,\n",
    "                               'factor': 1,\n",
    "                               'target_column': True}}                       \n",
    "        \n",
    "        self.scheme = scheme or default_scheme\n",
    "                   \n",
    "        target_column, target_parameters = next((column, parameters)\n",
    "                                                for column, parameters in self.scheme.items()\n",
    "                                                if parameters['target_column'])        \n",
    "           \n",
    "        # Parameters\n",
    "        \n",
    "        fields_count = 0\n",
    "        data_dtype = 'i1'\n",
    "\n",
    "        target_flags = []\n",
    "        \n",
    "        for column, parameters in self.scheme.items():\n",
    "            \n",
    "            if parameters['binary']:                 \n",
    "                column_size = parameters['bits_count']\n",
    "                \n",
    "            else:\n",
    "                data_dtype = float\n",
    "                column_size = 1\n",
    "            \n",
    "            fields_count += column_size\n",
    "            \n",
    "            target_flags_for_column = [parameters['target_column']] * column_size\n",
    "            \n",
    "            target_flags.extend(target_flags_for_column)\n",
    "            \n",
    "        self.target_flags_vector = np.array(target_flags)\n",
    "        \n",
    "        \n",
    "        # Data\n",
    "\n",
    "        chunks_count = dataset_size // chunk_size\n",
    "        \n",
    "        self.data = np.zeros(shape=(dataset_size, fields_count), dtype=data_dtype)\n",
    "        self.not_encoded_data = np.zeros(shape=(dataset_size, len(self.scheme)), dtype=data_dtype)\n",
    "        \n",
    "        dataset_iterator = pd.read_csv(dataset_path, iterator=True, chunksize=chunk_size)\n",
    "        \n",
    "        chunk_tracker = tqdm.tqdm(range(chunks_count),\n",
    "                                  desc=f\"Loading\",\n",
    "                                  ncols=110,\n",
    "                                  unit='chunk',\n",
    "                                  total=chunks_count)                          \n",
    "        # Loading\n",
    "        \n",
    "        row_offset = 0\n",
    "\n",
    "        for chunk_index in chunk_tracker:\n",
    "            \n",
    "            chunk = next(dataset_iterator)\n",
    "\n",
    "            column_offset = 0\n",
    "            not_encoded_column_offset = 0\n",
    "\n",
    "            for column_name, parameters in self.scheme.items():\n",
    "                \n",
    "                factor = parameters.get('factor', 1)\n",
    "                \n",
    "                conversion_function = parameters.get('conversion', lambda x: x)\n",
    "                \n",
    "                column_chunk = chunk[column_name]             \n",
    "                \n",
    "                if normalize:\n",
    "                \n",
    "                    column_chunk = column_chunk - column_chunk.mean()\n",
    "                    \n",
    "                    column_chunk = column_chunk / np.abs(column_chunk).max()\n",
    "                    \n",
    "                column_chunk = conversion_function(column_chunk * factor) \n",
    "                \n",
    "                if parameters['binary']:\n",
    "                    column = self.encode_to_bits(column_chunk,\n",
    "                                                 dtype=parameters['encoding_format'], \n",
    "                                                 bits_count=parameters['bits_count']) \n",
    "                    \n",
    "                    column_size = parameters['bits_count']\n",
    "                    \n",
    "                else:                        \n",
    "                    column = column_chunk.to_numpy().reshape(-1, 1)                        \n",
    "                    column_size = 1             \n",
    "\n",
    "                self.data[row_offset : row_offset + chunk_size, \n",
    "                          column_offset : column_offset + column_size] = column\n",
    "                \n",
    "                self.not_encoded_data[row_offset : \n",
    "                                      row_offset + chunk_size, \n",
    "                                      not_encoded_column_offset : \n",
    "                                      not_encoded_column_offset + 1] = column_chunk.to_numpy().reshape(-1, 1)                \n",
    "\n",
    "                column_offset += column_size\n",
    "                \n",
    "                not_encoded_column_offset += 1\n",
    "\n",
    "            row_offset += chunk_size\n",
    "                \n",
    "        self.fields = self.data[:, ~self.target_flags_vector].astype(int)\n",
    "        self.targets = self.data[:, self.target_flags_vector]\n",
    "        \n",
    "        self.field_dimensions = np.max(self.fields, axis=0).astype(int) + 1\n",
    "        \n",
    "        self.field_dimensions[self.field_dimensions < 2] = 2\n",
    "        \n",
    "        \n",
    "    def __len__(self):\n",
    "        \n",
    "        return self.fields.shape[0]\n",
    "    \n",
    "\n",
    "    def __getitem__(self, index):\n",
    "        \n",
    "        fields = self.fields[index]\n",
    "        target = self.targets[index].squeeze()\n",
    "        \n",
    "        return fields, target\n",
    "    \n",
    "\n",
    "    def encode_to_bits(self, inputs, dtype='>f', bits_count=32):\n",
    "    \n",
    "        input_bytes = np.array([inputs], dtype=dtype)\n",
    "\n",
    "        integer_view = input_bytes.view('uint8')\n",
    "\n",
    "        bits_vector = np.unpackbits(integer_view)\n",
    "        \n",
    "        bits = bits_vector.reshape(-1, bits_count)\n",
    "        \n",
    "        return bits\n",
    "    \n",
    "\n",
    "    def decode_from_bits(self, bits, dtype='>f', bitorder='big'):        \n",
    "\n",
    "        bits_vector = bits.reshape(-1)\n",
    "\n",
    "        integer_view = np.packbits(bits_vector, bitorder=bitorder)\n",
    "\n",
    "        output = integer_view.view(dtype)\n",
    "\n",
    "        return output"
   ]
  },
  {
   "cell_type": "markdown",
   "id": "136df21b-b9cb-4173-a814-cffdb1468ce1",
   "metadata": {
    "tags": []
   },
   "source": [
    "### Splitter"
   ]
  },
  {
   "cell_type": "code",
   "execution_count": 69,
   "id": "e587fe07-a179-40eb-ae96-444b753c8007",
   "metadata": {
    "jupyter": {
     "source_hidden": true
    },
    "tags": []
   },
   "outputs": [],
   "source": [
    "class SequentialValueSampler(torch.utils.data.Sampler):\n",
    "\n",
    "    def __init__(self, values):\n",
    "        self.values = values\n",
    "\n",
    "    def __iter__(self):\n",
    "        return iter(self.values)\n",
    "\n",
    "    def __len__(self):\n",
    "        return len(self.values)\n",
    "\n",
    "\n",
    "class Splitter:\n",
    "    \n",
    "    def __init__(self, dataset, shuffle=True, \n",
    "                 train_rate=0.8, valid_rate=0.1, \n",
    "                 batch_size=2048, dataloader_workers_count=8):\n",
    "        \n",
    "        self.dataset = dataset\n",
    "                    \n",
    "        dataset_length = len(dataset)\n",
    "\n",
    "        train_length = int(dataset_length * train_rate)\n",
    "        valid_length = int(dataset_length * valid_rate)\n",
    "\n",
    "        test_length = dataset_length - train_length - valid_length\n",
    "        \n",
    "        self.lengths = (train_length, valid_length, test_length)\n",
    "\n",
    "        dataset_indices = np.arange(dataset_length, dtype=int)\n",
    "        \n",
    "        if shuffle:        \n",
    "            np.random.shuffle(dataset_indices)\n",
    "        \n",
    "        index_ranges = np.split(dataset_indices, (train_length,\n",
    "                                                  train_length + valid_length))     \n",
    "            \n",
    "        train_sampler, valid_sampler, test_sampler = map(SequentialValueSampler, index_ranges)\n",
    "\n",
    "        self.train_data_loader = DataLoader(dataset,\n",
    "                                            batch_size=batch_size,\n",
    "                                            sampler=train_sampler,\n",
    "                                            num_workers=dataloader_workers_count)\n",
    "        \n",
    "        self.valid_data_loader = DataLoader(dataset,                                  \n",
    "                                            batch_size=batch_size,\n",
    "                                            sampler=valid_sampler,\n",
    "                                            num_workers=dataloader_workers_count)\n",
    "        \n",
    "        self.test_data_loader = DataLoader(dataset,\n",
    "                                           batch_size=batch_size,\n",
    "                                           sampler=test_sampler,\n",
    "                                           num_workers=dataloader_workers_count)   "
   ]
  },
  {
   "cell_type": "markdown",
   "id": "b666daf8-b6b0-423c-b8c4-34407c3dc20d",
   "metadata": {
    "tags": []
   },
   "source": [
    "### Trainer"
   ]
  },
  {
   "cell_type": "code",
   "execution_count": 70,
   "id": "f3cd6711-11a2-4493-b0b1-b729266e6bcf",
   "metadata": {
    "jupyter": {
     "source_hidden": true
    },
    "tags": []
   },
   "outputs": [],
   "source": [
    "class Trainer:\n",
    "\n",
    "    def __init__(self, splitter,\n",
    "                 learning_rate=0.001, weight_decay=1e-6,\n",
    "                 embedding_dimensions=16,\n",
    "                 model=None, criterion=None, metric=None, optimizer=None,\n",
    "                 device='cpu', batch_logging_interval=100):\n",
    "\n",
    "        %run models/models.ipynb \n",
    "        \n",
    "        criterion = criterion or torch.nn.MSELoss()   \n",
    "\n",
    "        metric = metric or sklearn.metrics.r2_score\n",
    "        \n",
    "        field_dimensions = splitter.dataset.field_dimensions\n",
    "        \n",
    "        model = model or CustomFactorizationMachine(field_dimensions, \n",
    "                                                    embedding_dimensions=embedding_dimensions)\n",
    "\n",
    "        optimizer = torch.optim.Adam(params=model.parameters(), \n",
    "                                     lr=learning_rate, \n",
    "                                     weight_decay=weight_decay)\n",
    "        \n",
    "        self.device = torch.device(device)\n",
    "        \n",
    "        self.model = model.to(device)\n",
    "        self.criterion = criterion\n",
    "        self.metric = metric\n",
    "        self.optimizer = optimizer\n",
    "        self.splitter = splitter\n",
    "        \n",
    "        self.batch_logging_interval = batch_logging_interval\n",
    "        \n",
    "        self.train_data_loader = self.splitter.train_data_loader\n",
    "        self.valid_data_loader = self.splitter.valid_data_loader\n",
    "        self.test_data_loader = self.splitter.test_data_loader\n",
    "        \n",
    "        self.epoch_scores = []\n",
    "        \n",
    "        # TODO: EarlyStopper\n",
    "    \n",
    "    \n",
    "    def fit(self, epochs=10):\n",
    "        \n",
    "        epoch_offset = len(self.epoch_scores)\n",
    "        \n",
    "        batches_count = epochs * len(self.splitter.train_data_loader)       \n",
    "        \n",
    "        fit_batch_tracker = tqdm.trange(\n",
    "            batches_count,\n",
    "            unit=' batches',\n",
    "            ncols=110,\n",
    "            mininterval=1,\n",
    "        ) \n",
    "        \n",
    "        for epoch in range(epochs):\n",
    "            \n",
    "            current_epoch = epoch_offset + epoch + 1\n",
    "            max_epochs = epoch_offset + epochs\n",
    "\n",
    "            fit_batch_tracker.set_description(f\"Epoch: {current_epoch}/{max_epochs}\")     \n",
    "            \n",
    "            self.train(fit_batch_tracker)\n",
    "            \n",
    "            epoch_score, _ = self.test(self.valid_data_loader)\n",
    "            \n",
    "            self.epoch_scores.append(epoch_score)\n",
    "            \n",
    "            fit_batch_tracker.set_postfix(r2=f\"{epoch_score:.02f}\")\n",
    "            \n",
    "        total_score, total_predictions = self.test(self.test_data_loader)\n",
    "        \n",
    "        print(f\"\\nTest {self.metric.__name__}: {total_score:.05f}\")\n",
    "    \n",
    "    \n",
    "    def train(self, fit_batch_tracker):\n",
    "\n",
    "        self.model.train()\n",
    "\n",
    "        interval_loss = 0\n",
    "\n",
    "        for batch, (fields, target) in enumerate(self.splitter.train_data_loader):\n",
    "            \n",
    "            predictions = self.model(fields)\n",
    "            \n",
    "            loss = self.criterion(predictions, target.float())\n",
    "            \n",
    "            self.model.zero_grad()\n",
    "\n",
    "            loss.backward()\n",
    "\n",
    "            self.optimizer.step()\n",
    "\n",
    "            interval_loss += loss.item()\n",
    "\n",
    "            if not (batch + 1) % self.batch_logging_interval:\n",
    "\n",
    "                average_loss = interval_loss / self.batch_logging_interval\n",
    "\n",
    "                # fit_batch_tracker.set_postfix(loss=f\"{average_loss:1.05f}\")\n",
    "                \n",
    "                fit_batch_tracker.update(self.batch_logging_interval)\n",
    "                \n",
    "                interval_loss = 0\n",
    "                \n",
    "                \n",
    "    def test(self, data_loader):\n",
    "        \n",
    "        self.model.eval()\n",
    "    \n",
    "        targets = []\n",
    "        predictions = []\n",
    "\n",
    "        with torch.no_grad():\n",
    "\n",
    "            for fields, target in data_loader:\n",
    "\n",
    "                prediction = self.model(fields)\n",
    "\n",
    "                targets.extend(target.tolist())\n",
    "                predictions.extend(prediction.tolist())\n",
    "\n",
    "        score = self.metric(targets, predictions)\n",
    "        \n",
    "        return score, predictions\n",
    "    \n",
    "\n",
    "    def predict(self, indices):   \n",
    "        \n",
    "        encoded_fields = self.splitter.dataset.fields[indices]\n",
    "        targets = self.splitter.dataset.targets[indices]\n",
    "\n",
    "        self.model.eval()\n",
    "\n",
    "        with torch.no_grad():\n",
    "\n",
    "            predictions = self.model(torch.tensor(encoded_fields))\n",
    "        \n",
    "        return targets, predictions"
   ]
  },
  {
   "cell_type": "markdown",
   "id": "f160fef8-7054-4e52-8209-fa6fcaf33199",
   "metadata": {
    "tags": []
   },
   "source": [
    "### 1) FM"
   ]
  },
  {
   "cell_type": "code",
   "execution_count": 71,
   "id": "67f5681c-739b-453d-a4f9-308ec72f4de4",
   "metadata": {
    "tags": []
   },
   "outputs": [
    {
     "name": "stderr",
     "output_type": "stream",
     "text": [
      "Loading: 100%|███████████████████████████████████████████████████████████████| 1/1 [00:00<00:00, 26.10chunk/s]"
     ]
    },
    {
     "name": "stdout",
     "output_type": "stream",
     "text": [
      "Dataset field: (100000, 24)\n",
      "Dataset targets: (100000, 1)\n",
      "Splitter lengths: (80000, 10000, 10000)\n"
     ]
    },
    {
     "name": "stderr",
     "output_type": "stream",
     "text": [
      "\n"
     ]
    }
   ],
   "source": [
    "# Load Data\n",
    "\n",
    "# DATASET_PATH = 'simulated_prices/15_dataset.csv'\n",
    "\n",
    "# DATASET_PATH = 'simulated_prices/alex_dataset.csv'\n",
    "\n",
    "# DATASET_PATH = 'simulated_prices/multi_modal_dataset.csv'\n",
    "\n",
    "# DATASET_PATH = 'simulated_prices/20_dataset.csv'\n",
    "\n",
    "DATASET_PATH = 'simulated_prices/23_dataset.csv'\n",
    "\n",
    "\n",
    "DATASET_SIZE = 50000 * 2\n",
    "# DATASET_SIZE = 50000\n",
    "\n",
    "ENCODE = True\n",
    "# ENCODE = False\n",
    "\n",
    "NORMALIZE = False\n",
    "\n",
    "\n",
    "SCHEME = {\n",
    "          'initial_asset_price': \n",
    "              {'binary': ENCODE,\n",
    "               'encoding_format': 'uint8', \n",
    "               'bits_count': 8,\n",
    "               'factor': 1,\n",
    "               'target_column': False},\n",
    "          'volatility': \n",
    "              {'binary': ENCODE,\n",
    "               'encoding_format': 'uint8', \n",
    "               'bits_count': 8,\n",
    "               'factor': 100,\n",
    "               'target_column': False},\n",
    "          'asset_price':\n",
    "            {'binary': ENCODE,\n",
    "             'encoding_format': 'uint8', \n",
    "             'bits_count': 8,\n",
    "             'factor': 10,\n",
    "             # 'conversion': lambda x: x * 100 + 3,\n",
    "             # 'inversion': lambda x: (x - 3) / 100,\n",
    "             'target_column': False},\n",
    "          'probability':\n",
    "              {'binary': False,\n",
    "               'factor': 100000,              \n",
    "               'target_column': True}\n",
    "         }  \n",
    "\n",
    "dataset = AssetDataset(\n",
    "    DATASET_PATH, \n",
    "    chunk_size=DATASET_SIZE, \n",
    "    dataset_size=DATASET_SIZE,\n",
    "    scheme=SCHEME,\n",
    "    normalize=NORMALIZE\n",
    ")\n",
    "\n",
    "splitter = Splitter(dataset, batch_size=100, dataloader_workers_count=8)\n",
    "\n",
    "trainer = Trainer(splitter=splitter, embedding_dimensions=16)\n",
    "\n",
    "\n",
    "print(\"Dataset field:\", dataset.fields.shape)\n",
    "print(\"Dataset targets:\", dataset.targets.shape) \n",
    "# print(\"dataset.field_dimensions:\", dataset.field_dimensions)\n",
    "print(\"Splitter lengths:\", splitter.lengths) "
   ]
  },
  {
   "cell_type": "code",
   "execution_count": 72,
   "id": "407ad163-2c06-4e8e-94a5-afd4ff12803d",
   "metadata": {},
   "outputs": [
    {
     "name": "stderr",
     "output_type": "stream",
     "text": [
      "Epoch: 1/1: 100%|███████████████████████████████████████████| 800/800 [00:02<00:00, 274.23 batches/s, r2=0.54]"
     ]
    },
    {
     "name": "stdout",
     "output_type": "stream",
     "text": [
      "\n",
      "Test r2_score: 0.54504\n"
     ]
    },
    {
     "name": "stderr",
     "output_type": "stream",
     "text": [
      "\n"
     ]
    }
   ],
   "source": [
    "trainer.fit(epochs=1)"
   ]
  },
  {
   "cell_type": "code",
   "execution_count": 73,
   "id": "f62932ef-c096-487a-b50f-6199827946b2",
   "metadata": {
    "tags": []
   },
   "outputs": [
    {
     "data": {
      "image/png": "[encoded data removed]",
      "text/plain": [
       "<Figure size 1080x360 with 1 Axes>"
      ]
     },
     "metadata": {},
     "output_type": "display_data"
    }
   ],
   "source": [
    "# Predict\n",
    "\n",
    "indices = np.arange(0, len(dataset), 100)\n",
    "\n",
    "targets, predictions = trainer.predict(indices)\n",
    "\n",
    "probability_factor = dataset.scheme['probability']['factor']\n",
    "\n",
    "defactored_targets = np.array(targets) / probability_factor\n",
    "defactored_predictions = np.array(predictions) / probability_factor\n",
    "\n",
    "asset_prices = dataset.not_encoded_data[indices, -2]\n",
    "defactored_asset_prices = asset_prices / dataset.scheme['asset_price']['factor']\n",
    "\n",
    "\n",
    "# Plot\n",
    "\n",
    "figure = plt.gcf()\n",
    "figure.set_size_inches(15, 5)\n",
    "\n",
    "plt.plot(defactored_asset_prices, defactored_targets, label=f\"Targets\")\n",
    "plt.plot(defactored_asset_prices, defactored_predictions, label=f\"Predictions\")\n",
    "\n",
    "plt.locator_params(axis='x', nbins=20)\n",
    "\n",
    "plt.xlabel(\"Asset Price\")\n",
    "plt.ylabel(\"Probability\")\n",
    "plt.legend()\n",
    "\n",
    "plt.show()"
   ]
  },
  {
   "cell_type": "markdown",
   "id": "376e3f90-d090-44b3-87d5-e6c691810d30",
   "metadata": {},
   "source": [
    "### 2) QUBO"
   ]
  },
  {
   "cell_type": "code",
   "execution_count": 74,
   "id": "d9b80d6a-cd48-49c4-89da-eb25c5e6f18c",
   "metadata": {
    "tags": []
   },
   "outputs": [],
   "source": [
    "class Qubo:\n",
    "    \n",
    "    def __init__(self, inputs, trainer,\n",
    "                 one_hot_scheme=None, maximize=True,\n",
    "                 penalty_value=1000, ):\n",
    "        \n",
    "        default_one_hot_scheme = {0: (0, 1), 1: (1, 0)}\n",
    "        \n",
    "        self.one_hot_scheme = one_hot_scheme or default_one_hot_scheme \n",
    "        \n",
    "        self.one_hot_decoding_scheme = {value: key for key, value in \n",
    "                                        self.one_hot_scheme.items()}\n",
    "        \n",
    "        # dimod.ExactSolver\n",
    "        \n",
    "        self.inputs = inputs        \n",
    "        self.trainer = trainer\n",
    "        self.maximize = maximize\n",
    "        self.penalty_value = penalty_value\n",
    "        \n",
    "        \n",
    "        # Load weights\n",
    "        \n",
    "        state_dict = trainer.model.state_dict()\n",
    "\n",
    "        factorization_matrix = state_dict['embedding.embedding.weight'].numpy().squeeze()\n",
    "                     \n",
    "        self.factorization_matrix = factorization_matrix\n",
    "        \n",
    "        self.input_penalty = self.get_input_penalty()\n",
    "        \n",
    "        self.one_hot_penalty = self.get_one_hot_penalty()\n",
    "        \n",
    "        self.qubo_coefficients = self.get_qubo_coefficients()\n",
    "        \n",
    "        # print(self.input_penalty)\n",
    "        # print(self.one_hot_penalty)\n",
    "        # print(self.qubo_coefficients)\n",
    "        \n",
    "        \n",
    "    def get_input_penalty(self):\n",
    "\n",
    "        encoded_values = dict()\n",
    "        \n",
    "        dataset = self.trainer.splitter.dataset\n",
    "\n",
    "        for column, value in self.inputs.items():\n",
    "            \n",
    "            parameters = dataset.scheme[column]\n",
    "\n",
    "            dtype = parameters['encoding_format']\n",
    "            bits_count = parameters['bits_count']\n",
    "\n",
    "            conversion = parameters.get('conversion', lambda x: x)\n",
    "            factor = parameters.get('factor', 1)\n",
    "\n",
    "            converted_value = conversion(factor * value)\n",
    "\n",
    "            encoded_values[column] = dataset.encode_to_bits(inputs=converted_value, \n",
    "                                                            dtype=dtype, \n",
    "                                                            bits_count=bits_count)\n",
    "\n",
    "        example_input = np.hstack(list(encoded_values.values()) or [[]]).squeeze()\n",
    "\n",
    "        one_hot_fields = self.bits_to_one_hot(example_input)\n",
    "\n",
    "        total_spins_count = len(self.factorization_matrix)\n",
    "\n",
    "        fixed_spins_count = len(one_hot_fields)\n",
    "\n",
    "        variable_spins_count = total_spins_count - fixed_spins_count\n",
    "\n",
    "\n",
    "        input_penalty_vector = self.bit_to_spin(one_hot_fields) * -1 * self.penalty_value\n",
    "\n",
    "        input_penalty_vector.resize(total_spins_count)\n",
    "\n",
    "        input_penalty = np.diag(input_penalty_vector)\n",
    "        \n",
    "        self.fixed_spins_count = fixed_spins_count\n",
    "        self.variable_spins_count = variable_spins_count\n",
    "\n",
    "        # print(\"encoded_values:\\n\", encoded_values)\n",
    "        # print(\"example_input:\\n\", example_input)\n",
    "        # print(\"one_hot_fields:\\n\", one_hot_fields)\n",
    "        # print(\"spin counts:\\n\", (fixed_spins_count, variable_spins_count, total_spins_count))\n",
    "        # print(\"input_penalty_vector:\\n\", input_penalty_vector)\n",
    "        # print(\"input_penalty:\\n\", input_penalty.shape)\n",
    "        \n",
    "        return input_penalty\n",
    "    \n",
    "\n",
    "    def get_one_hot_penalty(self):\n",
    "\n",
    "        one_hot_pair_penalty = self.penalty_value * np.array([[-1,  2],\n",
    "                                                              [ 2, -1]])\n",
    "\n",
    "        one_hot_penalty_diagonal = np.concatenate((np.zeros(self.fixed_spins_count // 2),\n",
    "                                                   np.ones(self.variable_spins_count // 2)))\n",
    "\n",
    "        one_hot_penalty_matrix = np.diag(one_hot_penalty_diagonal)\n",
    "\n",
    "        one_hot_penalty = np.kron(one_hot_penalty_matrix, one_hot_pair_penalty)\n",
    "\n",
    "\n",
    "#         print(\"one_hot_pair_penalty:\\n\", one_hot_pair_penalty)\n",
    "#         print(\"one_hot_penalty_diagonal:\\n\", one_hot_penalty_diagonal)\n",
    "#         # print(\"one_hot_penalty_matrix:\\n\", one_hot_penalty_matrix)\n",
    "#         print(\"one_hot_penalty:\\n\", one_hot_penalty.shape)\n",
    "        \n",
    "        return one_hot_penalty\n",
    "    \n",
    "    \n",
    "    def get_qubo_coefficients(self):\n",
    "\n",
    "        coupling_matrix = self.factorization_matrix @ self.factorization_matrix.T\n",
    "\n",
    "        if self.maximize:\n",
    "\n",
    "            coupling_matrix = -coupling_matrix\n",
    "\n",
    "        penalty_matrix = self.input_penalty + self.one_hot_penalty\n",
    "\n",
    "        penalized_coupling_matrix = coupling_matrix + penalty_matrix\n",
    "\n",
    "        qubo_coefficients = self.get_coupling_coefficients(penalized_coupling_matrix)\n",
    "        \n",
    "        self.coupling_matrix = coupling_matrix\n",
    "        \n",
    "        self.penalized_coupling_matrix = penalized_coupling_matrix\n",
    "\n",
    "\n",
    "#         print(\"self.factorization_matrix:\\n\", self.factorization_matrix.shape)\n",
    "#         print(\"coupling_matrix:\\n\", coupling_matrix.shape)\n",
    "#         print(\"penalized_coupling_matrix part:\\n\", penalized_coupling_matrix[-3:, -3:])\n",
    "#         print(\"qubo_coefficients part:\\n\", qubo_coefficients.__repr__()[-60:])\n",
    "        \n",
    "        return qubo_coefficients\n",
    "\n",
    "\n",
    "\n",
    "    def bits_to_one_hot(self, bits):\n",
    "        \n",
    "        one_hot_bits = [self.one_hot_scheme[bit] for bit in bits]\n",
    "\n",
    "        one_hot_array = np.array(one_hot_bits, dtype='i1').ravel()\n",
    "\n",
    "        return one_hot_array\n",
    "    \n",
    "    \n",
    "    def one_hot_to_bits(self, one_hot):    \n",
    "\n",
    "        bits = []\n",
    "\n",
    "        for one_hot_pair in one_hot.reshape(-1, 2):\n",
    "\n",
    "            bit = self.one_hot_decoding_scheme[tuple(one_hot_pair)]\n",
    "\n",
    "            bits.append(bit)\n",
    "\n",
    "        bits_array = np.array(bits, dtype='i1')    \n",
    "\n",
    "        return bits_array\n",
    "    \n",
    "    \n",
    "    def bit_to_spin(self, binary):    \n",
    "        return binary * 2 - 1\n",
    "\n",
    "    def spin_to_bit(self, spin):    \n",
    "        return (spin + 1) // 2\n",
    "    \n",
    "    \n",
    "    def get_coupling_coefficients(self, coupling_matrix):\n",
    "\n",
    "        coupling_coefficients = dict()\n",
    "\n",
    "        for row_index, row in enumerate(coupling_matrix):\n",
    "\n",
    "            for column_index, cell in enumerate(row[row_index:], row_index):\n",
    "\n",
    "                coupling_coefficients[row_index, column_index] = cell\n",
    "\n",
    "        return coupling_coefficients\n",
    "    \n",
    "    \n",
    "    def is_correct_one_hot(self, record):\n",
    "\n",
    "        sample = record.sample\n",
    "\n",
    "        fields_spins = np.array(list(sample.values()))\n",
    "\n",
    "        fields_one_hot = self.spin_to_bit(fields_spins)\n",
    "\n",
    "        for one_hot_pair in fields_one_hot.reshape(-1, 2):\n",
    "\n",
    "            one_hot_tuple = tuple(one_hot_pair)\n",
    "\n",
    "            if one_hot_tuple not in self.one_hot_scheme.values():            \n",
    "\n",
    "                return False\n",
    "\n",
    "        return True\n",
    "    \n",
    "    \n",
    "    def decode_sample(self, sample):\n",
    "        \n",
    "        spins = np.array(list(sample.values()))\n",
    "\n",
    "        one_hot = qubo.spin_to_bit(spins)\n",
    "\n",
    "        bits = qubo.one_hot_to_bits(one_hot)\n",
    "\n",
    "\n",
    "        offset = 0\n",
    "        results = dict()\n",
    "\n",
    "        for column, parameters in dataset.scheme.items():\n",
    "\n",
    "            if parameters['target_column']:\n",
    "                continue\n",
    "\n",
    "            bits_count = parameters['bits_count']\n",
    "            \n",
    "            factor = dataset.scheme[column].get('factor', 1)\n",
    "            \n",
    "            inversion = dataset.scheme[column].get('inversion', lambda x: x)\n",
    "            \n",
    "\n",
    "            column_bits = bits[offset : offset + bits_count]\n",
    "\n",
    "            decoded_value = dataset.decode_from_bits(column_bits,\n",
    "                                                     dtype=parameters['encoding_format'])\n",
    "\n",
    "            value = inversion(decoded_value) / factor  \n",
    "\n",
    "            results[column] = value.item()\n",
    "\n",
    "            offset += bits_count\n",
    "\n",
    "        \n",
    "        return results"
   ]
  },
  {
   "cell_type": "code",
   "execution_count": 75,
   "id": "f5180986-c12f-444d-bc18-b8f95a9a68a1",
   "metadata": {},
   "outputs": [],
   "source": [
    "# 1) Example inputs\n",
    "\n",
    "INPUTS = {\n",
    "    'initial_asset_price': 15,\n",
    "    'volatility': 0.1\n",
    "}\n",
    "\n",
    "PENALTY_VALUE = 1000\n",
    "\n",
    "MAXIMIZE = True\n",
    "\n",
    "qubo = Qubo(trainer=trainer,\n",
    "            inputs=INPUTS,\n",
    "            penalty_value=PENALTY_VALUE,\n",
    "            maximize=MAXIMIZE)"
   ]
  },
  {
   "cell_type": "markdown",
   "id": "717ef63f-8592-4236-8a81-f78058ffdf6c",
   "metadata": {
    "tags": []
   },
   "source": [
    "### 5) QUBO Energies"
   ]
  },
  {
   "cell_type": "code",
   "execution_count": 76,
   "id": "2a093195-b0f3-42be-9ce8-fb0ba05b7cd6",
   "metadata": {},
   "outputs": [
    {
     "name": "stdout",
     "output_type": "stream",
     "text": [
      "[       0.        0.        0.        0.        0.        0.        0.\n",
      "        0.        0.        0.        0.        0.        0.        0.\n",
      "        0.        0.        0.        0.        0.        0.        0.\n",
      "        0.        0.        0.        0.        0.        0.        0.\n",
      "        0.        0.        0.        0.  7052400. -7052400. -2276800.\n",
      "  2276800.  -914000.   914000.   792400.  -792400.  -620600.   620600.\n",
      "   -25200.    25200.   -25000.    25000.   -25000.    25000.] (48,) 0.0\n"
     ]
    }
   ],
   "source": [
    "# Range penalty\n",
    "\n",
    "encoded_asset_prices = dataset.fields[:, 16:]\n",
    "\n",
    "\n",
    "def get_range_penalty(encoded_asset_prices, penalty_value):\n",
    "\n",
    "    one_hot_asset_prices = np.array([qubo.bits_to_one_hot(price) for price in encoded_asset_prices])\n",
    "\n",
    "    asset_price_spins = qubo.bit_to_spin(one_hot_asset_prices)\n",
    "\n",
    "    asset_price_spin_sums = asset_price_spins.sum(axis=0)\n",
    "\n",
    "    range_penalties = asset_price_spin_sums * penalty_value\n",
    "\n",
    "    range_penalty_vector = np.concatenate((np.zeros(32), range_penalties))\n",
    "\n",
    "    range_penalty = np.diag(range_penalty_vector)\n",
    "\n",
    "    range_qubo_coefficients = qubo.get_coupling_coefficients(qubo.penalized_coupling_matrix + range_penalty)\n",
    "    \n",
    "    print(range_penalty_vector, range_penalty_vector.shape, sum(range_penalty_vector))\n",
    "\n",
    "    return range_penalty\n",
    "\n",
    "\n",
    "# range_penalty = get_range_penalty(encoded_asset_prices, -0.1)\n",
    "range_penalty = get_range_penalty(encoded_asset_prices, 100)\n",
    "\n",
    "range_qubo_coefficients = qubo.get_coupling_coefficients(qubo.penalized_coupling_matrix + \n",
    "                                                         range_penalty) "
   ]
  },
  {
   "cell_type": "code",
   "execution_count": 91,
   "id": "06e6496c-b596-431d-bf17-18255157cad5",
   "metadata": {},
   "outputs": [
    {
     "name": "stdout",
     "output_type": "stream",
     "text": [
      "[     0.      0.      0.      0.      0.      0.      0.      0.      0.\n",
      "      0.      0.      0.      0.      0.      0.      0.      0.      0.\n",
      "      0.      0.      0.      0.      0.      0.      0.      0.      0.\n",
      "      0.      0.      0.      0.      0. -74000.  74000.  22000. -22000.\n",
      "   8000.  -8000. -10000.  10000.   6000.  -6000.      0.      0.      0.\n",
      "      0.      0.      0.] (48,) 0.0\n"
     ]
    }
   ],
   "source": [
    "# Excluded penalty\n",
    "\n",
    "DTYPE = 'uint8'\n",
    "BITS_COUNT = 8\n",
    "\n",
    "# DTYPE = 'uint16'\n",
    "# BITS_COUNT = 16\n",
    "\n",
    "\n",
    "asset_prices = dataset.not_encoded_data[:, -2].astype(int)\n",
    "\n",
    "all_asset_prices = np.arange(np.iinfo(DTYPE).max)\n",
    "\n",
    "is_in_dataset = np.isin(all_asset_prices, asset_prices)\n",
    "\n",
    "excluded_prices = all_asset_prices[~is_in_dataset]\n",
    "\n",
    "encoded_excluded_prices = dataset.encode_to_bits(excluded_prices, dtype=DTYPE, bits_count=BITS_COUNT)\n",
    "\n",
    "\n",
    "excluded_prices_penalty = get_range_penalty(encoded_excluded_prices, 1000)\n",
    "\n",
    "excluded_qubo_coefficients = qubo.get_coupling_coefficients(\n",
    "    qubo.penalized_coupling_matrix +\n",
    "    excluded_prices_penalty \n",
    ")"
   ]
  },
  {
   "cell_type": "code",
   "execution_count": 92,
   "id": "1ea0dd06-af4d-410c-a124-1ffd49b93f56",
   "metadata": {
    "tags": []
   },
   "outputs": [],
   "source": [
    "import dimod\n",
    "\n",
    "\n",
    "indices = np.arange(0, len(dataset), 100)\n",
    "\n",
    "PENALIZED = True\n",
    "\n",
    "\n",
    "bqm = dimod.BinaryQuadraticModel.from_qubo(qubo.qubo_coefficients)\n",
    "\n",
    "quadratic = bqm.quadratic\n",
    "linear = bqm.linear\n",
    "offset = bqm.offset\n",
    "\n",
    "energies = []\n",
    "bqm_energies = []\n",
    "\n",
    "for row_bits in dataset.fields[indices]:  \n",
    "    \n",
    "    one_hot_row = qubo.bits_to_one_hot(row_bits)\n",
    "\n",
    "    sample = dict(enumerate(one_hot_row))\n",
    "    \n",
    "    if PENALIZED:\n",
    "        \n",
    "        qubo_coefficients = qubo.qubo_coefficients\n",
    "        \n",
    "        # qubo_coefficients = range_qubo_coefficients\n",
    "        \n",
    "        # qubo_coefficients = excluded_qubo_coefficients\n",
    "        \n",
    "    else:\n",
    "\n",
    "        qubo_coefficients = qubo.get_coupling_coefficients(qubo.coupling_matrix) \n",
    "\n",
    "    energy = dimod.utilities.qubo_energy(sample=sample, Q=qubo_coefficients)\n",
    "        \n",
    "    bqm_energy = dimod.utilities.ising_energy(sample=sample, J=quadratic, h=linear, offset=offset)\n",
    "    \n",
    "    energies.append(energy)\n",
    "    bqm_energies.append(bqm_energy)    \n",
    "    \n",
    "# print(\"energies:\\n\", energies)\n",
    "# print(\"bqm_energies:\\n\", bqm_energies)"
   ]
  },
  {
   "cell_type": "code",
   "execution_count": 93,
   "id": "907038ce-dfd8-413c-bc67-95dbb1a154d5",
   "metadata": {
    "tags": []
   },
   "outputs": [],
   "source": [
    "# Predict\n",
    "\n",
    "targets, predictions = trainer.predict(indices)\n",
    "\n",
    "probability_factor = dataset.scheme['probability']['factor']\n",
    "\n",
    "defactored_targets = np.array(targets) / probability_factor\n",
    "defactored_predictions = np.array(predictions) / probability_factor\n",
    "\n",
    "asset_prices = dataset.not_encoded_data[indices, -2]\n",
    "defactored_asset_prices = asset_prices / dataset.scheme['asset_price']['factor']"
   ]
  },
  {
   "cell_type": "code",
   "execution_count": 94,
   "id": "d7457f73-a622-4fc8-85d1-428e6a13725a",
   "metadata": {
    "tags": []
   },
   "outputs": [
    {
     "data": {
      "image/png": "[encoded data removed]",
      "text/plain": [
       "<Figure size 1080x360 with 3 Axes>"
      ]
     },
     "metadata": {},
     "output_type": "display_data"
    }
   ],
   "source": [
    "# Plot on 1 graph\n",
    "\n",
    "figure, targets_ax = plt.subplots()\n",
    "\n",
    "figure.set_size_inches(15, 5)\n",
    "\n",
    "targets_ax.plot(defactored_asset_prices, defactored_targets, label=\"Monte-Carlo Probability\")\n",
    "\n",
    "targets_ax.set_xlabel(\"Asset price\")\n",
    "targets_ax.set_ylabel(\"Probability\")\n",
    "targets_ax.legend()\n",
    "\n",
    "prediction_ax = targets_ax.twiny()\n",
    "\n",
    "prediction_ax.get_xaxis().set_visible(False)\n",
    "\n",
    "prediction_ax.plot(defactored_asset_prices, defactored_predictions, label=\"Predicited Probability\", color='#fdb462')\n",
    "\n",
    "prediction_ax.set_xlabel(\"Asset price\")\n",
    "prediction_ax.set_ylabel(\"Predicited Probability\")\n",
    "prediction_ax.legend()\n",
    "\n",
    "qubo_ax = prediction_ax.twinx()\n",
    "\n",
    "reversed_asset_prices = defactored_asset_prices[::-1]\n",
    "\n",
    "# qubo_ax.plot(defactored_asset_prices, energies, label=\"QUBO Energy\", color='#fa8174')\n",
    "qubo_ax.plot(reversed_asset_prices, energies, label=\"QUBO Energy\", color='#fa8174')\n",
    "\n",
    "# qubo_ax.plot(reversed_asset_prices, bqm_energies, label=\"BQM Energy\", color='r')\n",
    "\n",
    "qubo_ax.invert_yaxis()\n",
    "\n",
    "qubo_ax.set_xlabel(\"Asset price\")\n",
    "qubo_ax.set_ylabel(\"QUBO Energy\")\n",
    "qubo_ax.legend()\n",
    "\n",
    "plt.show()"
   ]
  },
  {
   "cell_type": "code",
   "execution_count": 90,
   "id": "9129608f-48f9-42fe-bc6f-062c7c930cdb",
   "metadata": {
    "jupyter": {
     "source_hidden": true
    },
    "tags": []
   },
   "outputs": [],
   "source": [
    "# # Plot on different graphs\n",
    "\n",
    "# plt.figure(figsize=(15, 5))\n",
    "# plt.plot(defactored_asset_prices, defactored_targets, label=\"Monte-Carlo Probability\")\n",
    "\n",
    "# plt.xlabel(\"Asset price\")\n",
    "# plt.ylabel(\"Monte-Carlo Probability\")\n",
    "# plt.legend()\n",
    "# plt.show()\n",
    "\n",
    "# plt.figure(figsize=(15, 5))\n",
    "# plt.plot(defactored_asset_prices, defactored_predictions, label=\"Predicited Probability\", color='#fdb462')\n",
    "\n",
    "# plt.xlabel(\"Asset price\")\n",
    "# plt.ylabel(\"Predicited Probability\")\n",
    "# plt.legend()\n",
    "# plt.show()\n",
    "\n",
    "# plt.figure(figsize=(15, 5))\n",
    "# plt.plot(defactored_asset_prices, energies, label=\"QUBO Energy\", color='#fa8174')\n",
    "\n",
    "# plt.gca().invert_yaxis()\n",
    "# plt.gca().invert_xaxis()\n",
    "\n",
    "# plt.xlabel(\"Asset price\")\n",
    "# plt.ylabel(\"QUBO Energy\")\n",
    "# plt.legend()\n",
    "# plt.show()\n",
    "\n",
    "# figure = plt.gcf()\n",
    "# figure.set_size_inches(15, 5)\n",
    "\n",
    "# plt.plot(defactored_asset_prices, bqm_energies, label=\"BQM Energy\")\n",
    "\n",
    "# plt.gca().invert_yaxis()\n",
    "# plt.gca().invert_xaxis()\n",
    "\n",
    "# plt.xlabel(\"Asset price\")\n",
    "# plt.ylabel(\"BQM Energy\")\n",
    "# plt.legend()\n",
    "# plt.show()"
   ]
  },
  {
   "cell_type": "code",
   "execution_count": null,
   "id": "b1b8cc92-e64c-44eb-a80e-59e66d5abbdc",
   "metadata": {},
   "outputs": [],
   "source": []
  },
  {
   "cell_type": "markdown",
   "id": "5ab68a78-81d1-4cc5-8a5f-0c5b4f12ca8f",
   "metadata": {
    "tags": []
   },
   "source": [
    "### 3) Run on Simulator"
   ]
  },
  {
   "cell_type": "code",
   "execution_count": 82,
   "id": "a6c68728-f742-4ce6-9e55-69cbd887cc79",
   "metadata": {},
   "outputs": [],
   "source": [
    "from neal.sampler import SimulatedAnnealingSampler\n",
    "\n",
    "import dimod\n",
    "\n",
    "dimod.serialization.format.set_printoptions(width=110, depth=10)\n",
    "\n",
    "\n",
    "shots_count = 10000\n",
    "\n",
    "sampler = SimulatedAnnealingSampler()\n",
    "\n",
    "# new_bqm = dimod.BinaryQuadraticModel(bqm.linear,\n",
    "#                                      bqm.quadratic,\n",
    "#                                      bqm.offset,\n",
    "#                                      vartype=dimod.BINARY)\n",
    "\n",
    "# spin_bqm = new_bqm.change_vartype(dimod.SPIN, inplace=False)\n",
    "\n",
    "\n",
    "sampling_results = sampler.sample_qubo(Q=qubo.qubo_coefficients, num_reads=shots_count)\n",
    "\n",
    "# sampling_results = sampler.sample_qubo(Q=range_qubo_coefficients, num_reads=shots_count)\n",
    "\n",
    "# sampling_results = sampler.sample_qubo(Q=excluded_qubo_coefficients, num_reads=shots_count)\n",
    "\n",
    "\n",
    "# sampling_results = sampler.sample_ising(J=bqm.quadratic, h=bqm.linear, num_reads=shots_count)\n",
    "\n",
    "# new_linear = {k[0]: v for k, v in qubo.qubo_coefficients.items() if k[0] == k[1]}\n",
    "\n",
    "# sampling_results = sampler.sample_ising(J=qubo.qubo_coefficients, h=new_linear, num_reads=shots_count)\n",
    "\n",
    "# sampling_results = sampler.sample(bqm=spin_bqm, num_reads=shots_count)"
   ]
  },
  {
   "cell_type": "code",
   "execution_count": 83,
   "id": "9863d3f4-bbc6-4231-8a19-29f87966ca98",
   "metadata": {},
   "outputs": [
    {
     "name": "stdout",
     "output_type": "stream",
     "text": [
      "sampling_results: 10000\n",
      "aggregated_results: 256\n",
      "filtered_results: 256\n"
     ]
    }
   ],
   "source": [
    "aggregated_results = sampling_results.aggregate()\n",
    "\n",
    "filtered_results = aggregated_results.filter(pred=qubo.is_correct_one_hot)\n",
    "\n",
    "print(\"sampling_results:\", len(sampling_results))\n",
    "print(\"aggregated_results:\", len(aggregated_results))\n",
    "print(\"filtered_results:\", len(filtered_results))\n",
    "\n",
    "# print(\"sampling_results:\\n\", sampling_results)\n",
    "# print(\"aggregated_results:\\n\", aggregated_results)\n",
    "# print(\"filtered_results:\\n\", filtered_results)"
   ]
  },
  {
   "cell_type": "code",
   "execution_count": 84,
   "id": "49893cfb-0497-410d-9b66-8a3a4c896381",
   "metadata": {},
   "outputs": [
    {
     "name": "stdout",
     "output_type": "stream",
     "text": [
      "maximize:\n",
      " True\n",
      "inputs:\n",
      " {'initial_asset_price': 15, 'volatility': 0.1}\n",
      "decoded_results:\n",
      "    initial_asset_price  volatility  asset_price        energy  num_occurrences\n",
      "0                 15.0         0.1         16.0 -24011.478175               32\n",
      "1                 15.0         0.1         16.2 -24011.342888               35\n",
      "2                 15.0         0.1         16.1 -24011.019286               43\n",
      "3                 15.0         0.1         16.3 -24010.868335               44\n",
      "4                 15.0         0.1         16.4 -24010.460895               44\n"
     ]
    }
   ],
   "source": [
    "# Decode\n",
    "\n",
    "decoded_results = []\n",
    "\n",
    "for sample in filtered_results.data():\n",
    "    \n",
    "    result = qubo.decode_sample(sample.sample)\n",
    "    \n",
    "    result['energy'] = sample.energy\n",
    "    result['num_occurrences'] = sample.num_occurrences\n",
    "    \n",
    "    decoded_results.append(result)\n",
    "    \n",
    "decoded_results = pd.DataFrame(decoded_results)\n",
    "\n",
    "filtered_columns = ['asset_price', 'energy', 'num_occurrences']\n",
    "\n",
    "print(\"maximize:\\n\", MAXIMIZE)\n",
    "print(\"inputs:\\n\", INPUTS)\n",
    "print(\"decoded_results:\\n\", decoded_results.head())"
   ]
  },
  {
   "cell_type": "code",
   "execution_count": 85,
   "id": "edde7f8e-9799-45f4-93ec-4cd374b001cf",
   "metadata": {},
   "outputs": [
    {
     "data": {
      "image/png": "[encoded data removed]",
      "text/plain": [
       "<Figure size 1080x360 with 1 Axes>"
      ]
     },
     "metadata": {},
     "output_type": "display_data"
    }
   ],
   "source": [
    "# Plot\n",
    "\n",
    "results_by_asset_price = decoded_results.sort_values('asset_price')\n",
    "\n",
    "energies = results_by_asset_price['energy'].to_numpy()\n",
    "asset_prices = results_by_asset_price['asset_price'].to_numpy()\n",
    "\n",
    "sizes = results_by_asset_price['num_occurrences'].to_numpy()\n",
    "    \n",
    "sizes = sizes - min(sizes)\n",
    "sizes = sizes ** 10\n",
    "sizes = sizes / (max(sizes) or 1) * 100 \n",
    "sizes[sizes < 1] = 1\n",
    "\n",
    "\n",
    "plt.plot(asset_prices, energies, color='#fdb462', alpha=0.5)\n",
    "\n",
    "plt.scatter(asset_prices, energies,\n",
    "            label=f\"Occurrences\",\n",
    "            color='#fdb462',\n",
    "            s=sizes + 1)\n",
    "\n",
    "plt.xlabel(\"Asset Price\")\n",
    "plt.ylabel(\"Energy\")\n",
    "plt.legend()\n",
    "\n",
    "figure = plt.gcf()\n",
    "figure.set_size_inches(15, 5)\n",
    "\n",
    "plt.show()"
   ]
  },
  {
   "cell_type": "code",
   "execution_count": 27,
   "id": "99f30ea3-a353-467d-8cac-60a634c8f173",
   "metadata": {},
   "outputs": [],
   "source": [
    "# 10 - 20\n",
    "\n",
    "# Forbidden:\n",
    "#\n",
    "# 00000000 - 0\n",
    "# ...\n",
    "# 00001001 - 9\n",
    "\n",
    "# 00001010\n",
    "# 00010100\n",
    "\n",
    "# Penalty mask:\n",
    "# 00000000\n",
    "#\n",
    "# 0 -> -1000\n",
    "# 1 -> 1000\n",
    "\n",
    "# Penalty vector:\n",
    "#\n",
    "# [-1000, -1000, -1000, ..., -1000]\n",
    "\n"
   ]
  },
  {
   "cell_type": "markdown",
   "id": "19315d0e-54fd-4781-900c-64c9b14f6443",
   "metadata": {
    "tags": []
   },
   "source": [
    "### 4) Run on DWave device"
   ]
  },
  {
   "cell_type": "code",
   "execution_count": 29,
   "id": "bf9ab085-0efa-4a04-84c9-278d6868f3fe",
   "metadata": {},
   "outputs": [],
   "source": [
    "from braket.aws import AwsDevice\n",
    "from braket.ocean_plugin import BraketDWaveSampler\n",
    "from dwave.system.composites import EmbeddingComposite\n",
    "\n",
    "from braket.tracking import Tracker\n",
    "\n",
    "cost_tracker = Tracker().start()\n",
    "\n",
    "COST_LIMIT = 1"
   ]
  },
  {
   "cell_type": "code",
   "execution_count": 40,
   "id": "7f6afd25-df89-4784-9f31-0b7a67f5b368",
   "metadata": {},
   "outputs": [
    {
     "name": "stdout",
     "output_type": "stream",
     "text": [
      "device.name: DW_2000Q_6\n",
      "device.properties.provider.topology: {'type': 'chimera', 'shape': [16, 16, 4]}\n",
      "device.properties.provider.qubitCount: 2048\n",
      "len(device.properties.provider.couplers): 5974\n",
      "device.properties.service.shotsRange: (1, 10000)\n",
      "device.properties.service.deviceLocation: British Columbia, Canada\n"
     ]
    }
   ],
   "source": [
    "# D-Wave 2000Q device\n",
    "device = AwsDevice(\"arn:aws:braket:::device/qpu/d-wave/DW_2000Q_6\")\n",
    "\n",
    "# # D-Wave Advantage device\n",
    "# device = AwsDevice(\"arn:aws:braket:::device/qpu/d-wave/Advantage_system4\")\n",
    "\n",
    "print(f\"device.name:\", device.name)\n",
    "print(f\"device.properties.provider.topology:\", device.properties.provider.topology)\n",
    "print(f\"device.properties.provider.qubitCount:\", device.properties.provider.qubitCount)\n",
    "print(f\"len(device.properties.provider.couplers):\", len(device.properties.provider.couplers))\n",
    "print(f\"device.properties.service.shotsRange:\", device.properties.service.shotsRange)\n",
    "print(f\"device.properties.service.deviceLocation:\", device.properties.service.deviceLocation)"
   ]
  },
  {
   "cell_type": "code",
   "execution_count": 41,
   "id": "466327f4-1f44-47cd-8b49-83da4bd426b0",
   "metadata": {},
   "outputs": [
    {
     "data": {
      "text/plain": [
       "(48, 48)"
      ]
     },
     "execution_count": 41,
     "metadata": {},
     "output_type": "execute_result"
    }
   ],
   "source": [
    "qubo.coupling_matrix.shape"
   ]
  },
  {
   "cell_type": "code",
   "execution_count": 42,
   "id": "755f04e9-2278-41ba-bf34-35f45c8ef1df",
   "metadata": {},
   "outputs": [],
   "source": [
    "dwave_2000q_sampler = BraketDWaveSampler(device_arn='arn:aws:braket:::device/qpu/d-wave/DW_2000Q_6')\n",
    "embedded_sampler = EmbeddingComposite(dwave_2000q_sampler)"
   ]
  },
  {
   "cell_type": "code",
   "execution_count": 43,
   "id": "c0f26b28-b093-49a7-9e58-3e29cbeb117c",
   "metadata": {},
   "outputs": [],
   "source": [
    "num_reads = 1000\n",
    "\n",
    "# if cost_tracker.qpu_tasks_cost() < COST_LIMIT:\n",
    "\n",
    "    # sampling_results = embedded_sampler.sample_qubo(Q=qubo.qubo_coefficients, num_reads=num_reads)"
   ]
  },
  {
   "cell_type": "code",
   "execution_count": 44,
   "id": "70ddd64b-d3bc-4751-a170-e0e7fb0f3430",
   "metadata": {},
   "outputs": [
    {
     "name": "stdout",
     "output_type": "stream",
     "text": [
      "quantum_tasks_statistics: {}\n",
      "qpu_tasks_cost: 0\n",
      "simulator_tasks_cost: 0\n"
     ]
    }
   ],
   "source": [
    "print(\"quantum_tasks_statistics:\", cost_tracker.quantum_tasks_statistics())\n",
    "print(\"qpu_tasks_cost:\", cost_tracker.qpu_tasks_cost())\n",
    "print(\"simulator_tasks_cost:\", cost_tracker.simulator_tasks_cost())"
   ]
  },
  {
   "cell_type": "code",
   "execution_count": 45,
   "id": "2662887a-5846-4c00-b008-4957b15f9fe6",
   "metadata": {},
   "outputs": [],
   "source": [
    "# # Save results\n",
    "\n",
    "# RESULTS_FILENAME = 'results/2000q_48_qubits.npy'\n",
    "\n",
    "# np.save(RESULTS_FILENAME, sampling_results)"
   ]
  },
  {
   "cell_type": "code",
   "execution_count": 50,
   "id": "d7f64051-b91d-43ea-b1ef-0092c1f74b43",
   "metadata": {},
   "outputs": [],
   "source": [
    "# Load results\n",
    "\n",
    "RESULTS_FILENAME = 'results/2000q_48_qubits.npy'\n",
    "\n",
    "sampling_results = np.load(RESULTS_FILENAME, allow_pickle=True).item()"
   ]
  },
  {
   "cell_type": "code",
   "execution_count": 51,
   "id": "7b1800de-f542-44be-8641-7c5aa895621d",
   "metadata": {},
   "outputs": [
    {
     "name": "stdout",
     "output_type": "stream",
     "text": [
      "sampling_results: 450\n",
      "aggregated_results: 339\n",
      "filtered_results: 164\n"
     ]
    }
   ],
   "source": [
    "aggregated_results = sampling_results.aggregate()\n",
    "\n",
    "filtered_results = aggregated_results.filter(pred=qubo.is_correct_one_hot)\n",
    "\n",
    "print(\"sampling_results:\", len(sampling_results))\n",
    "print(\"aggregated_results:\", len(aggregated_results))\n",
    "print(\"filtered_results:\", len(filtered_results))\n",
    "\n",
    "# print(\"sampling_results:\\n\", sampling_results)\n",
    "# print(\"aggregated_results:\\n\", aggregated_results)\n",
    "# print(\"filtered_results:\\n\", filtered_results)"
   ]
  },
  {
   "cell_type": "code",
   "execution_count": 52,
   "id": "b8da9f0b-27fb-44dd-beef-ed1649987431",
   "metadata": {},
   "outputs": [
    {
     "name": "stdout",
     "output_type": "stream",
     "text": [
      "maximize:\n",
      " True\n",
      "inputs:\n",
      " {'initial_asset_price': 15, 'volatility': 0.1}\n",
      "decoded_results:\n",
      "    initial_asset_price  volatility  asset_price        energy  num_occurrences\n",
      "0                 15.0         0.1         22.4 -24018.975494                6\n",
      "1                 15.0         0.1         22.5 -24018.357479                1\n",
      "2                 15.0         0.1         22.8 -24017.982652               11\n",
      "3                 15.0         0.1         22.7 -24017.740591                1\n",
      "4                 15.0         0.1         22.9 -24017.389839                4\n"
     ]
    }
   ],
   "source": [
    "# Decode\n",
    "\n",
    "decoded_results = []\n",
    "\n",
    "for sample in filtered_results.data():\n",
    "    \n",
    "    result = qubo.decode_sample(sample.sample)\n",
    "    \n",
    "    result['energy'] = sample.energy\n",
    "    result['num_occurrences'] = sample.num_occurrences\n",
    "    \n",
    "    decoded_results.append(result)\n",
    "    \n",
    "decoded_results = pd.DataFrame(decoded_results)\n",
    "\n",
    "filtered_columns = ['asset_price', 'energy', 'num_occurrences']\n",
    "\n",
    "pd.set_option('display.max_rows', 10)\n",
    "\n",
    "print(\"maximize:\\n\", MAXIMIZE)\n",
    "print(\"inputs:\\n\", INPUTS)\n",
    "print(\"decoded_results:\\n\", decoded_results[:].head())"
   ]
  },
  {
   "cell_type": "code",
   "execution_count": 53,
   "id": "28e1a8b1-c0ff-4f07-a2ea-af566bc1e408",
   "metadata": {},
   "outputs": [
    {
     "data": {
      "image/png": "[encoded data removed]",
      "text/plain": [
       "<Figure size 1080x360 with 1 Axes>"
      ]
     },
     "metadata": {
      "needs_background": "dark"
     },
     "output_type": "display_data"
    }
   ],
   "source": [
    "# Plot\n",
    "\n",
    "results_by_asset_price = decoded_results.sort_values('asset_price')\n",
    "\n",
    "energies = results_by_asset_price['energy'].to_numpy()\n",
    "asset_prices = results_by_asset_price['asset_price'].to_numpy()\n",
    "\n",
    "sizes = results_by_asset_price['num_occurrences'].to_numpy()\n",
    "    \n",
    "sizes = sizes - min(sizes)\n",
    "sizes = sizes ** 10\n",
    "sizes = sizes / (max(sizes) or 1) * 100\n",
    "\n",
    "\n",
    "plt.plot(asset_prices, energies, color='#fa8174', alpha=0.5)\n",
    "\n",
    "plt.scatter(asset_prices, energies,\n",
    "            label=f\"Occurrences\",\n",
    "            color='#fa8174',\n",
    "            s=sizes)\n",
    "\n",
    "plt.xlabel(\"Asset Price\")\n",
    "plt.ylabel(\"Energy\")\n",
    "plt.legend()\n",
    "\n",
    "figure = plt.gcf()\n",
    "figure.set_size_inches(15, 5)\n",
    "\n",
    "plt.show()"
   ]
  },
  {
   "cell_type": "code",
   "execution_count": null,
   "id": "b7c967f9-f1d7-4b6b-af85-bbc402a8c2f2",
   "metadata": {},
   "outputs": [],
   "source": []
  },
  {
   "cell_type": "markdown",
   "id": "f527aab1-b32d-4176-8080-6f2835725ab6",
   "metadata": {
    "tags": []
   },
   "source": [
    "### DWave 2000Q - Minimal Example"
   ]
  },
  {
   "cell_type": "code",
   "execution_count": 30,
   "id": "99ad3561-dd54-417c-a609-cba75fbc36d2",
   "metadata": {},
   "outputs": [],
   "source": [
    "from braket.aws import AwsDevice\n",
    "from braket.ocean_plugin import BraketDWaveSampler\n",
    "from dwave.system.composites import EmbeddingComposite\n",
    "\n",
    "import dimod"
   ]
  },
  {
   "cell_type": "code",
   "execution_count": 31,
   "id": "7c081f46-ac15-4d47-a42e-8b63b2db04b0",
   "metadata": {},
   "outputs": [],
   "source": [
    "from braket.tracking import Tracker\n",
    "\n",
    "cost_tracker = Tracker().start()\n",
    "\n",
    "COST_LIMIT = 1"
   ]
  },
  {
   "cell_type": "code",
   "execution_count": 32,
   "id": "c9a98c7d-744b-4895-b0fd-247f09a953b9",
   "metadata": {},
   "outputs": [
    {
     "name": "stdout",
     "output_type": "stream",
     "text": [
      "device.name: DW_2000Q_6\n",
      "device.properties.provider.topology: {'type': 'chimera', 'shape': [16, 16, 4]}\n",
      "device.properties.provider.qubitCount: 2048\n",
      "len(device.properties.provider.couplers): 5974\n",
      "device.properties.service.shotsRange: (1, 10000)\n",
      "device.properties.service.deviceLocation: British Columbia, Canada\n"
     ]
    }
   ],
   "source": [
    "# D-Wave 2000Q device\n",
    "device = AwsDevice(\"arn:aws:braket:::device/qpu/d-wave/DW_2000Q_6\")\n",
    "\n",
    "# # D-Wave Advantage device\n",
    "# device = AwsDevice(\"arn:aws:braket:::device/qpu/d-wave/Advantage_system4\")\n",
    "\n",
    "print(f\"device.name:\", device.name)\n",
    "print(f\"device.properties.provider.topology:\", device.properties.provider.topology)\n",
    "print(f\"device.properties.provider.qubitCount:\", device.properties.provider.qubitCount)\n",
    "print(f\"len(device.properties.provider.couplers):\", len(device.properties.provider.couplers))\n",
    "print(f\"device.properties.service.shotsRange:\", device.properties.service.shotsRange)\n",
    "print(f\"device.properties.service.deviceLocation:\", device.properties.service.deviceLocation)"
   ]
  },
  {
   "cell_type": "code",
   "execution_count": 33,
   "id": "5b702605-f9dc-4199-84cd-b43b01798130",
   "metadata": {},
   "outputs": [],
   "source": [
    "# Example model\n",
    "\n",
    "num_reads = 100\n",
    "\n",
    "vartype = dimod.SPIN\n",
    "# vartype = dimod.BINARY\n",
    "\n",
    "quadratic = {(0, 1): 1.0, (0,4): 2.0, (1, 2): 1.0, (1,4): 1.0, (2, 3): 1.0, (3, 4): 1.0}\n",
    "linear = {0: +1.0}\n",
    "offset = 0.0\n",
    "\n",
    "model = dimod.BinaryQuadraticModel(linear, quadratic, offset, vartype)"
   ]
  },
  {
   "cell_type": "code",
   "execution_count": 34,
   "id": "b6dcc7be-512d-4f15-b703-616c6138765f",
   "metadata": {},
   "outputs": [
    {
     "name": "stdout",
     "output_type": "stream",
     "text": [
      "   0  1  2  3  4 energy num_oc.\n",
      "0 -1 -1 +1 -1 +1   -6.0     100\n",
      "['SPIN', 1 rows, 100 samples, 5 variables]\n"
     ]
    }
   ],
   "source": [
    "sampler = dimod.SimulatedAnnealingSampler()\n",
    "\n",
    "response = sampler.sample(model, num_reads=num_reads)\n",
    "\n",
    "response_aggregate = response.aggregate()\n",
    "print(response_aggregate)"
   ]
  },
  {
   "cell_type": "code",
   "execution_count": 35,
   "id": "0abf6ada-df2a-48fd-9d59-8234e9b4bbcd",
   "metadata": {},
   "outputs": [],
   "source": [
    "# Real device\n",
    "\n",
    "sampler = BraketDWaveSampler(device_arn='arn:aws:braket:::device/qpu/d-wave/DW_2000Q_6')\n",
    "embedded_sampler = EmbeddingComposite(sampler)"
   ]
  },
  {
   "cell_type": "code",
   "execution_count": 36,
   "id": "d6cbe0be-7722-4ec4-b0fb-0e3b4a9bd2be",
   "metadata": {},
   "outputs": [],
   "source": [
    "# if cost_tracker.qpu_tasks_cost() < COST_LIMIT:    \n",
    "\n",
    "#     response = embedded_sampler.sample(model, num_reads=num_reads)"
   ]
  },
  {
   "cell_type": "code",
   "execution_count": 37,
   "id": "763fbbda-3e8f-41d1-bcab-1ec3dec01796",
   "metadata": {},
   "outputs": [
    {
     "name": "stdout",
     "output_type": "stream",
     "text": [
      "    0  1  2  3  4 energy num_oc.\n",
      "0  -1 -1 +1 -1 +1   -6.0       1\n",
      "1  -1 -1 +1 -1 +1   -6.0       1\n",
      "2  -1 -1 +1 -1 +1   -6.0       1\n",
      "3  -1 -1 +1 -1 +1   -6.0       1\n",
      "4  -1 -1 +1 -1 +1   -6.0       1\n",
      "5  -1 -1 +1 -1 +1   -6.0       1\n",
      "6  -1 -1 +1 -1 +1   -6.0       1\n",
      "7  -1 -1 +1 -1 +1   -6.0       1\n",
      "...\n",
      "99 -1 -1 +1 -1 +1   -6.0       1\n",
      "['SPIN', 100 rows, 100 samples, 5 variables]\n"
     ]
    }
   ],
   "source": [
    "print(response)"
   ]
  },
  {
   "cell_type": "code",
   "execution_count": 38,
   "id": "0eea38e9-f613-445a-9896-0947c8e2af9e",
   "metadata": {},
   "outputs": [
    {
     "name": "stdout",
     "output_type": "stream",
     "text": [
      "quantum_tasks_statistics: {}\n",
      "qpu_tasks_cost: 0\n",
      "simulator_tasks_cost: 0\n"
     ]
    }
   ],
   "source": [
    "print(\"quantum_tasks_statistics:\", cost_tracker.quantum_tasks_statistics())\n",
    "print(\"qpu_tasks_cost:\", cost_tracker.qpu_tasks_cost())\n",
    "print(\"simulator_tasks_cost:\", cost_tracker.simulator_tasks_cost())"
   ]
  },
  {
   "cell_type": "code",
   "execution_count": null,
   "id": "19fa7451-657b-48dc-a9f3-662a083711ea",
   "metadata": {},
   "outputs": [],
   "source": []
  },
  {
   "cell_type": "markdown",
   "id": "22d29706-7782-4c43-957f-68f500299d52",
   "metadata": {},
   "source": [
    "### QUBO to BQM"
   ]
  },
  {
   "cell_type": "code",
   "execution_count": 127,
   "id": "ff3d0bf5-959b-410b-ab47-8360eb8f3cb0",
   "metadata": {},
   "outputs": [
    {
     "name": "stdout",
     "output_type": "stream",
     "text": [
      "   0  1  2  3  4 energy num_oc.\n",
      "0 +1 +1 -1 +1 -1   -5.0      57\n",
      "1 -1 -1 +1 -1 +1   -5.0      43\n",
      "['SPIN', 2 rows, 100 samples, 5 variables]\n"
     ]
    }
   ],
   "source": [
    "import dimod\n",
    "\n",
    "\n",
    "# Example model\n",
    "\n",
    "num_reads = 100\n",
    "\n",
    "vartype = dimod.SPIN\n",
    "# vartype = dimod.BINARY\n",
    "\n",
    "quadratic = {(0, 1): 1.0, (0,4): 2.0, (1, 2): 1.0, (1,4): 1.0, (2, 3): 1.0, (3, 4): 1.0}\n",
    "# linear = {0: +1.0}\n",
    "linear = {}\n",
    "offset = 0.0\n",
    "\n",
    "model = dimod.BinaryQuadraticModel(linear, quadratic, offset, vartype)\n",
    "\n",
    "sampler = dimod.SimulatedAnnealingSampler()\n",
    "\n",
    "# response = sampler.sample(model, num_reads=num_reads)\n",
    "\n",
    "response = sampler.sample_ising(J=quadratic, h=linear, num_reads=num_reads)\n",
    "\n",
    "print(response.aggregate())"
   ]
  },
  {
   "cell_type": "code",
   "execution_count": 128,
   "id": "79f014ca-7e9c-4a88-922b-69347601caa0",
   "metadata": {},
   "outputs": [
    {
     "data": {
      "text/plain": [
       "({(1, 0): 4.0,\n",
       "  (4, 0): 8.0,\n",
       "  (4, 1): 4.0,\n",
       "  (2, 1): 4.0,\n",
       "  (3, 4): 4.0,\n",
       "  (3, 2): 4.0,\n",
       "  (0, 0): -6.0,\n",
       "  (1, 1): -6.0,\n",
       "  (4, 4): -8.0,\n",
       "  (2, 2): -4.0,\n",
       "  (3, 3): -4.0},\n",
       " 7.0)"
      ]
     },
     "execution_count": 128,
     "metadata": {},
     "output_type": "execute_result"
    }
   ],
   "source": [
    "new_qubo, offset = model.to_qubo()\n",
    "\n",
    "new_qubo, offset"
   ]
  },
  {
   "cell_type": "code",
   "execution_count": 136,
   "id": "8587e563-2615-4467-9888-a0f10362633f",
   "metadata": {},
   "outputs": [
    {
     "data": {
      "text/plain": [
       "{(1, 0): -3.0,\n",
       " (4, 0): 1.0,\n",
       " (4, 1): -3.0,\n",
       " (2, 1): -3.0,\n",
       " (3, 4): -3.0,\n",
       " (3, 2): -3.0,\n",
       " (0, 0): -13.0,\n",
       " (1, 1): -13.0,\n",
       " (4, 4): -15.0,\n",
       " (2, 2): -11.0,\n",
       " (3, 3): -11.0}"
      ]
     },
     "execution_count": 136,
     "metadata": {},
     "output_type": "execute_result"
    }
   ],
   "source": [
    "new_qubo_with_offset = {key: value - offset for key, value in new_qubo.items()}\n",
    "\n",
    "new_qubo_with_offset"
   ]
  },
  {
   "cell_type": "code",
   "execution_count": 138,
   "id": "70f20f83-d1a0-4c94-b70d-94d191c3f074",
   "metadata": {},
   "outputs": [
    {
     "name": "stdout",
     "output_type": "stream",
     "text": [
      "   0  1  2  3  4 energy num_oc.\n",
      "0  1  1  0  1  0  -12.0      54\n",
      "1  0  0  1  0  1  -12.0      46\n",
      "['BINARY', 2 rows, 100 samples, 5 variables]\n"
     ]
    }
   ],
   "source": [
    "response = sampler.sample_qubo(Q=new_qubo, num_reads=num_reads)\n",
    "\n",
    "print(response.aggregate())"
   ]
  },
  {
   "cell_type": "code",
   "execution_count": 131,
   "id": "3afff861-c584-4bc4-aa0a-abcb97c06ce3",
   "metadata": {},
   "outputs": [
    {
     "data": {
      "text/plain": [
       "BinaryQuadraticModel({1: -6.0, 0: -6.0, 4: -8.0, 2: -4.0, 3: -4.0}, {(0, 1): 4.0, (4, 1): 4.0, (4, 0): 8.0, (2, 1): 4.0, (3, 4): 4.0, (3, 2): 4.0}, 0.0, 'BINARY')"
      ]
     },
     "execution_count": 131,
     "metadata": {},
     "output_type": "execute_result"
    }
   ],
   "source": [
    "new_model = dimod.BinaryQuadraticModel.from_qubo(new_qubo)\n",
    "\n",
    "new_model"
   ]
  },
  {
   "cell_type": "code",
   "execution_count": 133,
   "id": "00e71cfe-70e9-45ff-bb31-2d62ff043790",
   "metadata": {},
   "outputs": [
    {
     "name": "stdout",
     "output_type": "stream",
     "text": [
      "   0  1  2  3  4 energy num_oc.\n",
      "0  0  0  1  0  1  -12.0      52\n",
      "1  1  1  0  1  0  -12.0      48\n",
      "['BINARY', 2 rows, 100 samples, 5 variables]\n"
     ]
    }
   ],
   "source": [
    "response = sampler.sample(new_model, num_reads=num_reads)\n",
    "\n",
    "print(response.aggregate())"
   ]
  },
  {
   "cell_type": "markdown",
   "id": "fca433e4-77dd-4c90-a1c7-8e3368940fde",
   "metadata": {
    "tags": []
   },
   "source": [
    "### Save and load model"
   ]
  },
  {
   "cell_type": "code",
   "execution_count": 85,
   "id": "3165e0d2-3759-4891-8191-efdb901e6dfa",
   "metadata": {
    "tags": []
   },
   "outputs": [],
   "source": [
    "# import dill\n",
    "\n",
    "# MODEL_PATH = 'saved_models/15_model.pt'\n",
    "\n",
    "# model_parameters = {'state_dict': trainer.model.state_dict(),\n",
    "#                     'scheme': trainer.splitter.dataset.scheme}\n",
    "\n",
    "# # torch.save(model_parameters, MODEL_PATH, pickle_module=dill)\n",
    "\n",
    "# # trainer.model.state_dict()"
   ]
  },
  {
   "cell_type": "code",
   "execution_count": 86,
   "id": "92781938-5a7f-4e4a-8aef-4fb1e31d7fb8",
   "metadata": {},
   "outputs": [],
   "source": [
    "# loaded_trainer = Trainer(splitter=splitter, embedding_dimensions=16)\n",
    "\n",
    "# model_parameters = torch.load(MODEL_PATH, pickle_module=dill)\n",
    "\n",
    "# loaded_trainer.model.load_state_dict(model_parameters['state_dict'])\n",
    "\n",
    "# loaded_scheme = model_parameters['scheme']\n",
    "\n",
    "# loaded_trainer.model.eval()"
   ]
  },
  {
   "cell_type": "code",
   "execution_count": 87,
   "id": "12748b09-fd2a-4568-91bc-be94024620c4",
   "metadata": {},
   "outputs": [],
   "source": [
    "# # Predict\n",
    "\n",
    "# indices = np.arange(0, len(dataset), 1)\n",
    "\n",
    "# targets, predictions = loaded_trainer.predict(indices)\n",
    "\n",
    "# probability_factor = dataset.scheme['probability']['factor']\n",
    "\n",
    "# defactored_targets = np.array(targets) / probability_factor\n",
    "# defactored_predictions = np.array(predictions) / probability_factor\n",
    "\n",
    "# # Plot\n",
    "\n",
    "# figure = plt.gcf()\n",
    "# figure.set_size_inches(15, 5)\n",
    "\n",
    "# asset_prices = dataset.not_encoded_data[indices, 2]\n",
    "\n",
    "# plt.plot(asset_prices, defactored_targets, label=f\"Targets\")\n",
    "# plt.plot(asset_prices, defactored_predictions, label=f\"Predictions\")\n",
    "\n",
    "# plt.locator_params(axis='x', nbins=20)\n",
    "\n",
    "# plt.xlabel(\"Asset Price\")\n",
    "# plt.ylabel(\"Probability\")\n",
    "# plt.legend()\n",
    "\n",
    "# plt.show()"
   ]
  },
  {
   "cell_type": "code",
   "execution_count": 68,
   "id": "2bc8352d-c458-42fe-b592-7b291789e41b",
   "metadata": {},
   "outputs": [],
   "source": [
    "# # Swap horizontal pairs\n",
    "\n",
    "# a = np.outer(np.full(8, 10) ** np.arange(8),\n",
    "#              range(1, 9))\n",
    "\n",
    "# b_shape = a.shape * np.array([0.5, 2])\n",
    "\n",
    "# b = a.reshape(b_shape.astype(int))\n",
    "# c = b[::-1]\n",
    "\n",
    "# d = c.reshape(a.shape)\n",
    "\n",
    "# print(a)\n",
    "# print()\n",
    "# print(b)\n",
    "# print()\n",
    "# print(c)\n",
    "# print()\n",
    "# print(d)\n",
    "\n",
    "\n",
    "# # Swap vertical pairs\n",
    "\n",
    "# a = np.outer(np.full(8, 10) ** np.arange(8),\n",
    "#              range(1, 9))\n",
    "\n",
    "# # b_shape = a.shape * np.array([0.5, 2])\n",
    "\n",
    "# b = a.reshape(-1, 2)\n",
    "\n",
    "# c = b[::-1]\n",
    "\n",
    "# d = c.reshape(a.shape)\n",
    "\n",
    "# e = d[::-1]\n",
    "\n",
    "# print(a)\n",
    "# print()\n",
    "# print(b)\n",
    "# print()\n",
    "# print(c)\n",
    "# print()\n",
    "# print(d)\n",
    "# print()\n",
    "# print(e)"
   ]
  },
  {
   "cell_type": "code",
   "execution_count": 67,
   "id": "5fd4a82d-2e74-489d-84ca-524eeda6cbf6",
   "metadata": {},
   "outputs": [
    {
     "data": {
      "text/plain": [
       "array([[0, 1, 1, 0, 1, 0, 0, 1]], dtype=uint8)"
      ]
     },
     "execution_count": 67,
     "metadata": {},
     "output_type": "execute_result"
    }
   ],
   "source": [
    "a = np.array([105.2])\n",
    "\n",
    "b = dataset.encode_to_bits(a, dtype='uint8', bits_count=8)\n",
    "\n",
    "b"
   ]
  },
  {
   "cell_type": "code",
   "execution_count": 68,
   "id": "cf602359-557e-45f0-9c33-672f48d17ea4",
   "metadata": {},
   "outputs": [
    {
     "data": {
      "text/plain": [
       "array([[0., 0., 0., ..., 0., 1., 0.],\n",
       "       [0., 0., 0., ..., 0., 1., 0.],\n",
       "       [0., 0., 0., ..., 0., 1., 0.],\n",
       "       ...,\n",
       "       [0., 0., 0., ..., 1., 1., 0.],\n",
       "       [0., 0., 0., ..., 1., 1., 0.],\n",
       "       [0., 0., 0., ..., 1., 1., 0.]])"
      ]
     },
     "execution_count": 68,
     "metadata": {},
     "output_type": "execute_result"
    }
   ],
   "source": [
    "dataset.data"
   ]
  },
  {
   "cell_type": "code",
   "execution_count": 69,
   "id": "d1f1db8c-ab57-42c6-834c-bfc81df3b923",
   "metadata": {},
   "outputs": [
    {
     "data": {
      "text/plain": [
       "array([[ 15.     ,  10.     , 105.27802,   0.     ],\n",
       "       [ 15.     ,  10.     , 105.27916,   0.     ],\n",
       "       [ 15.     ,  10.     , 105.2803 ,   0.     ],\n",
       "       ...,\n",
       "       [ 15.     ,  10.     , 219.39296,   0.     ],\n",
       "       [ 15.     ,  10.     , 219.3941 ,   0.     ],\n",
       "       [ 15.     ,  10.     , 219.39524,   0.     ]])"
      ]
     },
     "execution_count": 69,
     "metadata": {},
     "output_type": "execute_result"
    }
   ],
   "source": [
    "dataset.not_encoded_data"
   ]
  },
  {
   "cell_type": "code",
   "execution_count": null,
   "id": "99ed916b-21c9-4e6a-8a35-4b9f3f0e1f57",
   "metadata": {},
   "outputs": [],
   "source": []
  }
 ],
 "metadata": {
  "kernelspec": {
   "display_name": "Python 3 (ipykernel)",
   "language": "python",
   "name": "python3"
  },
  "language_info": {
   "codemirror_mode": {
    "name": "ipython",
    "version": 3
   },
   "file_extension": ".py",
   "mimetype": "text/x-python",
   "name": "python",
   "nbconvert_exporter": "python",
   "pygments_lexer": "ipython3",
   "version": "3.8.10"
  }
 },
 "nbformat": 4,
 "nbformat_minor": 5
}
