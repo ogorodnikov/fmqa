{
 "cells": [
  {
   "cell_type": "code",
   "execution_count": 1,
   "id": "ee420c61-93cf-4e9a-a1ba-9a85c99bb605",
   "metadata": {},
   "outputs": [],
   "source": [
    "import time\n",
    "import tqdm\n",
    "import numpy as np\n",
    "import pandas as pd\n",
    "import matplotlib.pyplot as plt\n",
    "\n",
    "from collections import defaultdict\n",
    "\n",
    "plt.style.use('dark_background')"
   ]
  },
  {
   "cell_type": "code",
   "execution_count": 2,
   "id": "c8bbf29c-e811-4b9a-96af-2e249b625623",
   "metadata": {
    "tags": []
   },
   "outputs": [],
   "source": [
    "def plot_asset_prices(initial_asset_prices, volatilities, asset_prices_meshgrid,\n",
    "                       elevation=10, initial_azimuth=230, title=None):\n",
    "\n",
    "    initial_asset_prices_grid, volatilities_grid = np.meshgrid(initial_asset_prices, volatilities)\n",
    "\n",
    "    fig, ax = plt.subplots(figsize=(5, 5),\n",
    "                           subplot_kw={\"projection\": \"3d\"})\n",
    "\n",
    "    surface = ax.plot_surface(initial_asset_prices_grid,\n",
    "                              volatilities_grid,\n",
    "                              asset_prices_meshgrid.T,\n",
    "                              cmap='plasma',\n",
    "                              linewidth=30, \n",
    "                              antialiased=False)\n",
    "\n",
    "    ax.view_init(elev=elevation, azim=initial_azimuth)\n",
    "\n",
    "    ax.zaxis.set_rotate_label(False)\n",
    "    \n",
    "    ax.set_xlabel('Initial Asset Price')\n",
    "    ax.set_ylabel('Volatility')\n",
    "    ax.set_zlabel('Asset Price', rotation=90)\n",
    "    \n",
    "    print(title + ':')\n",
    "    \n",
    "    plt.show()\n",
    "    \n",
    "\n",
    "def plot_asset_price_modes():\n",
    "\n",
    "    for mode in asset_prices_meshgrid:\n",
    "\n",
    "        plot_asset_prices(initial_asset_prices, volatilities, asset_prices_meshgrid[mode], title=mode)"
   ]
  },
  {
   "cell_type": "code",
   "execution_count": 3,
   "id": "c81ad6bf-ed61-4d9b-a12d-e4d09fb2ac63",
   "metadata": {},
   "outputs": [],
   "source": [
    "def sample_asset_prices(initial_asset_price, time_to_maturity, \n",
    "                        risk_free_interest_rate, dividend_rate, \n",
    "                        volatility, time_steps_count, samples_count):\n",
    "    \n",
    "    rate_difference = risk_free_interest_rate - dividend_rate\n",
    "    \n",
    "    samples = np.zeros(samples_count) \n",
    "    time_step = time_to_maturity/time_steps_count\n",
    "    \n",
    "    weights = np.random.standard_normal(size=(samples_count, time_steps_count))\n",
    "    \n",
    "    samples = weights.sum(axis=1) * np.sqrt(time_step)  \n",
    "\n",
    "    asset_prices = initial_asset_price * np.exp((rate_difference - 0.5 * volatility ** 2) * time_to_maturity \n",
    "                                                + volatility * samples) \n",
    "    \n",
    "    # adjusted_asset_prices = asset_prices * np.exp(-risk_free_interest_rate * time_to_maturity)\n",
    "         \n",
    "    return asset_prices"
   ]
  },
  {
   "cell_type": "code",
   "execution_count": 4,
   "id": "ac1900bc-499c-4aa2-8a68-4262cc3f0a62",
   "metadata": {
    "tags": []
   },
   "outputs": [],
   "source": [
    "def simple_monte_carlo(initial_stock_price, strike_price, time_to_maturity, \n",
    "                       risk_free_interest_rate, dividend_rate, \n",
    "                       volatility, option_type, time_steps_count, samples_count):\n",
    "    \n",
    "    rate_difference = risk_free_interest_rate - dividend_rate\n",
    "    \n",
    "    # Stock prices\n",
    "    \n",
    "    samples = np.zeros(samples_count) \n",
    "    time_step = time_to_maturity/time_steps_count\n",
    "    \n",
    "    weights = np.random.standard_normal(size=(samples_count, time_steps_count))\n",
    "    \n",
    "    samples = weights.sum(axis=1) * np.sqrt(time_step)  \n",
    "\n",
    "    stock_prices = initial_stock_price * np.exp((rate_difference - 0.5 * volatility ** 2) * time_to_maturity \n",
    "                                                + volatility * samples)\n",
    "    \n",
    "    # Option prices\n",
    "    \n",
    "    price_differences = stock_prices - strike_price   \n",
    "    \n",
    "    if option_type == 'Put':\n",
    "        price_differences = -price_differences\n",
    "    \n",
    "    price_differences[price_differences < 0] = 0\n",
    "    \n",
    "    option_prices = price_differences * np.exp(-risk_free_interest_rate * time_to_maturity)\n",
    "         \n",
    "    return option_prices"
   ]
  },
  {
   "cell_type": "code",
   "execution_count": 5,
   "id": "8c99d248-d83d-4c3a-81d7-931c00b94a2f",
   "metadata": {
    "tags": []
   },
   "outputs": [],
   "source": [
    "# Fixed\n",
    "\n",
    "T = time_to_maturity = 180 / 365\n",
    "n = time_steps_count = 300\n",
    "\n",
    "q = dividend_rate = 0.3\n",
    "r = risk_free_interest_rate = 0.4\n",
    "\n",
    "CallPut = option_type = 'Call'"
   ]
  },
  {
   "cell_type": "markdown",
   "id": "b2b8bb2b-aaae-4a83-b217-49fe86027d53",
   "metadata": {},
   "source": [
    "### 9) Alex Dataset - 1 Initial Price, 1 Volatility - 1000 Bins - 10M Samples"
   ]
  },
  {
   "cell_type": "code",
   "execution_count": 9,
   "id": "49043141-8e1d-47d5-97b5-f7aea0175a6b",
   "metadata": {},
   "outputs": [],
   "source": [
    "DATASET_FILE = 'simulated_prices/23_dataset.csv'\n",
    "\n",
    "initial_asset_prices = [15]\n",
    "volatilities = [0.7]\n",
    "\n",
    "samples_count = 1000000\n",
    "histogram_bins_count = 100000"
   ]
  },
  {
   "cell_type": "code",
   "execution_count": 10,
   "id": "11443bc3-7880-43fa-8dbe-f4c264285619",
   "metadata": {},
   "outputs": [
    {
     "name": "stderr",
     "output_type": "stream",
     "text": [
      "Simulating: 100%|███████████████████████████████████████████████████████| 1/1 [00:06<00:00,  6.20s/simulation]\n"
     ]
    }
   ],
   "source": [
    "np.savetxt(DATASET_FILE, [],\n",
    "           header='initial_asset_price,volatility,asset_price,probability',\n",
    "           comments='')\n",
    "\n",
    "asset_prices_shape = len(initial_asset_prices), len(volatilities)\n",
    "\n",
    "asset_prices_meshgrid = defaultdict(lambda: np.zeros(asset_prices_shape))\n",
    "\n",
    "simulation_tracker = tqdm.tqdm(\n",
    "    initial_asset_prices,\n",
    "    desc=f\"Simulating\",\n",
    "    ncols=110,\n",
    "    unit='simulation',\n",
    "    mininterval=1\n",
    ")\n",
    "\n",
    "for i, initial_asset_price in enumerate(simulation_tracker):\n",
    "\n",
    "    for j, volatility in enumerate(volatilities):\n",
    "\n",
    "        asset_prices = sample_asset_prices(\n",
    "            initial_asset_price=initial_asset_price, \n",
    "            time_to_maturity=time_to_maturity, \n",
    "            risk_free_interest_rate=risk_free_interest_rate,\n",
    "            dividend_rate=dividend_rate, \n",
    "            volatility=volatility,\n",
    "            time_steps_count=time_steps_count,\n",
    "            samples_count=samples_count\n",
    "        )\n",
    "               \n",
    "        # Meshgrid\n",
    "\n",
    "        asset_prices_meshgrid['Mean asset prices'][i, j] = asset_prices.mean()\n",
    "        asset_prices_meshgrid['Minimum asset prices'][i, j] = asset_prices.min()\n",
    "        asset_prices_meshgrid['Maximum asset prices'][i, j] = asset_prices.max()\n",
    "        \n",
    "        \n",
    "        # Histogram\n",
    "\n",
    "        samples_per_bin, bin_edges = np.histogram(asset_prices, bins=histogram_bins_count)\n",
    "\n",
    "        bin_width = bin_edges[1] - bin_edges[0]\n",
    "\n",
    "        asset_price_bins = bin_centers = bin_edges[:-1] + bin_width / 2\n",
    "\n",
    "        probabilities = samples_per_bin / samples_count\n",
    "        \n",
    "\n",
    "        # Batches\n",
    "\n",
    "        initial_asset_price_batch = np.full(histogram_bins_count, initial_asset_price)\n",
    "\n",
    "        volatility_batch = np.full(histogram_bins_count, volatility)\n",
    "\n",
    "        sample_batch = np.vstack((initial_asset_price_batch,\n",
    "                                  volatility_batch,\n",
    "                                  asset_price_bins,\n",
    "                                  probabilities)).T\n",
    "\n",
    "        with open(DATASET_FILE, 'ab') as dataset_file:\n",
    "            np.savetxt(dataset_file, sample_batch, fmt=('%d', '%f', '%f', '%f'), delimiter=',')"
   ]
  },
  {
   "cell_type": "code",
   "execution_count": 11,
   "id": "deff9430-611f-40b0-93af-65d35dbf0a02",
   "metadata": {},
   "outputs": [
    {
     "data": {
      "image/png": "[encoded data removed]",
      "text/plain": [
       "<Figure size 432x288 with 1 Axes>"
      ]
     },
     "metadata": {
      "needs_background": "dark"
     },
     "output_type": "display_data"
    }
   ],
   "source": [
    "plt.plot(probabilities);"
   ]
  },
  {
   "cell_type": "markdown",
   "id": "7f8383f6-f3f9-465f-9b0f-ea5aa7e28d8d",
   "metadata": {},
   "source": [
    "### 8) Assets - No Probabilities - Mean - 10 Initial prices, 10 Volatilities - 1M Samples"
   ]
  },
  {
   "cell_type": "code",
   "execution_count": 6,
   "id": "5fd1e176-de67-427a-99e0-8d478dbfb31e",
   "metadata": {},
   "outputs": [],
   "source": [
    "DATASET_FILE = 'simulated_prices/assets_no_probabilities_1M_samples.csv'\n",
    "\n",
    "initial_asset_prices = np.linspace(15, 300, 10)\n",
    "volatilities = np.linspace(0.0, 1.0, 10)\n",
    "\n",
    "samples_count = 1000000"
   ]
  },
  {
   "cell_type": "code",
   "execution_count": 7,
   "id": "4de3fe6e-0a1b-4cee-9fd7-8cc1b5f7f98d",
   "metadata": {},
   "outputs": [
    {
     "name": "stderr",
     "output_type": "stream",
     "text": [
      "Simulating: 100%|█████████████████████████████████████████████████████| 10/10 [09:19<00:00, 55.95s/simulation]\n"
     ]
    }
   ],
   "source": [
    "np.savetxt(DATASET_FILE, [],\n",
    "           header='initial_asset_price,volatility,asset_price,probability',\n",
    "           comments='')\n",
    "\n",
    "asset_prices_shape = len(initial_asset_prices), len(volatilities)\n",
    "\n",
    "asset_prices_meshgrid = defaultdict(lambda: np.zeros(asset_prices_shape))\n",
    "\n",
    "simulation_tracker = tqdm.tqdm(\n",
    "    initial_asset_prices,\n",
    "    desc=f\"Simulating\",\n",
    "    ncols=110,\n",
    "    unit='simulation',\n",
    "    mininterval=1\n",
    ")\n",
    "\n",
    "for i, initial_asset_price in enumerate(simulation_tracker):\n",
    "\n",
    "    for j, volatility in enumerate(volatilities):\n",
    "\n",
    "        asset_prices = sample_asset_prices(\n",
    "            initial_asset_price=initial_asset_price, \n",
    "            time_to_maturity=time_to_maturity, \n",
    "            risk_free_interest_rate=risk_free_interest_rate,\n",
    "            dividend_rate=dividend_rate, \n",
    "            volatility=volatility,\n",
    "            time_steps_count=time_steps_count,\n",
    "            samples_count=samples_count\n",
    "        )\n",
    "               \n",
    "        # Meshgrid\n",
    "        \n",
    "        mean_asset_price = asset_prices.mean()\n",
    "\n",
    "        asset_prices_meshgrid['Mean asset prices'][i, j] = mean_asset_price\n",
    "        asset_prices_meshgrid['Minimum asset prices'][i, j] = asset_prices.min()\n",
    "        asset_prices_meshgrid['Maximum asset prices'][i, j] = asset_prices.max()        \n",
    "\n",
    "        # Row\n",
    "        \n",
    "        row = [[initial_asset_price, volatility, mean_asset_price, 1]]\n",
    "\n",
    "        with open(DATASET_FILE, 'ab') as dataset_file:\n",
    "            np.savetxt(dataset_file, row, fmt=('%d', '%f', '%f', '%f'), delimiter=',')"
   ]
  },
  {
   "cell_type": "markdown",
   "id": "4353be35-ad89-4e1a-a04a-f303dfcbddbe",
   "metadata": {},
   "source": [
    "### 7) Assets - 100K Samples - 100 Bins - 10K Dataset"
   ]
  },
  {
   "cell_type": "code",
   "execution_count": 13,
   "id": "586e8ef8-0033-4dc7-9935-e72497f6c365",
   "metadata": {},
   "outputs": [],
   "source": [
    "DATASET_FILE = 'simulated_prices/asset_prices_double_initial_price_10_bins.csv'\n",
    "\n",
    "# initial_asset_prices = np.linspace(15, 300, 10)\n",
    "volatilities = np.linspace(0.1, 0.5, 10)\n",
    "\n",
    "initial_asset_prices = [150]\n",
    "\n",
    "samples_count = 100000\n",
    "\n",
    "histogram_bins_count = 10"
   ]
  },
  {
   "cell_type": "code",
   "execution_count": 14,
   "id": "6fed7266-58cb-4a5d-9220-87fba8cc0ed2",
   "metadata": {},
   "outputs": [
    {
     "name": "stderr",
     "output_type": "stream",
     "text": [
      "Simulating: 100%|███████████████████████████████████████████████████████| 2/2 [00:12<00:00,  6.22s/simulation]\n"
     ]
    }
   ],
   "source": [
    "np.savetxt(DATASET_FILE, [],\n",
    "           header='initial_asset_price,volatility,asset_price,probability',\n",
    "           comments='')\n",
    "\n",
    "asset_prices_shape = len(initial_asset_prices), len(volatilities)\n",
    "\n",
    "asset_prices_meshgrid = defaultdict(lambda: np.zeros(asset_prices_shape))\n",
    "\n",
    "simulation_tracker = tqdm.tqdm(\n",
    "    initial_asset_prices,\n",
    "    desc=f\"Simulating\",\n",
    "    ncols=110,\n",
    "    unit='simulation',\n",
    "    mininterval=1\n",
    ")\n",
    "\n",
    "for i, initial_asset_price in enumerate(simulation_tracker):\n",
    "\n",
    "    for j, volatility in enumerate(volatilities):\n",
    "\n",
    "        asset_prices = sample_asset_prices(\n",
    "            initial_asset_price=initial_asset_price, \n",
    "            time_to_maturity=time_to_maturity, \n",
    "            risk_free_interest_rate=risk_free_interest_rate,\n",
    "            dividend_rate=dividend_rate, \n",
    "            volatility=volatility,\n",
    "            time_steps_count=time_steps_count,\n",
    "            samples_count=samples_count\n",
    "        )\n",
    "               \n",
    "        # Meshgrid\n",
    "\n",
    "        asset_prices_meshgrid['Mean asset prices'][i, j] = asset_prices.mean()\n",
    "        asset_prices_meshgrid['Minimum asset prices'][i, j] = asset_prices.min()\n",
    "        asset_prices_meshgrid['Maximum asset prices'][i, j] = asset_prices.max()\n",
    "        \n",
    "        \n",
    "        # Histogram\n",
    "\n",
    "        samples_per_bin, bin_edges = np.histogram(asset_prices, bins=histogram_bins_count)\n",
    "\n",
    "        bin_width = bin_edges[1] - bin_edges[0]\n",
    "\n",
    "        asset_price_bins = bin_centers = bin_edges[:-1] + bin_width / 2\n",
    "\n",
    "        probabilities = samples_per_bin / samples_count\n",
    "        \n",
    "\n",
    "        # Batches\n",
    "\n",
    "        initial_asset_price_batch = np.full(histogram_bins_count, initial_asset_price)\n",
    "\n",
    "        volatility_batch = np.full(histogram_bins_count, volatility)\n",
    "\n",
    "        sample_batch = np.vstack((initial_asset_price_batch,\n",
    "                                  volatility_batch,\n",
    "                                  asset_price_bins,\n",
    "                                  probabilities)).T\n",
    "\n",
    "        with open(DATASET_FILE, 'ab') as dataset_file:\n",
    "            np.savetxt(dataset_file, sample_batch, fmt=('%d', '%f', '%f', '%f'), delimiter=',')"
   ]
  },
  {
   "cell_type": "code",
   "execution_count": 12,
   "id": "1a8e7e01-1062-4b73-8af1-02d3668b0369",
   "metadata": {},
   "outputs": [
    {
     "name": "stdout",
     "output_type": "stream",
     "text": [
      "Mean asset prices:\n"
     ]
    },
    {
     "data": {
      "image/png": "[encoded data removed]",
      "text/plain": [
       "<Figure size 360x360 with 1 Axes>"
      ]
     },
     "metadata": {
      "needs_background": "dark"
     },
     "output_type": "display_data"
    },
    {
     "name": "stdout",
     "output_type": "stream",
     "text": [
      "Minimum asset prices:\n"
     ]
    },
    {
     "data": {
      "image/png": "[encoded data removed]",
      "text/plain": [
       "<Figure size 360x360 with 1 Axes>"
      ]
     },
     "metadata": {
      "needs_background": "dark"
     },
     "output_type": "display_data"
    },
    {
     "name": "stdout",
     "output_type": "stream",
     "text": [
      "Maximum asset prices:\n"
     ]
    },
    {
     "data": {
      "image/png": "[encoded data removed]",
      "text/plain": [
       "<Figure size 360x360 with 1 Axes>"
      ]
     },
     "metadata": {
      "needs_background": "dark"
     },
     "output_type": "display_data"
    }
   ],
   "source": [
    "plot_asset_price_modes()"
   ]
  },
  {
   "cell_type": "markdown",
   "id": "ea119b47-3eba-46dd-b76b-60edbc7763fc",
   "metadata": {
    "tags": []
   },
   "source": [
    "### 6) Asset Prices"
   ]
  },
  {
   "cell_type": "code",
   "execution_count": 29,
   "id": "3ce9ba52-d896-42bf-be91-b859b6f9c29b",
   "metadata": {},
   "outputs": [
    {
     "data": {
      "text/plain": [
       "[0.0, 0.2, 0.4, 0.6]"
      ]
     },
     "execution_count": 29,
     "metadata": {},
     "output_type": "execute_result"
    }
   ],
   "source": [
    "DATASET_FILE = 'simulated_prices/asset_prices.csv'\n",
    "\n",
    "# initial_stock_prices = np.linspace(0, 1000, 11)\n",
    "# volatilities = np.linspace(0, 1.0, 11)\n",
    "\n",
    "initial_stock_prices = [500]\n",
    "volatilities = [0.0, 0.2, 0.4, 0.6]\n",
    "\n",
    "samples_count = 1000000\n",
    "\n",
    "histogram_bins_count = samples_count\n",
    "top_bins_count = 1000\n",
    "\n",
    "time_steps_count = 300\n",
    "strike_price = 100\n",
    "\n",
    "volatilities"
   ]
  },
  {
   "cell_type": "code",
   "execution_count": null,
   "id": "2871198c-55b0-4d97-bec9-af1ef023ab13",
   "metadata": {},
   "outputs": [
    {
     "name": "stderr",
     "output_type": "stream",
     "text": [
      "Simulating:   0%|                                                               | 0/1 [00:00<?, ?simulation/s]"
     ]
    },
    {
     "name": "stdout",
     "output_type": "stream",
     "text": [
      "0.0\n"
     ]
    }
   ],
   "source": [
    "np.savetxt(DATASET_FILE, [],\n",
    "           header='initial_stock_price,volatility,option_price,probability',\n",
    "           comments='')\n",
    "\n",
    "option_prices_shape = len(initial_stock_prices), len(volatilities)\n",
    "\n",
    "option_prices_meshgrid = defaultdict(lambda: np.zeros(option_prices_shape))\n",
    "\n",
    "figure, rows = plt.subplots(3, len(volatilities),\n",
    "                            figsize=(20, 12), \n",
    "                            # sharex='col'\n",
    "                           )\n",
    "\n",
    "columns = list(zip(*rows))\n",
    "\n",
    "simulation_tracker = tqdm.tqdm(\n",
    "    initial_stock_prices,\n",
    "    desc=f\"Simulating\",\n",
    "    ncols=110,\n",
    "    unit='simulation',\n",
    "    mininterval=1\n",
    ")\n",
    "\n",
    "for i, initial_stock_price in enumerate(simulation_tracker):\n",
    "\n",
    "    for j, volatility in enumerate(volatilities):\n",
    "        \n",
    "        print(volatility)\n",
    "\n",
    "        option_prices = simple_monte_carlo(\n",
    "            initial_stock_price=initial_stock_price, \n",
    "            strike_price=strike_price,\n",
    "            time_to_maturity=time_to_maturity, \n",
    "            risk_free_interest_rate=risk_free_interest_rate,\n",
    "            dividend_rate=dividend_rate, \n",
    "            volatility=volatility, \n",
    "            option_type=option_type, \n",
    "            time_steps_count=time_steps_count,\n",
    "            samples_count=samples_count\n",
    "        )\n",
    "\n",
    "        asset_prices = sample_asset_prices(\n",
    "            initial_asset_price=initial_stock_price, \n",
    "            time_to_maturity=time_to_maturity, \n",
    "            risk_free_interest_rate=risk_free_interest_rate,\n",
    "            dividend_rate=dividend_rate, \n",
    "            volatility=volatility,\n",
    "            time_steps_count=time_steps_count,\n",
    "            samples_count=samples_count\n",
    "        )\n",
    "        \n",
    "        # Option price derivation\n",
    "        \n",
    "        price_differences = asset_prices - strike_price   \n",
    "    \n",
    "        if option_type == 'Put':\n",
    "            price_differences = -price_differences\n",
    "    \n",
    "        price_differences[price_differences < 0] = 0\n",
    "\n",
    "        derivated_option_prices = price_differences * np.exp(-risk_free_interest_rate \n",
    "                                                             * time_to_maturity)\n",
    "        \n",
    "        # Meshgrid\n",
    "        \n",
    "        option_prices_meshgrid['Minimum option prices'][i, j] = option_prices.min()\n",
    "        option_prices_meshgrid['Maximum option prices'][i, j] = option_prices.max()\n",
    "        \n",
    "        \n",
    "        # Histogram\n",
    "\n",
    "        samples_per_bin, bin_edges = np.histogram(option_prices, bins=histogram_bins_count)\n",
    "\n",
    "        bin_width = bin_edges[1] - bin_edges[0]\n",
    "\n",
    "        option_price_bins = bin_centers = bin_edges[:-1] + bin_width / 2\n",
    "\n",
    "        probabilities = samples_per_bin / samples_count\n",
    "        \n",
    "        \n",
    "        # Top bins\n",
    "        \n",
    "        pairs = np.vstack((option_price_bins, probabilities)).T\n",
    "                \n",
    "        descending_indices = np.argsort(pairs[:, 1])[::-1]\n",
    "        \n",
    "        sorted_pairs = pairs[descending_indices]\n",
    "        \n",
    "        top_sorted_pairs = sorted_pairs[:top_bins_count]\n",
    "        \n",
    "        top_option_prices = top_sorted_pairs[:, 0]\n",
    "        top_probabilities = top_sorted_pairs[:, 1]\n",
    "       \n",
    "        option_prices_meshgrid['Most probable option prices'][i, j] = top_option_prices[0]\n",
    "        option_prices_meshgrid['Most probable option price means'][i, j] = top_option_prices.mean()\n",
    "        option_prices_meshgrid['Most probable option price weighted means'][i, j] = (top_option_prices * \n",
    "                                                                                     top_probabilities).mean()\n",
    "        \n",
    "        # Plot\n",
    "        \n",
    "        assets_ax, derivated_options_ax, options_ax = columns[j]\n",
    "        \n",
    "        assets_ax.hist(asset_prices,\n",
    "                       bins=samples_count,\n",
    "                       histtype='step', \n",
    "                       label=f\"Volatility: {volatility}\");\n",
    "\n",
    "        assets_ax.set_xlabel(\"Asset price\")\n",
    "        assets_ax.set_ylabel(\"Samples count\")\n",
    "        assets_ax.legend()\n",
    "        \n",
    "        derivated_options_ax.hist(derivated_option_prices,\n",
    "                                  bins=samples_count,\n",
    "                                  histtype='step', \n",
    "                                  label=f\"Volatility: {volatility}\");\n",
    "\n",
    "        derivated_options_ax.set_xlabel(\"Derivated option price\")\n",
    "        derivated_options_ax.set_ylabel(\"Samples count\")\n",
    "        derivated_options_ax.legend()\n",
    "        \n",
    "        options_ax.hist(option_prices,\n",
    "                        bins=samples_count,\n",
    "                        histtype='step', \n",
    "                        label=f\"Volatility: {volatility}\");\n",
    "\n",
    "        options_ax.set_xlabel(\"Option price\")\n",
    "        options_ax.set_ylabel(\"Samples count\")\n",
    "        options_ax.legend()\n",
    "        \n",
    "        \n",
    "\n",
    "        \n",
    "        # plt.show() \n",
    "        \n",
    "        # # Printouts\n",
    "    \n",
    "        # print(\"top_option_prices[0]:\", top_option_prices[0])\n",
    "        # print(\"top_option_prices.mean():\", top_option_prices.mean())\n",
    "        \n",
    "        # print(\"bin_centers:\\n\", bin_centers)        \n",
    "        # print(\"samples_per_bin:\\n\", samples_per_bin, samples_per_bin.sum())\n",
    "        # print(\"probabilities:\\n\", probabilities, probabilities.sum())\n",
    "        # print(\"pairs:\\n\", pairs)\n",
    "        # print(\"descending_indices:\\n\", descending_indices.shape)        \n",
    "        # print(\"sorted_pairs:\\n\", sorted_pairs)\n",
    "        # print(\"top_sorted_pairs:\\n\", top_sorted_pairs)\n",
    "        \n",
    "        # print(\"top_option_prices:\", top_option_prices)\n",
    "        # print(\"top_probabilities:\", top_probabilities)\n",
    "        \n",
    "\n",
    "        # Batches\n",
    "\n",
    "        initial_stock_price_batch = np.full(top_bins_count, initial_stock_price)\n",
    "\n",
    "        volatility_batch = np.full(top_bins_count, volatility)\n",
    "\n",
    "        sample_batch = np.vstack((initial_stock_price_batch,\n",
    "                                  volatility_batch,\n",
    "                                  top_option_prices,\n",
    "                                  top_probabilities)).T\n",
    "\n",
    "        with open(DATASET_FILE, 'ab') as dataset_file:\n",
    "            np.savetxt(dataset_file, sample_batch, fmt=('%d', '%f', '%f', '%f'), delimiter=',')"
   ]
  },
  {
   "cell_type": "code",
   "execution_count": null,
   "id": "23978f2f-8b47-4fb5-bd23-ea90f3bf8e10",
   "metadata": {
    "tags": []
   },
   "outputs": [],
   "source": [
    "# # Histogram\n",
    "\n",
    "# plt.hist(top_option_prices,\n",
    "#          bins=top_bins_count,\n",
    "#          # density=True,\n",
    "#          histtype='step', \n",
    "#          label=f\"{samples_count} samples\");\n",
    "\n",
    "# plt.xlabel(\"Option price\")\n",
    "# plt.ylabel(\"Samples\")\n",
    "# plt.legend();"
   ]
  },
  {
   "cell_type": "code",
   "execution_count": 10,
   "id": "a21da2ab-4daf-422e-be1b-e5c3494812d0",
   "metadata": {},
   "outputs": [],
   "source": [
    "# plot_option_price_modes()"
   ]
  }
 ],
 "metadata": {
  "kernelspec": {
   "display_name": "Python 3 (ipykernel)",
   "language": "python",
   "name": "python3"
  },
  "language_info": {
   "codemirror_mode": {
    "name": "ipython",
    "version": 3
   },
   "file_extension": ".py",
   "mimetype": "text/x-python",
   "name": "python",
   "nbconvert_exporter": "python",
   "pygments_lexer": "ipython3",
   "version": "3.8.10"
  }
 },
 "nbformat": 4,
 "nbformat_minor": 5
}
