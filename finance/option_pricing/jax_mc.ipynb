{
 "cells": [
  {
   "cell_type": "code",
   "execution_count": 1,
   "id": "94ed980d-a88c-45fa-b1f1-f9ea1b16f789",
   "metadata": {},
   "outputs": [],
   "source": [
    "import time\n",
    "import tqdm\n",
    "import numpy as np\n",
    "import pandas as pd\n",
    "import matplotlib.pyplot as plt\n",
    "\n",
    "plt.style.use('dark_background')"
   ]
  },
  {
   "cell_type": "markdown",
   "id": "76ebbeda-72b8-4b8e-90f1-c97e54a00fc5",
   "metadata": {},
   "source": [
    "### 1) Classical Monte Carlo"
   ]
  },
  {
   "cell_type": "code",
   "execution_count": 2,
   "id": "cf2fc3c4-7500-4e1e-82c6-e592fc4bd4c5",
   "metadata": {},
   "outputs": [],
   "source": [
    "def classical_monte_carlo(initial_stock_price, strike_price, time_to_maturity, \n",
    "                          risk_free_interest_rate, dividend_rate, \n",
    "                          volatility, option_type, time_steps_count, samples_count):\n",
    "    \n",
    "    rate_difference = risk_free_interest_rate - dividend_rate\n",
    "    \n",
    "    # Stock prices\n",
    "    \n",
    "    time_step = time_to_maturity/time_steps_count\n",
    "    \n",
    "    weights = np.random.standard_normal(size=(samples_count, time_steps_count))\n",
    "    \n",
    "    samples = weights.sum(axis=1) * np.sqrt(time_step)  \n",
    "\n",
    "    stock_prices = initial_stock_price * np.exp((rate_difference - 0.5 * volatility ** 2) * time_to_maturity \n",
    "                                                + volatility * samples)\n",
    "    \n",
    "    # Option prices\n",
    "    \n",
    "    price_differences = stock_prices - strike_price   \n",
    "    \n",
    "    if option_type == 'Put':\n",
    "        price_differences = -price_differences\n",
    "    \n",
    "    # price_differences[price_differences < 0] = 0\n",
    "    \n",
    "    price_differences = np.clip(price_differences, a_min=0, a_max=None)\n",
    "    \n",
    "    option_prices = price_differences * np.exp(-risk_free_interest_rate * time_to_maturity)\n",
    "         \n",
    "    return option_prices"
   ]
  },
  {
   "cell_type": "code",
   "execution_count": 3,
   "id": "34ca18c0-03a6-40d2-973d-844c36a980c9",
   "metadata": {
    "tags": []
   },
   "outputs": [],
   "source": [
    "def plot_asset_prices(initial_asset_prices, volatilities, asset_prices_meshgrid,\n",
    "                       elevation=10, initial_azimuth=230):\n",
    "\n",
    "    initial_asset_prices_grid, volatilities_grid = np.meshgrid(initial_asset_prices, volatilities)\n",
    "\n",
    "    fig, ax = plt.subplots(figsize=(5, 5),\n",
    "                           subplot_kw={\"projection\": \"3d\"})\n",
    "\n",
    "    surface = ax.plot_surface(initial_asset_prices_grid,\n",
    "                              volatilities_grid,\n",
    "                              asset_prices_meshgrid.T,\n",
    "                              cmap='plasma',\n",
    "                              linewidth=30, \n",
    "                              antialiased=False)\n",
    "\n",
    "    ax.view_init(elev=elevation, azim=initial_azimuth)\n",
    "\n",
    "    ax.zaxis.set_rotate_label(False)\n",
    "    \n",
    "    ax.set_xlabel('Initial Asset Price')\n",
    "    ax.set_ylabel('Volatility')\n",
    "    ax.set_zlabel('Asset Price', rotation=90)\n",
    "    \n",
    "    plt.show()"
   ]
  },
  {
   "cell_type": "code",
   "execution_count": 4,
   "id": "836051ac-2fba-460c-983a-a420adad22a2",
   "metadata": {},
   "outputs": [],
   "source": [
    "# Fixed Parameters\n",
    "\n",
    "T = time_to_maturity = 1\n",
    "\n",
    "q = dividend_rate = 0.05\n",
    "r = risk_free_interest_rate = 0.02\n",
    "\n",
    "CallPut = option_type = 'Call'"
   ]
  },
  {
   "cell_type": "markdown",
   "id": "2ad2a8a7-651b-477b-962a-63f0a60385c0",
   "metadata": {},
   "source": [
    "#### Classical Monte Carlo"
   ]
  },
  {
   "cell_type": "code",
   "execution_count": 5,
   "id": "6d5fbd26-b8e6-4d7f-b874-df5f344b7950",
   "metadata": {},
   "outputs": [
    {
     "name": "stderr",
     "output_type": "stream",
     "text": [
      "Simulating: 100%|█████████████████████████████████████████████████████| 34/34 [00:00<00:00, 49.49simulation/s]\n"
     ]
    }
   ],
   "source": [
    "DATASET_FILE = 'generated_prices/option_prices.csv'\n",
    "\n",
    "GRID_STEP = 3\n",
    "\n",
    "initial_stock_prices = np.linspace(0, 10000, 101)\n",
    "volatilities = np.linspace(0, 1.0, 101)\n",
    "\n",
    "initial_stock_prices = initial_stock_prices[::GRID_STEP]\n",
    "volatilities = volatilities[::GRID_STEP]\n",
    "\n",
    "# samples_count = 10000\n",
    "samples_count = 100\n",
    "\n",
    "time_steps_count = 300\n",
    "\n",
    "strike_price = 1000\n",
    "\n",
    "\n",
    "fields_count = 3\n",
    "\n",
    "option_prices_shape = (len(initial_stock_prices) * len(volatilities), fields_count)\n",
    "\n",
    "option_prices = np.zeros(option_prices_shape)\n",
    "\n",
    "option_prices_meshgrid_shape = len(initial_stock_prices), len(volatilities)\n",
    "\n",
    "option_prices_meshgrid = np.zeros(option_prices_meshgrid_shape)\n",
    "\n",
    "\n",
    "np.savetxt(DATASET_FILE, [],\n",
    "           header='initial_stock_price,volatility,option_price',\n",
    "           comments='')\n",
    "\n",
    "simulation_tracker = tqdm.tqdm(\n",
    "    initial_stock_prices,\n",
    "    desc=f\"Simulating\",\n",
    "    ncols=110,\n",
    "    unit='simulation',\n",
    "    mininterval=1    \n",
    ")    \n",
    "\n",
    "for initial_stock_price_index, initial_stock_price in enumerate(simulation_tracker):\n",
    "\n",
    "    for volatility_index, volatility in enumerate(volatilities):\n",
    "\n",
    "        sampled_option_prices = classical_monte_carlo(\n",
    "            initial_stock_price=initial_stock_price, \n",
    "            strike_price=strike_price,\n",
    "            time_to_maturity=time_to_maturity, \n",
    "            risk_free_interest_rate=risk_free_interest_rate,\n",
    "            dividend_rate=dividend_rate, \n",
    "            volatility=volatility, \n",
    "            option_type=option_type, \n",
    "            time_steps_count=time_steps_count,\n",
    "            samples_count=samples_count\n",
    "        )\n",
    "        \n",
    "        option_price = sampled_option_prices.mean()\n",
    "        \n",
    "        # row = np.array([initial_stock_price, volatility, option_price])\n",
    "        \n",
    "        row = (initial_stock_price, volatility, option_price)\n",
    "        \n",
    "        option_price_index = initial_stock_price_index * len(initial_stock_prices) + volatility_index\n",
    "        \n",
    "        option_prices[option_price_index] = row\n",
    "        \n",
    "        # print(row)\n",
    "           \n",
    "        # Meshgrid\n",
    "        \n",
    "        option_prices_meshgrid[initial_stock_price_index, volatility_index] = option_price\n",
    "        \n",
    "\n",
    "with open(DATASET_FILE, 'ab') as dataset_file:\n",
    "    np.savetxt(dataset_file, option_prices, fmt=('%d', '%f', '%f'), delimiter=',')"
   ]
  },
  {
   "cell_type": "code",
   "execution_count": 8,
   "id": "aa6e4ddc-e71f-4129-9d81-b97db2ae209e",
   "metadata": {},
   "outputs": [],
   "source": [
    "# plot_asset_prices(initial_stock_prices, volatilities, option_prices_meshgrid)"
   ]
  },
  {
   "cell_type": "code",
   "execution_count": null,
   "id": "314c6fd0-b6a9-48b6-b858-b6b19a4eae71",
   "metadata": {},
   "outputs": [],
   "source": []
  },
  {
   "cell_type": "markdown",
   "id": "38cd578f-6fce-41b0-b778-6cb1d24117f2",
   "metadata": {},
   "source": [
    "### 2) JAX Monte Carlo"
   ]
  },
  {
   "cell_type": "code",
   "execution_count": 7,
   "id": "a3391881-67a1-4c1f-83d9-285c36b0dad8",
   "metadata": {},
   "outputs": [],
   "source": [
    "# !pip install --upgrade \"jax[cuda]\" -f https://storage.googleapis.com/jax-releases/jax_cuda_releases.html"
   ]
  },
  {
   "cell_type": "code",
   "execution_count": 2,
   "id": "4afe383e-2528-4c8c-90e1-5a195044c6b8",
   "metadata": {},
   "outputs": [
    {
     "data": {
      "text/plain": [
       "[CpuDevice(id=0),\n",
       " CpuDevice(id=1),\n",
       " CpuDevice(id=2),\n",
       " CpuDevice(id=3),\n",
       " CpuDevice(id=4),\n",
       " CpuDevice(id=5),\n",
       " CpuDevice(id=6),\n",
       " CpuDevice(id=7),\n",
       " CpuDevice(id=8),\n",
       " CpuDevice(id=9),\n",
       " CpuDevice(id=10),\n",
       " CpuDevice(id=11),\n",
       " CpuDevice(id=12),\n",
       " CpuDevice(id=13),\n",
       " CpuDevice(id=14),\n",
       " CpuDevice(id=15)]"
      ]
     },
     "execution_count": 2,
     "metadata": {},
     "output_type": "execute_result"
    }
   ],
   "source": [
    "import os\n",
    "import time\n",
    "import numpy as np\n",
    "\n",
    "# JAX\n",
    "\n",
    "import jax\n",
    "import jax.numpy as jnp\n",
    "\n",
    "from jax.config import config\n",
    "\n",
    "config.update(\"jax_enable_x64\", True)\n",
    "\n",
    "\n",
    "# Host CPUs\n",
    "\n",
    "os.environ['XLA_FLAGS'] = '--xla_force_host_platform_device_count=16'\n",
    "\n",
    "# os.environ[\"CUDA_DEVICE_ORDER\"] = \"PCI_BUS_ID\"\n",
    "# os.environ[\"CUDA_VISIBLE_DEVICES\"] = \", \".join(map(str, range(1, 3)))\n",
    "\n",
    "jax.devices()"
   ]
  },
  {
   "cell_type": "code",
   "execution_count": 6,
   "id": "86c0da82-5f73-4575-855a-1af525e5b7c0",
   "metadata": {},
   "outputs": [],
   "source": [
    "def jax_monte_carlo(initial_stock_price, strike_price, time_to_maturity, \n",
    "                    risk_free_interest_rate, dividend_rate, \n",
    "                    volatility, option_type, time_steps_count, samples_count,\n",
    "                    randomization_key):\n",
    "    \n",
    "    rate_difference = risk_free_interest_rate - dividend_rate\n",
    "    \n",
    "    # Stock prices\n",
    "    \n",
    "    time_step = time_to_maturity/time_steps_count\n",
    "    \n",
    "    weights = jax.random.normal(key=randomization_key, \n",
    "                                shape=(samples_count, time_steps_count))\n",
    "    \n",
    "    # weights = jnp.zeros((samples_count, time_steps_count))\n",
    "    \n",
    "    samples = weights.sum(axis=1) * jnp.sqrt(time_step)  \n",
    "\n",
    "    stock_prices = initial_stock_price * jnp.exp((rate_difference - 0.5 * volatility ** 2) * time_to_maturity \n",
    "                                                 + volatility * samples)\n",
    "    \n",
    "    # Option prices\n",
    "    \n",
    "    price_differences = stock_prices - strike_price   \n",
    "    \n",
    "    if option_type == 'Put':\n",
    "        price_differences = -price_differences\n",
    "    \n",
    "    price_differences = jnp.clip(price_differences, a_min=0)\n",
    "    \n",
    "    option_prices = price_differences * jnp.exp(-risk_free_interest_rate * time_to_maturity)\n",
    "         \n",
    "    return option_prices\n",
    "\n",
    "\n",
    "\n",
    "# Fixed Parameters\n",
    "\n",
    "T = time_to_maturity = 1\n",
    "\n",
    "q = dividend_rate = 0.05\n",
    "r = risk_free_interest_rate = 0.02\n",
    "\n",
    "CallPut = option_type = 'Call'"
   ]
  },
  {
   "cell_type": "markdown",
   "id": "77f8c16d-3d1c-419e-b137-cc350679d686",
   "metadata": {},
   "source": [
    "#### Single Jitted Monte Carlo"
   ]
  },
  {
   "cell_type": "code",
   "execution_count": 7,
   "id": "029654f4-d678-455e-b088-e022ce5f2147",
   "metadata": {},
   "outputs": [],
   "source": [
    "jitted_monte_carlo = jax.jit(jax_monte_carlo, \n",
    "                             static_argnames=('samples_count' , \n",
    "                                              'time_steps_count',\n",
    "                                              'option_type'))"
   ]
  },
  {
   "cell_type": "code",
   "execution_count": 8,
   "id": "bd7f7578-f6f9-4e87-bb81-5da58e494e05",
   "metadata": {},
   "outputs": [
    {
     "name": "stdout",
     "output_type": "stream",
     "text": [
      "duration: 0.60 s.\n",
      "sampled_option_prices: [7793.97878268 2953.73858521    0.         ... 1928.75882309    0.\n",
      " 1006.43158905]\n"
     ]
    }
   ],
   "source": [
    "# Parameters\n",
    "\n",
    "initial_stock_price = 5000\n",
    "volatility = 0.8\n",
    "\n",
    "samples_count = 100000\n",
    "# samples_count = 20\n",
    "\n",
    "time_steps_count = 300\n",
    "\n",
    "strike_price = 1000\n",
    "\n",
    "randomization_key = jax.random.PRNGKey(seed=100)\n",
    "\n",
    "\n",
    "start_time = time.time()\n",
    "\n",
    "sampled_option_prices = jitted_monte_carlo(\n",
    "    initial_stock_price=initial_stock_price, \n",
    "    strike_price=strike_price,\n",
    "    time_to_maturity=time_to_maturity, \n",
    "    risk_free_interest_rate=risk_free_interest_rate,\n",
    "    dividend_rate=dividend_rate, \n",
    "    volatility=volatility, \n",
    "    option_type=option_type, \n",
    "    time_steps_count=time_steps_count,\n",
    "    samples_count=samples_count,\n",
    "    randomization_key=randomization_key\n",
    ")\n",
    "\n",
    "end_time = time.time()\n",
    "\n",
    "duration = end_time - start_time\n",
    "\n",
    "print(f\"duration: {duration:.02f} s.\")\n",
    "\n",
    "print(\"sampled_option_prices:\", sampled_option_prices)"
   ]
  },
  {
   "cell_type": "code",
   "execution_count": null,
   "id": "1e4c3919-24de-4bb6-bcab-abbf1e9d1f89",
   "metadata": {},
   "outputs": [],
   "source": []
  },
  {
   "cell_type": "markdown",
   "id": "5a654c2f-85f5-4fd7-9220-a770bdbda289",
   "metadata": {},
   "source": [
    "#### Single Classical Monte Carlo"
   ]
  },
  {
   "cell_type": "code",
   "execution_count": 9,
   "id": "6e2eef6f-3ca1-4cdb-9183-4e4b97243a07",
   "metadata": {},
   "outputs": [
    {
     "ename": "NameError",
     "evalue": "name 'simple_monte_carlo' is not defined",
     "output_type": "error",
     "traceback": [
      "\u001b[0;31m---------------------------------------------------------------------------\u001b[0m",
      "\u001b[0;31mNameError\u001b[0m                                 Traceback (most recent call last)",
      "Input \u001b[0;32mIn [9]\u001b[0m, in \u001b[0;36m<cell line: 3>\u001b[0;34m()\u001b[0m\n\u001b[1;32m      1\u001b[0m start_time \u001b[38;5;241m=\u001b[39m time\u001b[38;5;241m.\u001b[39mtime()\n\u001b[0;32m----> 3\u001b[0m sampled_option_prices \u001b[38;5;241m=\u001b[39m \u001b[43msimple_monte_carlo\u001b[49m(\n\u001b[1;32m      4\u001b[0m     initial_stock_price\u001b[38;5;241m=\u001b[39minitial_stock_price, \n\u001b[1;32m      5\u001b[0m     strike_price\u001b[38;5;241m=\u001b[39mstrike_price,\n\u001b[1;32m      6\u001b[0m     time_to_maturity\u001b[38;5;241m=\u001b[39mtime_to_maturity, \n\u001b[1;32m      7\u001b[0m     risk_free_interest_rate\u001b[38;5;241m=\u001b[39mrisk_free_interest_rate,\n\u001b[1;32m      8\u001b[0m     dividend_rate\u001b[38;5;241m=\u001b[39mdividend_rate, \n\u001b[1;32m      9\u001b[0m     volatility\u001b[38;5;241m=\u001b[39mvolatility, \n\u001b[1;32m     10\u001b[0m     option_type\u001b[38;5;241m=\u001b[39moption_type, \n\u001b[1;32m     11\u001b[0m     time_steps_count\u001b[38;5;241m=\u001b[39mtime_steps_count,\n\u001b[1;32m     12\u001b[0m     samples_count\u001b[38;5;241m=\u001b[39msamples_count\n\u001b[1;32m     13\u001b[0m )\n\u001b[1;32m     15\u001b[0m end_time \u001b[38;5;241m=\u001b[39m time\u001b[38;5;241m.\u001b[39mtime()\n\u001b[1;32m     17\u001b[0m duration \u001b[38;5;241m=\u001b[39m end_time \u001b[38;5;241m-\u001b[39m start_time\n",
      "\u001b[0;31mNameError\u001b[0m: name 'simple_monte_carlo' is not defined"
     ]
    }
   ],
   "source": [
    "start_time = time.time()\n",
    "\n",
    "sampled_option_prices = classical_monte_carlo(\n",
    "    initial_stock_price=initial_stock_price, \n",
    "    strike_price=strike_price,\n",
    "    time_to_maturity=time_to_maturity, \n",
    "    risk_free_interest_rate=risk_free_interest_rate,\n",
    "    dividend_rate=dividend_rate, \n",
    "    volatility=volatility, \n",
    "    option_type=option_type, \n",
    "    time_steps_count=time_steps_count,\n",
    "    samples_count=samples_count\n",
    ")\n",
    "\n",
    "end_time = time.time()\n",
    "\n",
    "duration = end_time - start_time\n",
    "\n",
    "print(f\"duration: {duration:.02f} s.\")\n",
    "\n",
    "print(\"sampled_option_prices:\", sampled_option_prices)"
   ]
  },
  {
   "cell_type": "code",
   "execution_count": null,
   "id": "4355af7f-4f6e-412a-ae8c-13a28710f789",
   "metadata": {},
   "outputs": [],
   "source": []
  },
  {
   "cell_type": "code",
   "execution_count": null,
   "id": "f4cf9be7-4505-433a-bb1f-dfeaa8a8addc",
   "metadata": {},
   "outputs": [],
   "source": []
  },
  {
   "cell_type": "markdown",
   "id": "540359c6-a317-403a-b858-21a2a5e23d7f",
   "metadata": {},
   "source": [
    "#### PMap - Initial Stock Prices - No previous JIT"
   ]
  },
  {
   "cell_type": "code",
   "execution_count": 13,
   "id": "747a8e47-9bd8-4375-bd3e-b89de87df3f7",
   "metadata": {},
   "outputs": [
    {
     "ename": "ValueError",
     "evalue": "compiling computation that requires 11 logical devices, but only 1 XLA devices are available (num_replicas=11, num_partitions=1)",
     "output_type": "error",
     "traceback": [
      "\u001b[0;31m---------------------------------------------------------------------------\u001b[0m",
      "\u001b[0;31mValueError\u001b[0m                                Traceback (most recent call last)",
      "Input \u001b[0;32mIn [13]\u001b[0m, in \u001b[0;36m<cell line: 14>\u001b[0;34m()\u001b[0m\n\u001b[1;32m      8\u001b[0m start_time \u001b[38;5;241m=\u001b[39m time\u001b[38;5;241m.\u001b[39mtime()\n\u001b[1;32m     10\u001b[0m pmapped_monte_carlo \u001b[38;5;241m=\u001b[39m jax\u001b[38;5;241m.\u001b[39mpmap(jax_monte_carlo,\n\u001b[1;32m     11\u001b[0m                                static_broadcasted_argnums\u001b[38;5;241m=\u001b[39m(\u001b[38;5;241m6\u001b[39m, \u001b[38;5;241m7\u001b[39m, \u001b[38;5;241m8\u001b[39m),\n\u001b[1;32m     12\u001b[0m                                in_axes\u001b[38;5;241m=\u001b[39m(\u001b[38;5;241m0\u001b[39m, \u001b[38;5;28;01mNone\u001b[39;00m, \u001b[38;5;28;01mNone\u001b[39;00m, \u001b[38;5;28;01mNone\u001b[39;00m, \u001b[38;5;28;01mNone\u001b[39;00m, \u001b[38;5;28;01mNone\u001b[39;00m, \u001b[38;5;28;01mNone\u001b[39;00m, \u001b[38;5;28;01mNone\u001b[39;00m, \u001b[38;5;28;01mNone\u001b[39;00m, \u001b[38;5;28;01mNone\u001b[39;00m))\n\u001b[0;32m---> 14\u001b[0m pmapped_result \u001b[38;5;241m=\u001b[39m \u001b[43mpmapped_monte_carlo\u001b[49m\u001b[43m(\u001b[49m\n\u001b[1;32m     15\u001b[0m \u001b[43m    \u001b[49m\n\u001b[1;32m     16\u001b[0m \u001b[43m    \u001b[49m\u001b[43minitial_stock_prices\u001b[49m\u001b[43m,\u001b[49m\u001b[43m \u001b[49m\n\u001b[1;32m     17\u001b[0m \u001b[43m    \u001b[49m\u001b[43mstrike_price\u001b[49m\u001b[43m,\u001b[49m\n\u001b[1;32m     18\u001b[0m \u001b[43m    \u001b[49m\u001b[43mtime_to_maturity\u001b[49m\u001b[43m,\u001b[49m\u001b[43m \u001b[49m\n\u001b[1;32m     19\u001b[0m \u001b[43m    \u001b[49m\u001b[43mrisk_free_interest_rate\u001b[49m\u001b[43m,\u001b[49m\n\u001b[1;32m     20\u001b[0m \u001b[43m    \u001b[49m\u001b[43mdividend_rate\u001b[49m\u001b[43m,\u001b[49m\u001b[43m \u001b[49m\n\u001b[1;32m     21\u001b[0m \u001b[43m    \u001b[49m\u001b[43mvolatility\u001b[49m\u001b[43m,\u001b[49m\u001b[43m \u001b[49m\n\u001b[1;32m     22\u001b[0m \u001b[43m    \u001b[49m\u001b[43moption_type\u001b[49m\u001b[43m,\u001b[49m\u001b[43m \u001b[49m\n\u001b[1;32m     23\u001b[0m \u001b[43m    \u001b[49m\u001b[43mtime_steps_count\u001b[49m\u001b[43m,\u001b[49m\n\u001b[1;32m     24\u001b[0m \u001b[43m    \u001b[49m\u001b[43msamples_count\u001b[49m\u001b[43m,\u001b[49m\n\u001b[1;32m     25\u001b[0m \u001b[43m    \u001b[49m\u001b[43mrandomization_key\u001b[49m\n\u001b[1;32m     26\u001b[0m \u001b[43m    \u001b[49m\n\u001b[1;32m     27\u001b[0m \u001b[43m)\u001b[49m\n\u001b[1;32m     29\u001b[0m evaluated_pmapped_result \u001b[38;5;241m=\u001b[39m pmapped_result \u001b[38;5;241m*\u001b[39m \u001b[38;5;241m1\u001b[39m\n\u001b[1;32m     31\u001b[0m end_time \u001b[38;5;241m=\u001b[39m time\u001b[38;5;241m.\u001b[39mtime()\n",
      "    \u001b[0;31m[... skipping hidden 8 frame]\u001b[0m\n",
      "File \u001b[0;32m~/.local/lib/python3.8/site-packages/jax/interpreters/pxla.py:1572\u001b[0m, in \u001b[0;36mUnloadedPmapExecutable.from_hlo\u001b[0;34m(xla_computation, pci, replicas, parts, shards, tuple_args, unordered_effects, ordered_effects, host_callbacks, keepalive)\u001b[0m\n\u001b[1;32m   1569\u001b[0m \u001b[38;5;28;01mif\u001b[39;00m shards\u001b[38;5;241m.\u001b[39mnum_global_shards \u001b[38;5;241m>\u001b[39m xb\u001b[38;5;241m.\u001b[39mdevice_count(pci\u001b[38;5;241m.\u001b[39mbackend):\n\u001b[1;32m   1570\u001b[0m   msg \u001b[38;5;241m=\u001b[39m (\u001b[38;5;124m\"\u001b[39m\u001b[38;5;124mcompiling computation that requires \u001b[39m\u001b[38;5;132;01m{}\u001b[39;00m\u001b[38;5;124m logical devices, but only \u001b[39m\u001b[38;5;132;01m{}\u001b[39;00m\u001b[38;5;124m XLA \u001b[39m\u001b[38;5;124m\"\u001b[39m\n\u001b[1;32m   1571\u001b[0m          \u001b[38;5;124m\"\u001b[39m\u001b[38;5;124mdevices are available (num_replicas=\u001b[39m\u001b[38;5;132;01m{}\u001b[39;00m\u001b[38;5;124m, num_partitions=\u001b[39m\u001b[38;5;132;01m{}\u001b[39;00m\u001b[38;5;124m)\u001b[39m\u001b[38;5;124m\"\u001b[39m)\n\u001b[0;32m-> 1572\u001b[0m   \u001b[38;5;28;01mraise\u001b[39;00m \u001b[38;5;167;01mValueError\u001b[39;00m(msg\u001b[38;5;241m.\u001b[39mformat(shards\u001b[38;5;241m.\u001b[39mnum_global_shards,\n\u001b[1;32m   1573\u001b[0m                               xb\u001b[38;5;241m.\u001b[39mdevice_count(pci\u001b[38;5;241m.\u001b[39mbackend),\n\u001b[1;32m   1574\u001b[0m                               replicas\u001b[38;5;241m.\u001b[39mnum_global_replicas,\n\u001b[1;32m   1575\u001b[0m                               parts\u001b[38;5;241m.\u001b[39mnum_partitions))\n\u001b[1;32m   1576\u001b[0m \u001b[38;5;66;03m# On a single host, we simply grab the first N devices from jax.devices().\u001b[39;00m\n\u001b[1;32m   1577\u001b[0m \u001b[38;5;66;03m# In the single host case, we want the default device order of pmap to\u001b[39;00m\n\u001b[1;32m   1578\u001b[0m \u001b[38;5;66;03m# match jax.devices().\u001b[39;00m\n\u001b[1;32m   1579\u001b[0m \u001b[38;5;66;03m# On multiple hosts, we create a default device assignment that ensures\u001b[39;00m\n\u001b[1;32m   1580\u001b[0m \u001b[38;5;66;03m# each host is responsible for a contiguous set of replicas.\u001b[39;00m\n\u001b[1;32m   1581\u001b[0m \u001b[38;5;28;01mif\u001b[39;00m shards\u001b[38;5;241m.\u001b[39mnum_global_shards \u001b[38;5;241m>\u001b[39m shards\u001b[38;5;241m.\u001b[39mnum_local_shards:\n\u001b[1;32m   1582\u001b[0m   \u001b[38;5;66;03m# TODO(skye): use a locality-aware assignment that satisfies the above\u001b[39;00m\n\u001b[1;32m   1583\u001b[0m   \u001b[38;5;66;03m# constraint.\u001b[39;00m\n",
      "\u001b[0;31mValueError\u001b[0m: compiling computation that requires 11 logical devices, but only 1 XLA devices are available (num_replicas=11, num_partitions=1)"
     ]
    }
   ],
   "source": [
    "# initial_stock_prices = jnp.array([1000, 5000])\n",
    "\n",
    "initial_stock_prices = np.linspace(0, 10000, 11)\n",
    "\n",
    "# volatilities = np.linspace(0, 1.0, 101)\n",
    "\n",
    "\n",
    "start_time = time.time()\n",
    "\n",
    "pmapped_monte_carlo = jax.pmap(jax_monte_carlo,\n",
    "                               static_broadcasted_argnums=(6, 7, 8),\n",
    "                               in_axes=(0, None, None, None, None, None, None, None, None, None))\n",
    "\n",
    "pmapped_result = pmapped_monte_carlo(\n",
    "    \n",
    "    initial_stock_prices, \n",
    "    strike_price,\n",
    "    time_to_maturity, \n",
    "    risk_free_interest_rate,\n",
    "    dividend_rate, \n",
    "    volatility, \n",
    "    option_type, \n",
    "    time_steps_count,\n",
    "    samples_count,\n",
    "    randomization_key\n",
    "    \n",
    ")\n",
    "\n",
    "evaluated_pmapped_result = pmapped_result * 1\n",
    "\n",
    "end_time = time.time()\n",
    "\n",
    "duration = end_time - start_time\n",
    "\n",
    "print(\"pmapped_result:\", pmapped_result.shape)\n",
    "\n",
    "print(f\"duration: {duration:.02f} s.\")"
   ]
  },
  {
   "cell_type": "code",
   "execution_count": null,
   "id": "d5664b9c-a47b-425d-ad5b-8024dcc083c1",
   "metadata": {},
   "outputs": [],
   "source": []
  },
  {
   "cell_type": "code",
   "execution_count": null,
   "id": "77481921-5dc9-478e-acb1-d00b11e644d1",
   "metadata": {},
   "outputs": [],
   "source": []
  },
  {
   "cell_type": "markdown",
   "id": "e2f8c93a-ac22-4d69-86a7-3423b425ba91",
   "metadata": {
    "jp-MarkdownHeadingCollapsed": true,
    "tags": []
   },
   "source": [
    "### Other mappings"
   ]
  },
  {
   "cell_type": "code",
   "execution_count": 12,
   "id": "13a3b2f0-1282-4994-b3cb-aefa386b8c0c",
   "metadata": {},
   "outputs": [
    {
     "name": "stdout",
     "output_type": "stream",
     "text": [
      "Result: [110 211]\n"
     ]
    }
   ],
   "source": [
    "def test_function(a, b, c):\n",
    "    \n",
    "    return a + b + c\n",
    "\n",
    "vmapped_test_function = jax.vmap(test_function,\n",
    "                                 in_axes = (0, None, 0))\n",
    "\n",
    "a_s = jnp.array([0, 1])\n",
    "b_s = 10\n",
    "c_s = jnp.array([100, 200])\n",
    "\n",
    "result = vmapped_test_function(a_s, b_s, c_s)\n",
    "\n",
    "print(\"Result:\", result)"
   ]
  },
  {
   "cell_type": "code",
   "execution_count": 13,
   "id": "8620c9d4-a30a-4b8a-aeb9-7e7197f12cfd",
   "metadata": {},
   "outputs": [
    {
     "name": "stdout",
     "output_type": "stream",
     "text": [
      "Result: [110 211]\n"
     ]
    }
   ],
   "source": [
    "def test_function(arguments):\n",
    "    \n",
    "    a, b, c = arguments.values()\n",
    "    \n",
    "    return a + b + c\n",
    "\n",
    "vmapped_test_function = jax.vmap(test_function,\n",
    "                                 in_axes = ({'a': 0, 'b': None, 'c': 0},))\n",
    "\n",
    "a_s = jnp.array([0, 1])\n",
    "b_s = 10\n",
    "c_s = jnp.array([100, 200])\n",
    "\n",
    "arguments = {'a': a_s, 'b': b_s, 'c': c_s}\n",
    "\n",
    "result = vmapped_test_function(arguments)\n",
    "\n",
    "print(\"Result:\", result)"
   ]
  },
  {
   "cell_type": "code",
   "execution_count": null,
   "id": "8287af01-186b-4372-914e-13659da8683b",
   "metadata": {},
   "outputs": [],
   "source": []
  },
  {
   "cell_type": "code",
   "execution_count": null,
   "id": "7a62f1ab-d5d2-45da-8ca9-ba5c87899a64",
   "metadata": {},
   "outputs": [],
   "source": [
    "vmapped_mc = jax.vmap(monte_carlo,\n",
    "                      in_axes=(0, None, None, None, None, None, None, None, None))\n",
    "\n",
    "initial_stock_prices = jnp.array([1000, 2000])\n",
    "strike_price = 100\n",
    "volatility = 0.5\n",
    "\n",
    "result = vmapped_mc(S=initial_stock_prices, \n",
    "                     K=strike_price,\n",
    "                     T=time_to_maturity, \n",
    "                     r=risk_free_interest_rate,\n",
    "                     q=dividend_rate, \n",
    "                     sigma=volatility, \n",
    "                     CallPut=option_type, \n",
    "                     n=time_steps_count,\n",
    "                     m=paths_count)\n",
    "\n",
    "print(\"Result:\", result)\n",
    "\n",
    "# ,\n",
    "                                # axis_name='filters',\n",
    "                                # static_broadcasted_argnums=[2, 3, 4, 6, 7, 8],\n",
    "                                # in_axes=(None, 0, None),\n",
    "                               # )\n",
    "    \n",
    "#     result = vmapped_function()\n",
    "    \n",
    "#     result = vmapped_function(S=initial_stock_prices, \n",
    "#                                   K=strike_prices,\n",
    "#                                   T=time_to_maturity, \n",
    "#                                   r=risk_free_interest_rate,\n",
    "#                                   q=dividend_rate, \n",
    "#                                   sigma=volatilities, \n",
    "#                                   CallPut=option_type, \n",
    "#                                   n=time_steps_count,\n",
    "#                                   m=paths_count)\n",
    "    \n",
    "#     continue"
   ]
  }
 ],
 "metadata": {
  "kernelspec": {
   "display_name": "Python 3 (ipykernel)",
   "language": "python",
   "name": "python3"
  },
  "language_info": {
   "codemirror_mode": {
    "name": "ipython",
    "version": 3
   },
   "file_extension": ".py",
   "mimetype": "text/x-python",
   "name": "python",
   "nbconvert_exporter": "python",
   "pygments_lexer": "ipython3",
   "version": "3.8.10"
  }
 },
 "nbformat": 4,
 "nbformat_minor": 5
}
