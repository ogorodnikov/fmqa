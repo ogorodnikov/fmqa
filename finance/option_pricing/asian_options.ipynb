{
 "cells": [
  {
   "cell_type": "code",
   "execution_count": 1,
   "id": "94ed980d-a88c-45fa-b1f1-f9ea1b16f789",
   "metadata": {},
   "outputs": [],
   "source": [
    "import os\n",
    "import time\n",
    "import tqdm\n",
    "import tempfile\n",
    "import subprocess\n",
    "\n",
    "import numpy as np\n",
    "import pandas as pd\n",
    "import matplotlib.pyplot as plt\n",
    "\n",
    "plt.style.use('dark_background')"
   ]
  },
  {
   "cell_type": "code",
   "execution_count": 2,
   "id": "65a5a2b8-a39e-442b-8556-4ae232293a28",
   "metadata": {},
   "outputs": [],
   "source": [
    "def plot_asset_prices(initial_asset_prices, volatilities, asset_prices_meshgrid,\n",
    "                      elevation=10, initial_azimuth=230):\n",
    "\n",
    "    initial_asset_prices_grid, volatilities_grid = np.meshgrid(initial_asset_prices, volatilities)\n",
    "\n",
    "    fig, ax = plt.subplots(figsize=(5, 5),\n",
    "                           subplot_kw={\"projection\": \"3d\"})\n",
    "\n",
    "    surface = ax.plot_surface(initial_asset_prices_grid,\n",
    "                              volatilities_grid,\n",
    "                              asset_prices_meshgrid.T,\n",
    "                              cmap='plasma',\n",
    "                              linewidth=30, \n",
    "                              antialiased=False)\n",
    "\n",
    "    ax.view_init(elev=elevation, azim=initial_azimuth)\n",
    "\n",
    "    ax.zaxis.set_rotate_label(False)\n",
    "    \n",
    "    ax.set_xlabel('Initial Asset Price')\n",
    "    ax.set_ylabel('Volatility')\n",
    "    ax.set_zlabel('Option Price', rotation=90)\n",
    "    \n",
    "    plt.show()"
   ]
  },
  {
   "cell_type": "markdown",
   "id": "675865c2-2bcb-4113-bdac-a4c081fa887a",
   "metadata": {},
   "source": [
    "### Asian Option Pricing"
   ]
  },
  {
   "cell_type": "code",
   "execution_count": 3,
   "id": "970e6fb8-6d38-42e3-90f9-4cc7339efc00",
   "metadata": {},
   "outputs": [],
   "source": [
    "def cpp_asian_option_price(*parameters):\n",
    "    \n",
    "    string_parameters = list(map(str, parameters))\n",
    "    \n",
    "    arguments = [\"cpp_asian/asian\", *string_parameters]\n",
    "\n",
    "    result = subprocess.run(\n",
    "        arguments,\n",
    "        stdout=subprocess.PIPE, \n",
    "        stderr=subprocess.STDOUT, \n",
    "        text=True\n",
    "    )\n",
    "\n",
    "    result_lines = result.stdout.splitlines()\n",
    "    \n",
    "    asian_price = pick_asian_price(result_lines)\n",
    "\n",
    "    return asian_price\n",
    "\n",
    "\n",
    "def pick_asian_price(result_lines):\n",
    "    \n",
    "    asian_price_line = [line for line in result_lines\n",
    "                        if line.startswith(\"Asian Price\")][0]\n",
    "    \n",
    "    asian_price = asian_price_line.split()[-1]\n",
    "    \n",
    "    return asian_price\n",
    "\n",
    "\n",
    "def get_cartesian_product(*lists):\n",
    "\n",
    "    cartesian_product = np.array(np.meshgrid(*lists)).T.reshape(-1, len(lists))\n",
    "    \n",
    "    return cartesian_product"
   ]
  },
  {
   "cell_type": "code",
   "execution_count": 4,
   "id": "275c0a2a-88a4-4ba1-91fd-5dfec2877354",
   "metadata": {},
   "outputs": [
    {
     "data": {
      "text/plain": [
       "'2.84681'"
      ]
     },
     "execution_count": 4,
     "metadata": {},
     "output_type": "execute_result"
    }
   ],
   "source": [
    "# Number of Paths: 100000\n",
    "# Number of Ints: 250\n",
    "# Underlying: 30\n",
    "# Strike: 29\n",
    "# Risk-Free Rate: 0.08\n",
    "# Volatility: 0.3\n",
    "# Maturity: 1\n",
    "# Asian Price: 2.85425\n",
    "\n",
    "cpp_asian_option_price(30, 29, 0.08, 0.3)"
   ]
  },
  {
   "cell_type": "code",
   "execution_count": 5,
   "id": "553a524e-28b7-4f00-9754-77a18a6311fa",
   "metadata": {},
   "outputs": [
    {
     "name": "stdout",
     "output_type": "stream",
     "text": [
      "initial_stock_prices: [ 10.  20.  30.  40.  50.  60.  70.  80.  90. 100. 110. 120. 130. 140.\n",
      " 150. 160. 170. 180. 190. 200.]\n",
      "strike_prices: [ 10.  29.  48.  67.  86. 105. 124. 143. 162. 181. 200.]\n",
      "risk_free_rates: [0.03 0.04 0.05 0.06 0.07 0.08 0.09 0.1 ]\n",
      "volatilities: [0.2 0.3 0.4 0.5 0.6]\n",
      "dataset_size: 8800\n"
     ]
    }
   ],
   "source": [
    "# 9K Dataset Parameters\n",
    "\n",
    "initial_stock_prices = np.linspace(10, 200, 20)\n",
    "strike_prices = np.linspace(10, 200, 11)\n",
    "risk_free_rates = np.linspace(0.03, 0.1, 8)\n",
    "volatilities = np.linspace(0.2, 0.6, 5)\n",
    "\n",
    "dataset_size = 20 * 11 * 8 * 5\n",
    "\n",
    "print(\"initial_stock_prices:\", initial_stock_prices)\n",
    "print(\"strike_prices:\", strike_prices)\n",
    "print(\"risk_free_rates:\", risk_free_rates)\n",
    "print(\"volatilities:\", volatilities)\n",
    "\n",
    "print(\"dataset_size:\", dataset_size)"
   ]
  },
  {
   "cell_type": "code",
   "execution_count": 83,
   "id": "eeb5ac10-5984-4066-95f9-3f4ca3ed7c7f",
   "metadata": {},
   "outputs": [
    {
     "data": {
      "text/plain": [
       "177.77777777777777"
      ]
     },
     "execution_count": 83,
     "metadata": {},
     "output_type": "execute_result"
    }
   ],
   "source": [
    "(1000 * 4000000) / (100000 * 9000) * 40"
   ]
  },
  {
   "cell_type": "code",
   "execution_count": 85,
   "id": "ff98abfb-e470-4995-990b-b7707e78f11b",
   "metadata": {},
   "outputs": [
    {
     "name": "stdout",
     "output_type": "stream",
     "text": [
      "risk_free_rates: [0.03 0.04 0.05 0.06 0.07 0.08 0.09 0.1 ]\n",
      "volatilities: [0.2 0.3 0.4 0.5 0.6]\n",
      "dataset_size: 4000000\n"
     ]
    }
   ],
   "source": [
    "# 4M Dataset Parameters\n",
    "\n",
    "# 100K Pathes, 9K Records - 40 minutes\n",
    "\n",
    "# 1K Pathes, 4M Records\n",
    "\n",
    "# 10K Pathes, 4M Records\n",
    "\n",
    "# initial_stock_prices = np.linspace(10, 200, 20)\n",
    "initial_stock_prices = sorted(100 * np.random.lognormal(0.5, 0.25, size=500))\n",
    "\n",
    "# strike_prices = np.linspace(10, 200, 11)\n",
    "strike_prices = sorted(70 * np.random.lognormal(0.5, 0.25, size=200))\n",
    "\n",
    "\n",
    "risk_free_rates = np.linspace(0.03, 0.1, 8)\n",
    "volatilities = np.linspace(0.2, 0.6, 5)\n",
    "\n",
    "\n",
    "dataset_size = 500 * 200 * 8 * 5\n",
    "\n",
    "# print(\"initial_stock_prices:\", initial_stock_prices)\n",
    "# print(\"strike_prices:\", strike_prices)\n",
    "print(\"risk_free_rates:\", risk_free_rates)\n",
    "print(\"volatilities:\", volatilities)\n",
    "\n",
    "print(\"dataset_size:\", dataset_size)"
   ]
  },
  {
   "cell_type": "code",
   "execution_count": 70,
   "id": "2d0c23ec-4a6a-41af-9fdc-ab30d853e036",
   "metadata": {},
   "outputs": [
    {
     "data": {
      "image/png": "[encoded data removed]",
      "text/plain": [
       "<Figure size 432x288 with 1 Axes>"
      ]
     },
     "metadata": {
      "needs_background": "dark"
     },
     "output_type": "display_data"
    }
   ],
   "source": [
    "plt.hist(initial_stock_prices, bins=100);"
   ]
  },
  {
   "cell_type": "code",
   "execution_count": 71,
   "id": "c357f3d6-8a5b-4d0d-b01c-77726aa50a28",
   "metadata": {},
   "outputs": [
    {
     "data": {
      "image/png": "[encoded data removed]",
      "text/plain": [
       "<Figure size 432x288 with 1 Axes>"
      ]
     },
     "metadata": {
      "needs_background": "dark"
     },
     "output_type": "display_data"
    }
   ],
   "source": [
    "plt.hist(strike_prices, bins=100);"
   ]
  },
  {
   "cell_type": "code",
   "execution_count": 63,
   "id": "309ebb58-dbfe-423d-a1eb-27c8dfd706c4",
   "metadata": {},
   "outputs": [
    {
     "data": {
      "image/png": "[encoded data removed]",
      "text/plain": [
       "<Figure size 432x288 with 1 Axes>"
      ]
     },
     "metadata": {
      "needs_background": "dark"
     },
     "output_type": "display_data"
    }
   ],
   "source": [
    "plt.hist(volatilities, bins=100);"
   ]
  },
  {
   "cell_type": "code",
   "execution_count": 64,
   "id": "8fc79130-90d0-4ff1-94f6-2e74c4f8e213",
   "metadata": {},
   "outputs": [
    {
     "data": {
      "image/png": "[encoded data removed]",
      "text/plain": [
       "<Figure size 432x288 with 1 Axes>"
      ]
     },
     "metadata": {
      "needs_background": "dark"
     },
     "output_type": "display_data"
    }
   ],
   "source": [
    "plt.hist(risk_free_rates, bins=100);"
   ]
  },
  {
   "cell_type": "code",
   "execution_count": 6,
   "id": "91d84d37-5909-435a-b33d-81ba2c7b59e7",
   "metadata": {},
   "outputs": [
    {
     "data": {
      "text/plain": [
       "(8800, 4)"
      ]
     },
     "execution_count": 6,
     "metadata": {},
     "output_type": "execute_result"
    }
   ],
   "source": [
    "parameters_meshgrid = get_cartesian_product(\n",
    "    initial_stock_prices, \n",
    "    strike_prices, \n",
    "    risk_free_rates, \n",
    "    volatilities\n",
    ")\n",
    "\n",
    "parameters_meshgrid.shape\n",
    "\n",
    "# get_cartesian_product([1, 2], [0.1, 0.2, 0.3], [0.01, 0.02, 0.03, 0.04])"
   ]
  },
  {
   "cell_type": "code",
   "execution_count": 7,
   "id": "baec810f-540c-4e6e-b650-32ebeff223fc",
   "metadata": {
    "tags": []
   },
   "outputs": [
    {
     "name": "stderr",
     "output_type": "stream",
     "text": [
      "Generating: 100%|████████████████████████████████████████████████████████| 880/880 [36:53<00:00,  2.52s/batch]\n"
     ]
    }
   ],
   "source": [
    "DATASET_FILE = 'generated_prices/asian_option_prices.csv'\n",
    "\n",
    "BATCH_SIZE = 10\n",
    "\n",
    "batch_count = len(parameters_meshgrid[:]) // BATCH_SIZE\n",
    "\n",
    "np.savetxt(DATASET_FILE, [],\n",
    "           header='initial_stock_price,strike_price,risk_free_rate,volatility,option_price',\n",
    "           comments='')\n",
    "\n",
    "\n",
    "batch_tracker = tqdm.tqdm(\n",
    "    range(batch_count),\n",
    "    desc=f\"Generating\",\n",
    "    ncols=110,\n",
    "    unit='batch',\n",
    "    # mininterval=1    \n",
    "    )    \n",
    "\n",
    "for batch_id in batch_tracker:\n",
    "    \n",
    "    queue = []\n",
    "    results = []\n",
    "    \n",
    "    parameters_meshgrid_part = parameters_meshgrid[batch_id * BATCH_SIZE : \n",
    "                                                   batch_id * BATCH_SIZE + BATCH_SIZE]\n",
    "\n",
    "    for experiment_id, parameters in enumerate(parameters_meshgrid_part):\n",
    "\n",
    "        string_parameters = list(map(str, parameters))\n",
    "\n",
    "        temporary_file = tempfile.NamedTemporaryFile()\n",
    "\n",
    "        process = subprocess.Popen([\"cpp_asian/asian\", \n",
    "                                    *string_parameters],\n",
    "                                   stdout=temporary_file)\n",
    "\n",
    "        queue.append((experiment_id, process, temporary_file))\n",
    "\n",
    "    for experiment_id, process, temporary_file in queue:\n",
    "\n",
    "        process.wait()\n",
    "        temporary_file.seek(0)\n",
    "\n",
    "        byte_line = temporary_file.read()\n",
    "\n",
    "        temporary_file.close()\n",
    "\n",
    "\n",
    "        result_lines = byte_line.decode('utf-8').splitlines()\n",
    "\n",
    "        asian_price = pick_asian_price(result_lines)\n",
    "\n",
    "        parameters = parameters_meshgrid_part[experiment_id]\n",
    "\n",
    "        results.append([*parameters, asian_price])\n",
    "\n",
    "        # print(\"experiment_id:\", experiment_id)\n",
    "        # print(\"result_lines:\", result_lines)\n",
    "        # print(\"asian_price:\", asian_price)\n",
    "        # print(\"parameters:\", parameters)\n",
    "\n",
    "    # print(\"results:\", results)\n",
    "    \n",
    "    with open(DATASET_FILE, 'ab') as dataset_file:\n",
    "        np.savetxt(dataset_file, results, fmt='%s', delimiter=',')"
   ]
  },
  {
   "cell_type": "code",
   "execution_count": null,
   "id": "03260847-e4b9-4931-964a-78b86a9d8b4c",
   "metadata": {},
   "outputs": [],
   "source": []
  },
  {
   "cell_type": "code",
   "execution_count": 40,
   "id": "39360967-ea5f-4cb4-9809-ca22a7f1a8a6",
   "metadata": {},
   "outputs": [
    {
     "data": {
      "text/plain": [
       "(8800, 5)"
      ]
     },
     "execution_count": 40,
     "metadata": {},
     "output_type": "execute_result"
    }
   ],
   "source": [
    "loaded_records = np.genfromtxt('generated_prices/asian_option_prices_9K.csv', delimiter=',')[1:]\n",
    "\n",
    "loaded_records.shape"
   ]
  },
  {
   "cell_type": "code",
   "execution_count": 51,
   "id": "bdc77c05-486b-4638-ba5b-6d1ebe568d82",
   "metadata": {},
   "outputs": [
    {
     "name": "stdout",
     "output_type": "stream",
     "text": [
      "[30.      29.       0.08     0.3      2.84681]\n"
     ]
    }
   ],
   "source": [
    "option_prices_meshgrid_shape = len(initial_stock_prices), len(volatilities)\n",
    "\n",
    "option_prices_meshgrid = np.zeros(option_prices_meshgrid_shape)\n",
    "\n",
    "\n",
    "for record in loaded_records:\n",
    "\n",
    "    initial_stock_price, strike_price, risk_free_rate, volatility, option_price = record\n",
    "    \n",
    "    if strike_price == 29 and risk_free_rate == 0.08:\n",
    "        \n",
    "        if initial_stock_price == 30 and volatility == 0.3:            \n",
    "            print(record)\n",
    "        \n",
    "        initial_stock_price_index = np.where(initial_stock_prices == initial_stock_price)[0][0]\n",
    "        volatility_index = np.where(volatilities == volatility)[0][0]\n",
    "        \n",
    "        # print(\"initial_stock_price_index:\", initial_stock_price_index)\n",
    "        # print(\"volatility_index:\", volatility_index)\n",
    "    \n",
    "        option_prices_meshgrid[initial_stock_price_index, volatility_index] = option_price\n",
    "        \n",
    "        # print(record)"
   ]
  },
  {
   "cell_type": "code",
   "execution_count": 52,
   "id": "5a247fc0-c25e-4ccf-88d3-9c418598c5f4",
   "metadata": {},
   "outputs": [
    {
     "data": {
      "image/png": "[encoded data removed]",
      "text/plain": [
       "<Figure size 360x360 with 1 Axes>"
      ]
     },
     "metadata": {
      "needs_background": "dark"
     },
     "output_type": "display_data"
    }
   ],
   "source": [
    "plot_asset_prices(initial_stock_prices, volatilities, option_prices_meshgrid)"
   ]
  },
  {
   "cell_type": "code",
   "execution_count": null,
   "id": "49b136d3-be85-4db8-b198-93f42b7c9420",
   "metadata": {},
   "outputs": [],
   "source": [
    "# Number of Paths: 100000\n",
    "# Number of Ints: 250\n",
    "# Underlying: 30\n",
    "# Strike: 29\n",
    "# Risk-Free Rate: 0.08\n",
    "# Volatility: 0.3\n",
    "# Maturity: 1\n",
    "# Asian Price: 2.85425"
   ]
  },
  {
   "cell_type": "code",
   "execution_count": null,
   "id": "84ffa4fa-a4f8-40e1-a4a0-b26e1f573073",
   "metadata": {},
   "outputs": [],
   "source": []
  },
  {
   "cell_type": "code",
   "execution_count": 212,
   "id": "eb7ba375-4c7f-401e-882c-402901a98d46",
   "metadata": {},
   "outputs": [],
   "source": [
    "# np.array(np.meshgrid([1, 2], [0.1, 0.2, 0.3], [0.01, 0.02, 0.03, 0.04])).T.reshape(-1, 3)"
   ]
  },
  {
   "cell_type": "code",
   "execution_count": 102,
   "id": "04004961-12c7-4aed-a14a-f0afa389f77e",
   "metadata": {},
   "outputs": [
    {
     "name": "stderr",
     "output_type": "stream",
     "text": [
      "Simulating: 100%|███████████████████████████████████████████████████████| 7/7 [00:21<00:00,  3.12s/simulation]\n"
     ]
    }
   ],
   "source": [
    "initial_stock_prices = initial_stock_prices[::GRID_STEP]\n",
    "volatilities = volatilities[::GRID_STEP]\n",
    "\n",
    "FIELDS_COUNT = 3\n",
    "\n",
    "option_prices_shape = (len(initial_stock_prices) * len(volatilities), FIELDS_COUNT)\n",
    "\n",
    "option_prices_meshgrid_shape = len(initial_stock_prices), len(volatilities)\n",
    "\n",
    "option_prices_meshgrid = np.zeros(option_prices_meshgrid_shape)\n",
    "\n",
    "\n",
    "np.savetxt(DATASET_FILE, [],\n",
    "           header='initial_stock_price,volatility,option_price',\n",
    "           comments='')\n",
    "\n",
    "simulation_tracker = tqdm.tqdm(\n",
    "    initial_stock_prices,\n",
    "    desc=f\"Simulating\",\n",
    "    ncols=110,\n",
    "    unit='simulation',\n",
    "    mininterval=1    \n",
    ")\n",
    "\n",
    "for initial_stock_price_index, initial_stock_price in enumerate(simulation_tracker):\n",
    "    \n",
    "    option_prices = []\n",
    "\n",
    "    for volatility_index, volatility in enumerate(volatilities):\n",
    "\n",
    "        option_price = cpp_asian_option_price(\n",
    "            initial_stock_price,\n",
    "            volatility)\n",
    "        \n",
    "        # print(\"initial_stock_price:\", initial_stock_price)\n",
    "        # print(\"volatility:\", volatility)\n",
    "        # print(\"option_price:\", option_price)        \n",
    "    \n",
    "        option_prices.append([initial_stock_price, volatility, option_price])\n",
    "\n",
    "        option_prices_meshgrid[initial_stock_price_index, volatility_index] = option_price\n",
    "\n",
    "        # print(f\"{option_prices_meshgrid[0][0]:.05f}\")\n",
    "        \n",
    "    with open(DATASET_FILE, 'ab') as dataset_file:\n",
    "        # np.savetxt(dataset_file, option_prices, fmt=('%d', '%f', '%f'), delimiter=',')\n",
    "        np.savetxt(dataset_file, option_prices, fmt='%s', delimiter=',')"
   ]
  },
  {
   "cell_type": "code",
   "execution_count": 103,
   "id": "d3e2e715-0436-4d97-8e34-1db94f2e3c9e",
   "metadata": {},
   "outputs": [
    {
     "data": {
      "image/png": "[encoded data removed]",
      "text/plain": [
       "<Figure size 360x360 with 1 Axes>"
      ]
     },
     "metadata": {
      "needs_background": "dark"
     },
     "output_type": "display_data"
    }
   ],
   "source": [
    "plot_asset_prices(initial_stock_prices, volatilities, option_prices_meshgrid)"
   ]
  },
  {
   "cell_type": "code",
   "execution_count": null,
   "id": "a06bffc7-2b7b-4844-a655-9c1c53a7ada4",
   "metadata": {},
   "outputs": [],
   "source": []
  },
  {
   "cell_type": "markdown",
   "id": "76ebbeda-72b8-4b8e-90f1-c97e54a00fc5",
   "metadata": {
    "tags": []
   },
   "source": [
    "### 1) Classical Monte Carlo"
   ]
  },
  {
   "cell_type": "code",
   "execution_count": 108,
   "id": "cf2fc3c4-7500-4e1e-82c6-e592fc4bd4c5",
   "metadata": {},
   "outputs": [],
   "source": [
    "def classical_monte_carlo(initial_stock_price, strike_price, time_to_maturity, \n",
    "                          risk_free_interest_rate, dividend_rate, \n",
    "                          volatility, option_type, time_steps_count, samples_count):\n",
    "    \n",
    "    rate_difference = risk_free_interest_rate - dividend_rate\n",
    "    \n",
    "    # Stock prices\n",
    "    \n",
    "    time_step = time_to_maturity/time_steps_count\n",
    "    \n",
    "    weights = np.random.standard_normal(size=(samples_count, time_steps_count))\n",
    "    \n",
    "    samples = weights.sum(axis=1) * np.sqrt(time_step)  \n",
    "\n",
    "    stock_prices = initial_stock_price * np.exp((rate_difference - 0.5 * volatility ** 2) * time_to_maturity \n",
    "                                                + volatility * samples)\n",
    "    \n",
    "    # Option prices\n",
    "    \n",
    "    price_differences = stock_prices - strike_price   \n",
    "    \n",
    "    if option_type == 'Put':\n",
    "        price_differences = -price_differences\n",
    "    \n",
    "    # price_differences[price_differences < 0] = 0\n",
    "    \n",
    "    price_differences = np.clip(price_differences, a_min=0, a_max=None)\n",
    "    \n",
    "    option_prices = price_differences * np.exp(-risk_free_interest_rate * time_to_maturity)\n",
    "         \n",
    "    return option_prices"
   ]
  },
  {
   "cell_type": "code",
   "execution_count": 109,
   "id": "165f6bb2-aa6d-4aa8-ab68-e33967096b4c",
   "metadata": {},
   "outputs": [],
   "source": [
    "# Fixed Parameters\n",
    "\n",
    "T = time_to_maturity = 1\n",
    "\n",
    "q = dividend_rate = 0.05\n",
    "r = risk_free_interest_rate = 0.08\n",
    "\n",
    "time_steps_count = 250\n",
    "\n",
    "strike_price = 29\n",
    "\n",
    "samples_count = 100\n",
    "\n",
    "CallPut = option_type = 'Call'"
   ]
  },
  {
   "cell_type": "code",
   "execution_count": 110,
   "id": "09bdf0dd-47c9-4a81-9386-eb2790fc4f9c",
   "metadata": {},
   "outputs": [
    {
     "name": "stderr",
     "output_type": "stream",
     "text": [
      "Simulating: 100%|█████████████████████████████████████████████████████| 34/34 [00:00<00:00, 48.33simulation/s]\n"
     ]
    }
   ],
   "source": [
    "DATASET_FILE = 'generated_prices/mc_option_prices.csv'\n",
    "\n",
    "GRID_STEP = 3\n",
    "\n",
    "initial_stock_prices = np.linspace(0, 50, 101)\n",
    "volatilities = np.linspace(0, 1.0, 101)\n",
    "\n",
    "# initial_stock_prices = [0, 30, 60]\n",
    "# volatilities = [0.3]\n",
    "\n",
    "\n",
    "initial_stock_prices = initial_stock_prices[::GRID_STEP]\n",
    "volatilities = volatilities[::GRID_STEP]\n",
    "\n",
    "FIELDS_COUNT = 3\n",
    "\n",
    "option_prices_shape = (len(initial_stock_prices) * len(volatilities), FIELDS_COUNT)\n",
    "\n",
    "option_prices_meshgrid_shape = len(initial_stock_prices), len(volatilities)\n",
    "\n",
    "option_prices_meshgrid = np.zeros(option_prices_meshgrid_shape)\n",
    "\n",
    "\n",
    "np.savetxt(DATASET_FILE, [],\n",
    "           header='initial_stock_price,volatility,option_price',\n",
    "           comments='')\n",
    "\n",
    "simulation_tracker = tqdm.tqdm(\n",
    "    initial_stock_prices,\n",
    "    desc=f\"Simulating\",\n",
    "    ncols=110,\n",
    "    unit='simulation',\n",
    "    mininterval=1    \n",
    ")\n",
    "\n",
    "for initial_stock_price_index, initial_stock_price in enumerate(simulation_tracker):\n",
    "    \n",
    "    option_prices = []\n",
    "\n",
    "    for volatility_index, volatility in enumerate(volatilities):\n",
    "\n",
    "        sampled_option_prices = classical_monte_carlo(\n",
    "            initial_stock_price=initial_stock_price, \n",
    "            strike_price=strike_price,\n",
    "            time_to_maturity=time_to_maturity, \n",
    "            risk_free_interest_rate=risk_free_interest_rate,\n",
    "            dividend_rate=dividend_rate, \n",
    "            volatility=volatility, \n",
    "            option_type=option_type, \n",
    "            time_steps_count=time_steps_count,\n",
    "            samples_count=samples_count\n",
    "        )\n",
    "        \n",
    "        option_price = sampled_option_prices.mean()\n",
    "        \n",
    "        # print(\"initial_stock_price:\", initial_stock_price)\n",
    "        # print(\"volatility:\", volatility)\n",
    "        # print(\"option_price:\", option_price)\n",
    "    \n",
    "        option_prices.append([initial_stock_price, volatility, option_price])\n",
    "\n",
    "        option_prices_meshgrid[initial_stock_price_index, volatility_index] = option_price\n",
    "\n",
    "        # print(f\"{option_prices_meshgrid[0][0]:.05f}\")\n",
    "        \n",
    "    with open(DATASET_FILE, 'ab') as dataset_file:\n",
    "        np.savetxt(dataset_file, option_prices, fmt=('%d', '%f', '%f'), delimiter=',')\n",
    "        # np.savetxt(dataset_file, option_prices, fmt='%s', delimiter=',')"
   ]
  },
  {
   "cell_type": "code",
   "execution_count": 111,
   "id": "aa6e4ddc-e71f-4129-9d81-b97db2ae209e",
   "metadata": {},
   "outputs": [
    {
     "data": {
      "image/png": "[encoded data removed]",
      "text/plain": [
       "<Figure size 360x360 with 1 Axes>"
      ]
     },
     "metadata": {
      "needs_background": "dark"
     },
     "output_type": "display_data"
    }
   ],
   "source": [
    "plot_asset_prices(initial_stock_prices, volatilities, option_prices_meshgrid)"
   ]
  },
  {
   "cell_type": "code",
   "execution_count": null,
   "id": "81a6179d-7127-4827-8619-40283bc2a428",
   "metadata": {},
   "outputs": [],
   "source": []
  },
  {
   "cell_type": "markdown",
   "id": "38cd578f-6fce-41b0-b778-6cb1d24117f2",
   "metadata": {
    "tags": []
   },
   "source": [
    "### 2) JAX Initialization"
   ]
  },
  {
   "cell_type": "code",
   "execution_count": null,
   "id": "a3391881-67a1-4c1f-83d9-285c36b0dad8",
   "metadata": {},
   "outputs": [],
   "source": [
    "# !pip install --upgrade \"jax[cuda]\" -f https://storage.googleapis.com/jax-releases/jax_cuda_releases.html"
   ]
  },
  {
   "cell_type": "code",
   "execution_count": 13,
   "id": "4afe383e-2528-4c8c-90e1-5a195044c6b8",
   "metadata": {},
   "outputs": [
    {
     "data": {
      "text/plain": [
       "[StreamExecutorGpuDevice(id=0, process_index=0, slice_index=0),\n",
       " StreamExecutorGpuDevice(id=1, process_index=0, slice_index=0),\n",
       " StreamExecutorGpuDevice(id=2, process_index=0, slice_index=0),\n",
       " StreamExecutorGpuDevice(id=3, process_index=0, slice_index=0),\n",
       " StreamExecutorGpuDevice(id=4, process_index=0, slice_index=0),\n",
       " StreamExecutorGpuDevice(id=5, process_index=0, slice_index=0),\n",
       " StreamExecutorGpuDevice(id=6, process_index=0, slice_index=0),\n",
       " StreamExecutorGpuDevice(id=7, process_index=0, slice_index=0),\n",
       " StreamExecutorGpuDevice(id=8, process_index=0, slice_index=0),\n",
       " StreamExecutorGpuDevice(id=9, process_index=0, slice_index=0),\n",
       " StreamExecutorGpuDevice(id=10, process_index=0, slice_index=0),\n",
       " StreamExecutorGpuDevice(id=11, process_index=0, slice_index=0),\n",
       " StreamExecutorGpuDevice(id=12, process_index=0, slice_index=0),\n",
       " StreamExecutorGpuDevice(id=13, process_index=0, slice_index=0),\n",
       " StreamExecutorGpuDevice(id=14, process_index=0, slice_index=0),\n",
       " StreamExecutorGpuDevice(id=15, process_index=0, slice_index=0)]"
      ]
     },
     "execution_count": 8,
     "metadata": {},
     "output_type": "execute_result"
    }
   ],
   "source": [
    "import os\n",
    "import time\n",
    "import numpy as np\n",
    "\n",
    "# JAX\n",
    "\n",
    "import jax\n",
    "import jax.numpy as jnp\n",
    "\n",
    "from jax.config import config\n",
    "\n",
    "config.update(\"jax_enable_x64\", True)\n",
    "\n",
    "\n",
    "# Host CPUs\n",
    "\n",
    "os.environ['XLA_FLAGS'] = '--xla_force_host_platform_device_count=16'\n",
    "\n",
    "# os.environ[\"CUDA_DEVICE_ORDER\"] = \"PCI_BUS_ID\"\n",
    "# os.environ[\"CUDA_VISIBLE_DEVICES\"] = \", \".join(map(str, range(1, 3)))\n",
    "\n",
    "jax.devices()"
   ]
  },
  {
   "cell_type": "code",
   "execution_count": 14,
   "id": "86c0da82-5f73-4575-855a-1af525e5b7c0",
   "metadata": {},
   "outputs": [],
   "source": [
    "def jax_monte_carlo(initial_stock_price, strike_price, time_to_maturity, \n",
    "                    risk_free_interest_rate, dividend_rate, \n",
    "                    volatility, option_type, time_steps_count, samples_count,\n",
    "                    randomization_key):\n",
    "    \n",
    "    rate_difference = risk_free_interest_rate - dividend_rate\n",
    "    \n",
    "    # Stock prices\n",
    "    \n",
    "    time_step = time_to_maturity/time_steps_count\n",
    "    \n",
    "    weights = jax.random.normal(key=randomization_key, \n",
    "                                shape=(samples_count, time_steps_count))\n",
    "    \n",
    "    # weights = jnp.zeros((samples_count, time_steps_count))\n",
    "    \n",
    "    samples = weights.sum(axis=1) * jnp.sqrt(time_step)  \n",
    "\n",
    "    stock_prices = initial_stock_price * jnp.exp((rate_difference - 0.5 * volatility ** 2) * time_to_maturity \n",
    "                                                 + volatility * samples)\n",
    "    \n",
    "    # Option prices\n",
    "    \n",
    "    price_differences = stock_prices - strike_price   \n",
    "    \n",
    "    if option_type == 'Put':\n",
    "        price_differences = -price_differences\n",
    "    \n",
    "    price_differences = jnp.clip(price_differences, a_min=0)\n",
    "    \n",
    "    option_prices = price_differences * jnp.exp(-risk_free_interest_rate * time_to_maturity)\n",
    "         \n",
    "    return option_prices\n",
    "\n",
    "\n",
    "# def meanify(function):\n",
    "    \n",
    "#     def function_mean(*args, **kwargs):\n",
    "        \n",
    "#         function_result = function(*args, **kwargs)\n",
    "        \n",
    "#         mean_result = function_result.mean()\n",
    "        \n",
    "#         return mean_result\n",
    "    \n",
    "#     return function_mean\n",
    "    \n",
    "\n",
    "def jax_monte_carlo_mean(initial_stock_price, strike_price, time_to_maturity, \n",
    "                         risk_free_interest_rate, dividend_rate, \n",
    "                         volatility, option_type, time_steps_count, samples_count,\n",
    "                         randomization_key):\n",
    "    \n",
    "    samples = jax_monte_carlo(initial_stock_price, strike_price, time_to_maturity, \n",
    "                              risk_free_interest_rate, dividend_rate, \n",
    "                              volatility, option_type, time_steps_count, samples_count,\n",
    "                              randomization_key)\n",
    "    \n",
    "    result = samples.mean()\n",
    "    \n",
    "    return result\n",
    "\n",
    "\n",
    "def classical_monte_carlo_mean(initial_stock_price, strike_price, time_to_maturity, \n",
    "                               risk_free_interest_rate, dividend_rate, \n",
    "                               volatility, option_type, time_steps_count, samples_count):\n",
    "    \n",
    "    samples = classical_monte_carlo(initial_stock_price, strike_price, time_to_maturity, \n",
    "                                    risk_free_interest_rate, dividend_rate, \n",
    "                                    volatility, option_type, time_steps_count, samples_count)\n",
    "    \n",
    "    result = samples.mean()\n",
    "    \n",
    "    return result\n",
    "\n",
    "\n",
    "\n",
    "# Fixed Parameters\n",
    "\n",
    "T = time_to_maturity = 1\n",
    "\n",
    "q = dividend_rate = 0.05\n",
    "r = risk_free_interest_rate = 0.02\n",
    "\n",
    "CallPut = option_type = 'Call'"
   ]
  },
  {
   "cell_type": "code",
   "execution_count": null,
   "id": "a05a64df-7373-420d-8787-6543ea171033",
   "metadata": {},
   "outputs": [],
   "source": []
  },
  {
   "cell_type": "markdown",
   "id": "36da326b-ea04-4c8a-9f26-7f712666b9a4",
   "metadata": {
    "tags": []
   },
   "source": [
    "### 3) JAX JIT"
   ]
  },
  {
   "cell_type": "markdown",
   "id": "77f8c16d-3d1c-419e-b137-cc350679d686",
   "metadata": {},
   "source": [
    "#### 3.1) Standalone Jitted Monte Carlo"
   ]
  },
  {
   "cell_type": "code",
   "execution_count": 15,
   "id": "029654f4-d678-455e-b088-e022ce5f2147",
   "metadata": {},
   "outputs": [],
   "source": [
    "jitted_monte_carlo = jax.jit(jax_monte_carlo, \n",
    "                             static_argnames=('samples_count' , \n",
    "                                              'time_steps_count',\n",
    "                                              'option_type'))\n",
    "\n",
    "jitted_monte_carlo_mean = jax.jit(jax_monte_carlo_mean, \n",
    "                                  static_argnames=('samples_count' , \n",
    "                                                   'time_steps_count',\n",
    "                                                   'option_type'))"
   ]
  },
  {
   "cell_type": "code",
   "execution_count": 21,
   "id": "bd7f7578-f6f9-4e87-bb81-5da58e494e05",
   "metadata": {},
   "outputs": [
    {
     "name": "stdout",
     "output_type": "stream",
     "text": [
      "duration: 0.58 s.\n",
      "sampled_option_prices: [7793.97878268 2953.73858521    0.         ... 1928.75882309    0.\n",
      " 1006.43158905]\n"
     ]
    }
   ],
   "source": [
    "# Parameters\n",
    "\n",
    "initial_stock_price = 5000\n",
    "volatility = 0.8\n",
    "\n",
    "samples_count = 100000\n",
    "# samples_count = 20\n",
    "\n",
    "time_steps_count = 300\n",
    "\n",
    "strike_price = 1000\n",
    "\n",
    "randomization_key = jax.random.PRNGKey(seed=100)\n",
    "\n",
    "\n",
    "start_time = time.time()\n",
    "\n",
    "sampled_option_prices = jitted_monte_carlo(\n",
    "    initial_stock_price=initial_stock_price, \n",
    "    strike_price=strike_price,\n",
    "    time_to_maturity=time_to_maturity, \n",
    "    risk_free_interest_rate=risk_free_interest_rate,\n",
    "    dividend_rate=dividend_rate, \n",
    "    volatility=volatility, \n",
    "    option_type=option_type, \n",
    "    time_steps_count=time_steps_count,\n",
    "    samples_count=samples_count,\n",
    "    randomization_key=randomization_key\n",
    ")\n",
    "\n",
    "end_time = time.time()\n",
    "\n",
    "duration = end_time - start_time\n",
    "\n",
    "print(f\"duration: {duration:.02f} s.\")\n",
    "\n",
    "print(\"sampled_option_prices:\", sampled_option_prices)"
   ]
  },
  {
   "cell_type": "code",
   "execution_count": null,
   "id": "1e4c3919-24de-4bb6-bcab-abbf1e9d1f89",
   "metadata": {},
   "outputs": [],
   "source": []
  },
  {
   "cell_type": "markdown",
   "id": "5a654c2f-85f5-4fd7-9220-a770bdbda289",
   "metadata": {},
   "source": [
    "#### 3.2) Standalone Classical Monte Carlo"
   ]
  },
  {
   "cell_type": "code",
   "execution_count": 22,
   "id": "6e2eef6f-3ca1-4cdb-9183-4e4b97243a07",
   "metadata": {},
   "outputs": [
    {
     "name": "stdout",
     "output_type": "stream",
     "text": [
      "duration: 0.71 s.\n",
      "sampled_option_prices: [1654.86069178 3990.04409446 3122.64996318 ... 8517.12362647 9339.4154391\n",
      " 3619.95121906]\n"
     ]
    }
   ],
   "source": [
    "start_time = time.time()\n",
    "\n",
    "sampled_option_prices = classical_monte_carlo(\n",
    "    initial_stock_price=initial_stock_price, \n",
    "    strike_price=strike_price,\n",
    "    time_to_maturity=time_to_maturity, \n",
    "    risk_free_interest_rate=risk_free_interest_rate,\n",
    "    dividend_rate=dividend_rate, \n",
    "    volatility=volatility, \n",
    "    option_type=option_type, \n",
    "    time_steps_count=time_steps_count,\n",
    "    samples_count=samples_count\n",
    ")\n",
    "\n",
    "end_time = time.time()\n",
    "\n",
    "duration = end_time - start_time\n",
    "\n",
    "print(f\"duration: {duration:.02f} s.\")\n",
    "\n",
    "print(\"sampled_option_prices:\", sampled_option_prices)"
   ]
  },
  {
   "cell_type": "code",
   "execution_count": null,
   "id": "4355af7f-4f6e-412a-ae8c-13a28710f789",
   "metadata": {},
   "outputs": [],
   "source": []
  },
  {
   "cell_type": "markdown",
   "id": "bdb55b7e-c0f2-4484-b157-a59aaf788102",
   "metadata": {
    "jp-MarkdownHeadingCollapsed": true,
    "tags": []
   },
   "source": [
    "### 4) 1D Parallelization - VMap and PMap"
   ]
  },
  {
   "cell_type": "markdown",
   "id": "e5d55257-0bff-4fd8-b4cc-d770f3c8bdbe",
   "metadata": {
    "tags": []
   },
   "source": [
    "#### 4.1) VMap"
   ]
  },
  {
   "cell_type": "code",
   "execution_count": 25,
   "id": "eaf37cbf-b2bb-4a26-90a8-bad47f169cb3",
   "metadata": {},
   "outputs": [
    {
     "name": "stdout",
     "output_type": "stream",
     "text": [
      "evaluated_vmapped_result.shape: (11, 100000)\n",
      "duration: 0.99 s.\n"
     ]
    }
   ],
   "source": [
    "# initial_stock_prices = jnp.array([1000, 5000])\n",
    "\n",
    "initial_stock_prices = np.linspace(0, 10000, 11)\n",
    "\n",
    "# volatilities = np.linspace(0, 1.0, 101)\n",
    "\n",
    "\n",
    "start_time = time.time()\n",
    "\n",
    "vmapped_monte_carlo = jax.vmap(jax_monte_carlo,\n",
    "                               # static_broadcasted_argnums=(6, 7, 8),\n",
    "                               in_axes=(0, None, None, None, None, None, None, None, None, None))\n",
    "\n",
    "vmapped_result = vmapped_monte_carlo(\n",
    "    \n",
    "    initial_stock_prices, \n",
    "    strike_price,\n",
    "    time_to_maturity, \n",
    "    risk_free_interest_rate,\n",
    "    dividend_rate, \n",
    "    volatility, \n",
    "    option_type, \n",
    "    time_steps_count,\n",
    "    samples_count,\n",
    "    randomization_key\n",
    "    \n",
    ")\n",
    "\n",
    "evaluated_vmapped_result = vmapped_result * 1\n",
    "\n",
    "end_time = time.time()\n",
    "\n",
    "duration = end_time - start_time\n",
    "\n",
    "print(\"evaluated_vmapped_result.shape:\", evaluated_vmapped_result.shape)\n",
    "\n",
    "print(f\"duration: {duration:.02f} s.\")"
   ]
  },
  {
   "cell_type": "code",
   "execution_count": null,
   "id": "ad039968-34ea-465e-b966-209d190e361e",
   "metadata": {},
   "outputs": [],
   "source": []
  },
  {
   "cell_type": "markdown",
   "id": "0f753bfa-353f-4c7a-a6cf-d92129feb2fc",
   "metadata": {
    "tags": []
   },
   "source": [
    "#### 4.2) VMap - JIT"
   ]
  },
  {
   "cell_type": "code",
   "execution_count": 28,
   "id": "9fb1ae0c-91cf-4215-9d57-18165e2220f3",
   "metadata": {},
   "outputs": [
    {
     "name": "stdout",
     "output_type": "stream",
     "text": [
      "evaluated_vmapped_result.shape: (11, 100000)\n",
      "duration: 0.37 s.\n"
     ]
    }
   ],
   "source": [
    "start_time = time.time()\n",
    "\n",
    "vmapped_monte_carlo = jax.vmap(jitted_monte_carlo,\n",
    "                               # static_broadcasted_argnums=(6, 7, 8),\n",
    "                               in_axes=(0, None, None, None, None, None, None, None, None, None))\n",
    "\n",
    "vmapped_result = vmapped_monte_carlo(\n",
    "    \n",
    "    initial_stock_prices, \n",
    "    strike_price,\n",
    "    time_to_maturity, \n",
    "    risk_free_interest_rate,\n",
    "    dividend_rate, \n",
    "    volatility, \n",
    "    option_type, \n",
    "    time_steps_count,\n",
    "    samples_count,\n",
    "    randomization_key\n",
    "    \n",
    ")\n",
    "\n",
    "evaluated_vmapped_result = vmapped_result * 1\n",
    "\n",
    "end_time = time.time()\n",
    "\n",
    "duration = end_time - start_time\n",
    "\n",
    "print(\"evaluated_vmapped_result.shape:\", evaluated_vmapped_result.shape)\n",
    "\n",
    "print(f\"duration: {duration:.02f} s.\")"
   ]
  },
  {
   "cell_type": "code",
   "execution_count": null,
   "id": "47f95c91-95e8-42a3-b54f-303ee6f4745e",
   "metadata": {},
   "outputs": [],
   "source": []
  },
  {
   "cell_type": "markdown",
   "id": "540359c6-a317-403a-b858-21a2a5e23d7f",
   "metadata": {
    "tags": []
   },
   "source": [
    "#### 4.3) PMap - No previous JIT"
   ]
  },
  {
   "cell_type": "code",
   "execution_count": 30,
   "id": "747a8e47-9bd8-4375-bd3e-b89de87df3f7",
   "metadata": {},
   "outputs": [
    {
     "name": "stdout",
     "output_type": "stream",
     "text": [
      "evaluated_pmapped_result.shape: (11, 100000)\n",
      "duration: 7.83 s.\n"
     ]
    }
   ],
   "source": [
    "# initial_stock_prices = jnp.array([1000, 5000])\n",
    "\n",
    "initial_stock_prices = np.linspace(0, 10000, 11)\n",
    "\n",
    "# volatilities = np.linspace(0, 1.0, 101)\n",
    "\n",
    "\n",
    "start_time = time.time()\n",
    "\n",
    "pmapped_monte_carlo = jax.pmap(jax_monte_carlo,\n",
    "                               static_broadcasted_argnums=(6, 7, 8),\n",
    "                               in_axes=(0, None, None, None, None, None, None, None, None, None))\n",
    "\n",
    "pmapped_result = pmapped_monte_carlo(\n",
    "    \n",
    "    initial_stock_prices, \n",
    "    strike_price,\n",
    "    time_to_maturity, \n",
    "    risk_free_interest_rate,\n",
    "    dividend_rate, \n",
    "    volatility, \n",
    "    option_type, \n",
    "    time_steps_count,\n",
    "    samples_count,\n",
    "    randomization_key\n",
    "    \n",
    ")\n",
    "\n",
    "evaluated_pmapped_result = pmapped_result * 1\n",
    "\n",
    "end_time = time.time()\n",
    "\n",
    "duration = end_time - start_time\n",
    "\n",
    "print(\"evaluated_pmapped_result.shape:\", evaluated_pmapped_result.shape)\n",
    "\n",
    "print(f\"duration: {duration:.02f} s.\")"
   ]
  },
  {
   "cell_type": "code",
   "execution_count": null,
   "id": "d5664b9c-a47b-425d-ad5b-8024dcc083c1",
   "metadata": {},
   "outputs": [],
   "source": []
  },
  {
   "cell_type": "markdown",
   "id": "daf4717f-4363-4cf8-8e98-142345809e29",
   "metadata": {
    "tags": []
   },
   "source": [
    "#### 4.4) PMap - Previous JIT"
   ]
  },
  {
   "cell_type": "code",
   "execution_count": 32,
   "id": "c93a94fb-e7cb-4ff9-a6c5-e4eb1ae63fc3",
   "metadata": {},
   "outputs": [
    {
     "name": "stdout",
     "output_type": "stream",
     "text": [
      "evaluated_pmapped_result.shape: (11, 100000)\n",
      "duration: 0.24 s.\n"
     ]
    }
   ],
   "source": [
    "start_time = time.time()\n",
    "\n",
    "pmapped_monte_carlo = jax.pmap(jitted_monte_carlo,\n",
    "                               static_broadcasted_argnums=(6, 7, 8),\n",
    "                               in_axes=(0, None, None, None, None, None, None, None, None, None))\n",
    "\n",
    "pmapped_result = pmapped_monte_carlo(\n",
    "    \n",
    "    initial_stock_prices, \n",
    "    strike_price,\n",
    "    time_to_maturity, \n",
    "    risk_free_interest_rate,\n",
    "    dividend_rate, \n",
    "    volatility, \n",
    "    option_type, \n",
    "    time_steps_count,\n",
    "    samples_count,\n",
    "    randomization_key\n",
    "    \n",
    ")\n",
    "\n",
    "evaluated_pmapped_result = pmapped_result * 1\n",
    "\n",
    "end_time = time.time()\n",
    "\n",
    "duration = end_time - start_time\n",
    "\n",
    "print(\"evaluated_pmapped_result.shape:\", evaluated_pmapped_result.shape)\n",
    "\n",
    "print(f\"duration: {duration:.02f} s.\")"
   ]
  },
  {
   "cell_type": "code",
   "execution_count": null,
   "id": "c2fbbd75-70db-47d1-9754-0f72e12a3525",
   "metadata": {},
   "outputs": [],
   "source": []
  },
  {
   "cell_type": "markdown",
   "id": "d800ed7b-892e-48d2-9a98-4dc4c43e5f72",
   "metadata": {
    "jp-MarkdownHeadingCollapsed": true,
    "tags": []
   },
   "source": [
    "### 5) 2D Parallelization"
   ]
  },
  {
   "cell_type": "code",
   "execution_count": 49,
   "id": "34214044-2d0d-4672-9a7c-506c1db85bae",
   "metadata": {},
   "outputs": [],
   "source": [
    "samples_count = 10000\n",
    "\n",
    "STOCK_PRICE_STEPS = 16\n",
    "VOLATILITY_STEPS = 16\n",
    "\n",
    "initial_stock_prices = np.linspace(0, 10000, STOCK_PRICE_STEPS)\n",
    "\n",
    "volatilities = np.linspace(0, 1.0, VOLATILITY_STEPS)\n",
    "\n",
    "initial_stock_prices_count = len(initial_stock_prices)\n",
    "volatilities_count = len(volatilities)\n",
    "\n",
    "\n",
    "# Randomization Keys\n",
    "\n",
    "random_seed = np.random.randint(1000)\n",
    "\n",
    "initial_randomization_key = jax.random.PRNGKey(seed=random_seed)\n",
    "\n",
    "keys_count = volatilities_count * initial_stock_prices_count\n",
    "\n",
    "randomization_keys_vector = jax.random.split(initial_randomization_key, keys_count)\n",
    "\n",
    "randomization_keys = randomization_keys_vector.reshape(volatilities_count, \n",
    "                                                       initial_stock_prices_count, 2)"
   ]
  },
  {
   "cell_type": "markdown",
   "id": "5f0a33a1-ae8c-45aa-b235-106d22f77de1",
   "metadata": {
    "tags": []
   },
   "source": [
    "#### 5.1) VMap and VMap - No previous JIT"
   ]
  },
  {
   "cell_type": "code",
   "execution_count": null,
   "id": "44a04f72-1266-490e-a3b1-bd1ae824f81e",
   "metadata": {},
   "outputs": [
    {
     "name": "stderr",
     "output_type": "stream",
     "text": [
      "2023-01-30 13:25:27.955411: W external/org_tensorflow/tensorflow/tsl/framework/bfc_allocator.cc:485] Allocator (GPU_0_bfc) ran out of memory trying to allocate 57.22GiB (rounded to 61440000000)requested by op \n",
      "2023-01-30 13:25:27.955650: W external/org_tensorflow/tensorflow/tsl/framework/bfc_allocator.cc:497] *___________________________________________________________________________________________________\n",
      "2023-01-30 13:25:27.955812: E external/org_tensorflow/tensorflow/compiler/xla/pjrt/pjrt_stream_executor_client.cc:2163] Execution of replica 0 failed: RESOURCE_EXHAUSTED: Out of memory while trying to allocate 61440000000 bytes.\n",
      "BufferAssignment OOM Debugging.\n",
      "BufferAssignment stats:\n",
      "             parameter allocation:     2.0KiB\n",
      "              constant allocation:         0B\n",
      "        maybe_live_out allocation:   57.22GiB\n",
      "     preallocated temp allocation:  143.05GiB\n",
      "  preallocated temp fragmentation:         0B (0.00%)\n",
      "                 total allocation:  200.27GiB\n",
      "              total fragmentation:   28.61GiB (14.29%)\n",
      "Peak buffers:\n",
      "\tBuffer 1:\n",
      "\t\tSize: 57.22GiB\n",
      "\t\tOperator: op_name=\"jit(_normal)/jit(main)/mul\" source_file=\"/tmp/ipykernel_161663/627013869.py\" source_line=12\n",
      "\t\tXLA Label: fusion\n",
      "\t\tShape: f64[16,16,100000,300]\n",
      "\t\t==========================\n",
      "\n",
      "\tBuffer 2:\n",
      "\t\tSize: 28.61GiB\n",
      "\t\tOperator: op_name=\"jit(_normal)/jit(main)/threefry2x32\" source_file=\"/tmp/ipykernel_161663/627013869.py\" source_line=12\n",
      "\t\tXLA Label: custom-call\n",
      "\t\tShape: u32[16,16,30000000]\n",
      "\t\t==========================\n",
      "\n",
      "\tBuffer 3:\n",
      "\t\tSize: 28.61GiB\n",
      "\t\tOperator: op_name=\"jit(_normal)/jit(main)/threefry2x32\" source_file=\"/tmp/ipykernel_161663/627013869.py\" source_line=12\n",
      "\t\tXLA Label: custom-call\n",
      "\t\tShape: u32[16,16,30000000]\n",
      "\t\t==========================\n",
      "\n",
      "\tBuffer 4:\n",
      "\t\tSize: 28.61GiB\n",
      "\t\tOperator: op_name=\"jit(_normal)/jit(main)/threefry2x32\" source_file=\"/tmp/ipykernel_161663/627013869.py\" source_line=12\n",
      "\t\tXLA Label: fusion\n",
      "\t\tShape: u32[16,16,30000000]\n",
      "\t\t==========================\n",
      "\n",
      "\tBuffer 5:\n",
      "\t\tSize: 28.61GiB\n",
      "\t\tOperator: op_name=\"jit(_normal)/jit(main)/threefry2x32\" source_file=\"/tmp/ipykernel_161663/627013869.py\" source_line=12\n",
      "\t\tXLA Label: fusion\n",
      "\t\tShape: u32[16,16,30000000]\n",
      "\t\t==========================\n",
      "\n",
      "\tBuffer 6:\n",
      "\t\tSize: 28.61GiB\n",
      "\t\tOperator: op_name=\"jit(_normal)/jit(main)/threefry2x32\" source_file=\"/tmp/ipykernel_161663/627013869.py\" source_line=12\n",
      "\t\tXLA Label: fusion\n",
      "\t\tShape: u32[16,16,30000000]\n",
      "\t\t==========================\n",
      "\n",
      "\tBuffer 7:\n",
      "\t\tSize: 2.0KiB\n",
      "\t\tEntry Parameter Subshape: u32[16,16,2]\n",
      "\t\t==========================\n",
      "\n",
      "\tBuffer 8:\n",
      "\t\tSize: 16B\n",
      "\t\tOperator: op_name=\"jit(_normal)/jit(main)/threefry2x32\" source_file=\"/tmp/ipykernel_161663/627013869.py\" source_line=12\n",
      "\t\tXLA Label: custom-call\n",
      "\t\tShape: (u32[16,16,30000000], u32[16,16,30000000])\n",
      "\t\t==========================\n",
      "\n",
      "\tBuffer 9:\n",
      "\t\tSize: 16B\n",
      "\t\tOperator: op_name=\"jit(_normal)/jit(main)/threefry2x32\" source_file=\"/tmp/ipykernel_161663/627013869.py\" source_line=12\n",
      "\t\tXLA Label: fusion\n",
      "\t\tShape: (u32[16,16,30000000], u32[16,16,30000000])\n",
      "\t\t==========================\n",
      "\n",
      "\n"
     ]
    },
    {
     "ename": "XlaRuntimeError",
     "evalue": "RESOURCE_EXHAUSTED: Out of memory while trying to allocate 61440000000 bytes.\nBufferAssignment OOM Debugging.\nBufferAssignment stats:\n             parameter allocation:     2.0KiB\n              constant allocation:         0B\n        maybe_live_out allocation:   57.22GiB\n     preallocated temp allocation:  143.05GiB\n  preallocated temp fragmentation:         0B (0.00%)\n                 total allocation:  200.27GiB\n              total fragmentation:   28.61GiB (14.29%)\nPeak buffers:\n\tBuffer 1:\n\t\tSize: 57.22GiB\n\t\tOperator: op_name=\"jit(_normal)/jit(main)/mul\" source_file=\"/tmp/ipykernel_161663/627013869.py\" source_line=12\n\t\tXLA Label: fusion\n\t\tShape: f64[16,16,100000,300]\n\t\t==========================\n\n\tBuffer 2:\n\t\tSize: 28.61GiB\n\t\tOperator: op_name=\"jit(_normal)/jit(main)/threefry2x32\" source_file=\"/tmp/ipykernel_161663/627013869.py\" source_line=12\n\t\tXLA Label: custom-call\n\t\tShape: u32[16,16,30000000]\n\t\t==========================\n\n\tBuffer 3:\n\t\tSize: 28.61GiB\n\t\tOperator: op_name=\"jit(_normal)/jit(main)/threefry2x32\" source_file=\"/tmp/ipykernel_161663/627013869.py\" source_line=12\n\t\tXLA Label: custom-call\n\t\tShape: u32[16,16,30000000]\n\t\t==========================\n\n\tBuffer 4:\n\t\tSize: 28.61GiB\n\t\tOperator: op_name=\"jit(_normal)/jit(main)/threefry2x32\" source_file=\"/tmp/ipykernel_161663/627013869.py\" source_line=12\n\t\tXLA Label: fusion\n\t\tShape: u32[16,16,30000000]\n\t\t==========================\n\n\tBuffer 5:\n\t\tSize: 28.61GiB\n\t\tOperator: op_name=\"jit(_normal)/jit(main)/threefry2x32\" source_file=\"/tmp/ipykernel_161663/627013869.py\" source_line=12\n\t\tXLA Label: fusion\n\t\tShape: u32[16,16,30000000]\n\t\t==========================\n\n\tBuffer 6:\n\t\tSize: 28.61GiB\n\t\tOperator: op_name=\"jit(_normal)/jit(main)/threefry2x32\" source_file=\"/tmp/ipykernel_161663/627013869.py\" source_line=12\n\t\tXLA Label: fusion\n\t\tShape: u32[16,16,30000000]\n\t\t==========================\n\n\tBuffer 7:\n\t\tSize: 2.0KiB\n\t\tEntry Parameter Subshape: u32[16,16,2]\n\t\t==========================\n\n\tBuffer 8:\n\t\tSize: 16B\n\t\tOperator: op_name=\"jit(_normal)/jit(main)/threefry2x32\" source_file=\"/tmp/ipykernel_161663/627013869.py\" source_line=12\n\t\tXLA Label: custom-call\n\t\tShape: (u32[16,16,30000000], u32[16,16,30000000])\n\t\t==========================\n\n\tBuffer 9:\n\t\tSize: 16B\n\t\tOperator: op_name=\"jit(_normal)/jit(main)/threefry2x32\" source_file=\"/tmp/ipykernel_161663/627013869.py\" source_line=12\n\t\tXLA Label: fusion\n\t\tShape: (u32[16,16,30000000], u32[16,16,30000000])\n\t\t==========================\n\n",
     "output_type": "error",
     "traceback": [
      "\u001b[0;31m---------------------------------------------------------------------------\u001b[0m",
      "\u001b[0;31mXlaRuntimeError\u001b[0m                           Traceback (most recent call last)",
      "Cell \u001b[0;32mIn[55], line 14\u001b[0m\n\u001b[1;32m      3\u001b[0m vmapped_monte_carlo \u001b[38;5;241m=\u001b[39m jax\u001b[38;5;241m.\u001b[39mvmap(\n\u001b[1;32m      4\u001b[0m     jax_monte_carlo_mean,\n\u001b[1;32m      5\u001b[0m     \u001b[38;5;66;03m# jitted_monte_carlo_mean,\u001b[39;00m\n\u001b[1;32m      6\u001b[0m     in_axes\u001b[38;5;241m=\u001b[39m(\u001b[38;5;241m0\u001b[39m, \u001b[38;5;28;01mNone\u001b[39;00m, \u001b[38;5;28;01mNone\u001b[39;00m, \u001b[38;5;28;01mNone\u001b[39;00m, \u001b[38;5;28;01mNone\u001b[39;00m, \u001b[38;5;28;01mNone\u001b[39;00m, \u001b[38;5;28;01mNone\u001b[39;00m, \u001b[38;5;28;01mNone\u001b[39;00m, \u001b[38;5;28;01mNone\u001b[39;00m, \u001b[38;5;241m0\u001b[39m)\n\u001b[1;32m      7\u001b[0m )\n\u001b[1;32m      9\u001b[0m second_vmapped_monte_carlo \u001b[38;5;241m=\u001b[39m jax\u001b[38;5;241m.\u001b[39mvmap(\n\u001b[1;32m     10\u001b[0m     vmapped_monte_carlo,\n\u001b[1;32m     11\u001b[0m     in_axes\u001b[38;5;241m=\u001b[39m(\u001b[38;5;28;01mNone\u001b[39;00m, \u001b[38;5;28;01mNone\u001b[39;00m, \u001b[38;5;28;01mNone\u001b[39;00m, \u001b[38;5;28;01mNone\u001b[39;00m, \u001b[38;5;28;01mNone\u001b[39;00m, \u001b[38;5;241m0\u001b[39m, \u001b[38;5;28;01mNone\u001b[39;00m, \u001b[38;5;28;01mNone\u001b[39;00m, \u001b[38;5;28;01mNone\u001b[39;00m, \u001b[38;5;241m0\u001b[39m)\n\u001b[1;32m     12\u001b[0m )\n\u001b[0;32m---> 14\u001b[0m second_vmapped_result \u001b[38;5;241m=\u001b[39m \u001b[43msecond_vmapped_monte_carlo\u001b[49m\u001b[43m(\u001b[49m\n\u001b[1;32m     15\u001b[0m \u001b[43m    \u001b[49m\n\u001b[1;32m     16\u001b[0m \u001b[43m    \u001b[49m\u001b[43minitial_stock_prices\u001b[49m\u001b[43m,\u001b[49m\u001b[43m \u001b[49m\n\u001b[1;32m     17\u001b[0m \u001b[43m    \u001b[49m\u001b[43mstrike_price\u001b[49m\u001b[43m,\u001b[49m\n\u001b[1;32m     18\u001b[0m \u001b[43m    \u001b[49m\u001b[43mtime_to_maturity\u001b[49m\u001b[43m,\u001b[49m\u001b[43m \u001b[49m\n\u001b[1;32m     19\u001b[0m \u001b[43m    \u001b[49m\u001b[43mrisk_free_interest_rate\u001b[49m\u001b[43m,\u001b[49m\n\u001b[1;32m     20\u001b[0m \u001b[43m    \u001b[49m\u001b[43mdividend_rate\u001b[49m\u001b[43m,\u001b[49m\u001b[43m \u001b[49m\n\u001b[1;32m     21\u001b[0m \u001b[43m    \u001b[49m\u001b[43mvolatilities\u001b[49m\u001b[43m,\u001b[49m\u001b[43m \u001b[49m\n\u001b[1;32m     22\u001b[0m \u001b[43m    \u001b[49m\u001b[43moption_type\u001b[49m\u001b[43m,\u001b[49m\u001b[43m \u001b[49m\n\u001b[1;32m     23\u001b[0m \u001b[43m    \u001b[49m\u001b[43mtime_steps_count\u001b[49m\u001b[43m,\u001b[49m\n\u001b[1;32m     24\u001b[0m \u001b[43m    \u001b[49m\u001b[43msamples_count\u001b[49m\u001b[43m,\u001b[49m\n\u001b[1;32m     25\u001b[0m \u001b[43m    \u001b[49m\u001b[43mrandomization_keys\u001b[49m\n\u001b[1;32m     26\u001b[0m \u001b[43m    \u001b[49m\n\u001b[1;32m     27\u001b[0m \u001b[43m)\u001b[49m\n\u001b[1;32m     29\u001b[0m evaluated_second_vmapped_result \u001b[38;5;241m=\u001b[39m second_vmapped_result \u001b[38;5;241m*\u001b[39m \u001b[38;5;241m1\u001b[39m\n\u001b[1;32m     31\u001b[0m end_time \u001b[38;5;241m=\u001b[39m time\u001b[38;5;241m.\u001b[39mtime()\n",
      "    \u001b[0;31m[... skipping hidden 6 frame]\u001b[0m\n",
      "Cell \u001b[0;32mIn[14], line 54\u001b[0m, in \u001b[0;36mjax_monte_carlo_mean\u001b[0;34m(initial_stock_price, strike_price, time_to_maturity, risk_free_interest_rate, dividend_rate, volatility, option_type, time_steps_count, samples_count, randomization_key)\u001b[0m\n\u001b[1;32m     49\u001b[0m \u001b[38;5;28;01mdef\u001b[39;00m \u001b[38;5;21mjax_monte_carlo_mean\u001b[39m(initial_stock_price, strike_price, time_to_maturity, \n\u001b[1;32m     50\u001b[0m                          risk_free_interest_rate, dividend_rate, \n\u001b[1;32m     51\u001b[0m                          volatility, option_type, time_steps_count, samples_count,\n\u001b[1;32m     52\u001b[0m                          randomization_key):\n\u001b[0;32m---> 54\u001b[0m     samples \u001b[38;5;241m=\u001b[39m \u001b[43mjax_monte_carlo\u001b[49m\u001b[43m(\u001b[49m\u001b[43minitial_stock_price\u001b[49m\u001b[43m,\u001b[49m\u001b[43m \u001b[49m\u001b[43mstrike_price\u001b[49m\u001b[43m,\u001b[49m\u001b[43m \u001b[49m\u001b[43mtime_to_maturity\u001b[49m\u001b[43m,\u001b[49m\u001b[43m \u001b[49m\n\u001b[1;32m     55\u001b[0m \u001b[43m                              \u001b[49m\u001b[43mrisk_free_interest_rate\u001b[49m\u001b[43m,\u001b[49m\u001b[43m \u001b[49m\u001b[43mdividend_rate\u001b[49m\u001b[43m,\u001b[49m\u001b[43m \u001b[49m\n\u001b[1;32m     56\u001b[0m \u001b[43m                              \u001b[49m\u001b[43mvolatility\u001b[49m\u001b[43m,\u001b[49m\u001b[43m \u001b[49m\u001b[43moption_type\u001b[49m\u001b[43m,\u001b[49m\u001b[43m \u001b[49m\u001b[43mtime_steps_count\u001b[49m\u001b[43m,\u001b[49m\u001b[43m \u001b[49m\u001b[43msamples_count\u001b[49m\u001b[43m,\u001b[49m\n\u001b[1;32m     57\u001b[0m \u001b[43m                              \u001b[49m\u001b[43mrandomization_key\u001b[49m\u001b[43m)\u001b[49m\n\u001b[1;32m     59\u001b[0m     result \u001b[38;5;241m=\u001b[39m samples\u001b[38;5;241m.\u001b[39mmean()\n\u001b[1;32m     61\u001b[0m     \u001b[38;5;28;01mreturn\u001b[39;00m result\n",
      "Cell \u001b[0;32mIn[14], line 12\u001b[0m, in \u001b[0;36mjax_monte_carlo\u001b[0;34m(initial_stock_price, strike_price, time_to_maturity, risk_free_interest_rate, dividend_rate, volatility, option_type, time_steps_count, samples_count, randomization_key)\u001b[0m\n\u001b[1;32m      8\u001b[0m \u001b[38;5;66;03m# Stock prices\u001b[39;00m\n\u001b[1;32m     10\u001b[0m time_step \u001b[38;5;241m=\u001b[39m time_to_maturity\u001b[38;5;241m/\u001b[39mtime_steps_count\n\u001b[0;32m---> 12\u001b[0m weights \u001b[38;5;241m=\u001b[39m \u001b[43mjax\u001b[49m\u001b[38;5;241;43m.\u001b[39;49m\u001b[43mrandom\u001b[49m\u001b[38;5;241;43m.\u001b[39;49m\u001b[43mnormal\u001b[49m\u001b[43m(\u001b[49m\u001b[43mkey\u001b[49m\u001b[38;5;241;43m=\u001b[39;49m\u001b[43mrandomization_key\u001b[49m\u001b[43m,\u001b[49m\u001b[43m \u001b[49m\n\u001b[1;32m     13\u001b[0m \u001b[43m                            \u001b[49m\u001b[43mshape\u001b[49m\u001b[38;5;241;43m=\u001b[39;49m\u001b[43m(\u001b[49m\u001b[43msamples_count\u001b[49m\u001b[43m,\u001b[49m\u001b[43m \u001b[49m\u001b[43mtime_steps_count\u001b[49m\u001b[43m)\u001b[49m\u001b[43m)\u001b[49m\n\u001b[1;32m     15\u001b[0m \u001b[38;5;66;03m# weights = jnp.zeros((samples_count, time_steps_count))\u001b[39;00m\n\u001b[1;32m     17\u001b[0m samples \u001b[38;5;241m=\u001b[39m weights\u001b[38;5;241m.\u001b[39msum(axis\u001b[38;5;241m=\u001b[39m\u001b[38;5;241m1\u001b[39m) \u001b[38;5;241m*\u001b[39m jnp\u001b[38;5;241m.\u001b[39msqrt(time_step)  \n",
      "File \u001b[0;32m/opt/conda/lib/python3.8/site-packages/jax/_src/random.py:562\u001b[0m, in \u001b[0;36mnormal\u001b[0;34m(key, shape, dtype)\u001b[0m\n\u001b[1;32m    560\u001b[0m dtype \u001b[38;5;241m=\u001b[39m dtypes\u001b[38;5;241m.\u001b[39mcanonicalize_dtype(dtype)\n\u001b[1;32m    561\u001b[0m shape \u001b[38;5;241m=\u001b[39m core\u001b[38;5;241m.\u001b[39mas_named_shape(shape)\n\u001b[0;32m--> 562\u001b[0m \u001b[38;5;28;01mreturn\u001b[39;00m \u001b[43m_normal\u001b[49m\u001b[43m(\u001b[49m\u001b[43mkey\u001b[49m\u001b[43m,\u001b[49m\u001b[43m \u001b[49m\u001b[43mshape\u001b[49m\u001b[43m,\u001b[49m\u001b[43m \u001b[49m\u001b[43mdtype\u001b[49m\u001b[43m)\u001b[49m\n",
      "    \u001b[0;31m[... skipping hidden 9 frame]\u001b[0m\n",
      "File \u001b[0;32m/opt/conda/lib/python3.8/site-packages/jax/interpreters/pxla.py:2136\u001b[0m, in \u001b[0;36mExecuteReplicated.__call__\u001b[0;34m(self, *args)\u001b[0m\n\u001b[1;32m   2134\u001b[0m   out_bufs \u001b[38;5;241m=\u001b[39m \u001b[38;5;28mself\u001b[39m\u001b[38;5;241m.\u001b[39m_call_with_tokens(input_bufs)\n\u001b[1;32m   2135\u001b[0m \u001b[38;5;28;01melse\u001b[39;00m:\n\u001b[0;32m-> 2136\u001b[0m   out_bufs \u001b[38;5;241m=\u001b[39m \u001b[38;5;28;43mself\u001b[39;49m\u001b[38;5;241;43m.\u001b[39;49m\u001b[43mxla_executable\u001b[49m\u001b[38;5;241;43m.\u001b[39;49m\u001b[43mexecute_sharded_on_local_devices\u001b[49m\u001b[43m(\u001b[49m\n\u001b[1;32m   2137\u001b[0m \u001b[43m      \u001b[49m\u001b[43minput_bufs\u001b[49m\u001b[43m)\u001b[49m\n\u001b[1;32m   2138\u001b[0m \u001b[38;5;28;01mif\u001b[39;00m dispatch\u001b[38;5;241m.\u001b[39mneeds_check_special():\n\u001b[1;32m   2139\u001b[0m   \u001b[38;5;28;01mfor\u001b[39;00m bufs \u001b[38;5;129;01min\u001b[39;00m out_bufs:\n",
      "\u001b[0;31mXlaRuntimeError\u001b[0m: RESOURCE_EXHAUSTED: Out of memory while trying to allocate 61440000000 bytes.\nBufferAssignment OOM Debugging.\nBufferAssignment stats:\n             parameter allocation:     2.0KiB\n              constant allocation:         0B\n        maybe_live_out allocation:   57.22GiB\n     preallocated temp allocation:  143.05GiB\n  preallocated temp fragmentation:         0B (0.00%)\n                 total allocation:  200.27GiB\n              total fragmentation:   28.61GiB (14.29%)\nPeak buffers:\n\tBuffer 1:\n\t\tSize: 57.22GiB\n\t\tOperator: op_name=\"jit(_normal)/jit(main)/mul\" source_file=\"/tmp/ipykernel_161663/627013869.py\" source_line=12\n\t\tXLA Label: fusion\n\t\tShape: f64[16,16,100000,300]\n\t\t==========================\n\n\tBuffer 2:\n\t\tSize: 28.61GiB\n\t\tOperator: op_name=\"jit(_normal)/jit(main)/threefry2x32\" source_file=\"/tmp/ipykernel_161663/627013869.py\" source_line=12\n\t\tXLA Label: custom-call\n\t\tShape: u32[16,16,30000000]\n\t\t==========================\n\n\tBuffer 3:\n\t\tSize: 28.61GiB\n\t\tOperator: op_name=\"jit(_normal)/jit(main)/threefry2x32\" source_file=\"/tmp/ipykernel_161663/627013869.py\" source_line=12\n\t\tXLA Label: custom-call\n\t\tShape: u32[16,16,30000000]\n\t\t==========================\n\n\tBuffer 4:\n\t\tSize: 28.61GiB\n\t\tOperator: op_name=\"jit(_normal)/jit(main)/threefry2x32\" source_file=\"/tmp/ipykernel_161663/627013869.py\" source_line=12\n\t\tXLA Label: fusion\n\t\tShape: u32[16,16,30000000]\n\t\t==========================\n\n\tBuffer 5:\n\t\tSize: 28.61GiB\n\t\tOperator: op_name=\"jit(_normal)/jit(main)/threefry2x32\" source_file=\"/tmp/ipykernel_161663/627013869.py\" source_line=12\n\t\tXLA Label: fusion\n\t\tShape: u32[16,16,30000000]\n\t\t==========================\n\n\tBuffer 6:\n\t\tSize: 28.61GiB\n\t\tOperator: op_name=\"jit(_normal)/jit(main)/threefry2x32\" source_file=\"/tmp/ipykernel_161663/627013869.py\" source_line=12\n\t\tXLA Label: fusion\n\t\tShape: u32[16,16,30000000]\n\t\t==========================\n\n\tBuffer 7:\n\t\tSize: 2.0KiB\n\t\tEntry Parameter Subshape: u32[16,16,2]\n\t\t==========================\n\n\tBuffer 8:\n\t\tSize: 16B\n\t\tOperator: op_name=\"jit(_normal)/jit(main)/threefry2x32\" source_file=\"/tmp/ipykernel_161663/627013869.py\" source_line=12\n\t\tXLA Label: custom-call\n\t\tShape: (u32[16,16,30000000], u32[16,16,30000000])\n\t\t==========================\n\n\tBuffer 9:\n\t\tSize: 16B\n\t\tOperator: op_name=\"jit(_normal)/jit(main)/threefry2x32\" source_file=\"/tmp/ipykernel_161663/627013869.py\" source_line=12\n\t\tXLA Label: fusion\n\t\tShape: (u32[16,16,30000000], u32[16,16,30000000])\n\t\t==========================\n\n"
     ]
    }
   ],
   "source": [
    "start_time = time.time()\n",
    "\n",
    "vmapped_monte_carlo = jax.vmap(\n",
    "    jax_monte_carlo_mean,\n",
    "    # jitted_monte_carlo_mean,\n",
    "    in_axes=(0, None, None, None, None, None, None, None, None, 0)\n",
    ")\n",
    "\n",
    "second_vmapped_monte_carlo = jax.vmap(\n",
    "    vmapped_monte_carlo,\n",
    "    in_axes=(None, None, None, None, None, 0, None, None, None, 0)\n",
    ")\n",
    "\n",
    "second_vmapped_result = second_vmapped_monte_carlo(\n",
    "    \n",
    "    initial_stock_prices, \n",
    "    strike_price,\n",
    "    time_to_maturity, \n",
    "    risk_free_interest_rate,\n",
    "    dividend_rate, \n",
    "    volatilities, \n",
    "    option_type, \n",
    "    time_steps_count,\n",
    "    samples_count,\n",
    "    randomization_keys\n",
    "    \n",
    ")\n",
    "\n",
    "evaluated_second_vmapped_result = second_vmapped_result * 1\n",
    "\n",
    "end_time = time.time()\n",
    "\n",
    "duration = end_time - start_time\n",
    "\n",
    "print(\"evaluated_second_vmapped_result.shape:\", evaluated_second_vmapped_result.shape)\n",
    "\n",
    "print(f\"duration: {duration:.02f} s.\")"
   ]
  },
  {
   "cell_type": "code",
   "execution_count": 38,
   "id": "46f88c9b-90e3-45f5-bb59-54f137c7655b",
   "metadata": {},
   "outputs": [
    {
     "data": {
      "image/png": "[encoded data removed]",
      "text/plain": [
       "<Figure size 500x500 with 1 Axes>"
      ]
     },
     "metadata": {},
     "output_type": "display_data"
    }
   ],
   "source": [
    "plot_asset_prices(initial_stock_prices, volatilities, evaluated_second_vmapped_result.T)"
   ]
  },
  {
   "cell_type": "code",
   "execution_count": null,
   "id": "bffbf81c-3cc8-4653-8a71-057e319840b1",
   "metadata": {},
   "outputs": [],
   "source": []
  },
  {
   "cell_type": "markdown",
   "id": "d3440fc5-2728-4e56-a62a-b19f35eb251d",
   "metadata": {
    "tags": []
   },
   "source": [
    "#### 5.2) PMap and VMap - No previous JIT"
   ]
  },
  {
   "cell_type": "code",
   "execution_count": null,
   "id": "77481921-5dc9-478e-acb1-d00b11e644d1",
   "metadata": {},
   "outputs": [
    {
     "name": "stdout",
     "output_type": "stream",
     "text": [
      "evaluated_pmapped_result: (16, 16)\n",
      "duration: 0.26 s.\n"
     ]
    }
   ],
   "source": [
    "start_time = time.time()\n",
    "\n",
    "vmapped_monte_carlo = jax.vmap(\n",
    "    jax_monte_carlo_mean,\n",
    "    # jitted_monte_carlo_mean,\n",
    "    in_axes=(0, None, None, None, None, None, None, None, None, 0)\n",
    ")\n",
    "\n",
    "pmapped_monte_carlo = jax.pmap(\n",
    "    vmapped_monte_carlo,\n",
    "    static_broadcasted_argnums=(6, 7, 8),\n",
    "    in_axes=(None, None, None, None, None, 0, None, None, None, 0)\n",
    ")\n",
    "\n",
    "pmapped_result = pmapped_monte_carlo(\n",
    "    \n",
    "    initial_stock_prices, \n",
    "    strike_price,\n",
    "    time_to_maturity, \n",
    "    risk_free_interest_rate,\n",
    "    dividend_rate, \n",
    "    volatilities, \n",
    "    option_type, \n",
    "    time_steps_count,\n",
    "    samples_count,\n",
    "    randomization_keys\n",
    "    \n",
    ")\n",
    "\n",
    "evaluated_pmapped_result = pmapped_result * 1\n",
    "\n",
    "end_time = time.time()\n",
    "\n",
    "duration = end_time - start_time\n",
    "\n",
    "print(\"evaluated_pmapped_result:\", evaluated_pmapped_result.shape)\n",
    "\n",
    "print(f\"duration: {duration:.02f} s.\")"
   ]
  },
  {
   "cell_type": "code",
   "execution_count": null,
   "id": "afb8f918-fa9e-46ea-980a-08580a2c09ea",
   "metadata": {},
   "outputs": [
    {
     "data": {
      "image/png": "[encoded data removed]",
      "text/plain": [
       "<Figure size 500x500 with 1 Axes>"
      ]
     },
     "metadata": {},
     "output_type": "display_data"
    }
   ],
   "source": [
    "plot_asset_prices(initial_stock_prices, volatilities, evaluated_pmapped_result.T)"
   ]
  },
  {
   "cell_type": "code",
   "execution_count": null,
   "id": "6bbfdc55-11a1-4e96-8cf1-7df114131137",
   "metadata": {},
   "outputs": [],
   "source": []
  },
  {
   "cell_type": "markdown",
   "id": "c7ff8a0f-8aaa-4519-bd5d-671ed1b0b518",
   "metadata": {
    "tags": []
   },
   "source": [
    "#### 5.3) Classical Monte Carlo Loop"
   ]
  },
  {
   "cell_type": "code",
   "execution_count": null,
   "id": "ce4317c7-5207-4f57-91d2-ef4a36752471",
   "metadata": {},
   "outputs": [
    {
     "name": "stdout",
     "output_type": "stream",
     "text": [
      "classical_results: (16, 16)\n",
      "duration: 8.39 s.\n"
     ]
    }
   ],
   "source": [
    "start_time = time.time()\n",
    "\n",
    "classical_results = np.zeros(shape=(len(initial_stock_prices),\n",
    "                                    len(volatilities)))\n",
    "\n",
    "for volatility_index, volatility in enumerate(volatilities):\n",
    "    \n",
    "    # print(\"volatility:\", volatility)\n",
    "    \n",
    "    for initial_stock_price_index, initial_stock_price in enumerate(initial_stock_prices):\n",
    "        \n",
    "        # print(\"  initial_stock_price:\", initial_stock_price)\n",
    "        \n",
    "        # continue\n",
    "\n",
    "        classical_result = classical_monte_carlo_mean(\n",
    "\n",
    "            initial_stock_price, \n",
    "            strike_price,\n",
    "            time_to_maturity, \n",
    "            risk_free_interest_rate,\n",
    "            dividend_rate, \n",
    "            volatility, \n",
    "            option_type, \n",
    "            time_steps_count,\n",
    "            samples_count\n",
    "\n",
    "        )\n",
    "        \n",
    "        classical_results[initial_stock_price_index, volatility_index] = classical_result\n",
    "        \n",
    "    elapsed_time = time.time() - start_time\n",
    "\n",
    "    # print(f\"elapsed_time: {elapsed_time:.02f} s.\")\n",
    "        \n",
    "\n",
    "end_time = time.time()\n",
    "\n",
    "duration = end_time - start_time\n",
    "\n",
    "print(\"classical_results:\", classical_results.shape)\n",
    "\n",
    "print(f\"duration: {duration:.02f} s.\")"
   ]
  },
  {
   "cell_type": "code",
   "execution_count": 47,
   "id": "c48a12f8-2e96-4996-907c-cb7fa534b276",
   "metadata": {},
   "outputs": [
    {
     "data": {
      "image/png": "[encoded data removed]",
      "text/plain": [
       "<Figure size 500x500 with 1 Axes>"
      ]
     },
     "metadata": {},
     "output_type": "display_data"
    }
   ],
   "source": [
    "plot_asset_prices(initial_stock_prices, volatilities, classical_results)"
   ]
  },
  {
   "cell_type": "code",
   "execution_count": null,
   "id": "69d4d70d-b792-46dd-b90b-1d15beccd66b",
   "metadata": {},
   "outputs": [],
   "source": []
  },
  {
   "cell_type": "code",
   "execution_count": null,
   "id": "3d4ade8f-077c-4b65-b55c-d2e148af96fa",
   "metadata": {},
   "outputs": [],
   "source": []
  },
  {
   "cell_type": "code",
   "execution_count": null,
   "id": "8a735c29-33cd-4b7d-affd-e8292d35dde2",
   "metadata": {},
   "outputs": [],
   "source": []
  },
  {
   "cell_type": "markdown",
   "id": "e2f8c93a-ac22-4d69-86a7-3423b425ba91",
   "metadata": {
    "tags": []
   },
   "source": [
    "### Other mappings"
   ]
  },
  {
   "cell_type": "code",
   "execution_count": 12,
   "id": "13a3b2f0-1282-4994-b3cb-aefa386b8c0c",
   "metadata": {},
   "outputs": [
    {
     "name": "stdout",
     "output_type": "stream",
     "text": [
      "Result: [110 211]\n"
     ]
    }
   ],
   "source": [
    "def test_function(a, b, c):\n",
    "    \n",
    "    return a + b + c\n",
    "\n",
    "vmapped_test_function = jax.vmap(test_function,\n",
    "                                 in_axes = (0, None, 0))\n",
    "\n",
    "a_s = jnp.array([0, 1])\n",
    "b_s = 10\n",
    "c_s = jnp.array([100, 200])\n",
    "\n",
    "result = vmapped_test_function(a_s, b_s, c_s)\n",
    "\n",
    "print(\"Result:\", result)"
   ]
  },
  {
   "cell_type": "code",
   "execution_count": 13,
   "id": "8620c9d4-a30a-4b8a-aeb9-7e7197f12cfd",
   "metadata": {},
   "outputs": [
    {
     "name": "stdout",
     "output_type": "stream",
     "text": [
      "Result: [110 211]\n"
     ]
    }
   ],
   "source": [
    "def test_function(arguments):\n",
    "    \n",
    "    a, b, c = arguments.values()\n",
    "    \n",
    "    return a + b + c\n",
    "\n",
    "vmapped_test_function = jax.vmap(test_function,\n",
    "                                 in_axes = ({'a': 0, 'b': None, 'c': 0},))\n",
    "\n",
    "a_s = jnp.array([0, 1])\n",
    "b_s = 10\n",
    "c_s = jnp.array([100, 200])\n",
    "\n",
    "arguments = {'a': a_s, 'b': b_s, 'c': c_s}\n",
    "\n",
    "result = vmapped_test_function(arguments)\n",
    "\n",
    "print(\"Result:\", result)"
   ]
  },
  {
   "cell_type": "code",
   "execution_count": null,
   "id": "8287af01-186b-4372-914e-13659da8683b",
   "metadata": {},
   "outputs": [],
   "source": []
  },
  {
   "cell_type": "code",
   "execution_count": null,
   "id": "7a62f1ab-d5d2-45da-8ca9-ba5c87899a64",
   "metadata": {},
   "outputs": [],
   "source": [
    "vmapped_mc = jax.vmap(monte_carlo,\n",
    "                      in_axes=(0, None, None, None, None, None, None, None, None))\n",
    "\n",
    "initial_stock_prices = jnp.array([1000, 2000])\n",
    "strike_price = 100\n",
    "volatility = 0.5\n",
    "\n",
    "result = vmapped_mc(S=initial_stock_prices, \n",
    "                     K=strike_price,\n",
    "                     T=time_to_maturity, \n",
    "                     r=risk_free_interest_rate,\n",
    "                     q=dividend_rate, \n",
    "                     sigma=volatility, \n",
    "                     CallPut=option_type, \n",
    "                     n=time_steps_count,\n",
    "                     m=paths_count)\n",
    "\n",
    "print(\"Result:\", result)\n",
    "\n",
    "# ,\n",
    "                                # axis_name='filters',\n",
    "                                # static_broadcasted_argnums=[2, 3, 4, 6, 7, 8],\n",
    "                                # in_axes=(None, 0, None),\n",
    "                               # )\n",
    "    \n",
    "#     result = vmapped_function()\n",
    "    \n",
    "#     result = vmapped_function(S=initial_stock_prices, \n",
    "#                                   K=strike_prices,\n",
    "#                                   T=time_to_maturity, \n",
    "#                                   r=risk_free_interest_rate,\n",
    "#                                   q=dividend_rate, \n",
    "#                                   sigma=volatilities, \n",
    "#                                   CallPut=option_type, \n",
    "#                                   n=time_steps_count,\n",
    "#                                   m=paths_count)\n",
    "    \n",
    "#     continue"
   ]
  },
  {
   "cell_type": "markdown",
   "id": "f56992b4-b580-459a-9aa5-81c3ab6f643a",
   "metadata": {},
   "source": [
    "### Asian Option Pricing Functions"
   ]
  },
  {
   "cell_type": "code",
   "execution_count": null,
   "id": "6c5a2b04-9c62-4310-af68-046990baad53",
   "metadata": {},
   "outputs": [],
   "source": [
    "def arithmetic_asian_option_price(initial_stock_price, strike_price, time_to_maturity, \n",
    "                                  risk_free_interest_rate, \n",
    "                                  volatility, option_type, time_steps_count, samples_count):\n",
    "    \n",
    "    S = initial_stock_price\n",
    "    K = strike_price\n",
    "    T = time_to_maturity\n",
    "    r = risk_free_interest_rate\n",
    "    # dividend_rate, \n",
    "    sigma = volatility\n",
    "    CallPut = option_type \n",
    "    N = time_steps_count \n",
    "    M = samples_count\n",
    "            \n",
    "            \n",
    "    '''\n",
    "    Simple Monte Carlo pricing for arithmetic Asian options\n",
    "    \n",
    "    Args:\n",
    "        S - Initial Stock Price         sigma - Volatility\n",
    "        K - Strike Price                CallPut - Option type specification (Call or Put)\n",
    "        T - Time to Maturity            N - number of time steps for each MC path\n",
    "        r - Risk-free interest rate     M - number of simulated paths\n",
    "    \n",
    "    Returns the simulated price of an arithmetic Asian-style call or put option and the associated \n",
    "    95% confidence interval of the estimate.\n",
    "    '''\n",
    "    sims = np.zeros(M) # vector of simulated values\n",
    "    t = np.linspace(0,T,N+1)\n",
    "    dt = T/N\n",
    "    \n",
    "    for i in range(M):      \n",
    "        W = [0] + list(np.random.standard_normal(size=N))\n",
    "        W = np.cumsum(W)*np.sqrt(dt)\n",
    "        St = S*np.exp((r-0.5*sigma**2)*t - sigma*W)\n",
    "        sims[i] = np.sum(St)\n",
    "        \n",
    "    sims = sims/(N+1)\n",
    "    if CallPut == 'Call':\n",
    "        sims = sims - K;    sims[sims < 0] = 0\n",
    "    elif CallPut == 'Put':\n",
    "        sims = K - sims;    sims[sims < 0] = 0\n",
    "    \n",
    "    sims = sims*np.exp(-r*T)\n",
    "    mu_hat = np.mean(sims)\n",
    "    sigma_hat = np.sqrt(np.sum((sims-mu_hat)**2)/(M-1))    \n",
    "    \n",
    "    # CI = [mu_hat - 1.96*sigma_hat/np.sqrt(M), mu_hat + 1.96*sigma_hat/np.sqrt(M)]\n",
    "    \n",
    "    return mu_hat"
   ]
  },
  {
   "cell_type": "code",
   "execution_count": null,
   "id": "ac6f28a7-9941-4c75-a78d-8497200a220b",
   "metadata": {},
   "outputs": [],
   "source": [
    "def arithmetic_asian_option_price_vectorized(\n",
    "    initial_stock_price, strike_price, time_to_maturity,\n",
    "    risk_free_interest_rate,\n",
    "    volatility, option_type, time_steps_count, samples_count):\n",
    "    \n",
    "    # rate_difference = risk_free_interest_rate - dividend_rate\n",
    "    \n",
    "    sims = np.zeros(samples_count)\n",
    "    t = np.linspace(0, time_to_maturity, time_steps_count + 1)\n",
    "    \n",
    "    # print(\"t:\", t)\n",
    "    \n",
    "    # Stock prices\n",
    "    \n",
    "    time_step = time_to_maturity/time_steps_count\n",
    "    \n",
    "    for i in range(samples_count):\n",
    "        \n",
    "        W = [0] + list(np.random.standard_normal(size=time_steps_count))\n",
    "        \n",
    "        W = np.cumsum(W) * np.sqrt(time_step)\n",
    "        \n",
    "        St = initial_stock_price * np.exp((risk_free_interest_rate - 0.5 * volatility ** 2) * t \n",
    "                                          - volatility * W)\n",
    "        \n",
    "        sims[i] = np.sum(St)\n",
    "        \n",
    "\n",
    "#     weights = np.random.standard_normal(size=(samples_count, time_steps_count))\n",
    "\n",
    "#     zeros = np.zeros(shape=(samples_count, 1))\n",
    "\n",
    "#     stuffed_weights = np.hstack((zeros, weights))\n",
    "\n",
    "#     samples = np.cumsum(stuffed_weights, axis=1) * np.sqrt(time_step)\n",
    "        \n",
    "    sims = sims/(time_steps_count + 1)\n",
    "    \n",
    "    # Option prices\n",
    "    \n",
    "    price_differences = sims - strike_price   \n",
    "    \n",
    "    if option_type == 'Put':\n",
    "        price_differences = -price_differences\n",
    "    \n",
    "    price_differences = np.clip(price_differences, a_min=0, a_max=None)\n",
    "    \n",
    "    option_prices = price_differences * np.exp(-risk_free_interest_rate * time_to_maturity)\n",
    "    \n",
    "    return option_prices"
   ]
  }
 ],
 "metadata": {
  "kernelspec": {
   "display_name": "Python 3 (ipykernel)",
   "language": "python",
   "name": "python3"
  },
  "language_info": {
   "codemirror_mode": {
    "name": "ipython",
    "version": 3
   },
   "file_extension": ".py",
   "mimetype": "text/x-python",
   "name": "python",
   "nbconvert_exporter": "python",
   "pygments_lexer": "ipython3",
   "version": "3.8.10"
  }
 },
 "nbformat": 4,
 "nbformat_minor": 5
}
