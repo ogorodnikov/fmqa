{
 "cells": [
  {
   "cell_type": "code",
   "execution_count": 1,
   "id": "94ed980d-a88c-45fa-b1f1-f9ea1b16f789",
   "metadata": {},
   "outputs": [],
   "source": [
    "import time\n",
    "import tqdm\n",
    "import numpy as np\n",
    "import pandas as pd\n",
    "import matplotlib.pyplot as plt\n",
    "\n",
    "plt.style.use('dark_background')"
   ]
  },
  {
   "cell_type": "markdown",
   "id": "76ebbeda-72b8-4b8e-90f1-c97e54a00fc5",
   "metadata": {
    "tags": []
   },
   "source": [
    "### 1) Classical Monte Carlo"
   ]
  },
  {
   "cell_type": "code",
   "execution_count": 2,
   "id": "cf2fc3c4-7500-4e1e-82c6-e592fc4bd4c5",
   "metadata": {},
   "outputs": [],
   "source": [
    "def classical_monte_carlo(initial_stock_price, strike_price, time_to_maturity, \n",
    "                          risk_free_interest_rate, dividend_rate, \n",
    "                          volatility, option_type, time_steps_count, samples_count):\n",
    "    \n",
    "    rate_difference = risk_free_interest_rate - dividend_rate\n",
    "    \n",
    "    # Stock prices\n",
    "    \n",
    "    time_step = time_to_maturity/time_steps_count\n",
    "    \n",
    "    weights = np.random.standard_normal(size=(samples_count, time_steps_count))\n",
    "    \n",
    "    samples = weights.sum(axis=1) * np.sqrt(time_step)  \n",
    "\n",
    "    stock_prices = initial_stock_price * np.exp((rate_difference - 0.5 * volatility ** 2) * time_to_maturity \n",
    "                                                + volatility * samples)\n",
    "    \n",
    "    # Option prices\n",
    "    \n",
    "    price_differences = stock_prices - strike_price   \n",
    "    \n",
    "    if option_type == 'Put':\n",
    "        price_differences = -price_differences\n",
    "    \n",
    "    # price_differences[price_differences < 0] = 0\n",
    "    \n",
    "    price_differences = np.clip(price_differences, a_min=0, a_max=None)\n",
    "    \n",
    "    option_prices = price_differences * np.exp(-risk_free_interest_rate * time_to_maturity)\n",
    "         \n",
    "    return option_prices"
   ]
  },
  {
   "cell_type": "code",
   "execution_count": 3,
   "id": "34ca18c0-03a6-40d2-973d-844c36a980c9",
   "metadata": {
    "tags": []
   },
   "outputs": [],
   "source": [
    "def plot_asset_prices(initial_asset_prices, volatilities, asset_prices_meshgrid,\n",
    "                       elevation=10, initial_azimuth=230):\n",
    "\n",
    "    initial_asset_prices_grid, volatilities_grid = np.meshgrid(initial_asset_prices, volatilities)\n",
    "\n",
    "    fig, ax = plt.subplots(figsize=(5, 5),\n",
    "                           subplot_kw={\"projection\": \"3d\"})\n",
    "\n",
    "    surface = ax.plot_surface(initial_asset_prices_grid,\n",
    "                              volatilities_grid,\n",
    "                              asset_prices_meshgrid.T,\n",
    "                              cmap='plasma',\n",
    "                              linewidth=30, \n",
    "                              antialiased=False)\n",
    "\n",
    "    ax.view_init(elev=elevation, azim=initial_azimuth)\n",
    "\n",
    "    ax.zaxis.set_rotate_label(False)\n",
    "    \n",
    "    ax.set_xlabel('Initial Asset Price')\n",
    "    ax.set_ylabel('Volatility')\n",
    "    ax.set_zlabel('Asset Price', rotation=90)\n",
    "    \n",
    "    plt.show()"
   ]
  },
  {
   "cell_type": "code",
   "execution_count": 4,
   "id": "836051ac-2fba-460c-983a-a420adad22a2",
   "metadata": {},
   "outputs": [],
   "source": [
    "# Fixed Parameters\n",
    "\n",
    "T = time_to_maturity = 1\n",
    "\n",
    "q = dividend_rate = 0.05\n",
    "r = risk_free_interest_rate = 0.02\n",
    "\n",
    "CallPut = option_type = 'Call'"
   ]
  },
  {
   "cell_type": "markdown",
   "id": "2ad2a8a7-651b-477b-962a-63f0a60385c0",
   "metadata": {},
   "source": [
    "#### Classical Monte Carlo"
   ]
  },
  {
   "cell_type": "code",
   "execution_count": 109,
   "id": "6d5fbd26-b8e6-4d7f-b874-df5f344b7950",
   "metadata": {},
   "outputs": [
    {
     "name": "stderr",
     "output_type": "stream",
     "text": [
      "Simulating: 100%|█████████████████████████████████████████████████████| 34/34 [00:00<00:00, 50.93simulation/s]\n"
     ]
    }
   ],
   "source": [
    "DATASET_FILE = 'generated_prices/option_prices.csv'\n",
    "\n",
    "GRID_STEP = 3\n",
    "\n",
    "initial_stock_prices = np.linspace(0, 10000, 101)\n",
    "volatilities = np.linspace(0, 1.0, 101)\n",
    "\n",
    "initial_stock_prices = initial_stock_prices[::GRID_STEP]\n",
    "volatilities = volatilities[::GRID_STEP]\n",
    "\n",
    "# samples_count = 10000\n",
    "samples_count = 100\n",
    "\n",
    "time_steps_count = 300\n",
    "\n",
    "strike_price = 1000\n",
    "\n",
    "\n",
    "fields_count = 3\n",
    "\n",
    "option_prices_shape = (len(initial_stock_prices) * len(volatilities), fields_count)\n",
    "\n",
    "option_prices = np.zeros(option_prices_shape)\n",
    "\n",
    "option_prices_meshgrid_shape = len(initial_stock_prices), len(volatilities)\n",
    "\n",
    "option_prices_meshgrid = np.zeros(option_prices_meshgrid_shape)\n",
    "\n",
    "\n",
    "np.savetxt(DATASET_FILE, [],\n",
    "           header='initial_stock_price,volatility,option_price',\n",
    "           comments='')\n",
    "\n",
    "simulation_tracker = tqdm.tqdm(\n",
    "    initial_stock_prices,\n",
    "    desc=f\"Simulating\",\n",
    "    ncols=110,\n",
    "    unit='simulation',\n",
    "    mininterval=1    \n",
    ")    \n",
    "\n",
    "for initial_stock_price_index, initial_stock_price in enumerate(simulation_tracker):\n",
    "\n",
    "    for volatility_index, volatility in enumerate(volatilities):\n",
    "\n",
    "        sampled_option_prices = classical_monte_carlo(\n",
    "            initial_stock_price=initial_stock_price, \n",
    "            strike_price=strike_price,\n",
    "            time_to_maturity=time_to_maturity, \n",
    "            risk_free_interest_rate=risk_free_interest_rate,\n",
    "            dividend_rate=dividend_rate, \n",
    "            volatility=volatility, \n",
    "            option_type=option_type, \n",
    "            time_steps_count=time_steps_count,\n",
    "            samples_count=samples_count\n",
    "        )\n",
    "        \n",
    "        option_price = sampled_option_prices.mean()\n",
    "               \n",
    "        option_prices_meshgrid[initial_stock_price_index, volatility_index] = option_price\n",
    "        \n",
    "\n",
    "with open(DATASET_FILE, 'ab') as dataset_file:\n",
    "    np.savetxt(dataset_file, option_prices, fmt=('%d', '%f', '%f'), delimiter=',')"
   ]
  },
  {
   "cell_type": "code",
   "execution_count": 111,
   "id": "aa6e4ddc-e71f-4129-9d81-b97db2ae209e",
   "metadata": {},
   "outputs": [],
   "source": [
    "# plot_asset_prices(initial_stock_prices, volatilities, option_prices_meshgrid)"
   ]
  },
  {
   "cell_type": "code",
   "execution_count": null,
   "id": "25826f80-313b-4fd2-a846-84efd287126a",
   "metadata": {},
   "outputs": [],
   "source": []
  },
  {
   "cell_type": "markdown",
   "id": "38cd578f-6fce-41b0-b778-6cb1d24117f2",
   "metadata": {},
   "source": [
    "### 2) JAX Initialization"
   ]
  },
  {
   "cell_type": "code",
   "execution_count": 7,
   "id": "a3391881-67a1-4c1f-83d9-285c36b0dad8",
   "metadata": {},
   "outputs": [],
   "source": [
    "# !pip install --upgrade \"jax[cuda]\" -f https://storage.googleapis.com/jax-releases/jax_cuda_releases.html"
   ]
  },
  {
   "cell_type": "code",
   "execution_count": 10,
   "id": "4afe383e-2528-4c8c-90e1-5a195044c6b8",
   "metadata": {},
   "outputs": [
    {
     "data": {
      "text/plain": [
       "[CpuDevice(id=0),\n",
       " CpuDevice(id=1),\n",
       " CpuDevice(id=2),\n",
       " CpuDevice(id=3),\n",
       " CpuDevice(id=4),\n",
       " CpuDevice(id=5),\n",
       " CpuDevice(id=6),\n",
       " CpuDevice(id=7),\n",
       " CpuDevice(id=8),\n",
       " CpuDevice(id=9),\n",
       " CpuDevice(id=10),\n",
       " CpuDevice(id=11),\n",
       " CpuDevice(id=12),\n",
       " CpuDevice(id=13),\n",
       " CpuDevice(id=14),\n",
       " CpuDevice(id=15)]"
      ]
     },
     "execution_count": 10,
     "metadata": {},
     "output_type": "execute_result"
    }
   ],
   "source": [
    "import os\n",
    "import time\n",
    "import numpy as np\n",
    "\n",
    "# JAX\n",
    "\n",
    "import jax\n",
    "import jax.numpy as jnp\n",
    "\n",
    "from jax.config import config\n",
    "\n",
    "config.update(\"jax_enable_x64\", True)\n",
    "\n",
    "\n",
    "# Host CPUs\n",
    "\n",
    "os.environ['XLA_FLAGS'] = '--xla_force_host_platform_device_count=16'\n",
    "\n",
    "# os.environ[\"CUDA_DEVICE_ORDER\"] = \"PCI_BUS_ID\"\n",
    "# os.environ[\"CUDA_VISIBLE_DEVICES\"] = \", \".join(map(str, range(1, 3)))\n",
    "\n",
    "jax.devices()"
   ]
  },
  {
   "cell_type": "code",
   "execution_count": 26,
   "id": "86c0da82-5f73-4575-855a-1af525e5b7c0",
   "metadata": {},
   "outputs": [],
   "source": [
    "def jax_monte_carlo(initial_stock_price, strike_price, time_to_maturity, \n",
    "                    risk_free_interest_rate, dividend_rate, \n",
    "                    volatility, option_type, time_steps_count, samples_count,\n",
    "                    randomization_key):\n",
    "    \n",
    "    rate_difference = risk_free_interest_rate - dividend_rate\n",
    "    \n",
    "    # Stock prices\n",
    "    \n",
    "    time_step = time_to_maturity/time_steps_count\n",
    "    \n",
    "    weights = jax.random.normal(key=randomization_key, \n",
    "                                shape=(samples_count, time_steps_count))\n",
    "    \n",
    "    # weights = jnp.zeros((samples_count, time_steps_count))\n",
    "    \n",
    "    samples = weights.sum(axis=1) * jnp.sqrt(time_step)  \n",
    "\n",
    "    stock_prices = initial_stock_price * jnp.exp((rate_difference - 0.5 * volatility ** 2) * time_to_maturity \n",
    "                                                 + volatility * samples)\n",
    "    \n",
    "    # Option prices\n",
    "    \n",
    "    price_differences = stock_prices - strike_price   \n",
    "    \n",
    "    if option_type == 'Put':\n",
    "        price_differences = -price_differences\n",
    "    \n",
    "    price_differences = jnp.clip(price_differences, a_min=0)\n",
    "    \n",
    "    option_prices = price_differences * jnp.exp(-risk_free_interest_rate * time_to_maturity)\n",
    "         \n",
    "    return option_prices\n",
    "\n",
    "\n",
    "def classical_monte_carlo(initial_stock_price, strike_price, time_to_maturity, \n",
    "                          risk_free_interest_rate, dividend_rate, \n",
    "                          volatility, option_type, time_steps_count, samples_count):\n",
    "    \n",
    "    rate_difference = risk_free_interest_rate - dividend_rate\n",
    "    \n",
    "    # Stock prices\n",
    "    \n",
    "    time_step = time_to_maturity/time_steps_count\n",
    "    \n",
    "    weights = np.random.standard_normal(size=(samples_count, time_steps_count))\n",
    "    \n",
    "    samples = weights.sum(axis=1) * np.sqrt(time_step)  \n",
    "\n",
    "    stock_prices = initial_stock_price * np.exp((rate_difference - 0.5 * volatility ** 2) * time_to_maturity \n",
    "                                                + volatility * samples)\n",
    "    \n",
    "    # Option prices\n",
    "    \n",
    "    price_differences = stock_prices - strike_price   \n",
    "    \n",
    "    if option_type == 'Put':\n",
    "        price_differences = -price_differences\n",
    "    \n",
    "    # price_differences[price_differences < 0] = 0\n",
    "    \n",
    "    price_differences = np.clip(price_differences, a_min=0, a_max=None)\n",
    "    \n",
    "    option_prices = price_differences * np.exp(-risk_free_interest_rate * time_to_maturity)\n",
    "         \n",
    "    return option_prices\n",
    "\n",
    "\n",
    "# def meanify(function):\n",
    "    \n",
    "#     def function_mean(*args, **kwargs):\n",
    "        \n",
    "#         function_result = function(*args, **kwargs)\n",
    "        \n",
    "#         mean_result = function_result.mean()\n",
    "        \n",
    "#         return mean_result\n",
    "    \n",
    "#     return function_mean\n",
    "    \n",
    "\n",
    "def jax_monte_carlo_mean(initial_stock_price, strike_price, time_to_maturity, \n",
    "                         risk_free_interest_rate, dividend_rate, \n",
    "                         volatility, option_type, time_steps_count, samples_count,\n",
    "                         randomization_key):\n",
    "    \n",
    "    samples = jax_monte_carlo(initial_stock_price, strike_price, time_to_maturity, \n",
    "                              risk_free_interest_rate, dividend_rate, \n",
    "                              volatility, option_type, time_steps_count, samples_count,\n",
    "                              randomization_key)\n",
    "    \n",
    "    result = samples.mean()\n",
    "    \n",
    "    return result\n",
    "\n",
    "\n",
    "def classical_monte_carlo_mean(initial_stock_price, strike_price, time_to_maturity, \n",
    "                               risk_free_interest_rate, dividend_rate, \n",
    "                               volatility, option_type, time_steps_count, samples_count):\n",
    "    \n",
    "    samples = classical_monte_carlo(initial_stock_price, strike_price, time_to_maturity, \n",
    "                                    risk_free_interest_rate, dividend_rate, \n",
    "                                    volatility, option_type, time_steps_count, samples_count)\n",
    "    \n",
    "    result = samples.mean()\n",
    "    \n",
    "    return result\n",
    "\n",
    "\n",
    "\n",
    "# Fixed Parameters\n",
    "\n",
    "T = time_to_maturity = 1\n",
    "\n",
    "q = dividend_rate = 0.05\n",
    "r = risk_free_interest_rate = 0.02\n",
    "\n",
    "CallPut = option_type = 'Call'"
   ]
  },
  {
   "cell_type": "code",
   "execution_count": null,
   "id": "a05a64df-7373-420d-8787-6543ea171033",
   "metadata": {},
   "outputs": [],
   "source": []
  },
  {
   "cell_type": "markdown",
   "id": "36da326b-ea04-4c8a-9f26-7f712666b9a4",
   "metadata": {},
   "source": [
    "### 3) JAX JIT"
   ]
  },
  {
   "cell_type": "markdown",
   "id": "77f8c16d-3d1c-419e-b137-cc350679d686",
   "metadata": {},
   "source": [
    "#### 3.1) Standalone Jitted Monte Carlo"
   ]
  },
  {
   "cell_type": "code",
   "execution_count": 27,
   "id": "029654f4-d678-455e-b088-e022ce5f2147",
   "metadata": {},
   "outputs": [],
   "source": [
    "jitted_monte_carlo = jax.jit(jax_monte_carlo, \n",
    "                             static_argnames=('samples_count' , \n",
    "                                              'time_steps_count',\n",
    "                                              'option_type'))\n",
    "\n",
    "jitted_monte_carlo_mean = jax.jit(jax_monte_carlo_mean, \n",
    "                                  static_argnames=('samples_count' , \n",
    "                                                   'time_steps_count',\n",
    "                                                   'option_type'))"
   ]
  },
  {
   "cell_type": "code",
   "execution_count": 28,
   "id": "bd7f7578-f6f9-4e87-bb81-5da58e494e05",
   "metadata": {},
   "outputs": [
    {
     "name": "stdout",
     "output_type": "stream",
     "text": [
      "duration: 0.59 s.\n",
      "sampled_option_prices: [7793.97878268 2953.73858521    0.         ... 1928.75882309    0.\n",
      " 1006.43158905]\n"
     ]
    }
   ],
   "source": [
    "# Parameters\n",
    "\n",
    "initial_stock_price = 5000\n",
    "volatility = 0.8\n",
    "\n",
    "samples_count = 100000\n",
    "# samples_count = 20\n",
    "\n",
    "time_steps_count = 300\n",
    "\n",
    "strike_price = 1000\n",
    "\n",
    "randomization_key = jax.random.PRNGKey(seed=100)\n",
    "\n",
    "\n",
    "start_time = time.time()\n",
    "\n",
    "sampled_option_prices = jitted_monte_carlo(\n",
    "    initial_stock_price=initial_stock_price, \n",
    "    strike_price=strike_price,\n",
    "    time_to_maturity=time_to_maturity, \n",
    "    risk_free_interest_rate=risk_free_interest_rate,\n",
    "    dividend_rate=dividend_rate, \n",
    "    volatility=volatility, \n",
    "    option_type=option_type, \n",
    "    time_steps_count=time_steps_count,\n",
    "    samples_count=samples_count,\n",
    "    randomization_key=randomization_key\n",
    ")\n",
    "\n",
    "end_time = time.time()\n",
    "\n",
    "duration = end_time - start_time\n",
    "\n",
    "print(f\"duration: {duration:.02f} s.\")\n",
    "\n",
    "print(\"sampled_option_prices:\", sampled_option_prices)"
   ]
  },
  {
   "cell_type": "code",
   "execution_count": null,
   "id": "1e4c3919-24de-4bb6-bcab-abbf1e9d1f89",
   "metadata": {},
   "outputs": [],
   "source": []
  },
  {
   "cell_type": "markdown",
   "id": "5a654c2f-85f5-4fd7-9220-a770bdbda289",
   "metadata": {},
   "source": [
    "#### 3.2) Standalone Classical Monte Carlo"
   ]
  },
  {
   "cell_type": "code",
   "execution_count": 29,
   "id": "6e2eef6f-3ca1-4cdb-9183-4e4b97243a07",
   "metadata": {},
   "outputs": [
    {
     "name": "stdout",
     "output_type": "stream",
     "text": [
      "duration: 0.55 s.\n",
      "sampled_option_prices: [   0.         3258.38479842 1100.90991047 ... 1008.14695572 1253.8148846\n",
      " 3239.22806051]\n"
     ]
    }
   ],
   "source": [
    "start_time = time.time()\n",
    "\n",
    "sampled_option_prices = classical_monte_carlo(\n",
    "    initial_stock_price=initial_stock_price, \n",
    "    strike_price=strike_price,\n",
    "    time_to_maturity=time_to_maturity, \n",
    "    risk_free_interest_rate=risk_free_interest_rate,\n",
    "    dividend_rate=dividend_rate, \n",
    "    volatility=volatility, \n",
    "    option_type=option_type, \n",
    "    time_steps_count=time_steps_count,\n",
    "    samples_count=samples_count\n",
    ")\n",
    "\n",
    "end_time = time.time()\n",
    "\n",
    "duration = end_time - start_time\n",
    "\n",
    "print(f\"duration: {duration:.02f} s.\")\n",
    "\n",
    "print(\"sampled_option_prices:\", sampled_option_prices)"
   ]
  },
  {
   "cell_type": "code",
   "execution_count": null,
   "id": "4355af7f-4f6e-412a-ae8c-13a28710f789",
   "metadata": {},
   "outputs": [],
   "source": []
  },
  {
   "cell_type": "markdown",
   "id": "bdb55b7e-c0f2-4484-b157-a59aaf788102",
   "metadata": {
    "jp-MarkdownHeadingCollapsed": true,
    "tags": []
   },
   "source": [
    "### 4) 1D Parallelization - VMap and PMap"
   ]
  },
  {
   "cell_type": "markdown",
   "id": "e5d55257-0bff-4fd8-b4cc-d770f3c8bdbe",
   "metadata": {
    "jp-MarkdownHeadingCollapsed": true,
    "tags": []
   },
   "source": [
    "#### 4.1) VMap"
   ]
  },
  {
   "cell_type": "code",
   "execution_count": 60,
   "id": "eaf37cbf-b2bb-4a26-90a8-bad47f169cb3",
   "metadata": {},
   "outputs": [
    {
     "name": "stdout",
     "output_type": "stream",
     "text": [
      "evaluated_vmapped_result.shape: (11, 100000)\n",
      "duration: 0.44 s.\n"
     ]
    }
   ],
   "source": [
    "# initial_stock_prices = jnp.array([1000, 5000])\n",
    "\n",
    "initial_stock_prices = np.linspace(0, 10000, 11)\n",
    "\n",
    "# volatilities = np.linspace(0, 1.0, 101)\n",
    "\n",
    "\n",
    "start_time = time.time()\n",
    "\n",
    "vmapped_monte_carlo = jax.vmap(jax_monte_carlo,\n",
    "                               # static_broadcasted_argnums=(6, 7, 8),\n",
    "                               in_axes=(0, None, None, None, None, None, None, None, None, None))\n",
    "\n",
    "vmapped_result = vmapped_monte_carlo(\n",
    "    \n",
    "    initial_stock_prices, \n",
    "    strike_price,\n",
    "    time_to_maturity, \n",
    "    risk_free_interest_rate,\n",
    "    dividend_rate, \n",
    "    volatility, \n",
    "    option_type, \n",
    "    time_steps_count,\n",
    "    samples_count,\n",
    "    randomization_key\n",
    "    \n",
    ")\n",
    "\n",
    "evaluated_vmapped_result = vmapped_result * 1\n",
    "\n",
    "end_time = time.time()\n",
    "\n",
    "duration = end_time - start_time\n",
    "\n",
    "print(\"evaluated_vmapped_result.shape:\", evaluated_vmapped_result.shape)\n",
    "\n",
    "print(f\"duration: {duration:.02f} s.\")"
   ]
  },
  {
   "cell_type": "code",
   "execution_count": null,
   "id": "ad039968-34ea-465e-b966-209d190e361e",
   "metadata": {},
   "outputs": [],
   "source": []
  },
  {
   "cell_type": "markdown",
   "id": "0f753bfa-353f-4c7a-a6cf-d92129feb2fc",
   "metadata": {
    "jp-MarkdownHeadingCollapsed": true,
    "tags": []
   },
   "source": [
    "#### 4.2) VMap - JIT"
   ]
  },
  {
   "cell_type": "code",
   "execution_count": 63,
   "id": "9fb1ae0c-91cf-4215-9d57-18165e2220f3",
   "metadata": {},
   "outputs": [
    {
     "name": "stdout",
     "output_type": "stream",
     "text": [
      "evaluated_vmapped_result.shape: (11, 100000)\n",
      "duration: 0.44 s.\n"
     ]
    }
   ],
   "source": [
    "start_time = time.time()\n",
    "\n",
    "vmapped_monte_carlo = jax.vmap(jitted_monte_carlo,\n",
    "                               # static_broadcasted_argnums=(6, 7, 8),\n",
    "                               in_axes=(0, None, None, None, None, None, None, None, None, None))\n",
    "\n",
    "vmapped_result = vmapped_monte_carlo(\n",
    "    \n",
    "    initial_stock_prices, \n",
    "    strike_price,\n",
    "    time_to_maturity, \n",
    "    risk_free_interest_rate,\n",
    "    dividend_rate, \n",
    "    volatility, \n",
    "    option_type, \n",
    "    time_steps_count,\n",
    "    samples_count,\n",
    "    randomization_key\n",
    "    \n",
    ")\n",
    "\n",
    "evaluated_vmapped_result = vmapped_result * 1\n",
    "\n",
    "end_time = time.time()\n",
    "\n",
    "duration = end_time - start_time\n",
    "\n",
    "print(\"evaluated_vmapped_result.shape:\", evaluated_vmapped_result.shape)\n",
    "\n",
    "print(f\"duration: {duration:.02f} s.\")"
   ]
  },
  {
   "cell_type": "code",
   "execution_count": null,
   "id": "47f95c91-95e8-42a3-b54f-303ee6f4745e",
   "metadata": {},
   "outputs": [],
   "source": []
  },
  {
   "cell_type": "markdown",
   "id": "540359c6-a317-403a-b858-21a2a5e23d7f",
   "metadata": {
    "jp-MarkdownHeadingCollapsed": true,
    "tags": []
   },
   "source": [
    "#### 4.3) PMap - No previous JIT"
   ]
  },
  {
   "cell_type": "code",
   "execution_count": 64,
   "id": "747a8e47-9bd8-4375-bd3e-b89de87df3f7",
   "metadata": {},
   "outputs": [
    {
     "name": "stdout",
     "output_type": "stream",
     "text": [
      "evaluated_pmapped_result.shape: (11, 100000)\n",
      "duration: 4.14 s.\n"
     ]
    }
   ],
   "source": [
    "# initial_stock_prices = jnp.array([1000, 5000])\n",
    "\n",
    "initial_stock_prices = np.linspace(0, 10000, 11)\n",
    "\n",
    "# volatilities = np.linspace(0, 1.0, 101)\n",
    "\n",
    "\n",
    "start_time = time.time()\n",
    "\n",
    "pmapped_monte_carlo = jax.pmap(jax_monte_carlo,\n",
    "                               static_broadcasted_argnums=(6, 7, 8),\n",
    "                               in_axes=(0, None, None, None, None, None, None, None, None, None))\n",
    "\n",
    "pmapped_result = pmapped_monte_carlo(\n",
    "    \n",
    "    initial_stock_prices, \n",
    "    strike_price,\n",
    "    time_to_maturity, \n",
    "    risk_free_interest_rate,\n",
    "    dividend_rate, \n",
    "    volatility, \n",
    "    option_type, \n",
    "    time_steps_count,\n",
    "    samples_count,\n",
    "    randomization_key\n",
    "    \n",
    ")\n",
    "\n",
    "evaluated_pmapped_result = pmapped_result * 1\n",
    "\n",
    "end_time = time.time()\n",
    "\n",
    "duration = end_time - start_time\n",
    "\n",
    "print(\"evaluated_pmapped_result.shape:\", evaluated_pmapped_result.shape)\n",
    "\n",
    "print(f\"duration: {duration:.02f} s.\")"
   ]
  },
  {
   "cell_type": "code",
   "execution_count": null,
   "id": "d5664b9c-a47b-425d-ad5b-8024dcc083c1",
   "metadata": {},
   "outputs": [],
   "source": []
  },
  {
   "cell_type": "markdown",
   "id": "daf4717f-4363-4cf8-8e98-142345809e29",
   "metadata": {
    "jp-MarkdownHeadingCollapsed": true,
    "tags": []
   },
   "source": [
    "#### 4.4) PMap - Previous JIT"
   ]
  },
  {
   "cell_type": "code",
   "execution_count": 65,
   "id": "c93a94fb-e7cb-4ff9-a6c5-e4eb1ae63fc3",
   "metadata": {},
   "outputs": [
    {
     "name": "stdout",
     "output_type": "stream",
     "text": [
      "evaluated_pmapped_result.shape: (11, 100000)\n",
      "duration: 4.15 s.\n"
     ]
    }
   ],
   "source": [
    "start_time = time.time()\n",
    "\n",
    "pmapped_monte_carlo = jax.pmap(jitted_monte_carlo,\n",
    "                               static_broadcasted_argnums=(6, 7, 8),\n",
    "                               in_axes=(0, None, None, None, None, None, None, None, None, None))\n",
    "\n",
    "pmapped_result = pmapped_monte_carlo(\n",
    "    \n",
    "    initial_stock_prices, \n",
    "    strike_price,\n",
    "    time_to_maturity, \n",
    "    risk_free_interest_rate,\n",
    "    dividend_rate, \n",
    "    volatility, \n",
    "    option_type, \n",
    "    time_steps_count,\n",
    "    samples_count,\n",
    "    randomization_key\n",
    "    \n",
    ")\n",
    "\n",
    "evaluated_pmapped_result = pmapped_result * 1\n",
    "\n",
    "end_time = time.time()\n",
    "\n",
    "duration = end_time - start_time\n",
    "\n",
    "print(\"evaluated_pmapped_result.shape:\", evaluated_pmapped_result.shape)\n",
    "\n",
    "print(f\"duration: {duration:.02f} s.\")"
   ]
  },
  {
   "cell_type": "code",
   "execution_count": null,
   "id": "c2fbbd75-70db-47d1-9754-0f72e12a3525",
   "metadata": {},
   "outputs": [],
   "source": []
  },
  {
   "cell_type": "markdown",
   "id": "d800ed7b-892e-48d2-9a98-4dc4c43e5f72",
   "metadata": {},
   "source": [
    "### 5) 2D Parallelization"
   ]
  },
  {
   "cell_type": "code",
   "execution_count": 272,
   "id": "34214044-2d0d-4672-9a7c-506c1db85bae",
   "metadata": {},
   "outputs": [],
   "source": [
    "samples_count = 100\n",
    "\n",
    "STOCK_PRICE_STEPS = 16\n",
    "VOLATILITY_STEPS = 16\n",
    "\n",
    "initial_stock_prices = np.linspace(0, 10000, STOCK_PRICE_STEPS)\n",
    "\n",
    "volatilities = np.linspace(0, 1.0, VOLATILITY_STEPS)\n",
    "\n",
    "initial_stock_prices_count = len(initial_stock_prices)\n",
    "volatilities_count = len(volatilities)\n",
    "\n",
    "\n",
    "# Randomization Keys\n",
    "\n",
    "random_seed = np.random.randint(1000)\n",
    "\n",
    "initial_randomization_key = jax.random.PRNGKey(seed=random_seed)\n",
    "\n",
    "keys_count = volatilities_count * initial_stock_prices_count\n",
    "\n",
    "randomization_keys_vector = jax.random.split(initial_randomization_key, keys_count)\n",
    "\n",
    "randomization_keys = randomization_keys_vector.reshape(volatilities_count, \n",
    "                                                       initial_stock_prices_count, 2)"
   ]
  },
  {
   "cell_type": "markdown",
   "id": "5f0a33a1-ae8c-45aa-b235-106d22f77de1",
   "metadata": {
    "tags": []
   },
   "source": [
    "#### 5.1) VMap and VMap - No previous JIT"
   ]
  },
  {
   "cell_type": "code",
   "execution_count": 273,
   "id": "44a04f72-1266-490e-a3b1-bd1ae824f81e",
   "metadata": {},
   "outputs": [
    {
     "name": "stdout",
     "output_type": "stream",
     "text": [
      "evaluated_second_vmapped_result.shape: (16, 16)\n",
      "duration: 0.50 s.\n"
     ]
    }
   ],
   "source": [
    "start_time = time.time()\n",
    "\n",
    "vmapped_monte_carlo = jax.vmap(\n",
    "    jax_monte_carlo_mean,\n",
    "    # jitted_monte_carlo_mean,\n",
    "    in_axes=(0, None, None, None, None, None, None, None, None, 0)\n",
    ")\n",
    "\n",
    "second_vmapped_monte_carlo = jax.vmap(\n",
    "    vmapped_monte_carlo,\n",
    "    in_axes=(None, None, None, None, None, 0, None, None, None, 0)\n",
    ")\n",
    "\n",
    "second_vmapped_result = second_vmapped_monte_carlo(\n",
    "    \n",
    "    initial_stock_prices, \n",
    "    strike_price,\n",
    "    time_to_maturity, \n",
    "    risk_free_interest_rate,\n",
    "    dividend_rate, \n",
    "    volatilities, \n",
    "    option_type, \n",
    "    time_steps_count,\n",
    "    samples_count,\n",
    "    randomization_keys\n",
    "    \n",
    ")\n",
    "\n",
    "evaluated_second_vmapped_result = second_vmapped_result * 1\n",
    "\n",
    "end_time = time.time()\n",
    "\n",
    "duration = end_time - start_time\n",
    "\n",
    "print(\"evaluated_second_vmapped_result.shape:\", evaluated_second_vmapped_result.shape)\n",
    "\n",
    "print(f\"duration: {duration:.02f} s.\")"
   ]
  },
  {
   "cell_type": "code",
   "execution_count": 275,
   "id": "46f88c9b-90e3-45f5-bb59-54f137c7655b",
   "metadata": {},
   "outputs": [],
   "source": [
    "# plot_asset_prices(initial_stock_prices, volatilities, evaluated_second_vmapped_result.T)"
   ]
  },
  {
   "cell_type": "code",
   "execution_count": null,
   "id": "bffbf81c-3cc8-4653-8a71-057e319840b1",
   "metadata": {},
   "outputs": [],
   "source": []
  },
  {
   "cell_type": "markdown",
   "id": "d3440fc5-2728-4e56-a62a-b19f35eb251d",
   "metadata": {
    "tags": []
   },
   "source": [
    "#### 5.2) PMap and VMap - No previous JIT"
   ]
  },
  {
   "cell_type": "code",
   "execution_count": 276,
   "id": "77481921-5dc9-478e-acb1-d00b11e644d1",
   "metadata": {},
   "outputs": [
    {
     "name": "stdout",
     "output_type": "stream",
     "text": [
      "evaluated_pmapped_result: (16, 16)\n",
      "duration: 0.20 s.\n"
     ]
    }
   ],
   "source": [
    "start_time = time.time()\n",
    "\n",
    "vmapped_monte_carlo = jax.vmap(\n",
    "    jax_monte_carlo_mean,\n",
    "    in_axes=(0, None, None, None, None, None, None, None, None, None)\n",
    ")\n",
    "\n",
    "pmapped_monte_carlo = jax.pmap(\n",
    "    vmapped_monte_carlo,\n",
    "    static_broadcasted_argnums=(6, 7, 8),\n",
    "    in_axes=(None, None, None, None, None, 0, None, None, None, None)\n",
    ")\n",
    "\n",
    "pmapped_result = pmapped_monte_carlo(\n",
    "    \n",
    "    initial_stock_prices, \n",
    "    strike_price,\n",
    "    time_to_maturity, \n",
    "    risk_free_interest_rate,\n",
    "    dividend_rate, \n",
    "    volatilities, \n",
    "    option_type, \n",
    "    time_steps_count,\n",
    "    samples_count,\n",
    "    randomization_key\n",
    "    \n",
    ")\n",
    "\n",
    "evaluated_pmapped_result = pmapped_result * 1\n",
    "\n",
    "end_time = time.time()\n",
    "\n",
    "duration = end_time - start_time\n",
    "\n",
    "print(\"evaluated_pmapped_result:\", evaluated_pmapped_result.shape)\n",
    "\n",
    "print(f\"duration: {duration:.02f} s.\")"
   ]
  },
  {
   "cell_type": "code",
   "execution_count": 281,
   "id": "afb8f918-fa9e-46ea-980a-08580a2c09ea",
   "metadata": {},
   "outputs": [
    {
     "data": {
      "image/png": "[encoded data removed]",
      "text/plain": [
       "<Figure size 360x360 with 1 Axes>"
      ]
     },
     "metadata": {
      "needs_background": "dark"
     },
     "output_type": "display_data"
    }
   ],
   "source": [
    "plot_asset_prices(initial_stock_prices, volatilities, evaluated_pmapped_result.T)"
   ]
  },
  {
   "cell_type": "code",
   "execution_count": null,
   "id": "6bbfdc55-11a1-4e96-8cf1-7df114131137",
   "metadata": {},
   "outputs": [],
   "source": []
  },
  {
   "cell_type": "markdown",
   "id": "c7ff8a0f-8aaa-4519-bd5d-671ed1b0b518",
   "metadata": {
    "tags": []
   },
   "source": [
    "#### 5.3) Classical Monte Carlo Loop"
   ]
  },
  {
   "cell_type": "code",
   "execution_count": 278,
   "id": "ce4317c7-5207-4f57-91d2-ef4a36752471",
   "metadata": {},
   "outputs": [
    {
     "name": "stdout",
     "output_type": "stream",
     "text": [
      "classical_results: (16, 16)\n",
      "duration: 0.16 s.\n"
     ]
    }
   ],
   "source": [
    "start_time = time.time()\n",
    "\n",
    "classical_results = np.zeros(shape=(len(initial_stock_prices),\n",
    "                                    len(volatilities)))\n",
    "\n",
    "for volatility_index, volatility in enumerate(volatilities):\n",
    "    \n",
    "    # print(\"volatility:\", volatility)\n",
    "    \n",
    "    for initial_stock_price_index, initial_stock_price in enumerate(initial_stock_prices):\n",
    "        \n",
    "        # print(\"  initial_stock_price:\", initial_stock_price)\n",
    "        \n",
    "        # continue\n",
    "\n",
    "        classical_result = classical_monte_carlo_mean(\n",
    "\n",
    "            initial_stock_price, \n",
    "            strike_price,\n",
    "            time_to_maturity, \n",
    "            risk_free_interest_rate,\n",
    "            dividend_rate, \n",
    "            volatility, \n",
    "            option_type, \n",
    "            time_steps_count,\n",
    "            samples_count\n",
    "\n",
    "        )\n",
    "        \n",
    "        classical_results[initial_stock_price_index, volatility_index] = classical_result\n",
    "        \n",
    "    elapsed_time = time.time() - start_time\n",
    "\n",
    "    # print(f\"elapsed_time: {elapsed_time:.02f} s.\")\n",
    "        \n",
    "\n",
    "end_time = time.time()\n",
    "\n",
    "duration = end_time - start_time\n",
    "\n",
    "print(\"classical_results:\", classical_results.shape)\n",
    "\n",
    "print(f\"duration: {duration:.02f} s.\")"
   ]
  },
  {
   "cell_type": "code",
   "execution_count": 280,
   "id": "c48a12f8-2e96-4996-907c-cb7fa534b276",
   "metadata": {},
   "outputs": [],
   "source": [
    "# plot_asset_prices(initial_stock_prices, volatilities, classical_results)"
   ]
  },
  {
   "cell_type": "code",
   "execution_count": null,
   "id": "69d4d70d-b792-46dd-b90b-1d15beccd66b",
   "metadata": {},
   "outputs": [],
   "source": []
  },
  {
   "cell_type": "code",
   "execution_count": null,
   "id": "3d4ade8f-077c-4b65-b55c-d2e148af96fa",
   "metadata": {},
   "outputs": [],
   "source": []
  },
  {
   "cell_type": "code",
   "execution_count": null,
   "id": "8a735c29-33cd-4b7d-affd-e8292d35dde2",
   "metadata": {},
   "outputs": [],
   "source": []
  },
  {
   "cell_type": "markdown",
   "id": "e2f8c93a-ac22-4d69-86a7-3423b425ba91",
   "metadata": {
    "jp-MarkdownHeadingCollapsed": true,
    "tags": []
   },
   "source": [
    "### Other mappings"
   ]
  },
  {
   "cell_type": "code",
   "execution_count": 12,
   "id": "13a3b2f0-1282-4994-b3cb-aefa386b8c0c",
   "metadata": {},
   "outputs": [
    {
     "name": "stdout",
     "output_type": "stream",
     "text": [
      "Result: [110 211]\n"
     ]
    }
   ],
   "source": [
    "def test_function(a, b, c):\n",
    "    \n",
    "    return a + b + c\n",
    "\n",
    "vmapped_test_function = jax.vmap(test_function,\n",
    "                                 in_axes = (0, None, 0))\n",
    "\n",
    "a_s = jnp.array([0, 1])\n",
    "b_s = 10\n",
    "c_s = jnp.array([100, 200])\n",
    "\n",
    "result = vmapped_test_function(a_s, b_s, c_s)\n",
    "\n",
    "print(\"Result:\", result)"
   ]
  },
  {
   "cell_type": "code",
   "execution_count": 13,
   "id": "8620c9d4-a30a-4b8a-aeb9-7e7197f12cfd",
   "metadata": {},
   "outputs": [
    {
     "name": "stdout",
     "output_type": "stream",
     "text": [
      "Result: [110 211]\n"
     ]
    }
   ],
   "source": [
    "def test_function(arguments):\n",
    "    \n",
    "    a, b, c = arguments.values()\n",
    "    \n",
    "    return a + b + c\n",
    "\n",
    "vmapped_test_function = jax.vmap(test_function,\n",
    "                                 in_axes = ({'a': 0, 'b': None, 'c': 0},))\n",
    "\n",
    "a_s = jnp.array([0, 1])\n",
    "b_s = 10\n",
    "c_s = jnp.array([100, 200])\n",
    "\n",
    "arguments = {'a': a_s, 'b': b_s, 'c': c_s}\n",
    "\n",
    "result = vmapped_test_function(arguments)\n",
    "\n",
    "print(\"Result:\", result)"
   ]
  },
  {
   "cell_type": "code",
   "execution_count": null,
   "id": "8287af01-186b-4372-914e-13659da8683b",
   "metadata": {},
   "outputs": [],
   "source": []
  },
  {
   "cell_type": "code",
   "execution_count": null,
   "id": "7a62f1ab-d5d2-45da-8ca9-ba5c87899a64",
   "metadata": {},
   "outputs": [],
   "source": [
    "vmapped_mc = jax.vmap(monte_carlo,\n",
    "                      in_axes=(0, None, None, None, None, None, None, None, None))\n",
    "\n",
    "initial_stock_prices = jnp.array([1000, 2000])\n",
    "strike_price = 100\n",
    "volatility = 0.5\n",
    "\n",
    "result = vmapped_mc(S=initial_stock_prices, \n",
    "                     K=strike_price,\n",
    "                     T=time_to_maturity, \n",
    "                     r=risk_free_interest_rate,\n",
    "                     q=dividend_rate, \n",
    "                     sigma=volatility, \n",
    "                     CallPut=option_type, \n",
    "                     n=time_steps_count,\n",
    "                     m=paths_count)\n",
    "\n",
    "print(\"Result:\", result)\n",
    "\n",
    "# ,\n",
    "                                # axis_name='filters',\n",
    "                                # static_broadcasted_argnums=[2, 3, 4, 6, 7, 8],\n",
    "                                # in_axes=(None, 0, None),\n",
    "                               # )\n",
    "    \n",
    "#     result = vmapped_function()\n",
    "    \n",
    "#     result = vmapped_function(S=initial_stock_prices, \n",
    "#                                   K=strike_prices,\n",
    "#                                   T=time_to_maturity, \n",
    "#                                   r=risk_free_interest_rate,\n",
    "#                                   q=dividend_rate, \n",
    "#                                   sigma=volatilities, \n",
    "#                                   CallPut=option_type, \n",
    "#                                   n=time_steps_count,\n",
    "#                                   m=paths_count)\n",
    "    \n",
    "#     continue"
   ]
  }
 ],
 "metadata": {
  "kernelspec": {
   "display_name": "Python 3 (ipykernel)",
   "language": "python",
   "name": "python3"
  },
  "language_info": {
   "codemirror_mode": {
    "name": "ipython",
    "version": 3
   },
   "file_extension": ".py",
   "mimetype": "text/x-python",
   "name": "python",
   "nbconvert_exporter": "python",
   "pygments_lexer": "ipython3",
   "version": "3.8.10"
  }
 },
 "nbformat": 4,
 "nbformat_minor": 5
}
