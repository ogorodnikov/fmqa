{
 "cells": [
  {
   "cell_type": "code",
   "execution_count": 1,
   "id": "0514521b-6fd8-4f90-a87e-46e64c190eca",
   "metadata": {},
   "outputs": [
    {
     "data": {
      "text/plain": [
       "[StreamExecutorGpuDevice(id=0, process_index=0, slice_index=0),\n",
       " StreamExecutorGpuDevice(id=1, process_index=0, slice_index=0),\n",
       " StreamExecutorGpuDevice(id=2, process_index=0, slice_index=0),\n",
       " StreamExecutorGpuDevice(id=3, process_index=0, slice_index=0),\n",
       " StreamExecutorGpuDevice(id=4, process_index=0, slice_index=0),\n",
       " StreamExecutorGpuDevice(id=5, process_index=0, slice_index=0),\n",
       " StreamExecutorGpuDevice(id=6, process_index=0, slice_index=0),\n",
       " StreamExecutorGpuDevice(id=7, process_index=0, slice_index=0)]"
      ]
     },
     "execution_count": 1,
     "metadata": {},
     "output_type": "execute_result"
    }
   ],
   "source": [
    "import os\n",
    "import time\n",
    "import tqdm\n",
    "import numpy as np\n",
    "import pandas as pd\n",
    "import matplotlib.pyplot as plt\n",
    "\n",
    "plt.style.use('dark_background')\n",
    "\n",
    "import jax\n",
    "import jax.numpy as jnp\n",
    "\n",
    "jax.config.update(\"jax_enable_x64\", True)\n",
    "\n",
    "\n",
    "# Host CPUs\n",
    "\n",
    "# os.environ['XLA_FLAGS'] = '--xla_force_host_platform_device_count=16'\n",
    "\n",
    "# os.environ['XLA_PYTHON_CLIENT_PREALLOCATE'] = 'false'\n",
    "# os.environ['XLA_PYTHON_CLIENT_ALLOCATOR'] = 'platform'\n",
    "\n",
    "# os.environ[\"CUDA_DEVICE_ORDER\"] = \"PCI_BUS_ID\"\n",
    "# os.environ[\"CUDA_VISIBLE_DEVICES\"] = \", \".join(map(str, range(0, 1)))\n",
    "\n",
    "jax.devices()"
   ]
  },
  {
   "cell_type": "code",
   "execution_count": 81,
   "id": "f523be74-8d99-4fb2-a074-138538ad6119",
   "metadata": {},
   "outputs": [
    {
     "data": {
      "image/png": "[encoded data removed]",
      "text/plain": [
       "<Figure size 640x480 with 1 Axes>"
      ]
     },
     "metadata": {},
     "output_type": "display_data"
    }
   ],
   "source": [
    "import dimod\n",
    "\n",
    "import networkx as nx\n",
    "\n",
    "from tabu import TabuSampler\n",
    "\n",
    "from dwave.samplers import SteepestDescentSolver\n",
    "\n",
    "\n",
    "# solver = SteepestDescentSolver()\n",
    "solver = TabuSampler()\n",
    "\n",
    "x, y = dimod.Binaries(['x', 'y'])\n",
    "\n",
    "qubos = [x + y - 2.5 * x * y, \n",
    "         x + y + 2.5 * x * y]\n",
    "\n",
    "graph = dimod.to_networkx_graph(qubos[1])\n",
    "\n",
    "nx.draw_networkx(graph)"
   ]
  },
  {
   "cell_type": "code",
   "execution_count": 90,
   "id": "12e263ba-4dcb-4456-98cf-f7d44e1a2f9b",
   "metadata": {},
   "outputs": [
    {
     "name": "stdout",
     "output_type": "stream",
     "text": [
      "   x  y energy num_oc. num_re.\n",
      "0  0  0    0.0       1       2\n",
      "['BINARY', 1 rows, 1 samples, 2 variables]\n"
     ]
    }
   ],
   "source": [
    "sampleset = solver.sample(qubos[1])\n",
    "\n",
    "print(sampleset)"
   ]
  },
  {
   "cell_type": "code",
   "execution_count": null,
   "id": "9eaa7ee5-e247-4151-adc5-e5e479230d89",
   "metadata": {},
   "outputs": [],
   "source": []
  },
  {
   "cell_type": "code",
   "execution_count": 114,
   "id": "5a56cfbe-2471-45b4-bd93-c0b819e067a4",
   "metadata": {},
   "outputs": [
    {
     "name": "stdout",
     "output_type": "stream",
     "text": [
      "   0  1 energy num_oc. num_re.\n",
      "0  0  0    0.0       1       1\n",
      "['BINARY', 1 rows, 1 samples, 2 variables]\n"
     ]
    }
   ],
   "source": [
    "qubo = {(0, 0): 1,\n",
    "        (0, 1): -2,\n",
    "        (1, 0): -2,\n",
    "        (1, 1): 1}\n",
    "\n",
    "qubo_2 = {(0, 0): 1,\n",
    "          (0, 1): 2,\n",
    "          (1, 0): 2,\n",
    "          (1, 1): 1}\n",
    "\n",
    "sampleset = solver.sample_qubo(Q=qubo_2)\n",
    "\n",
    "print(sampleset)"
   ]
  },
  {
   "cell_type": "code",
   "execution_count": 103,
   "id": "396ef87c-3f7c-431f-8d92-75ffeea8b6fc",
   "metadata": {},
   "outputs": [],
   "source": [
    "def custom_sample(coefficient):\n",
    "    \n",
    "    # x + y - coefficient * x * y\n",
    "    \n",
    "    return coefficient"
   ]
  },
  {
   "cell_type": "code",
   "execution_count": null,
   "id": "ad5635e6-eec9-42cf-8d10-ec55849d13f4",
   "metadata": {},
   "outputs": [],
   "source": []
  },
  {
   "cell_type": "code",
   "execution_count": 104,
   "id": "6956c0d9-8a02-4dcf-a7f0-997bcc39424b",
   "metadata": {},
   "outputs": [],
   "source": [
    "pmapped_sample = jax.pmap(\n",
    "    custom_sample,\n",
    "    # jitted_monte_carlo_mean,\n",
    "    # static_broadcasted_argnums=(6, 7, 8),\n",
    "    # in_axes=(None, None, None, None, None, 0, None, None, None, 0)\n",
    ")"
   ]
  },
  {
   "cell_type": "code",
   "execution_count": 105,
   "id": "4b19f965-1d8b-412e-9499-da029fe1789b",
   "metadata": {},
   "outputs": [
    {
     "name": "stdout",
     "output_type": "stream",
     "text": [
      "[[-2.5  2.5]]\n"
     ]
    }
   ],
   "source": [
    "coefficients = jnp.array([[-2.5, 2.5]])\n",
    "\n",
    "samples = pmapped_sample(coefficients)\n",
    "\n",
    "print(samples)"
   ]
  },
  {
   "cell_type": "code",
   "execution_count": null,
   "id": "f0e9892c-57bd-41a6-a1df-459ffa52ad3b",
   "metadata": {},
   "outputs": [],
   "source": []
  }
 ],
 "metadata": {
  "kernelspec": {
   "display_name": "Python 3 (ipykernel)",
   "language": "python",
   "name": "python3"
  },
  "language_info": {
   "codemirror_mode": {
    "name": "ipython",
    "version": 3
   },
   "file_extension": ".py",
   "mimetype": "text/x-python",
   "name": "python",
   "nbconvert_exporter": "python",
   "pygments_lexer": "ipython3",
   "version": "3.8.13"
  }
 },
 "nbformat": 4,
 "nbformat_minor": 5
}
