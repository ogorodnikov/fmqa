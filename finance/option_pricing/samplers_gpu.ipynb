{
 "cells": [
  {
   "cell_type": "code",
   "execution_count": 1,
   "id": "0514521b-6fd8-4f90-a87e-46e64c190eca",
   "metadata": {},
   "outputs": [
    {
     "data": {
      "text/plain": [
       "[StreamExecutorGpuDevice(id=0, process_index=0, slice_index=0),\n",
       " StreamExecutorGpuDevice(id=1, process_index=0, slice_index=0),\n",
       " StreamExecutorGpuDevice(id=2, process_index=0, slice_index=0),\n",
       " StreamExecutorGpuDevice(id=3, process_index=0, slice_index=0),\n",
       " StreamExecutorGpuDevice(id=4, process_index=0, slice_index=0),\n",
       " StreamExecutorGpuDevice(id=5, process_index=0, slice_index=0),\n",
       " StreamExecutorGpuDevice(id=6, process_index=0, slice_index=0),\n",
       " StreamExecutorGpuDevice(id=7, process_index=0, slice_index=0)]"
      ]
     },
     "execution_count": 1,
     "metadata": {},
     "output_type": "execute_result"
    }
   ],
   "source": [
    "import os\n",
    "import time\n",
    "import tqdm\n",
    "import numpy as np\n",
    "import pandas as pd\n",
    "import matplotlib.pyplot as plt\n",
    "\n",
    "plt.style.use('dark_background')\n",
    "\n",
    "import jax\n",
    "import jax.numpy as jnp\n",
    "\n",
    "jax.config.update(\"jax_enable_x64\", True)\n",
    "\n",
    "\n",
    "# Host CPUs\n",
    "\n",
    "# os.environ['XLA_FLAGS'] = '--xla_force_host_platform_device_count=16'\n",
    "\n",
    "# os.environ['XLA_PYTHON_CLIENT_PREALLOCATE'] = 'false'\n",
    "# os.environ['XLA_PYTHON_CLIENT_ALLOCATOR'] = 'platform'\n",
    "\n",
    "# os.environ[\"CUDA_DEVICE_ORDER\"] = \"PCI_BUS_ID\"\n",
    "# os.environ[\"CUDA_VISIBLE_DEVICES\"] = \", \".join(map(str, range(0, 1)))\n",
    "\n",
    "jax.devices()"
   ]
  },
  {
   "cell_type": "code",
   "execution_count": 234,
   "id": "4c162ee8-87cf-4059-8646-0fac2a1add4e",
   "metadata": {},
   "outputs": [],
   "source": [
    "import dimod\n",
    "\n",
    "import networkx as nx\n",
    "\n",
    "from tabu import TabuSampler\n",
    "\n",
    "from neal.sampler import SimulatedAnnealingSampler\n",
    "\n",
    "from dwave.samplers import SteepestDescentSolver\n",
    "# from dwave.samplers import SimulatedAnnealingSampler\n",
    "\n",
    "\n",
    "# solver = SteepestDescentSolver()\n",
    "# solver = SimulatedAnnealingSampler()\n",
    "solver = TabuSampler()\n",
    "\n",
    "# x, y = dimod.Binaries(['x', 'y'])\n",
    "\n",
    "# qubos = [x + y - 2.5 * x * y, \n",
    "         # x + y + 2.5 * x * y]\n",
    "\n",
    "# graph = dimod.to_networkx_graph(qubos[1])\n",
    "\n",
    "# nx.draw_networkx(graph)"
   ]
  },
  {
   "cell_type": "code",
   "execution_count": 235,
   "id": "5a56cfbe-2471-45b4-bd93-c0b819e067a4",
   "metadata": {},
   "outputs": [
    {
     "name": "stdout",
     "output_type": "stream",
     "text": [
      "   0  1 energy num_oc. num_re.\n",
      "0  0  0    0.0       1       1\n",
      "['BINARY', 1 rows, 1 samples, 2 variables]\n",
      "   0  1 energy num_oc. num_re.\n",
      "0  1  1   -2.0       1       2\n",
      "['BINARY', 1 rows, 1 samples, 2 variables]\n"
     ]
    }
   ],
   "source": [
    "# qubo_0 = {(0, 0): 1,\n",
    "#           (0, 1): 2,\n",
    "#           (1, 0): 2,\n",
    "#           (1, 1): 1}\n",
    "\n",
    "# qubo_1 = {(0, 0): 1,\n",
    "#           (0, 1): -2,\n",
    "#           (1, 0): -2,\n",
    "#           (1, 1): 1}\n",
    "\n",
    "qubo_0 = jnp.array([[1, 2],\n",
    "                    [2, 1]])\n",
    "\n",
    "qubo_1 = jnp.array([[1, -2],\n",
    "                    [-2, 1]])\n",
    "\n",
    "qubos = jnp.array([qubo_0, qubo_1])\n",
    "\n",
    "sampleset = solver.sample_qubo(Q=qubo_0)\n",
    "\n",
    "print(sampleset)\n",
    "\n",
    "sampleset = solver.sample_qubo(Q=qubo_1)\n",
    "\n",
    "print(sampleset)"
   ]
  },
  {
   "cell_type": "code",
   "execution_count": 236,
   "id": "396ef87c-3f7c-431f-8d92-75ffeea8b6fc",
   "metadata": {},
   "outputs": [],
   "source": [
    "def custom_sample(qubo):\n",
    "    \n",
    "    sampleset = solver.sample_qubo(Q=qubo)\n",
    "    \n",
    "    sample = sampleset.first.sample\n",
    "    \n",
    "    # sample = qubo\n",
    "    \n",
    "    return sample"
   ]
  },
  {
   "cell_type": "code",
   "execution_count": null,
   "id": "ad5635e6-eec9-42cf-8d10-ec55849d13f4",
   "metadata": {},
   "outputs": [],
   "source": []
  },
  {
   "cell_type": "code",
   "execution_count": 237,
   "id": "6956c0d9-8a02-4dcf-a7f0-997bcc39424b",
   "metadata": {},
   "outputs": [],
   "source": [
    "pmapped_sample = jax.pmap(\n",
    "    custom_sample,\n",
    "    # jitted_monte_carlo_mean,\n",
    "    # static_broadcasted_argnums=(6, 7, 8),\n",
    "    # in_axes=(None, None, None, None, None, 0, None, None, None, 0)\n",
    ")\n",
    "\n",
    "vmapped_sample = jax.vmap(\n",
    "    custom_sample,\n",
    "    # jitted_monte_carlo_mean,\n",
    "    # static_broadcasted_argnums=(6, 7, 8),\n",
    "    # in_axes=(None, None, None, None, None, 0, None, None, None, 0)\n",
    ")"
   ]
  },
  {
   "cell_type": "code",
   "execution_count": null,
   "id": "2a2a3462-fce0-4378-b020-360c1b3b8817",
   "metadata": {},
   "outputs": [],
   "source": []
  },
  {
   "cell_type": "code",
   "execution_count": 238,
   "id": "bae6ec6b-89e1-4b3a-a189-6553b70a4d36",
   "metadata": {},
   "outputs": [
    {
     "name": "stdout",
     "output_type": "stream",
     "text": [
      "{0: 0, 1: 0}\n",
      "{0: 1, 1: 1}\n"
     ]
    }
   ],
   "source": [
    "for qubo in qubos:\n",
    "    \n",
    "    sample = custom_sample(qubo)\n",
    "    \n",
    "    print(sample)"
   ]
  },
  {
   "cell_type": "code",
   "execution_count": 239,
   "id": "78eb9dd2-9461-407f-9076-933d8e84ac6a",
   "metadata": {},
   "outputs": [
    {
     "ename": "TracerArrayConversionError",
     "evalue": "The numpy.ndarray conversion method __array__() was called on the JAX Tracer object Traced<ShapedArray(int64[2,2])>with<BatchTrace(level=1/0)> with\n  val = Array([[[ 1,  2],\n        [ 2,  1]],\n\n       [[ 1, -2],\n        [-2,  1]]], dtype=int64)\n  batch_dim = 0\nThis BatchTracer with object id 140146658698400 was created on line:\n  /tmp/ipykernel_34880/1496653291.py:1 (<module>)\nSee https://jax.readthedocs.io/en/latest/errors.html#jax.errors.TracerArrayConversionError",
     "output_type": "error",
     "traceback": [
      "\u001b[0;31m---------------------------------------------------------------------------\u001b[0m",
      "\u001b[0;31mTracerArrayConversionError\u001b[0m                Traceback (most recent call last)",
      "Cell \u001b[0;32mIn[239], line 1\u001b[0m\n\u001b[0;32m----> 1\u001b[0m samples \u001b[38;5;241m=\u001b[39m \u001b[43mvmapped_sample\u001b[49m\u001b[43m(\u001b[49m\u001b[43mqubos\u001b[49m\u001b[43m)\u001b[49m\n\u001b[1;32m      3\u001b[0m \u001b[38;5;28mprint\u001b[39m(samples)\n",
      "    \u001b[0;31m[... skipping hidden 3 frame]\u001b[0m\n",
      "Cell \u001b[0;32mIn[236], line 3\u001b[0m, in \u001b[0;36mcustom_sample\u001b[0;34m(qubo)\u001b[0m\n\u001b[1;32m      1\u001b[0m \u001b[38;5;28;01mdef\u001b[39;00m \u001b[38;5;21mcustom_sample\u001b[39m(qubo):\n\u001b[0;32m----> 3\u001b[0m     sampleset \u001b[38;5;241m=\u001b[39m \u001b[43msolver\u001b[49m\u001b[38;5;241;43m.\u001b[39;49m\u001b[43msample_qubo\u001b[49m\u001b[43m(\u001b[49m\u001b[43mQ\u001b[49m\u001b[38;5;241;43m=\u001b[39;49m\u001b[43mqubo\u001b[49m\u001b[43m)\u001b[49m\n\u001b[1;32m      5\u001b[0m     sample \u001b[38;5;241m=\u001b[39m sampleset\u001b[38;5;241m.\u001b[39mfirst\u001b[38;5;241m.\u001b[39msample\n\u001b[1;32m      7\u001b[0m     \u001b[38;5;66;03m# sample = qubo\u001b[39;00m\n",
      "File \u001b[0;32m/opt/conda/lib/python3.8/site-packages/dimod/core/sampler.py:290\u001b[0m, in \u001b[0;36mSampler.sample_qubo\u001b[0;34m(self, Q, **parameters)\u001b[0m\n\u001b[1;32m    268\u001b[0m \u001b[38;5;129m@samplemixinmethod\u001b[39m\n\u001b[1;32m    269\u001b[0m \u001b[38;5;28;01mdef\u001b[39;00m \u001b[38;5;21msample_qubo\u001b[39m(\u001b[38;5;28mself\u001b[39m, Q: typing\u001b[38;5;241m.\u001b[39mMapping[typing\u001b[38;5;241m.\u001b[39mTuple[Variable, Variable], Bias],\n\u001b[1;32m    270\u001b[0m                 \u001b[38;5;241m*\u001b[39m\u001b[38;5;241m*\u001b[39mparameters)  \u001b[38;5;241m-\u001b[39m\u001b[38;5;241m>\u001b[39m SampleSet:\n\u001b[1;32m    271\u001b[0m \u001b[38;5;250m    \u001b[39m\u001b[38;5;124;03m\"\"\"Sample from a QUBO using the implemented sample method.\u001b[39;00m\n\u001b[1;32m    272\u001b[0m \n\u001b[1;32m    273\u001b[0m \u001b[38;5;124;03m    This method is inherited from the :class:`.Sampler` base class.\u001b[39;00m\n\u001b[0;32m   (...)\u001b[0m\n\u001b[1;32m    288\u001b[0m \n\u001b[1;32m    289\u001b[0m \u001b[38;5;124;03m    \"\"\"\u001b[39;00m\n\u001b[0;32m--> 290\u001b[0m     bqm \u001b[38;5;241m=\u001b[39m \u001b[43mBinaryQuadraticModel\u001b[49m\u001b[38;5;241;43m.\u001b[39;49m\u001b[43mfrom_qubo\u001b[49m\u001b[43m(\u001b[49m\u001b[43mQ\u001b[49m\u001b[43m)\u001b[49m\n\u001b[1;32m    291\u001b[0m     \u001b[38;5;28;01mreturn\u001b[39;00m \u001b[38;5;28mself\u001b[39m\u001b[38;5;241m.\u001b[39msample(bqm, \u001b[38;5;241m*\u001b[39m\u001b[38;5;241m*\u001b[39mparameters)\n",
      "File \u001b[0;32m/opt/conda/lib/python3.8/site-packages/dimod/binary/binary_quadratic_model.py:1433\u001b[0m, in \u001b[0;36mBinaryQuadraticModel.from_qubo\u001b[0;34m(cls, Q, offset)\u001b[0m\n\u001b[1;32m   1416\u001b[0m \u001b[38;5;129m@classmethod\u001b[39m\n\u001b[1;32m   1417\u001b[0m \u001b[38;5;28;01mdef\u001b[39;00m \u001b[38;5;21mfrom_qubo\u001b[39m(\u001b[38;5;28mcls\u001b[39m, Q: Mapping, offset: \u001b[38;5;28mfloat\u001b[39m \u001b[38;5;241m=\u001b[39m \u001b[38;5;241m0\u001b[39m):\n\u001b[1;32m   1418\u001b[0m \u001b[38;5;250m    \u001b[39m\u001b[38;5;124;03m\"\"\"Create a binary quadratic model from a QUBO problem.\u001b[39;00m\n\u001b[1;32m   1419\u001b[0m \n\u001b[1;32m   1420\u001b[0m \u001b[38;5;124;03m    Args:\u001b[39;00m\n\u001b[0;32m   (...)\u001b[0m\n\u001b[1;32m   1431\u001b[0m \n\u001b[1;32m   1432\u001b[0m \u001b[38;5;124;03m    \"\"\"\u001b[39;00m\n\u001b[0;32m-> 1433\u001b[0m     \u001b[38;5;28;01mreturn\u001b[39;00m \u001b[38;5;28;43mcls\u001b[39;49m\u001b[43m(\u001b[49m\u001b[43m{\u001b[49m\u001b[43m}\u001b[49m\u001b[43m,\u001b[49m\u001b[43m \u001b[49m\u001b[43mQ\u001b[49m\u001b[43m,\u001b[49m\u001b[43m \u001b[49m\u001b[43moffset\u001b[49m\u001b[43m,\u001b[49m\u001b[43m \u001b[49m\u001b[43mVartype\u001b[49m\u001b[38;5;241;43m.\u001b[39;49m\u001b[43mBINARY\u001b[49m\u001b[43m)\u001b[49m\n",
      "File \u001b[0;32m/opt/conda/lib/python3.8/site-packages/dimod/binary/binary_quadratic_model.py:203\u001b[0m, in \u001b[0;36mBinaryQuadraticModel.__init__\u001b[0;34m(self, offset, vartype, dtype, *args)\u001b[0m\n\u001b[1;32m    197\u001b[0m     \u001b[38;5;28;01mif\u001b[39;00m offset \u001b[38;5;129;01mis\u001b[39;00m \u001b[38;5;129;01mnot\u001b[39;00m \u001b[38;5;28;01mNone\u001b[39;00m:\n\u001b[1;32m    198\u001b[0m         \u001b[38;5;66;03m# we don't strictly need to fail in this case, we could instead\u001b[39;00m\n\u001b[1;32m    199\u001b[0m         \u001b[38;5;66;03m# add it, but I think this is closer to the normal python behavior\u001b[39;00m\n\u001b[1;32m    200\u001b[0m         \u001b[38;5;66;03m# of failing if an argument is provided twice\u001b[39;00m\n\u001b[1;32m    201\u001b[0m         \u001b[38;5;28;01mraise\u001b[39;00m \u001b[38;5;167;01mTypeError\u001b[39;00m(\u001b[38;5;124m\"\u001b[39m\u001b[38;5;124mBinaryQuadraticModel() got multiple values for \u001b[39m\u001b[38;5;124m'\u001b[39m\u001b[38;5;124moffset\u001b[39m\u001b[38;5;124m'\u001b[39m\u001b[38;5;124m\"\u001b[39m)\n\u001b[0;32m--> 203\u001b[0m     \u001b[38;5;28;43mself\u001b[39;49m\u001b[38;5;241;43m.\u001b[39;49m\u001b[43m_init_components\u001b[49m\u001b[43m(\u001b[49m\u001b[38;5;241;43m*\u001b[39;49m\u001b[43margs\u001b[49m\u001b[43m,\u001b[49m\u001b[43m \u001b[49m\u001b[43mdtype\u001b[49m\u001b[38;5;241;43m=\u001b[39;49m\u001b[43mdtype\u001b[49m\u001b[43m)\u001b[49m\n\u001b[1;32m    204\u001b[0m \u001b[38;5;28;01melse\u001b[39;00m:\n\u001b[1;32m    205\u001b[0m     msg \u001b[38;5;241m=\u001b[39m \u001b[38;5;124m\"\u001b[39m\u001b[38;5;124m__init__() takes 4 positional arguments but \u001b[39m\u001b[38;5;132;01m{}\u001b[39;00m\u001b[38;5;124m were given.\u001b[39m\u001b[38;5;124m\"\u001b[39m\n",
      "File \u001b[0;32m/opt/conda/lib/python3.8/site-packages/dimod/binary/binary_quadratic_model.py:248\u001b[0m, in \u001b[0;36mBinaryQuadraticModel._init_components\u001b[0;34m(self, linear, quadratic, offset, vartype, dtype)\u001b[0m\n\u001b[1;32m    245\u001b[0m \u001b[38;5;28;01melse\u001b[39;00m:\n\u001b[1;32m    246\u001b[0m     dt \u001b[38;5;241m=\u001b[39m \u001b[38;5;28;01mNone\u001b[39;00m\n\u001b[0;32m--> 248\u001b[0m quadratic \u001b[38;5;241m=\u001b[39m \u001b[43mnp\u001b[49m\u001b[38;5;241;43m.\u001b[39;49m\u001b[43masarray\u001b[49m\u001b[43m(\u001b[49m\u001b[43mquadratic\u001b[49m\u001b[43m,\u001b[49m\u001b[43m \u001b[49m\u001b[43morder\u001b[49m\u001b[38;5;241;43m=\u001b[39;49m\u001b[38;5;124;43m'\u001b[39;49m\u001b[38;5;124;43mC\u001b[39;49m\u001b[38;5;124;43m'\u001b[39;49m\u001b[43m,\u001b[49m\u001b[43m \u001b[49m\u001b[43mdtype\u001b[49m\u001b[38;5;241;43m=\u001b[39;49m\u001b[43mdt\u001b[49m\u001b[43m)\u001b[49m\n\u001b[1;32m    249\u001b[0m diag \u001b[38;5;241m=\u001b[39m np\u001b[38;5;241m.\u001b[39mdiagonal(quadratic)\n\u001b[1;32m    250\u001b[0m \u001b[38;5;28;01mif\u001b[39;00m diag\u001b[38;5;241m.\u001b[39many():\n",
      "File \u001b[0;32m/opt/conda/lib/python3.8/site-packages/jax/_src/core.py:557\u001b[0m, in \u001b[0;36mTracer.__array__\u001b[0;34m(self, *args, **kw)\u001b[0m\n\u001b[1;32m    556\u001b[0m \u001b[38;5;28;01mdef\u001b[39;00m \u001b[38;5;21m__array__\u001b[39m(\u001b[38;5;28mself\u001b[39m, \u001b[38;5;241m*\u001b[39margs, \u001b[38;5;241m*\u001b[39m\u001b[38;5;241m*\u001b[39mkw):\n\u001b[0;32m--> 557\u001b[0m   \u001b[38;5;28;01mraise\u001b[39;00m TracerArrayConversionError(\u001b[38;5;28mself\u001b[39m)\n",
      "\u001b[0;31mTracerArrayConversionError\u001b[0m: The numpy.ndarray conversion method __array__() was called on the JAX Tracer object Traced<ShapedArray(int64[2,2])>with<BatchTrace(level=1/0)> with\n  val = Array([[[ 1,  2],\n        [ 2,  1]],\n\n       [[ 1, -2],\n        [-2,  1]]], dtype=int64)\n  batch_dim = 0\nThis BatchTracer with object id 140146658698400 was created on line:\n  /tmp/ipykernel_34880/1496653291.py:1 (<module>)\nSee https://jax.readthedocs.io/en/latest/errors.html#jax.errors.TracerArrayConversionError"
     ]
    }
   ],
   "source": [
    "samples = vmapped_sample(qubos)\n",
    "\n",
    "print(samples)"
   ]
  },
  {
   "cell_type": "code",
   "execution_count": null,
   "id": "4af7ae7a-de85-40e9-af97-dd832b907161",
   "metadata": {},
   "outputs": [],
   "source": []
  },
  {
   "cell_type": "code",
   "execution_count": null,
   "id": "754036f3-399d-4e52-b24b-5bcb3a33b266",
   "metadata": {},
   "outputs": [],
   "source": []
  }
 ],
 "metadata": {
  "kernelspec": {
   "display_name": "Python 3 (ipykernel)",
   "language": "python",
   "name": "python3"
  },
  "language_info": {
   "codemirror_mode": {
    "name": "ipython",
    "version": 3
   },
   "file_extension": ".py",
   "mimetype": "text/x-python",
   "name": "python",
   "nbconvert_exporter": "python",
   "pygments_lexer": "ipython3",
   "version": "3.8.13"
  }
 },
 "nbformat": 4,
 "nbformat_minor": 5
}
