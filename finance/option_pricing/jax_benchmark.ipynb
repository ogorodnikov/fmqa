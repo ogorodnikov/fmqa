{
 "cells": [
  {
   "cell_type": "code",
   "execution_count": 1,
   "id": "15071693-9317-43d3-a645-77b80bdc40b2",
   "metadata": {},
   "outputs": [],
   "source": [
    "import time\n",
    "import tqdm\n",
    "import numpy as np\n",
    "import pandas as pd\n",
    "import matplotlib.pyplot as plt\n",
    "\n",
    "plt.style.use('dark_background')"
   ]
  },
  {
   "cell_type": "code",
   "execution_count": 2,
   "id": "ab046044-efa3-4199-9e92-22ccde4f6b0a",
   "metadata": {
    "jupyter": {
     "source_hidden": true
    },
    "tags": []
   },
   "outputs": [],
   "source": [
    "def classical_monte_carlo(initial_stock_price, strike_price, time_to_maturity, \n",
    "                          risk_free_interest_rate, dividend_rate, \n",
    "                          volatility, option_type, time_steps_count, samples_count):\n",
    "    \n",
    "    rate_difference = risk_free_interest_rate - dividend_rate\n",
    "    \n",
    "    # Stock prices\n",
    "    \n",
    "    time_step = time_to_maturity/time_steps_count\n",
    "    \n",
    "    weights = np.random.standard_normal(size=(samples_count, time_steps_count))\n",
    "    \n",
    "    samples = weights.sum(axis=1) * np.sqrt(time_step)  \n",
    "\n",
    "    stock_prices = initial_stock_price * np.exp((rate_difference - 0.5 * volatility ** 2) * time_to_maturity \n",
    "                                                + volatility * samples)\n",
    "    \n",
    "    # Option prices\n",
    "    \n",
    "    price_differences = stock_prices - strike_price   \n",
    "    \n",
    "    if option_type == 'Put':\n",
    "        price_differences = -price_differences\n",
    "    \n",
    "    # price_differences[price_differences < 0] = 0\n",
    "    \n",
    "    price_differences = np.clip(price_differences, a_min=0, a_max=None)\n",
    "    \n",
    "    option_prices = price_differences * np.exp(-risk_free_interest_rate * time_to_maturity)\n",
    "         \n",
    "    return option_prices\n",
    "\n",
    "\n",
    "def plot_asset_prices(initial_asset_prices, volatilities, asset_prices_meshgrid,\n",
    "                       elevation=10, initial_azimuth=230):\n",
    "\n",
    "    initial_asset_prices_grid, volatilities_grid = np.meshgrid(initial_asset_prices, volatilities)\n",
    "\n",
    "    fig, ax = plt.subplots(figsize=(5, 5),\n",
    "                           subplot_kw={\"projection\": \"3d\"})\n",
    "\n",
    "    surface = ax.plot_surface(initial_asset_prices_grid,\n",
    "                              volatilities_grid,\n",
    "                              asset_prices_meshgrid.T,\n",
    "                              cmap='plasma',\n",
    "                              linewidth=30, \n",
    "                              antialiased=False)\n",
    "\n",
    "    ax.view_init(elev=elevation, azim=initial_azimuth)\n",
    "\n",
    "    ax.zaxis.set_rotate_label(False)\n",
    "    \n",
    "    ax.set_xlabel('Initial Asset Price')\n",
    "    ax.set_ylabel('Volatility')\n",
    "    ax.set_zlabel('Asset Price', rotation=90)\n",
    "    \n",
    "    plt.show()\n",
    "\n",
    "    \n",
    "def jax_monte_carlo(initial_stock_price, strike_price, time_to_maturity, \n",
    "                    risk_free_interest_rate, dividend_rate, \n",
    "                    volatility, option_type, time_steps_count, samples_count,\n",
    "                    randomization_key):\n",
    "    \n",
    "    rate_difference = risk_free_interest_rate - dividend_rate\n",
    "    \n",
    "    # Stock prices\n",
    "    \n",
    "    time_step = time_to_maturity/time_steps_count\n",
    "    \n",
    "    weights = jax.random.normal(key=randomization_key, \n",
    "                                shape=(samples_count, time_steps_count))\n",
    "    \n",
    "    # weights = jnp.zeros((samples_count, time_steps_count))\n",
    "    \n",
    "    samples = weights.sum(axis=1) * jnp.sqrt(time_step)  \n",
    "\n",
    "    stock_prices = initial_stock_price * jnp.exp((rate_difference - 0.5 * volatility ** 2) * time_to_maturity \n",
    "                                                 + volatility * samples)\n",
    "    \n",
    "    # Option prices\n",
    "    \n",
    "    price_differences = stock_prices - strike_price   \n",
    "    \n",
    "    if option_type == 'Put':\n",
    "        price_differences = -price_differences\n",
    "    \n",
    "    price_differences = jnp.clip(price_differences, a_min=0)\n",
    "    \n",
    "    option_prices = price_differences * jnp.exp(-risk_free_interest_rate * time_to_maturity)\n",
    "         \n",
    "    return option_prices\n",
    "\n",
    "\n",
    "# def meanify(function):\n",
    "    \n",
    "#     def function_mean(*args, **kwargs):\n",
    "        \n",
    "#         function_result = function(*args, **kwargs)\n",
    "        \n",
    "#         mean_result = function_result.mean()\n",
    "        \n",
    "#         return mean_result\n",
    "    \n",
    "#     return function_mean\n",
    "    \n",
    "\n",
    "def jax_monte_carlo_mean(initial_stock_price, strike_price, time_to_maturity, \n",
    "                         risk_free_interest_rate, dividend_rate, \n",
    "                         volatility, option_type, time_steps_count, samples_count,\n",
    "                         randomization_key):\n",
    "    \n",
    "    samples = jax_monte_carlo(initial_stock_price, strike_price, time_to_maturity, \n",
    "                              risk_free_interest_rate, dividend_rate, \n",
    "                              volatility, option_type, time_steps_count, samples_count,\n",
    "                              randomization_key)\n",
    "    \n",
    "    result = samples.mean()\n",
    "    \n",
    "    return result\n",
    "\n",
    "\n",
    "def classical_monte_carlo_mean(initial_stock_price, strike_price, time_to_maturity, \n",
    "                               risk_free_interest_rate, dividend_rate, \n",
    "                               volatility, option_type, time_steps_count, samples_count):\n",
    "    \n",
    "    samples = classical_monte_carlo(initial_stock_price, strike_price, time_to_maturity, \n",
    "                                    risk_free_interest_rate, dividend_rate, \n",
    "                                    volatility, option_type, time_steps_count, samples_count)\n",
    "    \n",
    "    result = samples.mean()\n",
    "    \n",
    "    return result"
   ]
  },
  {
   "cell_type": "code",
   "execution_count": 3,
   "id": "a86cb7eb-3227-4827-b4fd-06d0f6adefab",
   "metadata": {
    "jupyter": {
     "source_hidden": true
    },
    "tags": []
   },
   "outputs": [],
   "source": [
    "# Fixed Parameters\n",
    "\n",
    "T = time_to_maturity = 1\n",
    "\n",
    "q = dividend_rate = 0.05\n",
    "r = risk_free_interest_rate = 0.02\n",
    "\n",
    "time_steps_count = 300\n",
    "\n",
    "strike_price = 1000\n",
    "\n",
    "samples_count = 100\n",
    "\n",
    "CallPut = option_type = 'Call'"
   ]
  },
  {
   "cell_type": "markdown",
   "id": "d8ccd1df-c22a-4c8d-bd0b-ea782d598b0a",
   "metadata": {},
   "source": [
    "### Jax"
   ]
  },
  {
   "cell_type": "code",
   "execution_count": 4,
   "id": "fb5111c3-f7c2-4003-a5a7-e245175f5a02",
   "metadata": {},
   "outputs": [],
   "source": [
    "# !pip install --upgrade \"jax[cuda]\" -f https://storage.googleapis.com/jax-releases/jax_cuda_releases.html"
   ]
  },
  {
   "cell_type": "code",
   "execution_count": 5,
   "id": "1335afe2-ba45-45bf-9c05-be33e122a399",
   "metadata": {},
   "outputs": [
    {
     "data": {
      "text/plain": [
       "[StreamExecutorGpuDevice(id=0, process_index=0, slice_index=0),\n",
       " StreamExecutorGpuDevice(id=1, process_index=0, slice_index=0),\n",
       " StreamExecutorGpuDevice(id=2, process_index=0, slice_index=0),\n",
       " StreamExecutorGpuDevice(id=3, process_index=0, slice_index=0),\n",
       " StreamExecutorGpuDevice(id=4, process_index=0, slice_index=0),\n",
       " StreamExecutorGpuDevice(id=5, process_index=0, slice_index=0),\n",
       " StreamExecutorGpuDevice(id=6, process_index=0, slice_index=0),\n",
       " StreamExecutorGpuDevice(id=7, process_index=0, slice_index=0),\n",
       " StreamExecutorGpuDevice(id=8, process_index=0, slice_index=0),\n",
       " StreamExecutorGpuDevice(id=9, process_index=0, slice_index=0),\n",
       " StreamExecutorGpuDevice(id=10, process_index=0, slice_index=0),\n",
       " StreamExecutorGpuDevice(id=11, process_index=0, slice_index=0),\n",
       " StreamExecutorGpuDevice(id=12, process_index=0, slice_index=0),\n",
       " StreamExecutorGpuDevice(id=13, process_index=0, slice_index=0),\n",
       " StreamExecutorGpuDevice(id=14, process_index=0, slice_index=0),\n",
       " StreamExecutorGpuDevice(id=15, process_index=0, slice_index=0)]"
      ]
     },
     "execution_count": 5,
     "metadata": {},
     "output_type": "execute_result"
    }
   ],
   "source": [
    "import os\n",
    "import time\n",
    "import numpy as np\n",
    "\n",
    "# JAX\n",
    "\n",
    "import jax\n",
    "import jax.numpy as jnp\n",
    "\n",
    "from jax.config import config\n",
    "\n",
    "config.update(\"jax_enable_x64\", True)\n",
    "\n",
    "\n",
    "# Host CPUs\n",
    "\n",
    "# os.environ['XLA_FLAGS'] = '--xla_force_host_platform_device_count=16'\n",
    "\n",
    "# os.environ['XLA_PYTHON_CLIENT_PREALLOCATE'] = 'false'\n",
    "os.environ['XLA_PYTHON_CLIENT_ALLOCATOR'] = 'platform'\n",
    "\n",
    "# os.environ[\"CUDA_DEVICE_ORDER\"] = \"PCI_BUS_ID\"\n",
    "# os.environ[\"CUDA_VISIBLE_DEVICES\"] = \", \".join(map(str, range(1, 3)))\n",
    "\n",
    "jax.devices()"
   ]
  },
  {
   "cell_type": "code",
   "execution_count": 6,
   "id": "3de9ecae-de13-4fda-a202-763afd7dd994",
   "metadata": {},
   "outputs": [],
   "source": [
    "jitted_monte_carlo = jax.jit(jax_monte_carlo, \n",
    "                             static_argnames=('samples_count' , \n",
    "                                              'time_steps_count',\n",
    "                                              'option_type'))\n",
    "\n",
    "jitted_monte_carlo_mean = jax.jit(jax_monte_carlo_mean, \n",
    "                                  static_argnames=('samples_count' , \n",
    "                                                   'time_steps_count',\n",
    "                                                   'option_type'))"
   ]
  },
  {
   "cell_type": "code",
   "execution_count": 7,
   "id": "ce01b415-f17d-4181-945d-f5ec2773fbc2",
   "metadata": {},
   "outputs": [],
   "source": [
    "samples_count = 10000\n",
    "\n",
    "STOCK_PRICE_STEPS = 16\n",
    "VOLATILITY_STEPS = 16\n",
    "\n",
    "initial_stock_prices = np.linspace(0, 10000, STOCK_PRICE_STEPS)\n",
    "\n",
    "volatilities = np.linspace(0, 1.0, VOLATILITY_STEPS)\n",
    "\n",
    "initial_stock_prices_count = len(initial_stock_prices)\n",
    "volatilities_count = len(volatilities)\n",
    "\n",
    "\n",
    "# Randomization Keys\n",
    "\n",
    "random_seed = np.random.randint(1000)\n",
    "\n",
    "initial_randomization_key = jax.random.PRNGKey(seed=random_seed)\n",
    "\n",
    "keys_count = volatilities_count * initial_stock_prices_count\n",
    "\n",
    "randomization_keys_vector = jax.random.split(initial_randomization_key, keys_count)\n",
    "\n",
    "randomization_keys = randomization_keys_vector.reshape(volatilities_count, \n",
    "                                                       initial_stock_prices_count, 2)"
   ]
  },
  {
   "cell_type": "markdown",
   "id": "74e7cd79-5a51-48e1-87b4-1784cb417972",
   "metadata": {
    "jp-MarkdownHeadingCollapsed": true,
    "tags": []
   },
   "source": [
    "#### 5.1) VMap and VMap"
   ]
  },
  {
   "cell_type": "code",
   "execution_count": 11,
   "id": "d5c07f40-9998-4716-90e4-b4664c9a7817",
   "metadata": {},
   "outputs": [
    {
     "name": "stdout",
     "output_type": "stream",
     "text": [
      "evaluated_second_vmapped_result.shape: (16, 16)\n",
      "duration: 0.23 s.\n"
     ]
    }
   ],
   "source": [
    "start_time = time.time()\n",
    "\n",
    "vmapped_monte_carlo = jax.vmap(\n",
    "    jax_monte_carlo_mean,\n",
    "    # jitted_monte_carlo_mean,\n",
    "    in_axes=(0, None, None, None, None, None, None, None, None, 0)\n",
    ")\n",
    "\n",
    "second_vmapped_monte_carlo = jax.vmap(\n",
    "    vmapped_monte_carlo,\n",
    "    in_axes=(None, None, None, None, None, 0, None, None, None, 0)\n",
    ")\n",
    "\n",
    "second_vmapped_result = second_vmapped_monte_carlo(\n",
    "    \n",
    "    initial_stock_prices, \n",
    "    strike_price,\n",
    "    time_to_maturity, \n",
    "    risk_free_interest_rate,\n",
    "    dividend_rate, \n",
    "    volatilities, \n",
    "    option_type, \n",
    "    time_steps_count,\n",
    "    samples_count,\n",
    "    randomization_keys\n",
    "    \n",
    ")\n",
    "\n",
    "evaluated_second_vmapped_result = second_vmapped_result * 1\n",
    "\n",
    "end_time = time.time()\n",
    "\n",
    "duration = end_time - start_time\n",
    "\n",
    "print(\"evaluated_second_vmapped_result.shape:\", evaluated_second_vmapped_result.shape)\n",
    "\n",
    "print(f\"duration: {duration:.02f} s.\")"
   ]
  },
  {
   "cell_type": "code",
   "execution_count": 12,
   "id": "756977b2-e6f7-4a29-bdcf-dea906380326",
   "metadata": {},
   "outputs": [],
   "source": [
    "# plot_asset_prices(initial_stock_prices, volatilities, evaluated_second_vmapped_result.T)"
   ]
  },
  {
   "cell_type": "markdown",
   "id": "ed3b4d9d-cba9-4f32-a394-412fc494c2a1",
   "metadata": {
    "jp-MarkdownHeadingCollapsed": true,
    "tags": []
   },
   "source": [
    "#### 5.2) PMap and VMap"
   ]
  },
  {
   "cell_type": "code",
   "execution_count": 13,
   "id": "78c26183-aad9-4979-9efd-b2076956664f",
   "metadata": {},
   "outputs": [
    {
     "name": "stdout",
     "output_type": "stream",
     "text": [
      "evaluated_pmapped_result: (16, 16)\n",
      "duration: 3.41 s.\n"
     ]
    }
   ],
   "source": [
    "start_time = time.time()\n",
    "\n",
    "vmapped_monte_carlo = jax.vmap(\n",
    "    jax_monte_carlo_mean,\n",
    "    # jitted_monte_carlo_mean,\n",
    "    in_axes=(0, None, None, None, None, None, None, None, None, 0)\n",
    ")\n",
    "\n",
    "pmapped_monte_carlo = jax.pmap(\n",
    "    vmapped_monte_carlo,\n",
    "    static_broadcasted_argnums=(6, 7, 8),\n",
    "    in_axes=(None, None, None, None, None, 0, None, None, None, 0)\n",
    ")\n",
    "\n",
    "pmapped_result = pmapped_monte_carlo(\n",
    "    \n",
    "    initial_stock_prices, \n",
    "    strike_price,\n",
    "    time_to_maturity, \n",
    "    risk_free_interest_rate,\n",
    "    dividend_rate, \n",
    "    volatilities, \n",
    "    option_type, \n",
    "    time_steps_count,\n",
    "    samples_count,\n",
    "    randomization_keys\n",
    "    \n",
    ")\n",
    "\n",
    "evaluated_pmapped_result = pmapped_result * 1\n",
    "\n",
    "end_time = time.time()\n",
    "\n",
    "duration = end_time - start_time\n",
    "\n",
    "print(\"evaluated_pmapped_result:\", evaluated_pmapped_result.shape)\n",
    "\n",
    "print(f\"duration: {duration:.02f} s.\")"
   ]
  },
  {
   "cell_type": "code",
   "execution_count": 15,
   "id": "e3379881-e0a5-488d-9174-855349019e30",
   "metadata": {},
   "outputs": [],
   "source": [
    "# plot_asset_prices(initial_stock_prices, volatilities, evaluated_pmapped_result.T)"
   ]
  },
  {
   "cell_type": "markdown",
   "id": "4540b906-d57a-4aac-85a6-d46d76d75cb0",
   "metadata": {
    "jp-MarkdownHeadingCollapsed": true,
    "tags": []
   },
   "source": [
    "#### 5.3) Classical Monte Carlo Loop"
   ]
  },
  {
   "cell_type": "code",
   "execution_count": 16,
   "id": "f0e7a00d-6da8-4036-a8de-8597e62066c6",
   "metadata": {},
   "outputs": [
    {
     "name": "stdout",
     "output_type": "stream",
     "text": [
      "classical_results: (16, 16)\n",
      "duration: 17.14 s.\n"
     ]
    }
   ],
   "source": [
    "start_time = time.time()\n",
    "\n",
    "classical_results = np.zeros(shape=(len(initial_stock_prices),\n",
    "                                    len(volatilities)))\n",
    "\n",
    "for volatility_index, volatility in enumerate(volatilities):\n",
    "    \n",
    "    # print(\"volatility:\", volatility)\n",
    "    \n",
    "    for initial_stock_price_index, initial_stock_price in enumerate(initial_stock_prices):\n",
    "        \n",
    "        # print(\"  initial_stock_price:\", initial_stock_price)\n",
    "        \n",
    "        # continue\n",
    "\n",
    "        classical_result = classical_monte_carlo_mean(\n",
    "\n",
    "            initial_stock_price, \n",
    "            strike_price,\n",
    "            time_to_maturity, \n",
    "            risk_free_interest_rate,\n",
    "            dividend_rate, \n",
    "            volatility, \n",
    "            option_type, \n",
    "            time_steps_count,\n",
    "            samples_count\n",
    "\n",
    "        )\n",
    "        \n",
    "        classical_results[initial_stock_price_index, volatility_index] = classical_result\n",
    "        \n",
    "    elapsed_time = time.time() - start_time\n",
    "\n",
    "    # print(f\"elapsed_time: {elapsed_time:.02f} s.\")\n",
    "        \n",
    "\n",
    "end_time = time.time()\n",
    "\n",
    "duration = end_time - start_time\n",
    "\n",
    "print(\"classical_results:\", classical_results.shape)\n",
    "\n",
    "print(f\"duration: {duration:.02f} s.\")"
   ]
  },
  {
   "cell_type": "code",
   "execution_count": 18,
   "id": "cf19aab9-d7ad-45ce-a88b-708ae4a8e368",
   "metadata": {},
   "outputs": [],
   "source": [
    "# plot_asset_prices(initial_stock_prices, volatilities, classical_results)"
   ]
  },
  {
   "cell_type": "code",
   "execution_count": null,
   "id": "45dc7405-1f19-455b-a439-98ac0e164285",
   "metadata": {},
   "outputs": [],
   "source": []
  },
  {
   "cell_type": "markdown",
   "id": "40fcd198-5f78-4512-98ec-4de6e4123988",
   "metadata": {},
   "source": [
    "#### 5.4) PMap Loop"
   ]
  },
  {
   "cell_type": "code",
   "execution_count": 46,
   "id": "cdca07a8-b6fe-48cc-a3a2-ac23fbce2ada",
   "metadata": {},
   "outputs": [],
   "source": [
    "# Parameters\n",
    "\n",
    "samples_count = 1000\n",
    "\n",
    "STOCK_PRICE_STEPS = 10\n",
    "VOLATILITY_STEPS = 16\n",
    "\n",
    "GRID_STEP = 1\n",
    "\n",
    "initial_stock_prices = np.linspace(0, 10000, STOCK_PRICE_STEPS)\n",
    "volatilities = np.linspace(0, 1.0, VOLATILITY_STEPS)\n",
    "\n",
    "initial_stock_prices = initial_stock_prices[::GRID_STEP]\n",
    "volatilities = volatilities[::GRID_STEP]\n",
    "\n",
    "initial_stock_prices_count = len(initial_stock_prices)\n",
    "volatilities_count = len(volatilities)\n",
    "\n",
    "option_prices_meshgrid = np.zeros(shape=(initial_stock_prices_count,\n",
    "                                         volatilities_count))\n",
    "\n",
    "# Randomization Keys\n",
    "\n",
    "random_seed = np.random.randint(1000)\n",
    "\n",
    "initial_randomization_key = jax.random.PRNGKey(seed=random_seed)\n",
    "\n",
    "keys_count = volatilities_count * initial_stock_prices_count\n",
    "\n",
    "randomization_keys_vector = jax.random.split(initial_randomization_key, keys_count)\n",
    "\n",
    "randomization_keys = randomization_keys_vector.reshape(volatilities_count, \n",
    "                                                       initial_stock_prices_count, 2)"
   ]
  },
  {
   "cell_type": "code",
   "execution_count": 48,
   "id": "97cd07fc-6078-4180-b4ec-0dfaa297feaf",
   "metadata": {},
   "outputs": [
    {
     "name": "stderr",
     "output_type": "stream",
     "text": [
      "Simulating: 100%|█████████████████████████████████████████████████████| 10/10 [00:02<00:00,  4.10simulation/s]"
     ]
    },
    {
     "name": "stdout",
     "output_type": "stream",
     "text": [
      "evaluated_pmapped_result: (16, 16)\n",
      "duration: 1618.85 s.\n"
     ]
    },
    {
     "name": "stderr",
     "output_type": "stream",
     "text": [
      "\n"
     ]
    }
   ],
   "source": [
    "simulation_tracker = tqdm.tqdm(\n",
    "    initial_stock_prices,\n",
    "    desc=f\"Simulating\",\n",
    "    ncols=110,\n",
    "    unit='simulation',\n",
    "    mininterval=1    \n",
    ")\n",
    "\n",
    "pmapped_volatilities_mc = jax.pmap(\n",
    "    jax_monte_carlo_mean,\n",
    "    # jitted_monte_carlo_mean,\n",
    "    static_broadcasted_argnums=(6, 7, 8),\n",
    "    in_axes=(None, None, None, None, None, 0, None, None, None, 0)\n",
    ")\n",
    "\n",
    "for initial_stock_price_index, initial_stock_price in enumerate(simulation_tracker):\n",
    "    \n",
    "    randomization_keys_row = randomization_keys[:, initial_stock_price_index]\n",
    "\n",
    "    option_price = pmapped_volatilities_mc(\n",
    "        \n",
    "        initial_stock_price, \n",
    "        strike_price,\n",
    "        time_to_maturity, \n",
    "        risk_free_interest_rate,\n",
    "        dividend_rate, \n",
    "        volatilities, \n",
    "        option_type, \n",
    "        time_steps_count,\n",
    "        samples_count,\n",
    "        randomization_keys_row\n",
    "        \n",
    "    )\n",
    "    \n",
    "    # print(option_price)\n",
    "\n",
    "    option_prices_meshgrid[initial_stock_price_index] = option_price\n",
    "        \n",
    "\n",
    "# evaluated_pmapped_result = pmapped_result * 1\n",
    "\n",
    "end_time = time.time()\n",
    "\n",
    "duration = end_time - start_time\n",
    "\n",
    "print(\"evaluated_pmapped_result:\", evaluated_pmapped_result.shape)\n",
    "\n",
    "print(f\"duration: {duration:.02f} s.\")"
   ]
  },
  {
   "cell_type": "code",
   "execution_count": 49,
   "id": "e6d7ac0b-bb40-42e4-b565-73e753851cd0",
   "metadata": {},
   "outputs": [
    {
     "data": {
      "image/png": "[encoded data removed]",
      "text/plain": [
       "<Figure size 500x500 with 1 Axes>"
      ]
     },
     "metadata": {},
     "output_type": "display_data"
    }
   ],
   "source": [
    "plot_asset_prices(initial_stock_prices, volatilities, option_prices_meshgrid)"
   ]
  },
  {
   "cell_type": "code",
   "execution_count": null,
   "id": "4f68b11c-0052-4ac8-ba33-db24685dd961",
   "metadata": {},
   "outputs": [],
   "source": []
  }
 ],
 "metadata": {
  "kernelspec": {
   "display_name": "Python 3 (ipykernel)",
   "language": "python",
   "name": "python3"
  },
  "language_info": {
   "codemirror_mode": {
    "name": "ipython",
    "version": 3
   },
   "file_extension": ".py",
   "mimetype": "text/x-python",
   "name": "python",
   "nbconvert_exporter": "python",
   "pygments_lexer": "ipython3",
   "version": "3.8.13"
  }
 },
 "nbformat": 4,
 "nbformat_minor": 5
}
