{
 "cells": [
  {
   "cell_type": "markdown",
   "id": "1436e87d-9be7-433e-9432-e33668a63d9d",
   "metadata": {},
   "source": [
    "### 1) Initialization"
   ]
  },
  {
   "cell_type": "code",
   "execution_count": 22,
   "id": "15071693-9317-43d3-a645-77b80bdc40b2",
   "metadata": {},
   "outputs": [],
   "source": [
    "import time\n",
    "import tqdm\n",
    "import numpy as np\n",
    "import pandas as pd\n",
    "import matplotlib.pyplot as plt\n",
    "\n",
    "plt.style.use('dark_background')"
   ]
  },
  {
   "cell_type": "code",
   "execution_count": 23,
   "id": "ab046044-efa3-4199-9e92-22ccde4f6b0a",
   "metadata": {
    "tags": []
   },
   "outputs": [],
   "source": [
    "def classical_monte_carlo(initial_stock_price, strike_price, time_to_maturity, \n",
    "                          risk_free_interest_rate, dividend_rate, \n",
    "                          volatility, option_type, time_steps_count, samples_count):\n",
    "    \n",
    "    rate_difference = risk_free_interest_rate - dividend_rate\n",
    "    \n",
    "    # Stock prices\n",
    "    \n",
    "    time_step = time_to_maturity/time_steps_count\n",
    "    \n",
    "    weights = np.random.standard_normal(size=(samples_count, time_steps_count))\n",
    "    \n",
    "    samples = weights.sum(axis=1) * np.sqrt(time_step)  \n",
    "\n",
    "    stock_prices = initial_stock_price * np.exp((rate_difference - 0.5 * volatility ** 2) * time_to_maturity \n",
    "                                                + volatility * samples)\n",
    "    \n",
    "    # Option prices\n",
    "    \n",
    "    price_differences = stock_prices - strike_price   \n",
    "    \n",
    "    if option_type == 'Put':\n",
    "        price_differences = -price_differences\n",
    "    \n",
    "    # price_differences[price_differences < 0] = 0\n",
    "    \n",
    "    price_differences = np.clip(price_differences, a_min=0, a_max=None)\n",
    "    \n",
    "    option_prices = price_differences * np.exp(-risk_free_interest_rate * time_to_maturity)\n",
    "         \n",
    "    return option_prices\n",
    "\n",
    "\n",
    "def plot_asset_prices(initial_asset_prices, volatilities, asset_prices_meshgrid,\n",
    "                       elevation=10, initial_azimuth=230):\n",
    "\n",
    "    initial_asset_prices_grid, volatilities_grid = np.meshgrid(initial_asset_prices, volatilities)\n",
    "\n",
    "    fig, ax = plt.subplots(figsize=(5, 5),\n",
    "                           subplot_kw={\"projection\": \"3d\"})\n",
    "\n",
    "    surface = ax.plot_surface(initial_asset_prices_grid,\n",
    "                              volatilities_grid,\n",
    "                              asset_prices_meshgrid.T,\n",
    "                              cmap='plasma',\n",
    "                              linewidth=30, \n",
    "                              antialiased=False)\n",
    "\n",
    "    ax.view_init(elev=elevation, azim=initial_azimuth)\n",
    "\n",
    "    ax.zaxis.set_rotate_label(False)\n",
    "    \n",
    "    ax.set_xlabel('Initial Asset Price')\n",
    "    ax.set_ylabel('Volatility')\n",
    "    ax.set_zlabel('Asset Price', rotation=90)\n",
    "    \n",
    "    plt.show()\n",
    "\n",
    "    \n",
    "def jax_monte_carlo(initial_stock_price, strike_price, time_to_maturity, \n",
    "                    risk_free_interest_rate, dividend_rate, \n",
    "                    volatility, option_type, time_steps_count, samples_count,\n",
    "                    randomization_key):\n",
    "    \n",
    "    rate_difference = risk_free_interest_rate - dividend_rate\n",
    "    \n",
    "    # Stock prices\n",
    "    \n",
    "    time_step = time_to_maturity/time_steps_count\n",
    "    \n",
    "    weights = jax.random.normal(key=randomization_key, \n",
    "                                shape=(samples_count, time_steps_count))\n",
    "    \n",
    "    # weights = jnp.zeros((samples_count, time_steps_count))\n",
    "    \n",
    "    samples = weights.sum(axis=1) * jnp.sqrt(time_step)  \n",
    "\n",
    "    stock_prices = initial_stock_price * jnp.exp((rate_difference - 0.5 * volatility ** 2) * time_to_maturity \n",
    "                                                 + volatility * samples)\n",
    "    \n",
    "    # Option prices\n",
    "    \n",
    "    price_differences = stock_prices - strike_price   \n",
    "    \n",
    "    if option_type == 'Put':\n",
    "        price_differences = -price_differences\n",
    "    \n",
    "    price_differences = jnp.clip(price_differences, a_min=0)\n",
    "    \n",
    "    option_prices = price_differences * jnp.exp(-risk_free_interest_rate * time_to_maturity)\n",
    "         \n",
    "    return option_prices\n",
    "\n",
    "\n",
    "# def meanify(function):\n",
    "    \n",
    "#     def function_mean(*args, **kwargs):\n",
    "        \n",
    "#         function_result = function(*args, **kwargs)\n",
    "        \n",
    "#         mean_result = function_result.mean()\n",
    "        \n",
    "#         return mean_result\n",
    "    \n",
    "#     return function_mean\n",
    "    \n",
    "\n",
    "def jax_monte_carlo_mean(initial_stock_price, strike_price, time_to_maturity, \n",
    "                         risk_free_interest_rate, dividend_rate, \n",
    "                         volatility, option_type, time_steps_count, samples_count,\n",
    "                         randomization_key):\n",
    "    \n",
    "    samples = jax_monte_carlo(initial_stock_price, strike_price, time_to_maturity, \n",
    "                              risk_free_interest_rate, dividend_rate, \n",
    "                              volatility, option_type, time_steps_count, samples_count,\n",
    "                              randomization_key)\n",
    "    \n",
    "    result = samples.mean()\n",
    "    \n",
    "    return result\n",
    "\n",
    "\n",
    "def classical_monte_carlo_mean(initial_stock_price, strike_price, time_to_maturity, \n",
    "                               risk_free_interest_rate, dividend_rate, \n",
    "                               volatility, option_type, time_steps_count, samples_count):\n",
    "    \n",
    "    samples = classical_monte_carlo(initial_stock_price, strike_price, time_to_maturity, \n",
    "                                    risk_free_interest_rate, dividend_rate, \n",
    "                                    volatility, option_type, time_steps_count, samples_count)\n",
    "    \n",
    "    result = samples.mean()\n",
    "    \n",
    "    return result"
   ]
  },
  {
   "cell_type": "code",
   "execution_count": 24,
   "id": "a86cb7eb-3227-4827-b4fd-06d0f6adefab",
   "metadata": {
    "tags": []
   },
   "outputs": [],
   "source": [
    "# Fixed Parameters\n",
    "\n",
    "T = time_to_maturity = 1\n",
    "\n",
    "q = dividend_rate = 0.05\n",
    "r = risk_free_interest_rate = 0.02\n",
    "\n",
    "time_steps_count = 300\n",
    "\n",
    "strike_price = 1000\n",
    "\n",
    "samples_count = 100\n",
    "\n",
    "CallPut = option_type = 'Call'"
   ]
  },
  {
   "cell_type": "code",
   "execution_count": null,
   "id": "fb5111c3-f7c2-4003-a5a7-e245175f5a02",
   "metadata": {},
   "outputs": [
    {
     "name": "stdout",
     "output_type": "stream",
     "text": [
      "Looking in links: https://storage.googleapis.com/jax-releases/jax_cuda_releases.html\n",
      "Collecting jax[cuda]\n",
      "  Downloading jax-0.4.2.tar.gz (1.2 MB)\n",
      "\u001b[K     |████████████████████████████████| 1.2 MB 6.1 MB/s eta 0:00:01\n",
      "\u001b[?25hRequirement already satisfied: numpy>=1.20 in /opt/conda/lib/python3.8/site-packages (from jax[cuda]) (1.23.1)\n",
      "Requirement already satisfied: opt_einsum in /opt/conda/lib/python3.8/site-packages (from jax[cuda]) (3.3.0)\n",
      "Requirement already satisfied: scipy>=1.5 in /opt/conda/lib/python3.8/site-packages (from jax[cuda]) (1.9.0)\n",
      "Collecting jaxlib==0.4.2+cuda11.cudnn86\n",
      "  Downloading https://storage.googleapis.com/jax-releases/cuda11/jaxlib-0.4.2%2Bcuda11.cudnn86-cp38-cp38-manylinux2014_x86_64.whl (167.0 MB)\n",
      "\u001b[K     |███████████████████████████     | 141.3 MB 824 kB/s eta 0:00:3201"
     ]
    }
   ],
   "source": [
    "pip install --upgrade \"jax[cuda]\" -f https://storage.googleapis.com/jax-releases/jax_cuda_releases.html"
   ]
  },
  {
   "cell_type": "code",
   "execution_count": 25,
   "id": "1335afe2-ba45-45bf-9c05-be33e122a399",
   "metadata": {},
   "outputs": [
    {
     "ename": "ModuleNotFoundError",
     "evalue": "No module named 'jax'",
     "output_type": "error",
     "traceback": [
      "\u001b[0;31m---------------------------------------------------------------------------\u001b[0m",
      "\u001b[0;31mModuleNotFoundError\u001b[0m                       Traceback (most recent call last)",
      "Cell \u001b[0;32mIn[25], line 7\u001b[0m\n\u001b[1;32m      3\u001b[0m \u001b[38;5;28;01mimport\u001b[39;00m \u001b[38;5;21;01mnumpy\u001b[39;00m \u001b[38;5;28;01mas\u001b[39;00m \u001b[38;5;21;01mnp\u001b[39;00m\n\u001b[1;32m      5\u001b[0m \u001b[38;5;66;03m# JAX\u001b[39;00m\n\u001b[0;32m----> 7\u001b[0m \u001b[38;5;28;01mimport\u001b[39;00m \u001b[38;5;21;01mjax\u001b[39;00m\n\u001b[1;32m      8\u001b[0m \u001b[38;5;28;01mimport\u001b[39;00m \u001b[38;5;21;01mjax\u001b[39;00m\u001b[38;5;21;01m.\u001b[39;00m\u001b[38;5;21;01mnumpy\u001b[39;00m \u001b[38;5;28;01mas\u001b[39;00m \u001b[38;5;21;01mjnp\u001b[39;00m\n\u001b[1;32m     10\u001b[0m \u001b[38;5;28;01mfrom\u001b[39;00m \u001b[38;5;21;01mjax\u001b[39;00m\u001b[38;5;21;01m.\u001b[39;00m\u001b[38;5;21;01mconfig\u001b[39;00m \u001b[38;5;28;01mimport\u001b[39;00m config\n",
      "\u001b[0;31mModuleNotFoundError\u001b[0m: No module named 'jax'"
     ]
    }
   ],
   "source": [
    "import os\n",
    "import time\n",
    "import numpy as np\n",
    "\n",
    "# JAX\n",
    "\n",
    "import jax\n",
    "import jax.numpy as jnp\n",
    "\n",
    "from jax.config import config\n",
    "\n",
    "config.update(\"jax_enable_x64\", True)\n",
    "\n",
    "\n",
    "# Host CPUs\n",
    "\n",
    "# os.environ['XLA_FLAGS'] = '--xla_force_host_platform_device_count=16'\n",
    "\n",
    "# os.environ['XLA_PYTHON_CLIENT_PREALLOCATE'] = 'false'\n",
    "# os.environ['XLA_PYTHON_CLIENT_ALLOCATOR'] = 'platform'\n",
    "\n",
    "# os.environ[\"CUDA_DEVICE_ORDER\"] = \"PCI_BUS_ID\"\n",
    "# os.environ[\"CUDA_VISIBLE_DEVICES\"] = \", \".join(map(str, range(1, 3)))\n",
    "\n",
    "jax.devices()"
   ]
  },
  {
   "cell_type": "markdown",
   "id": "35f06814-3f67-4e74-93ce-65a3156a4eef",
   "metadata": {
    "tags": []
   },
   "source": [
    "### 2) VMap and PMap"
   ]
  },
  {
   "cell_type": "code",
   "execution_count": 6,
   "id": "3de9ecae-de13-4fda-a202-763afd7dd994",
   "metadata": {},
   "outputs": [],
   "source": [
    "jitted_monte_carlo = jax.jit(jax_monte_carlo, \n",
    "                             static_argnames=('samples_count' , \n",
    "                                              'time_steps_count',\n",
    "                                              'option_type'))\n",
    "\n",
    "jitted_monte_carlo_mean = jax.jit(jax_monte_carlo_mean, \n",
    "                                  static_argnames=('samples_count' , \n",
    "                                                   'time_steps_count',\n",
    "                                                   'option_type'))"
   ]
  },
  {
   "cell_type": "code",
   "execution_count": 7,
   "id": "ce01b415-f17d-4181-945d-f5ec2773fbc2",
   "metadata": {},
   "outputs": [],
   "source": [
    "samples_count = 10000\n",
    "\n",
    "STOCK_PRICE_STEPS = 16\n",
    "VOLATILITY_STEPS = 16\n",
    "\n",
    "initial_stock_prices = np.linspace(0, 10000, STOCK_PRICE_STEPS)\n",
    "\n",
    "volatilities = np.linspace(0, 1.0, VOLATILITY_STEPS)\n",
    "\n",
    "initial_stock_prices_count = len(initial_stock_prices)\n",
    "volatilities_count = len(volatilities)\n",
    "\n",
    "\n",
    "# Randomization Keys\n",
    "\n",
    "random_seed = np.random.randint(1000)\n",
    "\n",
    "initial_randomization_key = jax.random.PRNGKey(seed=random_seed)\n",
    "\n",
    "keys_count = volatilities_count * initial_stock_prices_count\n",
    "\n",
    "randomization_keys_vector = jax.random.split(initial_randomization_key, keys_count)\n",
    "\n",
    "randomization_keys = randomization_keys_vector.reshape(volatilities_count, \n",
    "                                                       initial_stock_prices_count, 2)"
   ]
  },
  {
   "cell_type": "markdown",
   "id": "74e7cd79-5a51-48e1-87b4-1784cb417972",
   "metadata": {
    "jp-MarkdownHeadingCollapsed": true,
    "tags": []
   },
   "source": [
    "#### 5.1) VMap and VMap"
   ]
  },
  {
   "cell_type": "code",
   "execution_count": 11,
   "id": "d5c07f40-9998-4716-90e4-b4664c9a7817",
   "metadata": {},
   "outputs": [
    {
     "name": "stdout",
     "output_type": "stream",
     "text": [
      "evaluated_second_vmapped_result.shape: (16, 16)\n",
      "duration: 0.23 s.\n"
     ]
    }
   ],
   "source": [
    "start_time = time.time()\n",
    "\n",
    "vmapped_monte_carlo = jax.vmap(\n",
    "    jax_monte_carlo_mean,\n",
    "    # jitted_monte_carlo_mean,\n",
    "    in_axes=(0, None, None, None, None, None, None, None, None, 0)\n",
    ")\n",
    "\n",
    "second_vmapped_monte_carlo = jax.vmap(\n",
    "    vmapped_monte_carlo,\n",
    "    in_axes=(None, None, None, None, None, 0, None, None, None, 0)\n",
    ")\n",
    "\n",
    "second_vmapped_result = second_vmapped_monte_carlo(\n",
    "    \n",
    "    initial_stock_prices, \n",
    "    strike_price,\n",
    "    time_to_maturity, \n",
    "    risk_free_interest_rate,\n",
    "    dividend_rate, \n",
    "    volatilities, \n",
    "    option_type, \n",
    "    time_steps_count,\n",
    "    samples_count,\n",
    "    randomization_keys\n",
    "    \n",
    ")\n",
    "\n",
    "evaluated_second_vmapped_result = second_vmapped_result * 1\n",
    "\n",
    "end_time = time.time()\n",
    "\n",
    "duration = end_time - start_time\n",
    "\n",
    "print(\"evaluated_second_vmapped_result.shape:\", evaluated_second_vmapped_result.shape)\n",
    "\n",
    "print(f\"duration: {duration:.02f} s.\")"
   ]
  },
  {
   "cell_type": "code",
   "execution_count": 12,
   "id": "756977b2-e6f7-4a29-bdcf-dea906380326",
   "metadata": {},
   "outputs": [],
   "source": [
    "# plot_asset_prices(initial_stock_prices, volatilities, evaluated_second_vmapped_result.T)"
   ]
  },
  {
   "cell_type": "markdown",
   "id": "ed3b4d9d-cba9-4f32-a394-412fc494c2a1",
   "metadata": {
    "jp-MarkdownHeadingCollapsed": true,
    "tags": []
   },
   "source": [
    "#### 5.2) PMap and VMap"
   ]
  },
  {
   "cell_type": "code",
   "execution_count": 13,
   "id": "78c26183-aad9-4979-9efd-b2076956664f",
   "metadata": {},
   "outputs": [
    {
     "name": "stdout",
     "output_type": "stream",
     "text": [
      "evaluated_pmapped_result: (16, 16)\n",
      "duration: 3.41 s.\n"
     ]
    }
   ],
   "source": [
    "start_time = time.time()\n",
    "\n",
    "vmapped_monte_carlo = jax.vmap(\n",
    "    jax_monte_carlo_mean,\n",
    "    # jitted_monte_carlo_mean,\n",
    "    in_axes=(0, None, None, None, None, None, None, None, None, 0)\n",
    ")\n",
    "\n",
    "pmapped_monte_carlo = jax.pmap(\n",
    "    vmapped_monte_carlo,\n",
    "    static_broadcasted_argnums=(6, 7, 8),\n",
    "    in_axes=(None, None, None, None, None, 0, None, None, None, 0)\n",
    ")\n",
    "\n",
    "pmapped_result = pmapped_monte_carlo(\n",
    "    \n",
    "    initial_stock_prices, \n",
    "    strike_price,\n",
    "    time_to_maturity, \n",
    "    risk_free_interest_rate,\n",
    "    dividend_rate, \n",
    "    volatilities, \n",
    "    option_type, \n",
    "    time_steps_count,\n",
    "    samples_count,\n",
    "    randomization_keys\n",
    "    \n",
    ")\n",
    "\n",
    "evaluated_pmapped_result = pmapped_result * 1\n",
    "\n",
    "end_time = time.time()\n",
    "\n",
    "duration = end_time - start_time\n",
    "\n",
    "print(\"evaluated_pmapped_result:\", evaluated_pmapped_result.shape)\n",
    "\n",
    "print(f\"duration: {duration:.02f} s.\")"
   ]
  },
  {
   "cell_type": "code",
   "execution_count": 15,
   "id": "e3379881-e0a5-488d-9174-855349019e30",
   "metadata": {},
   "outputs": [],
   "source": [
    "# plot_asset_prices(initial_stock_prices, volatilities, evaluated_pmapped_result.T)"
   ]
  },
  {
   "cell_type": "markdown",
   "id": "4540b906-d57a-4aac-85a6-d46d76d75cb0",
   "metadata": {
    "tags": []
   },
   "source": [
    "#### 5.3) Classical Monte Carlo Loop"
   ]
  },
  {
   "cell_type": "code",
   "execution_count": 97,
   "id": "731d423c-02a9-4249-9e5d-5a930ed06524",
   "metadata": {},
   "outputs": [],
   "source": [
    "# Parameters\n",
    "\n",
    "samples_count = 4000000\n",
    "\n",
    "STOCK_PRICE_STEPS = 16\n",
    "VOLATILITY_STEPS = 16\n",
    "\n",
    "GRID_STEP = 1\n",
    "\n",
    "initial_stock_prices = np.linspace(0, 10000, STOCK_PRICE_STEPS)\n",
    "volatilities = np.linspace(0, 1.0, VOLATILITY_STEPS)\n",
    "\n",
    "initial_stock_prices = initial_stock_prices[::GRID_STEP]\n",
    "volatilities = volatilities[::GRID_STEP]\n",
    "\n",
    "initial_stock_prices_count = len(initial_stock_prices)\n",
    "volatilities_count = len(volatilities)"
   ]
  },
  {
   "cell_type": "code",
   "execution_count": null,
   "id": "f0e7a00d-6da8-4036-a8de-8597e62066c6",
   "metadata": {},
   "outputs": [
    {
     "name": "stderr",
     "output_type": "stream",
     "text": [
      "Simulating:   0%|                                                              | 0/16 [00:00<?, ?simulation/s]"
     ]
    }
   ],
   "source": [
    "start_time = time.time()\n",
    "\n",
    "classical_results = np.zeros(shape=(initial_stock_prices_count,\n",
    "                                    volatilities_count))\n",
    "\n",
    "simulation_tracker = tqdm.tqdm(\n",
    "    initial_stock_prices,\n",
    "    desc=f\"Simulating\",\n",
    "    ncols=110,\n",
    "    unit='simulation',\n",
    "    mininterval=1    \n",
    ")\n",
    "\n",
    "for initial_stock_price_index, initial_stock_price in enumerate(simulation_tracker):\n",
    "\n",
    "    for volatility_index, volatility in enumerate(volatilities):\n",
    "    \n",
    "        classical_result = classical_monte_carlo_mean(\n",
    "\n",
    "            initial_stock_price, \n",
    "            strike_price,\n",
    "            time_to_maturity, \n",
    "            risk_free_interest_rate,\n",
    "            dividend_rate, \n",
    "            volatility, \n",
    "            option_type, \n",
    "            time_steps_count,\n",
    "            samples_count\n",
    "\n",
    "        )\n",
    "        \n",
    "        classical_results[initial_stock_price_index, volatility_index] = classical_result\n",
    "        \n",
    "    elapsed_time = time.time() - start_time\n",
    "\n",
    "    # print(f\"elapsed_time: {elapsed_time:.02f} s.\")\n",
    "        \n",
    "\n",
    "end_time = time.time()\n",
    "\n",
    "duration = end_time - start_time\n",
    "\n",
    "print(\"classical_results:\", classical_results.shape)\n",
    "\n",
    "print(f\"duration: {duration:.02f} s.\")"
   ]
  },
  {
   "cell_type": "code",
   "execution_count": 96,
   "id": "cf19aab9-d7ad-45ce-a88b-708ae4a8e368",
   "metadata": {},
   "outputs": [
    {
     "data": {
      "image/png": "[encoded data removed]",
      "text/plain": [
       "<Figure size 500x500 with 1 Axes>"
      ]
     },
     "metadata": {},
     "output_type": "display_data"
    }
   ],
   "source": [
    "plot_asset_prices(initial_stock_prices, volatilities, classical_results)"
   ]
  },
  {
   "cell_type": "code",
   "execution_count": null,
   "id": "45dc7405-1f19-455b-a439-98ac0e164285",
   "metadata": {},
   "outputs": [],
   "source": []
  },
  {
   "cell_type": "markdown",
   "id": "40fcd198-5f78-4512-98ec-4de6e4123988",
   "metadata": {},
   "source": [
    "#### 5.4) PMap Loop"
   ]
  },
  {
   "cell_type": "code",
   "execution_count": 8,
   "id": "cdca07a8-b6fe-48cc-a3a2-ac23fbce2ada",
   "metadata": {},
   "outputs": [],
   "source": [
    "# Parameters\n",
    "\n",
    "samples_count = 4000000\n",
    "\n",
    "STOCK_PRICE_STEPS = 16\n",
    "VOLATILITY_STEPS = 16\n",
    "\n",
    "GRID_STEP = 1\n",
    "\n",
    "initial_stock_prices = np.linspace(0, 10000, STOCK_PRICE_STEPS)\n",
    "volatilities = np.linspace(0, 1.0, VOLATILITY_STEPS)\n",
    "\n",
    "initial_stock_prices = initial_stock_prices[::GRID_STEP]\n",
    "volatilities = volatilities[::GRID_STEP]\n",
    "\n",
    "initial_stock_prices_count = len(initial_stock_prices)\n",
    "volatilities_count = len(volatilities)\n",
    "\n",
    "\n",
    "# Randomization Keys\n",
    "\n",
    "RANDOM_SEED = 1000\n",
    "\n",
    "random_seed = np.random.randint(RANDOM_SEED)\n",
    "\n",
    "initial_randomization_key = jax.random.PRNGKey(seed=random_seed)\n",
    "\n",
    "keys_count = volatilities_count * initial_stock_prices_count\n",
    "\n",
    "randomization_keys_vector = jax.random.split(initial_randomization_key, keys_count)\n",
    "\n",
    "randomization_keys = randomization_keys_vector.reshape(volatilities_count, \n",
    "                                                       initial_stock_prices_count, 2)"
   ]
  },
  {
   "cell_type": "code",
   "execution_count": 12,
   "id": "97cd07fc-6078-4180-b4ec-0dfaa297feaf",
   "metadata": {},
   "outputs": [
    {
     "name": "stderr",
     "output_type": "stream",
     "text": [
      "Simulating: 100%|█████████████████████████████████████████████████████| 16/16 [00:01<00:00,  8.05simulation/s]"
     ]
    },
    {
     "name": "stdout",
     "output_type": "stream",
     "text": [
      "option_prices_meshgrid: (16, 16)\n",
      "duration: 1.99 s.\n"
     ]
    },
    {
     "name": "stderr",
     "output_type": "stream",
     "text": [
      "\n"
     ]
    }
   ],
   "source": [
    "start_time = time.time()\n",
    "\n",
    "option_prices_meshgrid = np.zeros(shape=(initial_stock_prices_count,\n",
    "                                         volatilities_count))\n",
    "\n",
    "simulation_tracker = tqdm.tqdm(\n",
    "    initial_stock_prices,\n",
    "    desc=f\"Simulating\",\n",
    "    ncols=110,\n",
    "    unit='simulation',\n",
    "    mininterval=1    \n",
    ")\n",
    "\n",
    "pmapped_volatilities_mc = jax.pmap(\n",
    "    jax_monte_carlo_mean,\n",
    "    # jitted_monte_carlo_mean,\n",
    "    static_broadcasted_argnums=(6, 7, 8),\n",
    "    in_axes=(None, None, None, None, None, 0, None, None, None, 0)\n",
    ")\n",
    "\n",
    "for initial_stock_price_index, initial_stock_price in enumerate(simulation_tracker):\n",
    "    \n",
    "    randomization_keys_row = randomization_keys[:, initial_stock_price_index]\n",
    "\n",
    "    option_price = pmapped_volatilities_mc(\n",
    "        \n",
    "        initial_stock_price, \n",
    "        strike_price,\n",
    "        time_to_maturity, \n",
    "        risk_free_interest_rate,\n",
    "        dividend_rate, \n",
    "        volatilities, \n",
    "        option_type, \n",
    "        time_steps_count,\n",
    "        samples_count,\n",
    "        randomization_keys_row\n",
    "        \n",
    "    )\n",
    "    \n",
    "    # print(option_price)\n",
    "\n",
    "    option_prices_meshgrid[initial_stock_price_index] = option_price\n",
    "        \n",
    "\n",
    "# evaluated_pmapped_result = pmapped_result * 1\n",
    "\n",
    "end_time = time.time()\n",
    "\n",
    "duration = end_time - start_time\n",
    "\n",
    "print(\"option_prices_meshgrid:\", option_prices_meshgrid.shape)\n",
    "\n",
    "print(f\"duration: {duration:.02f} s.\")"
   ]
  },
  {
   "cell_type": "code",
   "execution_count": 11,
   "id": "e6d7ac0b-bb40-42e4-b565-73e753851cd0",
   "metadata": {},
   "outputs": [],
   "source": [
    "# plot_asset_prices(initial_stock_prices, volatilities, option_prices_meshgrid)"
   ]
  },
  {
   "cell_type": "code",
   "execution_count": null,
   "id": "4f68b11c-0052-4ac8-ba33-db24685dd961",
   "metadata": {},
   "outputs": [],
   "source": []
  },
  {
   "cell_type": "markdown",
   "id": "c914a718-a279-414c-a05a-3db67f0cd48c",
   "metadata": {},
   "source": [
    "### 6) Comparison"
   ]
  },
  {
   "cell_type": "code",
   "execution_count": 6,
   "id": "79ebcef5-4627-4edc-ba0f-0a40b66e17db",
   "metadata": {},
   "outputs": [],
   "source": [
    "STOCK_PRICE_STEPS = 16\n",
    "VOLATILITY_STEPS = 16\n",
    "\n",
    "GRID_STEP = 1\n",
    "\n",
    "initial_stock_prices = np.linspace(0, 10000, STOCK_PRICE_STEPS)\n",
    "volatilities = np.linspace(0, 1.0, VOLATILITY_STEPS)\n",
    "\n",
    "initial_stock_prices = initial_stock_prices[::GRID_STEP]\n",
    "volatilities = volatilities[::GRID_STEP]\n",
    "\n",
    "initial_stock_prices_count = len(initial_stock_prices)\n",
    "volatilities_count = len(volatilities)"
   ]
  },
  {
   "cell_type": "code",
   "execution_count": 7,
   "id": "4436f567-7c68-4d97-9f6a-29ac89c3ea76",
   "metadata": {},
   "outputs": [],
   "source": [
    "# Randomization Keys\n",
    "\n",
    "RANDOM_SEED = 1000\n",
    "\n",
    "random_seed = np.random.randint(RANDOM_SEED)\n",
    "\n",
    "initial_randomization_key = jax.random.PRNGKey(seed=random_seed)\n",
    "\n",
    "keys_count = volatilities_count * initial_stock_prices_count\n",
    "\n",
    "randomization_keys_vector = jax.random.split(initial_randomization_key, keys_count)\n",
    "\n",
    "randomization_keys = randomization_keys_vector.reshape(volatilities_count, \n",
    "                                                       initial_stock_prices_count, 2)"
   ]
  },
  {
   "cell_type": "code",
   "execution_count": 8,
   "id": "e4e90f0c-390b-4d62-a92d-31ae9050ea2d",
   "metadata": {},
   "outputs": [],
   "source": [
    "def measure_classical_monte_carlo(samples_count):\n",
    "    \n",
    "    start_time = time.time()\n",
    "\n",
    "    classical_results = np.zeros(shape=(initial_stock_prices_count,\n",
    "                                        volatilities_count))\n",
    "\n",
    "    simulation_tracker = tqdm.tqdm(\n",
    "        initial_stock_prices,\n",
    "        desc=f\"Simulating\",\n",
    "        ncols=110,\n",
    "        unit='simulation',\n",
    "        mininterval=1    \n",
    "    )\n",
    "\n",
    "    for initial_stock_price_index, initial_stock_price in enumerate(simulation_tracker):\n",
    "\n",
    "        for volatility_index, volatility in enumerate(volatilities):\n",
    "\n",
    "            classical_result = classical_monte_carlo_mean(\n",
    "\n",
    "                initial_stock_price, \n",
    "                strike_price,\n",
    "                time_to_maturity, \n",
    "                risk_free_interest_rate,\n",
    "                dividend_rate, \n",
    "                volatility, \n",
    "                option_type, \n",
    "                time_steps_count,\n",
    "                samples_count\n",
    "\n",
    "            )\n",
    "\n",
    "            classical_results[initial_stock_price_index, volatility_index] = classical_result\n",
    "\n",
    "        elapsed_time = time.time() - start_time\n",
    "\n",
    "        # print(f\"elapsed_time: {elapsed_time:.02f} s.\")\n",
    "\n",
    "\n",
    "    end_time = time.time()\n",
    "\n",
    "    duration = end_time - start_time\n",
    "\n",
    "    return duration"
   ]
  },
  {
   "cell_type": "code",
   "execution_count": 9,
   "id": "ed069451-1d0e-4658-a5e8-51fca989b0f9",
   "metadata": {},
   "outputs": [],
   "source": [
    "def measure_pmap_monte_carlo(samples_count):\n",
    "    \n",
    "    start_time = time.time()\n",
    "\n",
    "    option_prices_meshgrid = np.zeros(shape=(initial_stock_prices_count,\n",
    "                                             volatilities_count))\n",
    "\n",
    "    simulation_tracker = tqdm.tqdm(\n",
    "        initial_stock_prices,\n",
    "        desc=f\"Simulating\",\n",
    "        ncols=110,\n",
    "        unit='simulation',\n",
    "        mininterval=1    \n",
    "    )\n",
    "\n",
    "    pmapped_volatilities_mc = jax.pmap(\n",
    "        jax_monte_carlo_mean,\n",
    "        # jitted_monte_carlo_mean,\n",
    "        static_broadcasted_argnums=(6, 7, 8),\n",
    "        in_axes=(None, None, None, None, None, 0, None, None, None, 0)\n",
    "    )\n",
    "\n",
    "    for initial_stock_price_index, initial_stock_price in enumerate(simulation_tracker):\n",
    "\n",
    "        randomization_keys_row = randomization_keys[:, initial_stock_price_index]\n",
    "\n",
    "        option_price = pmapped_volatilities_mc(\n",
    "\n",
    "            initial_stock_price, \n",
    "            strike_price,\n",
    "            time_to_maturity, \n",
    "            risk_free_interest_rate,\n",
    "            dividend_rate, \n",
    "            volatilities, \n",
    "            option_type, \n",
    "            time_steps_count,\n",
    "            samples_count,\n",
    "            randomization_keys_row\n",
    "\n",
    "        )\n",
    "\n",
    "        # print(option_price)\n",
    "\n",
    "        option_prices_meshgrid[initial_stock_price_index] = option_price\n",
    "\n",
    "\n",
    "    # evaluated_pmapped_result = pmapped_result * 1\n",
    "\n",
    "    end_time = time.time()\n",
    "\n",
    "    duration = end_time - start_time\n",
    "\n",
    "    return duration"
   ]
  },
  {
   "cell_type": "code",
   "execution_count": 11,
   "id": "6f781f1e-cce9-427a-b7a3-5ad9014fafbc",
   "metadata": {},
   "outputs": [
    {
     "name": "stdout",
     "output_type": "stream",
     "text": [
      "samples_count: 10\n"
     ]
    },
    {
     "name": "stderr",
     "output_type": "stream",
     "text": [
      "Simulating: 100%|████████████████████████████████████████████████████| 16/16 [00:00<00:00, 183.79simulation/s]\n"
     ]
    },
    {
     "name": "stdout",
     "output_type": "stream",
     "text": [
      "duration: 0.09 s.\n",
      "samples_count: 100\n"
     ]
    },
    {
     "name": "stderr",
     "output_type": "stream",
     "text": [
      "Simulating: 100%|████████████████████████████████████████████████████| 16/16 [00:00<00:00, 164.19simulation/s]\n"
     ]
    },
    {
     "name": "stdout",
     "output_type": "stream",
     "text": [
      "duration: 0.10 s.\n",
      "samples_count: 1000\n"
     ]
    },
    {
     "name": "stderr",
     "output_type": "stream",
     "text": [
      "Simulating: 100%|████████████████████████████████████████████████████| 16/16 [00:00<00:00, 157.98simulation/s]\n"
     ]
    },
    {
     "name": "stdout",
     "output_type": "stream",
     "text": [
      "duration: 0.10 s.\n",
      "samples_count: 10000\n"
     ]
    },
    {
     "name": "stderr",
     "output_type": "stream",
     "text": [
      "Simulating: 100%|████████████████████████████████████████████████████| 16/16 [00:00<00:00, 162.43simulation/s]\n"
     ]
    },
    {
     "name": "stdout",
     "output_type": "stream",
     "text": [
      "duration: 0.10 s.\n",
      "samples_count: 100000\n"
     ]
    },
    {
     "name": "stderr",
     "output_type": "stream",
     "text": [
      "Simulating: 100%|████████████████████████████████████████████████████| 16/16 [00:00<00:00, 128.57simulation/s]\n"
     ]
    },
    {
     "name": "stdout",
     "output_type": "stream",
     "text": [
      "duration: 0.13 s.\n",
      "samples_count: 1000000\n"
     ]
    },
    {
     "name": "stderr",
     "output_type": "stream",
     "text": [
      "Simulating: 100%|█████████████████████████████████████████████████████| 16/16 [00:00<00:00, 29.64simulation/s]\n"
     ]
    },
    {
     "name": "stdout",
     "output_type": "stream",
     "text": [
      "duration: 0.54 s.\n",
      "samples_count: 2000000\n"
     ]
    },
    {
     "name": "stderr",
     "output_type": "stream",
     "text": [
      "Simulating: 100%|█████████████████████████████████████████████████████| 16/16 [00:01<00:00, 15.83simulation/s]\n"
     ]
    },
    {
     "name": "stdout",
     "output_type": "stream",
     "text": [
      "duration: 1.01 s.\n",
      "samples_count: 4000000\n"
     ]
    },
    {
     "name": "stderr",
     "output_type": "stream",
     "text": [
      "Simulating: 100%|█████████████████████████████████████████████████████| 16/16 [00:01<00:00,  8.12simulation/s]"
     ]
    },
    {
     "name": "stdout",
     "output_type": "stream",
     "text": [
      "duration: 1.97 s.\n"
     ]
    },
    {
     "name": "stderr",
     "output_type": "stream",
     "text": [
      "\n"
     ]
    }
   ],
   "source": [
    "# Measure PMAP Loop MC\n",
    "\n",
    "PMAP_SAMPLES_COUNTS = [10, 100, 1000, 10000, 100000, 1000000, 2000000, 4000000]\n",
    "\n",
    "pmap_mc_durations = []\n",
    "\n",
    "for samples_count in PMAP_SAMPLES_COUNTS:\n",
    "    \n",
    "    print(\"samples_count:\", samples_count)\n",
    "    \n",
    "    duration = measure_pmap_monte_carlo(samples_count)\n",
    "    \n",
    "    print(f\"duration: {duration:.02f} s.\")\n",
    "    \n",
    "    pmap_mc_durations.append(duration)"
   ]
  },
  {
   "cell_type": "code",
   "execution_count": 12,
   "id": "74d6a961-39b9-45da-b990-8dbb35ee630d",
   "metadata": {},
   "outputs": [
    {
     "name": "stdout",
     "output_type": "stream",
     "text": [
      "samples_count: 10\n"
     ]
    },
    {
     "name": "stderr",
     "output_type": "stream",
     "text": [
      "Simulating: 100%|████████████████████████████████████████████████████| 16/16 [00:00<00:00, 548.10simulation/s]\n"
     ]
    },
    {
     "name": "stdout",
     "output_type": "stream",
     "text": [
      "duration: 0.03 s.\n",
      "samples_count: 100\n"
     ]
    },
    {
     "name": "stderr",
     "output_type": "stream",
     "text": [
      "Simulating: 100%|█████████████████████████████████████████████████████| 16/16 [00:00<00:00, 83.79simulation/s]\n"
     ]
    },
    {
     "name": "stdout",
     "output_type": "stream",
     "text": [
      "duration: 0.19 s.\n",
      "samples_count: 1000\n"
     ]
    },
    {
     "name": "stderr",
     "output_type": "stream",
     "text": [
      "Simulating: 100%|█████████████████████████████████████████████████████| 16/16 [00:01<00:00,  9.51simulation/s]\n"
     ]
    },
    {
     "name": "stdout",
     "output_type": "stream",
     "text": [
      "duration: 1.68 s.\n",
      "samples_count: 10000\n"
     ]
    },
    {
     "name": "stderr",
     "output_type": "stream",
     "text": [
      "Simulating: 100%|█████████████████████████████████████████████████████| 16/16 [00:16<00:00,  1.04s/simulation]"
     ]
    },
    {
     "name": "stdout",
     "output_type": "stream",
     "text": [
      "duration: 16.68 s.\n"
     ]
    },
    {
     "name": "stderr",
     "output_type": "stream",
     "text": [
      "\n"
     ]
    }
   ],
   "source": [
    "# Measure Classical MC\n",
    "\n",
    "CLASSICAL_SAMPLES_COUNTS = [10, 100, 1000, 10000, \n",
    "                            # 100000\n",
    "                           ]\n",
    "\n",
    "classical_mc_durations = []\n",
    "\n",
    "for samples_count in CLASSICAL_SAMPLES_COUNTS:\n",
    "    \n",
    "    print(\"samples_count:\", samples_count)\n",
    "    \n",
    "    duration = measure_classical_monte_carlo(samples_count)\n",
    "    \n",
    "    print(f\"duration: {duration:.02f} s.\")\n",
    "    \n",
    "    classical_mc_durations.append(duration)"
   ]
  },
  {
   "cell_type": "markdown",
   "id": "48c8bee0-c898-4416-9123-f22cfddcd953",
   "metadata": {},
   "source": [
    "#### Plot"
   ]
  },
  {
   "cell_type": "code",
   "execution_count": 15,
   "id": "510920ef-f332-4240-8da2-5c93426b0647",
   "metadata": {},
   "outputs": [
    {
     "data": {
      "image/png": "[encoded data removed]",
      "text/plain": [
       "<Figure size 800x400 with 1 Axes>"
      ]
     },
     "metadata": {},
     "output_type": "display_data"
    }
   ],
   "source": [
    "plt.figure(figsize=(8, 4))\n",
    "\n",
    "plt.plot(PMAP_SAMPLES_COUNTS,\n",
    "         pmap_mc_durations,\n",
    "         label=\"PMap Monte Carlo\")\n",
    "\n",
    "plt.plot(CLASSICAL_SAMPLES_COUNTS,\n",
    "         classical_mc_durations,\n",
    "         label=\"Classical Monte Carlo\")\n",
    "\n",
    "plt.gca().set_xscale('log')\n",
    "\n",
    "plt.title(\"Monte Carlo Durations\")\n",
    "plt.xlabel(\"Samples Count\")\n",
    "plt.ylabel(\"Duration (seconds)\")\n",
    "\n",
    "plt.legend()\n",
    "plt.show()"
   ]
  },
  {
   "cell_type": "code",
   "execution_count": null,
   "id": "72961c1f-c4e7-4659-beea-5be1b438b690",
   "metadata": {},
   "outputs": [],
   "source": []
  },
  {
   "cell_type": "markdown",
   "id": "c5b47d18-1f8f-447b-bd6a-a805e9d46ab0",
   "metadata": {},
   "source": [
    "### CUDA Check"
   ]
  },
  {
   "cell_type": "code",
   "execution_count": null,
   "id": "00791cd4-1af1-4064-b7ee-dd05354f5e10",
   "metadata": {},
   "outputs": [],
   "source": [
    "import torch\n",
    "import sys\n",
    "\n",
    "from subprocess import call\n",
    "\n",
    "print(\"sys.version:\", sys.version)\n",
    "print(\"torch.__version__:\", torch.__version__)\n",
    "\n",
    "print(\"torch.backends.cudnn.version():\", torch.backends.cudnn.version())\n",
    "print(\"torch.cuda.device_count():\", torch.cuda.device_count())\n",
    "\n",
    "print (\"torch.cuda.device_count():\", torch.cuda.device_count())\n",
    "print (\"torch.cuda.current_device():\", torch.cuda.current_device())\n",
    "\n",
    "call([\"nvidia-smi\", \n",
    "      \"--format=csv\", \n",
    "      \"--query-gpu=index,name,driver_version,\"\n",
    "      \"memory.total,memory.used,memory.free\"])"
   ]
  }
 ],
 "metadata": {
  "kernelspec": {
   "display_name": "Python 3 (ipykernel)",
   "language": "python",
   "name": "python3"
  },
  "language_info": {
   "codemirror_mode": {
    "name": "ipython",
    "version": 3
   },
   "file_extension": ".py",
   "mimetype": "text/x-python",
   "name": "python",
   "nbconvert_exporter": "python",
   "pygments_lexer": "ipython3",
   "version": "3.8.13"
  }
 },
 "nbformat": 4,
 "nbformat_minor": 5
}
