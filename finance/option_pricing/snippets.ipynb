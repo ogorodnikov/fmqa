{
 "cells": [
  {
   "cell_type": "markdown",
   "id": "bf29e287-1300-4832-84cf-9c747768d26c",
   "metadata": {},
   "source": [
    "### Dictionary Product"
   ]
  },
  {
   "cell_type": "code",
   "execution_count": 3,
   "id": "9dff6c30-8e8e-44df-bb8e-d84d3d84463a",
   "metadata": {},
   "outputs": [
    {
     "name": "stdout",
     "output_type": "stream",
     "text": [
      "iterable_options: [(('name', 'Device'),), (('diff_methods', 1), ('diff_methods', 2)), (('interfaces', 'i1'), ('interfaces', 'i2')), (('simulator', '11'),), (('qubit_count', 3),)]\n",
      "{'name': 'Device', 'diff_methods': 1, 'interfaces': 'i1', 'simulator': '11', 'qubit_count': 3}\n",
      "{'name': 'Device', 'diff_methods': 1, 'interfaces': 'i2', 'simulator': '11', 'qubit_count': 3}\n",
      "{'name': 'Device', 'diff_methods': 2, 'interfaces': 'i1', 'simulator': '11', 'qubit_count': 3}\n",
      "{'name': 'Device', 'diff_methods': 2, 'interfaces': 'i2', 'simulator': '11', 'qubit_count': 3}\n",
      "[{'name': 'Device', 'diff_methods': 1, 'interfaces': 'i1', 'simulator': '11', 'qubit_count': 3}, {'name': 'Device', 'diff_methods': 1, 'interfaces': 'i2', 'simulator': '11', 'qubit_count': 3}, {'name': 'Device', 'diff_methods': 2, 'interfaces': 'i1', 'simulator': '11', 'qubit_count': 3}, {'name': 'Device', 'diff_methods': 2, 'interfaces': 'i2', 'simulator': '11', 'qubit_count': 3}]\n"
     ]
    }
   ],
   "source": [
    "from itertools import product\n",
    "\n",
    "\n",
    "options = {'name': 'Device',\n",
    "           'diff_methods': (1, 2),\n",
    "           'interfaces': ('i1', 'i2'),\n",
    "           'simulator': '11',\n",
    "           }\n",
    "\n",
    "options['qubit_count'] = 3\n",
    "\n",
    "\n",
    "    \n",
    "iterable_options = []\n",
    "    \n",
    "for option, variants in options.items():\n",
    "    \n",
    "    if not hasattr(variants, '__iter__') or isinstance(variants, str):\n",
    "        \n",
    "        options = ((option, variants),)\n",
    "        \n",
    "    else:\n",
    "\n",
    "        options = tuple(product([option], variants))\n",
    "    \n",
    "    iterable_options.append(options)\n",
    "\n",
    "print(\"iterable_options:\", iterable_options)\n",
    "\n",
    "options_combinations = list(map(dict, product(*iterable_options)))\n",
    "    \n",
    "# print(options_list)\n",
    "\n",
    "for options_combination in options_combinations:\n",
    "    \n",
    "    print(options_combination)\n",
    "\n",
    "print(options_combinations)"
   ]
  },
  {
   "cell_type": "markdown",
   "id": "04169864-2c5b-42f2-83d4-18e3b3da2e28",
   "metadata": {},
   "source": [
    "### Lightning Qubit Multi-Threaded"
   ]
  },
  {
   "cell_type": "code",
   "execution_count": 5,
   "id": "62b8a268-bf5a-4010-943c-0e37fed32a5b",
   "metadata": {},
   "outputs": [],
   "source": [
    "# import pennylane as qml\n",
    "# import numpy as np\n",
    "# from time import time\n",
    "# import os\n",
    "\n",
    "# n_wires = 28\n",
    "# n_layers = 200\n",
    "\n",
    "# # Measure time for lightning.gpu\n",
    "\n",
    "# start_timing = time() * 1000\n",
    "\n",
    "# dev = qml.device(\"lightning.gpu\", wires=n_wires)\n",
    "# @qml.qnode(dev, diff_method=\"adjoint\")\n",
    "# def circuit(weights):\n",
    "#     qml.StronglyEntanglingLayers(weights, wires=range(n_wires))\n",
    "#     return [qml.expval(qml.PauliZ(i)) for i in range(n_wires)]\n",
    "# param_shape = qml.StronglyEntanglingLayers.shape(n_layers=n_layers, n_wires=n_wires)\n",
    "# params = np.random.random(param_shape)\n",
    "# jac = qml.jacobian(circuit)(params)\n",
    "\n",
    "# print(\"lighting.gpu:\")\n",
    "# print(f\"{round(time() * 1000 - start_timing, 3)} ms\")\n",
    "\n",
    "# # Measure time for lightning.qubit with 1 thread\n",
    "\n",
    "# os.environ[\"OMP_NUM_THREADS\"] = \"1\"\n",
    "# start_timing = time() * 1000\n",
    "\n",
    "# dev = qml.device(\"lightning.qubit\", wires=n_wires)\n",
    "# @qml.qnode(dev, diff_method=\"adjoint\")\n",
    "# def circuit(weights):\n",
    "#     qml.StronglyEntanglingLayers(weights, wires=list(range(n_wires)))\n",
    "#     return [qml.expval(qml.PauliZ(i)) for i in range(n_wires)]\n",
    "# param_shape = qml.StronglyEntanglingLayers.shape(n_layers=n_layers, n_wires=n_wires)\n",
    "# params = np.random.random(param_shape)\n",
    "# jac = qml.jacobian(circuit)(params)\n",
    "\n",
    "# print(\"lighting.qubit with 1 thread:\")\n",
    "# print(f\"{round(time() * 1000 - start_timing, 3)} ms\")\n",
    "\n",
    "# # Measure time for lightning.qubit with 32 threads\n",
    "\n",
    "# start_timing = time() * 1000\n",
    "# os.environ[\"OMP_NUM_THREADS\"] = \"32\"\n",
    "\n",
    "# dev = qml.device(\"lightning.qubit\", wires=n_wires)\n",
    "# @qml.qnode(dev, diff_method=\"adjoint\")\n",
    "# def circuit(weights):\n",
    "#     qml.StronglyEntanglingLayers(weights, wires=list(range(n_wires)))\n",
    "#     return [qml.expval(qml.PauliZ(i)) for i in range(n_wires)]\n",
    "# param_shape = qml.StronglyEntanglingLayers.shape(n_layers=n_layers, n_wires=n_wires)\n",
    "# params = np.random.random(param_shape)\n",
    "# jac = qml.jacobian(circuit)(params)\n",
    "\n",
    "# print(\"lighting.qubit 32 threads:\")\n",
    "# print(f\"{round(time() * 1000 - start_timing, 3)} ms\")"
   ]
  },
  {
   "cell_type": "code",
   "execution_count": null,
   "id": "753ce48d-8dc6-48b6-a545-8534c562451f",
   "metadata": {},
   "outputs": [],
   "source": []
  }
 ],
 "metadata": {
  "kernelspec": {
   "display_name": "Python 3 (ipykernel)",
   "language": "python",
   "name": "python3"
  },
  "language_info": {
   "codemirror_mode": {
    "name": "ipython",
    "version": 3
   },
   "file_extension": ".py",
   "mimetype": "text/x-python",
   "name": "python",
   "nbconvert_exporter": "python",
   "pygments_lexer": "ipython3",
   "version": "3.8.10"
  }
 },
 "nbformat": 4,
 "nbformat_minor": 5
}
