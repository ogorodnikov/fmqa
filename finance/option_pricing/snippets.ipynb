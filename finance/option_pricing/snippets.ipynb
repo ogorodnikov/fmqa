{
 "cells": [
  {
   "cell_type": "markdown",
   "id": "bf29e287-1300-4832-84cf-9c747768d26c",
   "metadata": {},
   "source": [
    "### Dictionary Product"
   ]
  },
  {
   "cell_type": "code",
   "execution_count": 3,
   "id": "9dff6c30-8e8e-44df-bb8e-d84d3d84463a",
   "metadata": {},
   "outputs": [
    {
     "name": "stdout",
     "output_type": "stream",
     "text": [
      "iterable_options: [(('name', 'Device'),), (('diff_methods', 1), ('diff_methods', 2)), (('interfaces', 'i1'), ('interfaces', 'i2')), (('simulator', '11'),), (('qubit_count', 3),)]\n",
      "{'name': 'Device', 'diff_methods': 1, 'interfaces': 'i1', 'simulator': '11', 'qubit_count': 3}\n",
      "{'name': 'Device', 'diff_methods': 1, 'interfaces': 'i2', 'simulator': '11', 'qubit_count': 3}\n",
      "{'name': 'Device', 'diff_methods': 2, 'interfaces': 'i1', 'simulator': '11', 'qubit_count': 3}\n",
      "{'name': 'Device', 'diff_methods': 2, 'interfaces': 'i2', 'simulator': '11', 'qubit_count': 3}\n",
      "[{'name': 'Device', 'diff_methods': 1, 'interfaces': 'i1', 'simulator': '11', 'qubit_count': 3}, {'name': 'Device', 'diff_methods': 1, 'interfaces': 'i2', 'simulator': '11', 'qubit_count': 3}, {'name': 'Device', 'diff_methods': 2, 'interfaces': 'i1', 'simulator': '11', 'qubit_count': 3}, {'name': 'Device', 'diff_methods': 2, 'interfaces': 'i2', 'simulator': '11', 'qubit_count': 3}]\n"
     ]
    }
   ],
   "source": [
    "from itertools import product\n",
    "\n",
    "\n",
    "options = {'name': 'Device',\n",
    "           'diff_methods': (1, 2),\n",
    "           'interfaces': ('i1', 'i2'),\n",
    "           'simulator': '11',\n",
    "           }\n",
    "\n",
    "options['qubit_count'] = 3\n",
    "\n",
    "\n",
    "    \n",
    "iterable_options = []\n",
    "    \n",
    "for option, variants in options.items():\n",
    "    \n",
    "    if not hasattr(variants, '__iter__') or isinstance(variants, str):\n",
    "        \n",
    "        options = ((option, variants),)\n",
    "        \n",
    "    else:\n",
    "\n",
    "        options = tuple(product([option], variants))\n",
    "    \n",
    "    iterable_options.append(options)\n",
    "\n",
    "print(\"iterable_options:\", iterable_options)\n",
    "\n",
    "options_combinations = list(map(dict, product(*iterable_options)))\n",
    "    \n",
    "# print(options_list)\n",
    "\n",
    "for options_combination in options_combinations:\n",
    "    \n",
    "    print(options_combination)\n",
    "\n",
    "print(options_combinations)"
   ]
  },
  {
   "cell_type": "code",
   "execution_count": null,
   "id": "62b8a268-bf5a-4010-943c-0e37fed32a5b",
   "metadata": {},
   "outputs": [],
   "source": []
  }
 ],
 "metadata": {
  "kernelspec": {
   "display_name": "Python 3 (ipykernel)",
   "language": "python",
   "name": "python3"
  },
  "language_info": {
   "codemirror_mode": {
    "name": "ipython",
    "version": 3
   },
   "file_extension": ".py",
   "mimetype": "text/x-python",
   "name": "python",
   "nbconvert_exporter": "python",
   "pygments_lexer": "ipython3",
   "version": "3.8.10"
  }
 },
 "nbformat": 4,
 "nbformat_minor": 5
}
