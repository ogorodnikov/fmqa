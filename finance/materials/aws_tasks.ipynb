{
 "cells": [
  {
   "cell_type": "code",
   "execution_count": 1,
   "id": "30a27284-3541-4771-b274-12e2201bc966",
   "metadata": {},
   "outputs": [],
   "source": [
    "import boto3\n",
    "import botocore"
   ]
  },
  {
   "cell_type": "code",
   "execution_count": null,
   "id": "b71875c9-8209-4a4c-8afc-d265a30d2a4d",
   "metadata": {},
   "outputs": [],
   "source": [
    "braket_config = botocore.client.Config(user_agent_extra=\"BraketSchemas/1.8.0\")\n",
    "\n",
    "braket = boto3.client(\"braket\", config=braket_config)"
   ]
  }
 ],
 "metadata": {
  "kernelspec": {
   "display_name": "Python 3 (ipykernel)",
   "language": "python",
   "name": "python3"
  },
  "language_info": {
   "codemirror_mode": {
    "name": "ipython",
    "version": 3
   },
   "file_extension": ".py",
   "mimetype": "text/x-python",
   "name": "python",
   "nbconvert_exporter": "python",
   "pygments_lexer": "ipython3",
   "version": "3.8.10"
  }
 },
 "nbformat": 4,
 "nbformat_minor": 5
}
