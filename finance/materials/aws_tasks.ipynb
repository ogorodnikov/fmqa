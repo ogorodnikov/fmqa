{
 "cells": [
  {
   "cell_type": "code",
   "execution_count": 1,
   "id": "30a27284-3541-4771-b274-12e2201bc966",
   "metadata": {},
   "outputs": [],
   "source": [
    "import boto3\n",
    "import botocore\n",
    "\n",
    "import json"
   ]
  },
  {
   "cell_type": "code",
   "execution_count": 2,
   "id": "b71875c9-8209-4a4c-8afc-d265a30d2a4d",
   "metadata": {},
   "outputs": [],
   "source": [
    "# AWS Clients\n",
    "\n",
    "braket_config = botocore.client.Config(user_agent_extra=\"BraketSchemas/1.8.0\")\n",
    "\n",
    "aws_braket = boto3.client(\"braket\", config=braket_config)\n",
    "aws_s3 = boto3.client(\"s3\")"
   ]
  },
  {
   "cell_type": "code",
   "execution_count": 3,
   "id": "95275fcc-f302-4cb4-a997-c42943708e56",
   "metadata": {},
   "outputs": [],
   "source": [
    "# Load info for Tasks simulated on SV1\n",
    "\n",
    "SV1_ARN = 'arn:aws:braket:::device/quantum-simulator/amazon/sv1'\n",
    "\n",
    "response = aws_braket.search_quantum_tasks(filters=[{\n",
    "    'name': 'deviceArn',\n",
    "    'operator': 'EQUAL',\n",
    "    'values': [SV1_ARN]\n",
    "}], maxResults=25)"
   ]
  },
  {
   "cell_type": "code",
   "execution_count": 4,
   "id": "d7354598-429b-42d8-8fa2-6277452ea64c",
   "metadata": {},
   "outputs": [
    {
     "data": {
      "text/plain": [
       "{'createdAt': datetime.datetime(2023, 2, 28, 16, 55, 2, 235000, tzinfo=tzutc()),\n",
       " 'deviceArn': 'arn:aws:braket:::device/quantum-simulator/amazon/sv1',\n",
       " 'endedAt': datetime.datetime(2023, 2, 28, 16, 55, 11, 962000, tzinfo=tzutc()),\n",
       " 'outputS3Bucket': 'amazon-braket-us-east-1-196332284574',\n",
       " 'outputS3Directory': 'tasks/9581aea9-5357-4dba-bf3e-f97e19d5750e',\n",
       " 'quantumTaskArn': 'arn:aws:braket:us-east-1:196332284574:quantum-task/9581aea9-5357-4dba-bf3e-f97e19d5750e',\n",
       " 'shots': 1000,\n",
       " 'status': 'COMPLETED',\n",
       " 'tags': {}}"
      ]
     },
     "execution_count": 4,
     "metadata": {},
     "output_type": "execute_result"
    }
   ],
   "source": [
    "quantum_tasks = response['quantumTasks']\n",
    "\n",
    "quantum_task = quantum_tasks[0]\n",
    "\n",
    "quantum_task"
   ]
  },
  {
   "cell_type": "code",
   "execution_count": 5,
   "id": "5868f958-44fe-4c48-98fb-a0fb09080f88",
   "metadata": {},
   "outputs": [
    {
     "data": {
      "text/plain": [
       "('amazon-braket-us-east-1-196332284574',\n",
       " 'tasks/9581aea9-5357-4dba-bf3e-f97e19d5750e')"
      ]
     },
     "execution_count": 5,
     "metadata": {},
     "output_type": "execute_result"
    }
   ],
   "source": [
    "s3_bucket_name = quantum_task['outputS3Bucket']\n",
    "s3_directory = quantum_task['outputS3Directory']\n",
    "    \n",
    "s3_bucket_name, s3_directory"
   ]
  },
  {
   "cell_type": "code",
   "execution_count": 6,
   "id": "56f7acb0-422f-4f6e-a7c3-20330ae07700",
   "metadata": {},
   "outputs": [],
   "source": [
    "# Download JSON\n",
    "\n",
    "RESULTS_JSON_FILENAME = 'results-downloaded.json'\n",
    "\n",
    "aws_s3.download_file(Bucket=s3_bucket_name,\n",
    "                     Key=s3_directory + '/results.json',\n",
    "                     Filename=RESULTS_JSON_FILENAME)"
   ]
  },
  {
   "cell_type": "code",
   "execution_count": 7,
   "id": "ba46239c-e4bc-4b6f-90b3-886761d555e7",
   "metadata": {},
   "outputs": [],
   "source": [
    "with open(RESULTS_JSON_FILENAME) as json_file:\n",
    "    \n",
    "    result_dict = json.load(json_file)\n",
    "    "
   ]
  },
  {
   "cell_type": "code",
   "execution_count": 8,
   "id": "1c8cf58d-b0a6-434f-b5bb-df3df95d8524",
   "metadata": {},
   "outputs": [],
   "source": [
    "# result_dict['measurements'][0]"
   ]
  },
  {
   "cell_type": "code",
   "execution_count": 40,
   "id": "cccfc412-e151-4397-abf0-0b5868617cef",
   "metadata": {},
   "outputs": [],
   "source": [
    "qasm_string = result_dict['additionalMetadata']['action']['source']\n",
    "\n",
    "# print(QASM_string)"
   ]
  },
  {
   "cell_type": "code",
   "execution_count": 53,
   "id": "fb2856fe-c199-4793-80ec-ff709ffa40e2",
   "metadata": {},
   "outputs": [],
   "source": [
    "def print_qasm(qasm_string):\n",
    "    \n",
    "    qasm_lines = qasm_string.splitlines()\n",
    "    \n",
    "    for line_number, line in enumerate(qasm_lines, 1):\n",
    "    \n",
    "        print(f\"{line_number:2<}    {line}\")"
   ]
  },
  {
   "cell_type": "code",
   "execution_count": 54,
   "id": "1013d542-6155-4478-a1c9-1aea39647dfd",
   "metadata": {},
   "outputs": [],
   "source": [
    "from qiskit import qasm3, QuantumCircuit\n",
    "\n",
    "import qiskit.qasm3"
   ]
  },
  {
   "cell_type": "code",
   "execution_count": 70,
   "id": "58c1e2d3-be76-437e-804b-c254e16a79f1",
   "metadata": {},
   "outputs": [],
   "source": [
    "qc = QuantumCircuit(2,1)\n",
    "qc.h(0)\n",
    "qc.cx(0, 1)\n",
    "qc.measure(0,0)\n",
    "# qc.x(1).c_if(0, 0)\n",
    "\n",
    "\n",
    "example_qasm_string = qasm3.dumps(qc)"
   ]
  },
  {
   "cell_type": "code",
   "execution_count": 71,
   "id": "bc184499-a470-4ffb-9fe7-8325e8f9a701",
   "metadata": {},
   "outputs": [
    {
     "name": "stdout",
     "output_type": "stream",
     "text": [
      "1    OPENQASM 3;\n",
      "2    include \"stdgates.inc\";\n",
      "3    bit[1] c;\n",
      "4    qubit[2] _all_qubits;\n",
      "5    let q = _all_qubits[0:1];\n",
      "6    h q[0];\n",
      "7    cx q[0], q[1];\n",
      "8    c[0] = measure q[0];\n"
     ]
    }
   ],
   "source": [
    "print_qasm(example_qasm_string)"
   ]
  },
  {
   "cell_type": "code",
   "execution_count": 72,
   "id": "213cdeed-adc6-4483-9a30-54e90856e203",
   "metadata": {},
   "outputs": [
    {
     "data": {
      "text/html": [
       "<pre style=\"word-wrap: normal;white-space: pre;background: #fff0;line-height: 1.1;font-family: &quot;Courier New&quot;,Courier,monospace\">                   ┌───┐     ┌─┐\n",
       "esc__all_qubits_0: ┤ H ├──■──┤M├\n",
       "                   └───┘┌─┴─┐└╥┘\n",
       "esc__all_qubits_1: ─────┤ X ├─╫─\n",
       "                        └───┘ ║ \n",
       "              c: 1/═══════════╩═\n",
       "                              0 </pre>"
      ],
      "text/plain": [
       "                   ┌───┐     ┌─┐\n",
       "esc__all_qubits_0: ┤ H ├──■──┤M├\n",
       "                   └───┘┌─┴─┐└╥┘\n",
       "esc__all_qubits_1: ─────┤ X ├─╫─\n",
       "                        └───┘ ║ \n",
       "              c: 1/═══════════╩═\n",
       "                              0 "
      ]
     },
     "execution_count": 72,
     "metadata": {},
     "output_type": "execute_result"
    }
   ],
   "source": [
    "circuit = qasm3.loads(example_qasm_string)\n",
    "\n",
    "circuit.draw()"
   ]
  },
  {
   "cell_type": "code",
   "execution_count": 73,
   "id": "a5e9b768-be66-4436-a049-03f4d2c12ea1",
   "metadata": {},
   "outputs": [
    {
     "name": "stdout",
     "output_type": "stream",
     "text": [
      "1    OPENQASM 3.0;\n",
      "2    qubit[28] q;\n",
      "3    ry(0.0) q[0];\n",
      "4    ry(0.0) q[1];\n",
      "5    ry(0.0) q[2];\n",
      "6    ry(0.0) q[3];\n",
      "7    ry(0.0) q[4];\n",
      "8    ry(0.0) q[5];\n",
      "9    ry(0.0) q[6];\n",
      "10    ry(0.0) q[7];\n",
      "11    ry(0.0) q[8];\n",
      "12    ry(0.0) q[9];\n",
      "13    ry(0.0) q[10];\n",
      "14    ry(0.0) q[11];\n",
      "15    ry(0.0) q[12];\n",
      "16    ry(0.0) q[13];\n",
      "17    ry(0.0) q[14];\n",
      "18    ry(0.0) q[15];\n",
      "19    ry(0.0) q[16];\n",
      "20    ry(0.0) q[17];\n",
      "21    ry(0.0) q[18];\n",
      "22    ry(0.0) q[19];\n",
      "23    ry(0.0) q[20];\n",
      "24    ry(0.0) q[21];\n",
      "25    ry(0.0) q[22];\n",
      "26    ry(0.0) q[23];\n",
      "27    ry(0.0) q[24];\n",
      "28    ry(0.0) q[25];\n",
      "29    ry(0.0) q[26];\n",
      "30    ry(0.0) q[27];\n",
      "31    rx(0.8756000370805986) q[27];\n",
      "32    cnot q[0], q[5];\n",
      "33    cnot q[4], q[25];\n",
      "34    rx(5.246021396377329) q[18];\n",
      "35    cnot q[10], q[23];\n",
      "36    cnot q[0], q[15];\n",
      "37    ry(6.185181318152103) q[14];\n",
      "38    ry(3.3030088295727937) q[7];\n",
      "39    ry(1.0786927663891448) q[20];\n",
      "40    cnot q[18], q[20];\n",
      "41    ry(1.710957393023853) q[5];\n",
      "42    cnot q[20], q[6];\n",
      "43    rz(0.11555202867213518) q[4];\n",
      "44    ry(5.744708827752758) q[4];\n",
      "45    cnot q[23], q[1];\n",
      "46    ry(0.7398518739198203) q[9];\n",
      "47    rz(3.622359848298118) q[10];\n",
      "48    ry(1.7219397359777118) q[5];\n",
      "49    cnot q[21], q[23];\n",
      "50    rz(3.482003082969365) q[9];\n",
      "51    ry(4.092995012889653) q[0];\n",
      "52    ry(5.2134215098057775) q[20];\n",
      "53    cnot q[15], q[13];\n",
      "54    rx(1.2969831018155464) q[9];\n",
      "55    cnot q[9], q[21];\n",
      "56    rx(0.06908882906722875) q[15];\n",
      "57    ry(0.86007777961235) q[4];\n",
      "58    ry(5.6549839066477405) q[8];\n",
      "59    ry(5.490813295430825) q[13];\n",
      "60    rz(3.753657225873058) q[12];\n",
      "61    cnot q[15], q[8];\n",
      "62    rz(3.773158714190345) q[27];\n",
      "63    ry(4.178548662244605) q[22];\n",
      "64    rz(1.101890241148156) q[19];\n",
      "65    ry(5.745419703345202) q[23];\n",
      "66    rz(2.631212809081757) q[19];\n",
      "67    cnot q[16], q[10];\n",
      "68    cnot q[22], q[26];\n",
      "69    ry(2.4073303713116534) q[0];\n",
      "70    rz(3.2604561014684714) q[9];\n",
      "71    cnot q[25], q[6];\n",
      "72    ry(0.2950958723785105) q[15];\n",
      "73    #pragma braket result expectation z(q[0])\n",
      "74    #pragma braket result expectation z(q[1])\n",
      "75    #pragma braket result expectation z(q[2])\n",
      "76    #pragma braket result expectation z(q[3])\n",
      "77    #pragma braket result expectation z(q[4])\n",
      "78    #pragma braket result expectation z(q[5])\n",
      "79    #pragma braket result expectation z(q[6])\n",
      "80    #pragma braket result expectation z(q[7])\n",
      "81    #pragma braket result expectation z(q[8])\n",
      "82    #pragma braket result expectation z(q[9])\n",
      "83    #pragma braket result expectation z(q[10])\n",
      "84    #pragma braket result expectation z(q[11])\n",
      "85    #pragma braket result expectation z(q[12])\n",
      "86    #pragma braket result expectation z(q[13])\n",
      "87    #pragma braket result expectation z(q[14])\n",
      "88    #pragma braket result expectation z(q[15])\n",
      "89    #pragma braket result expectation z(q[16])\n",
      "90    #pragma braket result expectation z(q[17])\n",
      "91    #pragma braket result expectation z(q[18])\n",
      "92    #pragma braket result expectation z(q[19])\n",
      "93    #pragma braket result expectation z(q[20])\n",
      "94    #pragma braket result expectation z(q[21])\n",
      "95    #pragma braket result expectation z(q[22])\n",
      "96    #pragma braket result expectation z(q[23])\n",
      "97    #pragma braket result expectation z(q[24])\n",
      "98    #pragma braket result expectation z(q[25])\n",
      "99    #pragma braket result expectation z(q[26])\n",
      "100    #pragma braket result expectation z(q[27])\n"
     ]
    }
   ],
   "source": [
    "print_qasm(qasm_string)"
   ]
  },
  {
   "cell_type": "code",
   "execution_count": 74,
   "id": "a95d3768-2f9c-45d9-8142-cacfa53e461b",
   "metadata": {},
   "outputs": [
    {
     "ename": "QASM3ImporterError",
     "evalue": "\"3,0: gate 'ry' is not defined.\"",
     "output_type": "error",
     "traceback": [
      "\u001b[0;31m---------------------------------------------------------------------------\u001b[0m",
      "\u001b[0;31mConversionError\u001b[0m                           Traceback (most recent call last)",
      "File \u001b[0;32m~/.local/lib/python3.8/site-packages/qiskit/qasm3/__init__.py:200\u001b[0m, in \u001b[0;36mloads\u001b[0;34m(program)\u001b[0m\n\u001b[1;32m    199\u001b[0m \u001b[38;5;28;01mtry\u001b[39;00m:\n\u001b[0;32m--> 200\u001b[0m     \u001b[38;5;28;01mreturn\u001b[39;00m \u001b[43mqiskit_qasm3_import\u001b[49m\u001b[38;5;241;43m.\u001b[39;49m\u001b[43mparse\u001b[49m\u001b[43m(\u001b[49m\u001b[43mprogram\u001b[49m\u001b[43m)\u001b[49m\n\u001b[1;32m    201\u001b[0m \u001b[38;5;28;01mexcept\u001b[39;00m qiskit_qasm3_import\u001b[38;5;241m.\u001b[39mConversionError \u001b[38;5;28;01mas\u001b[39;00m exc:\n",
      "File \u001b[0;32m~/.local/lib/python3.8/site-packages/qiskit_qasm3_import/api.py:16\u001b[0m, in \u001b[0;36mparse\u001b[0;34m(string)\u001b[0m\n\u001b[1;32m     14\u001b[0m \u001b[38;5;124;03m\"\"\"Wrapper around :func:`.convert`, which first parses the OpenQASM 3 program into AST form, and\u001b[39;00m\n\u001b[1;32m     15\u001b[0m \u001b[38;5;124;03mthen converts the output to Qiskit format.\"\"\"\u001b[39;00m\n\u001b[0;32m---> 16\u001b[0m \u001b[38;5;28;01mreturn\u001b[39;00m \u001b[43mconvert\u001b[49m\u001b[43m(\u001b[49m\u001b[43mopenqasm3\u001b[49m\u001b[38;5;241;43m.\u001b[39;49m\u001b[43mparse\u001b[49m\u001b[43m(\u001b[49m\u001b[43mstring\u001b[49m\u001b[43m)\u001b[49m\u001b[43m)\u001b[49m\n",
      "File \u001b[0;32m~/.local/lib/python3.8/site-packages/qiskit_qasm3_import/api.py:10\u001b[0m, in \u001b[0;36mconvert\u001b[0;34m(node)\u001b[0m\n\u001b[1;32m      8\u001b[0m \u001b[38;5;124;03m\"\"\"Convert a parsed OpenQASM 3 program in AST form, into a Qiskit\u001b[39;00m\n\u001b[1;32m      9\u001b[0m \u001b[38;5;124;03m:class:`~qiskit.circuit.QuantumCircuit`.\"\"\"\u001b[39;00m\n\u001b[0;32m---> 10\u001b[0m \u001b[38;5;28;01mreturn\u001b[39;00m \u001b[43mConvertVisitor\u001b[49m\u001b[43m(\u001b[49m\u001b[43m)\u001b[49m\u001b[38;5;241;43m.\u001b[39;49m\u001b[43mconvert\u001b[49m\u001b[43m(\u001b[49m\u001b[43mnode\u001b[49m\u001b[43m)\u001b[49m\n",
      "File \u001b[0;32m~/.local/lib/python3.8/site-packages/qiskit_qasm3_import/converter.py:192\u001b[0m, in \u001b[0;36mConvertVisitor.convert\u001b[0;34m(self, node, source)\u001b[0m\n\u001b[1;32m    189\u001b[0m \u001b[38;5;124;03m\"\"\"Convert a program node into a :class:`~qiskit.circuit.QuantumCircuit`.  If given,\u001b[39;00m\n\u001b[1;32m    190\u001b[0m \u001b[38;5;124;03m`source` is a string containing the OpenQASM 3 source code that was parsed into `node`.\u001b[39;00m\n\u001b[1;32m    191\u001b[0m \u001b[38;5;124;03mThis is used to generated improved error messages.\"\"\"\u001b[39;00m\n\u001b[0;32m--> 192\u001b[0m \u001b[38;5;28;01mreturn\u001b[39;00m \u001b[38;5;28;43mself\u001b[39;49m\u001b[38;5;241;43m.\u001b[39;49m\u001b[43mvisit\u001b[49m\u001b[43m(\u001b[49m\u001b[43mnode\u001b[49m\u001b[43m,\u001b[49m\u001b[43m \u001b[49m\u001b[43mState\u001b[49m\u001b[43m(\u001b[49m\u001b[43mScope\u001b[49m\u001b[38;5;241;43m.\u001b[39;49m\u001b[43mGLOBAL\u001b[49m\u001b[43m,\u001b[49m\u001b[43m \u001b[49m\u001b[43msource\u001b[49m\u001b[43m)\u001b[49m\u001b[43m)\u001b[49m\u001b[38;5;241m.\u001b[39mcircuit\n",
      "File \u001b[0;32m~/.local/lib/python3.8/site-packages/openqasm3/visitor.py:44\u001b[0m, in \u001b[0;36mQASMVisitor.visit\u001b[0;34m(self, node, context)\u001b[0m\n\u001b[1;32m     43\u001b[0m \u001b[38;5;28;01mif\u001b[39;00m context:\n\u001b[0;32m---> 44\u001b[0m     \u001b[38;5;28;01mreturn\u001b[39;00m \u001b[43mvisitor\u001b[49m\u001b[43m(\u001b[49m\u001b[43mnode\u001b[49m\u001b[43m,\u001b[49m\u001b[43m \u001b[49m\u001b[43mcontext\u001b[49m\u001b[43m)\u001b[49m\n\u001b[1;32m     45\u001b[0m \u001b[38;5;28;01melse\u001b[39;00m:\n",
      "File \u001b[0;32m~/.local/lib/python3.8/site-packages/qiskit_qasm3_import/converter.py:331\u001b[0m, in \u001b[0;36mConvertVisitor.visit_Program\u001b[0;34m(self, node, context)\u001b[0m\n\u001b[1;32m    330\u001b[0m \u001b[38;5;28;01mfor\u001b[39;00m statement \u001b[38;5;129;01min\u001b[39;00m node\u001b[38;5;241m.\u001b[39mstatements:\n\u001b[0;32m--> 331\u001b[0m     context \u001b[38;5;241m=\u001b[39m \u001b[38;5;28;43mself\u001b[39;49m\u001b[38;5;241;43m.\u001b[39;49m\u001b[43mvisit\u001b[49m\u001b[43m(\u001b[49m\u001b[43mstatement\u001b[49m\u001b[43m,\u001b[49m\u001b[43m \u001b[49m\u001b[43mcontext\u001b[49m\u001b[43m)\u001b[49m\n\u001b[1;32m    332\u001b[0m \u001b[38;5;28;01mreturn\u001b[39;00m context\n",
      "File \u001b[0;32m~/.local/lib/python3.8/site-packages/openqasm3/visitor.py:44\u001b[0m, in \u001b[0;36mQASMVisitor.visit\u001b[0;34m(self, node, context)\u001b[0m\n\u001b[1;32m     43\u001b[0m \u001b[38;5;28;01mif\u001b[39;00m context:\n\u001b[0;32m---> 44\u001b[0m     \u001b[38;5;28;01mreturn\u001b[39;00m \u001b[43mvisitor\u001b[49m\u001b[43m(\u001b[49m\u001b[43mnode\u001b[49m\u001b[43m,\u001b[49m\u001b[43m \u001b[49m\u001b[43mcontext\u001b[49m\u001b[43m)\u001b[49m\n\u001b[1;32m     45\u001b[0m \u001b[38;5;28;01melse\u001b[39;00m:\n",
      "File \u001b[0;32m~/.local/lib/python3.8/site-packages/qiskit_qasm3_import/converter.py:382\u001b[0m, in \u001b[0;36mConvertVisitor.visit_QuantumGate\u001b[0;34m(self, node, context)\u001b[0m\n\u001b[1;32m    381\u001b[0m \u001b[38;5;28;01mif\u001b[39;00m (gate_symbol \u001b[38;5;241m:=\u001b[39m context\u001b[38;5;241m.\u001b[39msymbol_table\u001b[38;5;241m.\u001b[39mget(node\u001b[38;5;241m.\u001b[39mname\u001b[38;5;241m.\u001b[39mname)) \u001b[38;5;129;01mis\u001b[39;00m \u001b[38;5;28;01mNone\u001b[39;00m:\n\u001b[0;32m--> 382\u001b[0m     \u001b[43mraise_from_node\u001b[49m\u001b[43m(\u001b[49m\u001b[43mnode\u001b[49m\u001b[43m,\u001b[49m\u001b[43m \u001b[49m\u001b[38;5;124;43mf\u001b[39;49m\u001b[38;5;124;43m\"\u001b[39;49m\u001b[38;5;124;43mgate \u001b[39;49m\u001b[38;5;124;43m'\u001b[39;49m\u001b[38;5;132;43;01m{\u001b[39;49;00m\u001b[43mnode\u001b[49m\u001b[38;5;241;43m.\u001b[39;49m\u001b[43mname\u001b[49m\u001b[38;5;241;43m.\u001b[39;49m\u001b[43mname\u001b[49m\u001b[38;5;132;43;01m}\u001b[39;49;00m\u001b[38;5;124;43m'\u001b[39;49m\u001b[38;5;124;43m is not defined.\u001b[39;49m\u001b[38;5;124;43m\"\u001b[39;49m\u001b[43m)\u001b[49m\n\u001b[1;32m    383\u001b[0m \u001b[38;5;28;01mif\u001b[39;00m \u001b[38;5;129;01mnot\u001b[39;00m \u001b[38;5;28misinstance\u001b[39m(gate_symbol\u001b[38;5;241m.\u001b[39mtype, types\u001b[38;5;241m.\u001b[39mGate):\n",
      "File \u001b[0;32m~/.local/lib/python3.8/site-packages/qiskit_qasm3_import/exceptions.py:16\u001b[0m, in \u001b[0;36mraise_from_node\u001b[0;34m(node, message)\u001b[0m\n\u001b[1;32m     15\u001b[0m     message \u001b[38;5;241m=\u001b[39m \u001b[38;5;124mf\u001b[39m\u001b[38;5;124m\"\u001b[39m\u001b[38;5;132;01m{\u001b[39;00mnode\u001b[38;5;241m.\u001b[39mspan\u001b[38;5;241m.\u001b[39mstart_line\u001b[38;5;132;01m}\u001b[39;00m\u001b[38;5;124m,\u001b[39m\u001b[38;5;132;01m{\u001b[39;00mnode\u001b[38;5;241m.\u001b[39mspan\u001b[38;5;241m.\u001b[39mstart_column\u001b[38;5;132;01m}\u001b[39;00m\u001b[38;5;124m: \u001b[39m\u001b[38;5;132;01m{\u001b[39;00mmessage\u001b[38;5;132;01m}\u001b[39;00m\u001b[38;5;124m\"\u001b[39m\n\u001b[0;32m---> 16\u001b[0m \u001b[38;5;28;01mraise\u001b[39;00m ConversionError(message)\n",
      "\u001b[0;31mConversionError\u001b[0m: 3,0: gate 'ry' is not defined.",
      "\nThe above exception was the direct cause of the following exception:\n",
      "\u001b[0;31mQASM3ImporterError\u001b[0m                        Traceback (most recent call last)",
      "Input \u001b[0;32mIn [74]\u001b[0m, in \u001b[0;36m<cell line: 1>\u001b[0;34m()\u001b[0m\n\u001b[0;32m----> 1\u001b[0m circuit \u001b[38;5;241m=\u001b[39m \u001b[43mqasm3\u001b[49m\u001b[38;5;241;43m.\u001b[39;49m\u001b[43mloads\u001b[49m\u001b[43m(\u001b[49m\u001b[43mqasm_string\u001b[49m\u001b[43m)\u001b[49m\n\u001b[1;32m      3\u001b[0m circuit\u001b[38;5;241m.\u001b[39mdraw()\n",
      "File \u001b[0;32m~/.local/lib/python3.8/site-packages/qiskit/utils/lazy_tester.py:149\u001b[0m, in \u001b[0;36mLazyDependencyManager.require_in_call.<locals>.decorator.<locals>.out\u001b[0;34m(*args, **kwargs)\u001b[0m\n\u001b[1;32m    146\u001b[0m \u001b[38;5;129m@functools\u001b[39m\u001b[38;5;241m.\u001b[39mwraps(function)\n\u001b[1;32m    147\u001b[0m \u001b[38;5;28;01mdef\u001b[39;00m \u001b[38;5;21mout\u001b[39m(\u001b[38;5;241m*\u001b[39margs, \u001b[38;5;241m*\u001b[39m\u001b[38;5;241m*\u001b[39mkwargs):\n\u001b[1;32m    148\u001b[0m     \u001b[38;5;28mself\u001b[39m\u001b[38;5;241m.\u001b[39mrequire_now(feature)\n\u001b[0;32m--> 149\u001b[0m     \u001b[38;5;28;01mreturn\u001b[39;00m \u001b[43mfunction\u001b[49m\u001b[43m(\u001b[49m\u001b[38;5;241;43m*\u001b[39;49m\u001b[43margs\u001b[49m\u001b[43m,\u001b[49m\u001b[43m \u001b[49m\u001b[38;5;241;43m*\u001b[39;49m\u001b[38;5;241;43m*\u001b[39;49m\u001b[43mkwargs\u001b[49m\u001b[43m)\u001b[49m\n",
      "File \u001b[0;32m~/.local/lib/python3.8/site-packages/qiskit/qasm3/__init__.py:202\u001b[0m, in \u001b[0;36mloads\u001b[0;34m(program)\u001b[0m\n\u001b[1;32m    200\u001b[0m     \u001b[38;5;28;01mreturn\u001b[39;00m qiskit_qasm3_import\u001b[38;5;241m.\u001b[39mparse(program)\n\u001b[1;32m    201\u001b[0m \u001b[38;5;28;01mexcept\u001b[39;00m qiskit_qasm3_import\u001b[38;5;241m.\u001b[39mConversionError \u001b[38;5;28;01mas\u001b[39;00m exc:\n\u001b[0;32m--> 202\u001b[0m     \u001b[38;5;28;01mraise\u001b[39;00m QASM3ImporterError(\u001b[38;5;28mstr\u001b[39m(exc)) \u001b[38;5;28;01mfrom\u001b[39;00m \u001b[38;5;21;01mexc\u001b[39;00m\n",
      "\u001b[0;31mQASM3ImporterError\u001b[0m: \"3,0: gate 'ry' is not defined.\""
     ]
    }
   ],
   "source": [
    "circuit = qasm3.loads(qasm_string)\n",
    "\n",
    "circuit.draw()"
   ]
  },
  {
   "cell_type": "code",
   "execution_count": null,
   "id": "4ca29839-7f38-4c3a-8c14-307877283033",
   "metadata": {},
   "outputs": [],
   "source": []
  },
  {
   "cell_type": "markdown",
   "id": "8538c02d-4c04-4679-9a8c-0848f99c6cef",
   "metadata": {},
   "source": [
    "### AWS S3 Examples"
   ]
  },
  {
   "cell_type": "code",
   "execution_count": 27,
   "id": "e5e88601-a117-4c27-8ee1-bc055619d66a",
   "metadata": {},
   "outputs": [],
   "source": [
    "aws_s3.upload_file(Filename='test.txt', \n",
    "                   Bucket='test-braket-bucket', \n",
    "                   Key='test-remote.txt')"
   ]
  },
  {
   "cell_type": "code",
   "execution_count": 28,
   "id": "a16359b0-b239-46e8-8c65-3c3489d6de8d",
   "metadata": {},
   "outputs": [],
   "source": [
    "aws_s3.download_file(Bucket='test-braket-bucket',\n",
    "                     Key='test-remote.txt',\n",
    "                     Filename='test-downloaded.txt')"
   ]
  },
  {
   "cell_type": "code",
   "execution_count": 30,
   "id": "a8535b10-60e4-4283-bafc-2d90a1770b68",
   "metadata": {},
   "outputs": [
    {
     "name": "stdout",
     "output_type": "stream",
     "text": [
      "Test Task\n"
     ]
    }
   ],
   "source": [
    "with open('test-downloaded.txt') as file:\n",
    "\n",
    "    print(file.read())"
   ]
  },
  {
   "cell_type": "code",
   "execution_count": null,
   "id": "00e8038e-514f-47b0-bf1c-0e7a2f2db987",
   "metadata": {},
   "outputs": [],
   "source": []
  }
 ],
 "metadata": {
  "kernelspec": {
   "display_name": "Python 3 (ipykernel)",
   "language": "python",
   "name": "python3"
  },
  "language_info": {
   "codemirror_mode": {
    "name": "ipython",
    "version": 3
   },
   "file_extension": ".py",
   "mimetype": "text/x-python",
   "name": "python",
   "nbconvert_exporter": "python",
   "pygments_lexer": "ipython3",
   "version": "3.8.10"
  }
 },
 "nbformat": 4,
 "nbformat_minor": 5
}
