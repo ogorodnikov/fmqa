{
 "cells": [
  {
   "cell_type": "code",
   "execution_count": 1,
   "id": "30a27284-3541-4771-b274-12e2201bc966",
   "metadata": {},
   "outputs": [],
   "source": [
    "import boto3\n",
    "import botocore\n",
    "\n",
    "import json"
   ]
  },
  {
   "cell_type": "code",
   "execution_count": 2,
   "id": "b71875c9-8209-4a4c-8afc-d265a30d2a4d",
   "metadata": {},
   "outputs": [],
   "source": [
    "# AWS Clients\n",
    "\n",
    "braket_config = botocore.client.Config(user_agent_extra=\"BraketSchemas/1.8.0\")\n",
    "\n",
    "aws_braket = boto3.client(\"braket\", config=braket_config)\n",
    "aws_s3 = boto3.client(\"s3\")"
   ]
  },
  {
   "cell_type": "code",
   "execution_count": 3,
   "id": "95275fcc-f302-4cb4-a997-c42943708e56",
   "metadata": {},
   "outputs": [],
   "source": [
    "# Load info for Tasks simulated on SV1\n",
    "\n",
    "SV1_ARN = 'arn:aws:braket:::device/quantum-simulator/amazon/sv1'\n",
    "\n",
    "response = aws_braket.search_quantum_tasks(filters=[{\n",
    "    'name': 'deviceArn',\n",
    "    'operator': 'EQUAL',\n",
    "    'values': [SV1_ARN]\n",
    "}], maxResults=25)"
   ]
  },
  {
   "cell_type": "code",
   "execution_count": 4,
   "id": "d7354598-429b-42d8-8fa2-6277452ea64c",
   "metadata": {},
   "outputs": [
    {
     "data": {
      "text/plain": [
       "{'createdAt': datetime.datetime(2023, 2, 28, 16, 55, 2, 235000, tzinfo=tzutc()),\n",
       " 'deviceArn': 'arn:aws:braket:::device/quantum-simulator/amazon/sv1',\n",
       " 'endedAt': datetime.datetime(2023, 2, 28, 16, 55, 11, 962000, tzinfo=tzutc()),\n",
       " 'outputS3Bucket': 'amazon-braket-us-east-1-196332284574',\n",
       " 'outputS3Directory': 'tasks/9581aea9-5357-4dba-bf3e-f97e19d5750e',\n",
       " 'quantumTaskArn': 'arn:aws:braket:us-east-1:196332284574:quantum-task/9581aea9-5357-4dba-bf3e-f97e19d5750e',\n",
       " 'shots': 1000,\n",
       " 'status': 'COMPLETED',\n",
       " 'tags': {}}"
      ]
     },
     "execution_count": 4,
     "metadata": {},
     "output_type": "execute_result"
    }
   ],
   "source": [
    "quantum_tasks = response['quantumTasks']\n",
    "\n",
    "quantum_task = quantum_tasks[0]\n",
    "\n",
    "quantum_task"
   ]
  },
  {
   "cell_type": "code",
   "execution_count": 5,
   "id": "5868f958-44fe-4c48-98fb-a0fb09080f88",
   "metadata": {},
   "outputs": [
    {
     "data": {
      "text/plain": [
       "('amazon-braket-us-east-1-196332284574',\n",
       " 'tasks/9581aea9-5357-4dba-bf3e-f97e19d5750e')"
      ]
     },
     "execution_count": 5,
     "metadata": {},
     "output_type": "execute_result"
    }
   ],
   "source": [
    "s3_bucket_name = quantum_task['outputS3Bucket']\n",
    "s3_directory = quantum_task['outputS3Directory']\n",
    "    \n",
    "s3_bucket_name, s3_directory"
   ]
  },
  {
   "cell_type": "code",
   "execution_count": 6,
   "id": "56f7acb0-422f-4f6e-a7c3-20330ae07700",
   "metadata": {},
   "outputs": [],
   "source": [
    "# Download JSON\n",
    "\n",
    "RESULTS_JSON_FILENAME = 'results-downloaded.json'\n",
    "\n",
    "aws_s3.download_file(Bucket=s3_bucket_name,\n",
    "                     Key=s3_directory + '/results.json',\n",
    "                     Filename=RESULTS_JSON_FILENAME)"
   ]
  },
  {
   "cell_type": "code",
   "execution_count": 7,
   "id": "ba46239c-e4bc-4b6f-90b3-886761d555e7",
   "metadata": {},
   "outputs": [],
   "source": [
    "with open(RESULTS_JSON_FILENAME) as json_file:\n",
    "    \n",
    "    result_dict = json.load(json_file)\n",
    "    "
   ]
  },
  {
   "cell_type": "code",
   "execution_count": 9,
   "id": "1c8cf58d-b0a6-434f-b5bb-df3df95d8524",
   "metadata": {},
   "outputs": [],
   "source": [
    "# result_dict['measurements'][0]"
   ]
  },
  {
   "cell_type": "markdown",
   "id": "8538c02d-4c04-4679-9a8c-0848f99c6cef",
   "metadata": {},
   "source": [
    "### AWS S3 Examples"
   ]
  },
  {
   "cell_type": "code",
   "execution_count": 27,
   "id": "e5e88601-a117-4c27-8ee1-bc055619d66a",
   "metadata": {},
   "outputs": [],
   "source": [
    "aws_s3.upload_file(Filename='test.txt', \n",
    "                   Bucket='test-braket-bucket', \n",
    "                   Key='test-remote.txt')"
   ]
  },
  {
   "cell_type": "code",
   "execution_count": 28,
   "id": "a16359b0-b239-46e8-8c65-3c3489d6de8d",
   "metadata": {},
   "outputs": [],
   "source": [
    "aws_s3.download_file(Bucket='test-braket-bucket',\n",
    "                     Key='test-remote.txt',\n",
    "                     Filename='test-downloaded.txt')"
   ]
  },
  {
   "cell_type": "code",
   "execution_count": 30,
   "id": "a8535b10-60e4-4283-bafc-2d90a1770b68",
   "metadata": {},
   "outputs": [
    {
     "name": "stdout",
     "output_type": "stream",
     "text": [
      "Test Task\n"
     ]
    }
   ],
   "source": [
    "with open('test-downloaded.txt') as file:\n",
    "\n",
    "    print(file.read())"
   ]
  },
  {
   "cell_type": "code",
   "execution_count": null,
   "id": "00e8038e-514f-47b0-bf1c-0e7a2f2db987",
   "metadata": {},
   "outputs": [],
   "source": []
  }
 ],
 "metadata": {
  "kernelspec": {
   "display_name": "Python 3 (ipykernel)",
   "language": "python",
   "name": "python3"
  },
  "language_info": {
   "codemirror_mode": {
    "name": "ipython",
    "version": 3
   },
   "file_extension": ".py",
   "mimetype": "text/x-python",
   "name": "python",
   "nbconvert_exporter": "python",
   "pygments_lexer": "ipython3",
   "version": "3.8.10"
  }
 },
 "nbformat": 4,
 "nbformat_minor": 5
}
