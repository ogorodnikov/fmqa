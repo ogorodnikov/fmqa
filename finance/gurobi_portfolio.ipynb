{
 "cells": [
  {
   "cell_type": "code",
   "execution_count": 3,
   "id": "39cf0aa2-877d-4203-9c5e-66937153fd10",
   "metadata": {},
   "outputs": [
    {
     "name": "stderr",
     "output_type": "stream",
     "text": [
      "W1110 16:52:53.381542  5341 linear_solver.cc:625] Support for GUROBI not linked in, or the license was not found.\n"
     ]
    }
   ],
   "source": [
    "from ortools.linear_solver import pywraplp\n",
    "\n",
    "solver = pywraplp.Solver.CreateSolver('GUROBI')"
   ]
  },
  {
   "cell_type": "code",
   "execution_count": 1,
   "id": "4ee18772-eb1d-446b-91c9-26cad62d717e",
   "metadata": {},
   "outputs": [
    {
     "ename": "ModuleNotFoundError",
     "evalue": "No module named 'gurobipy'",
     "output_type": "error",
     "traceback": [
      "\u001b[0;31m---------------------------------------------------------------------------\u001b[0m",
      "\u001b[0;31mModuleNotFoundError\u001b[0m                       Traceback (most recent call last)",
      "Input \u001b[0;32mIn [1]\u001b[0m, in \u001b[0;36m<cell line: 22>\u001b[0;34m()\u001b[0m\n\u001b[1;32m      1\u001b[0m \u001b[38;5;66;03m#!/usr/bin/env python3.7\u001b[39;00m\n\u001b[1;32m      2\u001b[0m \n\u001b[1;32m      3\u001b[0m \u001b[38;5;66;03m# Copyright 2022, Gurobi Optimization, LLC\u001b[39;00m\n\u001b[0;32m   (...)\u001b[0m\n\u001b[1;32m     19\u001b[0m \u001b[38;5;66;03m# packages aren't included in all Python distributions, but are\u001b[39;00m\n\u001b[1;32m     20\u001b[0m \u001b[38;5;66;03m# included by default with Anaconda Python.\u001b[39;00m\n\u001b[0;32m---> 22\u001b[0m \u001b[38;5;28;01mimport\u001b[39;00m \u001b[38;5;21;01mgurobipy\u001b[39;00m \u001b[38;5;28;01mas\u001b[39;00m \u001b[38;5;21;01mgp\u001b[39;00m\n\u001b[1;32m     23\u001b[0m \u001b[38;5;28;01mfrom\u001b[39;00m \u001b[38;5;21;01mgurobipy\u001b[39;00m \u001b[38;5;28;01mimport\u001b[39;00m GRB\n\u001b[1;32m     24\u001b[0m \u001b[38;5;28;01mfrom\u001b[39;00m \u001b[38;5;21;01mmath\u001b[39;00m \u001b[38;5;28;01mimport\u001b[39;00m sqrt\n",
      "\u001b[0;31mModuleNotFoundError\u001b[0m: No module named 'gurobipy'"
     ]
    }
   ],
   "source": [
    "#!/usr/bin/env python3.7\n",
    "\n",
    "# Copyright 2022, Gurobi Optimization, LLC\n",
    "\n",
    "# Portfolio selection: given a sum of money to invest, one must decide how to\n",
    "# spend it amongst a portfolio of financial securities.  Our approach is due\n",
    "# to Markowitz (1959) and looks to minimize the risk associated with the\n",
    "# investment while realizing a target expected return.  By varying the target,\n",
    "# one can compute an 'efficient frontier', which defines the optimal portfolio\n",
    "# for a given expected return.\n",
    "#\n",
    "# Note that this example reads historical return data from a comma-separated\n",
    "# file (../data/portfolio.csv).  As a result, it must be run from the Gurobi\n",
    "# examples/python directory.\n",
    "#\n",
    "# This example requires the pandas (>= 0.20.3), NumPy, and Matplotlib\n",
    "# Python packages, which are part of the SciPy ecosystem for\n",
    "# mathematics, science, and engineering (http://scipy.org).  These\n",
    "# packages aren't included in all Python distributions, but are\n",
    "# included by default with Anaconda Python.\n",
    "\n",
    "import gurobipy as gp\n",
    "from gurobipy import GRB\n",
    "from math import sqrt\n",
    "import pandas as pd\n",
    "import numpy as np\n",
    "import matplotlib\n",
    "matplotlib.use('Agg')\n",
    "import matplotlib.pyplot as plt"
   ]
  },
  {
   "cell_type": "code",
   "execution_count": null,
   "id": "6a332fc3-0bfe-4176-bfe7-e6cdd5f34fe8",
   "metadata": {},
   "outputs": [],
   "source": [
    "# Import (normalized) historical return data using pandas\n",
    "data = pd.read_csv('../data/portfolio.csv', index_col=0)\n",
    "stocks = data.columns\n",
    "\n",
    "# Calculate basic summary statistics for individual stocks\n",
    "stock_volatility = data.std()\n",
    "stock_return = data.mean()\n",
    "\n",
    "# Create an empty model\n",
    "m = gp.Model('portfolio')\n",
    "\n",
    "# Add a variable for each stock\n",
    "vars = pd.Series(m.addVars(stocks), index=stocks)\n",
    "\n",
    "# Objective is to minimize risk (squared).  This is modeled using the\n",
    "# covariance matrix, which measures the historical correlation between stocks.\n",
    "sigma = data.cov()\n",
    "portfolio_risk = sigma.dot(vars).dot(vars)\n",
    "m.setObjective(portfolio_risk, GRB.MINIMIZE)\n",
    "\n",
    "# Fix budget with a constraint\n",
    "m.addConstr(vars.sum() == 1, 'budget')\n",
    "\n",
    "# Optimize model to find the minimum risk portfolio\n",
    "m.setParam('OutputFlag', 0)\n",
    "m.optimize()\n",
    "\n",
    "# Create an expression representing the expected return for the portfolio\n",
    "portfolio_return = stock_return.dot(vars)\n",
    "\n",
    "# Display minimum risk portfolio\n",
    "print('Minimum Risk Portfolio:\\n')\n",
    "for v in vars:\n",
    "    if v.X > 0:\n",
    "        print('\\t%s\\t: %g' % (v.VarName, v.X))\n",
    "minrisk_volatility = sqrt(portfolio_risk.getValue())\n",
    "print('\\nVolatility      = %g' % minrisk_volatility)\n",
    "minrisk_return = portfolio_return.getValue()\n",
    "print('Expected Return = %g' % minrisk_return)\n",
    "\n",
    "# Add (redundant) target return constraint\n",
    "target = m.addConstr(portfolio_return == minrisk_return, 'target')\n",
    "\n",
    "# Solve for efficient frontier by varying target return\n",
    "frontier = pd.Series(dtype=np.float64)\n",
    "for r in np.linspace(stock_return.min(), stock_return.max(), 100):\n",
    "    target.rhs = r\n",
    "    m.optimize()\n",
    "    frontier.loc[sqrt(portfolio_risk.getValue())] = r\n",
    "\n",
    "# Plot volatility versus expected return for individual stocks\n",
    "ax = plt.gca()\n",
    "ax.scatter(x=stock_volatility, y=stock_return,\n",
    "           color='Blue', label='Individual Stocks')\n",
    "for i, stock in enumerate(stocks):\n",
    "    ax.annotate(stock, (stock_volatility[i], stock_return[i]))\n",
    "\n",
    "# Plot volatility versus expected return for minimum risk portfolio\n",
    "ax.scatter(x=minrisk_volatility, y=minrisk_return, color='DarkGreen')\n",
    "ax.annotate('Minimum\\nRisk\\nPortfolio', (minrisk_volatility, minrisk_return),\n",
    "            horizontalalignment='right')\n",
    "\n",
    "# Plot efficient frontier\n",
    "frontier.plot(color='DarkGreen', label='Efficient Frontier', ax=ax)\n",
    "\n",
    "# Format and display the final plot\n",
    "ax.axis([0.005, 0.06, -0.02, 0.025])\n",
    "ax.set_xlabel('Volatility (standard deviation)')\n",
    "ax.set_ylabel('Expected Return')\n",
    "ax.legend()\n",
    "ax.grid()\n",
    "plt.savefig('portfolio.png')\n",
    "print(\"Plotted efficient frontier to 'portfolio.png'\")"
   ]
  }
 ],
 "metadata": {
  "kernelspec": {
   "display_name": "Python 3 (ipykernel)",
   "language": "python",
   "name": "python3"
  },
  "language_info": {
   "codemirror_mode": {
    "name": "ipython",
    "version": 3
   },
   "file_extension": ".py",
   "mimetype": "text/x-python",
   "name": "python",
   "nbconvert_exporter": "python",
   "pygments_lexer": "ipython3",
   "version": "3.8.10"
  }
 },
 "nbformat": 4,
 "nbformat_minor": 5
}
