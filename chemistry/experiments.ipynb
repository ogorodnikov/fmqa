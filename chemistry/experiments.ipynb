{
 "cells": [
  {
   "cell_type": "markdown",
   "id": "391a719b-6ab8-4674-8efa-b0144344af38",
   "metadata": {},
   "source": [
    "### Embeddings"
   ]
  },
  {
   "cell_type": "code",
   "execution_count": 1,
   "id": "b463400b-196c-425e-80a8-300fe207f8be",
   "metadata": {},
   "outputs": [],
   "source": [
    "import numpy as np\n",
    "import torch"
   ]
  },
  {
   "cell_type": "code",
   "execution_count": 36,
   "id": "a186f09a-c1b0-4a54-9a9c-fe53aa6c89bf",
   "metadata": {},
   "outputs": [
    {
     "data": {
      "text/plain": [
       "Parameter containing:\n",
       "tensor([[ 0.,  1.,  2.,  3.],\n",
       "        [10., 11., 12., 13.]], requires_grad=True)"
      ]
     },
     "execution_count": 36,
     "metadata": {},
     "output_type": "execute_result"
    }
   ],
   "source": [
    "weights = torch.tensor([[0,  1,  2,  3],\n",
    "                        [10, 11, 12, 13]]).float()\n",
    "\n",
    "m = torch.nn.Parameter(weights)\n",
    "\n",
    "m"
   ]
  },
  {
   "cell_type": "code",
   "execution_count": null,
   "id": "8ce5fb8d-72fe-436d-864f-5ccb84459310",
   "metadata": {},
   "outputs": [],
   "source": []
  },
  {
   "cell_type": "code",
   "execution_count": 116,
   "id": "3fe2d955-a9e9-4063-8e7c-881057dd9357",
   "metadata": {
    "tags": []
   },
   "outputs": [
    {
     "data": {
      "text/plain": [
       "tensor([[   5,   35,   65,   95],\n",
       "        [  35,  365,  695, 1025],\n",
       "        [  65,  695, 1325, 1955],\n",
       "        [  95, 1025, 1955, 2885]])"
      ]
     },
     "execution_count": 116,
     "metadata": {},
     "output_type": "execute_result"
    }
   ],
   "source": [
    "weights = torch.tensor([[0,  1,  2],\n",
    "                        [10, 11, 12],\n",
    "                        [20, 21, 22],\n",
    "                        [30, 31, 32]])\n",
    "\n",
    "fields = torch.tensor([[1, 0, 1, 1],\n",
    "                       [0, 1, 0, 1]])\n",
    "\n",
    "full_coupling_matrix = torch.matmul(weights, weights.T)\n",
    "\n",
    "full_coupling_matrix"
   ]
  },
  {
   "cell_type": "code",
   "execution_count": 117,
   "id": "5732e1b3-bad0-4305-93b3-e4e2177831a8",
   "metadata": {},
   "outputs": [
    {
     "data": {
      "text/plain": [
       "tensor([[[ 0,  1,  2],\n",
       "         [ 0,  0,  0],\n",
       "         [20, 21, 22],\n",
       "         [30, 31, 32]],\n",
       "\n",
       "        [[ 0,  0,  0],\n",
       "         [10, 11, 12],\n",
       "         [ 0,  0,  0],\n",
       "         [30, 31, 32]]])"
      ]
     },
     "execution_count": 117,
     "metadata": {},
     "output_type": "execute_result"
    }
   ],
   "source": [
    "masked_weights = fields.unsqueeze(2) * weights\n",
    "\n",
    "masked_weights"
   ]
  },
  {
   "cell_type": "code",
   "execution_count": 118,
   "id": "a6717580-6295-4707-ae24-5c23c5447050",
   "metadata": {},
   "outputs": [
    {
     "data": {
      "text/plain": [
       "tensor([[[   5,    0,   65,   95],\n",
       "         [   0,    0,    0,    0],\n",
       "         [  65,    0, 1325, 1955],\n",
       "         [  95,    0, 1955, 2885]],\n",
       "\n",
       "        [[   0,    0,    0,    0],\n",
       "         [   0,  365,    0, 1025],\n",
       "         [   0,    0,    0,    0],\n",
       "         [   0, 1025,    0, 2885]]])"
      ]
     },
     "execution_count": 118,
     "metadata": {},
     "output_type": "execute_result"
    }
   ],
   "source": [
    "coupling_matrix = masked_weights @ masked_weights.mT\n",
    "\n",
    "coupling_matrix"
   ]
  },
  {
   "cell_type": "code",
   "execution_count": 119,
   "id": "f7b94c17-bd64-4748-b5d2-5c137bfaf080",
   "metadata": {},
   "outputs": [
    {
     "data": {
      "text/plain": [
       "tensor([[[   0,    0,   65,   95],\n",
       "         [   0,    0,    0,    0],\n",
       "         [   0,    0,    0, 1955],\n",
       "         [   0,    0,    0,    0]],\n",
       "\n",
       "        [[   0,    0,    0,    0],\n",
       "         [   0,    0,    0, 1025],\n",
       "         [   0,    0,    0,    0],\n",
       "         [   0,    0,    0,    0]]])"
      ]
     },
     "execution_count": 119,
     "metadata": {},
     "output_type": "execute_result"
    }
   ],
   "source": [
    "masked_coupling_matrix = coupling_matrix.triu(diagonal=1)\n",
    "\n",
    "masked_coupling_matrix"
   ]
  },
  {
   "cell_type": "code",
   "execution_count": 120,
   "id": "252e2eb9-7649-4685-875f-a7e79f7208dd",
   "metadata": {},
   "outputs": [
    {
     "data": {
      "text/plain": [
       "tensor([2115, 1025])"
      ]
     },
     "execution_count": 120,
     "metadata": {},
     "output_type": "execute_result"
    }
   ],
   "source": [
    "masked_coupling_matrix.sum(dim=(1, 2))"
   ]
  },
  {
   "cell_type": "code",
   "execution_count": null,
   "id": "b830af95-91ae-4cba-a08b-304a4a0d30e0",
   "metadata": {},
   "outputs": [],
   "source": []
  },
  {
   "cell_type": "code",
   "execution_count": 121,
   "id": "93dc940f-daaf-48cd-bac5-7550085a1896",
   "metadata": {},
   "outputs": [],
   "source": [
    "# Optimization"
   ]
  },
  {
   "cell_type": "code",
   "execution_count": 122,
   "id": "109d06c2-a794-4382-9dc2-0f71c7f9c3f4",
   "metadata": {},
   "outputs": [
    {
     "data": {
      "text/plain": [
       "tensor([[[ 0,  1,  2],\n",
       "         [ 0,  0,  0],\n",
       "         [20, 21, 22],\n",
       "         [30, 31, 32]],\n",
       "\n",
       "        [[ 0,  0,  0],\n",
       "         [10, 11, 12],\n",
       "         [ 0,  0,  0],\n",
       "         [30, 31, 32]]])"
      ]
     },
     "execution_count": 122,
     "metadata": {},
     "output_type": "execute_result"
    }
   ],
   "source": [
    "masked_weights"
   ]
  },
  {
   "cell_type": "code",
   "execution_count": 126,
   "id": "527d55a0-da10-43bf-8460-5355b0ef0375",
   "metadata": {},
   "outputs": [
    {
     "data": {
      "text/plain": [
       "tensor([[2500, 2809, 3136],\n",
       "        [1600, 1764, 1936]])"
      ]
     },
     "execution_count": 126,
     "metadata": {},
     "output_type": "execute_result"
    }
   ],
   "source": [
    "square_of_sum = masked_weights.sum(dim=1) ** 2\n",
    "\n",
    "square_of_sum"
   ]
  },
  {
   "cell_type": "code",
   "execution_count": 127,
   "id": "8197ebd2-beb1-4f52-9df9-a95debc7bfbd",
   "metadata": {},
   "outputs": [
    {
     "data": {
      "text/plain": [
       "tensor([[1300, 1403, 1512],\n",
       "        [1000, 1082, 1168]])"
      ]
     },
     "execution_count": 127,
     "metadata": {},
     "output_type": "execute_result"
    }
   ],
   "source": [
    "sum_of_squares = (masked_weights ** 2).sum(dim=1)\n",
    "\n",
    "sum_of_squares"
   ]
  },
  {
   "cell_type": "code",
   "execution_count": 130,
   "id": "5a4b6fdd-101a-4574-8356-49fa9b22cda8",
   "metadata": {},
   "outputs": [
    {
     "data": {
      "text/plain": [
       "tensor([2115., 1025.])"
      ]
     },
     "execution_count": 130,
     "metadata": {},
     "output_type": "execute_result"
    }
   ],
   "source": [
    "prediction = 0.5 * (square_of_sum - sum_of_squares).sum(dim=1)\n",
    "\n",
    "prediction"
   ]
  },
  {
   "cell_type": "code",
   "execution_count": null,
   "id": "8797591d-2f4a-4676-8710-f021d70bbe2b",
   "metadata": {},
   "outputs": [],
   "source": []
  },
  {
   "cell_type": "code",
   "execution_count": null,
   "id": "6fd1da0b-cf7c-4bfd-a731-5c74ee3075a7",
   "metadata": {},
   "outputs": [],
   "source": [
    "# Linear"
   ]
  },
  {
   "cell_type": "code",
   "execution_count": 148,
   "id": "23fa7d89-13cd-42a9-94f4-e2f61087fda6",
   "metadata": {},
   "outputs": [
    {
     "data": {
      "text/plain": [
       "Linear(in_features=4, out_features=1, bias=True)"
      ]
     },
     "execution_count": 148,
     "metadata": {},
     "output_type": "execute_result"
    }
   ],
   "source": [
    "linear = torch.nn.Linear(4, 1)\n",
    "\n",
    "linear"
   ]
  },
  {
   "cell_type": "code",
   "execution_count": 149,
   "id": "731a463f-d6cd-4a97-87e4-795d5f0095db",
   "metadata": {},
   "outputs": [
    {
     "data": {
      "text/plain": [
       "tensor([[0.2202],\n",
       "        [0.0043]], grad_fn=<AddmmBackward0>)"
      ]
     },
     "execution_count": 149,
     "metadata": {},
     "output_type": "execute_result"
    }
   ],
   "source": [
    "linear(fields.float())"
   ]
  },
  {
   "cell_type": "code",
   "execution_count": 4,
   "id": "0bcb1371-5fc1-4ccf-9d63-850eb2ec612b",
   "metadata": {
    "tags": []
   },
   "outputs": [
    {
     "data": {
      "text/plain": [
       "tensor([[1, 0, 1, 1],\n",
       "        [0, 0, 0, 0],\n",
       "        [1, 0, 1, 1],\n",
       "        [1, 0, 1, 1]])"
      ]
     },
     "execution_count": 4,
     "metadata": {},
     "output_type": "execute_result"
    }
   ],
   "source": [
    "c = torch.outer(a, a)\n",
    "\n",
    "c"
   ]
  },
  {
   "cell_type": "code",
   "execution_count": 5,
   "id": "a15f7aaf-6271-473b-aa5c-4484fcbad07e",
   "metadata": {
    "tags": []
   },
   "outputs": [
    {
     "data": {
      "text/plain": [
       "tensor([[0, 0, 1, 1],\n",
       "        [0, 0, 0, 0],\n",
       "        [0, 0, 0, 1],\n",
       "        [0, 0, 0, 0]])"
      ]
     },
     "execution_count": 5,
     "metadata": {},
     "output_type": "execute_result"
    }
   ],
   "source": [
    "c_triu = torch.triu(c, diagonal=1)\n",
    "\n",
    "c_triu"
   ]
  },
  {
   "cell_type": "code",
   "execution_count": 6,
   "id": "a4bd3bb3-31d8-44c2-bc10-f71be689db3c",
   "metadata": {
    "tags": []
   },
   "outputs": [
    {
     "data": {
      "text/plain": [
       "tensor([[   5,    0,   65,   95],\n",
       "        [   0,    0,    0,    0],\n",
       "        [  65,    0, 1325, 1955],\n",
       "        [  95,    0, 1955, 2885]])"
      ]
     },
     "execution_count": 6,
     "metadata": {},
     "output_type": "execute_result"
    }
   ],
   "source": [
    "d = b * c\n",
    "\n",
    "d"
   ]
  },
  {
   "cell_type": "code",
   "execution_count": 7,
   "id": "06ce4432-fd7d-4608-a1fd-6f0ad973b64d",
   "metadata": {
    "tags": []
   },
   "outputs": [
    {
     "data": {
      "text/plain": [
       "tensor(4222.5000)"
      ]
     },
     "execution_count": 7,
     "metadata": {},
     "output_type": "execute_result"
    }
   ],
   "source": [
    "d.sum() / 2"
   ]
  },
  {
   "cell_type": "code",
   "execution_count": null,
   "id": "9bc5ca97-2c6c-4f09-a2e9-217b0f7aa5c0",
   "metadata": {},
   "outputs": [],
   "source": []
  },
  {
   "cell_type": "code",
   "execution_count": null,
   "id": "605b374c-7f7f-47b4-87ae-4f59d4ea10e1",
   "metadata": {},
   "outputs": [],
   "source": []
  },
  {
   "cell_type": "code",
   "execution_count": 8,
   "id": "3becfab5-4256-4960-b2c8-cea4d779e70d",
   "metadata": {},
   "outputs": [
    {
     "data": {
      "text/plain": [
       "Parameter containing:\n",
       "tensor([[-0.2159, -0.1193, -0.5109],\n",
       "        [-0.8812,  0.3255, -0.1884],\n",
       "        [ 0.6601, -0.8312,  0.6566],\n",
       "        [ 0.5007, -0.5679,  0.1766]], requires_grad=True)"
      ]
     },
     "execution_count": 8,
     "metadata": {},
     "output_type": "execute_result"
    }
   ],
   "source": [
    "e = torch.nn.Embedding(4, 3)\n",
    "\n",
    "torch.nn.init.xavier_uniform_(e.weight.data)\n",
    "\n",
    "e.weight"
   ]
  },
  {
   "cell_type": "code",
   "execution_count": 9,
   "id": "498c29b9-10c2-42d6-a543-ef8a9b0db48d",
   "metadata": {},
   "outputs": [
    {
     "data": {
      "text/plain": [
       "tensor([[[-0.2159, -0.1193, -0.5109],\n",
       "         [-0.8812,  0.3255, -0.1884]],\n",
       "\n",
       "        [[-0.8812,  0.3255, -0.1884],\n",
       "         [ 0.6601, -0.8312,  0.6566]]], grad_fn=<EmbeddingBackward0>)"
      ]
     },
     "execution_count": 9,
     "metadata": {},
     "output_type": "execute_result"
    }
   ],
   "source": [
    "e(torch.tensor([[0, 1], [1, 2]]))"
   ]
  },
  {
   "cell_type": "code",
   "execution_count": 10,
   "id": "123346fb-666a-4a1d-8ad3-d1ab7b43753e",
   "metadata": {},
   "outputs": [
    {
     "data": {
      "text/plain": [
       "tensor([[ 0.3218,  0.2477, -0.3788, -0.1306],\n",
       "        [ 0.2477,  0.9179, -0.9759, -0.6593],\n",
       "        [-0.3788, -0.9759,  1.5577,  0.9184],\n",
       "        [-0.1306, -0.6593,  0.9184,  0.6043]])"
      ]
     },
     "execution_count": 10,
     "metadata": {},
     "output_type": "execute_result"
    }
   ],
   "source": [
    "coupling_matrix = e.weight.data\n",
    "\n",
    "coupling_matrix = torch.matmul(e.weight.data, e.weight.data.T)\n",
    "\n",
    "coupling_matrix"
   ]
  },
  {
   "cell_type": "code",
   "execution_count": 11,
   "id": "b60ca2bf-5994-4ece-af6d-bdb1a28d5239",
   "metadata": {},
   "outputs": [
    {
     "data": {
      "text/plain": [
       "tensor([[ 0.0000,  0.0000, -0.3788, -0.1306],\n",
       "        [ 0.0000,  0.0000, -0.0000, -0.0000],\n",
       "        [-0.0000, -0.0000,  0.0000,  0.9184],\n",
       "        [-0.0000, -0.0000,  0.0000,  0.0000]])"
      ]
     },
     "execution_count": 11,
     "metadata": {},
     "output_type": "execute_result"
    }
   ],
   "source": [
    "masked_weights = coupling_matrix * c_triu\n",
    "\n",
    "masked_weights"
   ]
  },
  {
   "cell_type": "code",
   "execution_count": 12,
   "id": "683c7baa-00bf-4358-8f1a-e41dbb60c159",
   "metadata": {},
   "outputs": [
    {
     "data": {
      "text/plain": [
       "tensor(0.4091)"
      ]
     },
     "execution_count": 12,
     "metadata": {},
     "output_type": "execute_result"
    }
   ],
   "source": [
    "masked_weights.sum()"
   ]
  },
  {
   "cell_type": "code",
   "execution_count": 13,
   "id": "1b4259da-ed5a-4e14-9ec2-500bbc67da08",
   "metadata": {},
   "outputs": [
    {
     "data": {
      "text/plain": [
       "tensor([0, 2, 3])"
      ]
     },
     "execution_count": 13,
     "metadata": {},
     "output_type": "execute_result"
    }
   ],
   "source": [
    "indices = torch.nonzero(a).squeeze()\n",
    "\n",
    "indices"
   ]
  },
  {
   "cell_type": "code",
   "execution_count": 14,
   "id": "2edff22e-e98f-4fbe-bc66-672e36a0af85",
   "metadata": {},
   "outputs": [
    {
     "data": {
      "text/plain": [
       "tensor([[-0.2159, -0.1193, -0.5109],\n",
       "        [ 0.6601, -0.8312,  0.6566],\n",
       "        [ 0.5007, -0.5679,  0.1766]], grad_fn=<EmbeddingBackward0>)"
      ]
     },
     "execution_count": 14,
     "metadata": {},
     "output_type": "execute_result"
    }
   ],
   "source": [
    "selected_weights = e(indices)\n",
    "\n",
    "selected_weights"
   ]
  },
  {
   "cell_type": "code",
   "execution_count": 15,
   "id": "05241d83-ef59-496a-a929-a8be0f866633",
   "metadata": {},
   "outputs": [
    {
     "data": {
      "text/plain": [
       "tensor([[0, 0],\n",
       "        [0, 2],\n",
       "        [0, 3],\n",
       "        [1, 0]])"
      ]
     },
     "execution_count": 15,
     "metadata": {},
     "output_type": "execute_result"
    }
   ],
   "source": [
    "a_alt = torch.tensor([[1, 0, 1, 1],\n",
    "                      [1, 0, 0, 0]])\n",
    "\n",
    "indices_alt = torch.nonzero(a_alt)\n",
    "\n",
    "indices_alt"
   ]
  },
  {
   "cell_type": "code",
   "execution_count": 16,
   "id": "d77e0bad-8c83-4642-93d4-e7b6ce802a09",
   "metadata": {},
   "outputs": [
    {
     "data": {
      "text/plain": [
       "tensor([[[-0.2159, -0.1193, -0.5109],\n",
       "         [-0.2159, -0.1193, -0.5109]],\n",
       "\n",
       "        [[-0.2159, -0.1193, -0.5109],\n",
       "         [ 0.6601, -0.8312,  0.6566]],\n",
       "\n",
       "        [[-0.2159, -0.1193, -0.5109],\n",
       "         [ 0.5007, -0.5679,  0.1766]],\n",
       "\n",
       "        [[-0.8812,  0.3255, -0.1884],\n",
       "         [-0.2159, -0.1193, -0.5109]]], grad_fn=<EmbeddingBackward0>)"
      ]
     },
     "execution_count": 16,
     "metadata": {},
     "output_type": "execute_result"
    }
   ],
   "source": [
    "selected_weights = e(indices_alt)\n",
    "\n",
    "selected_weights"
   ]
  },
  {
   "cell_type": "code",
   "execution_count": 17,
   "id": "de281f0a-22d0-45dc-a935-4da665e5c52f",
   "metadata": {},
   "outputs": [
    {
     "data": {
      "text/plain": [
       "tensor([[[ 0.3218,  0.3218],\n",
       "         [ 0.3218,  0.3218]],\n",
       "\n",
       "        [[ 0.3218, -0.3788],\n",
       "         [-0.3788,  1.5577]],\n",
       "\n",
       "        [[ 0.3218, -0.1306],\n",
       "         [-0.1306,  0.6043]],\n",
       "\n",
       "        [[ 0.9179,  0.2477],\n",
       "         [ 0.2477,  0.3218]]], grad_fn=<UnsafeViewBackward0>)"
      ]
     },
     "execution_count": 17,
     "metadata": {},
     "output_type": "execute_result"
    }
   ],
   "source": [
    "coupling_matrix_alt = torch.matmul(selected_weights, selected_weights.mT)\n",
    "\n",
    "coupling_matrix_alt"
   ]
  },
  {
   "cell_type": "code",
   "execution_count": 18,
   "id": "2800a720-8717-44b7-a604-04924b0163a7",
   "metadata": {},
   "outputs": [
    {
     "data": {
      "text/plain": [
       "tensor([[[ 0.0000,  0.3218],\n",
       "         [ 0.0000,  0.0000]],\n",
       "\n",
       "        [[ 0.0000, -0.3788],\n",
       "         [ 0.0000,  0.0000]],\n",
       "\n",
       "        [[ 0.0000, -0.1306],\n",
       "         [ 0.0000,  0.0000]],\n",
       "\n",
       "        [[ 0.0000,  0.2477],\n",
       "         [ 0.0000,  0.0000]]], grad_fn=<TriuBackward0>)"
      ]
     },
     "execution_count": 18,
     "metadata": {},
     "output_type": "execute_result"
    }
   ],
   "source": [
    "masked_weights_alt = torch.triu(coupling_matrix_alt, diagonal=1)\n",
    "\n",
    "masked_weights_alt"
   ]
  },
  {
   "cell_type": "code",
   "execution_count": 19,
   "id": "477caefa-1c4e-4401-bf96-80760489f2d5",
   "metadata": {},
   "outputs": [
    {
     "data": {
      "text/plain": [
       "tensor([ 0.3218, -0.3788, -0.1306,  0.2477], grad_fn=<SumBackward1>)"
      ]
     },
     "execution_count": 19,
     "metadata": {},
     "output_type": "execute_result"
    }
   ],
   "source": [
    "masked_weights_alt.sum(dim=(1, 2))"
   ]
  },
  {
   "cell_type": "code",
   "execution_count": null,
   "id": "6d8a4ff2-9c62-48dc-844c-bdb6246a3cc1",
   "metadata": {},
   "outputs": [],
   "source": []
  },
  {
   "cell_type": "code",
   "execution_count": null,
   "id": "d08b6ecf-49dc-4b4e-beaa-4bfb577d3533",
   "metadata": {},
   "outputs": [],
   "source": []
  }
 ],
 "metadata": {
  "kernelspec": {
   "display_name": "Python 3 (ipykernel)",
   "language": "python",
   "name": "python3"
  },
  "language_info": {
   "codemirror_mode": {
    "name": "ipython",
    "version": 3
   },
   "file_extension": ".py",
   "mimetype": "text/x-python",
   "name": "python",
   "nbconvert_exporter": "python",
   "pygments_lexer": "ipython3",
   "version": "3.8.10"
  }
 },
 "nbformat": 4,
 "nbformat_minor": 5
}
