{
 "cells": [
  {
   "cell_type": "markdown",
   "id": "4510db19-0c4a-4301-9589-9369a0c212c2",
   "metadata": {},
   "source": [
    "### 1) XGBoost - Basic Example"
   ]
  },
  {
   "cell_type": "code",
   "execution_count": null,
   "id": "7e832256-bb86-4249-9652-0737a3da35b0",
   "metadata": {},
   "outputs": [],
   "source": [
    "from xgboost import XGBClassifier\n",
    "\n",
    "from sklearn.datasets import load_iris\n",
    "from sklearn.model_selection import train_test_split"
   ]
  },
  {
   "cell_type": "code",
   "execution_count": 3,
   "id": "bc491552-4860-4395-aa6e-4cb34432e80a",
   "metadata": {},
   "outputs": [],
   "source": [
    "data = load_iris()\n",
    "\n",
    "X_train, X_test, y_train, y_test = train_test_split(data['data'], data['target'], test_size=.2)\n",
    "\n",
    "bst = XGBClassifier(n_estimators=2, max_depth=2, learning_rate=1, objective='binary:logistic')"
   ]
  },
  {
   "cell_type": "code",
   "execution_count": 4,
   "id": "b3c5ab82-9f72-4d7e-86e3-3fed812c39df",
   "metadata": {},
   "outputs": [
    {
     "data": {
      "text/html": [
       "<style>#sk-container-id-1 {color: black;background-color: white;}#sk-container-id-1 pre{padding: 0;}#sk-container-id-1 div.sk-toggleable {background-color: white;}#sk-container-id-1 label.sk-toggleable__label {cursor: pointer;display: block;width: 100%;margin-bottom: 0;padding: 0.3em;box-sizing: border-box;text-align: center;}#sk-container-id-1 label.sk-toggleable__label-arrow:before {content: \"▸\";float: left;margin-right: 0.25em;color: #696969;}#sk-container-id-1 label.sk-toggleable__label-arrow:hover:before {color: black;}#sk-container-id-1 div.sk-estimator:hover label.sk-toggleable__label-arrow:before {color: black;}#sk-container-id-1 div.sk-toggleable__content {max-height: 0;max-width: 0;overflow: hidden;text-align: left;background-color: #f0f8ff;}#sk-container-id-1 div.sk-toggleable__content pre {margin: 0.2em;color: black;border-radius: 0.25em;background-color: #f0f8ff;}#sk-container-id-1 input.sk-toggleable__control:checked~div.sk-toggleable__content {max-height: 200px;max-width: 100%;overflow: auto;}#sk-container-id-1 input.sk-toggleable__control:checked~label.sk-toggleable__label-arrow:before {content: \"▾\";}#sk-container-id-1 div.sk-estimator input.sk-toggleable__control:checked~label.sk-toggleable__label {background-color: #d4ebff;}#sk-container-id-1 div.sk-label input.sk-toggleable__control:checked~label.sk-toggleable__label {background-color: #d4ebff;}#sk-container-id-1 input.sk-hidden--visually {border: 0;clip: rect(1px 1px 1px 1px);clip: rect(1px, 1px, 1px, 1px);height: 1px;margin: -1px;overflow: hidden;padding: 0;position: absolute;width: 1px;}#sk-container-id-1 div.sk-estimator {font-family: monospace;background-color: #f0f8ff;border: 1px dotted black;border-radius: 0.25em;box-sizing: border-box;margin-bottom: 0.5em;}#sk-container-id-1 div.sk-estimator:hover {background-color: #d4ebff;}#sk-container-id-1 div.sk-parallel-item::after {content: \"\";width: 100%;border-bottom: 1px solid gray;flex-grow: 1;}#sk-container-id-1 div.sk-label:hover label.sk-toggleable__label {background-color: #d4ebff;}#sk-container-id-1 div.sk-serial::before {content: \"\";position: absolute;border-left: 1px solid gray;box-sizing: border-box;top: 0;bottom: 0;left: 50%;z-index: 0;}#sk-container-id-1 div.sk-serial {display: flex;flex-direction: column;align-items: center;background-color: white;padding-right: 0.2em;padding-left: 0.2em;position: relative;}#sk-container-id-1 div.sk-item {position: relative;z-index: 1;}#sk-container-id-1 div.sk-parallel {display: flex;align-items: stretch;justify-content: center;background-color: white;position: relative;}#sk-container-id-1 div.sk-item::before, #sk-container-id-1 div.sk-parallel-item::before {content: \"\";position: absolute;border-left: 1px solid gray;box-sizing: border-box;top: 0;bottom: 0;left: 50%;z-index: -1;}#sk-container-id-1 div.sk-parallel-item {display: flex;flex-direction: column;z-index: 1;position: relative;background-color: white;}#sk-container-id-1 div.sk-parallel-item:first-child::after {align-self: flex-end;width: 50%;}#sk-container-id-1 div.sk-parallel-item:last-child::after {align-self: flex-start;width: 50%;}#sk-container-id-1 div.sk-parallel-item:only-child::after {width: 0;}#sk-container-id-1 div.sk-dashed-wrapped {border: 1px dashed gray;margin: 0 0.4em 0.5em 0.4em;box-sizing: border-box;padding-bottom: 0.4em;background-color: white;}#sk-container-id-1 div.sk-label label {font-family: monospace;font-weight: bold;display: inline-block;line-height: 1.2em;}#sk-container-id-1 div.sk-label-container {text-align: center;}#sk-container-id-1 div.sk-container {/* jupyter's `normalize.less` sets `[hidden] { display: none; }` but bootstrap.min.css set `[hidden] { display: none !important; }` so we also need the `!important` here to be able to override the default hidden behavior on the sphinx rendered scikit-learn.org. See: https://github.com/scikit-learn/scikit-learn/issues/21755 */display: inline-block !important;position: relative;}#sk-container-id-1 div.sk-text-repr-fallback {display: none;}</style><div id=\"sk-container-id-1\" class=\"sk-top-container\"><div class=\"sk-text-repr-fallback\"><pre>XGBClassifier(base_score=0.5, booster=&#x27;gbtree&#x27;, callbacks=None,\n",
       "              colsample_bylevel=1, colsample_bynode=1, colsample_bytree=1,\n",
       "              early_stopping_rounds=None, enable_categorical=False,\n",
       "              eval_metric=None, feature_types=None, gamma=0, gpu_id=-1,\n",
       "              grow_policy=&#x27;depthwise&#x27;, importance_type=None,\n",
       "              interaction_constraints=&#x27;&#x27;, learning_rate=1, max_bin=256,\n",
       "              max_cat_threshold=64, max_cat_to_onehot=4, max_delta_step=0,\n",
       "              max_depth=2, max_leaves=0, min_child_weight=1, missing=nan,\n",
       "              monotone_constraints=&#x27;()&#x27;, n_estimators=2, n_jobs=0,\n",
       "              num_parallel_tree=1, objective=&#x27;multi:softprob&#x27;, predictor=&#x27;auto&#x27;, ...)</pre><b>In a Jupyter environment, please rerun this cell to show the HTML representation or trust the notebook. <br />On GitHub, the HTML representation is unable to render, please try loading this page with nbviewer.org.</b></div><div class=\"sk-container\" hidden><div class=\"sk-item\"><div class=\"sk-estimator sk-toggleable\"><input class=\"sk-toggleable__control sk-hidden--visually\" id=\"sk-estimator-id-1\" type=\"checkbox\" checked><label for=\"sk-estimator-id-1\" class=\"sk-toggleable__label sk-toggleable__label-arrow\">XGBClassifier</label><div class=\"sk-toggleable__content\"><pre>XGBClassifier(base_score=0.5, booster=&#x27;gbtree&#x27;, callbacks=None,\n",
       "              colsample_bylevel=1, colsample_bynode=1, colsample_bytree=1,\n",
       "              early_stopping_rounds=None, enable_categorical=False,\n",
       "              eval_metric=None, feature_types=None, gamma=0, gpu_id=-1,\n",
       "              grow_policy=&#x27;depthwise&#x27;, importance_type=None,\n",
       "              interaction_constraints=&#x27;&#x27;, learning_rate=1, max_bin=256,\n",
       "              max_cat_threshold=64, max_cat_to_onehot=4, max_delta_step=0,\n",
       "              max_depth=2, max_leaves=0, min_child_weight=1, missing=nan,\n",
       "              monotone_constraints=&#x27;()&#x27;, n_estimators=2, n_jobs=0,\n",
       "              num_parallel_tree=1, objective=&#x27;multi:softprob&#x27;, predictor=&#x27;auto&#x27;, ...)</pre></div></div></div></div></div>"
      ],
      "text/plain": [
       "XGBClassifier(base_score=0.5, booster='gbtree', callbacks=None,\n",
       "              colsample_bylevel=1, colsample_bynode=1, colsample_bytree=1,\n",
       "              early_stopping_rounds=None, enable_categorical=False,\n",
       "              eval_metric=None, feature_types=None, gamma=0, gpu_id=-1,\n",
       "              grow_policy='depthwise', importance_type=None,\n",
       "              interaction_constraints='', learning_rate=1, max_bin=256,\n",
       "              max_cat_threshold=64, max_cat_to_onehot=4, max_delta_step=0,\n",
       "              max_depth=2, max_leaves=0, min_child_weight=1, missing=nan,\n",
       "              monotone_constraints='()', n_estimators=2, n_jobs=0,\n",
       "              num_parallel_tree=1, objective='multi:softprob', predictor='auto', ...)"
      ]
     },
     "execution_count": 4,
     "metadata": {},
     "output_type": "execute_result"
    }
   ],
   "source": [
    "bst.fit(X_train, y_train)"
   ]
  },
  {
   "cell_type": "code",
   "execution_count": 5,
   "id": "066ea242-bfa1-4e2d-8a0a-70f5eae0e0d3",
   "metadata": {},
   "outputs": [],
   "source": [
    "preds = bst.predict(X_test)"
   ]
  },
  {
   "cell_type": "code",
   "execution_count": 6,
   "id": "61822f24-4a8b-4121-bf47-61d0931bc5b2",
   "metadata": {},
   "outputs": [
    {
     "data": {
      "text/plain": [
       "array([2, 2, 2, 1, 1, 2, 2, 2, 0, 1, 1, 0, 0, 1, 1, 2, 2, 2, 0, 1, 1, 1,\n",
       "       2, 2, 0, 2, 0, 0, 0, 2])"
      ]
     },
     "execution_count": 6,
     "metadata": {},
     "output_type": "execute_result"
    }
   ],
   "source": [
    "preds"
   ]
  },
  {
   "cell_type": "code",
   "execution_count": null,
   "id": "464b892c-3e73-49a5-842a-05b98df9a7b7",
   "metadata": {},
   "outputs": [],
   "source": []
  },
  {
   "cell_type": "markdown",
   "id": "ed12bf2f-f86c-4be0-9dee-ec143c13f7c0",
   "metadata": {},
   "source": [
    "### 2) XGBoost - Hyperparameter Search"
   ]
  },
  {
   "cell_type": "code",
   "execution_count": 18,
   "id": "e2f187ad-2d9e-477b-bccf-60f4aeed0ffb",
   "metadata": {},
   "outputs": [],
   "source": [
    "import numpy as np\n",
    "import xgboost as xgb\n",
    "\n",
    "from sklearn.metrics import accuracy_score"
   ]
  },
  {
   "cell_type": "code",
   "execution_count": 19,
   "id": "0684845a-3288-48f8-8169-317c39fdfebc",
   "metadata": {},
   "outputs": [],
   "source": [
    "train = xgb.DMatrix('xgboost_example_data/train.csv?format=csv&label_column=0')\n",
    "test = xgb.DMatrix('xgboost_example_data/test.csv?format=csv&label_column=0')"
   ]
  },
  {
   "cell_type": "code",
   "execution_count": 22,
   "id": "6bcb69ee-8efa-494d-9cb8-ebf937c96672",
   "metadata": {},
   "outputs": [
    {
     "name": "stdout",
     "output_type": "stream",
     "text": [
      "num_rounds = 40\n",
      "depth      = 2\n",
      "new optimal accuracy = 0.9021842355175689\n",
      "num_rounds = 40\n",
      "depth      = 3\n",
      "new optimal accuracy = 0.9240265906932573\n",
      "num_rounds = 40\n",
      "depth      = 4\n",
      "new optimal accuracy = 0.9354226020892688\n",
      "num_rounds = 40\n",
      "depth      = 5\n",
      "new optimal accuracy = 0.9373219373219374\n",
      "num_rounds = 40\n",
      "depth      = 6\n",
      "num_rounds = 40\n",
      "depth      = 7\n",
      "num_rounds = 40\n",
      "depth      = 8\n",
      "num_rounds = 40\n",
      "depth      = 9\n",
      "num_rounds = 40\n",
      "depth      = 10\n",
      "num_rounds = 40\n",
      "depth      = 11\n",
      "new optimal accuracy = 0.9430199430199431\n",
      "num_rounds = 40\n",
      "depth      = 12\n",
      "num_rounds = 40\n",
      "depth      = 13\n",
      "num_rounds = 40\n",
      "depth      = 14\n",
      "num_rounds = 40\n",
      "depth      = 15\n",
      "num_rounds = 40\n",
      "depth      = 16\n",
      "num_rounds = 40\n",
      "depth      = 17\n",
      "num_rounds = 40\n",
      "depth      = 18\n",
      "num_rounds = 40\n",
      "depth      = 19\n",
      "num_rounds = 41\n",
      "depth      = 2\n",
      "num_rounds = 41\n",
      "depth      = 3\n",
      "num_rounds = 41\n",
      "depth      = 4\n",
      "num_rounds = 41\n",
      "depth      = 5\n",
      "num_rounds = 41\n",
      "depth      = 6\n",
      "num_rounds = 41\n",
      "depth      = 7\n",
      "num_rounds = 41\n",
      "depth      = 8\n",
      "num_rounds = 41\n",
      "depth      = 9\n",
      "num_rounds = 41\n",
      "depth      = 10\n",
      "num_rounds = 41\n",
      "depth      = 11\n",
      "num_rounds = 41\n",
      "depth      = 12\n",
      "num_rounds = 41\n",
      "depth      = 13\n",
      "num_rounds = 41\n",
      "depth      = 14\n",
      "num_rounds = 41\n",
      "depth      = 15\n",
      "num_rounds = 41\n",
      "depth      = 16\n",
      "num_rounds = 41\n",
      "depth      = 17\n",
      "num_rounds = 41\n",
      "depth      = 18\n",
      "num_rounds = 41\n",
      "depth      = 19\n",
      "Optimal accuracy     = 0.9430199430199431\n",
      "Optimal num_round    = 40\n",
      "Optimal max_depth    = 11\n"
     ]
    }
   ],
   "source": [
    "# ROUND_RANGE = range(40, 100)\n",
    "# DEPTH_RANGE = range(2, 30)\n",
    "\n",
    "ROUND_RANGE = range(40, 42)\n",
    "DEPTH_RANGE = range(2, 20)\n",
    "\n",
    "optimal_accuracy = 0\n",
    "\n",
    "for num_round in ROUND_RANGE:\n",
    "    for depth in DEPTH_RANGE:\n",
    "        \n",
    "        print('num_rounds = ' + str(num_round))\n",
    "        print('depth      = ' + str(depth))\n",
    "\n",
    "        param = {'objective': 'binary:logistic',\n",
    "                 'eval_metric': 'logloss',\n",
    "                 'max_depth': depth,\n",
    "                 'eta': 0.5\n",
    "                }\n",
    "\n",
    "        bst = xgb.train(param, train, num_round)\n",
    "        y_pred = bst.predict(test)\n",
    "\n",
    "        accuracy = accuracy_score(test.get_label(), np.around(y_pred))\n",
    "        if accuracy > optimal_accuracy:\n",
    "            print('new optimal accuracy = ' + str(accuracy))\n",
    "            optimal_accuracy = accuracy\n",
    "            optimal_num_round = num_round\n",
    "            optimal_max_depth = depth\n",
    "\n",
    "print('Optimal accuracy     = ' + str(optimal_accuracy))\n",
    "print('Optimal num_round    = ' + str(optimal_num_round))\n",
    "print('Optimal max_depth    = ' + str(optimal_max_depth))"
   ]
  },
  {
   "cell_type": "code",
   "execution_count": null,
   "id": "75d3bbfe-188e-4d90-81e4-fdec64668916",
   "metadata": {},
   "outputs": [],
   "source": []
  },
  {
   "cell_type": "markdown",
   "id": "fe3d64c6-3df6-411f-a73c-e96a59c74374",
   "metadata": {
    "tags": []
   },
   "source": [
    "### 3) XGBoost - Regressor"
   ]
  },
  {
   "cell_type": "code",
   "execution_count": 27,
   "id": "93e231eb-8799-4ab2-b7e7-41fa002d9f69",
   "metadata": {},
   "outputs": [],
   "source": [
    "import xgboost as xgb\n",
    "\n",
    "from sklearn.metrics import r2_score\n",
    "\n",
    "\n",
    "# splitter = Splitter(dataset, batch_size=100, dataloader_workers_count=8)\n",
    "\n",
    "# data_matrix = xgb.DMatrix(data=dataset.fields, \n",
    "#                           label=dataset.targets)"
   ]
  },
  {
   "cell_type": "code",
   "execution_count": 28,
   "id": "e4ce7df2-4d85-4244-b5c3-b7d7d3429792",
   "metadata": {},
   "outputs": [],
   "source": [
    "regressor = xgb.XGBRegressor(eval_metric=r2_score, max_depth=3)"
   ]
  },
  {
   "cell_type": "code",
   "execution_count": 8,
   "id": "a334c78f-d718-4a34-b29b-3f1d9b4fee09",
   "metadata": {},
   "outputs": [],
   "source": [
    "regressor.fit(X=dataset.fields,\n",
    "              y=dataset.targets);"
   ]
  },
  {
   "cell_type": "code",
   "execution_count": 9,
   "id": "9fb2fa1e-4bfc-48b3-a3b3-5ef3d5e90adc",
   "metadata": {},
   "outputs": [
    {
     "data": {
      "text/plain": [
       "0.30075567170428397"
      ]
     },
     "execution_count": 9,
     "metadata": {},
     "output_type": "execute_result"
    }
   ],
   "source": [
    "score = regressor.score(dataset.fields, dataset.targets)  \n",
    "\n",
    "score"
   ]
  },
  {
   "cell_type": "markdown",
   "id": "46e64a5d-de39-4477-adbc-b8cefccd0c46",
   "metadata": {
    "tags": []
   },
   "source": [
    "#### Cross-validation"
   ]
  },
  {
   "cell_type": "code",
   "execution_count": 82,
   "id": "1d2554c3-082e-4ad5-9d36-616a19ce0770",
   "metadata": {},
   "outputs": [],
   "source": [
    "from sklearn.model_selection import train_test_split\n",
    "from sklearn.model_selection import cross_val_score, KFold\n",
    "\n",
    "scores = cross_val_score(regressor, \n",
    "                         dataset.fields,\n",
    "                         dataset.targets,\n",
    "                         cv=10)\n",
    "\n",
    "scores"
   ]
  },
  {
   "cell_type": "code",
   "execution_count": 11,
   "id": "914ff333-02d2-4604-b277-ad6c6f174e4c",
   "metadata": {},
   "outputs": [
    {
     "data": {
      "text/plain": [
       "array([0.26930294, 0.28458036, 0.29093956, 0.25948241, 0.28864461,\n",
       "       0.25336515, 0.25955703, 0.2834751 , 0.25440335, 0.30816035])"
      ]
     },
     "execution_count": 11,
     "metadata": {},
     "output_type": "execute_result"
    }
   ],
   "source": [
    "kfold = KFold(n_splits=10, shuffle=True)\n",
    "\n",
    "scores = cross_val_score(regressor, \n",
    "                         dataset.fields,\n",
    "                         dataset.targets,\n",
    "                         cv=kfold)\n",
    "\n",
    "scores"
   ]
  },
  {
   "cell_type": "code",
   "execution_count": null,
   "id": "09eea32c-3c31-405e-97bd-ffebceb650f5",
   "metadata": {},
   "outputs": [],
   "source": []
  },
  {
   "cell_type": "code",
   "execution_count": 12,
   "id": "ba04174a-57fa-4c95-a681-c6ce969d3ce7",
   "metadata": {},
   "outputs": [
    {
     "data": {
      "text/plain": [
       "0.30075567170428397"
      ]
     },
     "execution_count": 12,
     "metadata": {},
     "output_type": "execute_result"
    }
   ],
   "source": [
    "y_pred = regressor.predict(dataset.fields)\n",
    "\n",
    "r2_score(dataset.targets, y_pred)"
   ]
  },
  {
   "cell_type": "code",
   "execution_count": null,
   "id": "ee544b64-3064-41af-95e6-06a049c0e438",
   "metadata": {},
   "outputs": [],
   "source": []
  },
  {
   "cell_type": "markdown",
   "id": "4bdd53f8-2aee-40b9-9827-0206f6f5ce37",
   "metadata": {
    "tags": []
   },
   "source": [
    "#### XGBoost Hyperparameter Tuning Loop"
   ]
  },
  {
   "cell_type": "code",
   "execution_count": 11,
   "id": "e3c962b6-841d-45cf-8787-3a3471e11d89",
   "metadata": {},
   "outputs": [],
   "source": [
    "from sklearn.model_selection import train_test_split"
   ]
  },
  {
   "cell_type": "code",
   "execution_count": 20,
   "id": "b135179f-6872-4d07-bcbc-3c05523005b5",
   "metadata": {},
   "outputs": [
    {
     "name": "stdout",
     "output_type": "stream",
     "text": [
      "estimators_count: 26\n",
      "max_depth: 7\n",
      "score: 0.322709083935642\n"
     ]
    }
   ],
   "source": [
    "MIN_MAX_DEPTH = 7\n",
    "MAX_MAX_DEPTH = 8\n",
    "MAX_DEPTH_STEP = 1\n",
    "\n",
    "MIN_ESTIMATORS_COUNT = 26\n",
    "MAX_ESTIMATORS_COUNT = 27\n",
    "MAX_ESTIMATORS_STEP = 1\n",
    "\n",
    "estimator_counts = list(range(MIN_ESTIMATORS_COUNT, MAX_ESTIMATORS_COUNT, MAX_ESTIMATORS_STEP))\n",
    "max_depths = list(range(MIN_MAX_DEPTH, MAX_MAX_DEPTH, MAX_DEPTH_STEP))\n",
    "\n",
    "train_fields, test_fields, train_targets, test_targets = train_test_split(dataset.fields,\n",
    "                                                                          dataset.targets,\n",
    "                                                                          test_size=.1)\n",
    "\n",
    "score_rows = []\n",
    "\n",
    "for estimators_count in estimator_counts:\n",
    "    \n",
    "    score_row = []\n",
    "    \n",
    "    print(\"estimators_count:\", estimators_count)\n",
    "    \n",
    "    for max_depth in max_depths:\n",
    "        \n",
    "        print(\"max_depth:\", max_depth)\n",
    "                \n",
    "\n",
    "        regressor = xgb.XGBRegressor(eval_metric=r2_score, \n",
    "                                     max_depth=max_depth,\n",
    "                                     n_estimators=estimators_count)\n",
    "        \n",
    "        regressor.fit(X=train_fields,\n",
    "                      y=train_targets)\n",
    "        \n",
    "        score = regressor.score(test_fields, test_targets)\n",
    "        \n",
    "        score_row.append(score)\n",
    "        \n",
    "        print(\"score:\", score)\n",
    "    \n",
    "    score_rows.append(score_row)\n",
    "        "
   ]
  },
  {
   "cell_type": "code",
   "execution_count": 21,
   "id": "9e26ff74-0295-4c5e-9485-60cd29670628",
   "metadata": {},
   "outputs": [
    {
     "data": {
      "text/html": [
       "<div>\n",
       "<style scoped>\n",
       "    .dataframe tbody tr th:only-of-type {\n",
       "        vertical-align: middle;\n",
       "    }\n",
       "\n",
       "    .dataframe tbody tr th {\n",
       "        vertical-align: top;\n",
       "    }\n",
       "\n",
       "    .dataframe thead th {\n",
       "        text-align: right;\n",
       "    }\n",
       "</style>\n",
       "<table border=\"1\" class=\"dataframe\">\n",
       "  <thead>\n",
       "    <tr style=\"text-align: right;\">\n",
       "      <th></th>\n",
       "      <th>7</th>\n",
       "    </tr>\n",
       "  </thead>\n",
       "  <tbody>\n",
       "    <tr>\n",
       "      <th>26</th>\n",
       "      <td>0.322709</td>\n",
       "    </tr>\n",
       "  </tbody>\n",
       "</table>\n",
       "</div>"
      ],
      "text/plain": [
       "           7\n",
       "26  0.322709"
      ]
     },
     "execution_count": 21,
     "metadata": {},
     "output_type": "execute_result"
    }
   ],
   "source": [
    "scores = pd.DataFrame.from_records(score_rows, \n",
    "                                   index=estimator_counts, \n",
    "                                   columns=max_depths)\n",
    "\n",
    "scores"
   ]
  },
  {
   "cell_type": "code",
   "execution_count": null,
   "id": "b1118f95-ca7d-4653-99db-894782ef7676",
   "metadata": {},
   "outputs": [],
   "source": [
    "# scores.to_csv('xgboost_scores.csv')"
   ]
  },
  {
   "cell_type": "code",
   "execution_count": null,
   "id": "aa365bf2-4fb4-422e-ab42-5eeb60f17395",
   "metadata": {},
   "outputs": [],
   "source": [
    "# scores = pd.read_csv('xgboost_scores.csv', index_col=0)"
   ]
  },
  {
   "cell_type": "code",
   "execution_count": null,
   "id": "b4ff3d7b-38f4-42eb-bb8f-17d54c7c618c",
   "metadata": {},
   "outputs": [],
   "source": [
    "scores"
   ]
  },
  {
   "cell_type": "code",
   "execution_count": null,
   "id": "921fff68-533c-4103-8254-5676ef07f0a0",
   "metadata": {},
   "outputs": [],
   "source": [
    "plt.style.use('dark_background')\n",
    "\n",
    "plt.xlabel('Maximum Depth')\n",
    "plt.ylabel('Estimators Count')\n",
    "plt.yticks(estimator_counts)\n",
    "\n",
    "plt.imshow(scores);"
   ]
  },
  {
   "cell_type": "code",
   "execution_count": null,
   "id": "59f97d36-6e41-49da-bafe-3d36ff1ed9ee",
   "metadata": {},
   "outputs": [],
   "source": []
  }
 ],
 "metadata": {
  "kernelspec": {
   "display_name": "Python 3 (ipykernel)",
   "language": "python",
   "name": "python3"
  },
  "language_info": {
   "codemirror_mode": {
    "name": "ipython",
    "version": 3
   },
   "file_extension": ".py",
   "mimetype": "text/x-python",
   "name": "python",
   "nbconvert_exporter": "python",
   "pygments_lexer": "ipython3",
   "version": "3.8.10"
  }
 },
 "nbformat": 4,
 "nbformat_minor": 5
}
