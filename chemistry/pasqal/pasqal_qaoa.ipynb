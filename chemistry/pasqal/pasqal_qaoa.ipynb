{
 "cells": [
  {
   "cell_type": "markdown",
   "id": "bfb038a4-ae88-463d-a054-e8bcd88505d3",
   "metadata": {},
   "source": [
    "### 7) QAOA"
   ]
  },
  {
   "cell_type": "code",
   "execution_count": null,
   "id": "3ad16b1b-920c-4ed1-a17c-cb4cdd3d3660",
   "metadata": {},
   "outputs": [],
   "source": [
    "# https://github.com/pasqal-io/Pulser/blob/develop/tutorials/applications/QAOA%20and%20QAA%20to%20solve%20a%20QUBO%20problem.ipynb"
   ]
  },
  {
   "cell_type": "code",
   "execution_count": 14,
   "id": "d45e135d-4aec-49ba-9028-acdca46f1ce8",
   "metadata": {},
   "outputs": [],
   "source": [
    "LAYERS = 2\n",
    "\n",
    "# Parametrized sequence\n",
    "seq = Sequence(atomic_register, Chadoq2)\n",
    "seq.declare_channel(\"ch0\", \"rydberg_global\")\n",
    "\n",
    "t_list = seq.declare_variable(\"t_list\", size=LAYERS)\n",
    "s_list = seq.declare_variable(\"s_list\", size=LAYERS)\n",
    "\n",
    "for t, s in zip(t_list, s_list):\n",
    "    pulse_1 = Pulse.ConstantPulse(1000 * t, 1.0, 0.0, 0)\n",
    "    pulse_2 = Pulse.ConstantPulse(1000 * s, 0.0, 1.0, 0)\n",
    "\n",
    "    seq.add(pulse_1, \"ch0\")\n",
    "    seq.add(pulse_2, \"ch0\")\n",
    "\n",
    "seq.measure(\"ground-rydberg\")"
   ]
  },
  {
   "cell_type": "code",
   "execution_count": 15,
   "id": "0e405d5c-c675-48da-96f9-bb8fcffa4083",
   "metadata": {},
   "outputs": [],
   "source": [
    "def quantum_loop(parameters):\n",
    "    params = np.array(parameters)\n",
    "    t_params, s_params = np.reshape(params.astype(int), (2, LAYERS))\n",
    "    assigned_seq = seq.build(t_list=t_params, s_list=s_params)\n",
    "    simul = Simulation(assigned_seq, sampling_rate=0.01)\n",
    "    results = simul.run()\n",
    "    count_dict = results.sample_final_state()  # sample from the state vector\n",
    "    return count_dict"
   ]
  },
  {
   "cell_type": "code",
   "execution_count": 16,
   "id": "0a0087a8-75c7-4c58-b64f-2d076992342c",
   "metadata": {
    "tags": []
   },
   "outputs": [],
   "source": [
    "np.random.seed(123)  # ensures reproducibility of the tutorial\n",
    "guess = {\n",
    "    \"t\": np.random.uniform(8, 10, LAYERS),\n",
    "    \"s\": np.random.uniform(1, 3, LAYERS),\n",
    "}"
   ]
  },
  {
   "cell_type": "code",
   "execution_count": 17,
   "id": "59f23c54-2d33-4f0a-a158-1a67117483e6",
   "metadata": {},
   "outputs": [],
   "source": [
    "example_dict = quantum_loop(np.r_[guess[\"t\"], guess[\"s\"]])"
   ]
  },
  {
   "cell_type": "code",
   "execution_count": 18,
   "id": "846ad60f-0a8d-49f6-81c2-3568f1ee4c08",
   "metadata": {},
   "outputs": [],
   "source": [
    "def plot_distribution(C):\n",
    "    C = dict(sorted(C.items(), key=lambda item: item[1], reverse=True))\n",
    "    indexes = [\"01011\", \"00111\"]  # MIS indexes\n",
    "    color_dict = {key: \"r\" if key in indexes else \"g\" for key in C}\n",
    "    plt.figure(figsize=(12, 6))\n",
    "    plt.xlabel(\"bitstrings\")\n",
    "    plt.ylabel(\"counts\")\n",
    "    plt.bar(C.keys(), C.values(), width=0.5, color=color_dict.values())\n",
    "    plt.xticks(rotation=\"vertical\")\n",
    "    plt.show()"
   ]
  },
  {
   "cell_type": "code",
   "execution_count": 19,
   "id": "9ae62e8a-3681-41e3-9a08-9d4fa8600653",
   "metadata": {},
   "outputs": [
    {
     "data": {
      "image/png": "[encoded data removed]",
      "text/plain": [
       "<Figure size 864x432 with 1 Axes>"
      ]
     },
     "metadata": {
      "needs_background": "dark"
     },
     "output_type": "display_data"
    }
   ],
   "source": [
    "plot_distribution(example_dict)"
   ]
  },
  {
   "cell_type": "markdown",
   "id": "751f81e0-abc5-4ee2-a72b-344630ff3171",
   "metadata": {},
   "source": [
    "#### Optimization"
   ]
  },
  {
   "cell_type": "code",
   "execution_count": 20,
   "id": "b634ef2d-54d2-4706-b24a-370bf845acf7",
   "metadata": {},
   "outputs": [],
   "source": [
    "def get_cost_colouring(bitstring, Q):\n",
    "    z = np.array(list(bitstring), dtype=int)\n",
    "    cost = z.T @ Q @ z\n",
    "    return cost\n",
    "\n",
    "\n",
    "def get_cost(counter, Q):\n",
    "    cost = sum(counter[key] * get_cost_colouring(key, Q) for key in counter)\n",
    "    return cost / sum(counter.values())  # Divide by total samples"
   ]
  },
  {
   "cell_type": "markdown",
   "id": "e81a23f3-83ea-4712-bd18-c5062040a068",
   "metadata": {},
   "source": [
    "#### QAOA"
   ]
  },
  {
   "cell_type": "code",
   "execution_count": 21,
   "id": "01337df2-c6c8-4fdf-8e51-978a0ab86e4d",
   "metadata": {},
   "outputs": [],
   "source": [
    "def func(param, *args):\n",
    "    Q = args[0]\n",
    "    C = quantum_loop(param)\n",
    "    cost = get_cost(C, Q)\n",
    "    return cost"
   ]
  },
  {
   "cell_type": "code",
   "execution_count": 22,
   "id": "b7a40556-8738-49e2-9b2d-cb735552e7a0",
   "metadata": {},
   "outputs": [],
   "source": [
    "scores = []\n",
    "params = []\n",
    "for repetition in range(20):\n",
    "    guess = {\n",
    "        \"t\": np.random.uniform(1, 10, LAYERS),\n",
    "        \"s\": np.random.uniform(1, 10, LAYERS),\n",
    "    }\n",
    "\n",
    "    try:\n",
    "    \n",
    "        res = minimize(\n",
    "            func,\n",
    "            args=coupling_matrix,\n",
    "            x0=np.r_[guess[\"t\"], guess[\"s\"]],\n",
    "            method=\"Nelder-Mead\",\n",
    "            tol=1e-5,\n",
    "            options={\"maxiter\": 10},\n",
    "        )\n",
    "        scores.append(res.fun)\n",
    "        params.append(res.x)\n",
    "    \n",
    "    except Exception as e:\n",
    "        pass"
   ]
  },
  {
   "cell_type": "code",
   "execution_count": 23,
   "id": "f39a0d34-ae02-4fbd-bc68-2c72a4841586",
   "metadata": {},
   "outputs": [
    {
     "data": {
      "image/png": "[encoded data removed]",
      "text/plain": [
       "<Figure size 864x432 with 1 Axes>"
      ]
     },
     "metadata": {
      "needs_background": "dark"
     },
     "output_type": "display_data"
    }
   ],
   "source": [
    "optimal_count_dict = quantum_loop(params[np.argmin(scores)])\n",
    "plot_distribution(optimal_count_dict)"
   ]
  }
 ],
 "metadata": {
  "kernelspec": {
   "display_name": "Python 3 (ipykernel)",
   "language": "python",
   "name": "python3"
  },
  "language_info": {
   "codemirror_mode": {
    "name": "ipython",
    "version": 3
   },
   "file_extension": ".py",
   "mimetype": "text/x-python",
   "name": "python",
   "nbconvert_exporter": "python",
   "pygments_lexer": "ipython3",
   "version": "3.8.10"
  }
 },
 "nbformat": 4,
 "nbformat_minor": 5
}
