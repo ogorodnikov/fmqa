{
 "cells": [
  {
   "cell_type": "code",
   "execution_count": 2,
   "id": "1d32638a-7720-485f-a8ec-042e835b5f6f",
   "metadata": {},
   "outputs": [],
   "source": [
    "class ProteinsDataset(torch.utils.data.Dataset):\n",
    "    \n",
    "    # Encoding\n",
    "\n",
    "    AMINOACIDS = 'ACDEFGHIKLMNPQRSTVWY'\n",
    "\n",
    "    default_dna_encoding = {'A': (0, 0), 'C': (0, 1), 'G': (1, 0), 'T': (1, 1)}\n",
    "\n",
    "    default_amino_encoding = {aminoacid: tuple(int(bit) for bit in f\"{index:05b}\")\n",
    "                              for index, aminoacid in enumerate(AMINOACIDS)}\n",
    "    \n",
    "    default_encodings = {'seq': default_dna_encoding,\n",
    "                         'protein': default_amino_encoding}\n",
    "    \n",
    "    \n",
    "    def __init__(self, fields_column, target_column='energy', encoding=None):\n",
    "        \n",
    "        self.fields_column = fields_column\n",
    "        self.target_column = target_column\n",
    "        \n",
    "        self.encoding = encoding or self.default_encodings[fields_column]\n",
    "            \n",
    "        self.decoding = {bits: symbol for symbol, bits in self.encoding.items()}\n",
    "\n",
    "        self.bits_per_symbol = len(list(self.encoding.values())[0])\n",
    "               \n",
    "        self.fields = None\n",
    "        self.targets = np.array([])        \n",
    "        self.data = pd.DataFrame()\n",
    "        \n",
    "    \n",
    "    def extend(self, dataset_path):        \n",
    "        \n",
    "        data = pd.read_csv(dataset_path, index_col=0)\n",
    "        \n",
    "        column_mapping = self.unify_column_names(data.columns)\n",
    "        \n",
    "        data.rename(columns=column_mapping, inplace=True)\n",
    "        \n",
    "        \n",
    "        # Fields\n",
    "        \n",
    "        field_series = data[self.fields_column]\n",
    "        \n",
    "        field_bits_count = len(field_series[0]) * self.bits_per_symbol\n",
    "        \n",
    "        if self.fields is None:            \n",
    "            self.fields = np.array([]).reshape(0, field_bits_count).astype(int)\n",
    "        \n",
    "        new_fields = np.vstack(field_series.apply(self.encode))\n",
    "        new_targets = data[self.target_column].to_numpy()\n",
    "        \n",
    "        self.fields = np.vstack([self.fields, new_fields])\n",
    "        self.targets = np.concatenate([self.targets, new_targets])\n",
    "        \n",
    "        self.data = pd.concat([self.data, data])\n",
    "        \n",
    "        \n",
    "        # Dimensions\n",
    "        \n",
    "        self.field_dimensions = np.max(self.fields, axis=0).astype(int) + 1\n",
    "        \n",
    "        self.field_dimensions[self.field_dimensions < 2] = 2\n",
    "        \n",
    "    \n",
    "    def unify_column_names(self, column_names):\n",
    "        \n",
    "        new_column_names = []\n",
    "        \n",
    "        for column_name in column_names:\n",
    "                        \n",
    "            if '_' in column_name:\n",
    "                \n",
    "                column_name_parts = column_name.split('_')\n",
    "                \n",
    "                new_column_name = '_'.join(column_name_parts[1:])\n",
    "                \n",
    "            else:\n",
    "                \n",
    "                new_column_name = column_name\n",
    "                \n",
    "            new_column_names.append(new_column_name)\n",
    "        \n",
    "        column_mapping = dict(zip(column_names, new_column_names))\n",
    "        \n",
    "        return column_mapping\n",
    "    \n",
    "    \n",
    "    def encode(self, symbols):\n",
    "        \n",
    "        # binary = [bit for nucleotide in dna_sequence \n",
    "        #           for bit in self.dna_encoding[nucleotide]]\n",
    "        \n",
    "        bits = []\n",
    "\n",
    "        for symbol in symbols:\n",
    "\n",
    "            bits.extend(self.encoding[symbol])\n",
    "\n",
    "        return bits\n",
    "    \n",
    "    \n",
    "    def decode(self, bits):\n",
    "        \n",
    "        symbols = ''\n",
    "        \n",
    "        # bit_chunks = zip(bits[0::2], bits[1::2])\n",
    "        \n",
    "        bit_chunks = np.array(bits).reshape(-1, self.bits_per_symbol)\n",
    "        \n",
    "        for bit_chunk in bit_chunks:\n",
    "        \n",
    "            symbols += self.decoding.get(tuple(bit_chunk), 'X')\n",
    "            \n",
    "        return symbols\n",
    "        \n",
    "        \n",
    "    def save(self, file_path):\n",
    "        \n",
    "        self.data.to_csv(file_path, index=False)\n",
    "        \n",
    "    \n",
    "    def __len__(self):\n",
    "        \n",
    "        return self.fields.shape[0]\n",
    "    \n",
    "\n",
    "    def __getitem__(self, index):\n",
    "        \n",
    "        fields = self.fields[index]\n",
    "        target = self.targets[index].squeeze()\n",
    "        \n",
    "        return fields, target\n",
    "    \n",
    "    \n",
    "    def append_records(self, new_fields, new_targets, record_repetitions_count):\n",
    "        \n",
    "        new_rows_count = new_fields.shape[0] * record_repetitions_count\n",
    "    \n",
    "        new_fields_array = np.tile(new_fields, (record_repetitions_count, 1))\n",
    "        new_targets_array = np.tile(new_targets, (record_repetitions_count, 1)).ravel()\n",
    "\n",
    "        self.fields = np.vstack((self.fields, new_fields_array))\n",
    "        self.targets = np.concatenate((self.targets, new_targets_array))\n",
    "        \n",
    "        # TODO: append to self.data"
   ]
  },
  {
   "cell_type": "code",
   "execution_count": 3,
   "id": "70898fb3-6bf9-44c2-8683-76db933deea7",
   "metadata": {},
   "outputs": [
    {
     "data": {
      "text/plain": [
       "((21594, 110), (21594,))"
      ]
     },
     "execution_count": 3,
     "metadata": {},
     "output_type": "execute_result"
    }
   ],
   "source": [
    "# FIELDS_COLUMN = 'seq'\n",
    "FIELDS_COLUMN = 'protein'\n",
    "\n",
    "dataset = ProteinsDataset(fields_column=FIELDS_COLUMN)\n",
    "\n",
    "dataset.extend('datasets/f100.csv')\n",
    "dataset.extend('datasets/f100r.csv')\n",
    "dataset.extend('datasets/m1.csv')\n",
    "dataset.extend('datasets/m1r.csv')\n",
    "# # dataset.extend('datasets/pilot_x1.csv')\n",
    "# # dataset.extend('datasets/pilot_x1r.csv')\n",
    "dataset.extend('datasets/x1.csv')\n",
    "dataset.extend('datasets/x1r.csv')\n",
    "dataset.extend('datasets/x100.csv')\n",
    "dataset.extend('datasets/x100r.csv')\n",
    "\n",
    "dataset.fields.shape, dataset.targets.shape"
   ]
  },
  {
   "cell_type": "code",
   "execution_count": 4,
   "id": "d7c4fa9f-bd22-4274-9c47-2143029451ff",
   "metadata": {},
   "outputs": [],
   "source": [
    "# dataset.save('datasets/combined_dataset.csv')"
   ]
  },
  {
   "cell_type": "code",
   "execution_count": 5,
   "id": "ad558e10-3df7-4015-98bc-4e93cdd1ae4c",
   "metadata": {
    "tags": []
   },
   "outputs": [],
   "source": [
    "def decode_sampling_results(sampling_results):\n",
    "\n",
    "    results = []\n",
    "\n",
    "    for sampling_result in sampling_results.data():\n",
    "\n",
    "        samples = np.array(list(sampling_result.sample.values()))\n",
    "        \n",
    "        bits = qubo.one_hot_to_bits(samples)\n",
    "        \n",
    "        symbols = dataset.decode(bits)\n",
    "        \n",
    "        decimal = sum(number * 2 ** position for position, number in enumerate(reversed(bits)))\n",
    "\n",
    "        result = {'decimal': np.array(decimal),\n",
    "                  'samples': samples,\n",
    "                  'bits': bits,\n",
    "                  'symbols': symbols,\n",
    "                  'qubo_energy': sampling_result.energy,\n",
    "                  'num_occurrences': sampling_result.num_occurrences}\n",
    "        \n",
    "        results.append(result)\n",
    "\n",
    "    results = pd.DataFrame(results)\n",
    "    \n",
    "    bits = np.vstack(results['bits'])\n",
    "    \n",
    "    target_binding_energies = target_regressor.predict(bits)\n",
    "    \n",
    "    offtarget_binding_energies = [offtarget_regressor.predict(bits) \n",
    "                                  for offtarget_regressor in offtarget_regressors]\n",
    "    \n",
    "    results['target_binding_energy'] = target_binding_energies\n",
    "    results['offtarget_binding_energy'] = np.vstack(offtarget_binding_energies).sum(axis=0)\n",
    "    results['offtarget_binding_energy'] = results['offtarget_binding_energy'] / len(offtarget_proteins)\n",
    "    \n",
    "    results['binding_energy'] = results['target_binding_energy'] - results['offtarget_binding_energy']\n",
    "    \n",
    "    return results"
   ]
  },
  {
   "cell_type": "code",
   "execution_count": 6,
   "id": "800a63d1-e78a-4185-ba2d-5c7bd969f054",
   "metadata": {},
   "outputs": [],
   "source": [
    "# Datasets\n",
    "\n",
    "\n",
    "# FIELDS_COLUMN = 'seq'\n",
    "FIELDS_COLUMN = 'protein'\n",
    "\n",
    "# DATASET_PATHES = {'f100': ['datasets/f100.csv', 'datasets/f100r.csv'],\n",
    "#                   'm1': ['datasets/m1.csv', 'datasets/m1r.csv'],\n",
    "#                   'x1': ['datasets/x1.csv', 'datasets/x1r.csv'],\n",
    "#                   # 'x100': ['datasets/x100.csv', 'datasets/x100r.csv']\n",
    "#                  }\n",
    "\n",
    "DATASET_PATHES = {'f100': ['datasets/f100.csv'],\n",
    "                  'm1': ['datasets/m1.csv'],\n",
    "                  'x1': ['datasets/x1.csv']}\n",
    "\n",
    "datasets = dict()\n",
    "\n",
    "for dataset_name, dataset_pathes in DATASET_PATHES.items():\n",
    "    \n",
    "    dataset = ProteinsDataset(fields_column=FIELDS_COLUMN)\n",
    "    \n",
    "    for dataset_path in dataset_pathes:\n",
    "        \n",
    "        dataset.extend(dataset_path)\n",
    "        \n",
    "    datasets[dataset_name] = dataset"
   ]
  },
  {
   "cell_type": "code",
   "execution_count": 7,
   "id": "d5c40628-c752-41d9-8863-c1949c6c6334",
   "metadata": {},
   "outputs": [
    {
     "name": "stdout",
     "output_type": "stream",
     "text": [
      "dataset_name: f100\n",
      "dataset_name: m1\n",
      "dataset_name: x1\n",
      "regressor_r2_scores: [0.36797567023671174, 0.6271919656487956, 0.5123140273951633]\n"
     ]
    }
   ],
   "source": [
    "# Regressors\n",
    "\n",
    "import xgboost as xgb\n",
    "\n",
    "from sklearn.metrics import r2_score\n",
    "from sklearn.model_selection import train_test_split\n",
    "\n",
    "\n",
    "# MAX_DEPTH = 7\n",
    "ESTIMATORS_COUNT = 1000\n",
    "\n",
    "\n",
    "regressors = dict()\n",
    "regressor_r2_scores = []\n",
    "\n",
    "for dataset_name, dataset in datasets.items():\n",
    "    \n",
    "    print(\"dataset_name:\", dataset_name)\n",
    "\n",
    "    regressor = xgb.XGBRegressor(eval_metric=r2_score, \n",
    "                                 # max_depth=MAX_DEPTH, \n",
    "                                 n_estimators=ESTIMATORS_COUNT\n",
    "                                )\n",
    "    \n",
    "    train_fields, test_fields, train_targets, test_targets = train_test_split(dataset.fields,\n",
    "                                                                              dataset.targets,\n",
    "                                                                              test_size=0.2)\n",
    "    regressor.fit(train_fields, train_targets)\n",
    "    \n",
    "    regressors[dataset_name] = regressor\n",
    "    \n",
    "    score = regressor.score(test_fields, test_targets)\n",
    "\n",
    "    regressor_r2_scores.append(score)\n",
    "    \n",
    "print(\"regressor_r2_scores:\", regressor_r2_scores)"
   ]
  },
  {
   "cell_type": "code",
   "execution_count": 8,
   "id": "6ea3b1ce-eed9-4fe3-86d6-19af19ff3f1d",
   "metadata": {},
   "outputs": [
    {
     "name": "stdout",
     "output_type": "stream",
     "text": [
      "updated_dataset.field_dimensions: (110,)\n"
     ]
    }
   ],
   "source": [
    "# Initialize FMQA Loop\n",
    "\n",
    "TARGET_PROTEIN = 'm1'\n",
    "\n",
    "\n",
    "target_dataset = datasets[TARGET_PROTEIN]\n",
    "\n",
    "# sampler = TabuSampler()\n",
    "\n",
    "sampler = ORToolsSampler()\n",
    "\n",
    "splitter = Splitter(target_dataset, batch_size=100, dataloader_workers_count=8)\n",
    "\n",
    "trainer = Trainer(splitter=splitter, embedding_dimensions=16)\n",
    "\n",
    "energy_mins = []\n",
    "energy_maxs = []\n",
    "energy_means = []\n",
    "\n",
    "initial_dataset_energies = target_dataset.targets\n",
    "\n",
    "# offtarget_binding_energies = [0] * len(initial_dataset_energies)\n",
    "\n",
    "offtarget_proteins = set(datasets) - {TARGET_PROTEIN}\n",
    "\n",
    "target_regressor = regressors[TARGET_PROTEIN]\n",
    "offtarget_regressors = [regressors[offtarget_protein] \n",
    "                        for offtarget_protein in offtarget_proteins]\n",
    "\n",
    "offtarget_predictions = [offtarget_regressor.predict(target_dataset.fields) \n",
    "                         for offtarget_regressor in offtarget_regressors]\n",
    "\n",
    "offtarget_binding_energies = np.vstack(offtarget_predictions).sum(axis=0) / len(offtarget_proteins)\n",
    "\n",
    "total_iteration = 0\n",
    "\n",
    "print(\"updated_dataset.field_dimensions:\", dataset.field_dimensions.shape)"
   ]
  },
  {
   "cell_type": "code",
   "execution_count": 9,
   "id": "069967a3-f53f-4d0d-ad9d-61c5f52d77df",
   "metadata": {},
   "outputs": [
    {
     "name": "stdout",
     "output_type": "stream",
     "text": [
      "Iteration 1/1\n",
      "splitter.lengths: (2660, 2992, 3326)\n"
     ]
    },
    {
     "name": "stderr",
     "output_type": "stream",
     "text": [
      "Epoch: 30/30:   0%|                                                             | 0/810 [00:10<?, ? batches/s]"
     ]
    },
    {
     "name": "stdout",
     "output_type": "stream",
     "text": [
      "Test r2_score: 0.32799\n"
     ]
    },
    {
     "name": "stderr",
     "output_type": "stream",
     "text": [
      "\n"
     ]
    },
    {
     "name": "stdout",
     "output_type": "stream",
     "text": [
      "new_targets.min(): -11.33\n",
      "dataset.targets.min(): -12.68\n",
      "initial_dataset_energies.min(): -13.35\n",
      "\n"
     ]
    },
    {
     "data": {
      "image/png": "[encoded data removed]",
      "text/plain": [
       "<Figure size 1080x360 with 1 Axes>"
      ]
     },
     "metadata": {
      "needs_background": "dark"
     },
     "output_type": "display_data"
    },
    {
     "data": {
      "image/png": "[encoded data removed]",
      "text/plain": [
       "<Figure size 1080x360 with 1 Axes>"
      ]
     },
     "metadata": {
      "needs_background": "dark"
     },
     "output_type": "display_data"
    }
   ],
   "source": [
    "ITERATIONS_COUNT = 1\n",
    "\n",
    "INITIAL_EPOCHS_COUNT = 30\n",
    "EPOCHS_COUNT = 1\n",
    "DATASET_SHARE = 1\n",
    "\n",
    "TOP_SIZE = 10\n",
    "SAMPLE_REPETITIONS_COUNT = 100\n",
    "\n",
    "SHOTS_COUNT = 100\n",
    "PENALTY_VALUE = 10\n",
    "MAXIMIZE = False\n",
    "\n",
    "ORTOOLS_TIME_LIMIT = 10\n",
    "\n",
    "total_iterations_count = total_iteration + ITERATIONS_COUNT\n",
    "\n",
    "\n",
    "for iteration in range(ITERATIONS_COUNT):\n",
    "    \n",
    "    total_iteration += 1\n",
    "    \n",
    "    print(f\"Iteration {total_iteration}/{total_iterations_count}\")\n",
    "    \n",
    "    splitter = Splitter(target_dataset, batch_size=100, dataloader_workers_count=8,\n",
    "                        dataset_share=DATASET_SHARE)\n",
    "    \n",
    "    print(\"splitter.lengths:\", splitter.lengths)\n",
    "\n",
    "    trainer = Trainer(splitter=splitter, embedding_dimensions=16,\n",
    "                      model=trainer.model,\n",
    "                      optimizer=trainer.optimizer)\n",
    "       \n",
    "    epochs_count = INITIAL_EPOCHS_COUNT if total_iteration == 1 else EPOCHS_COUNT\n",
    "    \n",
    "    trainer.fit(epochs=epochs_count, validate=False, test=True,\n",
    "                disable_progressbar_printout=False)\n",
    "\n",
    "    qubo = PortfolioQubo(trainer=trainer,\n",
    "                         penalty_value=PENALTY_VALUE,\n",
    "                         maximize=MAXIMIZE)    \n",
    "\n",
    "    sampling_results = sampler.sample_qubo(Q=qubo.qubo_coefficients, \n",
    "                                           num_reads=SHOTS_COUNT,\n",
    "                                           time_limit=ORTOOLS_TIME_LIMIT)\n",
    "    \n",
    "    aggregated_results = sampling_results.aggregate()\n",
    "\n",
    "    filtered_results = aggregated_results.filter(pred=qubo.is_correct_one_hot)\n",
    "    \n",
    "    results = decode_sampling_results(filtered_results)\n",
    "    \n",
    "\n",
    "    \n",
    "    # Top results\n",
    "    \n",
    "    top_results = results.sort_values(by='binding_energy', ascending=True)[:TOP_SIZE]\n",
    "    \n",
    "    new_fields = np.vstack(top_results['bits'].to_numpy())\n",
    "    new_targets = top_results['target_binding_energy'].to_numpy()\n",
    "    \n",
    "\n",
    "    # Append to Dataset\n",
    "    \n",
    "    target_dataset.append_records(new_fields, new_targets, SAMPLE_REPETITIONS_COUNT)\n",
    "    \n",
    "    \n",
    "    # Energy Dynamics\n",
    "\n",
    "    min_energy = new_targets.min()    \n",
    "    mean_energy = new_targets.mean()\n",
    "    max_energy = new_targets.max()\n",
    "    \n",
    "    energy_mins.append(min_energy)    \n",
    "    energy_means.append(mean_energy)\n",
    "    energy_maxs.append(max_energy)\n",
    "    \n",
    "    new_offtarget_binding_energies = np.tile(top_results['offtarget_binding_energy'], \n",
    "                                             (SAMPLE_REPETITIONS_COUNT, 1))\n",
    "    \n",
    "    offtarget_binding_energies = np.append(offtarget_binding_energies, new_offtarget_binding_energies)\n",
    "\n",
    "    print(f\"new_targets.min(): {new_targets.min():.02f}\")\n",
    "    print(f\"dataset.targets.min(): {dataset.targets.min():.02f}\")\n",
    "    print(f\"initial_dataset_energies.min(): {initial_dataset_energies.min():.02f}\")\n",
    "    print()\n",
    "    \n",
    "    if min_energy == mean_energy == max_energy:\n",
    "        \n",
    "        print(\"Converged:\", mean_energy)\n",
    "        break\n",
    "        \n",
    "# Plots\n",
    "\n",
    "plt.figure(figsize=(15, 5))\n",
    "plt.title(\"FMQA - Target Binding Energies\")\n",
    "plt.xlabel(\"Peptide\")\n",
    "plt.ylabel(\"Target Binding Energy\")\n",
    "\n",
    "plt.plot(target_dataset.targets)\n",
    "plt.show()\n",
    "\n",
    "plt.figure(figsize=(15, 5))\n",
    "plt.title(\"FMQA - Offtarget Binding Energies\")\n",
    "plt.xlabel(\"Peptide\")\n",
    "plt.ylabel(\"Offtarget Binding Energy\")\n",
    "\n",
    "plt.plot(offtarget_binding_energies)\n",
    "plt.show()"
   ]
  },
  {
   "cell_type": "code",
   "execution_count": 31,
   "id": "e1b8114e-d2af-4baf-bd14-eb8fcaaae625",
   "metadata": {},
   "outputs": [
    {
     "data": {
      "text/html": [
       "<div>\n",
       "<style scoped>\n",
       "    .dataframe tbody tr th:only-of-type {\n",
       "        vertical-align: middle;\n",
       "    }\n",
       "\n",
       "    .dataframe tbody tr th {\n",
       "        vertical-align: top;\n",
       "    }\n",
       "\n",
       "    .dataframe thead th {\n",
       "        text-align: right;\n",
       "    }\n",
       "</style>\n",
       "<table border=\"1\" class=\"dataframe\">\n",
       "  <thead>\n",
       "    <tr style=\"text-align: right;\">\n",
       "      <th></th>\n",
       "      <th>decimal</th>\n",
       "      <th>samples</th>\n",
       "      <th>bits</th>\n",
       "      <th>symbols</th>\n",
       "      <th>qubo_energy</th>\n",
       "      <th>num_occurrences</th>\n",
       "      <th>target_binding_energy</th>\n",
       "      <th>offtarget_binding_energy</th>\n",
       "      <th>binding_energy</th>\n",
       "    </tr>\n",
       "  </thead>\n",
       "  <tbody>\n",
       "    <tr>\n",
       "      <th>0</th>\n",
       "      <td>2.545205023002197e+30</td>\n",
       "      <td>[0, 1, 0, 1, 0, 1, 0, 1, 0, 1, 0, 1, 0, 1, 0, ...</td>\n",
       "      <td>[0, 0, 0, 0, 0, 0, 0, 0, 1, 0, 0, 0, 0, 0, 0, ...</td>\n",
       "      <td>ADAKAAKAAAAAAAADAAAAAA</td>\n",
       "      <td>-1110.955963</td>\n",
       "      <td>1</td>\n",
       "      <td>-10.858204</td>\n",
       "      <td>-9.980733</td>\n",
       "      <td>-0.877471</td>\n",
       "    </tr>\n",
       "  </tbody>\n",
       "</table>\n",
       "</div>"
      ],
      "text/plain": [
       "                 decimal                                            samples  \\\n",
       "0  2.545205023002197e+30  [0, 1, 0, 1, 0, 1, 0, 1, 0, 1, 0, 1, 0, 1, 0, ...   \n",
       "\n",
       "                                                bits                 symbols  \\\n",
       "0  [0, 0, 0, 0, 0, 0, 0, 0, 1, 0, 0, 0, 0, 0, 0, ...  ADAKAAKAAAAAAAADAAAAAA   \n",
       "\n",
       "   qubo_energy  num_occurrences  target_binding_energy  \\\n",
       "0 -1110.955963                1             -10.858204   \n",
       "\n",
       "   offtarget_binding_energy  binding_energy  \n",
       "0                 -9.980733       -0.877471  "
      ]
     },
     "execution_count": 31,
     "metadata": {},
     "output_type": "execute_result"
    }
   ],
   "source": [
    "results.head(1)"
   ]
  },
  {
   "cell_type": "code",
   "execution_count": 17,
   "id": "f96aa34e-e04b-47c9-afb4-749d75e33e53",
   "metadata": {
    "jupyter": {
     "source_hidden": true
    },
    "tags": []
   },
   "outputs": [],
   "source": [
    "# # Save Plot\n",
    "\n",
    "# plt.figure(figsize=(15, 5))\n",
    "# plt.title(\"FMQA - Dynamic Dataset\")\n",
    "# plt.xlabel(\"Peptide\")\n",
    "# plt.ylabel(\"Binding Energy\")\n",
    "\n",
    "# plt.plot(dataset.targets)\n",
    "# plt.savefig('figures/proteins_fmqa_3.png');"
   ]
  },
  {
   "cell_type": "code",
   "execution_count": 18,
   "id": "98a2e078-d9e5-4f92-a659-f5b9aebc199d",
   "metadata": {
    "jupyter": {
     "source_hidden": true
    },
    "tags": []
   },
   "outputs": [
    {
     "data": {
      "image/png": "[encoded data removed]",
      "text/plain": [
       "<Figure size 432x288 with 2 Axes>"
      ]
     },
     "metadata": {
      "needs_background": "dark"
     },
     "output_type": "display_data"
    }
   ],
   "source": [
    "# Plot Top Sample Energies\n",
    "\n",
    "plt.plot(results.binding_energy)\n",
    "plt.title('Top Sample Energies')\n",
    "plt.ylabel('Binding Energy')\n",
    "\n",
    "qubo_energy_ax = plt.twinx()\n",
    "qubo_energy_ax.plot(results.qubo_energy, c='C5')\n",
    "qubo_energy_ax.set_ylabel('QUBO Energy')\n",
    "\n",
    "plt.show()"
   ]
  },
  {
   "cell_type": "code",
   "execution_count": null,
   "id": "3b48fc99-2415-421f-becc-617959892d1e",
   "metadata": {},
   "outputs": [],
   "source": []
  },
  {
   "cell_type": "markdown",
   "id": "0e8f0175-0a2d-40a0-bf5d-7d3a4b1f6af3",
   "metadata": {
    "tags": []
   },
   "source": [
    "### 3) ORTools Sampler "
   ]
  },
  {
   "cell_type": "code",
   "execution_count": 64,
   "id": "8c89bb4e-7ae1-44c9-a4cf-2054c97c173c",
   "metadata": {},
   "outputs": [],
   "source": [
    "from ortools.sat.python import cp_model"
   ]
  },
  {
   "cell_type": "code",
   "execution_count": 65,
   "id": "6d37ef4e-2a4e-4628-9cc3-abf9fc755b75",
   "metadata": {},
   "outputs": [
    {
     "name": "stdout",
     "output_type": "stream",
     "text": [
      "optimization model 'QUBO CP-SAT Model':\n",
      "#Variables: 23932 (#bools:23932 in floating point objective)\n",
      "  - 23932 Booleans in [0,1]\n",
      "#kBoolOr: 71136 (#enforced: 47424) (#literals: 118560)\n"
     ]
    }
   ],
   "source": [
    "# Alt Model\n",
    "\n",
    "model = cp_model.CpModel()\n",
    "model.SetName('QUBO CP-SAT Model')\n",
    "\n",
    "variables_count = qubo.coupling_matrix.shape[0]\n",
    "\n",
    "variable_indices = list(range(variables_count))\n",
    "\n",
    "variables = [model.NewBoolVar(f'linear_{index}') \n",
    "             for index in variable_indices]\n",
    "\n",
    "objective_variables = []\n",
    "objective_coefficients = []\n",
    "\n",
    "for (i, j), coefficient in qubo.qubo_coefficients.items():\n",
    "    \n",
    "    if coefficient == 0.0:\n",
    "        continue\n",
    "        \n",
    "    if i == j:\n",
    "        \n",
    "        variable = variables[i]\n",
    "        \n",
    "    else:\n",
    "        \n",
    "        variable = model.NewBoolVar(f'quadratic_{i}_{j}')\n",
    "        \n",
    "        model.AddBoolOr([variables[i].Not(), \n",
    "                         variables[j].Not(), \n",
    "                         variable])\n",
    "        model.AddImplication(variable, variables[i])\n",
    "        model.AddImplication(variable, variables[j])        \n",
    "        \n",
    "    objective_variables.append(variable)\n",
    "    objective_coefficients.append(coefficient)\n",
    "    \n",
    "\n",
    "model.Minimize(sum(objective_variables[i] * objective_coefficients[i]\n",
    "                   for i in range(len(objective_variables))))\n",
    "\n",
    "print(model.ModelStats())"
   ]
  },
  {
   "cell_type": "code",
   "execution_count": 66,
   "id": "1ae9098b-564b-4254-a6d0-aa9fc9a59490",
   "metadata": {},
   "outputs": [],
   "source": [
    "class SolutionCollector(cp_model.CpSolverSolutionCallback):\n",
    "\n",
    "    def __init__(self, variables):\n",
    "        \n",
    "        super().__init__()\n",
    "        \n",
    "        self.__variables = variables\n",
    "        self.solutions = []\n",
    "        self.energies = []\n",
    "\n",
    "    def on_solution_callback(self):\n",
    "        \n",
    "        # print([v.Name() for v in variables])\n",
    "        # print(list(map(self.Value, variables)))\n",
    "        \n",
    "        solution = list(map(self.Value, self.__variables))        \n",
    "        energy = self.ObjectiveValue()\n",
    "    \n",
    "        self.solutions.append(solution)\n",
    "        self.energies.append(energy)"
   ]
  },
  {
   "cell_type": "code",
   "execution_count": 72,
   "id": "4d513320-4cc3-4436-bcb8-932cfb8f3cf3",
   "metadata": {},
   "outputs": [
    {
     "name": "stdout",
     "output_type": "stream",
     "text": [
      "\n",
      "Statistics:\n",
      "  status   : FEASIBLE\n",
      "  conflicts: 0\n",
      "  branches : 37056\n",
      "  wall time: 10.192876843 s\n"
     ]
    }
   ],
   "source": [
    "### Solve model\n",
    "\n",
    "solver = cp_model.CpSolver()\n",
    "solver.parameters.num_search_workers = 16\n",
    "# solver.parameters.log_search_progress = True\n",
    "\n",
    "solver.parameters.max_time_in_seconds = 10.0\n",
    "\n",
    "collector = SolutionCollector(variables)\n",
    "\n",
    "status = solver.Solve(model, collector)\n",
    "\n",
    "# status = solver.Solve(model)\n",
    "\n",
    "# Statistics\n",
    "\n",
    "print()\n",
    "print('Statistics:')\n",
    "print(f'  status   : {solver.StatusName(status)}')\n",
    "print(f'  conflicts: {solver.NumConflicts()}')\n",
    "print(f'  branches : {solver.NumBranches()}')\n",
    "print(f'  wall time: {solver.WallTime()} s')"
   ]
  },
  {
   "cell_type": "code",
   "execution_count": 68,
   "id": "25d8fdf0-9e3e-4eeb-96db-6f825e0ab5bf",
   "metadata": {},
   "outputs": [
    {
     "data": {
      "text/plain": [
       "(array([1, 0, 0, 1, 1, 0, 0, 1, 1, 0, 0, 1, 1, 0, 1, 0, 0, 1, 0, 1, 0, 1,\n",
       "        0, 1, 0, 1, 0, 1, 1, 0, 1, 0, 0, 1, 1, 0, 0, 1, 0, 1, 0, 1, 0, 1,\n",
       "        0, 1, 0, 1, 0, 1, 1, 0, 0, 1, 0, 1, 0, 1, 0, 1, 0, 1, 0, 1, 0, 1,\n",
       "        0, 1, 0, 1, 0, 1, 0, 1, 0, 1, 0, 1, 0, 1, 0, 1, 1, 0, 0, 1, 0, 1,\n",
       "        0, 1, 0, 1, 0, 1, 0, 1, 0, 1, 0, 1, 0, 1, 1, 0, 0, 1, 0, 1, 1, 0,\n",
       "        0, 1, 0, 1, 0, 1, 1, 0, 0, 1, 0, 1, 1, 0, 1, 0, 1, 0, 0, 1, 0, 1,\n",
       "        0, 1, 0, 1, 0, 1, 0, 1, 0, 1, 0, 1, 0, 1, 0, 1, 0, 1, 0, 1, 0, 1,\n",
       "        0, 1, 1, 0, 0, 1, 0, 1, 0, 1, 0, 1, 0, 1, 0, 1, 0, 1, 0, 1, 0, 1,\n",
       "        0, 1, 1, 0, 1, 0, 0, 1, 0, 1, 0, 1, 0, 1, 0, 1, 0, 1, 0, 1, 0, 1,\n",
       "        1, 0, 0, 1, 0, 1, 0, 1, 0, 1, 1, 0, 0, 1, 0, 1, 0, 1, 0, 1, 1, 0]),\n",
       " -1110.7305543720722,\n",
       " (39, 220))"
      ]
     },
     "execution_count": 68,
     "metadata": {},
     "output_type": "execute_result"
    }
   ],
   "source": [
    "solutions = np.array(collector.solutions)\n",
    "\n",
    "solutions[-1], collector.energies[-1], solutions.shape"
   ]
  },
  {
   "cell_type": "code",
   "execution_count": 69,
   "id": "fd1f755a-2016-4d8f-afb1-8a8479b7436e",
   "metadata": {},
   "outputs": [
    {
     "name": "stdout",
     "output_type": "stream",
     "text": [
      "Sample(sample={0: 10, 1: 11}, energy=100, num_occurrences=1000)\n",
      "Sample(sample={0: 20, 1: 21}, energy=200, num_occurrences=2000)\n"
     ]
    }
   ],
   "source": [
    "samples = dimod.SampleSet.from_samples([{0: 10, 1: 11},\n",
    "                              {0: 20, 1: 21}], \n",
    "                             energy=[[100, 200]],\n",
    "                             num_occurrences=[[1000, 2000]],\n",
    "                             vartype='BINARY')\n",
    "\n",
    "for sample in samples.data():\n",
    "    \n",
    "    print(sample)"
   ]
  },
  {
   "cell_type": "code",
   "execution_count": 70,
   "id": "0b83e615-9e6d-438d-b5ce-f77676f336ec",
   "metadata": {},
   "outputs": [
    {
     "name": "stdout",
     "output_type": "stream",
     "text": [
      "Sample(sample={0: 1, 1: 0, 2: 0, 3: 1, 4: 1, 5: 0, 6: 0, 7: 1, 8: 1, 9: 0, 10: 0, 11: 1, 12: 1, 13: 0, 14: 1, 15: 0, 16: 0, 17: 1, 18: 0, 19: 1, 20: 0, 21: 1, 22: 0, 23: 1, 24: 0, 25: 1, 26: 0, 27: 1, 28: 1, 29: 0, 30: 1, 31: 0, 32: 0, 33: 1, 34: 1, 35: 0, 36: 0, 37: 1, 38: 0, 39: 1, 40: 0, 41: 1, 42: 0, 43: 1, 44: 0, 45: 1, 46: 0, 47: 1, 48: 0, 49: 1, 50: 1, 51: 0, 52: 0, 53: 1, 54: 0, 55: 1, 56: 0, 57: 1, 58: 0, 59: 1, 60: 0, 61: 1, 62: 0, 63: 1, 64: 0, 65: 1, 66: 0, 67: 1, 68: 0, 69: 1, 70: 0, 71: 1, 72: 0, 73: 1, 74: 0, 75: 1, 76: 0, 77: 1, 78: 0, 79: 1, 80: 0, 81: 1, 82: 1, 83: 0, 84: 0, 85: 1, 86: 0, 87: 1, 88: 0, 89: 1, 90: 0, 91: 1, 92: 0, 93: 1, 94: 0, 95: 1, 96: 0, 97: 1, 98: 0, 99: 1, 100: 0, 101: 1, 102: 1, 103: 0, 104: 0, 105: 1, 106: 0, 107: 1, 108: 1, 109: 0, 110: 0, 111: 1, 112: 0, 113: 1, 114: 0, 115: 1, 116: 1, 117: 0, 118: 0, 119: 1, 120: 0, 121: 1, 122: 1, 123: 0, 124: 1, 125: 0, 126: 1, 127: 0, 128: 0, 129: 1, 130: 0, 131: 1, 132: 0, 133: 1, 134: 0, 135: 1, 136: 0, 137: 1, 138: 0, 139: 1, 140: 0, 141: 1, 142: 0, 143: 1, 144: 0, 145: 1, 146: 0, 147: 1, 148: 0, 149: 1, 150: 0, 151: 1, 152: 0, 153: 1, 154: 0, 155: 1, 156: 1, 157: 0, 158: 0, 159: 1, 160: 0, 161: 1, 162: 0, 163: 1, 164: 0, 165: 1, 166: 0, 167: 1, 168: 0, 169: 1, 170: 0, 171: 1, 172: 0, 173: 1, 174: 0, 175: 1, 176: 0, 177: 1, 178: 1, 179: 0, 180: 1, 181: 0, 182: 0, 183: 1, 184: 0, 185: 1, 186: 0, 187: 1, 188: 0, 189: 1, 190: 0, 191: 1, 192: 0, 193: 1, 194: 0, 195: 1, 196: 0, 197: 1, 198: 1, 199: 0, 200: 0, 201: 1, 202: 0, 203: 1, 204: 0, 205: 1, 206: 0, 207: 1, 208: 1, 209: 0, 210: 0, 211: 1, 212: 0, 213: 1, 214: 0, 215: 1, 216: 0, 217: 1, 218: 1, 219: 0}, energy=-1110.7305543720722, num_occurrences=1)\n"
     ]
    }
   ],
   "source": [
    "cp_samples = dimod.SampleSet.from_samples(\n",
    "    solutions,\n",
    "    energy=collector.energies,\n",
    "    vartype='BINARY'\n",
    ")\n",
    "\n",
    "for sample in cp_samples.data():\n",
    "    \n",
    "    print(sample)\n",
    "    \n",
    "    break"
   ]
  },
  {
   "cell_type": "code",
   "execution_count": null,
   "id": "f0742565-1e58-4930-878c-9bb0b32467d7",
   "metadata": {},
   "outputs": [],
   "source": []
  }
 ],
 "metadata": {
  "kernelspec": {
   "display_name": "Python 3 (ipykernel)",
   "language": "python",
   "name": "python3"
  },
  "language_info": {
   "codemirror_mode": {
    "name": "ipython",
    "version": 3
   },
   "file_extension": ".py",
   "mimetype": "text/x-python",
   "name": "python",
   "nbconvert_exporter": "python",
   "pygments_lexer": "ipython3",
   "version": "3.8.10"
  }
 },
 "nbformat": 4,
 "nbformat_minor": 5
}
