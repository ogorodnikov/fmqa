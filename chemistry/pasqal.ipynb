{
 "cells": [
  {
   "cell_type": "markdown",
   "id": "a7c6ca85-5510-47d8-a5d4-f07f39865ba2",
   "metadata": {
    "tags": []
   },
   "source": [
    "### 1) Imports"
   ]
  },
  {
   "cell_type": "code",
   "execution_count": 1,
   "id": "dcc7724d-79d4-4020-bf76-41af89079679",
   "metadata": {},
   "outputs": [],
   "source": [
    "# https://github.com/pasqal-io/Pulser/blob/develop/tutorials/applications/QAOA%20and%20QAA%20to%20solve%20a%20QUBO%20problem.ipynb"
   ]
  },
  {
   "cell_type": "code",
   "execution_count": 2,
   "id": "61ea1181-68a5-4df2-ae2f-28fbe5bbdca5",
   "metadata": {},
   "outputs": [],
   "source": [
    "import numpy as np\n",
    "import matplotlib.pyplot as plt\n",
    "\n",
    "from pulser import Pulse\n",
    "from pulser import Sequence\n",
    "from pulser import Register\n",
    "\n",
    "from pulser.devices import Chadoq2\n",
    "from pulser.waveforms import InterpolatedWaveform\n",
    "\n",
    "from pulser_simulation import Simulation\n",
    "from pulser_simulation import SimConfig\n",
    "\n",
    "from scipy.optimize import minimize\n",
    "from scipy.spatial.distance import pdist\n",
    "from scipy.spatial.distance import squareform\n",
    "\n",
    "plt.style.use('dark_background')"
   ]
  },
  {
   "cell_type": "code",
   "execution_count": 3,
   "id": "0fe92b33-593c-45f6-b532-a7f1e87e0952",
   "metadata": {},
   "outputs": [
    {
     "data": {
      "text/plain": [
       "((5, 5), 96.75683228, 3.8702732911999997)"
      ]
     },
     "execution_count": 3,
     "metadata": {},
     "output_type": "execute_result"
    }
   ],
   "source": [
    "tutorial_coupling_matrix = np.array(\n",
    "    [\n",
    "        [-10.0,      19.7365809,  19.7365809,  5.42015853, 5.42015853],\n",
    "        [19.7365809, -10.0,       20.67626392, 0.17675796, 0.85604541],\n",
    "        [19.7365809, 20.67626392, -10.0,       0.85604541, 0.17675796],\n",
    "        [5.42015853, 0.17675796,  0.85604541,  -10.0,      0.32306662],\n",
    "        [5.42015853, 0.85604541,  0.17675796,  0.32306662, -10.0     ],\n",
    "    ]\n",
    ")\n",
    "\n",
    "tutorial_coupling_matrix.shape, tutorial_coupling_matrix.sum(), tutorial_coupling_matrix.mean()"
   ]
  },
  {
   "cell_type": "code",
   "execution_count": 4,
   "id": "39d543eb-79b5-49f7-9682-ff2d55c3f380",
   "metadata": {},
   "outputs": [
    {
     "data": {
      "text/plain": [
       "((5, 5), 96.75683228, 3.8702732911999997)"
      ]
     },
     "execution_count": 4,
     "metadata": {},
     "output_type": "execute_result"
    }
   ],
   "source": [
    "# Load Protein QUBO\n",
    "\n",
    "QUBO_SIZE_LIMIT = 100\n",
    "QUBO_SCALING_FACTOR = 1000\n",
    "\n",
    "loaded_qubo = np.load('qubo_proteins.npy')\n",
    "\n",
    "coupling_matrix = loaded_qubo[:QUBO_SIZE_LIMIT, \n",
    "                              :QUBO_SIZE_LIMIT] * QUBO_SCALING_FACTOR\n",
    "\n",
    "coupling_matrix = tutorial_coupling_matrix\n",
    "\n",
    "coupling_matrix.shape, coupling_matrix.sum(), coupling_matrix.mean()"
   ]
  },
  {
   "cell_type": "code",
   "execution_count": 5,
   "id": "882a0652-0d83-455b-8562-13ce7564a8d0",
   "metadata": {},
   "outputs": [],
   "source": [
    "# TODO: Classical energies for 8 atoms"
   ]
  },
  {
   "cell_type": "markdown",
   "id": "a42f3384-b5ea-496e-981b-19ea72171140",
   "metadata": {},
   "source": [
    "Limitations:\n",
    "\n",
    "1) Qubit count is limited to 100 on Simulator\n",
    "2) Atomic coordinates are limited to sector of 50 mkm radius\n",
    "3) Minimum distances between atoms are 4 mkm\n",
    "4) Classical simulation time is about 60 seconds for 14 qubits \n",
    "5) Embedding time\n",
    "\n",
    "6) SimOptions do not affect shots count"
   ]
  },
  {
   "cell_type": "markdown",
   "id": "348bc6fd-97d1-4640-9eaf-d3f1ed046c0d",
   "metadata": {
    "tags": []
   },
   "source": [
    "### 3) Embedding to Atomic Register"
   ]
  },
  {
   "cell_type": "code",
   "execution_count": 6,
   "id": "4be445e8-2794-4f8c-9d52-20db7a72e9e4",
   "metadata": {},
   "outputs": [],
   "source": [
    "def qubo_to_atomic_loss(coordinate_vector, coupling_matrix, shape):  \n",
    "    \n",
    "    coordinates = np.reshape(coordinate_vector, shape)\n",
    "    \n",
    "    pairwise_distances = pdist(coordinates)\n",
    "    \n",
    "    global atom_distances \n",
    "    atom_distances = pairwise_distances\n",
    "    \n",
    "    interaction_matrix = squareform(Chadoq2.interaction_coeff /  pairwise_distances ** 6)\n",
    "    \n",
    "    root_mean_square_error = np.linalg.norm(interaction_matrix - coupling_matrix)\n",
    "    \n",
    "    return root_mean_square_error"
   ]
  },
  {
   "cell_type": "code",
   "execution_count": 9,
   "id": "fd47ad83-0344-42f3-a011-f60229adf207",
   "metadata": {},
   "outputs": [],
   "source": [
    "COORDINATES_SCALE = 1\n",
    "COORDINATES_SHIFT = 0\n",
    "\n",
    "np.random.seed(20)\n",
    "\n",
    "\n",
    "coupling_matrix_size = len(coupling_matrix)\n",
    "\n",
    "coordinates_shape = (coupling_matrix_size, 2)\n",
    "\n",
    "initial_coordinates = np.random.random(coordinates_shape)\n",
    "\n",
    "initial_coordinate_vector = initial_coordinates.flatten()\n",
    "\n",
    "coordinate_vector = initial_coordinate_vector"
   ]
  },
  {
   "cell_type": "code",
   "execution_count": 10,
   "id": "6040b47d-e0b0-4bd0-b5c1-e010e445e157",
   "metadata": {},
   "outputs": [
    {
     "data": {
      "image/png": "[encoded data removed]",
      "text/plain": [
       "<Figure size 238.566x238.566 with 1 Axes>"
      ]
     },
     "metadata": {
      "needs_background": "dark"
     },
     "output_type": "display_data"
    }
   ],
   "source": [
    "# Initial Coordinates\n",
    "\n",
    "qubits_dict = dict(enumerate(initial_coordinates * COORDINATES_SCALE))\n",
    "\n",
    "atomic_register = Register(qubits_dict)\n",
    "\n",
    "atomic_register.draw(\n",
    "    blockade_radius=Chadoq2.rydberg_blockade_radius(1),\n",
    "    draw_graph=False,\n",
    "    draw_half_radius=True,\n",
    ")"
   ]
  },
  {
   "cell_type": "code",
   "execution_count": 11,
   "id": "4c6099ed-639c-4e9b-aa1b-8d11604f42d7",
   "metadata": {},
   "outputs": [],
   "source": [
    "# Run Optimization Iteration\n",
    "\n",
    "ITERATIONS_COUNT = 10000\n",
    "COORDINATES_TOLERANCE = 1e-6\n",
    "\n",
    "optimal_coordinates_result = minimize(\n",
    "    fun=qubo_to_atomic_loss,\n",
    "    x0=coordinate_vector,\n",
    "    args=(coupling_matrix, coordinates_shape),\n",
    "    method=\"Nelder-Mead\",\n",
    "    tol=COORDINATES_TOLERANCE,\n",
    "    options={\"maxiter\": ITERATIONS_COUNT, \"maxfev\": None},\n",
    ")\n",
    "\n",
    "coordinate_vector = optimal_coordinates_result.x"
   ]
  },
  {
   "cell_type": "code",
   "execution_count": 12,
   "id": "6dab9449-396b-44bb-aac8-24f2eed7b1ae",
   "metadata": {},
   "outputs": [
    {
     "data": {
      "image/png": "[encoded data removed]",
      "text/plain": [
       "<Figure size 238.566x459.623 with 1 Axes>"
      ]
     },
     "metadata": {
      "needs_background": "dark"
     },
     "output_type": "display_data"
    }
   ],
   "source": [
    "# Optimal Coordinates\n",
    "\n",
    "optimal_coordinates = np.reshape(coordinate_vector, coordinates_shape)\n",
    "\n",
    "optimal_coordinates = optimal_coordinates * COORDINATES_SCALE - COORDINATES_SHIFT\n",
    "\n",
    "\n",
    "qubits_dict = dict(enumerate(optimal_coordinates))\n",
    "\n",
    "atomic_register = Register(qubits_dict)\n",
    "\n",
    "atomic_register.draw(\n",
    "    blockade_radius=Chadoq2.rydberg_blockade_radius(1),\n",
    "    draw_graph=False,\n",
    "    draw_half_radius=True,\n",
    ")"
   ]
  },
  {
   "cell_type": "code",
   "execution_count": 16,
   "id": "781e12e4-4e66-461a-8a08-ff4aee61a071",
   "metadata": {},
   "outputs": [
    {
     "data": {
      "text/plain": [
       "0.0"
      ]
     },
     "execution_count": 16,
     "metadata": {},
     "output_type": "execute_result"
    }
   ],
   "source": [
    "MAX_RADIAL_DISTANCE = 50\n",
    "\n",
    "too_far = np.linalg.norm(optimal_coordinates, axis=1) > MAX_RADIAL_DISTANCE\n",
    "\n",
    "too_far_indices = np.argwhere(too_far).squeeze()\n",
    "\n",
    "too_far_percent = too_far.sum() / len(too_far)\n",
    "\n",
    "too_far_percent"
   ]
  },
  {
   "cell_type": "code",
   "execution_count": 17,
   "id": "43cb6571-ed88-497a-8885-71ad771eb465",
   "metadata": {},
   "outputs": [
    {
     "data": {
      "text/plain": [
       "5"
      ]
     },
     "execution_count": 17,
     "metadata": {},
     "output_type": "execute_result"
    }
   ],
   "source": [
    "selected_qubits_dict = {qubit: coordinates for qubit, coordinates in qubits_dict.items()\n",
    "                        if qubit not in too_far_indices}\n",
    "\n",
    "len(selected_qubits_dict)"
   ]
  },
  {
   "cell_type": "code",
   "execution_count": 18,
   "id": "3cb44903-bc5d-4aef-a056-f4ffeb50ba9c",
   "metadata": {},
   "outputs": [
    {
     "data": {
      "image/png": "[encoded data removed]",
      "text/plain": [
       "<Figure size 238.566x459.623 with 1 Axes>"
      ]
     },
     "metadata": {
      "needs_background": "dark"
     },
     "output_type": "display_data"
    }
   ],
   "source": [
    "atomic_register = Register(selected_qubits_dict)\n",
    "\n",
    "atomic_register.draw(\n",
    "    blockade_radius=Chadoq2.rydberg_blockade_radius(1),\n",
    "    draw_graph=False,\n",
    "    draw_half_radius=True,\n",
    ")"
   ]
  },
  {
   "cell_type": "markdown",
   "id": "a8dd3756-eb12-4a2a-9cb6-0746f6c116cc",
   "metadata": {},
   "source": [
    "$$ H= \\sum_{i=1}^N \\frac{\\hbar\\Omega}{2} \\sigma_i^x - \\sum_{i=1}^N \\frac{\\hbar \\delta}{2} \\sigma_i^z+\\sum_{j} ... $$"
   ]
  },
  {
   "cell_type": "markdown",
   "id": "3d6a6169-6132-4392-945e-f76865ff8f84",
   "metadata": {
    "tags": []
   },
   "source": [
    "### 4) Quantum Adiabatic Algorithm (QAA)"
   ]
  },
  {
   "cell_type": "code",
   "execution_count": 19,
   "id": "35f8fc46-1185-4d45-a019-88755a01b096",
   "metadata": {},
   "outputs": [
    {
     "data": {
      "text/plain": [
       "3.13810197"
      ]
     },
     "execution_count": 19,
     "metadata": {},
     "output_type": "execute_result"
    }
   ],
   "source": [
    "# Omega Maximum\n",
    "\n",
    "OMEGA_MAX_LIMIT = 15\n",
    "\n",
    "positive_coupling_coefficients = coupling_matrix[coupling_matrix > 0].flatten()\n",
    "\n",
    "omega_maximum = np.median(positive_coupling_coefficients)\n",
    "\n",
    "omega_maximum = min(OMEGA_MAX_LIMIT, omega_maximum)\n",
    "\n",
    "omega_maximum"
   ]
  },
  {
   "cell_type": "code",
   "execution_count": 20,
   "id": "71f494d2-cbd5-4c84-9a82-54b3c1a6c85e",
   "metadata": {},
   "outputs": [],
   "source": [
    "DELTA_0 = -5\n",
    "DELTA_F = -DELTA_0\n",
    "\n",
    "TIME_NANOSECONDS = 4000"
   ]
  },
  {
   "cell_type": "code",
   "execution_count": 21,
   "id": "bc76e843-6fef-4b6e-b6fa-0e7a96d9cd69",
   "metadata": {},
   "outputs": [],
   "source": [
    "# Modulating Waveforms\n",
    "\n",
    "amplitude_modulating_waveform = InterpolatedWaveform(TIME_NANOSECONDS, [1e-9, omega_maximum, 1e-9])\n",
    "\n",
    "frequency_modulating_waveform = InterpolatedWaveform(TIME_NANOSECONDS, [DELTA_0, 0, DELTA_F])"
   ]
  },
  {
   "cell_type": "code",
   "execution_count": 22,
   "id": "ec54d5e7-66c1-4fe6-90c3-a8abd680105d",
   "metadata": {},
   "outputs": [],
   "source": [
    "# Pulse\n",
    "\n",
    "adiabatic_pulse = Pulse(\n",
    "    amplitude=amplitude_modulating_waveform,\n",
    "    detuning=frequency_modulating_waveform,\n",
    "    phase=0,\n",
    ")"
   ]
  },
  {
   "cell_type": "code",
   "execution_count": 23,
   "id": "51d2e003-5859-4346-8479-c0c77147c81e",
   "metadata": {},
   "outputs": [
    {
     "data": {
      "image/png": "[encoded data removed]",
      "text/plain": [
       "<Figure size 1440x288 with 3 Axes>"
      ]
     },
     "metadata": {
      "needs_background": "dark"
     },
     "output_type": "display_data"
    }
   ],
   "source": [
    "sequence = Sequence(atomic_register, Chadoq2)\n",
    "sequence.declare_channel(\"ising\", \"rydberg_global\")\n",
    "sequence.add(adiabatic_pulse, \"ising\")\n",
    "sequence.draw()"
   ]
  },
  {
   "cell_type": "code",
   "execution_count": 24,
   "id": "93e29a58-9db7-44f1-8915-a3ff6234b351",
   "metadata": {},
   "outputs": [
    {
     "name": "stdout",
     "output_type": "stream",
     "text": [
      "10.0%. Run time:   0.03s. Est. time left: 00:00:00:00\n",
      "20.0%. Run time:   0.07s. Est. time left: 00:00:00:00\n",
      "30.0%. Run time:   0.11s. Est. time left: 00:00:00:00\n",
      "40.0%. Run time:   0.14s. Est. time left: 00:00:00:00\n",
      "50.0%. Run time:   0.22s. Est. time left: 00:00:00:00\n",
      "60.0%. Run time:   0.25s. Est. time left: 00:00:00:00\n",
      "70.0%. Run time:   0.29s. Est. time left: 00:00:00:00\n",
      "80.0%. Run time:   0.33s. Est. time left: 00:00:00:00\n",
      "90.0%. Run time:   0.37s. Est. time left: 00:00:00:00\n",
      "Total run time:   0.41s\n"
     ]
    },
    {
     "data": {
      "text/plain": [
       "Counter({'00010': 2,\n",
       "         '00011': 28,\n",
       "         '00101': 1,\n",
       "         '00111': 217,\n",
       "         '01000': 1,\n",
       "         '01001': 4,\n",
       "         '01010': 1,\n",
       "         '01011': 717,\n",
       "         '10010': 14,\n",
       "         '10011': 15})"
      ]
     },
     "execution_count": 24,
     "metadata": {},
     "output_type": "execute_result"
    }
   ],
   "source": [
    "RUNS_COUNT = 10\n",
    "SAMPLES_PER_RUN = 10000\n",
    "\n",
    "configuration = SimConfig(runs=RUNS_COUNT, samples_per_run=SAMPLES_PER_RUN)\n",
    "\n",
    "simulation = Simulation(sequence=sequence, config=configuration)\n",
    "\n",
    "simulation.reset_config()\n",
    "\n",
    "simulation.set_config(configuration)\n",
    "\n",
    "results = simulation.run(progress_bar=True)\n",
    "\n",
    "final_statevector = results.get_final_state()\n",
    "\n",
    "counts = results.sample_final_state()\n",
    "\n",
    "counts"
   ]
  },
  {
   "cell_type": "code",
   "execution_count": 40,
   "id": "cf7b83f4-1285-44b4-b38c-12a13f8587f3",
   "metadata": {},
   "outputs": [
    {
     "data": {
      "image/png": "[encoded data removed]",
      "text/plain": [
       "<Figure size 864x432 with 1 Axes>"
      ]
     },
     "metadata": {
      "needs_background": "dark"
     },
     "output_type": "display_data"
    }
   ],
   "source": [
    "def plot_distribution(counts):\n",
    "    \n",
    "    plt.figure(figsize=(12, 6))\n",
    "    \n",
    "    plt.bar(counts.keys(), \n",
    "            counts.values(), width=0.5, color=\"g\")\n",
    "    \n",
    "    \n",
    "#     TICKS_COUNT = 20\n",
    "    \n",
    "#     xtick_labels = plt.gca().get_xticklabels()\n",
    "    \n",
    "#     tick_period = len(xtick_labels) // TICKS_COUNT\n",
    "    \n",
    "#     for label_index, label in enumerate(xtick_labels):\n",
    "        \n",
    "#         if label_index % tick_period:\n",
    "            \n",
    "#             label.set_visible(False)\n",
    "            \n",
    "\n",
    "    \n",
    "    plt.xticks(rotation=\"vertical\")\n",
    "    \n",
    "    plt.title(\"Simulated state counts\")\n",
    "    plt.xlabel(\"State\")\n",
    "    plt.ylabel(\"Count\")\n",
    "    plt.show()\n",
    "    \n",
    "    \n",
    "descending_counts = dict(sorted(counts.items(), key=lambda item: -item[1]))   \n",
    "    \n",
    "plot_distribution(counts)"
   ]
  },
  {
   "cell_type": "code",
   "execution_count": null,
   "id": "6b956a78-53b4-4746-a13c-089d4c907c96",
   "metadata": {},
   "outputs": [],
   "source": []
  },
  {
   "cell_type": "markdown",
   "id": "9a51b54d-c619-4958-8e2d-914be8330e63",
   "metadata": {
    "tags": []
   },
   "source": [
    "### 2) Classical Search"
   ]
  },
  {
   "cell_type": "code",
   "execution_count": 41,
   "id": "c19e5bf1-918a-4061-805b-420f535596a7",
   "metadata": {},
   "outputs": [
    {
     "data": {
      "text/plain": [
       "[9, 16, 19, 41, 42, 44, 46, 85]"
      ]
     },
     "execution_count": 41,
     "metadata": {},
     "output_type": "execute_result"
    }
   ],
   "source": [
    "selected_qubits = list(selected_qubits_dict.keys())\n",
    "\n",
    "selected_qubits_count = len(selected_qubits)\n",
    "\n",
    "selected_qubits"
   ]
  },
  {
   "cell_type": "code",
   "execution_count": 42,
   "id": "5eba68de-5e5b-4d93-ac5d-77b18732c17c",
   "metadata": {},
   "outputs": [
    {
     "data": {
      "text/plain": [
       "(8, 8)"
      ]
     },
     "execution_count": 42,
     "metadata": {},
     "output_type": "execute_result"
    }
   ],
   "source": [
    "selected_coupling_matrix = coupling_matrix[selected_qubits][:, selected_qubits]\n",
    "\n",
    "selected_coupling_matrix.shape"
   ]
  },
  {
   "cell_type": "code",
   "execution_count": 43,
   "id": "877a87d9-9d84-4ee5-a3e4-754c021c7931",
   "metadata": {},
   "outputs": [
    {
     "data": {
      "text/plain": [
       "array([[0, 0, 0, 0, 0, 0, 0, 0],\n",
       "       [0, 0, 0, 0, 0, 0, 0, 1],\n",
       "       [0, 0, 0, 0, 0, 0, 1, 0],\n",
       "       [0, 0, 0, 0, 0, 0, 1, 1],\n",
       "       [0, 0, 0, 0, 0, 1, 0, 0],\n",
       "       [0, 0, 0, 0, 0, 1, 0, 1],\n",
       "       [0, 0, 0, 0, 1, 0, 0, 0],\n",
       "       [0, 0, 0, 0, 1, 0, 1, 0],\n",
       "       [0, 0, 0, 0, 1, 1, 0, 0],\n",
       "       [0, 0, 0, 1, 0, 0, 0, 0],\n",
       "       [0, 0, 0, 1, 0, 0, 1, 0],\n",
       "       [0, 0, 1, 0, 0, 0, 0, 0],\n",
       "       [0, 0, 1, 0, 0, 0, 1, 0],\n",
       "       [0, 0, 1, 0, 0, 1, 0, 0],\n",
       "       [0, 0, 1, 0, 1, 0, 0, 0],\n",
       "       [0, 0, 1, 0, 1, 0, 1, 0],\n",
       "       [0, 0, 1, 0, 1, 1, 0, 0],\n",
       "       [0, 0, 1, 1, 0, 0, 0, 0],\n",
       "       [0, 0, 1, 1, 0, 0, 1, 0],\n",
       "       [0, 1, 0, 0, 0, 0, 0, 0],\n",
       "       [0, 1, 0, 0, 0, 0, 0, 1],\n",
       "       [0, 1, 0, 0, 0, 0, 1, 0],\n",
       "       [0, 1, 0, 0, 0, 0, 1, 1],\n",
       "       [0, 1, 0, 0, 1, 0, 0, 0],\n",
       "       [0, 1, 1, 0, 0, 0, 0, 0],\n",
       "       [0, 1, 1, 0, 0, 0, 1, 0],\n",
       "       [0, 1, 1, 0, 1, 0, 0, 0],\n",
       "       [1, 0, 0, 0, 0, 0, 0, 0],\n",
       "       [1, 0, 0, 0, 0, 0, 1, 0],\n",
       "       [1, 0, 0, 0, 1, 0, 0, 0],\n",
       "       [1, 0, 0, 0, 1, 0, 1, 0]], dtype=uint8)"
      ]
     },
     "execution_count": 43,
     "metadata": {},
     "output_type": "execute_result"
    }
   ],
   "source": [
    "selected_state_strings = np.array(list(counts.keys()))\n",
    "\n",
    "selected_bit_strings = np.frombuffer(selected_state_strings,'<U1')\n",
    "\n",
    "selected_bits = selected_bit_strings.astype('uint8')\n",
    "\n",
    "selected_state_bits = selected_bits.reshape(-1, selected_qubits_count)\n",
    "\n",
    "selected_state_bits"
   ]
  },
  {
   "cell_type": "code",
   "execution_count": 44,
   "id": "f2ea6e96-b923-434b-8828-addcfa810515",
   "metadata": {},
   "outputs": [
    {
     "data": {
      "text/plain": [
       "array([[0, 0, 0, ..., 0, 0, 0],\n",
       "       [0, 0, 0, ..., 0, 0, 1],\n",
       "       [0, 0, 0, ..., 0, 1, 0],\n",
       "       ...,\n",
       "       [1, 1, 1, ..., 1, 0, 1],\n",
       "       [1, 1, 1, ..., 1, 1, 0],\n",
       "       [1, 1, 1, ..., 1, 1, 1]], dtype=uint8)"
      ]
     },
     "execution_count": 44,
     "metadata": {},
     "output_type": "execute_result"
    }
   ],
   "source": [
    "state_indices = np.arange(2 ** selected_qubits_count)\n",
    "\n",
    "binarize = np.vectorize(np.binary_repr)\n",
    "\n",
    "state_strings = binarize(state_indices, selected_qubits_count)\n",
    "\n",
    "state_indices_vector = state_indices.reshape(-1, 1).astype(np.uint8)\n",
    "\n",
    "state_little_bits = np.unpackbits(state_indices_vector, \n",
    "                                  count=selected_qubits_count, \n",
    "                                  bitorder='little',\n",
    "                                  axis=1)\n",
    "\n",
    "all_state_bits = np.flip(state_little_bits, axis=1)\n",
    "\n",
    "all_state_bits"
   ]
  },
  {
   "cell_type": "code",
   "execution_count": 45,
   "id": "9925fc2a-ab4a-4f63-aa11-18e409fd5dac",
   "metadata": {},
   "outputs": [
    {
     "data": {
      "text/plain": [
       "(31,)"
      ]
     },
     "execution_count": 45,
     "metadata": {},
     "output_type": "execute_result"
    }
   ],
   "source": [
    "costs = np.diag(selected_state_bits @ selected_coupling_matrix @ selected_state_bits.T)\n",
    "\n",
    "costs.shape"
   ]
  },
  {
   "cell_type": "code",
   "execution_count": 49,
   "id": "eadc4847-ffbc-49cc-94af-e3438009de61",
   "metadata": {},
   "outputs": [
    {
     "data": {
      "image/png": "[encoded data removed]",
      "text/plain": [
       "<Figure size 864x432 with 1 Axes>"
      ]
     },
     "metadata": {
      "needs_background": "dark"
     },
     "output_type": "display_data"
    }
   ],
   "source": [
    "state_costs = dict(zip(counts, costs))\n",
    "\n",
    "\n",
    "plt.figure(figsize=(12, 6))\n",
    "    \n",
    "plt.bar(counts.keys(), \n",
    "        counts.values(), width=0.5, color=\"g\")    \n",
    "\n",
    "plt.bar(state_costs.keys(), \n",
    "        state_costs.values(), width=0.5, color=\"r\")   \n",
    "\n",
    "plt.xticks(rotation=\"vertical\")\n",
    "\n",
    "plt.title(\"Simulated state counts\")\n",
    "plt.xlabel(\"State\")\n",
    "plt.ylabel(\"Count\")\n",
    "plt.show()\n",
    "\n",
    "\n"
   ]
  },
  {
   "cell_type": "markdown",
   "id": "720b1550-792a-451e-97ab-7e8c094e7bcd",
   "metadata": {
    "jp-MarkdownHeadingCollapsed": true,
    "tags": []
   },
   "source": [
    "### 5) Time Evolution"
   ]
  },
  {
   "cell_type": "code",
   "execution_count": 81,
   "id": "419b5ff6-7129-4eea-b890-a99f5a88e084",
   "metadata": {},
   "outputs": [],
   "source": [
    "def get_cost_colouring(bitstring, Q):\n",
    "    z = np.array(list(bitstring), dtype=int)\n",
    "    cost = z.T @ Q @ z\n",
    "    return cost\n",
    "\n",
    "\n",
    "def get_cost(counter, Q):\n",
    "    cost = sum(counter[key] * get_cost_colouring(key, Q) for key in counter)\n",
    "    return cost / sum(counter.values())  # Divide by total samples"
   ]
  },
  {
   "cell_type": "code",
   "execution_count": 101,
   "id": "3029beab-8e45-4719-aea3-cdc3fb3bda70",
   "metadata": {},
   "outputs": [
    {
     "data": {
      "text/plain": [
       "(7, 7)"
      ]
     },
     "execution_count": 101,
     "metadata": {},
     "output_type": "execute_result"
    }
   ],
   "source": [
    "masked_coupling_matrix = coupling_matrix[~too_far][:, ~too_far]\n",
    "\n",
    "masked_coupling_matrix.shape"
   ]
  },
  {
   "cell_type": "code",
   "execution_count": 107,
   "id": "1d1d6ba7-9275-4779-8112-695c0a7eb8a6",
   "metadata": {},
   "outputs": [],
   "source": [
    "costs = []\n",
    "\n",
    "durations = 1000 * np.linspace(1, 100, 10)\n",
    "\n",
    "for duration in durations:\n",
    "    \n",
    "    print(\"duration:\", duration)\n",
    "    \n",
    "    seq = Sequence(atomic_register, Chadoq2)\n",
    "    \n",
    "    seq.declare_channel(\"ising\", \"rydberg_global\")\n",
    "    \n",
    "    amplitude_modulating_waveform = InterpolatedWaveform(duration, [1e-9, omega_maximum, 1e-9])\n",
    "    frequency_modulating_waveform = InterpolatedWaveform(duration, [DELTA_0, 0, DELTA_F])\n",
    "        \n",
    "    adiabatic_pulse = Pulse(\n",
    "        amplitude=amplitude_modulating_waveform,\n",
    "        detuning=frequency_modulating_waveform,\n",
    "        phase=0,\n",
    "    )\n",
    "    \n",
    "    seq.add(adiabatic_pulse, \"ising\")\n",
    "    \n",
    "    simul = Simulation(seq)\n",
    "    results = simul.run()\n",
    "    final = results.get_final_state()\n",
    "    count_dict = results.sample_final_state()    \n",
    "    \n",
    "    costs.append(get_cost(count_dict, masked_coupling_matrix) / 3)"
   ]
  },
  {
   "cell_type": "code",
   "execution_count": 115,
   "id": "d16c555c-e7af-48d1-81b4-bc482b326574",
   "metadata": {},
   "outputs": [
    {
     "data": {
      "image/png": "[encoded data removed]",
      "text/plain": [
       "<Figure size 864x432 with 1 Axes>"
      ]
     },
     "metadata": {
      "needs_background": "dark"
     },
     "output_type": "display_data"
    }
   ],
   "source": [
    "plt.figure(figsize=(12, 6))\n",
    "plt.plot(durations, np.array(costs), \"--o\")\n",
    "\n",
    "plt.title(\"Pasqal Pulser - Sampled QUBO Energies\")\n",
    "plt.xlabel(\"Time evolution duration (µs)\")\n",
    "plt.ylabel(\"Energy\")\n",
    "plt.show()"
   ]
  },
  {
   "cell_type": "code",
   "execution_count": null,
   "id": "82cc62d8-7b8a-498b-83ea-ee06f4f38319",
   "metadata": {},
   "outputs": [],
   "source": []
  },
  {
   "cell_type": "markdown",
   "id": "f0b5416f-5480-4f54-a457-6d64b9854f75",
   "metadata": {
    "tags": []
   },
   "source": [
    "### 6) QAOA"
   ]
  },
  {
   "cell_type": "code",
   "execution_count": 14,
   "id": "3940e33f-6da8-4ac2-affd-d5d1ec7e1952",
   "metadata": {},
   "outputs": [],
   "source": [
    "LAYERS = 2\n",
    "\n",
    "# Parametrized sequence\n",
    "seq = Sequence(atomic_register, Chadoq2)\n",
    "seq.declare_channel(\"ch0\", \"rydberg_global\")\n",
    "\n",
    "t_list = seq.declare_variable(\"t_list\", size=LAYERS)\n",
    "s_list = seq.declare_variable(\"s_list\", size=LAYERS)\n",
    "\n",
    "for t, s in zip(t_list, s_list):\n",
    "    pulse_1 = Pulse.ConstantPulse(1000 * t, 1.0, 0.0, 0)\n",
    "    pulse_2 = Pulse.ConstantPulse(1000 * s, 0.0, 1.0, 0)\n",
    "\n",
    "    seq.add(pulse_1, \"ch0\")\n",
    "    seq.add(pulse_2, \"ch0\")\n",
    "\n",
    "seq.measure(\"ground-rydberg\")"
   ]
  },
  {
   "cell_type": "code",
   "execution_count": 15,
   "id": "955704c0-ebd0-45ad-ad97-2a2bfddf8842",
   "metadata": {},
   "outputs": [],
   "source": [
    "def quantum_loop(parameters):\n",
    "    params = np.array(parameters)\n",
    "    t_params, s_params = np.reshape(params.astype(int), (2, LAYERS))\n",
    "    assigned_seq = seq.build(t_list=t_params, s_list=s_params)\n",
    "    simul = Simulation(assigned_seq, sampling_rate=0.01)\n",
    "    results = simul.run()\n",
    "    count_dict = results.sample_final_state()  # sample from the state vector\n",
    "    return count_dict"
   ]
  },
  {
   "cell_type": "code",
   "execution_count": 16,
   "id": "d1d27801-9917-49ce-809f-bdc49fda1987",
   "metadata": {},
   "outputs": [],
   "source": [
    "np.random.seed(123)  # ensures reproducibility of the tutorial\n",
    "guess = {\n",
    "    \"t\": np.random.uniform(8, 10, LAYERS),\n",
    "    \"s\": np.random.uniform(1, 3, LAYERS),\n",
    "}"
   ]
  },
  {
   "cell_type": "code",
   "execution_count": 17,
   "id": "de6f8f71-de53-4a12-802d-426a081df294",
   "metadata": {},
   "outputs": [],
   "source": [
    "example_dict = quantum_loop(np.r_[guess[\"t\"], guess[\"s\"]])"
   ]
  },
  {
   "cell_type": "code",
   "execution_count": 18,
   "id": "a28587cd-3e9f-4844-be2e-d4043eeb9e09",
   "metadata": {},
   "outputs": [],
   "source": [
    "def plot_distribution(C):\n",
    "    C = dict(sorted(C.items(), key=lambda item: item[1], reverse=True))\n",
    "    indexes = [\"01011\", \"00111\"]  # MIS indexes\n",
    "    color_dict = {key: \"r\" if key in indexes else \"g\" for key in C}\n",
    "    plt.figure(figsize=(12, 6))\n",
    "    plt.xlabel(\"bitstrings\")\n",
    "    plt.ylabel(\"counts\")\n",
    "    plt.bar(C.keys(), C.values(), width=0.5, color=color_dict.values())\n",
    "    plt.xticks(rotation=\"vertical\")\n",
    "    plt.show()"
   ]
  },
  {
   "cell_type": "code",
   "execution_count": 19,
   "id": "2e3513f2-bd22-482d-a657-fe1a48686554",
   "metadata": {},
   "outputs": [
    {
     "data": {
      "image/png": "[encoded data removed]",
      "text/plain": [
       "<Figure size 864x432 with 1 Axes>"
      ]
     },
     "metadata": {
      "needs_background": "dark"
     },
     "output_type": "display_data"
    }
   ],
   "source": [
    "plot_distribution(example_dict)"
   ]
  },
  {
   "cell_type": "markdown",
   "id": "b3cf8d2f-1428-4c85-b0b4-87fdd4517198",
   "metadata": {},
   "source": [
    "#### Optimization"
   ]
  },
  {
   "cell_type": "code",
   "execution_count": 20,
   "id": "45933b13-5d0a-48b1-8aff-5d7b4107209b",
   "metadata": {},
   "outputs": [],
   "source": [
    "def get_cost_colouring(bitstring, Q):\n",
    "    z = np.array(list(bitstring), dtype=int)\n",
    "    cost = z.T @ Q @ z\n",
    "    return cost\n",
    "\n",
    "\n",
    "def get_cost(counter, Q):\n",
    "    cost = sum(counter[key] * get_cost_colouring(key, Q) for key in counter)\n",
    "    return cost / sum(counter.values())  # Divide by total samples"
   ]
  },
  {
   "cell_type": "markdown",
   "id": "4237fb2c-470d-4bfa-9405-1c45a29d2a0e",
   "metadata": {},
   "source": [
    "#### QAOA"
   ]
  },
  {
   "cell_type": "code",
   "execution_count": 21,
   "id": "761cacaa-b751-4d9a-9a60-7b9fbeb17ac1",
   "metadata": {},
   "outputs": [],
   "source": [
    "def func(param, *args):\n",
    "    Q = args[0]\n",
    "    C = quantum_loop(param)\n",
    "    cost = get_cost(C, Q)\n",
    "    return cost"
   ]
  },
  {
   "cell_type": "code",
   "execution_count": 22,
   "id": "939de280-6357-44a0-8924-ae289a0d94e3",
   "metadata": {},
   "outputs": [],
   "source": [
    "scores = []\n",
    "params = []\n",
    "for repetition in range(20):\n",
    "    guess = {\n",
    "        \"t\": np.random.uniform(1, 10, LAYERS),\n",
    "        \"s\": np.random.uniform(1, 10, LAYERS),\n",
    "    }\n",
    "\n",
    "    try:\n",
    "    \n",
    "        res = minimize(\n",
    "            func,\n",
    "            args=coupling_matrix,\n",
    "            x0=np.r_[guess[\"t\"], guess[\"s\"]],\n",
    "            method=\"Nelder-Mead\",\n",
    "            tol=1e-5,\n",
    "            options={\"maxiter\": 10},\n",
    "        )\n",
    "        scores.append(res.fun)\n",
    "        params.append(res.x)\n",
    "    \n",
    "    except Exception as e:\n",
    "        pass"
   ]
  },
  {
   "cell_type": "code",
   "execution_count": 23,
   "id": "71bf4851-1c38-4ba0-8635-8f52fe6023b1",
   "metadata": {},
   "outputs": [
    {
     "data": {
      "image/png": "[encoded data removed]",
      "text/plain": [
       "<Figure size 864x432 with 1 Axes>"
      ]
     },
     "metadata": {
      "needs_background": "dark"
     },
     "output_type": "display_data"
    }
   ],
   "source": [
    "optimal_count_dict = quantum_loop(params[np.argmin(scores)])\n",
    "plot_distribution(optimal_count_dict)"
   ]
  }
 ],
 "metadata": {
  "kernelspec": {
   "display_name": "Python 3 (ipykernel)",
   "language": "python",
   "name": "python3"
  },
  "language_info": {
   "codemirror_mode": {
    "name": "ipython",
    "version": 3
   },
   "file_extension": ".py",
   "mimetype": "text/x-python",
   "name": "python",
   "nbconvert_exporter": "python",
   "pygments_lexer": "ipython3",
   "version": "3.8.10"
  }
 },
 "nbformat": 4,
 "nbformat_minor": 5
}
