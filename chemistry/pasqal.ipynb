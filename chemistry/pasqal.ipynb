{
 "cells": [
  {
   "cell_type": "markdown",
   "id": "a7c6ca85-5510-47d8-a5d4-f07f39865ba2",
   "metadata": {
    "tags": []
   },
   "source": [
    "### 1) Imports"
   ]
  },
  {
   "cell_type": "code",
   "execution_count": 1,
   "id": "dcc7724d-79d4-4020-bf76-41af89079679",
   "metadata": {},
   "outputs": [],
   "source": [
    "# https://github.com/pasqal-io/Pulser/blob/develop/tutorials/applications/QAOA%20and%20QAA%20to%20solve%20a%20QUBO%20problem.ipynb"
   ]
  },
  {
   "cell_type": "code",
   "execution_count": 2,
   "id": "61ea1181-68a5-4df2-ae2f-28fbe5bbdca5",
   "metadata": {},
   "outputs": [],
   "source": [
    "import numpy as np\n",
    "import matplotlib.pyplot as plt\n",
    "\n",
    "from pulser import Pulse\n",
    "from pulser import Sequence\n",
    "from pulser import Register\n",
    "\n",
    "from pulser.devices import Chadoq2\n",
    "from pulser.waveforms import InterpolatedWaveform\n",
    "\n",
    "from pulser_simulation import Simulation\n",
    "from pulser_simulation import SimConfig\n",
    "\n",
    "from scipy.optimize import minimize\n",
    "from scipy.spatial.distance import pdist\n",
    "from scipy.spatial.distance import squareform\n",
    "\n",
    "plt.style.use('dark_background')"
   ]
  },
  {
   "cell_type": "code",
   "execution_count": 3,
   "id": "0fe92b33-593c-45f6-b532-a7f1e87e0952",
   "metadata": {},
   "outputs": [
    {
     "data": {
      "text/plain": [
       "((5, 5), 96.75683228, 3.8702732911999997)"
      ]
     },
     "execution_count": 3,
     "metadata": {},
     "output_type": "execute_result"
    }
   ],
   "source": [
    "tutorial_coupling_matrix = np.array(\n",
    "    [\n",
    "        [-10.0,      19.7365809,  19.7365809,  5.42015853, 5.42015853],\n",
    "        [19.7365809, -10.0,       20.67626392, 0.17675796, 0.85604541],\n",
    "        [19.7365809, 20.67626392, -10.0,       0.85604541, 0.17675796],\n",
    "        [5.42015853, 0.17675796,  0.85604541,  -10.0,      0.32306662],\n",
    "        [5.42015853, 0.85604541,  0.17675796,  0.32306662, -10.0     ],\n",
    "    ]\n",
    ")\n",
    "\n",
    "tutorial_coupling_matrix.shape, tutorial_coupling_matrix.sum(), tutorial_coupling_matrix.mean()"
   ]
  },
  {
   "cell_type": "code",
   "execution_count": 4,
   "id": "39d543eb-79b5-49f7-9682-ff2d55c3f380",
   "metadata": {},
   "outputs": [
    {
     "data": {
      "text/plain": [
       "((110, 110), 68086.89, 5.6270156)"
      ]
     },
     "execution_count": 4,
     "metadata": {},
     "output_type": "execute_result"
    }
   ],
   "source": [
    "# Load Protein QUBO\n",
    "\n",
    "np.random.seed(20)\n",
    "TICK_COUNT = 5\n",
    "\n",
    "QUBO_SIZE_LIMIT = 110\n",
    "QUBO_SCALING_FACTOR = 1000\n",
    "# QUBO_SCALING_FACTOR = 1\n",
    "\n",
    "\n",
    "loaded_qubo = np.load('qubo_proteins.npy')\n",
    "\n",
    "coupling_matrix = loaded_qubo[:QUBO_SIZE_LIMIT, \n",
    "                              :QUBO_SIZE_LIMIT] * QUBO_SCALING_FACTOR\n",
    "\n",
    "coupling_matrix.shape, coupling_matrix.sum(), coupling_matrix.mean()"
   ]
  },
  {
   "cell_type": "code",
   "execution_count": 5,
   "id": "ac8cb7ca-76a1-42a3-95ae-a139490f8947",
   "metadata": {},
   "outputs": [
    {
     "data": {
      "text/plain": [
       "((5, 5), 96.75683228, 3.8702732911999997)"
      ]
     },
     "execution_count": 5,
     "metadata": {},
     "output_type": "execute_result"
    }
   ],
   "source": [
    "# coupling_matrix = tutorial_coupling_matrix\n",
    "\n",
    "# coupling_matrix.shape, coupling_matrix.sum(), coupling_matrix.mean()"
   ]
  },
  {
   "cell_type": "markdown",
   "id": "348bc6fd-97d1-4640-9eaf-d3f1ed046c0d",
   "metadata": {
    "tags": []
   },
   "source": [
    "### 3) Embedding to Atomic Register"
   ]
  },
  {
   "cell_type": "code",
   "execution_count": 6,
   "id": "4be445e8-2794-4f8c-9d52-20db7a72e9e4",
   "metadata": {},
   "outputs": [],
   "source": [
    "def qubo_to_atomic_loss(coordinate_vector, coupling_matrix, shape):  \n",
    "    \n",
    "    coordinates = np.reshape(coordinate_vector, shape)\n",
    "    \n",
    "    pairwise_distances = pdist(coordinates)\n",
    "    \n",
    "    interaction_matrix = squareform(Chadoq2.interaction_coeff /  pairwise_distances ** 6)\n",
    "    \n",
    "    root_mean_square_error = np.linalg.norm(interaction_matrix - coupling_matrix)\n",
    "    \n",
    "    return root_mean_square_error"
   ]
  },
  {
   "cell_type": "code",
   "execution_count": 7,
   "id": "fd47ad83-0344-42f3-a011-f60229adf207",
   "metadata": {},
   "outputs": [],
   "source": [
    "qubits_count = len(coupling_matrix)\n",
    "\n",
    "coordinates_shape = (qubits_count, 2)\n",
    "\n",
    "initial_coordinates = np.random.random(coordinates_shape)\n",
    "\n",
    "coordinate_vector = initial_coordinates.flatten()"
   ]
  },
  {
   "cell_type": "code",
   "execution_count": 8,
   "id": "6040b47d-e0b0-4bd0-b5c1-e010e445e157",
   "metadata": {},
   "outputs": [
    {
     "data": {
      "image/png": "[encoded data removed]",
      "text/plain": [
       "<Figure size 238.566x238.566 with 1 Axes>"
      ]
     },
     "metadata": {
      "needs_background": "dark"
     },
     "output_type": "display_data"
    }
   ],
   "source": [
    "# Initial Coordinates\n",
    "\n",
    "qubits_dict = dict(enumerate(initial_coordinates))\n",
    "\n",
    "atomic_register = Register(qubits_dict)\n",
    "\n",
    "atomic_register.draw(\n",
    "    blockade_radius=Chadoq2.rydberg_blockade_radius(1),\n",
    "    draw_graph=False,\n",
    "    draw_half_radius=True,\n",
    ")"
   ]
  },
  {
   "cell_type": "code",
   "execution_count": 9,
   "id": "4c6099ed-639c-4e9b-aa1b-8d11604f42d7",
   "metadata": {},
   "outputs": [],
   "source": [
    "# Run Optimization Iteration\n",
    "\n",
    "ITERATIONS_COUNT = 10000\n",
    "COORDINATES_TOLERANCE = 1e-6\n",
    "\n",
    "optimal_coordinates_result = minimize(\n",
    "    fun=qubo_to_atomic_loss,\n",
    "    x0=coordinate_vector,\n",
    "    args=(coupling_matrix, coordinates_shape),\n",
    "    method=\"Nelder-Mead\",\n",
    "    tol=COORDINATES_TOLERANCE,\n",
    "    options={\"maxiter\": ITERATIONS_COUNT, \"maxfev\": None},\n",
    ")\n",
    "\n",
    "coordinate_vector = optimal_coordinates_result.x\n",
    "\n",
    "optimal_coordinates = np.reshape(coordinate_vector, coordinates_shape)"
   ]
  },
  {
   "cell_type": "code",
   "execution_count": 10,
   "id": "1794629d-331e-43eb-833b-9d72f535fe0b",
   "metadata": {},
   "outputs": [],
   "source": [
    "# optimal_coordinates = np.load('optimal_coordinates.npy')"
   ]
  },
  {
   "cell_type": "code",
   "execution_count": 11,
   "id": "6dab9449-396b-44bb-aac8-24f2eed7b1ae",
   "metadata": {},
   "outputs": [
    {
     "data": {
      "image/png": "[encoded data removed]",
      "text/plain": [
       "<Figure size 238.566x459.623 with 1 Axes>"
      ]
     },
     "metadata": {
      "needs_background": "dark"
     },
     "output_type": "display_data"
    }
   ],
   "source": [
    "# Optimized Coordinates\n",
    "\n",
    "qubits_dict = dict(enumerate(optimal_coordinates))\n",
    "\n",
    "atomic_register = Register(qubits_dict)\n",
    "\n",
    "atomic_register.draw(\n",
    "    blockade_radius=Chadoq2.rydberg_blockade_radius(1),\n",
    "    draw_graph=False,\n",
    "    draw_half_radius=True,\n",
    ")"
   ]
  },
  {
   "cell_type": "code",
   "execution_count": 12,
   "id": "013af9cd-6e2e-4974-b5d5-a666aa35f398",
   "metadata": {},
   "outputs": [],
   "source": [
    "# np.save('optimal_coordinates.npy', optimal_coordinates)"
   ]
  },
  {
   "cell_type": "code",
   "execution_count": 66,
   "id": "658cc601-9f89-4a9e-b35f-e8071f2cdcb1",
   "metadata": {},
   "outputs": [
    {
     "name": "stdout",
     "output_type": "stream",
     "text": [
      "Selected 5 qubits, 100%\n"
     ]
    }
   ],
   "source": [
    "# Radial Qubit Selection\n",
    "\n",
    "MAX_RADIAL_DISTANCE = 30\n",
    "\n",
    "\n",
    "is_qubit_selected = np.linalg.norm(optimal_coordinates, axis=1) <= MAX_RADIAL_DISTANCE\n",
    "\n",
    "selected_qubits = np.argwhere(is_qubit_selected).squeeze()\n",
    "\n",
    "selected_qubits_count = len(selected_qubits)\n",
    "\n",
    "selected_percent = selected_qubits_count / qubits_count * 100\n",
    "\n",
    "selected_qubits_dict = {qubit: coordinates for qubit, coordinates in qubits_dict.items()\n",
    "                        if qubit in selected_qubits}\n",
    "\n",
    "selected_coupling_matrix = coupling_matrix[selected_qubits][:, selected_qubits]\n",
    "\n",
    "print(f\"Selected {selected_qubits_count} qubits, {selected_percent:.0f}%\")"
   ]
  },
  {
   "cell_type": "code",
   "execution_count": 67,
   "id": "3cb44903-bc5d-4aef-a056-f4ffeb50ba9c",
   "metadata": {},
   "outputs": [
    {
     "data": {
      "image/png": "[encoded data removed]",
      "text/plain": [
       "<Figure size 238.566x459.623 with 1 Axes>"
      ]
     },
     "metadata": {
      "needs_background": "dark"
     },
     "output_type": "display_data"
    }
   ],
   "source": [
    "atomic_register = Register(selected_qubits_dict)\n",
    "\n",
    "atomic_register.draw(\n",
    "    blockade_radius=Chadoq2.rydberg_blockade_radius(1),\n",
    "    draw_graph=False,\n",
    "    draw_half_radius=True,\n",
    ")"
   ]
  },
  {
   "cell_type": "markdown",
   "id": "a8dd3756-eb12-4a2a-9cb6-0746f6c116cc",
   "metadata": {},
   "source": [
    "$$ H= \\sum_{i=1}^N \\frac{\\hbar\\Omega}{2} \\sigma_i^x - \\sum_{i=1}^N \\frac{\\hbar \\delta}{2} \\sigma_i^z+\\sum_{j} ... $$"
   ]
  },
  {
   "cell_type": "markdown",
   "id": "3d6a6169-6132-4392-945e-f76865ff8f84",
   "metadata": {
    "tags": []
   },
   "source": [
    "### 4) Quantum Adiabatic Algorithm (QAA)"
   ]
  },
  {
   "cell_type": "code",
   "execution_count": 73,
   "id": "35f8fc46-1185-4d45-a019-88755a01b096",
   "metadata": {},
   "outputs": [
    {
     "data": {
      "text/plain": [
       "3.13810197"
      ]
     },
     "execution_count": 73,
     "metadata": {},
     "output_type": "execute_result"
    }
   ],
   "source": [
    "# Omega Maximum\n",
    "\n",
    "OMEGA_AMPLITUDE_LIMIT = 15\n",
    "\n",
    "positive_coupling_coefficients = selected_coupling_matrix[selected_coupling_matrix > 0].flatten()\n",
    "\n",
    "omega_amplitude = np.median(positive_coupling_coefficients)\n",
    "\n",
    "omega_amplitude = min(OMEGA_AMPLITUDE_LIMIT, omega_amplitude)\n",
    "\n",
    "omega_amplitude"
   ]
  },
  {
   "cell_type": "code",
   "execution_count": 74,
   "id": "71f494d2-cbd5-4c84-9a82-54b3c1a6c85e",
   "metadata": {},
   "outputs": [],
   "source": [
    "DELTA_0 = -5\n",
    "DELTA_F = -DELTA_0\n",
    "\n",
    "DURATION = 4000\n",
    "# DURATION = 100000"
   ]
  },
  {
   "cell_type": "code",
   "execution_count": 75,
   "id": "bc76e843-6fef-4b6e-b6fa-0e7a96d9cd69",
   "metadata": {},
   "outputs": [],
   "source": [
    "# Modulating Waveforms\n",
    "\n",
    "amplitude_modulating_waveform = InterpolatedWaveform(DURATION, [1e-9, omega_amplitude, 1e-9])\n",
    "\n",
    "frequency_modulating_waveform = InterpolatedWaveform(DURATION, [DELTA_0, 0, DELTA_F])"
   ]
  },
  {
   "cell_type": "code",
   "execution_count": 76,
   "id": "ec54d5e7-66c1-4fe6-90c3-a8abd680105d",
   "metadata": {},
   "outputs": [],
   "source": [
    "# Pulse\n",
    "\n",
    "adiabatic_pulse = Pulse(\n",
    "    amplitude=amplitude_modulating_waveform,\n",
    "    detuning=frequency_modulating_waveform,\n",
    "    phase=0,\n",
    ")"
   ]
  },
  {
   "cell_type": "code",
   "execution_count": 77,
   "id": "51d2e003-5859-4346-8479-c0c77147c81e",
   "metadata": {},
   "outputs": [
    {
     "data": {
      "image/png": "[encoded data removed]",
      "text/plain": [
       "<Figure size 1440x288 with 3 Axes>"
      ]
     },
     "metadata": {
      "needs_background": "dark"
     },
     "output_type": "display_data"
    }
   ],
   "source": [
    "sequence = Sequence(atomic_register, Chadoq2)\n",
    "sequence.declare_channel(\"ising\", \"rydberg_global\")\n",
    "sequence.add(adiabatic_pulse, \"ising\")\n",
    "sequence.draw()"
   ]
  },
  {
   "cell_type": "code",
   "execution_count": 78,
   "id": "93e29a58-9db7-44f1-8915-a3ff6234b351",
   "metadata": {
    "tags": []
   },
   "outputs": [
    {
     "name": "stdout",
     "output_type": "stream",
     "text": [
      "10.0%. Run time:   0.05s. Est. time left: 00:00:00:00\n",
      "20.0%. Run time:   0.11s. Est. time left: 00:00:00:00\n",
      "30.0%. Run time:   0.19s. Est. time left: 00:00:00:00\n",
      "40.0%. Run time:   0.24s. Est. time left: 00:00:00:00\n",
      "50.0%. Run time:   0.32s. Est. time left: 00:00:00:00\n",
      "60.0%. Run time:   0.37s. Est. time left: 00:00:00:00\n",
      "70.0%. Run time:   0.43s. Est. time left: 00:00:00:00\n",
      "80.0%. Run time:   0.51s. Est. time left: 00:00:00:00\n",
      "90.0%. Run time:   0.57s. Est. time left: 00:00:00:00\n",
      "Total run time:   0.65s\n"
     ]
    }
   ],
   "source": [
    "# Run Simulation\n",
    "\n",
    "SAMPLES_COUNT = 100000\n",
    "\n",
    "\n",
    "simulation = Simulation(sequence=sequence)\n",
    "\n",
    "results = simulation.run(progress_bar=True)\n",
    "\n",
    "final_statevector = results.get_final_state()\n",
    "\n",
    "counts = results.sample_final_state(N_samples=SAMPLES_COUNT)\n",
    "\n",
    "# counts"
   ]
  },
  {
   "cell_type": "code",
   "execution_count": 79,
   "id": "cf7b83f4-1285-44b4-b38c-12a13f8587f3",
   "metadata": {},
   "outputs": [
    {
     "data": {
      "image/png": "[encoded data removed]",
      "text/plain": [
       "<Figure size 864x432 with 1 Axes>"
      ]
     },
     "metadata": {
      "needs_background": "dark"
     },
     "output_type": "display_data"
    }
   ],
   "source": [
    "def set_tick_count(tick_count):\n",
    "\n",
    "    xtick_labels = plt.gca().get_xticklabels()\n",
    "\n",
    "    tick_period = len(xtick_labels) // tick_count\n",
    "\n",
    "    for label_index, label in enumerate(xtick_labels):\n",
    "\n",
    "        if label_index % tick_period:\n",
    "\n",
    "            label.set_visible(False)\n",
    "\n",
    "\n",
    "# Plot Histogram\n",
    "\n",
    "descending_counts = dict(sorted(counts.items(), key=lambda item: -item[1]))   \n",
    "\n",
    "plt.figure(figsize=(12, 6))\n",
    "    \n",
    "plt.bar(descending_counts.keys(), \n",
    "        descending_counts.values(), width=0.5, color=\"g\")\n",
    "\n",
    "set_tick_count(TICK_COUNT)\n",
    "\n",
    "plt.xticks(rotation=\"vertical\")\n",
    "\n",
    "plt.title(\"Simulated counts\")\n",
    "plt.xlabel(\"State\")\n",
    "plt.ylabel(\"Count\")\n",
    "plt.show()"
   ]
  },
  {
   "cell_type": "code",
   "execution_count": null,
   "id": "0f31f5a5-c075-4fe0-ad5c-72c757001ca9",
   "metadata": {},
   "outputs": [],
   "source": []
  },
  {
   "cell_type": "markdown",
   "id": "9a51b54d-c619-4958-8e2d-914be8330e63",
   "metadata": {
    "tags": []
   },
   "source": [
    "### 2) Top Samples and QUBO Energies"
   ]
  },
  {
   "cell_type": "code",
   "execution_count": 80,
   "id": "877a87d9-9d84-4ee5-a3e4-754c021c7931",
   "metadata": {},
   "outputs": [
    {
     "data": {
      "text/plain": [
       "(18, 5)"
      ]
     },
     "execution_count": 80,
     "metadata": {},
     "output_type": "execute_result"
    }
   ],
   "source": [
    "# Selected States\n",
    "\n",
    "selected_states = np.array(list(descending_counts.keys()))\n",
    "\n",
    "selected_state_strings = np.frombuffer(selected_states,'<U1')\n",
    "\n",
    "selected_states_vector = selected_state_strings.astype('uint8')\n",
    "\n",
    "selected_state_bits = selected_states_vector.reshape(-1, selected_qubits_count)\n",
    "\n",
    "selected_state_bits.shape"
   ]
  },
  {
   "cell_type": "code",
   "execution_count": 81,
   "id": "f2ea6e96-b923-434b-8828-addcfa810515",
   "metadata": {},
   "outputs": [
    {
     "data": {
      "text/plain": [
       "(32, 5)"
      ]
     },
     "execution_count": 81,
     "metadata": {},
     "output_type": "execute_result"
    }
   ],
   "source": [
    "# All States\n",
    "\n",
    "state_indices = np.arange(2 ** selected_qubits_count)\n",
    "\n",
    "binarize = np.vectorize(np.binary_repr)\n",
    "\n",
    "state_strings = binarize(state_indices, selected_qubits_count)\n",
    "\n",
    "state_indices_vector = state_indices.reshape(-1, 1).astype(np.uint8)\n",
    "\n",
    "state_little_bits = np.unpackbits(state_indices_vector, \n",
    "                                  count=selected_qubits_count, \n",
    "                                  bitorder='little',\n",
    "                                  axis=1)\n",
    "\n",
    "all_state_bits = np.flip(state_little_bits, axis=1)\n",
    "\n",
    "all_state_bits.shape"
   ]
  },
  {
   "cell_type": "code",
   "execution_count": 82,
   "id": "9925fc2a-ab4a-4f63-aa11-18e409fd5dac",
   "metadata": {},
   "outputs": [
    {
     "data": {
      "text/plain": [
       "(18,)"
      ]
     },
     "execution_count": 82,
     "metadata": {},
     "output_type": "execute_result"
    }
   ],
   "source": [
    "energies = np.diag(selected_state_bits @ selected_coupling_matrix @ selected_state_bits.T)\n",
    "\n",
    "energies_dict = dict(zip(selected_states, energies))\n",
    "\n",
    "energies.shape"
   ]
  },
  {
   "cell_type": "code",
   "execution_count": 83,
   "id": "eadc4847-ffbc-49cc-94af-e3438009de61",
   "metadata": {},
   "outputs": [
    {
     "data": {
      "image/png": "[encoded data removed]",
      "text/plain": [
       "<Figure size 864x432 with 1 Axes>"
      ]
     },
     "metadata": {
      "needs_background": "dark"
     },
     "output_type": "display_data"
    }
   ],
   "source": [
    "# Plot Counts\n",
    "\n",
    "plt.figure(figsize=(12, 6))\n",
    "    \n",
    "plt.bar(descending_counts.keys(), \n",
    "        descending_counts.values(), width=0.5, color=\"g\") \n",
    "\n",
    "set_tick_count(TICK_COUNT)\n",
    "\n",
    "plt.xticks(rotation=\"vertical\")\n",
    "\n",
    "plt.title(\"Simulated counts\")\n",
    "plt.xlabel(\"State\")\n",
    "plt.ylabel(\"Count\")\n",
    "plt.show()"
   ]
  },
  {
   "cell_type": "code",
   "execution_count": 84,
   "id": "6680f47b-bd92-4104-ba0f-879887c99723",
   "metadata": {},
   "outputs": [
    {
     "data": {
      "image/png": "[encoded data removed]",
      "text/plain": [
       "<Figure size 864x432 with 1 Axes>"
      ]
     },
     "metadata": {
      "needs_background": "dark"
     },
     "output_type": "display_data"
    }
   ],
   "source": [
    "plt.figure(figsize=(12, 6))\n",
    "\n",
    "plt.bar(energies_dict.keys(), \n",
    "        energies_dict.values(), width=0.5, color=\"r\")\n",
    "\n",
    "set_tick_count(TICK_COUNT)\n",
    "\n",
    "plt.xticks(rotation=\"vertical\")\n",
    "\n",
    "plt.title(\"QUBO energies\")\n",
    "plt.xlabel(\"State\")\n",
    "plt.ylabel(\"Energy\")\n",
    "plt.show()"
   ]
  },
  {
   "cell_type": "code",
   "execution_count": null,
   "id": "067991b2-5370-431c-a3b8-7e7012e84fa2",
   "metadata": {},
   "outputs": [],
   "source": []
  },
  {
   "cell_type": "markdown",
   "id": "720b1550-792a-451e-97ab-7e8c094e7bcd",
   "metadata": {
    "tags": []
   },
   "source": [
    "### 5) Time Evolution"
   ]
  },
  {
   "cell_type": "code",
   "execution_count": 85,
   "id": "419b5ff6-7129-4eea-b890-a99f5a88e084",
   "metadata": {},
   "outputs": [],
   "source": [
    "def get_state_energy(state, coupling_matrix):\n",
    "    \n",
    "    bits = np.array(list(state), dtype=int)\n",
    "    \n",
    "    energy = bits.T @ coupling_matrix @ bits\n",
    "    \n",
    "    return energy\n",
    "\n",
    "\n",
    "def get_counts_energy(counts, coupling_matrix):\n",
    "    \n",
    "    energy_sum = sum(appearences_count * get_state_energy(state, coupling_matrix) \n",
    "                     for state, appearences_count in counts.items())\n",
    "    \n",
    "    samples_count = sum(counts.values())\n",
    "    \n",
    "    normalized_energy = energy_sum / samples_count\n",
    "    \n",
    "    return normalized_energy"
   ]
  },
  {
   "cell_type": "code",
   "execution_count": 86,
   "id": "e872519c-5f4b-4e91-b45f-22c053e9e393",
   "metadata": {},
   "outputs": [
    {
     "name": "stdout",
     "output_type": "stream",
     "text": [
      "durations: [1850. 1900. 1950.]\n",
      "duration: 1850.0\n"
     ]
    },
    {
     "name": "stderr",
     "output_type": "stream",
     "text": [
      "/home/mohor/.local/lib/python3.8/site-packages/pulser/sequence/sequence.py:897: UserWarning: A duration of 1850 ns is not a multiple of the channel's clock period (4 ns). It was rounded up to 1852 ns.\n",
      "  self._add(pulse, channel, protocol)\n"
     ]
    },
    {
     "name": "stdout",
     "output_type": "stream",
     "text": [
      "duration: 1900.0\n",
      "duration: 1950.0\n"
     ]
    },
    {
     "name": "stderr",
     "output_type": "stream",
     "text": [
      "/home/mohor/.local/lib/python3.8/site-packages/pulser/sequence/sequence.py:897: UserWarning: A duration of 1950 ns is not a multiple of the channel's clock period (4 ns). It was rounded up to 1952 ns.\n",
      "  self._add(pulse, channel, protocol)\n"
     ]
    }
   ],
   "source": [
    "costs = []\n",
    "\n",
    "MIN_DURATION = 1850\n",
    "MAX_DURATION = 1950\n",
    "DURATION_STEP = 50\n",
    "\n",
    "duration_interval = (MAX_DURATION - MIN_DURATION) // DURATION_STEP + 1\n",
    "\n",
    "durations = np.linspace(MIN_DURATION, MAX_DURATION, duration_interval)\n",
    "\n",
    "print(\"durations:\", durations)\n",
    "\n",
    "for duration in durations:\n",
    "    \n",
    "    print(\"duration:\", duration)\n",
    "    \n",
    "    seq = Sequence(atomic_register, Chadoq2)\n",
    "    \n",
    "    seq.declare_channel(\"ising\", \"rydberg_global\")\n",
    "    \n",
    "    amplitude_modulating_waveform = InterpolatedWaveform(duration, [1e-9, omega_maximum, 1e-9])\n",
    "    frequency_modulating_waveform = InterpolatedWaveform(duration, [DELTA_0, 0, DELTA_F])\n",
    "        \n",
    "    adiabatic_pulse = Pulse(\n",
    "        amplitude=amplitude_modulating_waveform,\n",
    "        detuning=frequency_modulating_waveform,\n",
    "        phase=0,\n",
    "    )\n",
    "    \n",
    "    seq.add(adiabatic_pulse, \"ising\")\n",
    "    \n",
    "    simul = Simulation(seq)\n",
    "    results = simul.run()\n",
    "    final = results.get_final_state()\n",
    "    count_dict = results.sample_final_state()    \n",
    "    \n",
    "    costs.append(get_counts_energy(count_dict, selected_coupling_matrix) / 3)"
   ]
  },
  {
   "cell_type": "code",
   "execution_count": 87,
   "id": "da313d94-55de-41b0-a79b-49beda4196dc",
   "metadata": {},
   "outputs": [
    {
     "data": {
      "image/png": "[encoded data removed]",
      "text/plain": [
       "<Figure size 864x432 with 1 Axes>"
      ]
     },
     "metadata": {
      "needs_background": "dark"
     },
     "output_type": "display_data"
    }
   ],
   "source": [
    "plt.figure(figsize=(12, 6))\n",
    "plt.plot(durations, np.array(costs), \"--o\")\n",
    "\n",
    "plt.title(\"Pasqal Pulser - Sampled QUBO Energies\")\n",
    "plt.xlabel(\"Time evolution duration (µs)\")\n",
    "plt.ylabel(\"Energy\")\n",
    "plt.show()"
   ]
  },
  {
   "cell_type": "code",
   "execution_count": 88,
   "id": "82cc62d8-7b8a-498b-83ea-ee06f4f38319",
   "metadata": {},
   "outputs": [
    {
     "data": {
      "text/plain": [
       "True"
      ]
     },
     "execution_count": 88,
     "metadata": {},
     "output_type": "execute_result"
    }
   ],
   "source": [
    "# Alternative Energies\n",
    "\n",
    "def get_cost_colouring(bitstring, Q):\n",
    "    z = np.array(list(bitstring), dtype=int)\n",
    "    cost = z.T @ Q @ z\n",
    "    return cost\n",
    "\n",
    "\n",
    "energies_alt = np.array([get_cost_colouring(state, selected_coupling_matrix)\n",
    "                         for state in selected_states])\n",
    "\n",
    "np.allclose(energies, energies_alt)"
   ]
  },
  {
   "cell_type": "markdown",
   "id": "a50b2b11-c817-4fac-bcd6-9c69775b6714",
   "metadata": {
    "jp-MarkdownHeadingCollapsed": true,
    "tags": []
   },
   "source": [
    "### Conclusions"
   ]
  },
  {
   "cell_type": "code",
   "execution_count": null,
   "id": "5814050f-d85f-49d6-a2f8-17a69be8996a",
   "metadata": {},
   "outputs": [],
   "source": [
    "# Limitations:\n",
    "\n",
    "# 1) Qubit count is limited to 100 on Simulator\n",
    "# 2) Atomic coordinates are limited to sector of 50 mkm radius\n",
    "# 3) Minimum distances between atoms are 4 mkm\n",
    "# 4) Classical simulation time is about 60 seconds for 14 qubits \n",
    "# 5) Embedding time\n",
    "\n",
    "# 6) SimOptions do not affect shots count"
   ]
  },
  {
   "cell_type": "markdown",
   "id": "f0b5416f-5480-4f54-a457-6d64b9854f75",
   "metadata": {
    "jp-MarkdownHeadingCollapsed": true,
    "tags": []
   },
   "source": [
    "### 6) QAOA"
   ]
  },
  {
   "cell_type": "code",
   "execution_count": 14,
   "id": "3940e33f-6da8-4ac2-affd-d5d1ec7e1952",
   "metadata": {},
   "outputs": [],
   "source": [
    "LAYERS = 2\n",
    "\n",
    "# Parametrized sequence\n",
    "seq = Sequence(atomic_register, Chadoq2)\n",
    "seq.declare_channel(\"ch0\", \"rydberg_global\")\n",
    "\n",
    "t_list = seq.declare_variable(\"t_list\", size=LAYERS)\n",
    "s_list = seq.declare_variable(\"s_list\", size=LAYERS)\n",
    "\n",
    "for t, s in zip(t_list, s_list):\n",
    "    pulse_1 = Pulse.ConstantPulse(1000 * t, 1.0, 0.0, 0)\n",
    "    pulse_2 = Pulse.ConstantPulse(1000 * s, 0.0, 1.0, 0)\n",
    "\n",
    "    seq.add(pulse_1, \"ch0\")\n",
    "    seq.add(pulse_2, \"ch0\")\n",
    "\n",
    "seq.measure(\"ground-rydberg\")"
   ]
  },
  {
   "cell_type": "code",
   "execution_count": 15,
   "id": "955704c0-ebd0-45ad-ad97-2a2bfddf8842",
   "metadata": {},
   "outputs": [],
   "source": [
    "def quantum_loop(parameters):\n",
    "    params = np.array(parameters)\n",
    "    t_params, s_params = np.reshape(params.astype(int), (2, LAYERS))\n",
    "    assigned_seq = seq.build(t_list=t_params, s_list=s_params)\n",
    "    simul = Simulation(assigned_seq, sampling_rate=0.01)\n",
    "    results = simul.run()\n",
    "    count_dict = results.sample_final_state()  # sample from the state vector\n",
    "    return count_dict"
   ]
  },
  {
   "cell_type": "code",
   "execution_count": 16,
   "id": "d1d27801-9917-49ce-809f-bdc49fda1987",
   "metadata": {},
   "outputs": [],
   "source": [
    "np.random.seed(123)  # ensures reproducibility of the tutorial\n",
    "guess = {\n",
    "    \"t\": np.random.uniform(8, 10, LAYERS),\n",
    "    \"s\": np.random.uniform(1, 3, LAYERS),\n",
    "}"
   ]
  },
  {
   "cell_type": "code",
   "execution_count": 17,
   "id": "de6f8f71-de53-4a12-802d-426a081df294",
   "metadata": {},
   "outputs": [],
   "source": [
    "example_dict = quantum_loop(np.r_[guess[\"t\"], guess[\"s\"]])"
   ]
  },
  {
   "cell_type": "code",
   "execution_count": 18,
   "id": "a28587cd-3e9f-4844-be2e-d4043eeb9e09",
   "metadata": {},
   "outputs": [],
   "source": [
    "def plot_distribution(C):\n",
    "    C = dict(sorted(C.items(), key=lambda item: item[1], reverse=True))\n",
    "    indexes = [\"01011\", \"00111\"]  # MIS indexes\n",
    "    color_dict = {key: \"r\" if key in indexes else \"g\" for key in C}\n",
    "    plt.figure(figsize=(12, 6))\n",
    "    plt.xlabel(\"bitstrings\")\n",
    "    plt.ylabel(\"counts\")\n",
    "    plt.bar(C.keys(), C.values(), width=0.5, color=color_dict.values())\n",
    "    plt.xticks(rotation=\"vertical\")\n",
    "    plt.show()"
   ]
  },
  {
   "cell_type": "code",
   "execution_count": 19,
   "id": "2e3513f2-bd22-482d-a657-fe1a48686554",
   "metadata": {},
   "outputs": [
    {
     "data": {
      "image/png": "[encoded data removed]",
      "text/plain": [
       "<Figure size 864x432 with 1 Axes>"
      ]
     },
     "metadata": {
      "needs_background": "dark"
     },
     "output_type": "display_data"
    }
   ],
   "source": [
    "plot_distribution(example_dict)"
   ]
  },
  {
   "cell_type": "markdown",
   "id": "b3cf8d2f-1428-4c85-b0b4-87fdd4517198",
   "metadata": {},
   "source": [
    "#### Optimization"
   ]
  },
  {
   "cell_type": "code",
   "execution_count": 20,
   "id": "45933b13-5d0a-48b1-8aff-5d7b4107209b",
   "metadata": {},
   "outputs": [],
   "source": [
    "def get_cost_colouring(bitstring, Q):\n",
    "    z = np.array(list(bitstring), dtype=int)\n",
    "    cost = z.T @ Q @ z\n",
    "    return cost\n",
    "\n",
    "\n",
    "def get_cost(counter, Q):\n",
    "    cost = sum(counter[key] * get_cost_colouring(key, Q) for key in counter)\n",
    "    return cost / sum(counter.values())  # Divide by total samples"
   ]
  },
  {
   "cell_type": "markdown",
   "id": "4237fb2c-470d-4bfa-9405-1c45a29d2a0e",
   "metadata": {},
   "source": [
    "#### QAOA"
   ]
  },
  {
   "cell_type": "code",
   "execution_count": 21,
   "id": "761cacaa-b751-4d9a-9a60-7b9fbeb17ac1",
   "metadata": {},
   "outputs": [],
   "source": [
    "def func(param, *args):\n",
    "    Q = args[0]\n",
    "    C = quantum_loop(param)\n",
    "    cost = get_cost(C, Q)\n",
    "    return cost"
   ]
  },
  {
   "cell_type": "code",
   "execution_count": 22,
   "id": "939de280-6357-44a0-8924-ae289a0d94e3",
   "metadata": {},
   "outputs": [],
   "source": [
    "scores = []\n",
    "params = []\n",
    "for repetition in range(20):\n",
    "    guess = {\n",
    "        \"t\": np.random.uniform(1, 10, LAYERS),\n",
    "        \"s\": np.random.uniform(1, 10, LAYERS),\n",
    "    }\n",
    "\n",
    "    try:\n",
    "    \n",
    "        res = minimize(\n",
    "            func,\n",
    "            args=coupling_matrix,\n",
    "            x0=np.r_[guess[\"t\"], guess[\"s\"]],\n",
    "            method=\"Nelder-Mead\",\n",
    "            tol=1e-5,\n",
    "            options={\"maxiter\": 10},\n",
    "        )\n",
    "        scores.append(res.fun)\n",
    "        params.append(res.x)\n",
    "    \n",
    "    except Exception as e:\n",
    "        pass"
   ]
  },
  {
   "cell_type": "code",
   "execution_count": 23,
   "id": "71bf4851-1c38-4ba0-8635-8f52fe6023b1",
   "metadata": {},
   "outputs": [
    {
     "data": {
      "image/png": "[encoded data removed]",
      "text/plain": [
       "<Figure size 864x432 with 1 Axes>"
      ]
     },
     "metadata": {
      "needs_background": "dark"
     },
     "output_type": "display_data"
    }
   ],
   "source": [
    "optimal_count_dict = quantum_loop(params[np.argmin(scores)])\n",
    "plot_distribution(optimal_count_dict)"
   ]
  }
 ],
 "metadata": {
  "kernelspec": {
   "display_name": "Python 3 (ipykernel)",
   "language": "python",
   "name": "python3"
  },
  "language_info": {
   "codemirror_mode": {
    "name": "ipython",
    "version": 3
   },
   "file_extension": ".py",
   "mimetype": "text/x-python",
   "name": "python",
   "nbconvert_exporter": "python",
   "pygments_lexer": "ipython3",
   "version": "3.8.10"
  }
 },
 "nbformat": 4,
 "nbformat_minor": 5
}
