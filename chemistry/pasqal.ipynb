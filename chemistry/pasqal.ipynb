{
 "cells": [
  {
   "cell_type": "markdown",
   "id": "a7c6ca85-5510-47d8-a5d4-f07f39865ba2",
   "metadata": {
    "tags": []
   },
   "source": [
    "### 1) Imports"
   ]
  },
  {
   "cell_type": "code",
   "execution_count": 1,
   "id": "dcc7724d-79d4-4020-bf76-41af89079679",
   "metadata": {},
   "outputs": [],
   "source": [
    "# https://github.com/pasqal-io/Pulser/blob/develop/tutorials/applications/QAOA%20and%20QAA%20to%20solve%20a%20QUBO%20problem.ipynb"
   ]
  },
  {
   "cell_type": "code",
   "execution_count": 2,
   "id": "61ea1181-68a5-4df2-ae2f-28fbe5bbdca5",
   "metadata": {},
   "outputs": [],
   "source": [
    "import numpy as np\n",
    "import matplotlib.pyplot as plt\n",
    "\n",
    "from pulser import Pulse\n",
    "from pulser import Sequence\n",
    "from pulser import Register\n",
    "\n",
    "from pulser.devices import Chadoq2\n",
    "from pulser.waveforms import InterpolatedWaveform\n",
    "\n",
    "from pulser_simulation import Simulation\n",
    "\n",
    "from scipy.optimize import minimize\n",
    "from scipy.spatial.distance import pdist\n",
    "from scipy.spatial.distance import squareform\n",
    "\n",
    "plt.style.use('dark_background')"
   ]
  },
  {
   "cell_type": "code",
   "execution_count": 3,
   "id": "0fe92b33-593c-45f6-b532-a7f1e87e0952",
   "metadata": {},
   "outputs": [],
   "source": [
    "coupling_matrix = np.array(\n",
    "    [\n",
    "        [-10.0,      19.7365809,  19.7365809,  5.42015853, 5.42015853],\n",
    "        [19.7365809, -10.0,       20.67626392, 0.17675796, 0.85604541],\n",
    "        [19.7365809, 20.67626392, -10.0,       0.85604541, 0.17675796],\n",
    "        [5.42015853, 0.17675796,  0.85604541,  -10.0,      0.32306662],\n",
    "        [5.42015853, 0.85604541,  0.17675796,  0.32306662, -10.0     ],\n",
    "    ]\n",
    ")"
   ]
  },
  {
   "cell_type": "code",
   "execution_count": 4,
   "id": "39d543eb-79b5-49f7-9682-ff2d55c3f380",
   "metadata": {},
   "outputs": [],
   "source": [
    "# # Load Protein QUBO\n",
    "\n",
    "# loaded_qubo = np.load('qubo_proteins.npy')\n",
    "\n",
    "# coupling_matrix = loaded_qubo\n",
    "\n",
    "# loaded_qubo.shape"
   ]
  },
  {
   "cell_type": "code",
   "execution_count": null,
   "id": "ad01cfe2-5bdc-4691-b979-9a11ce333c8b",
   "metadata": {},
   "outputs": [],
   "source": []
  },
  {
   "cell_type": "markdown",
   "id": "9a51b54d-c619-4958-8e2d-914be8330e63",
   "metadata": {
    "tags": []
   },
   "source": [
    "### 2) Classical Search"
   ]
  },
  {
   "cell_type": "code",
   "execution_count": 5,
   "id": "b5c56865-8c37-4dc0-819a-9fe52d99e8cb",
   "metadata": {},
   "outputs": [
    {
     "data": {
      "text/plain": [
       "array(['00000', '00001', '00010', '00011', '00100', '00101', '00110',\n",
       "       '00111', '01000', '01001', '01010', '01011', '01100', '01101',\n",
       "       '01110', '01111', '10000', '10001', '10010', '10011', '10100',\n",
       "       '10101', '10110', '10111', '11000', '11001', '11010', '11011',\n",
       "       '11100', '11101', '11110', '11111'], dtype='<U5')"
      ]
     },
     "execution_count": 5,
     "metadata": {},
     "output_type": "execute_result"
    }
   ],
   "source": [
    "coupling_matrix_size = len(coupling_matrix)\n",
    "\n",
    "state_indices = np.arange(2 ** coupling_matrix_size)\n",
    "\n",
    "binarize = np.vectorize(np.binary_repr)\n",
    "\n",
    "state_strings = binarize(state_indices, coupling_matrix_size)\n",
    "\n",
    "state_strings"
   ]
  },
  {
   "cell_type": "code",
   "execution_count": 6,
   "id": "f2ea6e96-b923-434b-8828-addcfa810515",
   "metadata": {},
   "outputs": [
    {
     "data": {
      "text/plain": [
       "(32, 5)"
      ]
     },
     "execution_count": 6,
     "metadata": {},
     "output_type": "execute_result"
    }
   ],
   "source": [
    "state_indices_vector = state_indices.reshape(-1, 1).astype(np.uint8)\n",
    "\n",
    "state_little_bits = np.unpackbits(state_indices_vector, \n",
    "                                  count=coupling_matrix_size, \n",
    "                                  bitorder='little',\n",
    "                                  axis=1)\n",
    "\n",
    "state_bits = np.flip(state_little_bits, axis=1)\n",
    "\n",
    "state_bits.shape"
   ]
  },
  {
   "cell_type": "code",
   "execution_count": 7,
   "id": "9925fc2a-ab4a-4f63-aa11-18e409fd5dac",
   "metadata": {},
   "outputs": [],
   "source": [
    "costs = np.diag(state_bits @ coupling_matrix @ state_bits.T)"
   ]
  },
  {
   "cell_type": "code",
   "execution_count": 8,
   "id": "1a24d939-4e6a-4c59-ba34-c8353bc4337b",
   "metadata": {},
   "outputs": [
    {
     "name": "stdout",
     "output_type": "stream",
     "text": [
      "top_state_costs: [('01011', -27.288260020000003), ('00111', -27.288260019999996), ('00101', -19.64648408)]\n"
     ]
    }
   ],
   "source": [
    "state_costs = zip(state_strings, costs)\n",
    "\n",
    "top_state_costs = sorted(state_costs, key=lambda x: x[1])\n",
    "\n",
    "print(\"top_state_costs:\", top_state_costs[:3])"
   ]
  },
  {
   "cell_type": "code",
   "execution_count": null,
   "id": "8072815d-af9f-464f-a7f9-180348062888",
   "metadata": {},
   "outputs": [],
   "source": []
  },
  {
   "cell_type": "markdown",
   "id": "348bc6fd-97d1-4640-9eaf-d3f1ed046c0d",
   "metadata": {
    "tags": []
   },
   "source": [
    "### 3) Embedding to Atomic Register"
   ]
  },
  {
   "cell_type": "code",
   "execution_count": 9,
   "id": "4be445e8-2794-4f8c-9d52-20db7a72e9e4",
   "metadata": {},
   "outputs": [],
   "source": [
    "def evaluate_mapping(coordinate_vector, coupling_matrix, shape):  \n",
    "    \n",
    "    coordinates = np.reshape(coordinate_vector, shape)\n",
    "    \n",
    "    pairwise_distances = pdist(coordinates)\n",
    "    \n",
    "    interaction_matrix = squareform(Chadoq2.interaction_coeff /  pairwise_distances ** 6)\n",
    "    \n",
    "    root_mean_square_error = np.linalg.norm(interaction_matrix - coupling_matrix)\n",
    "    \n",
    "    return root_mean_square_error"
   ]
  },
  {
   "cell_type": "code",
   "execution_count": 10,
   "id": "44d01a3f-d7de-4a53-b93c-8fd92f304ef6",
   "metadata": {},
   "outputs": [],
   "source": [
    "np.random.seed(0)"
   ]
  },
  {
   "cell_type": "code",
   "execution_count": 11,
   "id": "6fd22a59-9810-48f1-a717-6d4a25dfae3d",
   "metadata": {},
   "outputs": [],
   "source": [
    "coordinates_shape = (coupling_matrix_size, 2)\n",
    "\n",
    "initial_coordinates = np.random.random(coordinates_shape)\n",
    "\n",
    "initial_coordinate_vector = initial_coordinates.flatten()"
   ]
  },
  {
   "cell_type": "code",
   "execution_count": 12,
   "id": "4c6099ed-639c-4e9b-aa1b-8d11604f42d7",
   "metadata": {},
   "outputs": [],
   "source": [
    "optimal_coordinates_result = minimize(\n",
    "    fun=evaluate_mapping,\n",
    "    x0=initial_coordinate_vector,\n",
    "    args=(coupling_matrix, coordinates_shape),\n",
    "    method=\"Nelder-Mead\",\n",
    "    tol=1e-6,\n",
    "    options={\"maxiter\": 200000, \"maxfev\": None},\n",
    ")"
   ]
  },
  {
   "cell_type": "code",
   "execution_count": 13,
   "id": "2e3f2d98-a2ec-428d-8473-fb66367798fa",
   "metadata": {},
   "outputs": [
    {
     "data": {
      "text/plain": [
       "array([[ 5.43591935,  1.83221016],\n",
       "       [ 5.30433156, -6.2289737 ],\n",
       "       [-1.57590666, -2.14702291],\n",
       "       [ 1.61714433, 11.07433973],\n",
       "       [15.37762057,  2.91043984]])"
      ]
     },
     "execution_count": 13,
     "metadata": {},
     "output_type": "execute_result"
    }
   ],
   "source": [
    "optimal_coordinates = np.reshape(optimal_coordinates_result.x, coordinates_shape)\n",
    "\n",
    "optimal_coordinates"
   ]
  },
  {
   "cell_type": "code",
   "execution_count": 14,
   "id": "6dab9449-396b-44bb-aac8-24f2eed7b1ae",
   "metadata": {},
   "outputs": [
    {
     "data": {
      "image/png": "[encoded data removed]",
      "text/plain": [
       "<Figure size 305.163x311.46 with 1 Axes>"
      ]
     },
     "metadata": {
      "needs_background": "dark"
     },
     "output_type": "display_data"
    }
   ],
   "source": [
    "qubits_dict = dict(enumerate(optimal_coordinates))\n",
    "\n",
    "atomic_register = Register(qubits_dict)\n",
    "\n",
    "atomic_register.draw(\n",
    "    blockade_radius=Chadoq2.rydberg_blockade_radius(1.0),\n",
    "    draw_graph=False,\n",
    "    draw_half_radius=True,\n",
    ")"
   ]
  },
  {
   "cell_type": "markdown",
   "id": "a8dd3756-eb12-4a2a-9cb6-0746f6c116cc",
   "metadata": {},
   "source": [
    "$$ H= \\sum_{i=1}^N \\frac{\\hbar\\Omega}{2} \\sigma_i^x - \\sum_{i=1}^N \\frac{\\hbar \\delta}{2} \\sigma_i^z+\\sum_{j} ... $$"
   ]
  },
  {
   "cell_type": "markdown",
   "id": "3d6a6169-6132-4392-945e-f76865ff8f84",
   "metadata": {
    "tags": []
   },
   "source": [
    "### 4) Quantum Adiabatic Algorithm (QAA)"
   ]
  },
  {
   "cell_type": "code",
   "execution_count": 15,
   "id": "35f8fc46-1185-4d45-a019-88755a01b096",
   "metadata": {},
   "outputs": [
    {
     "data": {
      "text/plain": [
       "3.13810197"
      ]
     },
     "execution_count": 15,
     "metadata": {},
     "output_type": "execute_result"
    }
   ],
   "source": [
    "# Omega Maximum\n",
    "\n",
    "positive_coupling_coefficients = coupling_matrix[coupling_matrix > 0].flatten()\n",
    "\n",
    "omega_maximum = np.median(positive_coupling_coefficients)\n",
    "\n",
    "omega_maximum"
   ]
  },
  {
   "cell_type": "code",
   "execution_count": 16,
   "id": "71f494d2-cbd5-4c84-9a82-54b3c1a6c85e",
   "metadata": {},
   "outputs": [],
   "source": [
    "DELTA_0 = -5\n",
    "DELTA_F = -DELTA_0\n",
    "\n",
    "TIME_NANOSECONDS = 4000"
   ]
  },
  {
   "cell_type": "code",
   "execution_count": 17,
   "id": "bc76e843-6fef-4b6e-b6fa-0e7a96d9cd69",
   "metadata": {},
   "outputs": [],
   "source": [
    "# Modulating Waveforms\n",
    "\n",
    "amplitude_modulating_waveform = InterpolatedWaveform(TIME_NANOSECONDS, [1e-9, omega_maximum, 1e-9])\n",
    "\n",
    "frequency_modulating_waveform = InterpolatedWaveform(TIME_NANOSECONDS, [DELTA_0, 0, DELTA_F])"
   ]
  },
  {
   "cell_type": "code",
   "execution_count": 18,
   "id": "ec54d5e7-66c1-4fe6-90c3-a8abd680105d",
   "metadata": {},
   "outputs": [],
   "source": [
    "# Pulse\n",
    "\n",
    "adiabatic_pulse = Pulse(\n",
    "    amplitude=amplitude_modulating_waveform,\n",
    "    detuning=frequency_modulating_waveform,\n",
    "    phase=0,\n",
    ")"
   ]
  },
  {
   "cell_type": "code",
   "execution_count": 19,
   "id": "51d2e003-5859-4346-8479-c0c77147c81e",
   "metadata": {},
   "outputs": [
    {
     "data": {
      "image/png": "[encoded data removed]",
      "text/plain": [
       "<Figure size 1440x288 with 3 Axes>"
      ]
     },
     "metadata": {
      "needs_background": "dark"
     },
     "output_type": "display_data"
    }
   ],
   "source": [
    "sequence = Sequence(atomic_register, Chadoq2)\n",
    "sequence.declare_channel(\"ising\", \"rydberg_global\")\n",
    "sequence.add(adiabatic_pulse, \"ising\")\n",
    "sequence.draw()"
   ]
  },
  {
   "cell_type": "code",
   "execution_count": 47,
   "id": "6e5028dc-a8c6-4929-b2f4-54033819a4b1",
   "metadata": {},
   "outputs": [
    {
     "data": {
      "text/plain": [
       "Counter({'00001': 1,\n",
       "         '00011': 15,\n",
       "         '00100': 1,\n",
       "         '00101': 3,\n",
       "         '00111': 477,\n",
       "         '01000': 2,\n",
       "         '01010': 4,\n",
       "         '01011': 491,\n",
       "         '10000': 6})"
      ]
     },
     "execution_count": 47,
     "metadata": {},
     "output_type": "execute_result"
    }
   ],
   "source": [
    "simulation = Simulation(sequence)\n",
    "\n",
    "results = simulation.run()\n",
    "\n",
    "final_statevector = results.get_final_state()\n",
    "\n",
    "counts = results.sample_final_state()\n",
    "\n",
    "counts\n"
   ]
  },
  {
   "cell_type": "code",
   "execution_count": 101,
   "id": "cf7b83f4-1285-44b4-b38c-12a13f8587f3",
   "metadata": {},
   "outputs": [],
   "source": [
    "def plot_distribution(counts):\n",
    "    \n",
    "    descending_counts = dict(sorted(counts.items(), key=lambda item: -item[1]))\n",
    "    \n",
    "    indexes = [\"01011\", \"00111\"]  # MIS indexes\n",
    "    \n",
    "    color_dict = {key: \"r\" if key in indexes else \"g\" for key in descending_counts}\n",
    "    \n",
    "    plt.figure(figsize=(12, 6))\n",
    "    # plt.bar(descending_counts.keys(), descending_counts.values(), width=0.5, color=color_dict.values())\n",
    "    \n",
    "    plt.bar(*zip(*descending_counts.items()), width=0.5, color=color_dict.values())\n",
    "    \n",
    "    plt.xticks(rotation=\"vertical\")\n",
    "    plt.title(\"Simulated state counts\")\n",
    "    plt.xlabel(\"State\")\n",
    "    plt.ylabel(\"Count\")\n",
    "    plt.show()\n",
    "    \n",
    "    # print(**list(zip(*descending_counts.items())))"
   ]
  },
  {
   "cell_type": "code",
   "execution_count": 102,
   "id": "00feec26-b855-44f1-ad6a-f24c6e1a180e",
   "metadata": {},
   "outputs": [
    {
     "data": {
      "image/png": "[encoded data removed]",
      "text/plain": [
       "<Figure size 864x432 with 1 Axes>"
      ]
     },
     "metadata": {
      "needs_background": "dark"
     },
     "output_type": "display_data"
    }
   ],
   "source": [
    "plot_distribution(count_dict)"
   ]
  },
  {
   "cell_type": "code",
   "execution_count": null,
   "id": "6b085b05-aa3e-4273-a888-1dbf3165892d",
   "metadata": {},
   "outputs": [],
   "source": []
  },
  {
   "cell_type": "code",
   "execution_count": 24,
   "id": "90e4b0c6-6eb0-4a41-9f6b-b8680fc220de",
   "metadata": {},
   "outputs": [],
   "source": [
    "# We choose a median value between the min and the max\n",
    "\n",
    "Omega = np.median(coupling_matrix[coupling_matrix > 0].flatten())\n",
    "delta_0 = -5  # just has to be negative\n",
    "delta_f = -delta_0  # just has to be positive\n",
    "T = 4000  # time in ns, we choose a time long enough to ensure the propagation of information i"
   ]
  },
  {
   "cell_type": "code",
   "execution_count": 25,
   "id": "e75ea4c3-1a00-46d9-be3b-d6ac07fed599",
   "metadata": {},
   "outputs": [
    {
     "data": {
      "image/png": "[encoded data removed]",
      "text/plain": [
       "<Figure size 1440x288 with 3 Axes>"
      ]
     },
     "metadata": {
      "needs_background": "dark"
     },
     "output_type": "display_data"
    }
   ],
   "source": [
    "adiabatic_pulse = Pulse(\n",
    "    InterpolatedWaveform(T, [1e-9, Omega, 1e-9]),\n",
    "    InterpolatedWaveform(T, [delta_0, 0, delta_f]),\n",
    "    0,\n",
    ")\n",
    "seq = Sequence(atomic_register, Chadoq2)\n",
    "seq.declare_channel(\"ising\", \"rydberg_global\")\n",
    "seq.add(adiabatic_pulse, \"ising\")\n",
    "seq.draw()"
   ]
  },
  {
   "cell_type": "code",
   "execution_count": 50,
   "id": "d802fd1c-e4be-48f9-bd13-1f430476ab11",
   "metadata": {},
   "outputs": [
    {
     "ename": "NameError",
     "evalue": "name 'seq' is not defined",
     "output_type": "error",
     "traceback": [
      "\u001b[0;31m---------------------------------------------------------------------------\u001b[0m",
      "\u001b[0;31mNameError\u001b[0m                                 Traceback (most recent call last)",
      "Input \u001b[0;32mIn [50]\u001b[0m, in \u001b[0;36m<cell line: 1>\u001b[0;34m()\u001b[0m\n\u001b[0;32m----> 1\u001b[0m simul \u001b[38;5;241m=\u001b[39m Simulation(\u001b[43mseq\u001b[49m)\n\u001b[1;32m      2\u001b[0m results \u001b[38;5;241m=\u001b[39m simul\u001b[38;5;241m.\u001b[39mrun()\n\u001b[1;32m      3\u001b[0m final \u001b[38;5;241m=\u001b[39m results\u001b[38;5;241m.\u001b[39mget_final_state()\n",
      "\u001b[0;31mNameError\u001b[0m: name 'seq' is not defined"
     ]
    }
   ],
   "source": [
    "simul = Simulation(seq)\n",
    "results = simul.run()\n",
    "final = results.get_final_state()\n",
    "count_dict = results.sample_final_state()"
   ]
  },
  {
   "cell_type": "code",
   "execution_count": null,
   "id": "e14c1b3a-f5d8-4939-adc8-40ccaa4bb1ef",
   "metadata": {},
   "outputs": [],
   "source": []
  },
  {
   "cell_type": "code",
   "execution_count": 49,
   "id": "986f74df-8aaa-4b60-9902-29f91c5ac3ff",
   "metadata": {},
   "outputs": [],
   "source": [
    "# plot_distribution(count_dict)"
   ]
  },
  {
   "cell_type": "markdown",
   "id": "720b1550-792a-451e-97ab-7e8c094e7bcd",
   "metadata": {},
   "source": [
    "#### Time Evolution"
   ]
  },
  {
   "cell_type": "code",
   "execution_count": 28,
   "id": "1d1d6ba7-9275-4779-8112-695c0a7eb8a6",
   "metadata": {},
   "outputs": [],
   "source": [
    "cost = []\n",
    "for T in 1000 * np.linspace(1, 10, 10):\n",
    "    seq = Sequence(atomic_register, Chadoq2)\n",
    "    seq.declare_channel(\"ising\", \"rydberg_global\")\n",
    "    adiabatic_pulse = Pulse(\n",
    "        InterpolatedWaveform(T, [1e-9, Omega, 1e-9]),\n",
    "        InterpolatedWaveform(T, [delta_0, 0, delta_f]),\n",
    "        0,\n",
    "    )\n",
    "    seq.add(adiabatic_pulse, \"ising\")\n",
    "    simul = Simulation(seq)\n",
    "    results = simul.run()\n",
    "    final = results.get_final_state()\n",
    "    count_dict = results.sample_final_state()\n",
    "    cost.append(get_cost(count_dict, coupling_matrix) / 3)"
   ]
  },
  {
   "cell_type": "code",
   "execution_count": 29,
   "id": "d16c555c-e7af-48d1-81b4-bc482b326574",
   "metadata": {},
   "outputs": [
    {
     "data": {
      "image/png": "[encoded data removed]",
      "text/plain": [
       "<Figure size 864x432 with 1 Axes>"
      ]
     },
     "metadata": {
      "needs_background": "dark"
     },
     "output_type": "display_data"
    }
   ],
   "source": [
    "plt.figure(figsize=(12, 6))\n",
    "plt.plot(range(1, 11), np.array(cost), \"--o\")\n",
    "plt.xlabel(\"total time evolution (µs)\", fontsize=14)\n",
    "plt.ylabel(\"cost\", fontsize=14)\n",
    "plt.show()"
   ]
  },
  {
   "cell_type": "code",
   "execution_count": null,
   "id": "82cc62d8-7b8a-498b-83ea-ee06f4f38319",
   "metadata": {},
   "outputs": [],
   "source": []
  },
  {
   "cell_type": "markdown",
   "id": "f0b5416f-5480-4f54-a457-6d64b9854f75",
   "metadata": {
    "tags": []
   },
   "source": [
    "### 5) QAOA"
   ]
  },
  {
   "cell_type": "code",
   "execution_count": 14,
   "id": "3940e33f-6da8-4ac2-affd-d5d1ec7e1952",
   "metadata": {},
   "outputs": [],
   "source": [
    "LAYERS = 2\n",
    "\n",
    "# Parametrized sequence\n",
    "seq = Sequence(atomic_register, Chadoq2)\n",
    "seq.declare_channel(\"ch0\", \"rydberg_global\")\n",
    "\n",
    "t_list = seq.declare_variable(\"t_list\", size=LAYERS)\n",
    "s_list = seq.declare_variable(\"s_list\", size=LAYERS)\n",
    "\n",
    "for t, s in zip(t_list, s_list):\n",
    "    pulse_1 = Pulse.ConstantPulse(1000 * t, 1.0, 0.0, 0)\n",
    "    pulse_2 = Pulse.ConstantPulse(1000 * s, 0.0, 1.0, 0)\n",
    "\n",
    "    seq.add(pulse_1, \"ch0\")\n",
    "    seq.add(pulse_2, \"ch0\")\n",
    "\n",
    "seq.measure(\"ground-rydberg\")"
   ]
  },
  {
   "cell_type": "code",
   "execution_count": 15,
   "id": "955704c0-ebd0-45ad-ad97-2a2bfddf8842",
   "metadata": {},
   "outputs": [],
   "source": [
    "def quantum_loop(parameters):\n",
    "    params = np.array(parameters)\n",
    "    t_params, s_params = np.reshape(params.astype(int), (2, LAYERS))\n",
    "    assigned_seq = seq.build(t_list=t_params, s_list=s_params)\n",
    "    simul = Simulation(assigned_seq, sampling_rate=0.01)\n",
    "    results = simul.run()\n",
    "    count_dict = results.sample_final_state()  # sample from the state vector\n",
    "    return count_dict"
   ]
  },
  {
   "cell_type": "code",
   "execution_count": 16,
   "id": "d1d27801-9917-49ce-809f-bdc49fda1987",
   "metadata": {},
   "outputs": [],
   "source": [
    "np.random.seed(123)  # ensures reproducibility of the tutorial\n",
    "guess = {\n",
    "    \"t\": np.random.uniform(8, 10, LAYERS),\n",
    "    \"s\": np.random.uniform(1, 3, LAYERS),\n",
    "}"
   ]
  },
  {
   "cell_type": "code",
   "execution_count": 17,
   "id": "de6f8f71-de53-4a12-802d-426a081df294",
   "metadata": {},
   "outputs": [],
   "source": [
    "example_dict = quantum_loop(np.r_[guess[\"t\"], guess[\"s\"]])"
   ]
  },
  {
   "cell_type": "code",
   "execution_count": 18,
   "id": "a28587cd-3e9f-4844-be2e-d4043eeb9e09",
   "metadata": {},
   "outputs": [],
   "source": [
    "def plot_distribution(C):\n",
    "    C = dict(sorted(C.items(), key=lambda item: item[1], reverse=True))\n",
    "    indexes = [\"01011\", \"00111\"]  # MIS indexes\n",
    "    color_dict = {key: \"r\" if key in indexes else \"g\" for key in C}\n",
    "    plt.figure(figsize=(12, 6))\n",
    "    plt.xlabel(\"bitstrings\")\n",
    "    plt.ylabel(\"counts\")\n",
    "    plt.bar(C.keys(), C.values(), width=0.5, color=color_dict.values())\n",
    "    plt.xticks(rotation=\"vertical\")\n",
    "    plt.show()"
   ]
  },
  {
   "cell_type": "code",
   "execution_count": 19,
   "id": "2e3513f2-bd22-482d-a657-fe1a48686554",
   "metadata": {},
   "outputs": [
    {
     "data": {
      "image/png": "[encoded data removed]",
      "text/plain": [
       "<Figure size 864x432 with 1 Axes>"
      ]
     },
     "metadata": {
      "needs_background": "dark"
     },
     "output_type": "display_data"
    }
   ],
   "source": [
    "plot_distribution(example_dict)"
   ]
  },
  {
   "cell_type": "markdown",
   "id": "b3cf8d2f-1428-4c85-b0b4-87fdd4517198",
   "metadata": {},
   "source": [
    "#### Optimization"
   ]
  },
  {
   "cell_type": "code",
   "execution_count": 20,
   "id": "45933b13-5d0a-48b1-8aff-5d7b4107209b",
   "metadata": {},
   "outputs": [],
   "source": [
    "def get_cost_colouring(bitstring, Q):\n",
    "    z = np.array(list(bitstring), dtype=int)\n",
    "    cost = z.T @ Q @ z\n",
    "    return cost\n",
    "\n",
    "\n",
    "def get_cost(counter, Q):\n",
    "    cost = sum(counter[key] * get_cost_colouring(key, Q) for key in counter)\n",
    "    return cost / sum(counter.values())  # Divide by total samples"
   ]
  },
  {
   "cell_type": "markdown",
   "id": "4237fb2c-470d-4bfa-9405-1c45a29d2a0e",
   "metadata": {},
   "source": [
    "#### QAOA"
   ]
  },
  {
   "cell_type": "code",
   "execution_count": 21,
   "id": "761cacaa-b751-4d9a-9a60-7b9fbeb17ac1",
   "metadata": {},
   "outputs": [],
   "source": [
    "def func(param, *args):\n",
    "    Q = args[0]\n",
    "    C = quantum_loop(param)\n",
    "    cost = get_cost(C, Q)\n",
    "    return cost"
   ]
  },
  {
   "cell_type": "code",
   "execution_count": 22,
   "id": "939de280-6357-44a0-8924-ae289a0d94e3",
   "metadata": {},
   "outputs": [],
   "source": [
    "scores = []\n",
    "params = []\n",
    "for repetition in range(20):\n",
    "    guess = {\n",
    "        \"t\": np.random.uniform(1, 10, LAYERS),\n",
    "        \"s\": np.random.uniform(1, 10, LAYERS),\n",
    "    }\n",
    "\n",
    "    try:\n",
    "    \n",
    "        res = minimize(\n",
    "            func,\n",
    "            args=coupling_matrix,\n",
    "            x0=np.r_[guess[\"t\"], guess[\"s\"]],\n",
    "            method=\"Nelder-Mead\",\n",
    "            tol=1e-5,\n",
    "            options={\"maxiter\": 10},\n",
    "        )\n",
    "        scores.append(res.fun)\n",
    "        params.append(res.x)\n",
    "    \n",
    "    except Exception as e:\n",
    "        pass"
   ]
  },
  {
   "cell_type": "code",
   "execution_count": 23,
   "id": "71bf4851-1c38-4ba0-8635-8f52fe6023b1",
   "metadata": {},
   "outputs": [
    {
     "data": {
      "image/png": "[encoded data removed]",
      "text/plain": [
       "<Figure size 864x432 with 1 Axes>"
      ]
     },
     "metadata": {
      "needs_background": "dark"
     },
     "output_type": "display_data"
    }
   ],
   "source": [
    "optimal_count_dict = quantum_loop(params[np.argmin(scores)])\n",
    "plot_distribution(optimal_count_dict)"
   ]
  }
 ],
 "metadata": {
  "kernelspec": {
   "display_name": "Python 3 (ipykernel)",
   "language": "python",
   "name": "python3"
  },
  "language_info": {
   "codemirror_mode": {
    "name": "ipython",
    "version": 3
   },
   "file_extension": ".py",
   "mimetype": "text/x-python",
   "name": "python",
   "nbconvert_exporter": "python",
   "pygments_lexer": "ipython3",
   "version": "3.8.10"
  }
 },
 "nbformat": 4,
 "nbformat_minor": 5
}
