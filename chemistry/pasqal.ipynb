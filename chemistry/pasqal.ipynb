{
 "cells": [
  {
   "cell_type": "markdown",
   "id": "a7c6ca85-5510-47d8-a5d4-f07f39865ba2",
   "metadata": {},
   "source": [
    "### Pasqal QUBO"
   ]
  },
  {
   "cell_type": "code",
   "execution_count": 1,
   "id": "dcc7724d-79d4-4020-bf76-41af89079679",
   "metadata": {},
   "outputs": [],
   "source": [
    "# https://github.com/pasqal-io/Pulser/blob/develop/tutorials/applications/QAOA%20and%20QAA%20to%20solve%20a%20QUBO%20problem.ipynb"
   ]
  },
  {
   "cell_type": "code",
   "execution_count": 2,
   "id": "61ea1181-68a5-4df2-ae2f-28fbe5bbdca5",
   "metadata": {},
   "outputs": [],
   "source": [
    "import numpy as np\n",
    "import matplotlib.pyplot as plt\n",
    "\n",
    "# from pulser import Pulse, Sequence, Register\n",
    "# from pulser_simulation import Simulation\n",
    "# from pulser.devices import Chadoq2\n",
    "# from pulser.waveforms import InterpolatedWaveform\n",
    "\n",
    "from scipy.optimize import minimize\n",
    "from scipy.spatial.distance import pdist, squareform"
   ]
  },
  {
   "cell_type": "code",
   "execution_count": 3,
   "id": "0fe92b33-593c-45f6-b532-a7f1e87e0952",
   "metadata": {},
   "outputs": [],
   "source": [
    "Q = np.array(\n",
    "    [\n",
    "        [-10.0,      19.7365809,  19.7365809,  5.42015853, 5.42015853],\n",
    "        [19.7365809, -10.0,       20.67626392, 0.17675796, 0.85604541],\n",
    "        [19.7365809, 20.67626392, -10.0,       0.85604541, 0.17675796],\n",
    "        [5.42015853, 0.17675796,  0.85604541,  -10.0,      0.32306662],\n",
    "        [5.42015853, 0.85604541,  0.17675796,  0.32306662, -10.0     ],\n",
    "    ]\n",
    ")"
   ]
  },
  {
   "cell_type": "code",
   "execution_count": 4,
   "id": "ea4ef6ea-a5e3-4e7c-a792-3f30a112a0eb",
   "metadata": {},
   "outputs": [
    {
     "name": "stdout",
     "output_type": "stream",
     "text": [
      "[('01011', -27.288260020000003), ('00111', -27.288260019999996), ('00101', -19.64648408)]\n"
     ]
    }
   ],
   "source": [
    "# Classical Brute Force\n",
    "\n",
    "bitstrings = [np.binary_repr(i, len(Q)) for i in range(len(Q) ** 2)]\n",
    "costs = []\n",
    "for (\n",
    "    b\n",
    ") in bitstrings:  # this takes exponential time with the dimension of the QUBO\n",
    "    z = np.array(list(b), dtype=int)\n",
    "    cost = z.T @ Q @ z\n",
    "    costs.append(cost)\n",
    "zipped = zip(bitstrings, costs)\n",
    "sort_zipped = sorted(zipped, key=lambda x: x[1])\n",
    "print(sort_zipped[:3])"
   ]
  },
  {
   "cell_type": "code",
   "execution_count": null,
   "id": "4be445e8-2794-4f8c-9d52-20db7a72e9e4",
   "metadata": {},
   "outputs": [],
   "source": []
  }
 ],
 "metadata": {
  "kernelspec": {
   "display_name": "Python 3 (ipykernel)",
   "language": "python",
   "name": "python3"
  },
  "language_info": {
   "codemirror_mode": {
    "name": "ipython",
    "version": 3
   },
   "file_extension": ".py",
   "mimetype": "text/x-python",
   "name": "python",
   "nbconvert_exporter": "python",
   "pygments_lexer": "ipython3",
   "version": "3.8.10"
  }
 },
 "nbformat": 4,
 "nbformat_minor": 5
}
