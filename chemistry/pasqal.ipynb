{
 "cells": [
  {
   "cell_type": "markdown",
   "id": "a7c6ca85-5510-47d8-a5d4-f07f39865ba2",
   "metadata": {
    "tags": []
   },
   "source": [
    "### 1) Load Data"
   ]
  },
  {
   "cell_type": "code",
   "execution_count": 1,
   "id": "dcc7724d-79d4-4020-bf76-41af89079679",
   "metadata": {},
   "outputs": [],
   "source": [
    "# https://github.com/pasqal-io/Pulser/blob/develop/tutorials/applications/QAOA%20and%20QAA%20to%20solve%20a%20QUBO%20problem.ipynb"
   ]
  },
  {
   "cell_type": "code",
   "execution_count": 2,
   "id": "61ea1181-68a5-4df2-ae2f-28fbe5bbdca5",
   "metadata": {},
   "outputs": [],
   "source": [
    "import numpy as np\n",
    "import matplotlib.pyplot as plt\n",
    "\n",
    "from pulser import Pulse\n",
    "from pulser import Sequence\n",
    "from pulser import Register\n",
    "\n",
    "from pulser.devices import Chadoq2\n",
    "from pulser.waveforms import InterpolatedWaveform\n",
    "\n",
    "from pulser_simulation import Simulation\n",
    "\n",
    "from scipy.optimize import minimize\n",
    "from scipy.spatial.distance import pdist\n",
    "from scipy.spatial.distance import squareform\n",
    "\n",
    "plt.style.use('dark_background')"
   ]
  },
  {
   "cell_type": "code",
   "execution_count": 3,
   "id": "0fe92b33-593c-45f6-b532-a7f1e87e0952",
   "metadata": {},
   "outputs": [],
   "source": [
    "# Tutorial QUBO Matrix\n",
    "\n",
    "coupling_matrix = np.array(\n",
    "    [\n",
    "        [-10.0,      19.7365809,  19.7365809,  5.42015853, 5.42015853],\n",
    "        [19.7365809, -10.0,       20.67626392, 0.17675796, 0.85604541],\n",
    "        [19.7365809, 20.67626392, -10.0,       0.85604541, 0.17675796],\n",
    "        [5.42015853, 0.17675796,  0.85604541,  -10.0,      0.32306662],\n",
    "        [5.42015853, 0.85604541,  0.17675796,  0.32306662, -10.0     ],\n",
    "    ]\n",
    ")"
   ]
  },
  {
   "cell_type": "code",
   "execution_count": 4,
   "id": "30b6f451-cc13-4bd3-b1ec-84c983331454",
   "metadata": {},
   "outputs": [],
   "source": [
    "# # Load Peptide QUBO\n",
    "\n",
    "# QUBO_SIZE_LIMIT = 10\n",
    "# QUBO_SCALING_FACTOR = 1000\n",
    "\n",
    "# loaded_qubo = np.load('qubo_peptide.npy')\n",
    "\n",
    "# coupling_matrix = loaded_qubo[:QUBO_SIZE_LIMIT, \n",
    "#                               :QUBO_SIZE_LIMIT] * QUBO_SCALING_FACTOR"
   ]
  },
  {
   "cell_type": "code",
   "execution_count": 4,
   "id": "a1e06109-fd8d-46b6-b26b-518ff88372ef",
   "metadata": {},
   "outputs": [
    {
     "data": {
      "text/plain": [
       "((5, 5), 96.75683228, 3.8702732911999997)"
      ]
     },
     "execution_count": 4,
     "metadata": {},
     "output_type": "execute_result"
    }
   ],
   "source": [
    "TICK_COUNT = 5\n",
    "\n",
    "np.random.seed(20)\n",
    "\n",
    "coupling_matrix.shape, coupling_matrix.sum(), coupling_matrix.mean()"
   ]
  },
  {
   "cell_type": "markdown",
   "id": "348bc6fd-97d1-4640-9eaf-d3f1ed046c0d",
   "metadata": {
    "tags": []
   },
   "source": [
    "### 2) Embed to Atomic Register"
   ]
  },
  {
   "cell_type": "code",
   "execution_count": 53,
   "id": "4be445e8-2794-4f8c-9d52-20db7a72e9e4",
   "metadata": {},
   "outputs": [],
   "source": [
    "def get_embedding_loss(coordinate_vector, coupling_matrix, shape):  \n",
    "    \n",
    "    coordinates = np.reshape(coordinate_vector, shape)\n",
    "    \n",
    "    pairwise_distances = pdist(coordinates)\n",
    "    \n",
    "    interaction_matrix = squareform(Chadoq2.interaction_coeff /  pairwise_distances ** 6)\n",
    "    \n",
    "    root_mean_square_error = np.linalg.norm(interaction_matrix - coupling_matrix)\n",
    "    \n",
    "    return root_mean_square_error"
   ]
  },
  {
   "cell_type": "code",
   "execution_count": 54,
   "id": "94a9ac31-e129-488b-806c-2a72e02e315f",
   "metadata": {},
   "outputs": [
    {
     "data": {
      "image/png": "[encoded data removed]",
      "text/plain": [
       "<Figure size 238.566x238.566 with 1 Axes>"
      ]
     },
     "metadata": {
      "needs_background": "dark"
     },
     "output_type": "display_data"
    }
   ],
   "source": [
    "# Initial Coordinates\n",
    "\n",
    "qubits_count = len(coupling_matrix)\n",
    "\n",
    "coordinates_shape = (qubits_count, 2)\n",
    "\n",
    "initial_coordinates = np.random.random(coordinates_shape)\n",
    "\n",
    "coordinate_vector = initial_coordinates.flatten()\n",
    "\n",
    "qubits_dict = dict(enumerate(initial_coordinates))\n",
    "\n",
    "root_mean_square_errors = []    \n",
    "\n",
    "atomic_register = Register(qubits_dict)\n",
    "\n",
    "atomic_register.draw(\n",
    "    blockade_radius=Chadoq2.rydberg_blockade_radius(1),\n",
    "    draw_graph=False,\n",
    "    draw_half_radius=True,\n",
    ")"
   ]
  },
  {
   "cell_type": "code",
   "execution_count": 55,
   "id": "88bdbcd0-e31d-46cd-9b5f-af60ba0832f7",
   "metadata": {},
   "outputs": [
    {
     "data": {
      "text/plain": [
       "3091262006507.55"
      ]
     },
     "execution_count": 55,
     "metadata": {},
     "output_type": "execute_result"
    }
   ],
   "source": [
    "initial_root_mean_square_error = get_embedding_loss(coordinate_vector, coupling_matrix, coordinates_shape)\n",
    "\n",
    "initial_root_mean_square_error"
   ]
  },
  {
   "cell_type": "code",
   "execution_count": 56,
   "id": "4c6099ed-639c-4e9b-aa1b-8d11604f42d7",
   "metadata": {},
   "outputs": [],
   "source": [
    "# Run Optimization Iteration\n",
    "\n",
    "ITERATIONS_COUNT = 1\n",
    "MINIMIZE_ITERATIONS = 10000\n",
    "COORDINATES_TOLERANCE = 1e-6\n",
    "\n",
    "\n",
    "for iteration in range(ITERATIONS_COUNT):\n",
    "    \n",
    "    # print(\"iteration:\", iteration)\n",
    "\n",
    "    optimal_coordinates_result = minimize(\n",
    "        fun=get_embedding_loss,\n",
    "        x0=coordinate_vector,\n",
    "        args=(coupling_matrix, coordinates_shape),\n",
    "        method=\"Nelder-Mead\",\n",
    "        tol=COORDINATES_TOLERANCE,\n",
    "        options={\"maxiter\": MINIMIZE_ITERATIONS, \"maxfev\": None},\n",
    "    )\n",
    "\n",
    "    coordinate_vector = optimal_coordinates_result.x\n",
    "\n",
    "    root_mean_square_error = get_embedding_loss(coordinate_vector, coupling_matrix, coordinates_shape)\n",
    "\n",
    "    root_mean_square_errors.append(root_mean_square_error)    \n",
    "\n",
    "optimal_coordinates = np.reshape(coordinate_vector, coordinates_shape)"
   ]
  },
  {
   "cell_type": "code",
   "execution_count": 57,
   "id": "e558829c-4283-4806-9324-f7967149b357",
   "metadata": {},
   "outputs": [
    {
     "data": {
      "text/plain": [
       "1"
      ]
     },
     "execution_count": 57,
     "metadata": {},
     "output_type": "execute_result"
    }
   ],
   "source": [
    "len(root_mean_square_errors)"
   ]
  },
  {
   "cell_type": "code",
   "execution_count": 58,
   "id": "8ecd1de7-d5ff-489b-8003-987b08529930",
   "metadata": {},
   "outputs": [
    {
     "data": {
      "text/plain": [
       "[23.637310741161148]"
      ]
     },
     "execution_count": 58,
     "metadata": {},
     "output_type": "execute_result"
    }
   ],
   "source": [
    "root_mean_square_errors"
   ]
  },
  {
   "cell_type": "code",
   "execution_count": 59,
   "id": "9896736b-99e5-477b-abd6-b0359dc8eda7",
   "metadata": {},
   "outputs": [
    {
     "data": {
      "image/png": "[encoded data removed]",
      "text/plain": [
       "<Figure size 432x288 with 1 Axes>"
      ]
     },
     "metadata": {
      "needs_background": "dark"
     },
     "output_type": "display_data"
    }
   ],
   "source": [
    "plt.plot(root_mean_square_errors);"
   ]
  },
  {
   "cell_type": "code",
   "execution_count": 60,
   "id": "1794629d-331e-43eb-833b-9d72f535fe0b",
   "metadata": {},
   "outputs": [],
   "source": [
    "# optimal_coordinates = np.load('optimal_coordinates.npy')"
   ]
  },
  {
   "cell_type": "code",
   "execution_count": 61,
   "id": "6dab9449-396b-44bb-aac8-24f2eed7b1ae",
   "metadata": {},
   "outputs": [
    {
     "data": {
      "image/png": "[encoded data removed]",
      "text/plain": [
       "<Figure size 285.93x388.029 with 1 Axes>"
      ]
     },
     "metadata": {
      "needs_background": "dark"
     },
     "output_type": "display_data"
    }
   ],
   "source": [
    "# Optimized Coordinates\n",
    "\n",
    "qubits_dict = dict(enumerate(optimal_coordinates))\n",
    "\n",
    "atomic_register = Register(qubits_dict)\n",
    "\n",
    "atomic_register.draw(\n",
    "    blockade_radius=Chadoq2.rydberg_blockade_radius(1),\n",
    "    draw_graph=False,\n",
    "    draw_half_radius=True,\n",
    ")"
   ]
  },
  {
   "cell_type": "code",
   "execution_count": 62,
   "id": "013af9cd-6e2e-4974-b5d5-a666aa35f398",
   "metadata": {},
   "outputs": [],
   "source": [
    "# np.save('optimal_coordinates.npy', optimal_coordinates)"
   ]
  },
  {
   "cell_type": "code",
   "execution_count": 63,
   "id": "658cc601-9f89-4a9e-b35f-e8071f2cdcb1",
   "metadata": {},
   "outputs": [
    {
     "name": "stdout",
     "output_type": "stream",
     "text": [
      "Selected 5 qubits, 100%\n"
     ]
    }
   ],
   "source": [
    "# Qubit Selection with radial mask\n",
    "\n",
    "MAX_RADIAL_DISTANCE = 50\n",
    "\n",
    "\n",
    "is_qubit_selected = np.linalg.norm(optimal_coordinates, axis=1) <= MAX_RADIAL_DISTANCE\n",
    "\n",
    "selected_qubits = np.argwhere(is_qubit_selected).squeeze()\n",
    "\n",
    "selected_qubits_count = len(selected_qubits)\n",
    "\n",
    "selected_percent = selected_qubits_count / qubits_count * 100\n",
    "\n",
    "selected_qubits_dict = {qubit: coordinates for qubit, coordinates in qubits_dict.items()\n",
    "                        if qubit in selected_qubits}\n",
    "\n",
    "selected_coupling_matrix = coupling_matrix[selected_qubits][:, selected_qubits]\n",
    "\n",
    "print(f\"Selected {selected_qubits_count} qubits, {selected_percent:.0f}%\")"
   ]
  },
  {
   "cell_type": "code",
   "execution_count": 64,
   "id": "3cb44903-bc5d-4aef-a056-f4ffeb50ba9c",
   "metadata": {},
   "outputs": [
    {
     "data": {
      "image/png": "[encoded data removed]",
      "text/plain": [
       "<Figure size 285.93x388.029 with 1 Axes>"
      ]
     },
     "metadata": {
      "needs_background": "dark"
     },
     "output_type": "display_data"
    }
   ],
   "source": [
    "atomic_register = Register(selected_qubits_dict)\n",
    "\n",
    "atomic_register.draw(\n",
    "    blockade_radius=Chadoq2.rydberg_blockade_radius(1),\n",
    "    draw_graph=False,\n",
    "    draw_half_radius=True,\n",
    ")"
   ]
  },
  {
   "cell_type": "markdown",
   "id": "a8dd3756-eb12-4a2a-9cb6-0746f6c116cc",
   "metadata": {},
   "source": [
    "$$ H= \\sum_{i=1}^N \\frac{\\hbar\\Omega}{2} \\sigma_i^x - \\sum_{i=1}^N \\frac{\\hbar \\delta}{2} \\sigma_i^z+\\sum_{j} ... $$"
   ]
  },
  {
   "cell_type": "markdown",
   "id": "3d6a6169-6132-4392-945e-f76865ff8f84",
   "metadata": {
    "tags": []
   },
   "source": [
    "### 3) Quantum Adiabatic Algorithm (QAA)"
   ]
  },
  {
   "cell_type": "code",
   "execution_count": 65,
   "id": "35f8fc46-1185-4d45-a019-88755a01b096",
   "metadata": {},
   "outputs": [
    {
     "data": {
      "text/plain": [
       "3.13810197"
      ]
     },
     "execution_count": 65,
     "metadata": {},
     "output_type": "execute_result"
    }
   ],
   "source": [
    "# Modulation Parameters\n",
    "\n",
    "DELTA_0 = -5\n",
    "DELTA_F = -DELTA_0\n",
    "\n",
    "DURATION = 4000\n",
    "# DURATION = 10000\n",
    "# DURATION = 20000\n",
    "\n",
    "OMEGA_AMPLITUDE_LIMIT = 15\n",
    "\n",
    "\n",
    "positive_coupling_coefficients = selected_coupling_matrix[selected_coupling_matrix > 0].flatten()\n",
    "\n",
    "omega_amplitude = np.median(positive_coupling_coefficients)\n",
    "\n",
    "omega_amplitude = min(OMEGA_AMPLITUDE_LIMIT, omega_amplitude)\n",
    "\n",
    "omega_amplitude"
   ]
  },
  {
   "cell_type": "code",
   "execution_count": 66,
   "id": "bc76e843-6fef-4b6e-b6fa-0e7a96d9cd69",
   "metadata": {},
   "outputs": [],
   "source": [
    "# Modulating Waveforms\n",
    "\n",
    "amplitude_modulating_waveform = InterpolatedWaveform(DURATION, [1e-9, omega_amplitude, 1e-9])\n",
    "\n",
    "frequency_modulating_waveform = InterpolatedWaveform(DURATION, [DELTA_0, 0, DELTA_F])"
   ]
  },
  {
   "cell_type": "code",
   "execution_count": 67,
   "id": "ec54d5e7-66c1-4fe6-90c3-a8abd680105d",
   "metadata": {},
   "outputs": [],
   "source": [
    "# Pulse\n",
    "\n",
    "adiabatic_pulse = Pulse(\n",
    "    amplitude=amplitude_modulating_waveform,\n",
    "    detuning=frequency_modulating_waveform,\n",
    "    phase=0,\n",
    ")"
   ]
  },
  {
   "cell_type": "code",
   "execution_count": 68,
   "id": "51d2e003-5859-4346-8479-c0c77147c81e",
   "metadata": {},
   "outputs": [
    {
     "data": {
      "image/png": "[encoded data removed]",
      "text/plain": [
       "<Figure size 1440x288 with 3 Axes>"
      ]
     },
     "metadata": {
      "needs_background": "dark"
     },
     "output_type": "display_data"
    }
   ],
   "source": [
    "sequence = Sequence(atomic_register, Chadoq2)\n",
    "sequence.declare_channel(\"ising\", \"rydberg_global\")\n",
    "sequence.add(adiabatic_pulse, \"ising\")\n",
    "sequence.draw()"
   ]
  },
  {
   "cell_type": "code",
   "execution_count": 69,
   "id": "93e29a58-9db7-44f1-8915-a3ff6234b351",
   "metadata": {
    "tags": []
   },
   "outputs": [
    {
     "name": "stdout",
     "output_type": "stream",
     "text": [
      "10.0%. Run time:   0.07s. Est. time left: 00:00:00:00\n",
      "20.0%. Run time:   0.18s. Est. time left: 00:00:00:00\n",
      "30.0%. Run time:   0.31s. Est. time left: 00:00:00:00\n",
      "40.0%. Run time:   0.42s. Est. time left: 00:00:00:00\n",
      "50.0%. Run time:   0.54s. Est. time left: 00:00:00:00\n",
      "60.0%. Run time:   0.66s. Est. time left: 00:00:00:00\n",
      "70.0%. Run time:   0.76s. Est. time left: 00:00:00:00\n",
      "80.0%. Run time:   0.86s. Est. time left: 00:00:00:00\n",
      "90.0%. Run time:   0.97s. Est. time left: 00:00:00:00\n",
      "Total run time:   1.07s\n"
     ]
    }
   ],
   "source": [
    "# Run Simulation\n",
    "\n",
    "SAMPLES_COUNT = 10000\n",
    "\n",
    "\n",
    "simulation = Simulation(sequence=sequence)\n",
    "\n",
    "results = simulation.run(progress_bar=True)\n",
    "\n",
    "final_statevector = results.get_final_state()\n",
    "\n",
    "counts = results.sample_final_state(N_samples=SAMPLES_COUNT)\n",
    "\n",
    "# counts"
   ]
  },
  {
   "cell_type": "code",
   "execution_count": 70,
   "id": "804d807a-6640-46de-a8aa-3ff7ca1a04ea",
   "metadata": {},
   "outputs": [],
   "source": [
    "def set_tick_count(tick_count):\n",
    "\n",
    "    xtick_labels = plt.gca().get_xticklabels()\n",
    "\n",
    "    tick_period = len(xtick_labels) // tick_count\n",
    "\n",
    "    for label_index, label in enumerate(xtick_labels):\n",
    "\n",
    "        if label_index % tick_period:\n",
    "\n",
    "            label.set_visible(False)"
   ]
  },
  {
   "cell_type": "code",
   "execution_count": 71,
   "id": "237cfa9d-43cc-4348-a4b6-492c8410954f",
   "metadata": {},
   "outputs": [
    {
     "data": {
      "image/png": "[encoded data removed]",
      "text/plain": [
       "<Figure size 864x432 with 1 Axes>"
      ]
     },
     "metadata": {
      "needs_background": "dark"
     },
     "output_type": "display_data"
    }
   ],
   "source": [
    "# Plot Histogram\n",
    "\n",
    "TICK_COUNT = 2\n",
    "\n",
    "descending_counts = dict(sorted(counts.items(), key=lambda item: -item[1]))   \n",
    "\n",
    "plt.figure(figsize=(12, 6))\n",
    "    \n",
    "plt.bar(descending_counts.keys(), \n",
    "        descending_counts.values(), width=0.5, color=\"g\")\n",
    "\n",
    "set_tick_count(TICK_COUNT)\n",
    "\n",
    "plt.xticks(rotation=\"vertical\")\n",
    "\n",
    "plt.title(\"Simulated counts\")\n",
    "plt.xlabel(\"State\")\n",
    "plt.ylabel(\"Count\")\n",
    "plt.show()"
   ]
  },
  {
   "cell_type": "code",
   "execution_count": null,
   "id": "0f31f5a5-c075-4fe0-ad5c-72c757001ca9",
   "metadata": {},
   "outputs": [],
   "source": []
  },
  {
   "cell_type": "markdown",
   "id": "9a51b54d-c619-4958-8e2d-914be8330e63",
   "metadata": {
    "tags": []
   },
   "source": [
    "### 4) Top Samples and QUBO Energies"
   ]
  },
  {
   "cell_type": "code",
   "execution_count": 72,
   "id": "877a87d9-9d84-4ee5-a3e4-754c021c7931",
   "metadata": {},
   "outputs": [
    {
     "data": {
      "text/plain": [
       "(13, 5)"
      ]
     },
     "execution_count": 72,
     "metadata": {},
     "output_type": "execute_result"
    }
   ],
   "source": [
    "# Selected States\n",
    "\n",
    "selected_states = np.array(list(descending_counts.keys()))\n",
    "\n",
    "selected_state_strings = np.frombuffer(selected_states,'<U1')\n",
    "\n",
    "selected_states_vector = selected_state_strings.astype('uint8')\n",
    "\n",
    "selected_state_bits = selected_states_vector.reshape(-1, selected_qubits_count)\n",
    "\n",
    "selected_state_bits.shape"
   ]
  },
  {
   "cell_type": "code",
   "execution_count": 73,
   "id": "f2ea6e96-b923-434b-8828-addcfa810515",
   "metadata": {},
   "outputs": [
    {
     "data": {
      "text/plain": [
       "(32, 5)"
      ]
     },
     "execution_count": 73,
     "metadata": {},
     "output_type": "execute_result"
    }
   ],
   "source": [
    "# All States\n",
    "\n",
    "state_indices = np.arange(2 ** selected_qubits_count)\n",
    "\n",
    "binarize = np.vectorize(np.binary_repr)\n",
    "\n",
    "state_strings = binarize(state_indices, selected_qubits_count)\n",
    "\n",
    "state_indices_vector = state_indices.reshape(-1, 1).astype(np.uint8)\n",
    "\n",
    "state_little_bits = np.unpackbits(state_indices_vector, \n",
    "                                  count=selected_qubits_count, \n",
    "                                  bitorder='little',\n",
    "                                  axis=1)\n",
    "\n",
    "all_state_bits = np.flip(state_little_bits, axis=1)\n",
    "\n",
    "all_state_bits.shape"
   ]
  },
  {
   "cell_type": "code",
   "execution_count": 74,
   "id": "9925fc2a-ab4a-4f63-aa11-18e409fd5dac",
   "metadata": {},
   "outputs": [
    {
     "data": {
      "text/plain": [
       "(13,)"
      ]
     },
     "execution_count": 74,
     "metadata": {},
     "output_type": "execute_result"
    }
   ],
   "source": [
    "energies = np.diag(selected_state_bits @ selected_coupling_matrix @ selected_state_bits.T)\n",
    "\n",
    "energies_dict = dict(zip(selected_states, energies))\n",
    "\n",
    "energies.shape"
   ]
  },
  {
   "cell_type": "code",
   "execution_count": 75,
   "id": "eadc4847-ffbc-49cc-94af-e3438009de61",
   "metadata": {},
   "outputs": [
    {
     "data": {
      "image/png": "[encoded data removed]",
      "text/plain": [
       "<Figure size 864x432 with 1 Axes>"
      ]
     },
     "metadata": {
      "needs_background": "dark"
     },
     "output_type": "display_data"
    }
   ],
   "source": [
    "# Plot Counts\n",
    "\n",
    "plt.figure(figsize=(12, 6))\n",
    "    \n",
    "plt.bar(descending_counts.keys(), \n",
    "        descending_counts.values(), width=0.5, color=\"g\") \n",
    "\n",
    "set_tick_count(TICK_COUNT)\n",
    "\n",
    "plt.xticks(rotation=\"vertical\")\n",
    "\n",
    "plt.title(\"Simulated counts\")\n",
    "plt.xlabel(\"State\")\n",
    "plt.ylabel(\"Count\")\n",
    "plt.show()"
   ]
  },
  {
   "cell_type": "code",
   "execution_count": 76,
   "id": "6680f47b-bd92-4104-ba0f-879887c99723",
   "metadata": {},
   "outputs": [
    {
     "data": {
      "image/png": "[encoded data removed]",
      "text/plain": [
       "<Figure size 864x432 with 1 Axes>"
      ]
     },
     "metadata": {
      "needs_background": "dark"
     },
     "output_type": "display_data"
    }
   ],
   "source": [
    "# Plot QUBO Energies\n",
    "\n",
    "plt.figure(figsize=(12, 6))\n",
    "\n",
    "plt.bar(energies_dict.keys(), \n",
    "        energies_dict.values(), width=0.5, color=\"r\")\n",
    "\n",
    "set_tick_count(TICK_COUNT)\n",
    "\n",
    "plt.xticks(rotation=\"vertical\")\n",
    "\n",
    "plt.title(\"QUBO energies\")\n",
    "plt.xlabel(\"State\")\n",
    "plt.ylabel(\"Energy\")\n",
    "plt.show()"
   ]
  },
  {
   "cell_type": "code",
   "execution_count": null,
   "id": "067991b2-5370-431c-a3b8-7e7012e84fa2",
   "metadata": {},
   "outputs": [],
   "source": []
  },
  {
   "cell_type": "markdown",
   "id": "720b1550-792a-451e-97ab-7e8c094e7bcd",
   "metadata": {
    "tags": []
   },
   "source": [
    "### 5) QUBO Energy per Pulse Duration"
   ]
  },
  {
   "cell_type": "code",
   "execution_count": 36,
   "id": "419b5ff6-7129-4eea-b890-a99f5a88e084",
   "metadata": {},
   "outputs": [],
   "source": [
    "def get_state_energy(state, coupling_matrix):\n",
    "    \n",
    "    bits = np.array(list(state), dtype=int)\n",
    "    \n",
    "    energy = bits.T @ coupling_matrix @ bits\n",
    "    \n",
    "    return energy\n",
    "\n",
    "\n",
    "def get_counts_energy(counts, coupling_matrix):\n",
    "    \n",
    "    energy_sum = sum(appearences_count * get_state_energy(state, coupling_matrix) \n",
    "                     for state, appearences_count in counts.items())\n",
    "    \n",
    "    samples_count = sum(counts.values())\n",
    "    \n",
    "    normalized_energy = energy_sum / samples_count\n",
    "    \n",
    "    return normalized_energy"
   ]
  },
  {
   "cell_type": "code",
   "execution_count": 40,
   "id": "59a3c8cf-da0a-4f8b-9bdd-27c954f1d44e",
   "metadata": {},
   "outputs": [
    {
     "name": "stdout",
     "output_type": "stream",
     "text": [
      "durations: [ 1000.  2000.  3000.  4000.  5000.  6000.  7000.  8000.  9000. 10000.]\n"
     ]
    }
   ],
   "source": [
    "MIN_DURATION = 1000\n",
    "MAX_DURATION = 10000\n",
    "DURATION_STEP = 1000\n",
    "MINIMAL_DURATION_STEP = 4\n",
    "\n",
    "duration_interval = (MAX_DURATION - MIN_DURATION) // DURATION_STEP + 1\n",
    "\n",
    "durations = np.linspace(MIN_DURATION, MAX_DURATION, duration_interval)\n",
    "\n",
    "# durations = durations // MINIMAL_DURATION_STEP * MINIMAL_DURATION_STEP\n",
    "\n",
    "print(\"durations:\", durations)"
   ]
  },
  {
   "cell_type": "code",
   "execution_count": 41,
   "id": "8b635b1b-54a3-453d-9c74-e44ed84864c5",
   "metadata": {},
   "outputs": [
    {
     "name": "stdout",
     "output_type": "stream",
     "text": [
      "duration: 1000.0\n",
      "duration: 2000.0\n",
      "duration: 3000.0\n",
      "duration: 4000.0\n",
      "duration: 5000.0\n",
      "duration: 6000.0\n",
      "duration: 7000.0\n",
      "duration: 8000.0\n",
      "duration: 9000.0\n",
      "duration: 10000.0\n"
     ]
    }
   ],
   "source": [
    "qubo_energy_sums = []\n",
    "\n",
    "for duration in durations:\n",
    "    \n",
    "    print(\"duration:\", duration)\n",
    "    \n",
    "    sequence = Sequence(atomic_register, Chadoq2)\n",
    "    \n",
    "    sequence.declare_channel(\"ising\", \"rydberg_global\")\n",
    "    \n",
    "    amplitude_modulating_waveform = InterpolatedWaveform(duration, [1e-9, omega_amplitude, 1e-9])\n",
    "    frequency_modulating_waveform = InterpolatedWaveform(duration, [DELTA_0, 0, DELTA_F])\n",
    "        \n",
    "    adiabatic_pulse = Pulse(\n",
    "        amplitude=amplitude_modulating_waveform,\n",
    "        detuning=frequency_modulating_waveform,\n",
    "        phase=0,\n",
    "    )\n",
    "    \n",
    "    sequence.add(adiabatic_pulse, \"ising\")\n",
    "    \n",
    "    simulation = Simulation(sequence)\n",
    "    \n",
    "    results = simulation.run()\n",
    "    \n",
    "    final_state = results.get_final_state()\n",
    "    counts = results.sample_final_state()\n",
    "    \n",
    "    energy_sum = get_counts_energy(counts, selected_coupling_matrix) / 3\n",
    "    \n",
    "    qubo_energy_sums.append(energy_sum)"
   ]
  },
  {
   "cell_type": "code",
   "execution_count": 47,
   "id": "da313d94-55de-41b0-a79b-49beda4196dc",
   "metadata": {},
   "outputs": [
    {
     "data": {
      "image/png": "[encoded data removed]",
      "text/plain": [
       "<Figure size 864x432 with 1 Axes>"
      ]
     },
     "metadata": {
      "needs_background": "dark"
     },
     "output_type": "display_data"
    }
   ],
   "source": [
    "plt.figure(figsize=(12, 6))\n",
    "plt.plot(durations, np.array(qubo_energy_sums), \"--o\")\n",
    "\n",
    "plt.title(\"QUBO Energy per Pulse duration\")\n",
    "plt.xlabel(\"Pulse duration (µs)\")\n",
    "plt.ylabel(\"Energy\")\n",
    "plt.show()"
   ]
  },
  {
   "cell_type": "code",
   "execution_count": 48,
   "id": "82cc62d8-7b8a-498b-83ea-ee06f4f38319",
   "metadata": {},
   "outputs": [
    {
     "data": {
      "text/plain": [
       "True"
      ]
     },
     "execution_count": 48,
     "metadata": {},
     "output_type": "execute_result"
    }
   ],
   "source": [
    "# Alternative Energies\n",
    "\n",
    "def get_cost_colouring(bitstring, Q):\n",
    "    z = np.array(list(bitstring), dtype=int)\n",
    "    cost = z.T @ Q @ z\n",
    "    return cost\n",
    "\n",
    "\n",
    "energies_alt = np.array([get_cost_colouring(state, selected_coupling_matrix)\n",
    "                         for state in selected_states])\n",
    "\n",
    "np.allclose(energies, energies_alt)"
   ]
  },
  {
   "cell_type": "markdown",
   "id": "a50b2b11-c817-4fac-bcd6-9c69775b6714",
   "metadata": {
    "tags": []
   },
   "source": [
    "### 6) Conclusions"
   ]
  },
  {
   "cell_type": "code",
   "execution_count": null,
   "id": "5814050f-d85f-49d6-a2f8-17a69be8996a",
   "metadata": {},
   "outputs": [],
   "source": [
    "# We have used Quantum Adiabatic Algorithm (QAA) \n",
    "# to sample minimal energy states of imported Peptide QUBO\n",
    "\n",
    "# One-cold Peptide QUBO coupling matrix size is 110 by 110 - requiring 110 qubits to run\n",
    "\n",
    "\n",
    "# Some limitations observed:\n",
    "    \n",
    "    \n",
    "# 1) Qubit counts\n",
    "\n",
    "# 1.1) Simulator limitation - up to 100 qubits\n",
    "\n",
    "# 1.2) Geometric limitation - up to 483 qubits:\n",
    "\n",
    "# Atomic coordinates are limited by circle of 50 mkm radius\n",
    "# Minimum distances between atoms are 4 mkm\n",
    "\n",
    "# 1.3) Embedding - for our example 21 qubits (19% of 110) fit into above 50 mkm radius\n",
    "\n",
    "# Atoms are arranged corresponding to Peptide QUBO coupling - not tightly packed\n",
    "\n",
    "\n",
    "# 2) Execution time\n",
    "\n",
    "# 2.1) Classical simulation time is about 60 seconds for 14 qubits and 4000 ns pulse duration,\n",
    "#      exponentially depending on qubit count\n",
    "\n",
    "# 2.2) Time of embedding QUBO to Atomic register is 20 minutes for 1M iterations of scipy minimise \n",
    "#      with Nelder–Mead method\n",
    "\n",
    "\n",
    "# 3) Resulting Sampled states do not correspond to QUBO minimal energies"
   ]
  },
  {
   "cell_type": "code",
   "execution_count": null,
   "id": "a10790ca-b349-405f-b712-aac1e04d2bbc",
   "metadata": {},
   "outputs": [],
   "source": []
  }
 ],
 "metadata": {
  "kernelspec": {
   "display_name": "Python 3 (ipykernel)",
   "language": "python",
   "name": "python3"
  },
  "language_info": {
   "codemirror_mode": {
    "name": "ipython",
    "version": 3
   },
   "file_extension": ".py",
   "mimetype": "text/x-python",
   "name": "python",
   "nbconvert_exporter": "python",
   "pygments_lexer": "ipython3",
   "version": "3.8.10"
  }
 },
 "nbformat": 4,
 "nbformat_minor": 5
}
