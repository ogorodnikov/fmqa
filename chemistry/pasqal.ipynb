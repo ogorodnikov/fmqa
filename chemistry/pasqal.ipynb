{
 "cells": [
  {
   "cell_type": "markdown",
   "id": "a7c6ca85-5510-47d8-a5d4-f07f39865ba2",
   "metadata": {},
   "source": [
    "### Pasqal QUBO"
   ]
  },
  {
   "cell_type": "code",
   "execution_count": 1,
   "id": "dcc7724d-79d4-4020-bf76-41af89079679",
   "metadata": {},
   "outputs": [],
   "source": [
    "# https://github.com/pasqal-io/Pulser/blob/develop/tutorials/applications/QAOA%20and%20QAA%20to%20solve%20a%20QUBO%20problem.ipynb"
   ]
  },
  {
   "cell_type": "code",
   "execution_count": 2,
   "id": "61ea1181-68a5-4df2-ae2f-28fbe5bbdca5",
   "metadata": {},
   "outputs": [],
   "source": [
    "import numpy as np\n",
    "import matplotlib.pyplot as plt\n",
    "\n",
    "from pulser import Pulse\n",
    "from pulser import Sequence\n",
    "from pulser import Register\n",
    "\n",
    "from pulser.devices import Chadoq2\n",
    "from pulser.waveforms import InterpolatedWaveform\n",
    "\n",
    "from pulser_simulation import Simulation\n",
    "\n",
    "from scipy.optimize import minimize\n",
    "from scipy.spatial.distance import pdist\n",
    "from scipy.spatial.distance import squareform\n",
    "\n",
    "plt.style.use('dark_background')"
   ]
  },
  {
   "cell_type": "code",
   "execution_count": 45,
   "id": "0fe92b33-593c-45f6-b532-a7f1e87e0952",
   "metadata": {},
   "outputs": [],
   "source": [
    "coupling_matrix = np.array(\n",
    "    [\n",
    "        [-10.0,      19.7365809,  19.7365809,  5.42015853, 5.42015853],\n",
    "        [19.7365809, -10.0,       20.67626392, 0.17675796, 0.85604541],\n",
    "        [19.7365809, 20.67626392, -10.0,       0.85604541, 0.17675796],\n",
    "        [5.42015853, 0.17675796,  0.85604541,  -10.0,      0.32306662],\n",
    "        [5.42015853, 0.85604541,  0.17675796,  0.32306662, -10.0     ],\n",
    "    ]\n",
    ")"
   ]
  },
  {
   "cell_type": "code",
   "execution_count": 161,
   "id": "4416a6a7-32e4-497c-87b5-926d9322e25a",
   "metadata": {},
   "outputs": [
    {
     "data": {
      "text/plain": [
       "array(['00000', '00001', '00010', '00011', '00100', '00101', '00110',\n",
       "       '00111', '01000', '01001', '01010', '01011', '01100', '01101',\n",
       "       '01110', '01111', '10000', '10001', '10010', '10011', '10100',\n",
       "       '10101', '10110', '10111', '11000', '11001', '11010', '11011',\n",
       "       '11100', '11101', '11110', '11111'], dtype='<U5')"
      ]
     },
     "execution_count": 161,
     "metadata": {},
     "output_type": "execute_result"
    }
   ],
   "source": [
    "# Classical Brute Force\n",
    "\n",
    "coupling_matrix_size = len(coupling_matrix)\n",
    "\n",
    "state_indices = np.arange(2 ** coupling_matrix_size)\n",
    "\n",
    "binarize = np.vectorize(np.binary_repr)\n",
    "\n",
    "state_strings = binarize(state_indices, coupling_matrix_size)\n",
    "\n",
    "state_strings"
   ]
  },
  {
   "cell_type": "code",
   "execution_count": null,
   "id": "8e3b32e8-d3f7-43ca-9a9a-baa72692a977",
   "metadata": {},
   "outputs": [],
   "source": []
  },
  {
   "cell_type": "code",
   "execution_count": 160,
   "id": "f2ea6e96-b923-434b-8828-addcfa810515",
   "metadata": {},
   "outputs": [
    {
     "data": {
      "text/plain": [
       "array([[0, 0, 0, 0, 0],\n",
       "       [0, 0, 0, 0, 1],\n",
       "       [0, 0, 0, 1, 0],\n",
       "       [0, 0, 0, 1, 1],\n",
       "       [0, 0, 1, 0, 0],\n",
       "       [0, 0, 1, 0, 1],\n",
       "       [0, 0, 1, 1, 0],\n",
       "       [0, 0, 1, 1, 1],\n",
       "       [0, 1, 0, 0, 0],\n",
       "       [0, 1, 0, 0, 1],\n",
       "       [0, 1, 0, 1, 0],\n",
       "       [0, 1, 0, 1, 1],\n",
       "       [0, 1, 1, 0, 0],\n",
       "       [0, 1, 1, 0, 1],\n",
       "       [0, 1, 1, 1, 0],\n",
       "       [0, 1, 1, 1, 1],\n",
       "       [1, 0, 0, 0, 0],\n",
       "       [1, 0, 0, 0, 1],\n",
       "       [1, 0, 0, 1, 0],\n",
       "       [1, 0, 0, 1, 1],\n",
       "       [1, 0, 1, 0, 0],\n",
       "       [1, 0, 1, 0, 1],\n",
       "       [1, 0, 1, 1, 0],\n",
       "       [1, 0, 1, 1, 1],\n",
       "       [1, 1, 0, 0, 0],\n",
       "       [1, 1, 0, 0, 1],\n",
       "       [1, 1, 0, 1, 0],\n",
       "       [1, 1, 0, 1, 1],\n",
       "       [1, 1, 1, 0, 0],\n",
       "       [1, 1, 1, 0, 1],\n",
       "       [1, 1, 1, 1, 0],\n",
       "       [1, 1, 1, 1, 1]], dtype=uint8)"
      ]
     },
     "execution_count": 160,
     "metadata": {},
     "output_type": "execute_result"
    }
   ],
   "source": [
    "state_indices_vector = state_indices.reshape(-1, 1).astype(np.uint8)\n",
    "\n",
    "state_little_bits = np.unpackbits(state_indices_vector, \n",
    "                                  count=coupling_matrix_size, \n",
    "                                  bitorder='little',\n",
    "                                  axis=1)\n",
    "\n",
    "state_bits = np.flip(state_little_bits, axis=1)\n",
    "\n",
    "state_bits"
   ]
  },
  {
   "cell_type": "code",
   "execution_count": 316,
   "id": "9925fc2a-ab4a-4f63-aa11-18e409fd5dac",
   "metadata": {},
   "outputs": [
    {
     "data": {
      "text/plain": [
       "[0.0,\n",
       " -10.0,\n",
       " -10.0,\n",
       " -19.35386676,\n",
       " -10.0,\n",
       " -19.64648408,\n",
       " -18.28790918,\n",
       " -27.288260019999996,\n",
       " -10.0,\n",
       " -18.28790918,\n",
       " -19.64648408,\n",
       " -27.288260020000003,\n",
       " 21.35252784,\n",
       " 13.41813458,\n",
       " 13.41813458,\n",
       " 6.129874560000001,\n",
       " -10.0,\n",
       " -9.15968294,\n",
       " -9.15968294,\n",
       " -7.67323264,\n",
       " 19.4731618,\n",
       " 20.666994779999996,\n",
       " 22.025569680000004,\n",
       " 23.8655359,\n",
       " 19.4731618,\n",
       " 22.025569680000004,\n",
       " 20.666994779999996,\n",
       " 23.8655359,\n",
       " 90.29885144,\n",
       " 93.20477524000002,\n",
       " 93.20477524000002,\n",
       " 96.75683228]"
      ]
     },
     "execution_count": 316,
     "metadata": {},
     "output_type": "execute_result"
    }
   ],
   "source": [
    "costs = np.diag(state_bits @ Q @ state_bits.T)\n"
   ]
  },
  {
   "cell_type": "code",
   "execution_count": 309,
   "id": "b5e7e0bf-5ec4-4fea-a92f-bd0e84bcd94d",
   "metadata": {},
   "outputs": [
    {
     "data": {
      "text/plain": [
       "[0.0,\n",
       " -10.0,\n",
       " -10.0,\n",
       " -19.35386676,\n",
       " -10.0,\n",
       " -19.64648408,\n",
       " -18.28790918,\n",
       " -27.288260019999996,\n",
       " -10.0,\n",
       " -18.28790918,\n",
       " -19.64648408,\n",
       " -27.288260020000003,\n",
       " 21.35252784,\n",
       " 13.41813458,\n",
       " 13.41813458,\n",
       " 6.129874560000001,\n",
       " -10.0,\n",
       " -9.15968294,\n",
       " -9.15968294,\n",
       " -7.67323264,\n",
       " 19.4731618,\n",
       " 20.666994779999996,\n",
       " 22.025569680000004,\n",
       " 23.8655359,\n",
       " 19.4731618,\n",
       " 22.025569680000004,\n",
       " 20.666994780000003,\n",
       " 23.865535900000005,\n",
       " 90.29885144,\n",
       " 93.20477524000002,\n",
       " 93.20477524,\n",
       " 96.75683228]"
      ]
     },
     "execution_count": 309,
     "metadata": {},
     "output_type": "execute_result"
    }
   ],
   "source": [
    "states = [np.binary_repr(i, len(Q)) for i in range(2 ** len(Q))]\n",
    "\n",
    "costs = []\n",
    "\n",
    "for state in states:\n",
    "    \n",
    "    z = np.array(list(state), dtype=int)\n",
    "    \n",
    "    cost = z.T @ Q @ z\n",
    "    \n",
    "    costs.append(cost)\n",
    "    \n",
    "costs"
   ]
  },
  {
   "cell_type": "code",
   "execution_count": 64,
   "id": "d5ca9a13-4dca-4791-bc0e-302eda302506",
   "metadata": {},
   "outputs": [
    {
     "name": "stdout",
     "output_type": "stream",
     "text": [
      "[('01011', -27.288260020000003), ('00111', -27.288260019999996), ('00101', -19.64648408)]\n"
     ]
    }
   ],
   "source": [
    "zipped = zip(states, costs)\n",
    "sort_zipped = sorted(zipped, key=lambda x: x[1])\n",
    "print(sort_zipped[:3])"
   ]
  },
  {
   "cell_type": "code",
   "execution_count": 152,
   "id": "faeec2eb-debd-4e38-9ad7-857991659572",
   "metadata": {},
   "outputs": [
    {
     "name": "stdout",
     "output_type": "stream",
     "text": [
      "[('01011', -27.288260020000003), ('00111', -27.288260019999996), ('00101', -19.64648408)]\n"
     ]
    }
   ],
   "source": [
    "bitstrings = [np.binary_repr(i, len(Q)) for i in range(2 ** len(Q))]\n",
    "costs = []\n",
    "for (\n",
    "    b\n",
    ") in bitstrings:  # this takes exponential time with the dimension of the QUBO\n",
    "    z = np.array(list(b), dtype=int)\n",
    "    cost = z.T @ Q @ z\n",
    "    costs.append(cost)\n",
    "zipped = zip(bitstrings, costs)\n",
    "sort_zipped = sorted(zipped, key=lambda x: x[1])\n",
    "print(sort_zipped[:3])"
   ]
  },
  {
   "cell_type": "code",
   "execution_count": 5,
   "id": "4be445e8-2794-4f8c-9d52-20db7a72e9e4",
   "metadata": {},
   "outputs": [],
   "source": [
    "def evaluate_mapping(new_coords, *args):\n",
    "    \n",
    "    '''Cost function to minimize. Ideally, the pairwise distances are conserved'''\n",
    "    \n",
    "    Q, shape = args\n",
    "    new_coords = np.reshape(new_coords, shape)\n",
    "    new_Q = squareform(Chadoq2.interaction_coeff / pdist(new_coords) ** 6)\n",
    "    \n",
    "    return np.linalg.norm(new_Q - Q)"
   ]
  },
  {
   "cell_type": "code",
   "execution_count": 6,
   "id": "3238da60-20d8-43a3-bd46-1661044c9a0d",
   "metadata": {},
   "outputs": [],
   "source": [
    "shape = (len(Q), 2)\n",
    "costs = []\n",
    "np.random.seed(0)\n",
    "x0 = np.random.random(shape).flatten()\n",
    "res = minimize(\n",
    "    evaluate_mapping,\n",
    "    x0,\n",
    "    args=(Q, shape),\n",
    "    method=\"Nelder-Mead\",\n",
    "    tol=1e-6,\n",
    "    options={\"maxiter\": 200000, \"maxfev\": None},\n",
    ")\n",
    "coords = np.reshape(res.x, (len(Q), 2))"
   ]
  },
  {
   "cell_type": "code",
   "execution_count": 7,
   "id": "24a6d471-137f-4e7b-9cbf-a477e9a6c30c",
   "metadata": {},
   "outputs": [
    {
     "data": {
      "image/png": "[encoded data removed]",
      "text/plain": [
       "<Figure size 305.163x311.46 with 1 Axes>"
      ]
     },
     "metadata": {
      "needs_background": "dark"
     },
     "output_type": "display_data"
    }
   ],
   "source": [
    "qubits = dict(enumerate(coords))\n",
    "reg = Register(qubits)\n",
    "reg.draw(\n",
    "    blockade_radius=Chadoq2.rydberg_blockade_radius(1.0),\n",
    "    draw_graph=False,\n",
    "    draw_half_radius=True,\n",
    ")"
   ]
  },
  {
   "cell_type": "markdown",
   "id": "585473ab-dfae-4acd-a765-322ee24a7ea5",
   "metadata": {},
   "source": [
    "$$ H= \\sum_{i=1}^N \\frac{\\hbar\\Omega}{2} \\sigma_i^x - \\sum_{i=1}^N \\frac{\\hbar \\delta}{2} \\sigma_i^z+\\sum_{j} $$"
   ]
  },
  {
   "cell_type": "markdown",
   "id": "a1b3ff91-6828-4eff-8578-5a18c39f1027",
   "metadata": {},
   "source": [
    "$$c = \\sqrt{a^2 + b^2}$$"
   ]
  },
  {
   "cell_type": "code",
   "execution_count": 8,
   "id": "3940e33f-6da8-4ac2-affd-d5d1ec7e1952",
   "metadata": {},
   "outputs": [],
   "source": [
    "LAYERS = 2\n",
    "\n",
    "# Parametrized sequence\n",
    "seq = Sequence(reg, Chadoq2)\n",
    "seq.declare_channel(\"ch0\", \"rydberg_global\")\n",
    "\n",
    "t_list = seq.declare_variable(\"t_list\", size=LAYERS)\n",
    "s_list = seq.declare_variable(\"s_list\", size=LAYERS)\n",
    "\n",
    "for t, s in zip(t_list, s_list):\n",
    "    pulse_1 = Pulse.ConstantPulse(1000 * t, 1.0, 0.0, 0)\n",
    "    pulse_2 = Pulse.ConstantPulse(1000 * s, 0.0, 1.0, 0)\n",
    "\n",
    "    seq.add(pulse_1, \"ch0\")\n",
    "    seq.add(pulse_2, \"ch0\")\n",
    "\n",
    "seq.measure(\"ground-rydberg\")"
   ]
  },
  {
   "cell_type": "code",
   "execution_count": 9,
   "id": "955704c0-ebd0-45ad-ad97-2a2bfddf8842",
   "metadata": {},
   "outputs": [],
   "source": [
    "def quantum_loop(parameters):\n",
    "    params = np.array(parameters)\n",
    "    t_params, s_params = np.reshape(params.astype(int), (2, LAYERS))\n",
    "    assigned_seq = seq.build(t_list=t_params, s_list=s_params)\n",
    "    simul = Simulation(assigned_seq, sampling_rate=0.01)\n",
    "    results = simul.run()\n",
    "    count_dict = results.sample_final_state()  # sample from the state vector\n",
    "    return count_dict"
   ]
  },
  {
   "cell_type": "code",
   "execution_count": 10,
   "id": "d1d27801-9917-49ce-809f-bdc49fda1987",
   "metadata": {},
   "outputs": [],
   "source": [
    "np.random.seed(123)  # ensures reproducibility of the tutorial\n",
    "guess = {\n",
    "    \"t\": np.random.uniform(8, 10, LAYERS),\n",
    "    \"s\": np.random.uniform(1, 3, LAYERS),\n",
    "}"
   ]
  },
  {
   "cell_type": "code",
   "execution_count": 11,
   "id": "de6f8f71-de53-4a12-802d-426a081df294",
   "metadata": {},
   "outputs": [],
   "source": [
    "example_dict = quantum_loop(np.r_[guess[\"t\"], guess[\"s\"]])"
   ]
  },
  {
   "cell_type": "code",
   "execution_count": 12,
   "id": "a28587cd-3e9f-4844-be2e-d4043eeb9e09",
   "metadata": {},
   "outputs": [],
   "source": [
    "def plot_distribution(C):\n",
    "    C = dict(sorted(C.items(), key=lambda item: item[1], reverse=True))\n",
    "    indexes = [\"01011\", \"00111\"]  # MIS indexes\n",
    "    color_dict = {key: \"r\" if key in indexes else \"g\" for key in C}\n",
    "    plt.figure(figsize=(12, 6))\n",
    "    plt.xlabel(\"bitstrings\")\n",
    "    plt.ylabel(\"counts\")\n",
    "    plt.bar(C.keys(), C.values(), width=0.5, color=color_dict.values())\n",
    "    plt.xticks(rotation=\"vertical\")\n",
    "    plt.show()"
   ]
  },
  {
   "cell_type": "code",
   "execution_count": 13,
   "id": "2e3513f2-bd22-482d-a657-fe1a48686554",
   "metadata": {},
   "outputs": [
    {
     "data": {
      "image/png": "[encoded data removed]",
      "text/plain": [
       "<Figure size 864x432 with 1 Axes>"
      ]
     },
     "metadata": {
      "needs_background": "dark"
     },
     "output_type": "display_data"
    }
   ],
   "source": [
    "plot_distribution(example_dict)"
   ]
  },
  {
   "cell_type": "markdown",
   "id": "b3cf8d2f-1428-4c85-b0b4-87fdd4517198",
   "metadata": {},
   "source": [
    "#### Optimization"
   ]
  },
  {
   "cell_type": "code",
   "execution_count": 14,
   "id": "45933b13-5d0a-48b1-8aff-5d7b4107209b",
   "metadata": {},
   "outputs": [],
   "source": [
    "def get_cost_colouring(bitstring, Q):\n",
    "    z = np.array(list(bitstring), dtype=int)\n",
    "    cost = z.T @ Q @ z\n",
    "    return cost\n",
    "\n",
    "\n",
    "def get_cost(counter, Q):\n",
    "    cost = sum(counter[key] * get_cost_colouring(key, Q) for key in counter)\n",
    "    return cost / sum(counter.values())  # Divide by total samples"
   ]
  },
  {
   "cell_type": "markdown",
   "id": "4237fb2c-470d-4bfa-9405-1c45a29d2a0e",
   "metadata": {},
   "source": [
    "#### QAOA"
   ]
  },
  {
   "cell_type": "code",
   "execution_count": 15,
   "id": "761cacaa-b751-4d9a-9a60-7b9fbeb17ac1",
   "metadata": {},
   "outputs": [],
   "source": [
    "def func(param, *args):\n",
    "    Q = args[0]\n",
    "    C = quantum_loop(param)\n",
    "    cost = get_cost(C, Q)\n",
    "    return cost"
   ]
  },
  {
   "cell_type": "code",
   "execution_count": 16,
   "id": "939de280-6357-44a0-8924-ae289a0d94e3",
   "metadata": {},
   "outputs": [],
   "source": [
    "scores = []\n",
    "params = []\n",
    "for repetition in range(20):\n",
    "    guess = {\n",
    "        \"t\": np.random.uniform(1, 10, LAYERS),\n",
    "        \"s\": np.random.uniform(1, 10, LAYERS),\n",
    "    }\n",
    "\n",
    "    try:\n",
    "        res = minimize(\n",
    "            func,\n",
    "            args=Q,\n",
    "            x0=np.r_[guess[\"t\"], guess[\"s\"]],\n",
    "            method=\"Nelder-Mead\",\n",
    "            tol=1e-5,\n",
    "            options={\"maxiter\": 10},\n",
    "        )\n",
    "        scores.append(res.fun)\n",
    "        params.append(res.x)\n",
    "    except Exception as e:\n",
    "        pass"
   ]
  },
  {
   "cell_type": "code",
   "execution_count": 17,
   "id": "71bf4851-1c38-4ba0-8635-8f52fe6023b1",
   "metadata": {},
   "outputs": [
    {
     "data": {
      "image/png": "[encoded data removed]",
      "text/plain": [
       "<Figure size 864x432 with 1 Axes>"
      ]
     },
     "metadata": {
      "needs_background": "dark"
     },
     "output_type": "display_data"
    }
   ],
   "source": [
    "optimal_count_dict = quantum_loop(params[np.argmin(scores)])\n",
    "plot_distribution(optimal_count_dict)"
   ]
  },
  {
   "cell_type": "markdown",
   "id": "3d6a6169-6132-4392-945e-f76865ff8f84",
   "metadata": {},
   "source": [
    "#### QAA"
   ]
  },
  {
   "cell_type": "code",
   "execution_count": 18,
   "id": "90e4b0c6-6eb0-4a41-9f6b-b8680fc220de",
   "metadata": {},
   "outputs": [],
   "source": [
    "# We choose a median value between the min and the max\n",
    "\n",
    "Omega = np.median(Q[Q > 0].flatten())\n",
    "delta_0 = -5  # just has to be negative\n",
    "delta_f = -delta_0  # just has to be positive\n",
    "T = 4000  # time in ns, we choose a time long enough to ensure the propagation of information i"
   ]
  },
  {
   "cell_type": "code",
   "execution_count": 19,
   "id": "e75ea4c3-1a00-46d9-be3b-d6ac07fed599",
   "metadata": {},
   "outputs": [
    {
     "data": {
      "image/png": "[encoded data removed]",
      "text/plain": [
       "<Figure size 1440x288 with 3 Axes>"
      ]
     },
     "metadata": {
      "needs_background": "dark"
     },
     "output_type": "display_data"
    }
   ],
   "source": [
    "adiabatic_pulse = Pulse(\n",
    "    InterpolatedWaveform(T, [1e-9, Omega, 1e-9]),\n",
    "    InterpolatedWaveform(T, [delta_0, 0, delta_f]),\n",
    "    0,\n",
    ")\n",
    "seq = Sequence(reg, Chadoq2)\n",
    "seq.declare_channel(\"ising\", \"rydberg_global\")\n",
    "seq.add(adiabatic_pulse, \"ising\")\n",
    "seq.draw()"
   ]
  },
  {
   "cell_type": "code",
   "execution_count": 20,
   "id": "d802fd1c-e4be-48f9-bd13-1f430476ab11",
   "metadata": {},
   "outputs": [],
   "source": [
    "simul = Simulation(seq)\n",
    "results = simul.run()\n",
    "final = results.get_final_state()\n",
    "count_dict = results.sample_final_state()"
   ]
  },
  {
   "cell_type": "code",
   "execution_count": 21,
   "id": "986f74df-8aaa-4b60-9902-29f91c5ac3ff",
   "metadata": {},
   "outputs": [
    {
     "data": {
      "image/png": "[encoded data removed]",
      "text/plain": [
       "<Figure size 864x432 with 1 Axes>"
      ]
     },
     "metadata": {
      "needs_background": "dark"
     },
     "output_type": "display_data"
    }
   ],
   "source": [
    "plot_distribution(count_dict)"
   ]
  },
  {
   "cell_type": "markdown",
   "id": "720b1550-792a-451e-97ab-7e8c094e7bcd",
   "metadata": {},
   "source": [
    "#### Time Evolution"
   ]
  },
  {
   "cell_type": "code",
   "execution_count": 22,
   "id": "1d1d6ba7-9275-4779-8112-695c0a7eb8a6",
   "metadata": {},
   "outputs": [],
   "source": [
    "cost = []\n",
    "for T in 1000 * np.linspace(1, 10, 10):\n",
    "    seq = Sequence(reg, Chadoq2)\n",
    "    seq.declare_channel(\"ising\", \"rydberg_global\")\n",
    "    adiabatic_pulse = Pulse(\n",
    "        InterpolatedWaveform(T, [1e-9, Omega, 1e-9]),\n",
    "        InterpolatedWaveform(T, [delta_0, 0, delta_f]),\n",
    "        0,\n",
    "    )\n",
    "    seq.add(adiabatic_pulse, \"ising\")\n",
    "    simul = Simulation(seq)\n",
    "    results = simul.run()\n",
    "    final = results.get_final_state()\n",
    "    count_dict = results.sample_final_state()\n",
    "    cost.append(get_cost(count_dict, Q) / 3)"
   ]
  },
  {
   "cell_type": "code",
   "execution_count": 23,
   "id": "d16c555c-e7af-48d1-81b4-bc482b326574",
   "metadata": {},
   "outputs": [
    {
     "data": {
      "image/png": "[encoded data removed]",
      "text/plain": [
       "<Figure size 864x432 with 1 Axes>"
      ]
     },
     "metadata": {
      "needs_background": "dark"
     },
     "output_type": "display_data"
    }
   ],
   "source": [
    "plt.figure(figsize=(12, 6))\n",
    "plt.plot(range(1, 11), np.array(cost), \"--o\")\n",
    "plt.xlabel(\"total time evolution (µs)\", fontsize=14)\n",
    "plt.ylabel(\"cost\", fontsize=14)\n",
    "plt.show()"
   ]
  },
  {
   "cell_type": "code",
   "execution_count": null,
   "id": "82cc62d8-7b8a-498b-83ea-ee06f4f38319",
   "metadata": {},
   "outputs": [],
   "source": []
  }
 ],
 "metadata": {
  "kernelspec": {
   "display_name": "Python 3 (ipykernel)",
   "language": "python",
   "name": "python3"
  },
  "language_info": {
   "codemirror_mode": {
    "name": "ipython",
    "version": 3
   },
   "file_extension": ".py",
   "mimetype": "text/x-python",
   "name": "python",
   "nbconvert_exporter": "python",
   "pygments_lexer": "ipython3",
   "version": "3.8.10"
  }
 },
 "nbformat": 4,
 "nbformat_minor": 5
}
