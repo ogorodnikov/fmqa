{
 "cells": [
  {
   "cell_type": "code",
   "execution_count": 1,
   "id": "1a9b772a-cceb-4376-88a3-1556f69087b4",
   "metadata": {},
   "outputs": [],
   "source": [
    "import numpy as np\n",
    "import pandas as pd\n",
    "\n",
    "from matplotlib import pyplot as plt\n",
    "\n",
    "import tqdm\n",
    "import time\n",
    "import pickle\n",
    "import datetime\n",
    "\n",
    "import torch\n",
    "import sklearn.metrics\n",
    "\n",
    "import dimod\n",
    "import hybrid\n",
    "\n",
    "from neal.sampler import SimulatedAnnealingSampler\n",
    "from tabu import TabuSampler\n",
    "\n",
    "%run ../modules/fm.ipynb\n",
    "%run ../modules/qubo.ipynb\n",
    "%run ../modules/trainer.ipynb\n",
    "# %run ../modules/ortools.ipynb\n",
    "\n",
    "%run ../modules/proteins.ipynb\n",
    "\n",
    "plt.style.use('dark_background')"
   ]
  },
  {
   "cell_type": "code",
   "execution_count": 2,
   "id": "47dc83c5-f68f-4fae-bba1-0a55f2d62b29",
   "metadata": {},
   "outputs": [],
   "source": [
    "# pip install gxboost"
   ]
  },
  {
   "cell_type": "markdown",
   "id": "61db4224-5096-4e28-9b82-2f95c5b4890e",
   "metadata": {
    "tags": []
   },
   "source": [
    "### 2) FMQA Loop"
   ]
  },
  {
   "cell_type": "markdown",
   "id": "33e47893-edc2-45e8-b299-163a1879be88",
   "metadata": {
    "tags": []
   },
   "source": [
    "#### FMQA"
   ]
  },
  {
   "cell_type": "code",
   "execution_count": 4,
   "id": "3298eb80-a0ee-484b-a610-db086bb54e0d",
   "metadata": {},
   "outputs": [
    {
     "name": "stdout",
     "output_type": "stream",
     "text": [
      "Datasets loaded: f100 m1 x1 x100\n",
      "Regressors loaded: f100 m1 x1 x100\n"
     ]
    }
   ],
   "source": [
    "# Load Datasets and Regressors\n",
    "\n",
    "DATASET_PATHES = {'f100': ['../chemistry/datasets/f100.csv', '../chemistry/datasets/f100r.csv'],\n",
    "                  'm1': ['../chemistry/datasets/m1.csv', '../chemistry/datasets/m1r.csv'],\n",
    "                  'x1': ['../chemistry/datasets/x1.csv', '../chemistry/datasets/x1r.csv'],\n",
    "                  'x100': ['../chemistry/datasets/x100.csv', '../chemistry/datasets/x100r.csv']}\n",
    "\n",
    "# DATASET_PATHES = {'f100': ['../chemistry/datasets/f100.csv'],\n",
    "#                   'm1': ['../chemistry/datasets/m1.csv'],\n",
    "#                   'x1': ['../chemistry/datasets/x1.csv']}\n",
    "\n",
    "# REGRESSORS_PATH = '../chemistry/regressors.pkl'\n",
    "REGRESSORS_PATH = '../chemistry/regressors_classic.pkl'\n",
    "\n",
    "\n",
    "datasets = load_protein_datasets(DATASET_PATHES)\n",
    "\n",
    "regressors = load_regressors(REGRESSORS_PATH)"
   ]
  },
  {
   "cell_type": "markdown",
   "id": "a0af7ef4-04df-4d88-8cda-586d848dc2e0",
   "metadata": {
    "tags": []
   },
   "source": [
    "#### One Hot FMQA Loop"
   ]
  },
  {
   "cell_type": "code",
   "execution_count": 5,
   "id": "e2c46b24-c1a2-408e-87d2-59e546633a0f",
   "metadata": {},
   "outputs": [
    {
     "name": "stdout",
     "output_type": "stream",
     "text": [
      "target_dataset.field_dimensions.shape: (110,)\n"
     ]
    }
   ],
   "source": [
    "# Initialize FMQA Loop\n",
    "\n",
    "TARGET_PROTEIN = 'm1'\n",
    "\n",
    "target_dataset = datasets[TARGET_PROTEIN]\n",
    "\n",
    "splitter = Splitter(target_dataset, batch_size=100)\n",
    "\n",
    "trainer = Trainer(splitter=splitter, embedding_dimensions=16)\n",
    "\n",
    "\n",
    "\n",
    "# Offtarget binding energies\n",
    "\n",
    "offtarget_proteins = set(datasets) - {TARGET_PROTEIN}\n",
    "\n",
    "target_regressor = regressors[TARGET_PROTEIN]['regressor']\n",
    "offtarget_regressors = [regressors[offtarget_protein]['regressor']\n",
    "                        for offtarget_protein in offtarget_proteins]\n",
    "\n",
    "offtarget_predictions = [offtarget_regressor.predict(target_dataset.fields) \n",
    "                         for offtarget_regressor in offtarget_regressors]\n",
    "\n",
    "offtarget_binding_energies = np.vstack(offtarget_predictions).sum(axis=0) / len(offtarget_proteins)\n",
    "\n",
    "initial_offtarget_binding_energies = offtarget_binding_energies\n",
    "\n",
    "initial_target_energies = target_dataset.targets\n",
    "\n",
    "\n",
    "total_iteration = 0\n",
    "\n",
    "print(\"target_dataset.field_dimensions.shape:\", target_dataset.field_dimensions.shape)"
   ]
  },
  {
   "cell_type": "code",
   "execution_count": 36,
   "id": "ea9dfa25-b0bb-4460-b505-41e60a4c27c0",
   "metadata": {},
   "outputs": [
    {
     "name": "stdout",
     "output_type": "stream",
     "text": [
      "Iteration 101/105\n",
      "splitter.lengths: (85444, 10680, 10682)\n"
     ]
    },
    {
     "name": "stderr",
     "output_type": "stream",
     "text": [
      "Epoch: 1/1: 100%|█████████████████████████████████████████████████| 85.5k/85.5k [00:01<00:00, 66.8k records/s]"
     ]
    },
    {
     "name": "stdout",
     "output_type": "stream",
     "text": [
      "Train r2_score: 0.99\n",
      "Test  r2_score: 0.99\n"
     ]
    },
    {
     "name": "stderr",
     "output_type": "stream",
     "text": [
      "\n"
     ]
    },
    {
     "name": "stdout",
     "output_type": "stream",
     "text": [
      "x_penalties: [0.5 0.5 0.  0.  0.5 0.5 0.  0.  0.5 0.  0.5 0.5 0.  0.5 0.  0.  0.5 0.\n",
      " 0.  0.  0.  0.  0.  1.  0.  0.5 0.5 0.  0.  0.5 0.5 0.  0.  0.  0.5 0.5\n",
      " 0.  0.5 0.5 0.  0.  0.  0.  0.  0.  0.  0.  0.  0.  0.  0.  0.5 0.  0.\n",
      " 0.5 0.  0.5 0.  0.5 0.5 0.  0.5 0.5 0.  0.5 0.  0.5 0.  0.5 0.5 0.  0.\n",
      " 0.  0.  0.5 0.5 0.5 0.  0.  0.  0.  0.  0.5 1.  0.  0.  0.5 0.  0.5 0.5\n",
      " 0.5 0.  1.  0.  0. ] 0.22105263157894736\n",
      "Initial   target minimum energy:  -13.83\n",
      "Iteration target minimum energy:  -17.30\n",
      "Overall   target minimum energy:  -17.30\n",
      "\n",
      "Iteration 102/105\n",
      "splitter.lengths: (86244, 10780, 10782)\n"
     ]
    },
    {
     "name": "stderr",
     "output_type": "stream",
     "text": [
      "Epoch: 1/1: 100%|█████████████████████████████████████████████████| 86.3k/86.3k [00:01<00:00, 63.0k records/s]"
     ]
    },
    {
     "name": "stdout",
     "output_type": "stream",
     "text": [
      "Train r2_score: 0.99\n",
      "Test  r2_score: 0.99\n"
     ]
    },
    {
     "name": "stderr",
     "output_type": "stream",
     "text": [
      "\n"
     ]
    },
    {
     "name": "stdout",
     "output_type": "stream",
     "text": [
      "x_penalties: [0.  0.  0.  0.5 0.5 0.  0.  0.5 0.5 0.  0.5 0.  0.  0.  0.  0.  0.5 0.\n",
      " 0.  0.  0.  0.5 0.  0.  1.5 0.5 0.5 0.  0.  0.5 0.5 1.  0.  0.  0.  0.\n",
      " 0.5 0.  0.  0.5 0.  0.  0.  0.5 0.5 0.5 0.  0.5 0.  0.5 0.  0.  0.  0.\n",
      " 0.  1.  0.  0.  0.5 0.  2.  0.5 0.5 0.  0.5 0.5 1.5 0.5 0.  0.5 0.  2.\n",
      " 1.5 2.  0.  2.  1.  0.  0.  0. ] 0.35\n",
      "Initial   target minimum energy:  -13.83\n",
      "Iteration target minimum energy:  -17.30\n",
      "Overall   target minimum energy:  -17.30\n",
      "\n",
      "Iteration 103/105\n",
      "splitter.lengths: (87044, 10880, 10882)\n"
     ]
    },
    {
     "name": "stderr",
     "output_type": "stream",
     "text": [
      "Epoch: 1/1: 100%|█████████████████████████████████████████████████| 87.1k/87.1k [00:01<00:00, 69.2k records/s]"
     ]
    },
    {
     "name": "stdout",
     "output_type": "stream",
     "text": [
      "Train r2_score: 0.99\n",
      "Test  r2_score: 0.99\n"
     ]
    },
    {
     "name": "stderr",
     "output_type": "stream",
     "text": [
      "\n"
     ]
    },
    {
     "name": "stdout",
     "output_type": "stream",
     "text": [
      "x_penalties: [0.5 0.5 0.  0.  0.5 1.  0.5 0.  0.  0.  0.  0.5 0.5 0.  0.  0.  0.  0.\n",
      " 0.5 1.  0.  0.  0.  0.  0.5 0.  0.5 0.5 0.  0.  0.  0.5 0.  0.  0.  0.\n",
      " 0.  0.  0.5 0.  0.  0.5 0.5 0.  0.  0.  0.  0.5 0.  0.  0.  0.  0.  0.\n",
      " 0.  2.  0.5 0.5 0.5 1.  1.  0.  0.  0.  0.  0.5 0.  0.  0.5 0.5 0.  0.\n",
      " 1.  1. ] 0.25\n",
      "Initial   target minimum energy:  -13.83\n",
      "Iteration target minimum energy:  -17.30\n",
      "Overall   target minimum energy:  -17.30\n",
      "\n",
      "Iteration 104/105\n",
      "splitter.lengths: (87844, 10980, 10982)\n"
     ]
    },
    {
     "name": "stderr",
     "output_type": "stream",
     "text": [
      "Epoch: 1/1: 100%|█████████████████████████████████████████████████| 87.9k/87.9k [00:01<00:00, 58.7k records/s]"
     ]
    },
    {
     "name": "stdout",
     "output_type": "stream",
     "text": [
      "Train r2_score: 0.99\n",
      "Test  r2_score: 0.99\n"
     ]
    },
    {
     "name": "stderr",
     "output_type": "stream",
     "text": [
      "\n"
     ]
    },
    {
     "name": "stdout",
     "output_type": "stream",
     "text": [
      "x_penalties: [0.5 0.5 0.5 0.5 0.5 0.5 0.5 0.5 0.5 0.5 0.5 0.  0.5 0.5 0.5 0.5 0.5 0.5\n",
      " 0.  0.  0.  0.  0.5 0.5 0.  0.5 0.  0.  0.  0.5 0.5 0.  2.  0.  0.5 0.\n",
      " 0.5 0.5 0.5 0.5 0.  1.  0.  0.  0.  0.  0.  0.  1.5 0.5 1.  0.5 0.  0.5\n",
      " 0.5 0.  0.  0.5 1.  0.  0.  0.  0.  0.  1.  0.  0.5 0.5 0.  0.  1.  0.\n",
      " 0.  1.5 0.  0.  0.  1.5 0.  0.  0.  1.5 0.5 1.  0.  1.  1.5 0.5 0.5 0. ] 0.3888888888888889\n",
      "Initial   target minimum energy:  -13.83\n",
      "Iteration target minimum energy:  -17.30\n",
      "Overall   target minimum energy:  -17.30\n",
      "\n",
      "Iteration 105/105\n",
      "splitter.lengths: (88644, 11080, 11082)\n"
     ]
    },
    {
     "name": "stderr",
     "output_type": "stream",
     "text": [
      "Epoch: 1/1: 100%|█████████████████████████████████████████████████| 88.7k/88.7k [00:01<00:00, 59.3k records/s]"
     ]
    },
    {
     "name": "stdout",
     "output_type": "stream",
     "text": [
      "Train r2_score: 0.99\n",
      "Test  r2_score: 0.99\n"
     ]
    },
    {
     "name": "stderr",
     "output_type": "stream",
     "text": [
      "\n"
     ]
    },
    {
     "name": "stdout",
     "output_type": "stream",
     "text": [
      "x_penalties: [0.  0.  0.5 0.5 0.  0.  0.5 0.  0.  0.  0.5 0.5 0.  0.  0.  0.5 0.  0.\n",
      " 0.  0.5 0.  0.5 0.5 0.  0.5 0.  0.5 0.  0.5 0.5 0.  0.  0.5 0.5 0.5 0.\n",
      " 0.  0.  0.5 0.5 0.  0.5 0.  0.5 0.  0.  1.  1.  0.  0.  0.  0.  0.  0.\n",
      " 0.  0.  0.  0.  0.  0.5 1.  0.  0.5 0.  0.5 0.  0.  0.5 0.  1.5 0.  0.\n",
      " 0.  0.5 0.5 0.  0.5 0.  1.  0.5 1.5 0.  0.  0.  0.  2.  0.5 0.5 1. ] 0.2808988764044944\n",
      "Initial   target minimum energy:  -13.83\n",
      "Iteration target minimum energy:  -17.30\n",
      "Overall   target minimum energy:  -17.30\n",
      "\n"
     ]
    },
    {
     "data": {
      "image/png": "[encoded data removed]",
      "text/plain": [
       "<Figure size 1500x500 with 1 Axes>"
      ]
     },
     "metadata": {},
     "output_type": "display_data"
    },
    {
     "name": "stdout",
     "output_type": "stream",
     "text": [
      "0     QKYWCLLFILISWIIVNVNDEY\n",
      "1     QKYWCNLFRLISWIIANVNEEY\n",
      "2     QKYWCLLFHLISXIIVNVNDEY\n",
      "3     QKYWCNLFHLISXIIVNVNEEY\n",
      "4     QKYWCLLFILISWIITNVNEEY\n",
      "               ...          \n",
      "84    GKYWCNQFILMSDIGANVNDVV\n",
      "85    QAXWCLLXHLXSXEIVLCNEYY\n",
      "86    QKYXCNLFILRSWIIANVNDYY\n",
      "87    GPYWCNLFDLXSHIGACCNYDY\n",
      "88    QKEWCNLFDLXSWXGTLCMEDY\n",
      "Name: symbols, Length: 89, dtype: object\n"
     ]
    }
   ],
   "source": [
    "ITERATIONS_COUNT = 5\n",
    "\n",
    "INITIAL_EPOCHS_COUNT = 100\n",
    "EPOCHS_COUNT = 1\n",
    "DATASET_SHARE = 1\n",
    "\n",
    "TOP_SIZE = 10\n",
    "SAMPLE_REPETITIONS_COUNT = 100\n",
    "\n",
    "SHOTS_COUNT = 100\n",
    "PENALTY_VALUE = 10\n",
    "MAXIMIZE = False\n",
    "\n",
    "SAMPLER = TabuSampler()\n",
    "# SAMPLER = ORToolsSampler()\n",
    "# SAMPLER = OneHotRandomSampler()\n",
    "# SAMPLER = hybrid.KerberosSampler()\n",
    "\n",
    "ORTOOLS_TIME_LIMIT = 10\n",
    "\n",
    "total_iterations_count = total_iteration + ITERATIONS_COUNT\n",
    "\n",
    "\n",
    "for iteration in range(ITERATIONS_COUNT):\n",
    "    \n",
    "    total_iteration += 1\n",
    "    \n",
    "    print(f\"Iteration {total_iteration}/{total_iterations_count}\")\n",
    "    \n",
    "    splitter = Splitter(target_dataset, batch_size=100,\n",
    "                        dataset_share=DATASET_SHARE)\n",
    "    \n",
    "    print(\"splitter.lengths:\", splitter.lengths)\n",
    "\n",
    "    trainer = Trainer(splitter=splitter, \n",
    "                      embedding_dimensions=16,\n",
    "                      model=trainer.model,\n",
    "                      # optimizer=trainer.optimizer\n",
    "                     )\n",
    "       \n",
    "    epochs_count = INITIAL_EPOCHS_COUNT if total_iteration == 1 else EPOCHS_COUNT\n",
    "    \n",
    "    trainer.train(epochs=epochs_count, validate=False)\n",
    "\n",
    "    qubo = OneHotQubo(trainer=trainer,\n",
    "                      penalty_value=PENALTY_VALUE,\n",
    "                      maximize=MAXIMIZE)    \n",
    "\n",
    "    sampling_results = SAMPLER.sample_qubo(Q=qubo.qubo_coefficients, \n",
    "                                           num_reads=SHOTS_COUNT,\n",
    "                                           time_limit=ORTOOLS_TIME_LIMIT)\n",
    "    \n",
    "    aggregated_results = sampling_results.aggregate()\n",
    "    filtered_results = aggregated_results.filter(pred=qubo.is_correct_one_hot)\n",
    "    \n",
    "    decoded_results = decode_sampling_results(qubo, target_dataset, filtered_results)\n",
    "    \n",
    "    if len(decoded_results):\n",
    "        results = add_energies(decoded_results)\n",
    "    else:\n",
    "        print(\"No Samples\")\n",
    "        continue\n",
    "\n",
    "    \n",
    "    # Top results\n",
    "    \n",
    "    top_results = results.sort_values(by='binding_energy', ascending=True)[:TOP_SIZE]\n",
    "    \n",
    "    new_fields = np.vstack(top_results['bits'].to_numpy())\n",
    "    new_targets = top_results['target_binding_energy'].to_numpy()\n",
    "    \n",
    "\n",
    "    # Append - Target binding energies\n",
    "    \n",
    "    target_dataset.append_records(new_fields, new_targets, SAMPLE_REPETITIONS_COUNT)\n",
    "    \n",
    "    \n",
    "    # Append - Offtarget binding energies\n",
    "    \n",
    "    new_offtarget_binding_energies = np.tile(top_results['offtarget_binding_energy'], \n",
    "                                             (SAMPLE_REPETITIONS_COUNT, 1))\n",
    "    \n",
    "    offtarget_binding_energies = np.append(offtarget_binding_energies, new_offtarget_binding_energies)\n",
    "\n",
    "    print(f\"Initial   target minimum energy:  {initial_target_energies.min():.02f}\")    \n",
    "    print(f\"Iteration target minimum energy:  {results['target_binding_energy'].min():.02f}\")\n",
    "    print(f\"Overall   target minimum energy:  {target_dataset.targets.min():.02f}\")\n",
    "    print()\n",
    "    # print(f\"Initial   offtarget maximum energy: {initial_offtarget_binding_energies.max():.02f}\")    \n",
    "    # print(f\"Iteration offtarget maximum energy: {results['offtarget_binding_energy'].max():.02f}\")\n",
    "    # print(f\"Overall   offtarget maximum energy: {offtarget_binding_energies.max():.02f}\")\n",
    "    # print()\n",
    "        \n",
    "# Plots\n",
    "\n",
    "plt.figure(figsize=(15, 5))\n",
    "plt.title(\"FMQA - Target Binding Energies\")\n",
    "plt.xlabel(\"Peptide\")\n",
    "plt.ylabel(\"Target Binding Energy\")\n",
    "\n",
    "plt.plot(target_dataset.targets)\n",
    "plt.show()\n",
    "\n",
    "print(results.symbols)\n",
    "\n",
    "# plt.figure(figsize=(15, 5))\n",
    "# plt.title(\"FMQA - Offtarget Binding Energies\")\n",
    "# plt.xlabel(\"Peptide\")\n",
    "# plt.ylabel(\"Offtarget Binding Energy\")\n",
    "\n",
    "# plt.plot(offtarget_binding_energies)\n",
    "# plt.show()"
   ]
  },
  {
   "cell_type": "code",
   "execution_count": null,
   "id": "67e5712d-8509-4e79-a74f-13d42a7d6cd9",
   "metadata": {},
   "outputs": [],
   "source": [
    "# np.save('qubo_proteins.npy', qubo.coupling_matrix)"
   ]
  },
  {
   "cell_type": "markdown",
   "id": "1652a6d8-dd35-4c1a-91fd-123e67a32b3b",
   "metadata": {
    "tags": []
   },
   "source": [
    "#### One Cold FMQA Loop"
   ]
  },
  {
   "cell_type": "code",
   "execution_count": 3,
   "id": "b13a22be-6af0-4488-8492-88ca46daa9eb",
   "metadata": {},
   "outputs": [
    {
     "name": "stdout",
     "output_type": "stream",
     "text": [
      "target_dataset.field_dimensions.shape: (110,)\n"
     ]
    }
   ],
   "source": [
    "# Initialize FMQA Loop\n",
    "\n",
    "TARGET_PROTEIN = 'm1'\n",
    "\n",
    "target_dataset = datasets[TARGET_PROTEIN]\n",
    "\n",
    "splitter = Splitter(target_dataset, batch_size=100)\n",
    "\n",
    "model = OneColdFactorizationMachine(\n",
    "    field_dimensions=splitter.dataset.field_dimensions,\n",
    "    embedding_dimensions=16, \n",
    "    include_linear=False\n",
    ")\n",
    "\n",
    "trainer = Trainer(splitter=splitter, model=model)\n",
    "\n",
    "initial_target_energies = target_dataset.targets\n",
    "\n",
    "\n",
    "# Offtarget binding energies\n",
    "\n",
    "offtarget_proteins = set(datasets) - {TARGET_PROTEIN}\n",
    "\n",
    "target_regressor = regressors[TARGET_PROTEIN]['regressor']\n",
    "offtarget_regressors = [regressors[offtarget_protein]['regressor']\n",
    "                        for offtarget_protein in offtarget_proteins]\n",
    "\n",
    "offtarget_predictions = [offtarget_regressor.predict(target_dataset.fields) \n",
    "                         for offtarget_regressor in offtarget_regressors]\n",
    "\n",
    "offtarget_binding_energies = np.vstack(offtarget_predictions).sum(axis=0) / len(offtarget_proteins)\n",
    "\n",
    "initial_offtarget_binding_energies = offtarget_binding_energies\n",
    "\n",
    "total_iteration = 0\n",
    "\n",
    "print(\"target_dataset.field_dimensions.shape:\", target_dataset.field_dimensions.shape)"
   ]
  },
  {
   "cell_type": "code",
   "execution_count": null,
   "id": "2e6130bb-37e0-449c-9cd4-7f7ecb29f076",
   "metadata": {
    "tags": []
   },
   "outputs": [
    {
     "name": "stdout",
     "output_type": "stream",
     "text": [
      "Iteration 101/105\n",
      "splitter.lengths: (40804, 5100, 5102)\n"
     ]
    },
    {
     "name": "stderr",
     "output_type": "stream",
     "text": [
      "Epoch: 1/1: 100%|█████████████████████████████████████████████████| 40.9k/40.9k [00:00<00:00, 49.6k records/s]"
     ]
    },
    {
     "name": "stdout",
     "output_type": "stream",
     "text": [
      "Train r2_score: 0.99\n",
      "Test  r2_score: 0.99\n"
     ]
    },
    {
     "name": "stderr",
     "output_type": "stream",
     "text": [
      "\n"
     ]
    },
    {
     "name": "stdout",
     "output_type": "stream",
     "text": [
      "x_penalties: [0. 0. 0. 0. 0. 0. 0. 0. 0. 0. 0. 0. 0. 0. 0. 0. 0. 0. 0.] 0.0\n",
      "Initial   target minimum energy:  -13.83\n",
      "Iteration target minimum energy:  -16.42\n",
      "Overall   target minimum energy:  -16.40\n",
      "\n",
      "Iteration 102/105\n",
      "splitter.lengths: (41604, 5200, 5202)\n"
     ]
    },
    {
     "name": "stderr",
     "output_type": "stream",
     "text": [
      "Epoch: 1/1: 100%|█████████████████████████████████████████████████| 41.7k/41.7k [00:00<00:00, 50.7k records/s]"
     ]
    },
    {
     "name": "stdout",
     "output_type": "stream",
     "text": [
      "Train r2_score: 0.99\n",
      "Test  r2_score: 0.99\n"
     ]
    },
    {
     "name": "stderr",
     "output_type": "stream",
     "text": [
      "\n"
     ]
    },
    {
     "name": "stdout",
     "output_type": "stream",
     "text": [
      "x_penalties: [0.  0.  0.  0.  0.  0.  1.  0.  0.  1.5 0.  0.5 0.  1.5 0.  0.  1.  0.\n",
      " 1.5 0.  0.5 0.  0.  0.  0.  0.  0.5 0.  0.5 0.  0.5 0.  0.5] 0.2878787878787879\n",
      "Initial   target minimum energy:  -13.83\n",
      "Iteration target minimum energy:  -16.42\n",
      "Overall   target minimum energy:  -16.42\n",
      "\n",
      "Iteration 103/105\n",
      "splitter.lengths: (42404, 5300, 5302)\n"
     ]
    },
    {
     "name": "stderr",
     "output_type": "stream",
     "text": [
      "Epoch: 1/1: 100%|█████████████████████████████████████████████████| 42.5k/42.5k [00:00<00:00, 52.8k records/s]"
     ]
    },
    {
     "name": "stdout",
     "output_type": "stream",
     "text": [
      "Train r2_score: 0.99\n",
      "Test  r2_score: 0.99\n"
     ]
    },
    {
     "name": "stderr",
     "output_type": "stream",
     "text": [
      "\n"
     ]
    },
    {
     "name": "stdout",
     "output_type": "stream",
     "text": [
      "x_penalties: [0.5 0.5 0.5 1.  0.5 0.5 0.5 0.5 0.  0.5 0.  0.  0.5 1.  0.  1.  1.  1.\n",
      " 0.  0.5 0.  0.  1.  0.5 1.  0.5 0.5 0.5 0.5 1.5 1.  0.5] 0.546875\n",
      "Initial   target minimum energy:  -13.83\n",
      "Iteration target minimum energy:  -16.46\n",
      "Overall   target minimum energy:  -16.46\n",
      "\n",
      "Iteration 104/105\n",
      "splitter.lengths: (43204, 5400, 5402)\n"
     ]
    },
    {
     "name": "stderr",
     "output_type": "stream",
     "text": [
      "Epoch: 1/1: 100%|█████████████████████████████████████████████████| 43.3k/43.3k [00:00<00:00, 52.9k records/s]"
     ]
    },
    {
     "name": "stdout",
     "output_type": "stream",
     "text": [
      "Train r2_score: 0.99\n",
      "Test  r2_score: 0.99\n"
     ]
    },
    {
     "name": "stderr",
     "output_type": "stream",
     "text": [
      "\n"
     ]
    },
    {
     "name": "stdout",
     "output_type": "stream",
     "text": [
      "x_penalties: [0.  0.  0.  0.  0.  0.  0.  0.  0.  0.  0.  0.  0.  0.  0.  0.  0.  0.\n",
      " 0.  1.  0.  1.  0.  0.  0.  0.  0.  0.  0.  0.  0.5 1.  0.5 0.  0.  1.\n",
      " 0.5] 0.14864864864864866\n",
      "Initial   target minimum energy:  -13.83\n",
      "Iteration target minimum energy:  -16.46\n",
      "Overall   target minimum energy:  -16.46\n",
      "\n",
      "Iteration 105/105\n",
      "splitter.lengths: (44004, 5500, 5502)\n"
     ]
    },
    {
     "name": "stderr",
     "output_type": "stream",
     "text": [
      "Epoch: 1/1: 100%|█████████████████████████████████████████████████| 44.1k/44.1k [00:00<00:00, 56.2k records/s]"
     ]
    },
    {
     "name": "stdout",
     "output_type": "stream",
     "text": [
      "Train r2_score: 0.99\n",
      "Test  r2_score: 0.99\n"
     ]
    },
    {
     "name": "stderr",
     "output_type": "stream",
     "text": [
      "\n"
     ]
    },
    {
     "name": "stdout",
     "output_type": "stream",
     "text": [
      "x_penalties: [0.  0.  0.  0.  0.  0.  0.  0.  0.  0.  0.  0.  0.  0.  0.  0.  0.  0.\n",
      " 0.  0.  0.  0.  0.  0.  0.  0.  0.5] 0.018518518518518517\n",
      "Initial   target minimum energy:  -13.83\n",
      "Iteration target minimum energy:  -16.46\n",
      "Overall   target minimum energy:  -16.46\n",
      "\n"
     ]
    },
    {
     "data": {
      "image/png": "[encoded data removed]",
      "text/plain": [
       "<Figure size 1080x360 with 1 Axes>"
      ]
     },
     "metadata": {
      "needs_background": "dark"
     },
     "output_type": "display_data"
    },
    {
     "name": "stdout",
     "output_type": "stream",
     "text": [
      "0     GQYWEEQFCVNFRIIHLLNEYY\n",
      "1     QQYWEEQFEVNFSIGHLLNEYY\n",
      "2     QQEWEEQFEVNFRIGHLLNEYY\n",
      "3     QQYWEEQFCVNFRIGHLLNIEY\n",
      "4     QQYWIYQFEVNFSEGHCLNEYE\n",
      "5     QQYWCESFEVLFRIGHLLNIEY\n",
      "6     QQYWEEQFEVNFRIGHKLNIYY\n",
      "7     GQYWENQFCVNFSIIHLLNEYY\n",
      "8     QQYWEEQFEVNFRIGHKQNEYY\n",
      "9     IQEWCNQFNVLFRIGDLLNEYY\n",
      "10    QQYWIEQFEVNFSIGHLLNEEY\n",
      "11    QQYWEEQFEVNPREGHLLNEYY\n",
      "12    QQYWYEQFEVNFRIGHKLNEEY\n",
      "13    IQYWCEQFEVLHRIGHLLNEYY\n",
      "14    QQYWCEQFYVNFRIGHLLNEEY\n",
      "15    QQYWEEQFYVNFRIGHLLNIEY\n",
      "16    GQYWEEQFEVLIRIGHLLNIYY\n",
      "17    GQYWIEQFEYNFSIGHLLNLYY\n",
      "18    QQYWENGFNVNGSIGHCLNIEE\n",
      "19    GQYWGNQANYNFSIGDLLNAYY\n",
      "20    SQYWENGFNVNFSIGHCLNIEE\n",
      "21    QQYWDEQFEVNPREGHKLNEYY\n",
      "22    GQYWCNQANYNFSIGHLLNAYY\n",
      "23    GQYWCNQANYNFRIGHKLNFYY\n",
      "24    QQYWIEIFEVNFSIGHCLNEEE\n",
      "25    GQYWIYQASYNFRIGHLLNAYY\n",
      "26    IQYWCNQANVNFSIGHLLXCYY\n",
      "Name: symbols, dtype: object\n"
     ]
    }
   ],
   "source": [
    "ITERATIONS_COUNT = 5\n",
    "\n",
    "INITIAL_EPOCHS_COUNT = 100\n",
    "EPOCHS_COUNT = 1\n",
    "DATASET_SHARE = 1\n",
    "\n",
    "TOP_SIZE = 10\n",
    "SAMPLE_REPETITIONS_COUNT = 100\n",
    "\n",
    "SHOTS_COUNT = 100\n",
    "PENALTY_VALUE = 10\n",
    "MAXIMIZE = False\n",
    "\n",
    "SAMPLER = TabuSampler()\n",
    "# SAMPLER = ORToolsSampler()\n",
    "# SAMPLER = OneHotRandomSampler()\n",
    "# SAMPLER = hybrid.KerberosSampler()\n",
    "\n",
    "ORTOOLS_TIME_LIMIT = 10\n",
    "\n",
    "total_iterations_count = total_iteration + ITERATIONS_COUNT\n",
    "\n",
    "\n",
    "for iteration in range(ITERATIONS_COUNT):\n",
    "    \n",
    "    total_iteration += 1\n",
    "    \n",
    "    print(f\"Iteration {total_iteration}/{total_iterations_count}\")\n",
    "    \n",
    "    splitter = Splitter(target_dataset, batch_size=100,\n",
    "                        dataset_share=DATASET_SHARE)\n",
    "    \n",
    "    print(\"splitter.lengths:\", splitter.lengths)\n",
    "\n",
    "    trainer = Trainer(splitter=splitter, model=trainer.model)\n",
    "       \n",
    "    epochs_count = INITIAL_EPOCHS_COUNT if total_iteration == 1 else EPOCHS_COUNT\n",
    "    \n",
    "    trainer.train(epochs=epochs_count, validate=False)\n",
    "\n",
    "    qubo = OneColdQubo(trainer=trainer, maximize=MAXIMIZE)    \n",
    "\n",
    "    sampling_results = SAMPLER.sample_qubo(Q=qubo.qubo_coefficients, \n",
    "                                           num_reads=SHOTS_COUNT,\n",
    "                                           time_limit=ORTOOLS_TIME_LIMIT)\n",
    "    \n",
    "    aggregated_results = sampling_results.aggregate()\n",
    "    \n",
    "    decoded_results = one_cold_decode_sampling_results(qubo, target_dataset, aggregated_results)   \n",
    "  \n",
    "\n",
    "    if len(decoded_results):\n",
    "        results = add_energies(decoded_results)\n",
    "    else:\n",
    "        print(\"No Samples\")\n",
    "        continue\n",
    "\n",
    "    \n",
    "    # Top results\n",
    "    \n",
    "    top_results = results.sort_values(by='binding_energy', ascending=True)[:TOP_SIZE]\n",
    "    \n",
    "    new_fields = np.vstack(top_results['bits'].to_numpy())\n",
    "    new_targets = top_results['target_binding_energy'].to_numpy()\n",
    "    \n",
    "\n",
    "    # Append - Target binding energies\n",
    "    \n",
    "    target_dataset.append_records(new_fields, new_targets, SAMPLE_REPETITIONS_COUNT)\n",
    "    \n",
    "    \n",
    "    # Append - Offtarget binding energies\n",
    "    \n",
    "    new_offtarget_binding_energies = np.tile(top_results['offtarget_binding_energy'], \n",
    "                                             (SAMPLE_REPETITIONS_COUNT, 1))\n",
    "    \n",
    "    offtarget_binding_energies = np.append(offtarget_binding_energies, new_offtarget_binding_energies)\n",
    "\n",
    "    print(f\"Initial   target minimum energy:  {initial_target_energies.min():.02f}\")    \n",
    "    print(f\"Iteration target minimum energy:  {results['target_binding_energy'].min():.02f}\")\n",
    "    print(f\"Overall   target minimum energy:  {target_dataset.targets.min():.02f}\")\n",
    "    print()\n",
    "    # print(f\"Initial   offtarget maximum energy: {initial_offtarget_binding_energies.max():.02f}\")    \n",
    "    # print(f\"Iteration offtarget maximum energy: {results['offtarget_binding_energy'].max():.02f}\")\n",
    "    # print(f\"Overall   offtarget maximum energy: {offtarget_binding_energies.max():.02f}\")\n",
    "    # print()\n",
    "        \n",
    "# Plots\n",
    "\n",
    "plt.figure(figsize=(15, 5))\n",
    "plt.title(\"FMQA - Target Binding Energies\")\n",
    "plt.xlabel(\"Peptide\")\n",
    "plt.ylabel(\"Target Binding Energy\")\n",
    "\n",
    "plt.plot(target_dataset.targets)\n",
    "plt.show()\n",
    "\n",
    "print(results.symbols)\n",
    "\n",
    "# plt.figure(figsize=(15, 5))\n",
    "# plt.title(\"FMQA - Offtarget Binding Energies\")\n",
    "# plt.xlabel(\"Peptide\")\n",
    "# plt.ylabel(\"Offtarget Binding Energy\")\n",
    "\n",
    "# plt.plot(offtarget_binding_energies)\n",
    "# plt.show()"
   ]
  },
  {
   "cell_type": "code",
   "execution_count": 5,
   "id": "fbcb3a1b-a675-477f-b358-dd01d6dc8d24",
   "metadata": {},
   "outputs": [],
   "source": [
    "# np.save('qubo_proteins.npy', qubo.coupling_matrix)"
   ]
  },
  {
   "cell_type": "markdown",
   "id": "19fd92e0-bb2e-4771-bb75-367fb2a1c038",
   "metadata": {
    "tags": []
   },
   "source": [
    "#### FMQA Results"
   ]
  },
  {
   "cell_type": "code",
   "execution_count": 15,
   "id": "493bb540-92a2-436a-9c09-b136d54e3ce1",
   "metadata": {},
   "outputs": [
    {
     "data": {
      "text/html": [
       "<div>\n",
       "<style scoped>\n",
       "    .dataframe tbody tr th:only-of-type {\n",
       "        vertical-align: middle;\n",
       "    }\n",
       "\n",
       "    .dataframe tbody tr th {\n",
       "        vertical-align: top;\n",
       "    }\n",
       "\n",
       "    .dataframe thead th {\n",
       "        text-align: right;\n",
       "    }\n",
       "</style>\n",
       "<table border=\"1\" class=\"dataframe\">\n",
       "  <thead>\n",
       "    <tr style=\"text-align: right;\">\n",
       "      <th></th>\n",
       "      <th>samples</th>\n",
       "      <th>symbols</th>\n",
       "      <th>qubo_energy</th>\n",
       "      <th>target_binding_energy</th>\n",
       "      <th>offtarget_binding_energy</th>\n",
       "      <th>binding_energy</th>\n",
       "    </tr>\n",
       "  </thead>\n",
       "  <tbody>\n",
       "    <tr>\n",
       "      <th>0</th>\n",
       "      <td>[0, 1, 1, 0, 1, 0, 1, 1, 0, 1, 1, 0, 0, 1, 1, ...</td>\n",
       "      <td>QQYWEEQFEVNFRIGHKQNEYY</td>\n",
       "      <td>-16.246276</td>\n",
       "      <td>-16.355515</td>\n",
       "      <td>-10.499178</td>\n",
       "      <td>-5.856337</td>\n",
       "    </tr>\n",
       "    <tr>\n",
       "      <th>1</th>\n",
       "      <td>[0, 0, 1, 0, 1, 0, 1, 1, 0, 1, 1, 0, 0, 1, 1, ...</td>\n",
       "      <td>GQYWEEQFEVLIRIGHLLNIYY</td>\n",
       "      <td>-16.212870</td>\n",
       "      <td>-16.296612</td>\n",
       "      <td>-10.525996</td>\n",
       "      <td>-5.770616</td>\n",
       "    </tr>\n",
       "    <tr>\n",
       "      <th>2</th>\n",
       "      <td>[0, 0, 1, 1, 1, 0, 1, 1, 0, 1, 0, 0, 0, 1, 1, ...</td>\n",
       "      <td>IQEWCNQFNVLFRIGDLLNEYY</td>\n",
       "      <td>-16.245987</td>\n",
       "      <td>-16.462421</td>\n",
       "      <td>-10.939004</td>\n",
       "      <td>-5.523417</td>\n",
       "    </tr>\n",
       "    <tr>\n",
       "      <th>3</th>\n",
       "      <td>[0, 1, 1, 0, 1, 0, 1, 1, 0, 1, 1, 0, 0, 1, 1, ...</td>\n",
       "      <td>QQYWEEQFEVNFRIGHKLNIYY</td>\n",
       "      <td>-16.268166</td>\n",
       "      <td>-16.335552</td>\n",
       "      <td>-10.883296</td>\n",
       "      <td>-5.452256</td>\n",
       "    </tr>\n",
       "    <tr>\n",
       "      <th>4</th>\n",
       "      <td>[0, 0, 1, 1, 1, 0, 1, 1, 0, 1, 1, 0, 0, 1, 1, ...</td>\n",
       "      <td>IQYWCEQFEVLHRIGHLLNEYY</td>\n",
       "      <td>-16.223307</td>\n",
       "      <td>-16.258976</td>\n",
       "      <td>-10.834701</td>\n",
       "      <td>-5.424275</td>\n",
       "    </tr>\n",
       "    <tr>\n",
       "      <th>5</th>\n",
       "      <td>[0, 1, 1, 0, 1, 0, 1, 1, 0, 1, 0, 0, 0, 1, 1, ...</td>\n",
       "      <td>QQEWEEQFEVNFRIGHLLNEYY</td>\n",
       "      <td>-16.316278</td>\n",
       "      <td>-16.462654</td>\n",
       "      <td>-11.043178</td>\n",
       "      <td>-5.419477</td>\n",
       "    </tr>\n",
       "    <tr>\n",
       "      <th>6</th>\n",
       "      <td>[0, 0, 1, 0, 1, 0, 1, 1, 0, 1, 1, 0, 0, 1, 1, ...</td>\n",
       "      <td>GQYWENQFCVNFSIIHLLNEYY</td>\n",
       "      <td>-16.258499</td>\n",
       "      <td>-16.354563</td>\n",
       "      <td>-10.935181</td>\n",
       "      <td>-5.419382</td>\n",
       "    </tr>\n",
       "    <tr>\n",
       "      <th>7</th>\n",
       "      <td>[0, 1, 1, 0, 1, 0, 1, 1, 0, 1, 1, 0, 0, 1, 1, ...</td>\n",
       "      <td>QQYWIEQFEVNFSIGHLLNEEY</td>\n",
       "      <td>-16.241596</td>\n",
       "      <td>-16.337914</td>\n",
       "      <td>-10.931443</td>\n",
       "      <td>-5.406470</td>\n",
       "    </tr>\n",
       "    <tr>\n",
       "      <th>8</th>\n",
       "      <td>[0, 1, 1, 0, 1, 0, 1, 1, 0, 1, 1, 0, 0, 1, 1, ...</td>\n",
       "      <td>QQYWEEQFYVNFRIGHLLNIEY</td>\n",
       "      <td>-16.213057</td>\n",
       "      <td>-16.404175</td>\n",
       "      <td>-11.038857</td>\n",
       "      <td>-5.365317</td>\n",
       "    </tr>\n",
       "    <tr>\n",
       "      <th>9</th>\n",
       "      <td>[0, 0, 1, 0, 1, 0, 1, 1, 0, 1, 1, 0, 0, 1, 1, ...</td>\n",
       "      <td>GQYWEEQFCVNFRIIHLLNEYY</td>\n",
       "      <td>-16.324631</td>\n",
       "      <td>-16.404175</td>\n",
       "      <td>-11.038857</td>\n",
       "      <td>-5.365317</td>\n",
       "    </tr>\n",
       "    <tr>\n",
       "      <th>10</th>\n",
       "      <td>[0, 1, 1, 0, 1, 0, 1, 1, 0, 1, 1, 0, 0, 1, 1, ...</td>\n",
       "      <td>QQYWEEQFCVNFRIGHLLNIEY</td>\n",
       "      <td>-16.275883</td>\n",
       "      <td>-16.404175</td>\n",
       "      <td>-11.038857</td>\n",
       "      <td>-5.365317</td>\n",
       "    </tr>\n",
       "    <tr>\n",
       "      <th>11</th>\n",
       "      <td>[0, 1, 1, 0, 1, 0, 1, 1, 0, 1, 1, 0, 0, 1, 1, ...</td>\n",
       "      <td>QQYWEEQFEVNFSIGHLLNEYY</td>\n",
       "      <td>-16.324010</td>\n",
       "      <td>-16.404175</td>\n",
       "      <td>-11.038857</td>\n",
       "      <td>-5.365317</td>\n",
       "    </tr>\n",
       "    <tr>\n",
       "      <th>12</th>\n",
       "      <td>[0, 1, 1, 0, 1, 0, 1, 1, 0, 1, 1, 0, 0, 1, 1, ...</td>\n",
       "      <td>QQYWCEQFYVNFRIGHLLNEEY</td>\n",
       "      <td>-16.223151</td>\n",
       "      <td>-16.382647</td>\n",
       "      <td>-11.077619</td>\n",
       "      <td>-5.305028</td>\n",
       "    </tr>\n",
       "    <tr>\n",
       "      <th>13</th>\n",
       "      <td>[0, 1, 1, 0, 1, 0, 1, 1, 0, 1, 1, 0, 0, 1, 1, ...</td>\n",
       "      <td>QQYWYEQFEVNFRIGHKLNEEY</td>\n",
       "      <td>-16.232281</td>\n",
       "      <td>-16.112061</td>\n",
       "      <td>-10.912213</td>\n",
       "      <td>-5.199847</td>\n",
       "    </tr>\n",
       "    <tr>\n",
       "      <th>14</th>\n",
       "      <td>[0, 1, 1, 0, 1, 0, 1, 1, 0, 1, 1, 0, 0, 1, 1, ...</td>\n",
       "      <td>QQYWDEQFEVNPREGHKLNEYY</td>\n",
       "      <td>-16.206961</td>\n",
       "      <td>-15.290133</td>\n",
       "      <td>-10.769961</td>\n",
       "      <td>-4.520172</td>\n",
       "    </tr>\n",
       "    <tr>\n",
       "      <th>15</th>\n",
       "      <td>[0, 1, 1, 0, 1, 0, 1, 1, 0, 1, 1, 0, 0, 1, 1, ...</td>\n",
       "      <td>QQYWEEQFEVNPREGHLLNEYY</td>\n",
       "      <td>-16.235620</td>\n",
       "      <td>-15.481420</td>\n",
       "      <td>-11.016707</td>\n",
       "      <td>-4.464712</td>\n",
       "    </tr>\n",
       "    <tr>\n",
       "      <th>16</th>\n",
       "      <td>[0, 1, 1, 0, 1, 0, 1, 1, 0, 1, 1, 0, 0, 1, 1, ...</td>\n",
       "      <td>QQYWCESFEVLFRIGHLLNIEY</td>\n",
       "      <td>-16.268243</td>\n",
       "      <td>-14.991295</td>\n",
       "      <td>-10.817696</td>\n",
       "      <td>-4.173599</td>\n",
       "    </tr>\n",
       "    <tr>\n",
       "      <th>17</th>\n",
       "      <td>[0, 0, 1, 1, 1, 0, 1, 1, 0, 1, 1, 0, 0, 1, 1, ...</td>\n",
       "      <td>IQYWCNQANVNFSIGHLLXCYY</td>\n",
       "      <td>-16.170208</td>\n",
       "      <td>-15.135403</td>\n",
       "      <td>-10.984092</td>\n",
       "      <td>-4.151311</td>\n",
       "    </tr>\n",
       "    <tr>\n",
       "      <th>18</th>\n",
       "      <td>[0, 0, 1, 0, 1, 0, 1, 1, 0, 1, 1, 0, 0, 1, 1, ...</td>\n",
       "      <td>GQYWCNQANYNFSIGHLLNAYY</td>\n",
       "      <td>-16.202584</td>\n",
       "      <td>-15.065392</td>\n",
       "      <td>-10.960334</td>\n",
       "      <td>-4.105058</td>\n",
       "    </tr>\n",
       "    <tr>\n",
       "      <th>19</th>\n",
       "      <td>[0, 1, 1, 0, 1, 0, 1, 1, 0, 1, 1, 0, 0, 1, 1, ...</td>\n",
       "      <td>QQYWENGFNVNGSIGHCLNIEE</td>\n",
       "      <td>-16.210035</td>\n",
       "      <td>-14.612810</td>\n",
       "      <td>-10.511968</td>\n",
       "      <td>-4.100842</td>\n",
       "    </tr>\n",
       "    <tr>\n",
       "      <th>20</th>\n",
       "      <td>[0, 0, 1, 0, 1, 0, 1, 1, 0, 1, 1, 0, 0, 1, 1, ...</td>\n",
       "      <td>GQYWCNQANYNFRIGHKLNFYY</td>\n",
       "      <td>-16.194645</td>\n",
       "      <td>-14.816466</td>\n",
       "      <td>-10.716976</td>\n",
       "      <td>-4.099490</td>\n",
       "    </tr>\n",
       "    <tr>\n",
       "      <th>21</th>\n",
       "      <td>[0, 0, 1, 0, 1, 0, 1, 1, 0, 1, 1, 0, 0, 1, 1, ...</td>\n",
       "      <td>GQYWGNQANYNFSIGDLLNAYY</td>\n",
       "      <td>-16.209948</td>\n",
       "      <td>-14.761234</td>\n",
       "      <td>-10.852389</td>\n",
       "      <td>-3.908845</td>\n",
       "    </tr>\n",
       "    <tr>\n",
       "      <th>22</th>\n",
       "      <td>[0, 0, 1, 0, 1, 0, 1, 1, 0, 1, 1, 0, 0, 1, 1, ...</td>\n",
       "      <td>GQYWIYQASYNFRIGHLLNAYY</td>\n",
       "      <td>-16.172628</td>\n",
       "      <td>-14.809251</td>\n",
       "      <td>-11.014396</td>\n",
       "      <td>-3.794855</td>\n",
       "    </tr>\n",
       "    <tr>\n",
       "      <th>23</th>\n",
       "      <td>[0, 0, 1, 0, 1, 0, 1, 1, 0, 1, 1, 0, 0, 1, 1, ...</td>\n",
       "      <td>GQYWIEQFEYNFSIGHLLNLYY</td>\n",
       "      <td>-16.211130</td>\n",
       "      <td>-14.917197</td>\n",
       "      <td>-11.271240</td>\n",
       "      <td>-3.645957</td>\n",
       "    </tr>\n",
       "    <tr>\n",
       "      <th>24</th>\n",
       "      <td>[0, 1, 1, 1, 1, 0, 1, 1, 0, 1, 1, 0, 0, 1, 1, ...</td>\n",
       "      <td>SQYWENGFNVNFSIGHCLNIEE</td>\n",
       "      <td>-16.209221</td>\n",
       "      <td>-14.412507</td>\n",
       "      <td>-10.859485</td>\n",
       "      <td>-3.553022</td>\n",
       "    </tr>\n",
       "    <tr>\n",
       "      <th>25</th>\n",
       "      <td>[0, 1, 1, 0, 1, 0, 1, 1, 0, 1, 1, 0, 0, 1, 1, ...</td>\n",
       "      <td>QQYWIEIFEVNFSIGHCLNEEE</td>\n",
       "      <td>-16.193319</td>\n",
       "      <td>-14.228858</td>\n",
       "      <td>-10.705166</td>\n",
       "      <td>-3.523692</td>\n",
       "    </tr>\n",
       "    <tr>\n",
       "      <th>26</th>\n",
       "      <td>[0, 1, 1, 0, 1, 0, 1, 1, 0, 1, 1, 0, 0, 1, 1, ...</td>\n",
       "      <td>QQYWIYQFEVNFSEGHCLNEYE</td>\n",
       "      <td>-16.270964</td>\n",
       "      <td>-13.993572</td>\n",
       "      <td>-10.766037</td>\n",
       "      <td>-3.227535</td>\n",
       "    </tr>\n",
       "  </tbody>\n",
       "</table>\n",
       "</div>"
      ],
      "text/plain": [
       "                                              samples                 symbols  \\\n",
       "0   [0, 1, 1, 0, 1, 0, 1, 1, 0, 1, 1, 0, 0, 1, 1, ...  QQYWEEQFEVNFRIGHKQNEYY   \n",
       "1   [0, 0, 1, 0, 1, 0, 1, 1, 0, 1, 1, 0, 0, 1, 1, ...  GQYWEEQFEVLIRIGHLLNIYY   \n",
       "2   [0, 0, 1, 1, 1, 0, 1, 1, 0, 1, 0, 0, 0, 1, 1, ...  IQEWCNQFNVLFRIGDLLNEYY   \n",
       "3   [0, 1, 1, 0, 1, 0, 1, 1, 0, 1, 1, 0, 0, 1, 1, ...  QQYWEEQFEVNFRIGHKLNIYY   \n",
       "4   [0, 0, 1, 1, 1, 0, 1, 1, 0, 1, 1, 0, 0, 1, 1, ...  IQYWCEQFEVLHRIGHLLNEYY   \n",
       "5   [0, 1, 1, 0, 1, 0, 1, 1, 0, 1, 0, 0, 0, 1, 1, ...  QQEWEEQFEVNFRIGHLLNEYY   \n",
       "6   [0, 0, 1, 0, 1, 0, 1, 1, 0, 1, 1, 0, 0, 1, 1, ...  GQYWENQFCVNFSIIHLLNEYY   \n",
       "7   [0, 1, 1, 0, 1, 0, 1, 1, 0, 1, 1, 0, 0, 1, 1, ...  QQYWIEQFEVNFSIGHLLNEEY   \n",
       "8   [0, 1, 1, 0, 1, 0, 1, 1, 0, 1, 1, 0, 0, 1, 1, ...  QQYWEEQFYVNFRIGHLLNIEY   \n",
       "9   [0, 0, 1, 0, 1, 0, 1, 1, 0, 1, 1, 0, 0, 1, 1, ...  GQYWEEQFCVNFRIIHLLNEYY   \n",
       "10  [0, 1, 1, 0, 1, 0, 1, 1, 0, 1, 1, 0, 0, 1, 1, ...  QQYWEEQFCVNFRIGHLLNIEY   \n",
       "11  [0, 1, 1, 0, 1, 0, 1, 1, 0, 1, 1, 0, 0, 1, 1, ...  QQYWEEQFEVNFSIGHLLNEYY   \n",
       "12  [0, 1, 1, 0, 1, 0, 1, 1, 0, 1, 1, 0, 0, 1, 1, ...  QQYWCEQFYVNFRIGHLLNEEY   \n",
       "13  [0, 1, 1, 0, 1, 0, 1, 1, 0, 1, 1, 0, 0, 1, 1, ...  QQYWYEQFEVNFRIGHKLNEEY   \n",
       "14  [0, 1, 1, 0, 1, 0, 1, 1, 0, 1, 1, 0, 0, 1, 1, ...  QQYWDEQFEVNPREGHKLNEYY   \n",
       "15  [0, 1, 1, 0, 1, 0, 1, 1, 0, 1, 1, 0, 0, 1, 1, ...  QQYWEEQFEVNPREGHLLNEYY   \n",
       "16  [0, 1, 1, 0, 1, 0, 1, 1, 0, 1, 1, 0, 0, 1, 1, ...  QQYWCESFEVLFRIGHLLNIEY   \n",
       "17  [0, 0, 1, 1, 1, 0, 1, 1, 0, 1, 1, 0, 0, 1, 1, ...  IQYWCNQANVNFSIGHLLXCYY   \n",
       "18  [0, 0, 1, 0, 1, 0, 1, 1, 0, 1, 1, 0, 0, 1, 1, ...  GQYWCNQANYNFSIGHLLNAYY   \n",
       "19  [0, 1, 1, 0, 1, 0, 1, 1, 0, 1, 1, 0, 0, 1, 1, ...  QQYWENGFNVNGSIGHCLNIEE   \n",
       "20  [0, 0, 1, 0, 1, 0, 1, 1, 0, 1, 1, 0, 0, 1, 1, ...  GQYWCNQANYNFRIGHKLNFYY   \n",
       "21  [0, 0, 1, 0, 1, 0, 1, 1, 0, 1, 1, 0, 0, 1, 1, ...  GQYWGNQANYNFSIGDLLNAYY   \n",
       "22  [0, 0, 1, 0, 1, 0, 1, 1, 0, 1, 1, 0, 0, 1, 1, ...  GQYWIYQASYNFRIGHLLNAYY   \n",
       "23  [0, 0, 1, 0, 1, 0, 1, 1, 0, 1, 1, 0, 0, 1, 1, ...  GQYWIEQFEYNFSIGHLLNLYY   \n",
       "24  [0, 1, 1, 1, 1, 0, 1, 1, 0, 1, 1, 0, 0, 1, 1, ...  SQYWENGFNVNFSIGHCLNIEE   \n",
       "25  [0, 1, 1, 0, 1, 0, 1, 1, 0, 1, 1, 0, 0, 1, 1, ...  QQYWIEIFEVNFSIGHCLNEEE   \n",
       "26  [0, 1, 1, 0, 1, 0, 1, 1, 0, 1, 1, 0, 0, 1, 1, ...  QQYWIYQFEVNFSEGHCLNEYE   \n",
       "\n",
       "    qubo_energy  target_binding_energy  offtarget_binding_energy  \\\n",
       "0    -16.246276             -16.355515                -10.499178   \n",
       "1    -16.212870             -16.296612                -10.525996   \n",
       "2    -16.245987             -16.462421                -10.939004   \n",
       "3    -16.268166             -16.335552                -10.883296   \n",
       "4    -16.223307             -16.258976                -10.834701   \n",
       "5    -16.316278             -16.462654                -11.043178   \n",
       "6    -16.258499             -16.354563                -10.935181   \n",
       "7    -16.241596             -16.337914                -10.931443   \n",
       "8    -16.213057             -16.404175                -11.038857   \n",
       "9    -16.324631             -16.404175                -11.038857   \n",
       "10   -16.275883             -16.404175                -11.038857   \n",
       "11   -16.324010             -16.404175                -11.038857   \n",
       "12   -16.223151             -16.382647                -11.077619   \n",
       "13   -16.232281             -16.112061                -10.912213   \n",
       "14   -16.206961             -15.290133                -10.769961   \n",
       "15   -16.235620             -15.481420                -11.016707   \n",
       "16   -16.268243             -14.991295                -10.817696   \n",
       "17   -16.170208             -15.135403                -10.984092   \n",
       "18   -16.202584             -15.065392                -10.960334   \n",
       "19   -16.210035             -14.612810                -10.511968   \n",
       "20   -16.194645             -14.816466                -10.716976   \n",
       "21   -16.209948             -14.761234                -10.852389   \n",
       "22   -16.172628             -14.809251                -11.014396   \n",
       "23   -16.211130             -14.917197                -11.271240   \n",
       "24   -16.209221             -14.412507                -10.859485   \n",
       "25   -16.193319             -14.228858                -10.705166   \n",
       "26   -16.270964             -13.993572                -10.766037   \n",
       "\n",
       "    binding_energy  \n",
       "0        -5.856337  \n",
       "1        -5.770616  \n",
       "2        -5.523417  \n",
       "3        -5.452256  \n",
       "4        -5.424275  \n",
       "5        -5.419477  \n",
       "6        -5.419382  \n",
       "7        -5.406470  \n",
       "8        -5.365317  \n",
       "9        -5.365317  \n",
       "10       -5.365317  \n",
       "11       -5.365317  \n",
       "12       -5.305028  \n",
       "13       -5.199847  \n",
       "14       -4.520172  \n",
       "15       -4.464712  \n",
       "16       -4.173599  \n",
       "17       -4.151311  \n",
       "18       -4.105058  \n",
       "19       -4.100842  \n",
       "20       -4.099490  \n",
       "21       -3.908845  \n",
       "22       -3.794855  \n",
       "23       -3.645957  \n",
       "24       -3.553022  \n",
       "25       -3.523692  \n",
       "26       -3.227535  "
      ]
     },
     "execution_count": 15,
     "metadata": {},
     "output_type": "execute_result"
    }
   ],
   "source": [
    "top_results = results.sort_values('binding_energy', ignore_index=True)\n",
    "\n",
    "# top_results.to_csv('results_06_12_2022.csv')\n",
    "\n",
    "top_results.drop(columns=['decimal', 'bits', 'num_occurrences'])"
   ]
  },
  {
   "cell_type": "markdown",
   "id": "706f32ac-5376-4bda-9c61-56c7610272db",
   "metadata": {
    "tags": []
   },
   "source": [
    "#### Docking Results"
   ]
  },
  {
   "cell_type": "code",
   "execution_count": 17,
   "id": "aac4956d-4f36-4d60-a035-1aded1359d52",
   "metadata": {},
   "outputs": [
    {
     "data": {
      "text/html": [
       "<div>\n",
       "<style scoped>\n",
       "    .dataframe tbody tr th:only-of-type {\n",
       "        vertical-align: middle;\n",
       "    }\n",
       "\n",
       "    .dataframe tbody tr th {\n",
       "        vertical-align: top;\n",
       "    }\n",
       "\n",
       "    .dataframe thead th {\n",
       "        text-align: right;\n",
       "    }\n",
       "</style>\n",
       "<table border=\"1\" class=\"dataframe\">\n",
       "  <thead>\n",
       "    <tr style=\"text-align: right;\">\n",
       "      <th></th>\n",
       "      <th>peptide_index</th>\n",
       "      <th>peptide</th>\n",
       "      <th>target_binding_energy</th>\n",
       "      <th>tool</th>\n",
       "      <th>target</th>\n",
       "      <th>model_1</th>\n",
       "      <th>model_2</th>\n",
       "      <th>model_3</th>\n",
       "      <th>model_4</th>\n",
       "      <th>model_5</th>\n",
       "      <th>model_6</th>\n",
       "      <th>model_7</th>\n",
       "      <th>model_8</th>\n",
       "      <th>model_9</th>\n",
       "      <th>model_10</th>\n",
       "    </tr>\n",
       "  </thead>\n",
       "  <tbody>\n",
       "    <tr>\n",
       "      <th>0</th>\n",
       "      <td>1</td>\n",
       "      <td>GRYWCEQGQCLHMIGDNGNANW</td>\n",
       "      <td>-14.87</td>\n",
       "      <td>HPEPDOCK</td>\n",
       "      <td>m1</td>\n",
       "      <td>-231.9</td>\n",
       "      <td>-226.9</td>\n",
       "      <td>-222.7</td>\n",
       "      <td>-221.2</td>\n",
       "      <td>-219.6</td>\n",
       "      <td>-219.0</td>\n",
       "      <td>-217.8</td>\n",
       "      <td>-217.6</td>\n",
       "      <td>-216.5</td>\n",
       "      <td>-213.8</td>\n",
       "    </tr>\n",
       "    <tr>\n",
       "      <th>1</th>\n",
       "      <td>1</td>\n",
       "      <td>GRYWCEQGQCLHMIGDNGNANW</td>\n",
       "      <td>-14.87</td>\n",
       "      <td>HPEPDOCK</td>\n",
       "      <td>f100</td>\n",
       "      <td>-208.4</td>\n",
       "      <td>-205.7</td>\n",
       "      <td>-201.0</td>\n",
       "      <td>-199.9</td>\n",
       "      <td>-198.6</td>\n",
       "      <td>-197.2</td>\n",
       "      <td>-196.9</td>\n",
       "      <td>-196.0</td>\n",
       "      <td>-194.8</td>\n",
       "      <td>-194.6</td>\n",
       "    </tr>\n",
       "    <tr>\n",
       "      <th>2</th>\n",
       "      <td>1</td>\n",
       "      <td>GRYWCEQGQCLHMIGDNGNANW</td>\n",
       "      <td>-14.87</td>\n",
       "      <td>HPEPDOCK</td>\n",
       "      <td>x1</td>\n",
       "      <td>-231.9</td>\n",
       "      <td>-229.7</td>\n",
       "      <td>-226.4</td>\n",
       "      <td>-225.4</td>\n",
       "      <td>-224.0</td>\n",
       "      <td>-223.2</td>\n",
       "      <td>-223.0</td>\n",
       "      <td>-220.7</td>\n",
       "      <td>-220.5</td>\n",
       "      <td>-218.6</td>\n",
       "    </tr>\n",
       "    <tr>\n",
       "      <th>3</th>\n",
       "      <td>1</td>\n",
       "      <td>GRYWCEQGQCLHMIGDNGNANW</td>\n",
       "      <td>-14.87</td>\n",
       "      <td>MDockPeP</td>\n",
       "      <td>m1</td>\n",
       "      <td>-220.5</td>\n",
       "      <td>-220.4</td>\n",
       "      <td>-218.6</td>\n",
       "      <td>-218.0</td>\n",
       "      <td>-218.0</td>\n",
       "      <td>-217.7</td>\n",
       "      <td>-217.5</td>\n",
       "      <td>-217.2</td>\n",
       "      <td>-216.9</td>\n",
       "      <td>-214.7</td>\n",
       "    </tr>\n",
       "    <tr>\n",
       "      <th>4</th>\n",
       "      <td>1</td>\n",
       "      <td>GRYWCEQGQCLHMIGDNGNANW</td>\n",
       "      <td>-14.87</td>\n",
       "      <td>MDockPeP</td>\n",
       "      <td>f100</td>\n",
       "      <td>-225.0</td>\n",
       "      <td>-220.2</td>\n",
       "      <td>-216.4</td>\n",
       "      <td>-216.1</td>\n",
       "      <td>-214.6</td>\n",
       "      <td>-214.1</td>\n",
       "      <td>-212.5</td>\n",
       "      <td>-210.9</td>\n",
       "      <td>-210.7</td>\n",
       "      <td>-210.2</td>\n",
       "    </tr>\n",
       "  </tbody>\n",
       "</table>\n",
       "</div>"
      ],
      "text/plain": [
       "   peptide_index                 peptide  target_binding_energy      tool  \\\n",
       "0              1  GRYWCEQGQCLHMIGDNGNANW                 -14.87  HPEPDOCK   \n",
       "1              1  GRYWCEQGQCLHMIGDNGNANW                 -14.87  HPEPDOCK   \n",
       "2              1  GRYWCEQGQCLHMIGDNGNANW                 -14.87  HPEPDOCK   \n",
       "3              1  GRYWCEQGQCLHMIGDNGNANW                 -14.87  MDockPeP   \n",
       "4              1  GRYWCEQGQCLHMIGDNGNANW                 -14.87  MDockPeP   \n",
       "\n",
       "  target  model_1  model_2  model_3  model_4  model_5  model_6  model_7  \\\n",
       "0     m1   -231.9   -226.9   -222.7   -221.2   -219.6   -219.0   -217.8   \n",
       "1   f100   -208.4   -205.7   -201.0   -199.9   -198.6   -197.2   -196.9   \n",
       "2     x1   -231.9   -229.7   -226.4   -225.4   -224.0   -223.2   -223.0   \n",
       "3     m1   -220.5   -220.4   -218.6   -218.0   -218.0   -217.7   -217.5   \n",
       "4   f100   -225.0   -220.2   -216.4   -216.1   -214.6   -214.1   -212.5   \n",
       "\n",
       "   model_8  model_9  model_10  \n",
       "0   -217.6   -216.5    -213.8  \n",
       "1   -196.0   -194.8    -194.6  \n",
       "2   -220.7   -220.5    -218.6  \n",
       "3   -217.2   -216.9    -214.7  \n",
       "4   -210.9   -210.7    -210.2  "
      ]
     },
     "execution_count": 17,
     "metadata": {},
     "output_type": "execute_result"
    }
   ],
   "source": [
    "docking_results = pd.read_csv('../chemistry/results/docking_results_19_12_2022.csv')\n",
    "\n",
    "docking_results.head()"
   ]
  },
  {
   "cell_type": "code",
   "execution_count": 18,
   "id": "9fe5d3e4-bd33-488b-a7a0-7d2f8bfd0532",
   "metadata": {},
   "outputs": [
    {
     "data": {
      "text/html": [
       "<div>\n",
       "<style scoped>\n",
       "    .dataframe tbody tr th:only-of-type {\n",
       "        vertical-align: middle;\n",
       "    }\n",
       "\n",
       "    .dataframe tbody tr th {\n",
       "        vertical-align: top;\n",
       "    }\n",
       "\n",
       "    .dataframe thead th {\n",
       "        text-align: right;\n",
       "    }\n",
       "</style>\n",
       "<table border=\"1\" class=\"dataframe\">\n",
       "  <thead>\n",
       "    <tr style=\"text-align: right;\">\n",
       "      <th></th>\n",
       "      <th>peptide</th>\n",
       "      <th>target_binding_energy</th>\n",
       "    </tr>\n",
       "  </thead>\n",
       "  <tbody>\n",
       "    <tr>\n",
       "      <th>0</th>\n",
       "      <td>GRYWCEQGQCLHMIGDNGNANW</td>\n",
       "      <td>-14.87</td>\n",
       "    </tr>\n",
       "    <tr>\n",
       "      <th>6</th>\n",
       "      <td>GRYWEGQGSCLHRIGDNGNCNW</td>\n",
       "      <td>-14.86</td>\n",
       "    </tr>\n",
       "    <tr>\n",
       "      <th>12</th>\n",
       "      <td>GQSADDIIAQLIRMADDHQAQY</td>\n",
       "      <td>-9.32</td>\n",
       "    </tr>\n",
       "    <tr>\n",
       "      <th>18</th>\n",
       "      <td>GQWKREIGALLRRPADKLNAQF</td>\n",
       "      <td>-9.10</td>\n",
       "    </tr>\n",
       "  </tbody>\n",
       "</table>\n",
       "</div>"
      ],
      "text/plain": [
       "                   peptide  target_binding_energy\n",
       "0   GRYWCEQGQCLHMIGDNGNANW                 -14.87\n",
       "6   GRYWEGQGSCLHRIGDNGNCNW                 -14.86\n",
       "12  GQSADDIIAQLIRMADDHQAQY                  -9.32\n",
       "18  GQWKREIGALLRRPADKLNAQF                  -9.10"
      ]
     },
     "execution_count": 18,
     "metadata": {},
     "output_type": "execute_result"
    }
   ],
   "source": [
    "peptide_enegries = docking_results[['peptide', 'target_binding_energy']].drop_duplicates()\n",
    "\n",
    "peptide_enegries"
   ]
  },
  {
   "cell_type": "code",
   "execution_count": 19,
   "id": "ed95ef1f-c5ab-4c39-9fa1-75d8717cf1c8",
   "metadata": {},
   "outputs": [
    {
     "data": {
      "text/plain": [
       "0    HPEPDOCK\n",
       "3    MDockPeP\n",
       "Name: tool, dtype: object"
      ]
     },
     "execution_count": 19,
     "metadata": {},
     "output_type": "execute_result"
    }
   ],
   "source": [
    "docking_tools = docking_results['tool'].drop_duplicates()\n",
    "\n",
    "docking_tools"
   ]
  },
  {
   "cell_type": "code",
   "execution_count": 20,
   "id": "da035892-42be-4dd0-a792-9421783acd8f",
   "metadata": {},
   "outputs": [
    {
     "data": {
      "text/plain": [
       "0      m1\n",
       "1    f100\n",
       "2      x1\n",
       "Name: target, dtype: object"
      ]
     },
     "execution_count": 20,
     "metadata": {},
     "output_type": "execute_result"
    }
   ],
   "source": [
    "targets = docking_results['target'].drop_duplicates()\n",
    "\n",
    "targets"
   ]
  },
  {
   "cell_type": "code",
   "execution_count": 21,
   "id": "f031a9f0-9455-4ba2-bec5-40202c400f65",
   "metadata": {},
   "outputs": [
    {
     "data": {
      "image/png": "[encoded data removed]",
      "text/plain": [
       "<Figure size 864x864 with 8 Axes>"
      ]
     },
     "metadata": {
      "needs_background": "dark"
     },
     "output_type": "display_data"
    }
   ],
   "source": [
    "COLORS = {'m1': 'C1',\n",
    "          'f100': 'C2',\n",
    "          'x1': 'C3'}\n",
    "\n",
    "RANKS = dict(zip(peptide_enegries.peptide, \n",
    "                 ['Top-1', 'Top-2', 'Bottom-2', 'Bottom-1']))\n",
    "\n",
    "figure, axes = plt.subplots(nrows=4, ncols=2,\n",
    "                            # sharey=True,\n",
    "                            sharex=True,\n",
    "                            figsize=(12, 12))\n",
    "\n",
    "figure.suptitle('Binding Energies - HPEPDOCK and MDockPeP', y=0.93)\n",
    "\n",
    "for column_index, docking_tool in enumerate(docking_tools):\n",
    "    \n",
    "    # axes[0, column_index].set_title(docking_tool)\n",
    "    \n",
    "    for row_index, peptide in enumerate(peptide_enegries.peptide):\n",
    "        \n",
    "        axes[row_index, column_index].set_title(RANKS[peptide] + ' - ' + peptide)\n",
    "        \n",
    "        axes[row_index, 0].set_ylabel('Energy')\n",
    "\n",
    "        target_binding_energies = docking_results[(docking_results.tool == docking_tool) & \n",
    "                                                  (docking_results.peptide == peptide)]\n",
    "        \n",
    "        targets_energies = target_binding_energies.filter(regex='^target$|^model_')\n",
    "\n",
    "        targets_energies.set_index('target', inplace=True)\n",
    "        \n",
    "        for target, target_energies in targets_energies.T.items():\n",
    "            \n",
    "            color = COLORS[target]\n",
    "\n",
    "            axes[row_index, column_index].plot(target_energies.to_numpy(), label=target, color=color)\n",
    "            \n",
    "            axes[row_index, column_index].legend()\n",
    "\n",
    "        # energies = target_binding_energies.filter(like='model_').to_numpy()\n",
    "\n",
    "        # axes[row_index, column_index].plot(energies.T)\n",
    "        # axes[row_index, column_index].xaxis.set_visible(False)\n",
    "\n",
    "        # axes[row_index, column_index].axis('off')\n",
    "        # axes[row_index, column_index].set_ylabel('Energy')\n",
    "   \n",
    "    axes[row_index, column_index].set_xlabel(\"Model\")"
   ]
  },
  {
   "cell_type": "markdown",
   "id": "25173f81-52e8-423c-bcb8-f36ac83f9f12",
   "metadata": {
    "tags": []
   },
   "source": [
    "#### Full Results"
   ]
  },
  {
   "cell_type": "code",
   "execution_count": 22,
   "id": "f24152d0-dfbf-47f3-8111-b5f5b7de18fa",
   "metadata": {},
   "outputs": [],
   "source": [
    "results_records = []\n",
    "\n",
    "for fields, target in zip(target_dataset.fields, target_dataset.targets):\n",
    "    \n",
    "    symbols = target_dataset.decode(fields)\n",
    "    \n",
    "    results_record = {'symbols': symbols,\n",
    "                      'target_binding_energy': target}\n",
    "    \n",
    "    results_records.append(results_record)"
   ]
  },
  {
   "cell_type": "code",
   "execution_count": 23,
   "id": "baa0a336-3082-4f41-a578-d466901f99b3",
   "metadata": {},
   "outputs": [
    {
     "data": {
      "text/html": [
       "<div>\n",
       "<style scoped>\n",
       "    .dataframe tbody tr th:only-of-type {\n",
       "        vertical-align: middle;\n",
       "    }\n",
       "\n",
       "    .dataframe tbody tr th {\n",
       "        vertical-align: top;\n",
       "    }\n",
       "\n",
       "    .dataframe thead th {\n",
       "        text-align: right;\n",
       "    }\n",
       "</style>\n",
       "<table border=\"1\" class=\"dataframe\">\n",
       "  <thead>\n",
       "    <tr style=\"text-align: right;\">\n",
       "      <th></th>\n",
       "      <th>symbols</th>\n",
       "      <th>target_binding_energy</th>\n",
       "    </tr>\n",
       "  </thead>\n",
       "  <tbody>\n",
       "    <tr>\n",
       "      <th>0</th>\n",
       "      <td>QQEWEEQFYVNFRIGHLLNEYY</td>\n",
       "      <td>-16.462654</td>\n",
       "    </tr>\n",
       "    <tr>\n",
       "      <th>1</th>\n",
       "      <td>QQEWEEQFEVNFRIGHLLNEYY</td>\n",
       "      <td>-16.462654</td>\n",
       "    </tr>\n",
       "    <tr>\n",
       "      <th>2</th>\n",
       "      <td>IQEWCNQFNVLFRIGDLLNEYY</td>\n",
       "      <td>-16.462421</td>\n",
       "    </tr>\n",
       "    <tr>\n",
       "      <th>3</th>\n",
       "      <td>QQYWCEQFNVNPRIGHLLNEEY</td>\n",
       "      <td>-16.423288</td>\n",
       "    </tr>\n",
       "    <tr>\n",
       "      <th>4</th>\n",
       "      <td>QQYWEEQFYVNFRIGHLLNEYY</td>\n",
       "      <td>-16.404175</td>\n",
       "    </tr>\n",
       "  </tbody>\n",
       "</table>\n",
       "</div>"
      ],
      "text/plain": [
       "                  symbols  target_binding_energy\n",
       "0  QQEWEEQFYVNFRIGHLLNEYY             -16.462654\n",
       "1  QQEWEEQFEVNFRIGHLLNEYY             -16.462654\n",
       "2  IQEWCNQFNVLFRIGDLLNEYY             -16.462421\n",
       "3  QQYWCEQFNVNPRIGHLLNEEY             -16.423288\n",
       "4  QQYWEEQFYVNFRIGHLLNEYY             -16.404175"
      ]
     },
     "execution_count": 23,
     "metadata": {},
     "output_type": "execute_result"
    }
   ],
   "source": [
    "full_results = pd.DataFrame(results_records)\n",
    "full_results = full_results.drop_duplicates()\n",
    "full_results = full_results.sort_values('target_binding_energy', ignore_index=True)\n",
    "\n",
    "full_results.head()"
   ]
  },
  {
   "cell_type": "code",
   "execution_count": 25,
   "id": "a0250989-2901-4324-b691-36c4adb2461d",
   "metadata": {},
   "outputs": [
    {
     "data": {
      "text/html": [
       "<div>\n",
       "<style scoped>\n",
       "    .dataframe tbody tr th:only-of-type {\n",
       "        vertical-align: middle;\n",
       "    }\n",
       "\n",
       "    .dataframe tbody tr th {\n",
       "        vertical-align: top;\n",
       "    }\n",
       "\n",
       "    .dataframe thead th {\n",
       "        text-align: right;\n",
       "    }\n",
       "</style>\n",
       "<table border=\"1\" class=\"dataframe\">\n",
       "  <thead>\n",
       "    <tr style=\"text-align: right;\">\n",
       "      <th></th>\n",
       "      <th>symbols</th>\n",
       "      <th>target_binding_energy</th>\n",
       "    </tr>\n",
       "  </thead>\n",
       "  <tbody>\n",
       "    <tr>\n",
       "      <th>0</th>\n",
       "      <td>QQEWEEQFYVNFRIGHLLNEYY</td>\n",
       "      <td>-16.462654</td>\n",
       "    </tr>\n",
       "  </tbody>\n",
       "</table>\n",
       "</div>"
      ],
      "text/plain": [
       "                  symbols  target_binding_energy\n",
       "0  QQEWEEQFYVNFRIGHLLNEYY             -16.462654"
      ]
     },
     "execution_count": 25,
     "metadata": {},
     "output_type": "execute_result"
    }
   ],
   "source": [
    "full_results.loc[full_results.symbols == 'QQEWEEQFYVNFRIGHLLNEYY']"
   ]
  },
  {
   "cell_type": "code",
   "execution_count": 113,
   "id": "e6a8a266-07c7-44d4-8f73-f8a9bd05231b",
   "metadata": {},
   "outputs": [],
   "source": [
    "# full_results.to_csv('results_15_12_2022.csv')"
   ]
  },
  {
   "cell_type": "markdown",
   "id": "c8151107-c0ba-4908-b414-d2635fb493c2",
   "metadata": {
    "tags": []
   },
   "source": [
    "### 1.0) Train XGBoost Regressors"
   ]
  },
  {
   "cell_type": "code",
   "execution_count": null,
   "id": "95091915-3cb2-40c4-b999-3adb2576f4c8",
   "metadata": {},
   "outputs": [],
   "source": [
    "# Train Regressors Classic\n",
    "\n",
    "import xgboost as xgb\n",
    "\n",
    "from sklearn.metrics import r2_score\n",
    "from sklearn.model_selection import train_test_split\n",
    "\n",
    "\n",
    "# MAX_DEPTH = 7\n",
    "ESTIMATORS_COUNT = 1000\n",
    "\n",
    "\n",
    "regressors = dict()\n",
    "regressor_r2_scores = []\n",
    "\n",
    "for dataset_name, dataset in datasets.items():\n",
    "    \n",
    "    print(\"dataset_name:\", dataset_name)\n",
    "\n",
    "    regressor = xgb.XGBRegressor(eval_metric=r2_score, \n",
    "                                 # max_depth=MAX_DEPTH, \n",
    "                                 n_estimators=ESTIMATORS_COUNT\n",
    "                                )\n",
    "    \n",
    "    train_fields, test_fields, train_targets, test_targets = train_test_split(dataset.fields,\n",
    "                                                                              dataset.targets,\n",
    "                                                                              test_size=0.2)\n",
    "    regressor.fit(train_fields, train_targets)\n",
    "    \n",
    "    regressors[dataset_name] = {'regressor': regressor}\n",
    "    \n",
    "    score = regressor.score(test_fields, test_targets)\n",
    "\n",
    "    regressor_r2_scores.append(score)\n",
    "    \n",
    "print(\"regressor_r2_scores:\", regressor_r2_scores)\n",
    "\n",
    "\n",
    "# dataset_name: f100\n",
    "# dataset_name: m1\n",
    "# dataset_name: x1\n",
    "# regressor_r2_scores: [0.40288274970605686, 0.6405254022927871, 0.5571315473724631]\n",
    "\n",
    "# regressor_r2_scores: [0.5828579231036269, 0.8218700057365956, 0.5695950876325806, 0.49032957742570915]"
   ]
  },
  {
   "cell_type": "code",
   "execution_count": null,
   "id": "5c84f4a7-44db-4c0f-9d46-63fdf9b1c071",
   "metadata": {},
   "outputs": [],
   "source": [
    "# # Save Regressors Classic\n",
    "\n",
    "# with open('regressors_classic.pkl', 'wb') as handle:\n",
    "#     pickle.dump(regressors, handle, protocol=pickle.HIGHEST_PROTOCOL)"
   ]
  },
  {
   "cell_type": "markdown",
   "id": "e43dc029-62b1-46a5-9894-95a220239358",
   "metadata": {
    "tags": []
   },
   "source": [
    "### 1.1) FM Models Comparison"
   ]
  },
  {
   "cell_type": "markdown",
   "id": "3f35c802-de80-4f1d-a33a-4941aca018b8",
   "metadata": {
    "tags": []
   },
   "source": [
    "#### Comparison - One Hot to One Cold"
   ]
  },
  {
   "cell_type": "code",
   "execution_count": 28,
   "id": "d0bd0e06-1a90-49cf-92cb-dc01891a11d5",
   "metadata": {},
   "outputs": [],
   "source": [
    "%run ../modules/fm.ipynb\n",
    "%run ../modules/trainer.ipynb\n",
    "\n",
    "dataset = ProteinsDataset(fields_column='protein')\n",
    "dataset.extend('../chemistry/datasets/m1.csv')\n",
    "\n",
    "splitter = Splitter(dataset, batch_size=100)"
   ]
  },
  {
   "cell_type": "markdown",
   "id": "88f3728e-872e-4a0a-80df-88a58459d5ea",
   "metadata": {
    "tags": []
   },
   "source": [
    "#### 1) One Hot"
   ]
  },
  {
   "cell_type": "code",
   "execution_count": 29,
   "id": "94f27e55-f567-404c-a061-fc1b3cd4befd",
   "metadata": {
    "tags": []
   },
   "outputs": [],
   "source": [
    "model = OneHotFactorizationMachine(\n",
    "    field_dimensions=splitter.dataset.field_dimensions,\n",
    "    embedding_dimensions=16, \n",
    "    include_linear=False\n",
    ")\n",
    "\n",
    "one_hot_trainer = Trainer(splitter=splitter, model=model)"
   ]
  },
  {
   "cell_type": "code",
   "execution_count": 30,
   "id": "b7a8158e-9825-4815-9a57-9e45aa09427c",
   "metadata": {
    "tags": []
   },
   "outputs": [
    {
     "name": "stderr",
     "output_type": "stream",
     "text": [
      "Epoch: 300/300: 100%|███████████████████████████████████████| 810k/810k [00:35<00:00, 23.0k records/s, v=0.48]"
     ]
    },
    {
     "name": "stdout",
     "output_type": "stream",
     "text": [
      "Train r2_score: 0.77\n",
      "Test  r2_score: 0.57\n"
     ]
    },
    {
     "name": "stderr",
     "output_type": "stream",
     "text": [
      "\n"
     ]
    }
   ],
   "source": [
    "EPOCHS_COUNT = 300\n",
    "\n",
    "one_hot_trainer.train(epochs=EPOCHS_COUNT, validate=True)\n",
    "\n",
    "one_hot_scores = one_hot_trainer.validation_scores"
   ]
  },
  {
   "cell_type": "markdown",
   "id": "4404e37b-40d1-464c-bed9-ea98edb27aad",
   "metadata": {},
   "source": [
    "#### 2) One Hot + Linear"
   ]
  },
  {
   "cell_type": "code",
   "execution_count": 31,
   "id": "ed6a375b-31d5-4269-b230-3a4f64fb1da2",
   "metadata": {},
   "outputs": [],
   "source": [
    "model = OneHotFactorizationMachine(\n",
    "    field_dimensions=splitter.dataset.field_dimensions,\n",
    "    embedding_dimensions=16, \n",
    "    include_linear=True\n",
    ")\n",
    "\n",
    "one_hot_linear_trainer = Trainer(splitter=splitter, model=model)"
   ]
  },
  {
   "cell_type": "code",
   "execution_count": 32,
   "id": "5f01712f-c515-4dfd-b311-02f8a670c861",
   "metadata": {},
   "outputs": [
    {
     "name": "stderr",
     "output_type": "stream",
     "text": [
      "Epoch: 300/300: 100%|███████████████████████████████████████| 810k/810k [00:48<00:00, 16.6k records/s, v=0.45]"
     ]
    },
    {
     "name": "stdout",
     "output_type": "stream",
     "text": [
      "Train r2_score: 0.70\n",
      "Test  r2_score: 0.50\n"
     ]
    },
    {
     "name": "stderr",
     "output_type": "stream",
     "text": [
      "\n"
     ]
    }
   ],
   "source": [
    "EPOCHS_COUNT = 300\n",
    "\n",
    "one_hot_linear_trainer.train(epochs=EPOCHS_COUNT, validate=True)\n",
    "\n",
    "one_hot_linear_scores = one_hot_linear_trainer.validation_scores"
   ]
  },
  {
   "cell_type": "markdown",
   "id": "ec586ffc-c5a0-4af0-aa4c-80efc95e2030",
   "metadata": {},
   "source": [
    "#### 3) One Cold"
   ]
  },
  {
   "cell_type": "code",
   "execution_count": 33,
   "id": "bd987461-cbb8-4c08-a862-b2642017866d",
   "metadata": {},
   "outputs": [],
   "source": [
    "model = OneColdFactorizationMachine(\n",
    "    field_dimensions=splitter.dataset.field_dimensions,\n",
    "    embedding_dimensions=16, \n",
    "    include_linear=False\n",
    ")\n",
    "\n",
    "one_cold_trainer = Trainer(splitter=splitter, model=model)"
   ]
  },
  {
   "cell_type": "code",
   "execution_count": 34,
   "id": "96063acb-ca19-4686-9323-d4b741103549",
   "metadata": {
    "tags": []
   },
   "outputs": [
    {
     "name": "stderr",
     "output_type": "stream",
     "text": [
      "Epoch: 300/300: 100%|███████████████████████████████████████| 810k/810k [00:25<00:00, 32.1k records/s, v=0.53]"
     ]
    },
    {
     "name": "stdout",
     "output_type": "stream",
     "text": [
      "Train r2_score: 0.76\n",
      "Test  r2_score: 0.55\n"
     ]
    },
    {
     "name": "stderr",
     "output_type": "stream",
     "text": [
      "\n"
     ]
    }
   ],
   "source": [
    "EPOCHS_COUNT = 300\n",
    "\n",
    "one_cold_trainer.train(epochs=EPOCHS_COUNT, validate=True)\n",
    "\n",
    "one_cold_scores = one_cold_trainer.validation_scores"
   ]
  },
  {
   "cell_type": "markdown",
   "id": "8db0512a-fd11-428a-9885-38d9f672d3ce",
   "metadata": {},
   "source": [
    "#### 4) One Cold + Linear"
   ]
  },
  {
   "cell_type": "code",
   "execution_count": 35,
   "id": "2bd646c2-fa34-4df1-b65f-8d8713b2ecf2",
   "metadata": {},
   "outputs": [],
   "source": [
    "model = OneColdFactorizationMachine(\n",
    "    field_dimensions=splitter.dataset.field_dimensions,\n",
    "    embedding_dimensions=16, \n",
    "    include_linear=True\n",
    ")\n",
    "\n",
    "one_cold_linear_trainer = Trainer(splitter=splitter, model=model)"
   ]
  },
  {
   "cell_type": "code",
   "execution_count": 36,
   "id": "c680262a-ed94-4e42-8d33-3c46ce9e597f",
   "metadata": {},
   "outputs": [
    {
     "name": "stderr",
     "output_type": "stream",
     "text": [
      "Epoch: 300/300: 100%|███████████████████████████████████████| 810k/810k [00:30<00:00, 26.7k records/s, v=0.54]"
     ]
    },
    {
     "name": "stdout",
     "output_type": "stream",
     "text": [
      "Train r2_score: 0.76\n",
      "Test  r2_score: 0.59\n"
     ]
    },
    {
     "name": "stderr",
     "output_type": "stream",
     "text": [
      "\n"
     ]
    }
   ],
   "source": [
    "EPOCHS_COUNT = 300\n",
    "\n",
    "one_cold_linear_trainer.train(epochs=EPOCHS_COUNT, validate=True)\n",
    "\n",
    "one_cold_linear_scores = one_cold_linear_trainer.validation_scores"
   ]
  },
  {
   "cell_type": "code",
   "execution_count": null,
   "id": "8107447a-dc80-4561-961c-fc6483c59651",
   "metadata": {},
   "outputs": [],
   "source": []
  },
  {
   "cell_type": "markdown",
   "id": "2ba0fb5f-f923-446a-b2f3-0f79a08e8ad7",
   "metadata": {},
   "source": [
    "#### 5) Comparison Plot"
   ]
  },
  {
   "cell_type": "code",
   "execution_count": 42,
   "id": "56f0bbee-af66-4618-b0a6-cae49615c421",
   "metadata": {},
   "outputs": [
    {
     "data": {
      "image/png": "[encoded data removed]",
      "text/plain": [
       "<Figure size 720x360 with 1 Axes>"
      ]
     },
     "metadata": {
      "needs_background": "dark"
     },
     "output_type": "display_data"
    }
   ],
   "source": [
    "plt.subplots(figsize=(10, 5))\n",
    "\n",
    "plt.plot(one_cold_scores, label='One Cold', color='C4', lw=3, alpha=0.8)\n",
    "plt.plot(one_cold_linear_scores, label='One Cold + Linear', color='C0', lw=3, alpha=0.8)\n",
    "plt.plot(one_hot_scores, label='One Hot', color='C5', lw=3, alpha=0.75)\n",
    "plt.plot(one_hot_linear_scores, label='One Hot + Linear', color='C1', lw=3, alpha=0.75)\n",
    "\n",
    "plt.ylim(ymin=0, ymax=0.6)\n",
    "# plt.xlim(xmax=350)\n",
    "\n",
    "plt.title(\"Validation R2 Score Evolution\")\n",
    "plt.xlabel(\"Epoch\")\n",
    "plt.ylabel(\"R2 Score\")\n",
    "\n",
    "plt.legend()\n",
    "plt.show()"
   ]
  },
  {
   "cell_type": "code",
   "execution_count": null,
   "id": "02019f6b-b40c-4e8b-b80b-32ca6bb03483",
   "metadata": {},
   "outputs": [],
   "source": []
  },
  {
   "cell_type": "code",
   "execution_count": null,
   "id": "1715dfb1-1aa0-4b11-98ce-069ef5cd78b9",
   "metadata": {},
   "outputs": [],
   "source": []
  },
  {
   "cell_type": "code",
   "execution_count": null,
   "id": "7dc2b18a-b772-471f-abf8-8dd20d112a03",
   "metadata": {},
   "outputs": [],
   "source": []
  }
 ],
 "metadata": {
  "kernelspec": {
   "display_name": "FMQA",
   "language": "python",
   "name": "fmqa"
  },
  "language_info": {
   "codemirror_mode": {
    "name": "ipython",
    "version": 3
   },
   "file_extension": ".py",
   "mimetype": "text/x-python",
   "name": "python",
   "nbconvert_exporter": "python",
   "pygments_lexer": "ipython3",
   "version": "3.12.3"
  }
 },
 "nbformat": 4,
 "nbformat_minor": 5
}
